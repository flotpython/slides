{
 "cells": [
  {
   "cell_type": "markdown",
   "metadata": {
    "run_control": {
     "frozen": false,
     "read_only": false
    },
    "slideshow": {
     "slide_type": "slide"
    }
   },
   "source": [
    "<div class=\"licence\">\n",
    "<span>Licence CC BY-NC-ND</span>\n",
    "<span>Thierry Parmentelat</span>\n",
    "</div>"
   ]
  },
  {
   "cell_type": "code",
   "execution_count": null,
   "metadata": {},
   "outputs": [],
   "source": [
    "from plan import plan_extras; plan_extras(\"doc\", \"outils\")"
   ]
  },
  {
   "cell_type": "markdown",
   "metadata": {
    "run_control": {
     "frozen": false,
     "read_only": false
    },
    "slideshow": {
     "slide_type": "slide"
    }
   },
   "source": [
    "# génération de documentation"
   ]
  },
  {
   "cell_type": "markdown",
   "metadata": {
    "run_control": {
     "frozen": false,
     "read_only": false
    },
    "slideshow": {
     "slide_type": "-"
    }
   },
   "source": [
    "* PEPs\n",
    "* outils de génération de documents\n",
    "  * [doxygen](http://www.stack.nl/~dimitri/doxygen/) (non détaillé)\n",
    "  * [sphinx](http://www.sphinx-doc.org/en/stable/)\n",
    "  * [mkdocs](http://www.mkdocs.org/): plus orienté markdown (non détaillé)\n",
    "* langages de markup : reST, markdown et doctest\n",
    "* styles de docstrings : reST, google et numpy\n",
    "* readthedocs.io (infra / présentation séparée)"
   ]
  },
  {
   "cell_type": "markdown",
   "metadata": {
    "run_control": {
     "frozen": false,
     "read_only": false
    },
    "slideshow": {
     "slide_type": "slide"
    }
   },
   "source": [
    "# PEPs\n",
    "\n",
    "* [PEP8](https://www.python.org/dev/peps/pep-0008/#documentation-strings)\n",
    "\n",
    "pas très bavard sur le sujet, mentionne simplement\n",
    "\n",
    "* quels objets doivent avoir un docstring \n",
    "  * correspond à l'interface publique / visible de l'extérieur\n",
    "  * l'utilisation de `\"\"\"` plutôt que `'''`\n",
    "  * et renvoie pour l'essentiel à PEP 257"
   ]
  },
  {
   "cell_type": "markdown",
   "metadata": {
    "run_control": {
     "frozen": false,
     "read_only": false
    },
    "slideshow": {
     "slide_type": "slide"
    }
   },
   "source": [
    "* [PEP257](https://www.python.org/dev/peps/pep-0257/)\n",
    "qui se dépêche de préciser les contours:\n",
    "\n",
    "> The aim of this PEP is to standardize the high-level structure of docstrings: what they should contain, and how to say it (without touching on any markup syntax within docstrings). The PEP contains conventions, not laws or syntax."
   ]
  },
  {
   "cell_type": "markdown",
   "metadata": {
    "run_control": {
     "frozen": false,
     "read_only": false
    }
   },
   "source": [
    "et heureusement sans doute !\n",
    "\n",
    "* imaginez à quoi ressemblerait le markup si on l'avait décidé en 2001\n",
    "* une époque où on pensait que le wiki est une idée géniale.."
   ]
  },
  {
   "cell_type": "markdown",
   "metadata": {
    "run_control": {
     "frozen": false,
     "read_only": false
    },
    "slideshow": {
     "slide_type": "slide"
    }
   },
   "source": [
    "> If you violate these conventions, the worst you'll get is some dirty looks. But some software (such as the Docutils [3] docstring processing system [1] [2] ) will be aware of the conventions, so following them will get you the best results."
   ]
  },
  {
   "cell_type": "markdown",
   "metadata": {
    "run_control": {
     "frozen": false,
     "read_only": false
    },
    "slideshow": {
     "slide_type": "slide"
    }
   },
   "source": [
    "# génération de documents: `sphinx`\n",
    "\n",
    "* outil d'extraction et mise en forme doc\n",
    "* en provenance\n",
    "  * de parties écrites directement dans un markup\n",
    "  * et une partie en provenance du code (autodoc)\n",
    "* de nombreux *plugins* (extensions)\n",
    "  * qui implémentent les différents styles de docstring\n",
    "  * et autres themes..\n",
    "* [doc officielle](http://www.sphinx-doc.org/en/stable/)  "
   ]
  },
  {
   "cell_type": "markdown",
   "metadata": {
    "run_control": {
     "frozen": false,
     "read_only": false
    },
    "slideshow": {
     "slide_type": "slide"
    }
   },
   "source": [
    "### conseil\n",
    "\n",
    "* l'autodoc en provenance des méthodes et fonctions\n",
    "  * est certes utile et nécessaire\n",
    "  * mais ça ne *devrait pas* être la partie prépondérante\n",
    "* il est souvent **très utile**\n",
    "  * de donner des exemples simples (readme/tuto)\n",
    "  * et autres (install/changelog)"
   ]
  },
  {
   "cell_type": "markdown",
   "metadata": {
    "run_control": {
     "frozen": false,
     "read_only": false
    }
   },
   "source": [
    "### installation\n",
    "\n",
    "* requise sur l'ordi de chaque collaborateur\n",
    "* susceptible de travailler sur la doc\n",
    "* pour pouvoir tester le résultat en local\n",
    "\n",
    "```\n",
    "pip3 install sphinx\n",
    "```"
   ]
  },
  {
   "cell_type": "markdown",
   "metadata": {
    "run_control": {
     "frozen": false,
     "read_only": false
    },
    "slideshow": {
     "slide_type": "slide"
    }
   },
   "source": [
    "### démarrage\n",
    "\n",
    "* à faire une seule fois sur le projet\n",
    "* puis poussé sur git (essentiellement `conf.py`et `index.rst`)\n",
    "\n",
    "```\n",
    "sphinx-quickstart\n",
    "```\n",
    "\n",
    "et répondre aux questions\n",
    "\n",
    "```\n",
    "> autodoc: automatically insert docstrings from modules (y/n) [n]: y\n",
    "> doctest: automatically test code snippets in doctest blocks (y/n) [n]: y\n",
    "> mathjax: include math, rendered in the browser by mathjax (y/n) [n]: y\n",
    "> viewcode: include links to the source code of documented python objects (y/n) [n]: y\n",
    "> create makefile? (y/n) [y]: y\n",
    "> create windows command file? (y/n) [y]: y\n",
    "```"
   ]
  },
  {
   "cell_type": "markdown",
   "metadata": {
    "run_control": {
     "frozen": false,
     "read_only": false
    },
    "slideshow": {
     "slide_type": "slide"
    }
   },
   "source": [
    "### structure usuelle"
   ]
  },
  {
   "cell_type": "markdown",
   "metadata": {
    "run_control": {
     "frozen": false,
     "read_only": false
    },
    "slideshow": {
     "slide_type": "slide"
    }
   },
   "source": [
    "```\n",
    "Creating file ./conf.py.\n",
    "Creating file ./index.rst.\n",
    "```\n",
    "\n",
    "#### point d'entrée `index.rst`\n",
    "\n",
    "* typiquement inclut d'autres morceaux\n",
    "* dont généralement par exemple un API.rst\n",
    "* contient un TOC\n",
    "\n",
    "#### configuration `conf.py`\n",
    "\n",
    "* définit les extensions à **importer**\n",
    "  * ATTENTION: ne fait **pas** d'installation automatique\n",
    "* pour ajouter du markdown (setup readthedocs)\n",
    "\n",
    "```\n",
    "source_parsers = {\n",
    "    '.md': CommonMarkParser,\n",
    "}\n",
    "source_suffix = ['.rst', '.md']\n",
    "```"
   ]
  },
  {
   "cell_type": "markdown",
   "metadata": {
    "run_control": {
     "frozen": false,
     "read_only": false
    },
    "slideshow": {
     "slide_type": "slide"
    }
   },
   "source": [
    "### inclusion"
   ]
  },
  {
   "cell_type": "markdown",
   "metadata": {
    "run_control": {
     "frozen": false,
     "read_only": false
    },
    "slideshow": {
     "slide_type": "slide"
    }
   },
   "source": [
    "* inclure d'autres morceaux de documentation\n",
    "\n",
    "```\n",
    "$ cat index.rst\n",
    "Contents:\n",
    "\n",
    ".. toctree::\n",
    "   :maxdepth: 3\n",
    "\n",
    "   README\n",
    "   API\n",
    "```\n",
    "\n",
    "* a pour effet d'inclure `README.md` et `API.rst`"
   ]
  },
  {
   "cell_type": "markdown",
   "metadata": {
    "run_control": {
     "frozen": false,
     "read_only": false
    },
    "slideshow": {
     "slide_type": "slide"
    }
   },
   "source": [
    "## autodoc\n",
    "\n",
    "```\n",
    ".. autofunction:: io.open\n",
    "\n",
    ".. automodule:: io\n",
    "    :members:\n",
    "```\n",
    "\n",
    "* voir [ici pour plus de détails](http://www.sphinx-doc.org/en/stable/ext/autodoc.html)\n",
    "\n",
    "* comme par exemple les clauses \n",
    "  * `autoclass`\n",
    "* ou d'autres clauses reconnues dans `automodule`\n",
    "  * `:inherited-members:`\n",
    "  * `:show-inheritance:`\n",
    "  * etc..."
   ]
  },
  {
   "cell_type": "markdown",
   "metadata": {
    "run_control": {
     "frozen": false,
     "read_only": false
    },
    "slideshow": {
     "slide_type": "slide"
    }
   },
   "source": [
    "### un exemple simple avec reST + markdown\n",
    "\n",
    "* [source](https://github.com/parmentelat/asynciojobs/tree/master/sphinx/source)\n",
    "* [résultat sur readthedocs](http://asynciojobs.readthedocs.io/en/latest/)"
   ]
  },
  {
   "cell_type": "markdown",
   "metadata": {
    "run_control": {
     "frozen": false,
     "read_only": false
    },
    "slideshow": {
     "slide_type": "slide"
    }
   },
   "source": [
    "### un exemple plus élaboré\n",
    "\n",
    "* [source](https://github.com/ronf/asyncssh/tree/master/docs)\n",
    "* [résultat sur readthedocs](http://asyncssh.readthedocs.io/en/latest/)"
   ]
  },
  {
   "cell_type": "markdown",
   "metadata": {
    "run_control": {
     "frozen": false,
     "read_only": false
    },
    "slideshow": {
     "slide_type": "slide"
    }
   },
   "source": [
    "## génération *per se*\n",
    "\n",
    "### raccourcis\n",
    "\n",
    "* `make html`\n",
    "* `make help`\n",
    "\n",
    "### ou\n",
    "\n",
    "* `sphinx-build -b html sourcedir builddir`"
   ]
  },
  {
   "cell_type": "markdown",
   "metadata": {
    "run_control": {
     "frozen": false,
     "read_only": false
    },
    "slideshow": {
     "slide_type": "slide"
    }
   },
   "source": [
    "### langages de markup"
   ]
  },
  {
   "cell_type": "markdown",
   "metadata": {
    "run_control": {
     "frozen": false,
     "read_only": false
    },
    "slideshow": {
     "slide_type": "-"
    }
   },
   "source": [
    "## markdown\n",
    "\n",
    "* très répandu et en plein boom\n",
    "* natif dans **github** notamment\n",
    "* dans **notebooks**\n",
    "* et de très nombreux outils sociaux (e.g. FUN)\n",
    "\n",
    "* impact du markup aussi léger que possible \n",
    "* le source **reste lisible**"
   ]
  },
  {
   "cell_type": "markdown",
   "metadata": {
    "run_control": {
     "frozen": false,
     "read_only": false
    },
    "slideshow": {
     "slide_type": "slide"
    }
   },
   "source": [
    "### outils\n",
    "\n",
    "* e.g. atom\n",
    "* librairie python `markdown2`\n",
    "* etc etc..."
   ]
  },
  {
   "cell_type": "markdown",
   "metadata": {
    "run_control": {
     "frozen": false,
     "read_only": false
    }
   },
   "source": [
    "* exemple d'un site web\n",
    "  * qui en partant [de ceci](https://raw.githubusercontent.com/parmentelat/r2lab/public/r2lab.inria.fr/markdown/tools.md)\n",
    "  * affiche [cela](https://r2lab.inria.fr/tools.md)"
   ]
  },
  {
   "cell_type": "markdown",
   "metadata": {
    "run_control": {
     "frozen": false,
     "read_only": false
    },
    "slideshow": {
     "slide_type": "slide"
    }
   },
   "source": [
    "## reST\n",
    "\n",
    "* historiquement assez répandu\n",
    "* mais en train de passer de mode \n",
    "* avantages\n",
    "  * syntaxe non floue\n",
    "  * très complet\n",
    "  * très utilisé\n",
    "* inconvénients\n",
    "  * **pas très lisible**\n",
    "* [un cheat sheet](http://docutils.sourceforge.net/docs/user/rst/quickref.html)\n",
    "* librairie python `docutils`\n",
    "  * et binaires comme e.g. rst2html.py"
   ]
  },
  {
   "cell_type": "markdown",
   "metadata": {
    "run_control": {
     "frozen": false,
     "read_only": false
    },
    "slideshow": {
     "slide_type": "slide"
    }
   },
   "source": [
    "## doctest\n",
    "\n",
    "* l'outil qui permet de reconnaitre des snippets comme\n",
    "```\n",
    "   >>> une_expression()\n",
    "   le_resultat_attendu\n",
    "```\n",
    "\n",
    "* peut apparaître au milieu d'un docstring typiquement\n",
    "* donc pas un format à part entière comme les deux précédents\n",
    "* [un exemple](https://github.com/django/django/blob/master/django/utils/text.py#L223)"
   ]
  },
  {
   "cell_type": "markdown",
   "metadata": {
    "run_control": {
     "frozen": false,
     "read_only": false
    },
    "slideshow": {
     "slide_type": "slide"
    }
   },
   "source": [
    "### usages de doctest\n",
    "\n",
    "les snippets doctest servent à la fois\n",
    "\n",
    "* à des fins de **documentation**\n",
    "  * si on le met dans le docstring\n",
    "* et aussi de test\n",
    "  * grâce à l'outil `doctest`"
   ]
  },
  {
   "cell_type": "code",
   "execution_count": null,
   "metadata": {
    "run_control": {
     "frozen": false,
     "read_only": false
    },
    "slideshow": {
     "slide_type": "slide"
    }
   },
   "outputs": [],
   "source": [
    "!cat samples/pgcd.py"
   ]
  },
  {
   "cell_type": "code",
   "execution_count": null,
   "metadata": {
    "run_control": {
     "frozen": false,
     "read_only": false
    },
    "slideshow": {
     "slide_type": "slide"
    }
   },
   "outputs": [],
   "source": [
    "!python3 -m doctest -v samples/pgcd.py"
   ]
  },
  {
   "cell_type": "markdown",
   "metadata": {
    "run_control": {
     "frozen": false,
     "read_only": false
    },
    "slideshow": {
     "slide_type": "slide"
    }
   },
   "source": [
    "### limitations de doctest\n",
    "\n",
    "* limité à comparer les sorties\n",
    "* impossible d'écrire des scénarii compliqués"
   ]
  },
  {
   "cell_type": "markdown",
   "metadata": {
    "run_control": {
     "frozen": false,
     "read_only": false
    },
    "slideshow": {
     "slide_type": "slide"
    }
   },
   "source": [
    "### mon opinion\n",
    "\n",
    "* utile sur un (très) **petit** projet pour\n",
    "  * donner des exemples simples\n",
    "  * dont on peut vérifier qu'ils sont à jour\n",
    "* mais fait double emploi avec par exemple\n",
    "  * un notebook de readme\n",
    "  * de vrais tests unitaires"
   ]
  },
  {
   "cell_type": "markdown",
   "metadata": {
    "run_control": {
     "frozen": false,
     "read_only": false
    },
    "slideshow": {
     "slide_type": "slide"
    }
   },
   "source": [
    "# styles de docstring"
   ]
  },
  {
   "cell_type": "markdown",
   "metadata": {
    "run_control": {
     "frozen": false,
     "read_only": false
    },
    "slideshow": {
     "slide_type": "slide"
    }
   },
   "source": [
    "## SO\n",
    "\n",
    "Un bon résumé dans [ce post sur stackoverflow](http://stackoverflow.com/questions/3898572/what-is-the-standard-python-docstring-format) qui dit par ailleurs\n",
    "\n",
    "> @sorin, I also would like to know what markup, if any, is most common. But I think the answer is that none of them is really all that common: people tend to prefer to look at the Python source directly, rather than converted to html. So, it's most useful to just be consistent but in a way that's optimized for human readability, and no explicit markup. – poolie Oct 21 '12 at 7:31"
   ]
  },
  {
   "cell_type": "markdown",
   "metadata": {
    "run_control": {
     "frozen": false,
     "read_only": false
    },
    "slideshow": {
     "slide_type": "slide"
    }
   },
   "source": [
    "## reST\n",
    "\n",
    "* [exemple](http://thomas-cokelaer.info/tutorials/sphinx/_modules/template.html)"
   ]
  },
  {
   "cell_type": "markdown",
   "metadata": {
    "run_control": {
     "frozen": false,
     "read_only": false
    },
    "slideshow": {
     "slide_type": "slide"
    }
   },
   "source": [
    "## google style\n",
    "\n",
    "> ReStructuredText is great, but it creates visually dense, hard to read docstrings. \n",
    "\n",
    "* [extension sphinx](http://sphinxcontrib-napoleon.readthedocs.io/en/latest/index.html) `sphinx.ext.napoleon`\n",
    "* [exemple](http://sphinxcontrib-napoleon.readthedocs.io/en/latest/example_google.html)"
   ]
  },
  {
   "cell_type": "markdown",
   "metadata": {
    "run_control": {
     "frozen": false,
     "read_only": false
    },
    "slideshow": {
     "slide_type": "slide"
    }
   },
   "source": [
    "## numpy style\n",
    "\n",
    "* [même extension sphinx](http://sphinxcontrib-napoleon.readthedocs.io/en/latest/index.html) `sphinx.ext.napoleon`\n",
    "* [exemple](http://www.sphinx-doc.org/en/stable/ext/example_numpy.html)"
   ]
  },
  {
   "cell_type": "markdown",
   "metadata": {
    "run_control": {
     "frozen": false,
     "read_only": false
    },
    "slideshow": {
     "slide_type": "slide"
    }
   },
   "source": [
    "## `napoleon`\n",
    "\n",
    "* la même extension sphinx\n",
    "* supporte les deux styles\n",
    "* et est [décrite en détail ici](http://www.sphinx-doc.org/en/stable/ext/napoleon.html)"
   ]
  },
  {
   "cell_type": "markdown",
   "metadata": {
    "run_control": {
     "frozen": false,
     "read_only": false
    },
    "slideshow": {
     "slide_type": "slide"
    }
   },
   "source": [
    "# micro-exemples"
   ]
  },
  {
   "cell_type": "markdown",
   "metadata": {
    "run_control": {
     "frozen": false,
     "read_only": false
    },
    "slideshow": {
     "slide_type": "-"
    }
   },
   "source": [
    "## micro-exemple reST"
   ]
  },
  {
   "cell_type": "code",
   "execution_count": null,
   "metadata": {
    "run_control": {
     "frozen": false,
     "read_only": false
    }
   },
   "outputs": [],
   "source": [
    "!cat samples/random_rest.py"
   ]
  },
  {
   "cell_type": "markdown",
   "metadata": {
    "run_control": {
     "frozen": false,
     "read_only": false
    },
    "slideshow": {
     "slide_type": "slide"
    }
   },
   "source": [
    "## micro-exemple numpy"
   ]
  },
  {
   "cell_type": "code",
   "execution_count": null,
   "metadata": {
    "run_control": {
     "frozen": false,
     "read_only": false
    }
   },
   "outputs": [],
   "source": [
    "!cat samples/random_numpy.py"
   ]
  },
  {
   "cell_type": "markdown",
   "metadata": {
    "run_control": {
     "frozen": false,
     "read_only": false
    },
    "slideshow": {
     "slide_type": "slide"
    }
   },
   "source": [
    "## micro-exemple numpy + typehints"
   ]
  },
  {
   "cell_type": "code",
   "execution_count": null,
   "metadata": {
    "run_control": {
     "frozen": false,
     "read_only": false
    }
   },
   "outputs": [],
   "source": [
    "!cat samples/random_numpy_typehints.py"
   ]
  },
  {
   "cell_type": "markdown",
   "metadata": {
    "run_control": {
     "frozen": false,
     "read_only": false
    },
    "slideshow": {
     "slide_type": "slide"
    }
   },
   "source": [
    "## micro-exemple google"
   ]
  },
  {
   "cell_type": "code",
   "execution_count": null,
   "metadata": {
    "run_control": {
     "frozen": false,
     "read_only": false
    }
   },
   "outputs": [],
   "source": [
    "!cat samples/random_napo.py"
   ]
  },
  {
   "cell_type": "markdown",
   "metadata": {
    "run_control": {
     "frozen": false,
     "read_only": false
    },
    "slideshow": {
     "slide_type": "slide"
    }
   },
   "source": [
    "## micro-exemple google + typehints"
   ]
  },
  {
   "cell_type": "code",
   "execution_count": null,
   "metadata": {
    "run_control": {
     "frozen": false,
     "read_only": false
    }
   },
   "outputs": [],
   "source": [
    "!cat samples/random_napo_typehints.py"
   ]
  },
  {
   "cell_type": "markdown",
   "metadata": {
    "run_control": {
     "frozen": false,
     "read_only": false
    },
    "slideshow": {
     "slide_type": "slide"
    }
   },
   "source": [
    "# `readthedocs.io`\n",
    "\n",
    "* infra publique d'hébergement de la doc produite\n",
    "* facile à connecter aux webhooks de gitlab/github\n",
    "* supporte aussi [`mkdocs`](http://www.mkdocs.org/) pour markdown en sus de sphinx\n",
    "* présentation séparée.."
   ]
  },
  {
   "cell_type": "markdown",
   "metadata": {
    "run_control": {
     "frozen": false,
     "read_only": false
    },
    "slideshow": {
     "slide_type": "slide"
    }
   },
   "source": [
    "# exercice\n",
    "\n",
    "* choisir un (ou 2) des 3 styles proposés\n",
    "* créer une branche dans le projet\n",
    "* adapter les docstrings\n",
    "* faire tourner sphinx  en local\n",
    "* committer / pousser / merger dans master"
   ]
  }
 ],
 "metadata": {
  "kernelspec": {
   "display_name": "Python 3",
   "language": "python",
   "name": "python3"
  },
  "language_info": {
   "codemirror_mode": {
    "name": "ipython",
    "version": 3
   },
   "file_extension": ".py",
   "mimetype": "text/x-python",
   "name": "python",
   "nbconvert_exporter": "python",
   "pygments_lexer": "ipython3",
   "version": "3.7.0"
  },
  "notebookname": "outils de génération de doc",
  "rise": {
   "autolaunch": true,
   "slideNumber": "c/t",
   "start_slideshow_at": "selected",
   "theme": "sky",
   "transition": "cube"
  },
  "toc": {
   "colors": {
    "hover_highlight": "#DAA520",
    "running_highlight": "#FF0000",
    "selected_highlight": "#FFD700"
   },
   "moveMenuLeft": true,
   "nav_menu": {
    "height": "12px",
    "width": "252px"
   },
   "navigate_menu": true,
   "number_sections": true,
   "sideBar": true,
   "threshold": "2",
   "toc_cell": false,
   "toc_section_display": "block",
   "toc_window_display": false,
   "widenNotebook": false
  },
  "version": "1.0"
 },
 "nbformat": 4,
 "nbformat_minor": 2
}
