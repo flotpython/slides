{
 "cells": [
  {
   "cell_type": "markdown",
   "metadata": {
    "cell_style": "split",
    "run_control": {
     "frozen": false,
     "read_only": false
    },
    "slideshow": {
     "slide_type": "slide"
    }
   },
   "source": [
    "# `nbdime`\n",
    "\n",
    "## *notebook diff and merge*\n",
    "\n",
    "* `pip install nbdime`\n",
    "  * `nbdime config-git --enable`\n",
    "* sortie sur terminal ou sur browser\n",
    "  * et connectable à git\n",
    "* [exemples](https://github.com/jupyter/nbdime)"
   ]
  },
  {
   "cell_type": "markdown",
   "metadata": {
    "cell_style": "split",
    "run_control": {
     "frozen": false,
     "read_only": false
    }
   },
   "source": [
    "### Sous-commandes:\n",
    "\n",
    "* `diff`\n",
    "* `merge`\n",
    "* `diff-web`\n",
    "* `merge-web`\n",
    "* `mergetool`\n",
    "* `config-git`"
   ]
  },
  {
   "cell_type": "markdown",
   "metadata": {
    "run_control": {
     "frozen": false,
     "read_only": false
    },
    "slideshow": {
     "slide_type": "slide"
    }
   },
   "source": [
    "# architecture\n",
    "\n",
    "[schéma sur http://jupyter.readthedocs.io](http://jupyter.readthedocs.io/en/latest/architecture/how_jupyter_ipython_work.html)\n",
    "\n",
    "![](media/notebooks-040-architecture.png)\n"
   ]
  },
  {
   "cell_type": "markdown",
   "metadata": {
    "run_control": {
     "frozen": false,
     "read_only": false
    },
    "slideshow": {
     "slide_type": "slide"
    }
   },
   "source": [
    "## acteurs\n",
    "\n",
    "imaginons que vous avez créé deux notebooks:\n",
    "\n",
    "* votre browser web - probablement 3 tabs (home, nb1, nb2)\n",
    "* un service http (notebook server)\n",
    "* et pour chaque notebook ouvert:\n",
    "  * un kernel ipython\n",
    "  * un fichier ipynb (json)\n"
   ]
  },
  {
   "cell_type": "markdown",
   "metadata": {
    "run_control": {
     "frozen": false,
     "read_only": false
    },
    "slideshow": {
     "slide_type": "slide"
    }
   },
   "source": [
    "## console / qt-console\n",
    "\n",
    "* outils plus orientés 'command-line'\n",
    "* pour interagir avec un kernel aussi\n",
    "* [sur `readthedocs.io`](https://jupyter-console.readthedocs.io/en/latest/)\n",
    "\n",
    "```\n",
    "jupyter console \n",
    "jupyter qtconsole \n",
    "```\n"
   ]
  },
  {
   "cell_type": "markdown",
   "metadata": {
    "run_control": {
     "frozen": false,
     "read_only": false
    },
    "slideshow": {
     "slide_type": "slide"
    }
   },
   "source": [
    "## multiples acteurs / un kernel\n",
    "\n",
    "* Ainsi **plusieurs acteurs**\n",
    "* peuvent interagir avec **un seul kernel**\n",
    "* les deux voient alors **une seule variable**\n",
    "\n",
    "Voir par exemple `jupyter console --existing`"
   ]
  },
  {
   "cell_type": "markdown",
   "metadata": {
    "run_control": {
     "frozen": false,
     "read_only": false
    },
    "slideshow": {
     "slide_type": "slide"
    }
   },
   "source": [
    "### format des notebooks"
   ]
  },
  {
   "cell_type": "markdown",
   "metadata": {
    "run_control": {
     "frozen": false,
     "read_only": false
    },
    "slideshow": {
     "slide_type": ""
    }
   },
   "source": [
    "* format `.ipynb`\n",
    "* en réalité json\n",
    "* contient tout y compris résultats\n",
    "* et autres métadonnées (notebook + cellule)"
   ]
  },
  {
   "cell_type": "markdown",
   "metadata": {
    "run_control": {
     "frozen": false,
     "read_only": false
    },
    "slideshow": {
     "slide_type": "slide"
    }
   },
   "source": [
    "## `nbconvert`\n",
    "\n",
    "* un utilitaire pour convertir dans tous les sens\n",
    "* à retrouver sur [`readthedocs.io`](https://nbconvert.readthedocs.io/en/latest/)\n"
   ]
  },
  {
   "cell_type": "markdown",
   "metadata": {
    "run_control": {
     "frozen": false,
     "read_only": false
    },
    "slideshow": {
     "slide_type": "slide"
    }
   },
   "source": [
    "### mise en forme\n",
    "\n",
    "* format par défaut html\n",
    "\n",
    "```\n",
    "$ jupyter nbconvert foo.ipynb\n",
    "[nbconvertapp] converting notebook foo.ipynb to html\n",
    "[nbconvertapp] writing 251635 bytes to foo.html\n",
    "```\n",
    "\n",
    "* ou en python\n",
    "\n",
    "```\n",
    "$ jupyter nbconvert --to python foo.ipynb\n",
    "[nbconvertapp] converting notebook foo.ipynb to python\n",
    "[nbconvertapp] writing 114 bytes to foo.py\n",
    "```\n"
   ]
  },
  {
   "cell_type": "markdown",
   "metadata": {
    "run_control": {
     "frozen": false,
     "read_only": false
    },
    "slideshow": {
     "slide_type": "slide"
    }
   },
   "source": [
    "* autres formats disponibles au travers de\n",
    "  * $\\LaTeX$ \n",
    "  * et/ou [pandoc](https://github.com/jgm/pandoc)\n",
    "* requiert une installation séparée\n"
   ]
  },
  {
   "cell_type": "markdown",
   "metadata": {
    "run_control": {
     "frozen": false,
     "read_only": false
    },
    "slideshow": {
     "slide_type": "slide"
    }
   },
   "source": [
    "### exécution\n",
    "\n",
    "```\n",
    "$ jupyter nbconvert --to notebook --execute foo.ipynb\n",
    "[nbconvertapp] converting notebook foo.ipynb to notebook\n",
    "[nbconvertapp] executing notebook with kernel: python3\n",
    "[nbconvertapp] writing 1364 bytes to foo.nbconvert.ipynb\n",
    "```\n",
    "\n",
    "* le notebook a été entièrement exécuté avant d'être sauvé dans une copie.\n",
    "* ajouter `--inplace` pour modifier le notebook.\n"
   ]
  },
  {
   "cell_type": "markdown",
   "metadata": {
    "run_control": {
     "frozen": false,
     "read_only": false
    },
    "slideshow": {
     "slide_type": "slide"
    }
   },
   "source": [
    "### nettoyage\n",
    "\n",
    "```\n",
    "pip install nbstripout\n",
    "nbstripout foo.py\n",
    "```\n",
    "\n",
    "* enlève les résultats de l'évaluation des cellules\n"
   ]
  },
  {
   "cell_type": "markdown",
   "metadata": {
    "run_control": {
     "frozen": false,
     "read_only": false
    },
    "slideshow": {
     "slide_type": "slide"
    }
   },
   "source": [
    "### API\n",
    "\n",
    "* une API python complète est disponible pour écrire ses propres traitements.\n",
    "* si intérêt : [un exemple ici](https://github.com/flotpython/tools/blob/master/tools/nbnorm.py) \n",
    "  * une moulinette pour nos notebooks du MOOC\n",
    "  * pas très élégant mais fait le job:\n",
    "  * vérifie la présence d'une première cellule auteur/licence\n",
    "  * efface les sorties\n",
    "  * vérifie/normalise certains traits markdown\n",
    "  * ..."
   ]
  },
  {
   "cell_type": "markdown",
   "metadata": {
    "run_control": {
     "frozen": false,
     "read_only": false
    },
    "slideshow": {
     "slide_type": "slide"
    }
   },
   "source": [
    "# astuces"
   ]
  },
  {
   "cell_type": "markdown",
   "metadata": {
    "run_control": {
     "frozen": false,
     "read_only": false
    }
   },
   "source": [
    "## Command Palette\n",
    "`Cmd-Shift-P`\n",
    "![](media/notebooks-047-command-palette.png)"
   ]
  },
  {
   "cell_type": "markdown",
   "metadata": {
    "run_control": {
     "frozen": false,
     "read_only": false
    },
    "slideshow": {
     "slide_type": "slide"
    }
   },
   "source": [
    "## docstring\n",
    "`?`\n",
    "![](media/notebooks-048-docstring.png)"
   ]
  },
  {
   "cell_type": "markdown",
   "metadata": {
    "run_control": {
     "frozen": false,
     "read_only": false
    },
    "slideshow": {
     "slide_type": "slide"
    }
   },
   "source": [
    "### magics"
   ]
  },
  {
   "cell_type": "markdown",
   "metadata": {
    "run_control": {
     "frozen": false,
     "read_only": false
    }
   },
   "source": [
    "* les *magics* sont des annotations spéciales\n",
    "* qui commencent par un '%'\n",
    "* il s'agit le plus souvent de commodités\n",
    "* qu'on ne pourrait pas faire directement en python"
   ]
  },
  {
   "cell_type": "markdown",
   "metadata": {
    "run_control": {
     "frozen": false,
     "read_only": false
    }
   },
   "source": [
    "* [voir une liste complète ici](https://ipython.org/ipython-doc/3/interactive/magics.html)\n",
    "* `%lsmagic`\n"
   ]
  },
  {
   "cell_type": "code",
   "execution_count": null,
   "metadata": {
    "run_control": {
     "frozen": false,
     "read_only": false
    }
   },
   "outputs": [],
   "source": [
    "# ou bien sûr\n",
    "%lsmagic"
   ]
  },
  {
   "cell_type": "markdown",
   "metadata": {
    "run_control": {
     "frozen": false,
     "read_only": false
    },
    "slideshow": {
     "slide_type": "slide"
    }
   },
   "source": [
    "## `%matplotlib`\n",
    "\n",
    "* `inline`\n",
    "* `notebook`\n",
    "* `nbagg`"
   ]
  },
  {
   "cell_type": "code",
   "execution_count": null,
   "metadata": {
    "run_control": {
     "frozen": false,
     "read_only": false
    }
   },
   "outputs": [],
   "source": [
    "import numpy as np"
   ]
  },
  {
   "cell_type": "code",
   "execution_count": null,
   "metadata": {
    "run_control": {
     "frozen": false,
     "read_only": false
    }
   },
   "outputs": [],
   "source": [
    "%matplotlib inline\n",
    "import matplotlib.pyplot as plt \n",
    "plt.ion()"
   ]
  },
  {
   "cell_type": "code",
   "execution_count": null,
   "metadata": {
    "run_control": {
     "frozen": false,
     "read_only": false
    },
    "slideshow": {
     "slide_type": "slide"
    }
   },
   "outputs": [],
   "source": [
    "x = np.linspace(0, 4*np.pi, 100)\n",
    "y = 2*np.cos(x+2) + np.sin(2*x)\n",
    "plt.plot(x, y);"
   ]
  },
  {
   "cell_type": "markdown",
   "metadata": {
    "run_control": {
     "frozen": false,
     "read_only": false
    },
    "slideshow": {
     "slide_type": "slide"
    }
   },
   "source": [
    "## supprimer l'affichage\n",
    "\n",
    "* finir une cellule de code par `;`\n",
    "* supprime l'impression automatique\n",
    "* (en fait, revient à ajouter une dernière expression `None`)"
   ]
  },
  {
   "cell_type": "code",
   "execution_count": null,
   "metadata": {
    "run_control": {
     "frozen": false,
     "read_only": false
    }
   },
   "outputs": [],
   "source": [
    "%matplotlib inline\n",
    "from matplotlib import pyplot as plt\n",
    "plt.ion()"
   ]
  },
  {
   "cell_type": "code",
   "execution_count": null,
   "metadata": {
    "run_control": {
     "frozen": false,
     "read_only": false
    },
    "slideshow": {
     "slide_type": "slide"
    }
   },
   "outputs": [],
   "source": [
    "%matplotlib inline\n",
    "\n",
    "import numpy\n",
    "x = 1 - numpy.linspace(0, 1, 100)**1.5\n",
    "plt.hist(x)"
   ]
  },
  {
   "cell_type": "code",
   "execution_count": null,
   "metadata": {
    "run_control": {
     "frozen": false,
     "read_only": false
    },
    "slideshow": {
     "slide_type": "slide"
    }
   },
   "outputs": [],
   "source": [
    "x = 1 - numpy.linspace(0, 1, 100)**2.\n",
    "plt.hist(x);"
   ]
  },
  {
   "cell_type": "markdown",
   "metadata": {
    "run_control": {
     "frozen": false,
     "read_only": false
    },
    "slideshow": {
     "slide_type": "slide"
    }
   },
   "source": [
    "## `autoreload`"
   ]
  },
  {
   "cell_type": "markdown",
   "metadata": {
    "run_control": {
     "frozen": false,
     "read_only": false
    }
   },
   "source": [
    "il s'agit d'une extension (chargée avec `load_ext`), très pratique lorsqu'un notebook importe un module qui est modifié en même temps - sous un éditeur comme spyder ou autre.\n",
    "\n",
    "le module est alors **rechargé automatiquement** à chaque modification du fichier."
   ]
  },
  {
   "cell_type": "code",
   "execution_count": null,
   "metadata": {
    "run_control": {
     "frozen": false,
     "read_only": false
    }
   },
   "outputs": [],
   "source": [
    "%load_ext autoreload\n",
    "%autoreload 2"
   ]
  },
  {
   "cell_type": "markdown",
   "metadata": {
    "run_control": {
     "frozen": false,
     "read_only": false
    },
    "slideshow": {
     "slide_type": "slide"
    }
   },
   "source": [
    "## `%run`\n",
    "\n",
    "* permet d'exécuter un fichier python\n",
    "* **ou un autre notebook**\n"
   ]
  },
  {
   "cell_type": "markdown",
   "metadata": {
    "run_control": {
     "frozen": false,
     "read_only": false
    },
    "slideshow": {
     "slide_type": "slide"
    }
   },
   "source": [
    "![](media/notebooks-049-included-code.png)\n"
   ]
  },
  {
   "cell_type": "markdown",
   "metadata": {
    "run_control": {
     "frozen": false,
     "read_only": false
    },
    "slideshow": {
     "slide_type": "slide"
    }
   },
   "source": [
    "![](media/notebooks-050-included-run.png)\n"
   ]
  },
  {
   "cell_type": "markdown",
   "metadata": {
    "run_control": {
     "frozen": false,
     "read_only": false
    },
    "slideshow": {
     "slide_type": "slide"
    }
   },
   "source": [
    "## commandes shell"
   ]
  },
  {
   "cell_type": "code",
   "execution_count": null,
   "metadata": {
    "run_control": {
     "frozen": false,
     "read_only": false
    }
   },
   "outputs": [],
   "source": [
    "%cd ..\n",
    "%ls\n",
    "%cd -"
   ]
  },
  {
   "cell_type": "markdown",
   "metadata": {
    "run_control": {
     "frozen": false,
     "read_only": false
    },
    "slideshow": {
     "slide_type": "slide"
    }
   },
   "source": [
    "## `!` pour exécuter une commande"
   ]
  },
  {
   "cell_type": "code",
   "execution_count": null,
   "metadata": {
    "run_control": {
     "frozen": false,
     "read_only": false
    }
   },
   "outputs": [],
   "source": [
    "mots_de_passe = !cat /etc/passwd"
   ]
  },
  {
   "cell_type": "code",
   "execution_count": null,
   "metadata": {
    "run_control": {
     "frozen": false,
     "read_only": false
    }
   },
   "outputs": [],
   "source": [
    "for line in mots_de_passe[:6]:\n",
    "    print(line)"
   ]
  },
  {
   "cell_type": "markdown",
   "metadata": {
    "run_control": {
     "frozen": false,
     "read_only": false
    },
    "slideshow": {
     "slide_type": "slide"
    }
   },
   "source": [
    "## génération de html"
   ]
  },
  {
   "cell_type": "code",
   "execution_count": null,
   "metadata": {
    "run_control": {
     "frozen": false,
     "read_only": false
    }
   },
   "outputs": [],
   "source": [
    "from IPython.display import HTML\n",
    "from itertools import product"
   ]
  },
  {
   "cell_type": "code",
   "execution_count": null,
   "metadata": {
    "run_control": {
     "frozen": false,
     "read_only": false
    }
   },
   "outputs": [],
   "source": [
    "def table_generator(xs, ys):\n",
    "    html = \"<table>\"\n",
    "    for x in xs:\n",
    "        html += \"<tr>\"\n",
    "        for y in ys:\n",
    "            html += \"<td>({}, {})</td>\".format(x, y)\n",
    "        html += \"</tr>\"\n",
    "    html += \"</table>\"\n",
    "    return HTML(html)"
   ]
  },
  {
   "cell_type": "code",
   "execution_count": null,
   "metadata": {
    "run_control": {
     "frozen": false,
     "read_only": false
    },
    "slideshow": {
     "slide_type": "slide"
    }
   },
   "outputs": [],
   "source": [
    "lines = [ 'a', 'b', 'c', 'd']\n",
    "columns = range(1, 5)\n",
    "table_generator(lines, columns)"
   ]
  },
  {
   "cell_type": "markdown",
   "metadata": {
    "run_control": {
     "frozen": false,
     "read_only": false
    },
    "slideshow": {
     "slide_type": "slide"
    }
   },
   "source": [
    "## sélection de magics - python\n",
    "\n",
    "* `%%time` - `%timeit` - mesures de performance\n",
    "* `%prun` - `%lprun` - profiling \n",
    "* `%debug` et `%pdb` - debugging\n",
    "* `%who` - liste les variables connues\n",
    "* je vous renvoie à [cet excellent article](https://www.dataquest.io/blog/jupyter-notebook-tips-tricks-shortcuts/)"
   ]
  },
  {
   "cell_type": "markdown",
   "metadata": {
    "run_control": {
     "frozen": false,
     "read_only": false
    },
    "slideshow": {
     "slide_type": "slide"
    }
   },
   "source": [
    "## multiples kernels\n",
    "\n",
    "* on peut même semble-t-il mélanger plusieurs langages dans le même notebook\n",
    "* comme python2 / python3\n",
    "* ou python + r"
   ]
  },
  {
   "cell_type": "markdown",
   "metadata": {
    "run_control": {
     "frozen": false,
     "read_only": false
    },
    "slideshow": {
     "slide_type": "slide"
    }
   },
   "source": [
    "# `interact`\n",
    "\n",
    "* souvenez-vous : le notebook de *Nature*\n",
    "* partie du projet `ipywidgets`\n",
    "* [voir sur `readthedocs.io`](http://ipywidgets.readthedocs.io/en/latest/examples/Using%20Interact.html)\n",
    "\n",
    "```\n",
    "from ipywidgets import interact, fixed\n",
    "```\n"
   ]
  },
  {
   "cell_type": "markdown",
   "metadata": {
    "run_control": {
     "frozen": false,
     "read_only": false
    },
    "slideshow": {
     "slide_type": "slide"
    }
   },
   "source": [
    "## use case\n",
    "\n",
    "* visualisation de la fréquence:\n",
    "* partant de la fonction $sin_f: x \\longrightarrow sin(f.x)$\n"
   ]
  },
  {
   "cell_type": "code",
   "execution_count": null,
   "metadata": {
    "cell_style": "split",
    "run_control": {
     "frozen": false,
     "read_only": false
    }
   },
   "outputs": [],
   "source": [
    "%matplotlib inline\n",
    "import matplotlib.pyplot as plt\n",
    "import numpy as np\n",
    "plt.ion()"
   ]
  },
  {
   "cell_type": "markdown",
   "metadata": {
    "cell_style": "split",
    "run_control": {
     "frozen": false,
     "read_only": false
    },
    "slideshow": {
     "slide_type": "-"
    }
   },
   "source": [
    "on veut créer \n",
    "\n",
    "* une visualisation interactive\n",
    "* qui permette de *voir* l'effet du paramètre $f$"
   ]
  },
  {
   "cell_type": "code",
   "execution_count": null,
   "metadata": {
    "run_control": {
     "frozen": false,
     "read_only": false
    },
    "slideshow": {
     "slide_type": "slide"
    }
   },
   "outputs": [],
   "source": [
    "def sinus(freq):\n",
    "    X = np.linspace(0., 10., 200)\n",
    "    Y = np.sin(freq*X)\n",
    "    plt.plot(X, Y)"
   ]
  },
  {
   "cell_type": "code",
   "execution_count": null,
   "metadata": {
    "cell_style": "split",
    "run_control": {
     "frozen": false,
     "read_only": false
    }
   },
   "outputs": [],
   "source": [
    "sinus(1)"
   ]
  },
  {
   "cell_type": "code",
   "execution_count": null,
   "metadata": {
    "cell_style": "split",
    "run_control": {
     "frozen": false,
     "read_only": false
    }
   },
   "outputs": [],
   "source": [
    "sinus(0.5)"
   ]
  },
  {
   "cell_type": "markdown",
   "metadata": {
    "run_control": {
     "frozen": false,
     "read_only": false
    },
    "slideshow": {
     "slide_type": "slide"
    }
   },
   "source": [
    "## `interact`\n",
    "\n",
    "grâce à interact on va pouvoir explorer ça de manière plus complète et plus interactive."
   ]
  },
  {
   "cell_type": "code",
   "execution_count": null,
   "metadata": {
    "run_control": {
     "frozen": false,
     "read_only": false
    }
   },
   "outputs": [],
   "source": [
    "from ipywidgets import interact"
   ]
  },
  {
   "cell_type": "code",
   "execution_count": null,
   "metadata": {
    "run_control": {
     "frozen": false,
     "read_only": false
    }
   },
   "outputs": [],
   "source": [
    "interact(sinus, freq=(0.5, 10., 0.5));"
   ]
  },
  {
   "cell_type": "markdown",
   "metadata": {
    "run_control": {
     "frozen": false,
     "read_only": false
    },
    "slideshow": {
     "slide_type": "slide"
    }
   },
   "source": [
    "## appel à `interact`"
   ]
  },
  {
   "cell_type": "markdown",
   "metadata": {
    "run_control": {
     "frozen": false,
     "read_only": false
    }
   },
   "source": [
    "* premier argument: une fonction `f`\n",
    "* +: autant d'arguments supplémentaires\n",
    "  * que de paramètres attendus par `f`\n",
    "* chacun est un `Slider`"
   ]
  },
  {
   "cell_type": "markdown",
   "metadata": {
    "run_control": {
     "frozen": false,
     "read_only": false
    }
   },
   "source": [
    "par exemple\n",
    "\n",
    "* si `f` prend deux aguments `foo` et `bar`\n",
    "* `interact(f, foo=.., bar=..)`"
   ]
  },
  {
   "cell_type": "markdown",
   "metadata": {
    "run_control": {
     "frozen": false,
     "read_only": false
    },
    "slideshow": {
     "slide_type": "slide"
    }
   },
   "source": [
    "## bouche-trou: `fixed`"
   ]
  },
  {
   "cell_type": "markdown",
   "metadata": {
    "run_control": {
     "frozen": false,
     "read_only": false
    }
   },
   "source": [
    "* quand un des paramètres reste fixe"
   ]
  },
  {
   "cell_type": "code",
   "execution_count": null,
   "metadata": {
    "run_control": {
     "frozen": false,
     "read_only": false
    }
   },
   "outputs": [],
   "source": [
    "# la fonction x**omega entre phi et phi + 1\n",
    "def histo2(omega, phi):\n",
    "    plt.hist(np.linspace(phi, phi+1, 100)**omega, alpha=0.3)"
   ]
  },
  {
   "cell_type": "code",
   "execution_count": null,
   "metadata": {
    "run_control": {
     "frozen": false,
     "read_only": false
    }
   },
   "outputs": [],
   "source": [
    "from ipywidgets import fixed\n",
    "interact(histo2, omega=(0., 2.), phi=fixed(0.))"
   ]
  },
  {
   "cell_type": "markdown",
   "metadata": {
    "run_control": {
     "frozen": false,
     "read_only": false
    },
    "slideshow": {
     "slide_type": "slide"
    }
   },
   "source": [
    "## sliders"
   ]
  },
  {
   "cell_type": "markdown",
   "metadata": {
    "run_control": {
     "frozen": false,
     "read_only": false
    }
   },
   "source": [
    "* en fait cet appel à interact\n",
    "  * `interact(histo2, omega=(0., 2.))`\n",
    "* est un raccourci pour\n",
    "  * `interact(histo2, omega=Floatslider(min=0., max=2.))`"
   ]
  },
  {
   "cell_type": "markdown",
   "metadata": {
    "run_control": {
     "frozen": false,
     "read_only": false
    },
    "slideshow": {
     "slide_type": "slide"
    }
   },
   "source": [
    "ce qui permet un peu plus de réglages:\n",
    "\n",
    "* `min`, `max`, `step`\n",
    "* et `value` - valeur initiale"
   ]
  },
  {
   "cell_type": "code",
   "execution_count": null,
   "metadata": {
    "run_control": {
     "frozen": false,
     "read_only": false
    }
   },
   "outputs": [],
   "source": [
    "from ipywidgets import FloatSlider\n",
    "interact(histo2, \n",
    "         omega=FloatSlider(min=0., max=2., value=1.83), \n",
    "         phi=fixed(0.));"
   ]
  },
  {
   "cell_type": "markdown",
   "metadata": {
    "run_control": {
     "frozen": false,
     "read_only": false
    },
    "slideshow": {
     "slide_type": "slide"
    }
   },
   "source": [
    "## sliders (ctd)"
   ]
  },
  {
   "cell_type": "markdown",
   "metadata": {
    "run_control": {
     "frozen": false,
     "read_only": false
    }
   },
   "source": [
    "plusieurs types disponibles\n",
    "\n",
    "* booléen (checkbox)\n",
    "* texte (saisie utilisateur)\n",
    "* liste ou dict (choix multiples)"
   ]
  },
  {
   "cell_type": "code",
   "execution_count": null,
   "metadata": {
    "run_control": {
     "frozen": false,
     "read_only": false
    },
    "slideshow": {
     "slide_type": "slide"
    }
   },
   "outputs": [],
   "source": [
    "# une liste ou un dictionnaire est transformé(e) en un Dropdown\n",
    "interact(histo2,\n",
    "         omega={'petit': 0.1, 'moyen': 0.5, 'plat': 1.0}, \n",
    "         phi=fixed(0.));"
   ]
  },
  {
   "cell_type": "markdown",
   "metadata": {
    "run_control": {
     "frozen": false,
     "read_only": false
    },
    "slideshow": {
     "slide_type": "slide"
    }
   },
   "source": [
    "* [liste complète des widgets](http://ipywidgets.readthedocs.io/en/latest/examples/widget%20list.html)\n",
    "* et [notamment sur dropdown](http://ipywidgets.readthedocs.io/en/latest/examples/widget%20list.html#dropdown)"
   ]
  },
  {
   "cell_type": "code",
   "execution_count": null,
   "metadata": {
    "run_control": {
     "frozen": false,
     "read_only": false
    }
   },
   "outputs": [],
   "source": [
    "from ipywidgets import Dropdown\n",
    "interact(histo2, \n",
    "         omega=Dropdown(options={'petit': 0.1, 'moyen': 0.5, 'plat': 1.0}),\n",
    "         phi=fixed(0.))"
   ]
  },
  {
   "cell_type": "markdown",
   "metadata": {
    "run_control": {
     "frozen": false,
     "read_only": false
    },
    "slideshow": {
     "slide_type": "slide"
    }
   },
   "source": [
    "## calculs lourds\n",
    "\n",
    "* créer un slider avec `continuous_update=false`\n",
    "* pour éviter mises à jour trop fréquentes"
   ]
  },
  {
   "cell_type": "markdown",
   "metadata": {
    "run_control": {
     "frozen": false,
     "read_only": false
    },
    "slideshow": {
     "slide_type": "slide"
    }
   },
   "source": [
    "# extensions\n",
    "\n",
    "* notebook : `nbextension`\n",
    "* server : `serverextension`\n",
    "* jupyterlab: `labextension`"
   ]
  },
  {
   "cell_type": "markdown",
   "metadata": {
    "run_control": {
     "frozen": false,
     "read_only": false
    },
    "slideshow": {
     "slide_type": "slide"
    }
   },
   "source": [
    "```\n",
    "$ jupyter nbextension --help\n",
    "<snip>\n",
    "Examples\n",
    "--------\n",
    "\n",
    "    jupyter nbextension list                          # list all configured nbextensions\n",
    "    jupyter nbextension install --py <packagename>    # install an nbextension from a Python package\n",
    "    jupyter nbextension enable --py <packagename>     # enable all nbextensions in a Python package\n",
    "    jupyter nbextension disable --py <packagename>    # disable all nbextensions in a Python package\n",
    "    jupyter nbextension uninstall --py <packagename>  # uninstall an nbextension in a Python package\n",
    "\n",
    "```"
   ]
  },
  {
   "cell_type": "markdown",
   "metadata": {
    "run_control": {
     "frozen": false,
     "read_only": false
    },
    "slideshow": {
     "slide_type": "slide"
    }
   },
   "source": [
    "```\n",
    "parmentelat ~/git/cours-python/cstb $ jupyter serverextension list\n",
    "config dir: /Users/parmentelat/.jupyter\n",
    "    jupyter_nbextensions_configurator  enabled\n",
    "    - Validating...\n",
    "      jupyter_nbextensions_configurator  OK\n",
    "config dir: /Library/Frameworks/Python.framework/Versions/3.5/etc/jupyter\n",
    "    jupyterlab  enabled\n",
    "    - Validating...\n",
    "      jupyterlab  OK\n",
    "```"
   ]
  },
  {
   "cell_type": "markdown",
   "metadata": {
    "run_control": {
     "frozen": false,
     "read_only": false
    },
    "slideshow": {
     "slide_type": "slide"
    }
   },
   "source": [
    "### `jupyter_nbextensions_configurator`\n",
    "\n",
    "* [sur github](https://github.com/Jupyter-contrib/jupyter_nbextensions_configurator)\n",
    "\n",
    "```\n",
    "pip install jupyter_nbextensions_configurator\n",
    "jupyter nbextensions_configurator enable --user\n",
    "```\n"
   ]
  },
  {
   "cell_type": "markdown",
   "metadata": {
    "run_control": {
     "frozen": false,
     "read_only": false
    },
    "slideshow": {
     "slide_type": "slide"
    }
   },
   "source": [
    "![](media/notebooks-051-nbextensions-configurator.png)\n"
   ]
  },
  {
   "cell_type": "markdown",
   "metadata": {
    "run_control": {
     "frozen": false,
     "read_only": false
    },
    "slideshow": {
     "slide_type": "slide"
    }
   },
   "source": [
    "### infrastructure\n",
    "\n",
    "* mybinder.org\n",
    "* jupyterhub"
   ]
  }
 ],
 "metadata": {
  "jupytext": {
   "cell_metadata_filter": "all",
   "notebook_metadata_filter": "all,-language_info,-toc,-jupytext.text_representation.jupytext_version"
  },
  "kernelspec": {
   "display_name": "Python 3",
   "language": "python",
   "name": "python3"
  },
  "language_info": {
   "codemirror_mode": {
    "name": "ipython",
    "version": 3
   },
   "file_extension": ".py",
   "mimetype": "text/x-python",
   "name": "python",
   "nbconvert_exporter": "python",
   "pygments_lexer": "ipython3",
   "version": "3.8.3"
  },
  "notebookname": "notebooks avancés",
  "toc": {
   "base_numbering": 1,
   "nav_menu": {},
   "number_sections": true,
   "sideBar": true,
   "skip_h1_title": false,
   "title_cell": "Table of Contents",
   "title_sidebar": "Contents",
   "toc_cell": false,
   "toc_position": {},
   "toc_section_display": true,
   "toc_window_display": false
  }
 },
 "nbformat": 4,
 "nbformat_minor": 4
}
