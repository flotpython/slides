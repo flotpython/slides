{
 "cells": [
  {
   "cell_type": "markdown",
   "metadata": {
    "slideshow": {
     "slide_type": "slide"
    }
   },
   "source": [
    "## Visual Studio Code"
   ]
  },
  {
   "cell_type": "markdown",
   "metadata": {
    "cell_style": "split"
   },
   "source": [
    "recommandé :  \n",
    "Visual Studio Code  \n",
    "\n",
    "voir [page d'installation](https://code.visualstudio.com/download)\n",
    "\n",
    "pas obligatoire "
   ]
  },
  {
   "cell_type": "markdown",
   "metadata": {
    "cell_style": "split",
    "slideshow": {
     "slide_type": ""
    }
   },
   "source": [
    "```bash \n",
    "$ code .\n",
    "```"
   ]
  },
  {
   "cell_type": "markdown",
   "metadata": {
    "cell_style": "split"
   },
   "source": [
    "![](../pictures/vscode-start.png)"
   ]
  },
  {
   "cell_type": "markdown",
   "metadata": {
    "slideshow": {
     "slide_type": "notes"
    }
   },
   "source": [
    "Si vous ne savez pas quel éditeur de texte utiliser, nous **recommandons fortement** pour ce cours l'outil *Visual Studio Code* qui est gratuit et Open Source; c'est un outil moderne, universel, multi-plateforme; il permet enfin de faire cohaboter un terminal dans l'éditeur, ce qui est important pour comprendre ce que l'on fait."
   ]
  },
  {
   "cell_type": "markdown",
   "metadata": {
    "slideshow": {
     "slide_type": "slide"
    }
   },
   "source": [
    "## vscode - plus de place"
   ]
  },
  {
   "cell_type": "markdown",
   "metadata": {
    "cell_style": "split"
   },
   "source": [
    "pour gagner de la place :  \n",
    "cliquer - 2 fois si nécessaire - dans la barre de gauche  \n",
    "(ou Command-b)"
   ]
  },
  {
   "cell_type": "markdown",
   "metadata": {
    "cell_style": "split"
   },
   "source": [
    "![](pictures/vscode-noexplorer.png)"
   ]
  },
  {
   "cell_type": "markdown",
   "metadata": {
    "slideshow": {
     "slide_type": "slide"
    }
   },
   "source": [
    "## vscode - la palette"
   ]
  },
  {
   "cell_type": "markdown",
   "metadata": {
    "cell_style": "split"
   },
   "source": [
    "vous cherchez de l'aide  \n",
    "utilisez la palette (touche F1)  \n",
    "et taper un mot-clé  \n",
    "sortir avec Escape"
   ]
  },
  {
   "cell_type": "markdown",
   "metadata": {
    "cell_style": "split"
   },
   "source": [
    "![](pictures/vscode-palette.png)"
   ]
  },
  {
   "cell_type": "markdown",
   "metadata": {
    "slideshow": {
     "slide_type": "slide"
    }
   },
   "source": [
    "## vscode - découper l'espace"
   ]
  },
  {
   "cell_type": "markdown",
   "metadata": {
    "cell_style": "center"
   },
   "source": [
    "pour afficher plusieurs fichiers  \n",
    "faites un glisser-déplacer à partir de l'onglet titre  \n",
    "marche en horizontal / vertical"
   ]
  },
  {
   "cell_type": "markdown",
   "metadata": {
    "cell_style": "split"
   },
   "source": [
    "![](pictures/vscode-before-split.png)"
   ]
  },
  {
   "cell_type": "markdown",
   "metadata": {
    "cell_style": "split"
   },
   "source": [
    "![](pictures/vscode-after-split.png)"
   ]
  },
  {
   "cell_type": "markdown",
   "metadata": {
    "slideshow": {
     "slide_type": "slide"
    }
   },
   "source": [
    "## vscode - extensions"
   ]
  },
  {
   "cell_type": "markdown",
   "metadata": {},
   "source": [
    "système modulaire à base d'**extensions**  \n",
    "à activer :\n",
    "\n",
    "* Code Runner\n",
    "* Python"
   ]
  },
  {
   "cell_type": "markdown",
   "metadata": {
    "cell_style": "split"
   },
   "source": [
    "![](pictures/vscode-ext-runner.png)"
   ]
  },
  {
   "cell_type": "markdown",
   "metadata": {
    "cell_style": "split"
   },
   "source": [
    "![](pictures/vscode-ext-python.png)"
   ]
  },
  {
   "cell_type": "markdown",
   "metadata": {
    "slideshow": {
     "slide_type": "slide"
    }
   },
   "source": [
    "## vscode - exécuter du code"
   ]
  },
  {
   "cell_type": "markdown",
   "metadata": {
    "cell_style": "split"
   },
   "source": [
    "une fois ces extensions installées  \n",
    "on peut exécuter du code   \n",
    "directement dans vscode"
   ]
  },
  {
   "cell_type": "markdown",
   "metadata": {
    "cell_style": "split"
   },
   "source": [
    "![](pictures/vscode-run-fact.png)"
   ]
  },
  {
   "cell_type": "markdown",
   "metadata": {
    "slideshow": {
     "slide_type": "slide"
    }
   },
   "source": [
    "## vscode - terminal"
   ]
  },
  {
   "cell_type": "markdown",
   "metadata": {
    "cell_style": "split"
   },
   "source": [
    "![](pictures/vscode-before-terminal.png)"
   ]
  },
  {
   "cell_type": "markdown",
   "metadata": {
    "cell_style": "split"
   },
   "source": [
    "![](pictures/vscode-after-terminal.png)"
   ]
  },
  {
   "cell_type": "markdown",
   "metadata": {
    "slideshow": {
     "slide_type": "slide"
    }
   },
   "source": [
    "## vscode - conclusion"
   ]
  },
  {
   "cell_type": "markdown",
   "metadata": {
    "cell_style": "split"
   },
   "source": [
    "gratuit, moderne et extensible  \n",
    "très pratique, peut servir à tout  \n",
    "réflexe : cherchez une extension  "
   ]
  },
  {
   "cell_type": "markdown",
   "metadata": {
    "cell_style": "split"
   },
   "source": [
    "résumés raccourcis clavier :\n",
    "\n",
    "* [*cheat sheet* Windows](https://code.visualstudio.com/shortcuts/keyboard-shortcuts-windows.pdf)\n",
    "* [*cheat sheet* MacOS](https://code.visualstudio.com/shortcuts/keyboard-shortcuts-macos.pdf)"
   ]
  },
  {
   "cell_type": "markdown",
   "metadata": {
    "cell_style": "center"
   },
   "source": [
    "bien sûr ce n'est pas obligatoire !  \n",
    "si vous êtes familier avec un outil il faut l'utiliser  \n",
    "notre sujet n'est pas VS-Code mais bien Python "
   ]
  }
 ],
 "metadata": {
  "celltoolbar": "Slideshow",
  "kernelspec": {
   "display_name": "Python 3",
   "language": "python",
   "name": "python3"
  },
  "language_info": {
   "codemirror_mode": {
    "name": "ipython",
    "version": 3
   },
   "file_extension": ".py",
   "mimetype": "text/x-python",
   "name": "python",
   "nbconvert_exporter": "python",
   "pygments_lexer": "ipython3",
   "version": "3.7.4"
  },
  "notebookname": "Visual Studio Code",
  "rise": {
   "autolaunch": true
  }
 },
 "nbformat": 4,
 "nbformat_minor": 4
}
