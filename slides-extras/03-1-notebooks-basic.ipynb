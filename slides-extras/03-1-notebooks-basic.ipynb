{
 "cells": [
  {
   "cell_type": "markdown",
   "metadata": {
    "run_control": {
     "frozen": false,
     "read_only": false
    },
    "slideshow": {
     "slide_type": ""
    }
   },
   "source": [
    "<div class=\"licence\">\n",
    "<span>Licence CC BY-NC-ND</span>\n",
    "<span>Thierry Parmentelat</span>\n",
    "</div>"
   ]
  },
  {
   "cell_type": "code",
   "execution_count": null,
   "metadata": {
    "slideshow": {
     "slide_type": "slide"
    }
   },
   "outputs": [],
   "source": [
    "from plan import plan_extras; plan_extras(\"notebooks\")"
   ]
  },
  {
   "cell_type": "markdown",
   "metadata": {
    "run_control": {
     "frozen": false,
     "read_only": false
    },
    "slideshow": {
     "slide_type": "slide"
    }
   },
   "source": [
    "# introduction aux notebooks"
   ]
  },
  {
   "cell_type": "markdown",
   "metadata": {
    "run_control": {
     "frozen": false,
     "read_only": false
    }
   },
   "source": [
    "## c'est quoi un notebook ?"
   ]
  },
  {
   "cell_type": "markdown",
   "metadata": {
    "run_control": {
     "frozen": false,
     "read_only": false
    }
   },
   "source": [
    "un document hybride qui mélange:\n",
    "\n",
    "* du texte formatté,\n",
    "* des équations et illustrations,\n",
    "* avec des fragments de code exécutable,\n",
    "* possiblement interactifs."
   ]
  },
  {
   "cell_type": "markdown",
   "metadata": {
    "run_control": {
     "frozen": false,
     "read_only": false
    },
    "slideshow": {
     "slide_type": "slide"
    }
   },
   "source": [
    "## un exemple en ligne"
   ]
  },
  {
   "cell_type": "markdown",
   "metadata": {
    "run_control": {
     "frozen": false,
     "read_only": false
    }
   },
   "source": [
    "la revue Nature a publié en janvier 2015 un exemple de notebook interactif\n",
    "\n",
    "* longtemps en ligne [sur nature.com](http://www.nature.com/news/ipython-interactive-demo-7.21492)\n",
    "* sources dans github <https://github.com/jupyter/nature-demo/>\n",
    "\n",
    "c'est un exemple très parlant de ce qu'on peut en faire."
   ]
  },
  {
   "cell_type": "markdown",
   "metadata": {
    "run_control": {
     "frozen": false,
     "read_only": false
    },
    "slideshow": {
     "slide_type": "slide"
    }
   },
   "source": [
    "## les grandes lignes"
   ]
  },
  {
   "cell_type": "markdown",
   "metadata": {
    "run_control": {
     "frozen": false,
     "read_only": false
    }
   },
   "source": [
    "* le notebook est une suite de cellules\n",
    "* chacune typée 'Markdown' ou 'Code'\n",
    "* *Shift+Enter*: pour évaluer une cellule et passer à la suivante"
   ]
  },
  {
   "cell_type": "markdown",
   "metadata": {
    "run_control": {
     "frozen": false,
     "read_only": false
    }
   },
   "source": [
    "* le code est exécuté par le lecteur - qui peut donc **le modifier**\n",
    "*  par exemple pour **faire varier** interactivement les paramètres"
   ]
  },
  {
   "cell_type": "markdown",
   "metadata": {
    "run_control": {
     "frozen": false,
     "read_only": false
    },
    "slideshow": {
     "slide_type": "slide"
    }
   },
   "source": [
    "# pourquoi c'est intéressant ?"
   ]
  },
  {
   "cell_type": "markdown",
   "metadata": {
    "run_control": {
     "frozen": false,
     "read_only": false
    }
   },
   "source": [
    "## applications assez immédiates\n",
    "\n",
    "dans les domaines de\n",
    "\n",
    "* publication scientifique,\n",
    "* éducation,\n",
    "* ingénierie..."
   ]
  },
  {
   "cell_type": "markdown",
   "metadata": {
    "run_control": {
     "frozen": false,
     "read_only": false
    },
    "slideshow": {
     "slide_type": "slide"
    }
   },
   "source": [
    "## publication"
   ]
  },
  {
   "cell_type": "markdown",
   "metadata": {
    "run_control": {
     "frozen": false,
     "read_only": false
    }
   },
   "source": [
    "* plus adapté au monde du 21-ème siècle\n",
    "* que le papier - fût-il en pdf -  \n",
    "  qui est un format … de la fin du 15-ème !"
   ]
  },
  {
   "cell_type": "markdown",
   "metadata": {
    "run_control": {
     "frozen": false,
     "read_only": false
    }
   },
   "source": [
    "* début de réponse à l'idéal du *runnable paper*\n",
    "* ouvre la voie à une recherche plus reproductible\n",
    "* et à l'exploration autour des conditions originales"
   ]
  },
  {
   "cell_type": "markdown",
   "metadata": {
    "run_control": {
     "frozen": false,
     "read_only": false
    },
    "slideshow": {
     "slide_type": "slide"
    }
   },
   "source": [
    "## éducation"
   ]
  },
  {
   "cell_type": "markdown",
   "metadata": {
    "run_control": {
     "frozen": false,
     "read_only": false
    }
   },
   "source": [
    "* idéal pour assembler le cours et les TPs qui vont avec\n",
    "* sans que l'étudiant ait son attention dispersée \n",
    "* par d'incessants changements de contexte"
   ]
  },
  {
   "cell_type": "markdown",
   "metadata": {
    "run_control": {
     "frozen": false,
     "read_only": false
    },
    "slideshow": {
     "slide_type": "slide"
    }
   },
   "source": [
    "## autres intérêts"
   ]
  },
  {
   "cell_type": "markdown",
   "metadata": {
    "run_control": {
     "frozen": false,
     "read_only": false
    }
   },
   "source": [
    "* communication entre professionels\n",
    "* assembler explications, données et code\n",
    "* ..."
   ]
  },
  {
   "cell_type": "markdown",
   "metadata": {
    "run_control": {
     "frozen": false,
     "read_only": false
    },
    "slideshow": {
     "slide_type": "slide"
    }
   },
   "source": [
    "# un peu d'histoire"
   ]
  },
  {
   "cell_type": "markdown",
   "metadata": {
    "run_control": {
     "frozen": false,
     "read_only": false
    }
   },
   "source": [
    "* tout début 2001-2005 : premiers essais infructueux (Perez + Kern)\n",
    "* 2-ème essai 2007-2011 : première release de IPython fin 2011\n",
    "* 2014: Jupyter - spin-off de IPython\n",
    "  * IPython est maintenant le nom du kernel Python\n",
    "  * autres kernels disponibles (R, Julia, ...)\n",
    "* 2017: JupyterLab - environnement tout-en-un"
   ]
  },
  {
   "cell_type": "markdown",
   "metadata": {
    "run_control": {
     "frozen": false,
     "read_only": false
    },
    "slideshow": {
     "slide_type": "slide"
    }
   },
   "source": [
    "## histoire (suite)\n",
    "\n",
    "* similitudes avec le modèle de notebook de sage a.k.a. <sagemath.org>\n",
    "* et aussi semble-t-il avec un google notebook (service fermé en 2012)\n",
    "* tous inspirés des notebooks mathematica (1988!) et des worksheets maple\n"
   ]
  },
  {
   "cell_type": "markdown",
   "metadata": {
    "heading_collapsed": true,
    "run_control": {
     "frozen": false,
     "read_only": false
    }
   },
   "source": [
    "## sources\n",
    "\n",
    "* [Fernando Perez (IPython)](http://blog.fperez.org/2012/01/ipython-notebook-historical.html)\n",
    "* [William Stein (Sage)](https://groups.google.com/forum/#!topic/sage-devel/uc9HIMREh9Y)\n",
    "* [Une bonne synthèse](https://www.datacamp.com/community/tutorials/tutorial-jupyter-notebook#gs.aOP5gG0)\n"
   ]
  },
  {
   "cell_type": "markdown",
   "metadata": {
    "run_control": {
     "frozen": false,
     "read_only": false
    },
    "slideshow": {
     "slide_type": "slide"
    }
   },
   "source": [
    "## situation actuelle\n"
   ]
  },
  {
   "cell_type": "markdown",
   "metadata": {
    "run_control": {
     "frozen": false,
     "read_only": false
    }
   },
   "source": [
    "* projet en pleine effervescence\n",
    "* connu d'abord sous le nom de ipython (jusque 2014)\n",
    "* renommé en Jupyter (Julia - Python - R)  \n",
    "  plus ouvert aux autres langages\n",
    "* nouvel outil disponible sous le nom jupyterlab\n",
    "* il serait vain de vouloir enseigner ces outils\n",
    "* détails modifiés en permanence\n"
   ]
  },
  {
   "cell_type": "markdown",
   "metadata": {
    "run_control": {
     "frozen": false,
     "read_only": false
    },
    "slideshow": {
     "slide_type": "slide"
    }
   },
   "source": [
    "## le format notebook\n"
   ]
  },
  {
   "cell_type": "markdown",
   "metadata": {
    "run_control": {
     "frozen": false,
     "read_only": false
    }
   },
   "source": [
    "il reste cependant - heureusement ! - que :\n",
    "\n",
    "* le format du notebook est stable, bien documenté,\n",
    "* avec des outils de conversion 'command-line' simples\n",
    "* et des APIs maintenues."
   ]
  },
  {
   "cell_type": "markdown",
   "metadata": {
    "run_control": {
     "frozen": false,
     "read_only": false
    },
    "slideshow": {
     "slide_type": "slide"
    }
   },
   "source": [
    "# premiers pas jupyter notebook\n"
   ]
  },
  {
   "cell_type": "markdown",
   "metadata": {
    "run_control": {
     "frozen": false,
     "read_only": false
    }
   },
   "source": [
    "* je conseille de démarrer par  \n",
    "  une **installation locale** de jupyter\n",
    "* on peut aussi envisager une approche hébergée  \n",
    "  (jupyterhub, nbhosting, sagemath)"
   ]
  },
  {
   "cell_type": "markdown",
   "metadata": {
    "run_control": {
     "frozen": false,
     "read_only": false
    },
    "slideshow": {
     "slide_type": "slide"
    }
   },
   "source": [
    "### installation (1) Jupyter avec anaconda\n",
    "\n",
    "* si vous avez installé anaconda, vous avez déjà Jupyter :)\n"
   ]
  },
  {
   "cell_type": "markdown",
   "metadata": {
    "run_control": {
     "frozen": false,
     "read_only": false
    }
   },
   "source": [
    "### installation (2) jupyter avec pip\n",
    "\n",
    "* sinon avec `pip`\n",
    "\n",
    "```\n",
    "pip install jupyter jupyterlab\n",
    "```\n"
   ]
  },
  {
   "cell_type": "markdown",
   "metadata": {
    "run_control": {
     "frozen": false,
     "read_only": false
    },
    "slideshow": {
     "slide_type": "slide"
    }
   },
   "source": [
    "\n",
    "les sous-commandes disponibles\n",
    "\n",
    "```\n",
    "$ jupyter --help\n",
    "usage: jupyter <snip> [subcommand]\n",
    "\n",
    "jupyter: interactive computing\n",
    "\n",
    "positional arguments:\n",
    "  subcommand     the subcommand to launch\n",
    "\n",
    "<snip>\n",
    "available subcommands: console kernelspec lab labextension migrate\n",
    "nbconvert nbextension notebook qtconsole <snip>\n",
    "```\n"
   ]
  },
  {
   "cell_type": "markdown",
   "metadata": {
    "run_control": {
     "frozen": false,
     "read_only": false
    },
    "slideshow": {
     "slide_type": "slide"
    }
   },
   "source": [
    "## sous commandes\n",
    "\n",
    "| *commande* | *objet*                          |\n",
    "|------------|----------------------------------|\n",
    "| **notebook**   | interface traditionnelle jupyter |\n",
    "| lab        | nouvelle interface jupyterlab    |\n",
    "| &nbsp; | &nbsp; |\n",
    "| **nbconvert**  | conversions diverses             |\n",
    "| &nbsp; | &nbsp; |\n",
    "| kernelspec | gestion des noyaux disponibles   |\n",
    "| nbextension | gestion de plugins jupyter      |\n",
    "| labextension | gestion de plugins jupyterlab  |\n",
    "| &nbsp; | &nbsp;|\n",
    "| console    | cli pour interagir avec noyau    |\n",
    "| qtconsole  | idem sous interface qt           |\n",
    "\n"
   ]
  },
  {
   "cell_type": "markdown",
   "metadata": {
    "run_control": {
     "frozen": false,
     "read_only": false
    },
    "slideshow": {
     "slide_type": "slide"
    }
   },
   "source": [
    "## utilisation typique\n",
    "\n",
    "```\n",
    "$ jupyter notebook\n",
    "```\n",
    "\n",
    "va faire plusieurs choses:\n",
    "\n",
    "* lance un serveur (web) de notebooks\n",
    "  * `the jupyter notebook is running at: http://localhost:8888/?token=blabla`\n",
    "* crée une fenêtre/tab dans un browser (selon vos réglages)\n",
    "* qui se connecte au service de notebooks\n",
    "\n"
   ]
  },
  {
   "cell_type": "markdown",
   "metadata": {
    "run_control": {
     "frozen": false,
     "read_only": false
    },
    "slideshow": {
     "slide_type": "slide"
    }
   },
   "source": [
    "# mon premier notebook\n",
    "\n",
    "![](media/notebooks-001-run.png)"
   ]
  },
  {
   "cell_type": "markdown",
   "metadata": {
    "run_control": {
     "frozen": false,
     "read_only": false
    },
    "slideshow": {
     "slide_type": "slide"
    }
   },
   "source": [
    "![](media/notebooks-002-welcome.png)"
   ]
  },
  {
   "cell_type": "markdown",
   "metadata": {
    "run_control": {
     "frozen": false,
     "read_only": false
    },
    "slideshow": {
     "slide_type": "slide"
    }
   },
   "source": [
    "![](media/notebooks-003-creating-py3.png)"
   ]
  },
  {
   "cell_type": "markdown",
   "metadata": {
    "run_control": {
     "frozen": false,
     "read_only": false
    },
    "slideshow": {
     "slide_type": "slide"
    }
   },
   "source": [
    "![](media/notebooks-004-renaming.png)"
   ]
  },
  {
   "cell_type": "markdown",
   "metadata": {
    "run_control": {
     "frozen": false,
     "read_only": false
    },
    "slideshow": {
     "slide_type": "slide"
    }
   },
   "source": [
    "![](media/notebooks-005-named.png)"
   ]
  },
  {
   "cell_type": "markdown",
   "metadata": {
    "run_control": {
     "frozen": false,
     "read_only": false
    },
    "slideshow": {
     "slide_type": "slide"
    }
   },
   "source": [
    "![](media/notebooks-006-saved.png)"
   ]
  },
  {
   "cell_type": "markdown",
   "metadata": {
    "run_control": {
     "frozen": false,
     "read_only": false
    },
    "slideshow": {
     "slide_type": "slide"
    }
   },
   "source": [
    "### contenu\n",
    "\n",
    "* suite de cellules\n",
    "* chacune typée 'markdown' ou 'code'\n",
    "* (ou aussi d'ailleurs 'raw' mais j'en déconseille l'usage)"
   ]
  },
  {
   "cell_type": "markdown",
   "metadata": {
    "run_control": {
     "frozen": false,
     "read_only": false
    },
    "slideshow": {
     "slide_type": "slide"
    }
   },
   "source": [
    "![](media/notebooks-007-markdown.png)\n"
   ]
  },
  {
   "cell_type": "markdown",
   "metadata": {
    "run_control": {
     "frozen": false,
     "read_only": false
    },
    "slideshow": {
     "slide_type": "slide"
    }
   },
   "source": [
    "![](media/notebooks-008-insert-cell.png)"
   ]
  },
  {
   "cell_type": "markdown",
   "metadata": {
    "run_control": {
     "frozen": false,
     "read_only": false
    },
    "slideshow": {
     "slide_type": "slide"
    }
   },
   "source": [
    "![](media/notebooks-009-code-cell.png)\n"
   ]
  },
  {
   "cell_type": "markdown",
   "metadata": {
    "run_control": {
     "frozen": false,
     "read_only": false
    },
    "slideshow": {
     "slide_type": "slide"
    }
   },
   "source": [
    "### la logique édition / commande\n",
    "\n",
    "* la couleur de la cellule sélectionnée indique le mode"
   ]
  },
  {
   "cell_type": "markdown",
   "metadata": {
    "run_control": {
     "frozen": false,
     "read_only": false
    },
    "slideshow": {
     "slide_type": "slide"
    }
   },
   "source": [
    "![](media/notebooks-010-edit-mode.png)"
   ]
  },
  {
   "cell_type": "markdown",
   "metadata": {
    "run_control": {
     "frozen": false,
     "read_only": false
    },
    "slideshow": {
     "slide_type": "slide"
    }
   },
   "source": [
    "![](media/notebooks-011-cmd-mode.png)\n"
   ]
  },
  {
   "cell_type": "markdown",
   "metadata": {
    "run_control": {
     "frozen": false,
     "read_only": false
    },
    "slideshow": {
     "slide_type": "slide"
    }
   },
   "source": [
    "### commandes utiles\n",
    "\n",
    "* les commandes clavier avec *Entrée*\n",
    "  * Control-Entrée : évaluer la/les cellule(s)\n",
    "  * Maj-Entrée : évaluer et passer à la suite\n",
    "  * Alt-Entrée : évaluer et insérer une cellule vide\n"
   ]
  },
  {
   "cell_type": "markdown",
   "metadata": {
    "run_control": {
     "frozen": false,
     "read_only": false
    },
    "slideshow": {
     "slide_type": "slide"
    }
   },
   "source": [
    "### et dans les menus\n",
    "\n",
    "voir surtout\n",
    "\n",
    "* *File -> Save*\n",
    "  * note: checkpoints : pas disponible\n",
    "\n",
    "* *File -> Download as ...*\n",
    "  * par exemple obtenir le notebook comme un `.py`\n",
    "\n",
    "* *Kernel -> Restart & Clear output*\n",
    "* *Kernel -> Restart & Run all*\n"
   ]
  },
  {
   "cell_type": "markdown",
   "metadata": {
    "cell_style": "split",
    "run_control": {
     "frozen": false,
     "read_only": false
    },
    "slideshow": {
     "slide_type": "slide"
    }
   },
   "source": [
    "### raccourcis clavier\n",
    "\n",
    "pour visualiser :\n",
    "\n",
    "* menu : *Help -> Keyboard Shortcuts*\n",
    "* command-mode : tapez `H`\n",
    "* edit-mode: tapez `Control-M H`"
   ]
  },
  {
   "cell_type": "markdown",
   "metadata": {
    "cell_style": "split",
    "run_control": {
     "frozen": false,
     "read_only": false
    },
    "slideshow": {
     "slide_type": ""
    }
   },
   "source": [
    "![](media/notebooks-020-keyboard-shortcuts.png)"
   ]
  },
  {
   "cell_type": "markdown",
   "metadata": {
    "run_control": {
     "frozen": false,
     "read_only": false
    },
    "slideshow": {
     "slide_type": "slide"
    }
   },
   "source": [
    "## à retenir:\n",
    "\n",
    "* mode 'édition' : `control-m` + clé\n",
    "* mode 'commande' : clé directement\n"
   ]
  },
  {
   "cell_type": "markdown",
   "metadata": {
    "run_control": {
     "frozen": false,
     "read_only": false
    },
    "slideshow": {
     "slide_type": "slide"
    }
   },
   "source": [
    "## raccourcis **très utiles**\n",
    "\n",
    "| raccourci | effet |\n",
    "|-----------|---------|\n",
    "| `y` | cellule(s) de type code |\n",
    "| `m` | cellule de type markdown |\n",
    "| `1`..`6` | markdown + titre |\n",
    "\n",
    "#### et aussi\n",
    "\n",
    "| raccourci | effet |\n",
    "|-----------|---------|\n",
    "| `a` | insère une cellule au dessus |\n",
    "| `b` | insère une cellule au dessous |\n",
    "| `f` | find & replace |\n"
   ]
  },
  {
   "cell_type": "markdown",
   "metadata": {
    "run_control": {
     "frozen": false,
     "read_only": false
    },
    "slideshow": {
     "slide_type": "slide"
    }
   },
   "source": [
    "## sélection de plusieurs cellules\n",
    "\n",
    "* Maj-Flêche (haut/bas)\n",
    "* Maj-J/K"
   ]
  },
  {
   "cell_type": "markdown",
   "metadata": {
    "run_control": {
     "frozen": false,
     "read_only": false
    },
    "slideshow": {
     "slide_type": "slide"
    }
   },
   "source": [
    "![](media/notebooks-030-sel-mult.png)"
   ]
  },
  {
   "cell_type": "markdown",
   "metadata": {
    "run_control": {
     "frozen": false,
     "read_only": false
    },
    "slideshow": {
     "slide_type": "slide"
    }
   },
   "source": [
    "![](media/notebooks-031-sel-moved-down.png)"
   ]
  },
  {
   "cell_type": "markdown",
   "metadata": {
    "run_control": {
     "frozen": false,
     "read_only": false
    },
    "slideshow": {
     "slide_type": "slide"
    }
   },
   "source": [
    "### les cellules de texte"
   ]
  },
  {
   "cell_type": "markdown",
   "metadata": {
    "run_control": {
     "frozen": false,
     "read_only": false
    }
   },
   "source": [
    "les deux composantes pour la partie texte:\n",
    "    \n",
    "* le format [`markdown`](https://en.wikipedia.org/wiki/Markdown)\n",
    "* le langage [`mathjax`](https://www.mathjax.org/) pour les équations à la $\\LaTeX$"
   ]
  },
  {
   "cell_type": "markdown",
   "metadata": {
    "run_control": {
     "frozen": false,
     "read_only": false
    },
    "slideshow": {
     "slide_type": "slide"
    }
   },
   "source": [
    "### markdown"
   ]
  },
  {
   "cell_type": "markdown",
   "metadata": {
    "run_control": {
     "frozen": false,
     "read_only": false
    },
    "slideshow": {
     "slide_type": ""
    }
   },
   "source": [
    "* popularisé notamment grâce à github\n",
    "  * README.md\n",
    "  * usage pervasif sur tout le site\n",
    "* commence à être très répandu\n",
    "* déployé par exemple sur les forums FUN"
   ]
  },
  {
   "cell_type": "markdown",
   "metadata": {
    "run_control": {
     "frozen": false,
     "read_only": false
    },
    "slideshow": {
     "slide_type": "slide"
    }
   },
   "source": [
    "## sections\n",
    "\n",
    "```\n",
    "# titre 1\n",
    "## titre 2\n",
    "### etc.\n",
    "```\n",
    "\n",
    "# titre 1\n",
    "## titre 2\n",
    "### etc.\n"
   ]
  },
  {
   "cell_type": "markdown",
   "metadata": {
    "run_control": {
     "frozen": false,
     "read_only": false
    },
    "slideshow": {
     "slide_type": "slide"
    }
   },
   "source": [
    "### listes à bulles"
   ]
  },
  {
   "cell_type": "markdown",
   "metadata": {
    "run_control": {
     "frozen": false,
     "read_only": false
    },
    "slideshow": {
     "slide_type": "slide"
    }
   },
   "source": [
    "```\n",
    "\n",
    "* une liste à bulles\n",
    "* avec d'autres bulles\n",
    "  * et s'il le faut\n",
    "  * des sous-bulles\n",
    "```\n",
    "\n",
    "* une liste à bulles\n",
    "* avec d'autres bulles\n",
    "  * et s'il le faut\n",
    "  * des sous-bulles"
   ]
  },
  {
   "cell_type": "markdown",
   "metadata": {
    "run_control": {
     "frozen": false,
     "read_only": false
    },
    "slideshow": {
     "slide_type": "slide"
    }
   },
   "source": [
    "### listes à numéros"
   ]
  },
  {
   "cell_type": "markdown",
   "metadata": {
    "run_control": {
     "frozen": false,
     "read_only": false
    },
    "slideshow": {
     "slide_type": "slide"
    }
   },
   "source": [
    "```\n",
    "1. une liste à numéros\n",
    "1. avec d'autres bulles\n",
    "  1. et s'il le faut\n",
    "  1. des sous-bulles\n",
    "```\n",
    "\n",
    "1. une liste à numéros\n",
    "1. avec d'autres bulles\n",
    "  1. et s'il le faut\n",
    "  1. des sous-bulles"
   ]
  },
  {
   "cell_type": "markdown",
   "metadata": {
    "run_control": {
     "frozen": false,
     "read_only": false
    },
    "slideshow": {
     "slide_type": "slide"
    }
   },
   "source": [
    "### styles (1)"
   ]
  },
  {
   "cell_type": "markdown",
   "metadata": {
    "run_control": {
     "frozen": false,
     "read_only": false
    },
    "slideshow": {
     "slide_type": ""
    }
   },
   "source": [
    "```\n",
    "\n",
    "* le plus utile `pour montrer du code`\n",
    "* ou du texte **en gras**\n",
    "* ou *en italique*\n",
    "* ou ***en gras italique***\n",
    "```\n",
    "\n",
    "* le plus utile `pour montrer du code`\n",
    "* ou du texte **en gras**\n",
    "* ou *en italique*\n",
    "* ou ***en gras italique***"
   ]
  },
  {
   "cell_type": "markdown",
   "metadata": {
    "run_control": {
     "frozen": false,
     "read_only": false
    },
    "slideshow": {
     "slide_type": "slide"
    }
   },
   "source": [
    "### styles (2)"
   ]
  },
  {
   "cell_type": "markdown",
   "metadata": {
    "run_control": {
     "frozen": false,
     "read_only": false
    },
    "slideshow": {
     "slide_type": ""
    }
   },
   "source": [
    "    ```\n",
    "    Un long fragment qu'on veut laisser tel quel\n",
    "    e.g. une sortie de terminal\n",
    "    ```\n",
    "\n",
    "```\n",
    "Un long fragment qu'on veut laisser tel quel\n",
    "e.g. une sortie de terminal\n",
    "```"
   ]
  },
  {
   "cell_type": "markdown",
   "metadata": {
    "run_control": {
     "frozen": false,
     "read_only": false
    },
    "slideshow": {
     "slide_type": "slide"
    }
   },
   "source": [
    "### liens"
   ]
  },
  {
   "cell_type": "markdown",
   "metadata": {
    "run_control": {
     "frozen": false,
     "read_only": false
    },
    "slideshow": {
     "slide_type": ""
    }
   },
   "source": [
    "```\n",
    "l'url telle quelle https://github.com ou <https://github.com>\n",
    "```\n",
    "\n",
    "l'url telle quelle https://github.com ou <https://github.com>"
   ]
  },
  {
   "cell_type": "markdown",
   "metadata": {
    "run_control": {
     "frozen": false,
     "read_only": false
    },
    "slideshow": {
     "slide_type": "-"
    }
   },
   "source": [
    "```\n",
    "[le texte qui apparait](http://github.com/)\n",
    "```\n",
    "\n",
    "[le texte qui apparait](http://github.com/)"
   ]
  },
  {
   "cell_type": "markdown",
   "metadata": {
    "run_control": {
     "frozen": false,
     "read_only": false
    },
    "slideshow": {
     "slide_type": "slide"
    }
   },
   "source": [
    "### image"
   ]
  },
  {
   "cell_type": "markdown",
   "metadata": {
    "run_control": {
     "frozen": false,
     "read_only": false
    },
    "slideshow": {
     "slide_type": "-"
    }
   },
   "source": [
    "sans changement de taille\n",
    "\n",
    "```\n",
    "![une légende](media/markdown-cheatsheet-online-1.png)\n",
    "```\n",
    "\n",
    "![une légende](media/markdown-cheatsheet-online-1.png)"
   ]
  },
  {
   "cell_type": "markdown",
   "metadata": {
    "run_control": {
     "frozen": false,
     "read_only": false
    },
    "slideshow": {
     "slide_type": "slide"
    }
   },
   "source": [
    "et la suite..\n",
    "![une légende](media/markdown-cheatsheet-online-2.png)"
   ]
  },
  {
   "cell_type": "markdown",
   "metadata": {
    "run_control": {
     "frozen": false,
     "read_only": false
    },
    "slideshow": {
     "slide_type": "slide"
    }
   },
   "source": [
    "### block quotes"
   ]
  },
  {
   "cell_type": "markdown",
   "metadata": {
    "run_control": {
     "frozen": false,
     "read_only": false
    },
    "slideshow": {
     "slide_type": ""
    }
   },
   "source": [
    "```\n",
    "> anecdotique, mais parfois on a besoin de citer quelqu'un,\n",
    "> comme pour les messages électroniques\n",
    "> > les citations peuvent être emboitées\n",
    "```\n",
    "\n",
    "> anecdotique, mais parfois on a besoin de citer quelqu'un,\n",
    "> comme pour les messages électroniques\n",
    "> > les citations peuvent être emboitées"
   ]
  },
  {
   "cell_type": "markdown",
   "metadata": {
    "run_control": {
     "frozen": false,
     "read_only": false
    },
    "slideshow": {
     "slide_type": "slide"
    }
   },
   "source": [
    "### remarques"
   ]
  },
  {
   "cell_type": "markdown",
   "metadata": {
    "run_control": {
     "frozen": false,
     "read_only": false
    },
    "slideshow": {
     "slide_type": ""
    }
   },
   "source": [
    "* markdown pas extrêmement bien standardisé\n",
    "* notamment pour les tables\n",
    "* mais beaucoup plus compact et pratique\n",
    "* que des versions plus lourdes comme notamment reST\n",
    "* accepter la philosophie (simpler is better)"
   ]
  },
  {
   "cell_type": "markdown",
   "metadata": {
    "run_control": {
     "frozen": false,
     "read_only": false
    },
    "slideshow": {
     "slide_type": "slide"
    }
   },
   "source": [
    "### Mathjax"
   ]
  },
  {
   "cell_type": "markdown",
   "metadata": {
    "run_control": {
     "frozen": false,
     "read_only": false
    },
    "slideshow": {
     "slide_type": "slide"
    }
   },
   "source": [
    "* [mathjax](https://github.com/mathjax/MathJax)\n",
    "* supporte une grosse partie des équations $\\LaTeX$\n",
    "* principalement il suffit d'insérer \n",
    "  * entre deux `$` (inline)\n",
    "  * entre deux `$$` (paragraphe)\n",
    "\n",
    "* exemples tirés de [wikipedia](https://en.wikibooks.org/wiki/LaTeX/Mathematics)"
   ]
  },
  {
   "cell_type": "markdown",
   "metadata": {
    "run_control": {
     "frozen": false,
     "read_only": false
    },
    "slideshow": {
     "slide_type": "slide"
    }
   },
   "source": [
    "### équations (1)"
   ]
  },
  {
   "cell_type": "markdown",
   "metadata": {
    "run_control": {
     "frozen": false,
     "read_only": false
    },
    "slideshow": {
     "slide_type": ""
    }
   },
   "source": [
    "```\n",
    "on peut sans souci insérer $f(n) = n^5 + 4n^2 + 2 |_{n=17}$\n",
    "au beau milieu d'une ligne\n",
    "```\n",
    "\n",
    "on peut sans souci insérer $f(n) = n^5 + 4n^2 + 2 |_{n=17}$ \n",
    "au beau milieu d'une ligne\n",
    "\n",
    "ou simplement utiliser $\\bigotimes$ un seul symbole de la ménagerie $\\LaTeX$\n",
    "\n",
    "ou mettre des caractères Unicode → bien entendu"
   ]
  },
  {
   "cell_type": "markdown",
   "metadata": {
    "run_control": {
     "frozen": false,
     "read_only": false
    },
    "slideshow": {
     "slide_type": "slide"
    }
   },
   "source": [
    "### équations (2)\n",
    "\n",
    "mais si l'équation est un peu plus grosse, sur sa propre ligne"
   ]
  },
  {
   "cell_type": "markdown",
   "metadata": {
    "cell_style": "split",
    "run_control": {
     "frozen": false,
     "read_only": false
    }
   },
   "source": [
    "```\n",
    "$ x = a_0 + \\cfrac{1}{a_1 \n",
    "          + \\cfrac{1}{a_2 \n",
    "          + \\cfrac{1}{a_3 + \\cfrac{1}{a_4} } } } $\n",
    "```"
   ]
  },
  {
   "cell_type": "markdown",
   "metadata": {
    "cell_style": "split",
    "run_control": {
     "frozen": false,
     "read_only": false
    },
    "slideshow": {
     "slide_type": "-"
    }
   },
   "source": [
    "$ x = a_0 + \\cfrac{1}{a_1 \n",
    "          + \\cfrac{1}{a_2 \n",
    "          + \\cfrac{1}{a_3 + \\cfrac{1}{a_4} } } } $"
   ]
  },
  {
   "cell_type": "markdown",
   "metadata": {
    "run_control": {
     "frozen": false,
     "read_only": false
    },
    "slideshow": {
     "slide_type": "slide"
    }
   },
   "source": [
    "### équations (3)"
   ]
  },
  {
   "cell_type": "markdown",
   "metadata": {
    "cell_style": "split",
    "run_control": {
     "frozen": false,
     "read_only": false
    }
   },
   "source": [
    "```\n",
    "$\n",
    "A_{m,n} = \n",
    " \\begin{pmatrix}\n",
    "  a_{1,1} & a_{1,2} & \\cdots & a_{1,n} \\\\\n",
    "  a_{2,1} & a_{2,2} & \\cdots & a_{2,n} \\\\\n",
    "  \\vdots  & \\vdots  & \\ddots & \\vdots  \\\\\n",
    "  a_{m,1} & a_{m,2} & \\cdots & a_{m,n} \n",
    " \\end{pmatrix}\n",
    "$\n",
    "```"
   ]
  },
  {
   "cell_type": "markdown",
   "metadata": {
    "cell_style": "split",
    "run_control": {
     "frozen": false,
     "read_only": false
    },
    "slideshow": {
     "slide_type": "-"
    }
   },
   "source": [
    "$\n",
    "A_{m,n} = \n",
    " \\begin{pmatrix}\n",
    "  a_{1,1} & a_{1,2} & \\cdots & a_{1,n} \\\\\n",
    "  a_{2,1} & a_{2,2} & \\cdots & a_{2,n} \\\\\n",
    "  \\vdots  & \\vdots  & \\ddots & \\vdots  \\\\\n",
    "  a_{m,1} & a_{m,2} & \\cdots & a_{m,n} \n",
    " \\end{pmatrix}\n",
    "$"
   ]
  },
  {
   "cell_type": "markdown",
   "metadata": {
    "run_control": {
     "frozen": false,
     "read_only": false
    },
    "slideshow": {
     "slide_type": "slide"
    }
   },
   "source": [
    "### exercice\n",
    "\n",
    "objectifs\n",
    "\n",
    "* pour créer votre premier notebook\n",
    "* lancez `notebook jupyter`\n",
    "* préférablement dans un dossier vide\n"
   ]
  },
  {
   "cell_type": "markdown",
   "metadata": {
    "run_control": {
     "frozen": false,
     "read_only": false
    },
    "slideshow": {
     "slide_type": ""
    }
   },
   "source": [
    "et surtout, familiarisez vous avec **les raccourcis** clavier\n",
    "\n",
    "* `esc` et `entrée` pour alterner commande / édition\n",
    "* `control-m` `1`..`6` pour les titres\n",
    "* `shift-entrée` pour passer à la cellule suivante\n",
    "* `control-m` `m` / `control-m` `y` pour alterner markdown/code\n",
    "* flêches haute et basse\n",
    "* shift-flêche : sélection multiple\n",
    "* déplacement vers le haut et bas"
   ]
  },
  {
   "cell_type": "markdown",
   "metadata": {
    "run_control": {
     "frozen": false,
     "read_only": false
    },
    "slideshow": {
     "slide_type": "slide"
    }
   },
   "source": [
    "### voir aussi"
   ]
  },
  {
   "cell_type": "markdown",
   "metadata": {
    "run_control": {
     "frozen": false,
     "read_only": false
    },
    "slideshow": {
     "slide_type": ""
    }
   },
   "source": [
    "voyez le menu 'home'\n",
    "\n",
    "* correspond au répertoire où vous avez lancé jupyter\n",
    "* vous permet de renommer les notebooks\n",
    "* et les supprimer"
   ]
  },
  {
   "cell_type": "markdown",
   "metadata": {
    "run_control": {
     "frozen": false,
     "read_only": false
    },
    "slideshow": {
     "slide_type": "slide"
    }
   },
   "source": [
    "## nouvelle interface: jupyterlab\n",
    "\n",
    "* disponible en 1.0 depuis Juillet 2019\n",
    "* multiples outils\n",
    "* dans *un seul tab* du browser\n",
    "\n",
    "```\n",
    "$ pip show jupyterlab\n",
    "Name: jupyterlab\n",
    "Version: 1.1.1\n",
    "...\n",
    "```\n"
   ]
  },
  {
   "cell_type": "markdown",
   "metadata": {
    "run_control": {
     "frozen": false,
     "read_only": false
    },
    "slideshow": {
     "slide_type": "slide"
    }
   },
   "source": [
    "\n",
    "```\n",
    "$ jupyter lab\n",
    "```\n",
    "\n",
    "![](media/notebooks-041-lab-welcome.png)\n"
   ]
  },
  {
   "cell_type": "markdown",
   "metadata": {
    "run_control": {
     "frozen": false,
     "read_only": false
    },
    "slideshow": {
     "slide_type": "slide"
    }
   },
   "source": [
    "![](media/notebooks-042-lab-3tabs.png)\n"
   ]
  },
  {
   "cell_type": "markdown",
   "metadata": {
    "run_control": {
     "frozen": false,
     "read_only": false
    },
    "slideshow": {
     "slide_type": "slide"
    }
   },
   "source": [
    "![](media/notebooks-043-lab-commands.png)\n"
   ]
  },
  {
   "cell_type": "markdown",
   "metadata": {
    "run_control": {
     "frozen": false,
     "read_only": false
    },
    "slideshow": {
     "slide_type": "slide"
    }
   },
   "source": [
    "![](media/notebooks-044-lab-multi-tools.png)\n"
   ]
  },
  {
   "cell_type": "markdown",
   "metadata": {
    "run_control": {
     "frozen": false,
     "read_only": false
    },
    "slideshow": {
     "slide_type": "slide"
    }
   },
   "source": [
    "![](media/notebooks-045-lab-terminal.png)\n"
   ]
  },
  {
   "cell_type": "markdown",
   "metadata": {
    "run_control": {
     "frozen": false,
     "read_only": false
    },
    "slideshow": {
     "slide_type": "slide"
    }
   },
   "source": [
    "![](media/notebooks-046-lab-console.png)\n"
   ]
  }
 ],
 "metadata": {
  "celltoolbar": "Slideshow",
  "jupytext": {
   "cell_metadata_filter": "all",
   "notebook_metadata_filter": "all,-language_info,-toc,-jupytext.text_representation.jupytext_version"
  },
  "kernelspec": {
   "display_name": "Python 3",
   "language": "python",
   "name": "python3"
  },
  "language_info": {
   "codemirror_mode": {
    "name": "ipython",
    "version": 3
   },
   "file_extension": ".py",
   "mimetype": "text/x-python",
   "name": "python",
   "nbconvert_exporter": "python",
   "pygments_lexer": "ipython3",
   "version": "3.8.3"
  },
  "notebookname": "introduction aux notebooks",
  "rise": {
   "autolaunch": true,
   "slideNumber": "c/t",
   "start_slideshow_at": "selected",
   "theme": "sky",
   "transition": "cube"
  },
  "toc": {
   "base_numbering": 1,
   "nav_menu": {
    "height": "513px",
    "width": "253px"
   },
   "number_sections": true,
   "sideBar": false,
   "skip_h1_title": false,
   "title_cell": "Table of Contents",
   "title_sidebar": "Contents",
   "toc_cell": false,
   "toc_position": {
    "height": "851px",
    "left": "1460.98px",
    "right": "1206px",
    "top": "37.9883px",
    "width": "328px"
   },
   "toc_section_display": "block",
   "toc_window_display": false
  },
  "version": "1.0"
 },
 "nbformat": 4,
 "nbformat_minor": 4
}
