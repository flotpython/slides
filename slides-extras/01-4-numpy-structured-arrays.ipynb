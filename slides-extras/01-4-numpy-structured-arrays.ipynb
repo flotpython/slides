{
 "cells": [
  {
   "cell_type": "markdown",
   "metadata": {
    "run_control": {
     "frozen": false,
     "read_only": false
    },
    "slideshow": {
     "slide_type": "slide"
    }
   },
   "source": [
    "<div class=\"licence\">\n",
    "<span>Licence CC BY-NC-ND</span>\n",
    "<span>Thierry Parmentelat &amp; Arnaud Legout</span>\n",
    "</div>"
   ]
  },
  {
   "cell_type": "code",
   "execution_count": null,
   "metadata": {
    "slideshow": {
     "slide_type": "slide"
    }
   },
   "outputs": [],
   "source": [
    "from plan import plan_extras; plan_extras(\"numpy\", \"struct\")"
   ]
  },
  {
   "cell_type": "markdown",
   "metadata": {
    "run_control": {
     "frozen": false,
     "read_only": false
    },
    "slideshow": {
     "slide_type": "slide"
    }
   },
   "source": [
    "# structured arrays"
   ]
  },
  {
   "cell_type": "code",
   "execution_count": null,
   "metadata": {
    "run_control": {
     "frozen": false,
     "read_only": false
    }
   },
   "outputs": [],
   "source": [
    "import numpy as np\n",
    "import matplotlib.pyplot as plt\n",
    "%matplotlib inline\n",
    "plt.ion()"
   ]
  },
  {
   "cell_type": "markdown",
   "metadata": {
    "run_control": {
     "frozen": false,
     "read_only": false
    }
   },
   "source": [
    "* jusqu'ici on a vu des tableaux *homogènes* \n",
    "  * tous les éléments ont le même type\n",
    "* on peut aussi se définir des types structurés\n",
    "  * comme un 'struct' en c - ou encore un 'record'\n",
    "* demande un peu plus d'efforts au programmeur"
   ]
  },
  {
   "cell_type": "markdown",
   "metadata": {
    "run_control": {
     "frozen": false,
     "read_only": false
    },
    "slideshow": {
     "slide_type": "slide"
    }
   },
   "source": [
    "## exemple"
   ]
  },
  {
   "cell_type": "code",
   "execution_count": null,
   "metadata": {
    "run_control": {
     "frozen": false,
     "read_only": false
    }
   },
   "outputs": [],
   "source": [
    "classe = np.array(\n",
    "  # les données sont une liste d'éléments homogènes\n",
    "  [ \n",
    "   # mais cette fois chaque élément (ligne) est un composite\n",
    "   # que l'on peut décrire dans un tuple\n",
    "    ( 'Jean', 'Dupont', 32),\n",
    "   # tous les tuples doivent avoir la même structure\n",
    "    ( 'Daniel', 'Durand', 18),  ( 'Joseph', 'Delapierre', 54),\n",
    "    ( 'Paul', 'Girard', 20)])"
   ]
  },
  {
   "cell_type": "code",
   "execution_count": null,
   "metadata": {
    "run_control": {
     "frozen": false,
     "read_only": false
    },
    "slideshow": {
     "slide_type": "-"
    }
   },
   "outputs": [],
   "source": [
    "print(classe)"
   ]
  },
  {
   "cell_type": "markdown",
   "metadata": {
    "run_control": {
     "frozen": false,
     "read_only": false
    },
    "slideshow": {
     "slide_type": "slide"
    }
   },
   "source": [
    "### `dtype`"
   ]
  },
  {
   "cell_type": "code",
   "execution_count": null,
   "metadata": {
    "run_control": {
     "frozen": false,
     "read_only": false
    }
   },
   "outputs": [],
   "source": [
    "classe.dtype"
   ]
  },
  {
   "cell_type": "markdown",
   "metadata": {
    "run_control": {
     "frozen": false,
     "read_only": false
    }
   },
   "source": [
    "comme pour les tableaux homogènes:\n",
    "\n",
    "* comme je n'ai pas précisé de type\n",
    "* c'est numpy qui en choisi un pour moi\n",
    "* ici le plus petit dénominateur commun c'est le type string \n",
    "* de taille 10 d'ailleurs"
   ]
  },
  {
   "cell_type": "markdown",
   "metadata": {
    "run_control": {
     "frozen": false,
     "read_only": false
    },
    "slideshow": {
     "slide_type": "slide"
    }
   },
   "source": [
    "* j'ai encore tableau homogène\n",
    "* et d'ailleurs je peux toujours perdre de la précision"
   ]
  },
  {
   "cell_type": "code",
   "execution_count": null,
   "metadata": {
    "run_control": {
     "frozen": false,
     "read_only": false
    },
    "slideshow": {
     "slide_type": "-"
    }
   },
   "outputs": [],
   "source": [
    "classe[0, 0]"
   ]
  },
  {
   "cell_type": "code",
   "execution_count": null,
   "metadata": {
    "run_control": {
     "frozen": false,
     "read_only": false
    }
   },
   "outputs": [],
   "source": [
    "classe[0, 0] = 'Charles-Henri'\n",
    "classe"
   ]
  },
  {
   "cell_type": "markdown",
   "metadata": {
    "run_control": {
     "frozen": false,
     "read_only": false
    },
    "slideshow": {
     "slide_type": "slide"
    }
   },
   "source": [
    "## spécifier `dtype`"
   ]
  },
  {
   "cell_type": "markdown",
   "metadata": {
    "run_control": {
     "frozen": false,
     "read_only": false
    }
   },
   "source": [
    "* c'est important d'élaborer un type\n",
    "* d'autant que toutes les colonnes ne sont pas identiques"
   ]
  },
  {
   "cell_type": "code",
   "execution_count": null,
   "metadata": {
    "run_control": {
     "frozen": false,
     "read_only": false
    }
   },
   "outputs": [],
   "source": [
    "classe2 = np.array([ ( 'Jean', 'Dupont', 32),\n",
    "                     ( 'Daniel', 'Durand', 18),\n",
    "                     ( 'Joseph', 'Delapierre', 54),\n",
    "                     ( 'Paul', 'Girard', 20)],\n",
    "    dtype = [('prenom', '|S12'), ('nom', '|S15'), ('age', np.int)])\n",
    "print(classe2)"
   ]
  },
  {
   "cell_type": "markdown",
   "metadata": {
    "run_control": {
     "frozen": false,
     "read_only": false
    },
    "slideshow": {
     "slide_type": "slide"
    }
   },
   "source": [
    "## impact sur `shape` et `reshape`"
   ]
  },
  {
   "cell_type": "markdown",
   "metadata": {
    "run_control": {
     "frozen": false,
     "read_only": false
    }
   },
   "source": [
    "* dans le cas de cette nouvelle définition\n",
    "* `shape` retourne .. une seule dimension !"
   ]
  },
  {
   "cell_type": "code",
   "execution_count": null,
   "metadata": {
    "cell_style": "split",
    "run_control": {
     "frozen": false,
     "read_only": false
    }
   },
   "outputs": [],
   "source": [
    "# on peut faire reshape (même si ça\n",
    "# ne pas beaucoup de sens de toutes façons)\n",
    "print(classe.reshape(3, 4))\n",
    "# car la dimension est habituelle\n",
    "print(\"shape\", classe.shape)"
   ]
  },
  {
   "cell_type": "code",
   "execution_count": null,
   "metadata": {
    "cell_style": "split",
    "run_control": {
     "frozen": false,
     "read_only": false
    }
   },
   "outputs": [],
   "source": [
    "# on ne peut pas faire reshape\n",
    "try: print(classe2.reshape(3, 4))\n",
    "except Exception as e: print(\"OOPS\", e)\n",
    "# la dimension n'est pas ce qu'on\n",
    "# pourrait attendre\n",
    "print(\"shape\", classe2.shape)"
   ]
  },
  {
   "cell_type": "markdown",
   "metadata": {
    "run_control": {
     "frozen": false,
     "read_only": false
    },
    "slideshow": {
     "slide_type": "slide"
    }
   },
   "source": [
    "### dimensions supérieures\n",
    "\n",
    "* on peut sans souci créer des dimensions supérieures\n",
    "* attention toutefois\n",
    "  * comme c'est un tableau de dimension 1\n",
    "  * c'est considéré comme **une ligne** \n",
    "  * dans le contexte d'un tableur\n",
    "  * on préfèrerait peut-être que ce soit présenté en colonnes"
   ]
  },
  {
   "cell_type": "code",
   "execution_count": null,
   "metadata": {
    "run_control": {
     "frozen": false,
     "read_only": false
    }
   },
   "outputs": [],
   "source": [
    "# on peut créer un tableau 2 x 4\n",
    "# par exemple en superposant la même ligne 2 fois\n",
    "classe2x2 = np.vstack( (classe2, classe2))\n",
    "print(classe2x2)\n",
    "print(\"shape = \",classe2x2.shape)"
   ]
  },
  {
   "cell_type": "markdown",
   "metadata": {
    "run_control": {
     "frozen": false,
     "read_only": false
    },
    "slideshow": {
     "slide_type": "slide"
    }
   },
   "source": [
    "## comment définir `dtype`"
   ]
  },
  {
   "cell_type": "markdown",
   "metadata": {
    "run_control": {
     "frozen": false,
     "read_only": false
    },
    "slideshow": {
     "slide_type": "slide"
    }
   },
   "source": [
    "* il existe plusieurs méthodes pour définir un `dtype` pour un 'structured array',\n",
    "* sachant que par ailleurs un élément de la structure peut être à son tour un tableau\n",
    "\n",
    "1. String\n",
    "1. Tuple\n",
    "1. List\n",
    "1. Dict (2 formes)\n",
    "\n",
    "* voire aussi comme [un objet `dtype`](https://docs.scipy.org/doc/numpy/reference/arrays.dtypes.html)"
   ]
  },
  {
   "cell_type": "markdown",
   "metadata": {
    "run_control": {
     "frozen": false,
     "read_only": false
    },
    "slideshow": {
     "slide_type": "slide"
    }
   },
   "source": [
    "### `dtype` défini comme un string"
   ]
  },
  {
   "cell_type": "markdown",
   "metadata": {
    "run_control": {
     "frozen": false,
     "read_only": false
    }
   },
   "source": [
    "* séparé par des virgules\n",
    "* des codes comme e.g. `i8` (entier sur 64 bits) ou `a<12>` (string de taille 12)\n",
    "* ou encore `float64` (cette fois en bits !)\n",
    "* inconvénient: les champs ne sont pas nommés"
   ]
  },
  {
   "cell_type": "code",
   "execution_count": null,
   "metadata": {
    "run_control": {
     "frozen": false,
     "read_only": false
    }
   },
   "outputs": [],
   "source": [
    "structs = np.ones(3, dtype='3int8, float32, (2,3)float64')\n",
    "print(structs)"
   ]
  },
  {
   "cell_type": "code",
   "execution_count": null,
   "metadata": {
    "run_control": {
     "frozen": false,
     "read_only": false
    }
   },
   "outputs": [],
   "source": [
    "# on peut accéder à tous les morceaux par indices\n",
    "structs[1][2][1][1] *= 20\n",
    "print(structs)"
   ]
  },
  {
   "cell_type": "markdown",
   "metadata": {
    "run_control": {
     "frozen": false,
     "read_only": false
    },
    "slideshow": {
     "slide_type": "slide"
    }
   },
   "source": [
    "### `dtype` défini comme un tuple"
   ]
  },
  {
   "cell_type": "markdown",
   "metadata": {
    "run_control": {
     "frozen": false,
     "read_only": false
    }
   },
   "source": [
    "permet de définir quelque chose qui ressemble à un `union`:"
   ]
  },
  {
   "cell_type": "code",
   "execution_count": null,
   "metadata": {
    "run_control": {
     "frozen": false,
     "read_only": false
    }
   },
   "outputs": [],
   "source": [
    "powers = 1 + 8 * np.arange(4)\n",
    "print(powers)"
   ]
  },
  {
   "cell_type": "code",
   "execution_count": null,
   "metadata": {
    "run_control": {
     "frozen": false,
     "read_only": false
    }
   },
   "outputs": [],
   "source": [
    "unions = np.array([2**power for power in powers], \n",
    "                   dtype=('i4',[('r','u1'), ('g','u1'), ('b','u1'), ('a','u1')]))\n",
    "print(unions)"
   ]
  },
  {
   "cell_type": "code",
   "execution_count": null,
   "metadata": {
    "run_control": {
     "frozen": false,
     "read_only": false
    }
   },
   "outputs": [],
   "source": [
    "unions['r']"
   ]
  },
  {
   "cell_type": "code",
   "execution_count": null,
   "metadata": {
    "run_control": {
     "frozen": false,
     "read_only": false
    }
   },
   "outputs": [],
   "source": [
    "unions['g']"
   ]
  },
  {
   "cell_type": "code",
   "execution_count": null,
   "metadata": {
    "run_control": {
     "frozen": false,
     "read_only": false
    }
   },
   "outputs": [],
   "source": [
    "unions['b']"
   ]
  },
  {
   "cell_type": "markdown",
   "metadata": {
    "run_control": {
     "frozen": false,
     "read_only": false
    },
    "slideshow": {
     "slide_type": "slide"
    }
   },
   "source": [
    "### `dtype` défini comme une liste"
   ]
  },
  {
   "cell_type": "markdown",
   "metadata": {
    "run_control": {
     "frozen": false,
     "read_only": false
    }
   },
   "source": [
    "* déjà vu l'exemple de `classe2`\n",
    "* doit être une liste de 2-tuples `nom` , `type`\n",
    "* les noms peuvent servir à indexer (c'est tout l'intérêt)"
   ]
  },
  {
   "cell_type": "code",
   "execution_count": null,
   "metadata": {
    "run_control": {
     "frozen": false,
     "read_only": false
    }
   },
   "outputs": [],
   "source": [
    "structs = np.ones(3, dtype=[('x','f4'),('y',np.float32),('value','f4',(2,2))])\n",
    "structs"
   ]
  },
  {
   "cell_type": "code",
   "execution_count": null,
   "metadata": {
    "run_control": {
     "frozen": false,
     "read_only": false
    }
   },
   "outputs": [],
   "source": [
    "structs[0]['x'] *= 10\n",
    "structs[1]['value'][1][1] *= 100\n",
    "# on peut accéder au second flottant par indice aussi\n",
    "structs[2][1] *= 1000\n",
    "structs"
   ]
  },
  {
   "cell_type": "markdown",
   "metadata": {
    "run_control": {
     "frozen": false,
     "read_only": false
    },
    "slideshow": {
     "slide_type": "slide"
    }
   },
   "source": [
    "### `dtype` défini comme un dict(1)"
   ]
  },
  {
   "cell_type": "markdown",
   "metadata": {
    "run_control": {
     "frozen": false,
     "read_only": false
    }
   },
   "source": [
    "* le dictionnaire a deux clés prédéfinies\n",
    "  * `names` et `formats`\n",
    "  * listes de même longueurs"
   ]
  },
  {
   "cell_type": "code",
   "execution_count": null,
   "metadata": {
    "run_control": {
     "frozen": false,
     "read_only": false
    }
   },
   "outputs": [],
   "source": [
    "structs = np.ones(3, dtype={'names':['col1', 'col2'], 'formats':['i4','(2,3)f4']})\n",
    "print(structs)"
   ]
  },
  {
   "cell_type": "code",
   "execution_count": null,
   "metadata": {
    "run_control": {
     "frozen": false,
     "read_only": false
    }
   },
   "outputs": [],
   "source": [
    "structs[1]['col2'] *= 30\n",
    "print(structs)"
   ]
  },
  {
   "cell_type": "markdown",
   "metadata": {
    "run_control": {
     "frozen": false,
     "read_only": false
    },
    "slideshow": {
     "slide_type": "slide"
    }
   },
   "source": [
    "### `dtype` défini comme un dict(2)"
   ]
  },
  {
   "cell_type": "markdown",
   "metadata": {
    "run_control": {
     "frozen": false,
     "read_only": false
    }
   },
   "source": [
    "* sinon, on s'attend à trouver dans `dtype`:\n",
    "  * les clés sont les noms des colonnes\n",
    "  * la valeur associée doit être un 2- ou 3-tuple\n",
    "  * de la forme `(type, offset[, nom_colonne])`"
   ]
  },
  {
   "cell_type": "code",
   "execution_count": null,
   "metadata": {
    "run_control": {
     "frozen": false,
     "read_only": false
    }
   },
   "outputs": [],
   "source": [
    "structs = np.ones(3, dtype={'col1':('i1',0,'title 1'), 'col2':('f4',1,'title 2')})\n",
    "print(structs)"
   ]
  },
  {
   "cell_type": "code",
   "execution_count": null,
   "metadata": {
    "run_control": {
     "frozen": false,
     "read_only": false
    }
   },
   "outputs": [],
   "source": [
    "structs[1]['col2'] *= np.pi\n",
    "print(structs)"
   ]
  },
  {
   "cell_type": "markdown",
   "metadata": {
    "run_control": {
     "frozen": false,
     "read_only": false
    },
    "slideshow": {
     "slide_type": "slide"
    }
   },
   "source": [
    "## exercice"
   ]
  },
  {
   "cell_type": "markdown",
   "metadata": {
    "run_control": {
     "frozen": false,
     "read_only": false
    },
    "slideshow": {
     "slide_type": "-"
    }
   },
   "source": [
    "* [Voir la documentation complète ici](https://docs.scipy.org/doc/numpy-1.10.1/user/basics.rec.html#defining-structured-arrays)\n",
    "* sur la définition de types structurés"
   ]
  },
  {
   "cell_type": "markdown",
   "metadata": {
    "run_control": {
     "frozen": false,
     "read_only": false
    }
   },
   "source": [
    "* On veut modéliser le groupe des 8 éléments du groupe D4 (les rotations et symétries d'ordre 4)\n",
    "* sous la forme d'un tableau de 8 valeurs\n",
    "* chacune ayant \n",
    "  * un nom (sur deux caractères)\n",
    "  * une matrice carrée 2x2"
   ]
  },
  {
   "cell_type": "markdown",
   "metadata": {
    "run_control": {
     "frozen": false,
     "read_only": false
    },
    "slideshow": {
     "slide_type": "slide"
    }
   },
   "source": [
    "[extrait de https://en.wikipedia.org/wiki/Dihedral_group](https://en.wikipedia.org/wiki/Dihedral_group)"
   ]
  },
  {
   "cell_type": "markdown",
   "metadata": {
    "run_control": {
     "frozen": false,
     "read_only": false
    }
   },
   "source": [
    "$\n",
    "{\\displaystyle {\\begin{matrix}\\mathrm {r} _{0}=\\left({\\begin{smallmatrix}1&0\\\\[0.2em]0&1\\end{smallmatrix}}\\right),&\\mathrm {r} _{1}=\\left({\\begin{smallmatrix}0&-1\\\\[0.2em]1&0\\end{smallmatrix}}\\right),&\\mathrm {r} _{2}=\\left({\\begin{smallmatrix}-1&0\\\\[0.2em]0&-1\\end{smallmatrix}}\\right),&\\mathrm {r} _{3}=\\left({\\begin{smallmatrix}0&1\\\\[0.2em]-1&0\\end{smallmatrix}}\\right),\\\\[1em]\\mathrm {s} _{0}=\\left({\\begin{smallmatrix}1&0\\\\[0.2em]0&-1\\end{smallmatrix}}\\right),&\\mathrm {s} _{1}=\\left({\\begin{smallmatrix}0&1\\\\[0.2em]1&0\\end{smallmatrix}}\\right),&\\mathrm {s} _{2}=\\left({\\begin{smallmatrix}-1&0\\\\[0.2em]0&1\\end{smallmatrix}}\\right),&\\mathrm {s} _{3}=\\left({\\begin{smallmatrix}0&-1\\\\[0.2em]-1&0\\end{smallmatrix}}\\right).\\end{matrix}}}\n",
    "$"
   ]
  },
  {
   "cell_type": "code",
   "execution_count": null,
   "metadata": {
    "run_control": {
     "frozen": false,
     "read_only": false
    }
   },
   "outputs": [],
   "source": [
    "# les données sous forme de python 'standard'\n",
    "d4_data = [ \n",
    "    ('r0', [[1, 0], [0, 1]]),      ('r1', [[0, -1], [1, 0]]),\n",
    "    ('r2', [[-1, 0], [0, -1]]),    ('r3', [[0, 1], [-1, 0]]),\n",
    "    ('s0', [[1, 0], [0, -1]]),     ('s1', [[0, 1], [1, 0]]),\n",
    "    ('s2', [[-1, 0], [0, 1]]),     ('s3', [[0, -1], [-1, 0]]),\n",
    "  ]"
   ]
  },
  {
   "cell_type": "markdown",
   "metadata": {
    "run_control": {
     "frozen": false,
     "read_only": false
    },
    "slideshow": {
     "slide_type": "slide"
    }
   },
   "source": [
    "vous devez donc écrire quelque chose comme ceci\n",
    "\n",
    "````\n",
    "d4 = np.array( \n",
    "  d4_data,\n",
    "  dtype = <votre code>\n",
    ")\n",
    "d4\n",
    "```"
   ]
  },
  {
   "cell_type": "markdown",
   "metadata": {
    "run_control": {
     "frozen": false,
     "read_only": false
    },
    "slideshow": {
     "slide_type": "slide"
    }
   },
   "source": [
    "### string"
   ]
  },
  {
   "cell_type": "code",
   "execution_count": null,
   "metadata": {
    "run_control": {
     "frozen": false,
     "read_only": false
    },
    "slideshow": {
     "slide_type": "-"
    }
   },
   "outputs": [],
   "source": [
    "# on ne pourra pas accéder aux champs par nom\n",
    "D4 = np.array( d4_data,\n",
    "  dtype = 'S2, (2,2)int8'\n",
    ")\n",
    "D4"
   ]
  },
  {
   "cell_type": "code",
   "execution_count": null,
   "metadata": {
    "run_control": {
     "frozen": false,
     "read_only": false
    }
   },
   "outputs": [],
   "source": [
    "# en fait si mais avec des noms qu'on n'a pas choisis\n",
    "x = D4[0]\n",
    "x['f0']"
   ]
  },
  {
   "cell_type": "markdown",
   "metadata": {
    "run_control": {
     "frozen": false,
     "read_only": false
    },
    "slideshow": {
     "slide_type": "slide"
    }
   },
   "source": [
    "### dict (1)"
   ]
  },
  {
   "cell_type": "code",
   "execution_count": null,
   "metadata": {
    "run_control": {
     "frozen": false,
     "read_only": false
    }
   },
   "outputs": [],
   "source": [
    "D4 = np.array( d4_data,\n",
    "       dtype = {'names':['nom', 'matrice'],\n",
    "                'formats':['S2', '(2,2)int8']})\n",
    "D4"
   ]
  },
  {
   "cell_type": "code",
   "execution_count": null,
   "metadata": {
    "run_control": {
     "frozen": false,
     "read_only": false
    }
   },
   "outputs": [],
   "source": [
    "# pas de nom pour accéder aux différents éléments\n",
    "x = D4[2]\n",
    "print(x)"
   ]
  },
  {
   "cell_type": "code",
   "execution_count": null,
   "metadata": {
    "run_control": {
     "frozen": false,
     "read_only": false
    }
   },
   "outputs": [],
   "source": [
    "y = D4[4]\n",
    "# mais par contre une fois qu'on a un élément \n",
    "# on peut accéder aux deux colonnes par nom\n",
    "produit = x['matrice'].dot(y['matrice'])\n",
    "print(\"{} x {} ->\\n{}\".format(x['nom'], y['nom'], produit))"
   ]
  },
  {
   "cell_type": "markdown",
   "metadata": {
    "run_control": {
     "frozen": false,
     "read_only": false
    },
    "slideshow": {
     "slide_type": "slide"
    }
   },
   "source": [
    "### dict (2)\n",
    "\n",
    "Attention aux offsets: ce **n'est pas** simplement un ordre des champs!"
   ]
  },
  {
   "cell_type": "code",
   "execution_count": null,
   "metadata": {
    "run_control": {
     "frozen": false,
     "read_only": false
    },
    "slideshow": {
     "slide_type": "-"
    }
   },
   "outputs": [],
   "source": [
    "D4 = np.array( d4_data,\n",
    "    dtype = {'nom' : ('S2', 0),\n",
    "             'matrice': ('(2,2)float32', 4)}\n",
    ")\n",
    "print(D4)"
   ]
  },
  {
   "cell_type": "code",
   "execution_count": null,
   "metadata": {
    "run_control": {
     "frozen": false,
     "read_only": false
    }
   },
   "outputs": [],
   "source": [
    "x = D4[2]\n",
    "print(x)"
   ]
  },
  {
   "cell_type": "code",
   "execution_count": null,
   "metadata": {
    "run_control": {
     "frozen": false,
     "read_only": false
    }
   },
   "outputs": [],
   "source": [
    "y = D4[4]\n",
    "produit = x['matrice'].dot(y['matrice'])\n",
    "print(\"{} x {} ->\\n{}\".format(x['nom'], y['nom'], produit))"
   ]
  },
  {
   "cell_type": "markdown",
   "metadata": {
    "run_control": {
     "frozen": false,
     "read_only": false
    },
    "slideshow": {
     "slide_type": "slide"
    }
   },
   "source": [
    "## `genfromtxt`\n",
    "\n",
    "la fonction [`numpy.genfromtxt`](https://docs.scipy.org/doc/numpy/reference/generated/numpy.genfromtxt.html) permet de construire un tableau numpy à partir d'un fichier texte"
   ]
  },
  {
   "cell_type": "code",
   "execution_count": null,
   "metadata": {
    "run_control": {
     "frozen": false,
     "read_only": false
    },
    "slideshow": {
     "slide_type": "-"
    }
   },
   "outputs": [],
   "source": [
    "!cat data/D4.txt"
   ]
  },
  {
   "cell_type": "code",
   "execution_count": null,
   "metadata": {
    "run_control": {
     "frozen": false,
     "read_only": false
    },
    "slideshow": {
     "slide_type": "slide"
    }
   },
   "outputs": [],
   "source": [
    "d4_raw = np.genfromtxt(\"data/D4.txt\", \n",
    "                       dtype=None)\n",
    "d4_raw"
   ]
  },
  {
   "cell_type": "code",
   "execution_count": null,
   "metadata": {
    "run_control": {
     "frozen": false,
     "read_only": false
    },
    "slideshow": {
     "slide_type": "slide"
    }
   },
   "outputs": [],
   "source": [
    "d4_raw = np.genfromtxt(\"data/D4.txt\", \n",
    "                       dtype=[('nom', 'S2'), \n",
    "                              ('matrice', '(2,2)i8')])\n",
    "d4_raw"
   ]
  }
 ],
 "metadata": {
  "kernelspec": {
   "display_name": "Python 3",
   "language": "python",
   "name": "python3"
  },
  "language_info": {
   "codemirror_mode": {
    "name": "ipython",
    "version": 3
   },
   "file_extension": ".py",
   "mimetype": "text/x-python",
   "name": "python",
   "nbconvert_exporter": "python",
   "pygments_lexer": "ipython3",
   "version": "3.7.0"
  },
  "notebookname": "numpy - strutured arrays",
  "rise": {
   "autolaunch": true,
   "slideNumber": "c/t",
   "start_slideshow_at": "selected",
   "theme": "sky",
   "transition": "cube"
  },
  "toc": {
   "colors": {
    "hover_highlight": "#DAA520",
    "running_highlight": "#FF0000",
    "selected_highlight": "#FFD700"
   },
   "moveMenuLeft": true,
   "nav_menu": {
    "height": "65px",
    "width": "253px"
   },
   "navigate_menu": true,
   "number_sections": true,
   "sideBar": false,
   "threshold": "2",
   "toc_cell": false,
   "toc_position": {
    "height": "243px",
    "left": "873px",
    "right": "20px",
    "top": "140px",
    "width": "212px"
   },
   "toc_section_display": "block",
   "toc_window_display": false,
   "widenNotebook": false
  },
  "version": "1.0"
 },
 "nbformat": 4,
 "nbformat_minor": 2
}
