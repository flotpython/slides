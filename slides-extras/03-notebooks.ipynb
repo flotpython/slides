{
 "cells": [
  {
   "cell_type": "markdown",
   "metadata": {
    "run_control": {
     "frozen": false,
     "read_only": false
    },
    "slideshow": {
     "slide_type": ""
    }
   },
   "source": [
    "<div class=\"licence\">\n",
    "<span>Licence CC BY-NC-ND</span>\n",
    "<span>Thierry Parmentelat &amp; Arnaud Legout</span>\n",
    "</div>"
   ]
  },
  {
   "cell_type": "code",
   "execution_count": null,
   "metadata": {
    "slideshow": {
     "slide_type": "slide"
    }
   },
   "outputs": [],
   "source": [
    "from plan import plan_extras; plan_extras(\"notebooks\")"
   ]
  },
  {
   "cell_type": "markdown",
   "metadata": {
    "run_control": {
     "frozen": false,
     "read_only": false
    },
    "slideshow": {
     "slide_type": "slide"
    }
   },
   "source": [
    "# introduction aux notebooks"
   ]
  },
  {
   "cell_type": "markdown",
   "metadata": {
    "run_control": {
     "frozen": false,
     "read_only": false
    }
   },
   "source": [
    "## c'est quoi un notebook ?"
   ]
  },
  {
   "cell_type": "markdown",
   "metadata": {
    "run_control": {
     "frozen": false,
     "read_only": false
    }
   },
   "source": [
    "un document hybride qui mélange:\n",
    "\n",
    "* du texte formatté,\n",
    "* des équations et illustrations,\n",
    "* avec des fragments de code exécutable,\n",
    "* possiblement interactifs."
   ]
  },
  {
   "cell_type": "markdown",
   "metadata": {
    "run_control": {
     "frozen": false,
     "read_only": false
    },
    "slideshow": {
     "slide_type": "slide"
    }
   },
   "source": [
    "## un exemple en ligne"
   ]
  },
  {
   "cell_type": "markdown",
   "metadata": {
    "run_control": {
     "frozen": false,
     "read_only": false
    }
   },
   "source": [
    "la revue Nature a publié en janvier 2015 un exemple de notebook interactif\n",
    "\n",
    "* toujours en ligne [sur nature.com](http://www.nature.com/news/ipython-interactive-demo-7.21492)\n",
    "* sources dans github <https://github.com/jupyter/nature-demo/>\n",
    "\n",
    "c'est un exemple très parlant de ce qu'on peut en faire."
   ]
  },
  {
   "cell_type": "markdown",
   "metadata": {
    "run_control": {
     "frozen": false,
     "read_only": false
    },
    "slideshow": {
     "slide_type": "slide"
    }
   },
   "source": [
    "## à voir sur l'exemple en détail:"
   ]
  },
  {
   "cell_type": "markdown",
   "metadata": {
    "run_control": {
     "frozen": false,
     "read_only": false
    }
   },
   "source": [
    "* le notebook est une suite de cellules\n",
    "* chacune typée 'Markdown' ou 'Code'\n",
    "* *Shift+Enter*: pour évaluer une cellule et passer à la suivante"
   ]
  },
  {
   "cell_type": "markdown",
   "metadata": {
    "run_control": {
     "frozen": false,
     "read_only": false
    }
   },
   "source": [
    "* le code est exécuté par le lecteur - qui peut donc **le modifier**\n",
    "*  par exemple pour **faire varier** interactivement les paramètres"
   ]
  },
  {
   "cell_type": "markdown",
   "metadata": {
    "run_control": {
     "frozen": false,
     "read_only": false
    },
    "slideshow": {
     "slide_type": "slide"
    }
   },
   "source": [
    "# pourquoi c'est intéressant ?"
   ]
  },
  {
   "cell_type": "markdown",
   "metadata": {
    "run_control": {
     "frozen": false,
     "read_only": false
    }
   },
   "source": [
    "## applications assez immédiates\n",
    "\n",
    "dans les domaines de\n",
    "\n",
    "* publication scientifique,\n",
    "* éducation,\n",
    "* ingénierie..."
   ]
  },
  {
   "cell_type": "markdown",
   "metadata": {
    "run_control": {
     "frozen": false,
     "read_only": false
    },
    "slideshow": {
     "slide_type": "slide"
    }
   },
   "source": [
    "## publication"
   ]
  },
  {
   "cell_type": "markdown",
   "metadata": {
    "run_control": {
     "frozen": false,
     "read_only": false
    }
   },
   "source": [
    "* plus adapté au monde du 21-ème siècle\n",
    "* que le papier - fût-il en pdf - qui est un format de la fin du 15-ème !"
   ]
  },
  {
   "cell_type": "markdown",
   "metadata": {
    "run_control": {
     "frozen": false,
     "read_only": false
    }
   },
   "source": [
    "* début de réponse à l'idéal du *runnable paper*\n",
    "* ouvre la voie à une recherche plus reproductible\n",
    "* et à l'exploration autour des conditions originales"
   ]
  },
  {
   "cell_type": "markdown",
   "metadata": {
    "run_control": {
     "frozen": false,
     "read_only": false
    },
    "slideshow": {
     "slide_type": "slide"
    }
   },
   "source": [
    "## éducation"
   ]
  },
  {
   "cell_type": "markdown",
   "metadata": {
    "run_control": {
     "frozen": false,
     "read_only": false
    }
   },
   "source": [
    "* idéal pour assembler le cours et les TPs qui vont avec\n",
    "* sans que l'étudiant ait son attention dispersée \n",
    "* par d'incessants changements de contexte"
   ]
  },
  {
   "cell_type": "markdown",
   "metadata": {
    "run_control": {
     "frozen": false,
     "read_only": false
    },
    "slideshow": {
     "slide_type": "slide"
    }
   },
   "source": [
    "## autres intérêts"
   ]
  },
  {
   "cell_type": "markdown",
   "metadata": {
    "run_control": {
     "frozen": false,
     "read_only": false
    }
   },
   "source": [
    "* communication entre professionels\n",
    "* assembler explications, données et code\n",
    "* ..."
   ]
  },
  {
   "cell_type": "markdown",
   "metadata": {
    "run_control": {
     "frozen": false,
     "read_only": false
    },
    "slideshow": {
     "slide_type": "slide"
    }
   },
   "source": [
    "# un peu d'histoire"
   ]
  },
  {
   "cell_type": "markdown",
   "metadata": {
    "run_control": {
     "frozen": false,
     "read_only": false
    }
   },
   "source": [
    "* tout début 2001-2005 : premiers essais infructueux (Perez + Kern)\n",
    "* 2-ème essai 2007-2011 : première release de IPython fin 2011\n",
    "* 2014: Jupyter - spin-off de IPython\n",
    "  * IPython est maintenant le nom du kernel Python\n",
    "  * autres kernels disponibles (R, Julia, ...)\n",
    "* 2017: JupyterLab - environnement tout-en-un (béta)"
   ]
  },
  {
   "cell_type": "markdown",
   "metadata": {
    "run_control": {
     "frozen": false,
     "read_only": false
    },
    "slideshow": {
     "slide_type": "slide"
    }
   },
   "source": [
    "## histoire (suite)\n",
    "\n",
    "* similitudes avec le modèle de notebook de sage a.k.a. <sagemath.org>\n",
    "* et aussi semble-t-il avec un google notebook (service fermé en 2012)\n",
    "* tous inspirés des notebooks mathematica (1988!) et des worksheets maple\n"
   ]
  },
  {
   "cell_type": "markdown",
   "metadata": {
    "heading_collapsed": true,
    "run_control": {
     "frozen": false,
     "read_only": false
    }
   },
   "source": [
    "## sources\n",
    "\n",
    "* [Fernando Perez (IPython)](http://blog.fperez.org/2012/01/ipython-notebook-historical.html)\n",
    "* [William Stein (Sage)](https://groups.google.com/forum/#!topic/sage-devel/uc9HIMREh9Y)\n",
    "* [Une bonne synthèse](https://www.datacamp.com/community/tutorials/tutorial-jupyter-notebook#gs.aOP5gG0)\n"
   ]
  },
  {
   "cell_type": "markdown",
   "metadata": {
    "run_control": {
     "frozen": false,
     "read_only": false
    },
    "slideshow": {
     "slide_type": "slide"
    }
   },
   "source": [
    "## situation actuelle\n"
   ]
  },
  {
   "cell_type": "markdown",
   "metadata": {
    "run_control": {
     "frozen": false,
     "read_only": false
    }
   },
   "source": [
    "* projet en pleine effervescence\n",
    "* connu d'abord sous le nom de ipython (jusque 2014)\n",
    "* renommé en jupyter (plus ouvert aux autres langages)\n",
    "* nouvel outil disponible sous le nom jupyterlab (béta-ish)\n",
    "* il serait vain de vouloir enseigner ces outils\n",
    "* détails modifiés en permanence\n"
   ]
  },
  {
   "cell_type": "markdown",
   "metadata": {
    "run_control": {
     "frozen": false,
     "read_only": false
    },
    "slideshow": {
     "slide_type": "slide"
    }
   },
   "source": [
    "## le format notebook\n"
   ]
  },
  {
   "cell_type": "markdown",
   "metadata": {
    "run_control": {
     "frozen": false,
     "read_only": false
    }
   },
   "source": [
    "il reste cependant - heureusement ! - que:\n",
    "\n",
    "* le format du notebook est stable, bien documenté,\n",
    "* avec des outils de conversion 'command-line' simples\n",
    "* et des apis maintenues."
   ]
  },
  {
   "cell_type": "markdown",
   "metadata": {
    "run_control": {
     "frozen": false,
     "read_only": false
    },
    "slideshow": {
     "slide_type": "slide"
    }
   },
   "source": [
    "# premiers pas jupyter notebook\n"
   ]
  },
  {
   "cell_type": "markdown",
   "metadata": {
    "run_control": {
     "frozen": false,
     "read_only": false
    }
   },
   "source": [
    "* je conseille de démarrer par une **installation locale** de jupyter\n",
    "* il est aussi possible d'envisager une approche hébergée (sagemath, jupyterhub)\n",
    "* mais les infrastructures d'hébergement sont encore un peu compliquées à déployer\n",
    "* à creuser pour des usages spécifiques (beaucoup d'utilisateurs) \n"
   ]
  },
  {
   "cell_type": "markdown",
   "metadata": {
    "run_control": {
     "frozen": false,
     "read_only": false
    },
    "slideshow": {
     "slide_type": "slide"
    }
   },
   "source": [
    "### installation (1a) jupyter avec anaconda\n",
    "\n",
    "si vous avez installé anaconda, vous avez déjà jupyter notebook :)\n"
   ]
  },
  {
   "cell_type": "markdown",
   "metadata": {
    "run_control": {
     "frozen": false,
     "read_only": false
    }
   },
   "source": [
    "### installation (1b) jupyter avec pip\n",
    "\n",
    "* sinon avec `pip`\n",
    "\n",
    "```\n",
    "pip3 install jupyter\n",
    "```\n"
   ]
  },
  {
   "cell_type": "markdown",
   "metadata": {
    "run_control": {
     "frozen": false,
     "read_only": false
    }
   },
   "source": [
    "### installation (2) jupyterlab\n",
    "\n",
    "```\n",
    "pip3 install jupyterlab\n",
    "```\n"
   ]
  },
  {
   "cell_type": "markdown",
   "metadata": {
    "run_control": {
     "frozen": false,
     "read_only": false
    },
    "slideshow": {
     "slide_type": "slide"
    }
   },
   "source": [
    "\n",
    "les sous-commandes disponibles\n",
    "\n",
    "```\n",
    "$ jupyter --help\n",
    "usage: jupyter <snip> [subcommand]\n",
    "\n",
    "jupyter: interactive computing\n",
    "\n",
    "positional arguments:\n",
    "  subcommand     the subcommand to launch\n",
    "\n",
    "<snip>\n",
    "available subcommands: console kernelspec lab labextension migrate\n",
    "nbconvert nbextension notebook qtconsole <snip>\n",
    "```\n"
   ]
  },
  {
   "cell_type": "markdown",
   "metadata": {
    "run_control": {
     "frozen": false,
     "read_only": false
    },
    "slideshow": {
     "slide_type": "slide"
    }
   },
   "source": [
    "## sous commandes\n",
    "\n",
    "| *commande* | *objet*                          |\n",
    "|------------|----------------------------------|\n",
    "| **notebook**   | interface traditionnelle jupyter |\n",
    "| lab        | nouvelle interface jupyterlab    |\n",
    "| &nbsp; | &nbsp; |\n",
    "| **nbconvert**  | conversions diverses             |\n",
    "| &nbsp; | &nbsp; |\n",
    "| kernelspec | gestion des noyaux disponibles   |\n",
    "| nbextension | gestion de plugins jupyter      |\n",
    "| labextension | gestion de plugins jupyterlab  |\n",
    "| &nbsp; | &nbsp;|\n",
    "| console    | cli pour interagir avec noyau    |\n",
    "| qtconsole  | idem sous interface qt           |\n",
    "\n"
   ]
  },
  {
   "cell_type": "markdown",
   "metadata": {
    "run_control": {
     "frozen": false,
     "read_only": false
    },
    "slideshow": {
     "slide_type": "slide"
    }
   },
   "source": [
    "## utilisation typique\n",
    "\n",
    "```\n",
    "$ jupyter notebook\n",
    "```\n",
    "\n",
    "va faire plusieurs choses:\n",
    "\n",
    "* lance un serveur (web) de notebooks\n",
    "  * `the jupyter notebook is running at: http://localhost:8888/?token=blabla`\n",
    "* crée une fenêtre/tab dans un browser (selon vos réglages)\n",
    "* qui se connecte au service de notebooks\n",
    "\n"
   ]
  },
  {
   "cell_type": "markdown",
   "metadata": {
    "run_control": {
     "frozen": false,
     "read_only": false
    },
    "slideshow": {
     "slide_type": "slide"
    }
   },
   "source": [
    "# mon premier notebook\n",
    "\n",
    "![](pictures/notebooks-001-run.png)"
   ]
  },
  {
   "cell_type": "markdown",
   "metadata": {
    "run_control": {
     "frozen": false,
     "read_only": false
    },
    "slideshow": {
     "slide_type": "slide"
    }
   },
   "source": [
    "![](pictures/notebooks-002-welcome.png)"
   ]
  },
  {
   "cell_type": "markdown",
   "metadata": {
    "run_control": {
     "frozen": false,
     "read_only": false
    },
    "slideshow": {
     "slide_type": "slide"
    }
   },
   "source": [
    "![](pictures/notebooks-003-creating-py3.png)"
   ]
  },
  {
   "cell_type": "markdown",
   "metadata": {
    "run_control": {
     "frozen": false,
     "read_only": false
    },
    "slideshow": {
     "slide_type": "slide"
    }
   },
   "source": [
    "![](pictures/notebooks-004-renaming.png)"
   ]
  },
  {
   "cell_type": "markdown",
   "metadata": {
    "run_control": {
     "frozen": false,
     "read_only": false
    },
    "slideshow": {
     "slide_type": "slide"
    }
   },
   "source": [
    "![](pictures/notebooks-005-named.png)"
   ]
  },
  {
   "cell_type": "markdown",
   "metadata": {
    "run_control": {
     "frozen": false,
     "read_only": false
    },
    "slideshow": {
     "slide_type": "slide"
    }
   },
   "source": [
    "![](pictures/notebooks-006-edited.png)"
   ]
  },
  {
   "cell_type": "markdown",
   "metadata": {
    "run_control": {
     "frozen": false,
     "read_only": false
    },
    "slideshow": {
     "slide_type": "slide"
    }
   },
   "source": [
    "![](pictures/notebooks-007-saved.png)\n"
   ]
  },
  {
   "cell_type": "markdown",
   "metadata": {
    "run_control": {
     "frozen": false,
     "read_only": false
    },
    "slideshow": {
     "slide_type": "slide"
    }
   },
   "source": [
    "### contenu\n",
    "\n",
    "* suite de cellules\n",
    "* chacune typée 'markdown' ou 'code'\n",
    "* (ou aussi d'ailleurs 'raw' mais j'en déconseille l'usage)"
   ]
  },
  {
   "cell_type": "markdown",
   "metadata": {
    "run_control": {
     "frozen": false,
     "read_only": false
    },
    "slideshow": {
     "slide_type": "slide"
    }
   },
   "source": [
    "![](pictures/notebooks-008-insert-cell.png)"
   ]
  },
  {
   "cell_type": "markdown",
   "metadata": {
    "run_control": {
     "frozen": false,
     "read_only": false
    },
    "slideshow": {
     "slide_type": "slide"
    }
   },
   "source": [
    "![](pictures/notebooks-009-code-cell.png)\n"
   ]
  },
  {
   "cell_type": "markdown",
   "metadata": {
    "run_control": {
     "frozen": false,
     "read_only": false
    },
    "slideshow": {
     "slide_type": "slide"
    }
   },
   "source": [
    "### la logique édition / commande\n",
    "\n",
    "* la couleur de la cellule sélectionnée indique le mode"
   ]
  },
  {
   "cell_type": "markdown",
   "metadata": {
    "run_control": {
     "frozen": false,
     "read_only": false
    },
    "slideshow": {
     "slide_type": "slide"
    }
   },
   "source": [
    "![](pictures/notebooks-010-edit-mode.png)"
   ]
  },
  {
   "cell_type": "markdown",
   "metadata": {
    "run_control": {
     "frozen": false,
     "read_only": false
    },
    "slideshow": {
     "slide_type": "slide"
    }
   },
   "source": [
    "![](pictures/notebooks-011-cmd-mode.png)\n"
   ]
  },
  {
   "cell_type": "markdown",
   "metadata": {
    "run_control": {
     "frozen": false,
     "read_only": false
    },
    "slideshow": {
     "slide_type": "slide"
    }
   },
   "source": [
    "### commandes utiles\n",
    "\n",
    "* les commandes clavier avec *Entrée*\n",
    "  * Control-Entrée : évaluer la/les cellule(s)\n",
    "  * Maj-Entrée : évaluer et passer à la suite\n",
    "  * Alt-Entrée : évaluer et insérer une cellule vide\n"
   ]
  },
  {
   "cell_type": "markdown",
   "metadata": {
    "run_control": {
     "frozen": false,
     "read_only": false
    },
    "slideshow": {
     "slide_type": "slide"
    }
   },
   "source": [
    "### et dans les menus\n",
    "\n",
    "voir surtout\n",
    "\n",
    "* *File -> Save*\n",
    "  * note: checkpoints : pas disponible\n",
    "\n",
    "* *File -> Download as ...*\n",
    "  * par exemple obtenir le notebook comme un `.py`\n",
    "\n",
    "* *Kernel -> Restart & Clear output*\n",
    "* *Kernel -> Restart & Run all*\n"
   ]
  },
  {
   "cell_type": "markdown",
   "metadata": {
    "cell_style": "split",
    "run_control": {
     "frozen": false,
     "read_only": false
    },
    "slideshow": {
     "slide_type": "slide"
    }
   },
   "source": [
    "### raccourcis clavier\n",
    "\n",
    "pour visualiser :\n",
    "\n",
    "* menu : *Help -> Keyboard Shortcuts*\n",
    "* command-mode : tapez `H`\n",
    "* edit-mode: tapez `Control-M H`"
   ]
  },
  {
   "cell_type": "markdown",
   "metadata": {
    "cell_style": "split",
    "run_control": {
     "frozen": false,
     "read_only": false
    },
    "slideshow": {
     "slide_type": ""
    }
   },
   "source": [
    "![](pictures/notebooks-020-keyboard-shortcuts.png)"
   ]
  },
  {
   "cell_type": "markdown",
   "metadata": {
    "run_control": {
     "frozen": false,
     "read_only": false
    },
    "slideshow": {
     "slide_type": "slide"
    }
   },
   "source": [
    "## à retenir:\n",
    "\n",
    "* mode 'édition' : `control-m` + clé\n",
    "* mode 'commande' : clé directement\n"
   ]
  },
  {
   "cell_type": "markdown",
   "metadata": {
    "run_control": {
     "frozen": false,
     "read_only": false
    },
    "slideshow": {
     "slide_type": "slide"
    }
   },
   "source": [
    "## raccourcis **très utiles**\n",
    "\n",
    "| raccourci | effet |\n",
    "|-----------|---------|\n",
    "| `y` | cellule(s) de type code |\n",
    "| `m` | cellule de type markdown |\n",
    "| `1`..`6` | markdown + titre |\n",
    "\n",
    "#### et aussi\n",
    "\n",
    "| raccourci | effet |\n",
    "|-----------|---------|\n",
    "| `a` | insère une cellule au dessus |\n",
    "| `b` | insère une cellule au dessous |\n",
    "| `f` | find & replace |\n"
   ]
  },
  {
   "cell_type": "markdown",
   "metadata": {
    "run_control": {
     "frozen": false,
     "read_only": false
    },
    "slideshow": {
     "slide_type": "slide"
    }
   },
   "source": [
    "## sélection de plusieurs cellules\n",
    "\n",
    "* Maj-Flêche (haut/bas)\n",
    "* Maj-J/K"
   ]
  },
  {
   "cell_type": "markdown",
   "metadata": {
    "run_control": {
     "frozen": false,
     "read_only": false
    },
    "slideshow": {
     "slide_type": "slide"
    }
   },
   "source": [
    "![](pictures/notebooks-030-sel-mult.png)"
   ]
  },
  {
   "cell_type": "markdown",
   "metadata": {
    "run_control": {
     "frozen": false,
     "read_only": false
    },
    "slideshow": {
     "slide_type": "slide"
    }
   },
   "source": [
    "![](pictures/notebooks-031-sel-moved-down.png)"
   ]
  },
  {
   "cell_type": "markdown",
   "metadata": {
    "run_control": {
     "frozen": false,
     "read_only": false
    },
    "slideshow": {
     "slide_type": "slide"
    }
   },
   "source": [
    "### les cellules de texte"
   ]
  },
  {
   "cell_type": "markdown",
   "metadata": {
    "run_control": {
     "frozen": false,
     "read_only": false
    }
   },
   "source": [
    "les deux composantes pour la partie texte:\n",
    "    \n",
    "* le format [`markdown`](https://en.wikipedia.org/wiki/Markdown)\n",
    "* le langage [`mathjax`](https://www.mathjax.org/) pour les équations à la $\\LaTeX$"
   ]
  },
  {
   "cell_type": "markdown",
   "metadata": {
    "run_control": {
     "frozen": false,
     "read_only": false
    },
    "slideshow": {
     "slide_type": "slide"
    }
   },
   "source": [
    "### markdown"
   ]
  },
  {
   "cell_type": "markdown",
   "metadata": {
    "run_control": {
     "frozen": false,
     "read_only": false
    },
    "slideshow": {
     "slide_type": "slide"
    }
   },
   "source": [
    "* popularisé notamment grâce à github\n",
    "  * README.md\n",
    "  * usage pervasif sur tout le site\n",
    "* commence à être très répandu\n",
    "* déployé par exemple sur les forums FUN"
   ]
  },
  {
   "cell_type": "markdown",
   "metadata": {
    "run_control": {
     "frozen": false,
     "read_only": false
    },
    "slideshow": {
     "slide_type": "slide"
    }
   },
   "source": [
    "## sections\n",
    "\n",
    "```\n",
    "# titre 1\n",
    "## titre 2\n",
    "### etc.\n",
    "```\n",
    "\n",
    "# titre 1\n",
    "## titre 2\n",
    "### etc.\n"
   ]
  },
  {
   "cell_type": "markdown",
   "metadata": {
    "run_control": {
     "frozen": false,
     "read_only": false
    },
    "slideshow": {
     "slide_type": "slide"
    }
   },
   "source": [
    "### listes à bulles"
   ]
  },
  {
   "cell_type": "markdown",
   "metadata": {
    "run_control": {
     "frozen": false,
     "read_only": false
    },
    "slideshow": {
     "slide_type": "slide"
    }
   },
   "source": [
    "```\n",
    "\n",
    "* une liste à bulles\n",
    "* avec d'autres bulles\n",
    "  * et s'il le faut\n",
    "  * des sous-bulles\n",
    "```\n",
    "\n",
    "* une liste à bulles\n",
    "* avec d'autres bulles\n",
    "  * et s'il le faut\n",
    "  * des sous-bulles"
   ]
  },
  {
   "cell_type": "markdown",
   "metadata": {
    "run_control": {
     "frozen": false,
     "read_only": false
    },
    "slideshow": {
     "slide_type": "slide"
    }
   },
   "source": [
    "### listes à numéros"
   ]
  },
  {
   "cell_type": "markdown",
   "metadata": {
    "run_control": {
     "frozen": false,
     "read_only": false
    },
    "slideshow": {
     "slide_type": "slide"
    }
   },
   "source": [
    "```\n",
    "1. une liste à numéros\n",
    "1. avec d'autres bulles\n",
    "  1. et s'il le faut\n",
    "  1. des sous-bulles\n",
    "```\n",
    "\n",
    "1. une liste à numéros\n",
    "1. avec d'autres bulles\n",
    "  1. et s'il le faut\n",
    "  1. des sous-bulles"
   ]
  },
  {
   "cell_type": "markdown",
   "metadata": {
    "run_control": {
     "frozen": false,
     "read_only": false
    },
    "slideshow": {
     "slide_type": "slide"
    }
   },
   "source": [
    "### styles (1)"
   ]
  },
  {
   "cell_type": "markdown",
   "metadata": {
    "run_control": {
     "frozen": false,
     "read_only": false
    },
    "slideshow": {
     "slide_type": "slide"
    }
   },
   "source": [
    "```\n",
    "\n",
    "* le plus utile `pour montrer du code`\n",
    "* ou du texte **en gras**\n",
    "* ou *en italique*\n",
    "* ou ***en gras italique***\n",
    "```\n",
    "\n",
    "* le plus utile `pour montrer du code`\n",
    "* ou du texte **en gras**\n",
    "* ou *en italique*\n",
    "* ou ***en gras italique***"
   ]
  },
  {
   "cell_type": "markdown",
   "metadata": {
    "run_control": {
     "frozen": false,
     "read_only": false
    },
    "slideshow": {
     "slide_type": "slide"
    }
   },
   "source": [
    "### styles (2)"
   ]
  },
  {
   "cell_type": "markdown",
   "metadata": {
    "run_control": {
     "frozen": false,
     "read_only": false
    },
    "slideshow": {
     "slide_type": "slide"
    }
   },
   "source": [
    "    ```\n",
    "    Un long fragment qu'on veut laisser tel quel\n",
    "    e.g. une sortie de terminal\n",
    "    ```\n",
    "\n",
    "```\n",
    "Un long fragment qu'on veut laisser tel quel\n",
    "e.g. une sortie de terminal\n",
    "```"
   ]
  },
  {
   "cell_type": "markdown",
   "metadata": {
    "run_control": {
     "frozen": false,
     "read_only": false
    },
    "slideshow": {
     "slide_type": "slide"
    }
   },
   "source": [
    "### liens"
   ]
  },
  {
   "cell_type": "markdown",
   "metadata": {
    "run_control": {
     "frozen": false,
     "read_only": false
    },
    "slideshow": {
     "slide_type": "slide"
    }
   },
   "source": [
    "```\n",
    "l'url telle quelle https://github.com ou <https://github.com>\n",
    "```\n",
    "\n",
    "l'url telle quelle https://github.com ou <https://github.com>"
   ]
  },
  {
   "cell_type": "markdown",
   "metadata": {
    "run_control": {
     "frozen": false,
     "read_only": false
    },
    "slideshow": {
     "slide_type": "-"
    }
   },
   "source": [
    "### liens"
   ]
  },
  {
   "cell_type": "markdown",
   "metadata": {
    "run_control": {
     "frozen": false,
     "read_only": false
    },
    "slideshow": {
     "slide_type": "-"
    }
   },
   "source": [
    "```\n",
    "[le texte qui apparait](http://github.com/)\n",
    "```\n",
    "\n",
    "[le texte qui apparait](http://github.com/)"
   ]
  },
  {
   "cell_type": "markdown",
   "metadata": {
    "run_control": {
     "frozen": false,
     "read_only": false
    },
    "slideshow": {
     "slide_type": "slide"
    }
   },
   "source": [
    "### image"
   ]
  },
  {
   "cell_type": "markdown",
   "metadata": {
    "run_control": {
     "frozen": false,
     "read_only": false
    },
    "slideshow": {
     "slide_type": "-"
    }
   },
   "source": [
    "sans changement de taille\n",
    "\n",
    "```\n",
    "![une légende](pictures/markdown-cheatsheet-online-1.png)\n",
    "```\n",
    "\n",
    "![une légende](pictures/markdown-cheatsheet-online-1.png)"
   ]
  },
  {
   "cell_type": "markdown",
   "metadata": {
    "run_control": {
     "frozen": false,
     "read_only": false
    },
    "slideshow": {
     "slide_type": "slide"
    }
   },
   "source": [
    "et la suite..\n",
    "![une légende](pictures/markdown-cheatsheet-online-2.png)"
   ]
  },
  {
   "cell_type": "markdown",
   "metadata": {
    "run_control": {
     "frozen": false,
     "read_only": false
    },
    "slideshow": {
     "slide_type": "slide"
    }
   },
   "source": [
    "### block quotes"
   ]
  },
  {
   "cell_type": "markdown",
   "metadata": {
    "run_control": {
     "frozen": false,
     "read_only": false
    },
    "slideshow": {
     "slide_type": ""
    }
   },
   "source": [
    "```\n",
    "> anecdotique, mais parfois on a besoin de citer quelqu'un,\n",
    "> comme pour les messages électroniques\n",
    "> > les citations peuvent être emboitées\n",
    "```\n",
    "\n",
    "> anecdotique, mais parfois on a besoin de citer quelqu'un,\n",
    "> comme pour les messages électroniques\n",
    "> > les citations peuvent être emboitées"
   ]
  },
  {
   "cell_type": "markdown",
   "metadata": {
    "run_control": {
     "frozen": false,
     "read_only": false
    },
    "slideshow": {
     "slide_type": "slide"
    }
   },
   "source": [
    "### remarques"
   ]
  },
  {
   "cell_type": "markdown",
   "metadata": {
    "run_control": {
     "frozen": false,
     "read_only": false
    },
    "slideshow": {
     "slide_type": ""
    }
   },
   "source": [
    "* markdown pas extrêmement bien standardisé\n",
    "* notamment pour les tables\n",
    "* mais beaucoup plus compact et pratique\n",
    "* que des versions plus lourdes comme notamment rst\n",
    "* accepter la philosophie (simpler is better)"
   ]
  },
  {
   "cell_type": "markdown",
   "metadata": {
    "run_control": {
     "frozen": false,
     "read_only": false
    },
    "slideshow": {
     "slide_type": "slide"
    }
   },
   "source": [
    "### Mathjax"
   ]
  },
  {
   "cell_type": "markdown",
   "metadata": {
    "run_control": {
     "frozen": false,
     "read_only": false
    },
    "slideshow": {
     "slide_type": "slide"
    }
   },
   "source": [
    "* [mathjax](https://github.com/mathjax/MathJax)\n",
    "* supporte une grosse partie des équations $\\LaTeX$\n",
    "* principalement il suffit d'insérer entre deux `$`\n",
    "\n",
    "* exemples tirés de [wikipedia](https://en.wikibooks.org/wiki/LaTeX/Mathematics]())"
   ]
  },
  {
   "cell_type": "markdown",
   "metadata": {
    "run_control": {
     "frozen": false,
     "read_only": false
    },
    "slideshow": {
     "slide_type": "slide"
    }
   },
   "source": [
    "### équations (1)"
   ]
  },
  {
   "cell_type": "markdown",
   "metadata": {
    "run_control": {
     "frozen": false,
     "read_only": false
    },
    "slideshow": {
     "slide_type": ""
    }
   },
   "source": [
    "```\n",
    "on peut sans souci insérer $f(n) = n^5 + 4n^2 + 2 |_{n=17}$\n",
    "au beau milieu d'une ligne\n",
    "```\n",
    "\n",
    "on peut sans souci insérer $f(n) = n^5 + 4n^2 + 2 |_{n=17}\n",
    "$ au beau milieu d'une ligne\n",
    "\n",
    "ou simplement utiliser $\\bigotimes$ un seul symbole de la ménagerie $\\LaTeX$\n",
    "\n",
    "ou mettre des caractères Unicode → bien entendu"
   ]
  },
  {
   "cell_type": "markdown",
   "metadata": {
    "run_control": {
     "frozen": false,
     "read_only": false
    },
    "slideshow": {
     "slide_type": "slide"
    }
   },
   "source": [
    "### équations (2)\n",
    "\n",
    "mais si l'équation est un peu plus grosse, sur sa propre ligne"
   ]
  },
  {
   "cell_type": "markdown",
   "metadata": {
    "cell_style": "split",
    "run_control": {
     "frozen": false,
     "read_only": false
    }
   },
   "source": [
    "```\n",
    "$ x = a_0 + \\cfrac{1}{a_1 \n",
    "          + \\cfrac{1}{a_2 \n",
    "          + \\cfrac{1}{a_3 + \\cfrac{1}{a_4} } } } $\n",
    "```"
   ]
  },
  {
   "cell_type": "markdown",
   "metadata": {
    "cell_style": "split",
    "run_control": {
     "frozen": false,
     "read_only": false
    },
    "slideshow": {
     "slide_type": "-"
    }
   },
   "source": [
    "$ x = a_0 + \\cfrac{1}{a_1 \n",
    "          + \\cfrac{1}{a_2 \n",
    "          + \\cfrac{1}{a_3 + \\cfrac{1}{a_4} } } } $"
   ]
  },
  {
   "cell_type": "markdown",
   "metadata": {
    "run_control": {
     "frozen": false,
     "read_only": false
    },
    "slideshow": {
     "slide_type": "slide"
    }
   },
   "source": [
    "### équations (3)"
   ]
  },
  {
   "cell_type": "markdown",
   "metadata": {
    "cell_style": "split",
    "run_control": {
     "frozen": false,
     "read_only": false
    }
   },
   "source": [
    "```\n",
    "$\n",
    "A_{m,n} = \n",
    " \\begin{pmatrix}\n",
    "  a_{1,1} & a_{1,2} & \\cdots & a_{1,n} \\\\\n",
    "  a_{2,1} & a_{2,2} & \\cdots & a_{2,n} \\\\\n",
    "  \\vdots  & \\vdots  & \\ddots & \\vdots  \\\\\n",
    "  a_{m,1} & a_{m,2} & \\cdots & a_{m,n} \n",
    " \\end{pmatrix}\n",
    "$\n",
    "```"
   ]
  },
  {
   "cell_type": "markdown",
   "metadata": {
    "cell_style": "split",
    "run_control": {
     "frozen": false,
     "read_only": false
    },
    "slideshow": {
     "slide_type": "-"
    }
   },
   "source": [
    "$\n",
    "A_{m,n} = \n",
    " \\begin{pmatrix}\n",
    "  a_{1,1} & a_{1,2} & \\cdots & a_{1,n} \\\\\n",
    "  a_{2,1} & a_{2,2} & \\cdots & a_{2,n} \\\\\n",
    "  \\vdots  & \\vdots  & \\ddots & \\vdots  \\\\\n",
    "  a_{m,1} & a_{m,2} & \\cdots & a_{m,n} \n",
    " \\end{pmatrix}\n",
    "$"
   ]
  },
  {
   "cell_type": "markdown",
   "metadata": {
    "run_control": {
     "frozen": false,
     "read_only": false
    },
    "slideshow": {
     "slide_type": "slide"
    }
   },
   "source": [
    "### exercice\n",
    "\n",
    "objectifs\n",
    "\n",
    "* pour créer votre premier notebook\n",
    "* lancez `notebook jupyter`\n",
    "* préférablement dans un dossier vide\n"
   ]
  },
  {
   "cell_type": "markdown",
   "metadata": {
    "run_control": {
     "frozen": false,
     "read_only": false
    },
    "slideshow": {
     "slide_type": ""
    }
   },
   "source": [
    "et surtout, familiarisez vous avec **les raccourcis** clavier\n",
    "\n",
    "* `esc` et `entrée` pour alterner commande / édition\n",
    "* `control-m` `1`..`6` pour les titres\n",
    "* `shift-entrée` pour passer à la cellule suivante\n",
    "* `control-m` `m` / `control-m` `y` pour alterner markdown/code\n",
    "* flêches haute et basse\n",
    "* shift-flêche : sélection multiple\n",
    "* déplacement vers le haut et bas"
   ]
  },
  {
   "cell_type": "markdown",
   "metadata": {
    "run_control": {
     "frozen": false,
     "read_only": false
    },
    "slideshow": {
     "slide_type": "slide"
    }
   },
   "source": [
    "### voir aussi"
   ]
  },
  {
   "cell_type": "markdown",
   "metadata": {
    "run_control": {
     "frozen": false,
     "read_only": false
    },
    "slideshow": {
     "slide_type": ""
    }
   },
   "source": [
    "voyez le menu 'home'\n",
    "\n",
    "* correspond au répertoire où vous avez lancé jupyter\n",
    "* vous permet de renommer les notebooks\n",
    "* et les supprimer"
   ]
  },
  {
   "cell_type": "markdown",
   "metadata": {
    "cell_style": "split",
    "run_control": {
     "frozen": false,
     "read_only": false
    },
    "slideshow": {
     "slide_type": "slide"
    }
   },
   "source": [
    "# `nbdime`\n",
    "\n",
    "## *notebook diff and merge*\n",
    "\n",
    "* `pip3 install nbdime`\n",
    "  * `nbdime config-git --enable`\n",
    "* sortie sur terminal ou sur browser\n",
    "  * et connectable à git\n",
    "* [exemples](https://github.com/jupyter/nbdime)"
   ]
  },
  {
   "cell_type": "markdown",
   "metadata": {
    "cell_style": "split",
    "run_control": {
     "frozen": false,
     "read_only": false
    }
   },
   "source": [
    "### Sous-commandes:\n",
    "\n",
    "* `diff`\n",
    "* `merge`\n",
    "* `diff-web`\n",
    "* `merge-web`\n",
    "* `mergetool`\n",
    "* `config-git`"
   ]
  },
  {
   "cell_type": "markdown",
   "metadata": {
    "run_control": {
     "frozen": false,
     "read_only": false
    },
    "slideshow": {
     "slide_type": "slide"
    }
   },
   "source": [
    "# architecture\n",
    "\n",
    "[schéma sur http://jupyter.readthedocs.io](http://jupyter.readthedocs.io/en/latest/architecture/how_jupyter_ipython_work.html)\n",
    "\n",
    "![](pictures/notebooks-040-architecture.png)\n"
   ]
  },
  {
   "cell_type": "markdown",
   "metadata": {
    "run_control": {
     "frozen": false,
     "read_only": false
    },
    "slideshow": {
     "slide_type": "slide"
    }
   },
   "source": [
    "## acteurs\n",
    "\n",
    "imaginons que vous avez créé deux notebooks:\n",
    "\n",
    "* votre browser web - probablement 3 tabs (home, nb1, nb2)\n",
    "* un service http (notebook server)\n",
    "* et pour chaque notebook ouvert:\n",
    "  * un kernel ipython\n",
    "  * un fichier ipynb (json)\n"
   ]
  },
  {
   "cell_type": "markdown",
   "metadata": {
    "run_control": {
     "frozen": false,
     "read_only": false
    },
    "slideshow": {
     "slide_type": "slide"
    }
   },
   "source": [
    "## console / qt-console\n",
    "\n",
    "* outils plus orientés 'command-line'\n",
    "* pour interagir avec un kernel aussi\n",
    "* [sur `readthedocs.io`](https://jupyter-console.readthedocs.io/en/latest/)\n",
    "\n",
    "```\n",
    "jupyter console \n",
    "jupyter qtconsole \n",
    "```\n"
   ]
  },
  {
   "cell_type": "markdown",
   "metadata": {
    "run_control": {
     "frozen": false,
     "read_only": false
    },
    "slideshow": {
     "slide_type": "slide"
    }
   },
   "source": [
    "## multiples acteurs / un kernel\n",
    "\n",
    "* Ainsi **plusieurs acteurs**\n",
    "* peuvent interagir avec **un seul kernel**\n",
    "* les deux voient alors **une seule variable**\n",
    "\n",
    "Voir par exemple `jupyter console --existing`"
   ]
  },
  {
   "cell_type": "markdown",
   "metadata": {
    "run_control": {
     "frozen": false,
     "read_only": false
    },
    "slideshow": {
     "slide_type": "slide"
    }
   },
   "source": [
    "# jupyterlab\n"
   ]
  },
  {
   "cell_type": "markdown",
   "metadata": {
    "run_control": {
     "frozen": false,
     "read_only": false
    }
   },
   "source": [
    "### versions de jupyter\n",
    "\n",
    "* courante: 4.4\n",
    "\n",
    "```\n",
    "$ jupyter --version\n",
    "4.4.0\n",
    "```\n",
    "\n",
    "* en développement: 5.0\n"
   ]
  },
  {
   "cell_type": "markdown",
   "metadata": {
    "run_control": {
     "frozen": false,
     "read_only": false
    },
    "slideshow": {
     "slide_type": "slide"
    }
   },
   "source": [
    "## Nouvelle interface: jupyterlab\n",
    "\n",
    "* disponible en alpha / béta\n",
    "* multiples outils\n",
    "* dans *un seul tab* du browser\n",
    "\n",
    "```\n",
    "$ pip3 show jupyterlab\n",
    "Name: jupyterlab\n",
    "Version: 0.35.4\n",
    "...\n",
    "```\n"
   ]
  },
  {
   "cell_type": "markdown",
   "metadata": {
    "run_control": {
     "frozen": false,
     "read_only": false
    },
    "slideshow": {
     "slide_type": "slide"
    }
   },
   "source": [
    "\n",
    "```\n",
    "$ jupyter lab\n",
    "```\n",
    "\n",
    "![](pictures/notebooks-041-lab-welcome.png)\n"
   ]
  },
  {
   "cell_type": "markdown",
   "metadata": {
    "run_control": {
     "frozen": false,
     "read_only": false
    },
    "slideshow": {
     "slide_type": "slide"
    }
   },
   "source": [
    "![](pictures/notebooks-042-lab-3tabs.png)\n"
   ]
  },
  {
   "cell_type": "markdown",
   "metadata": {
    "run_control": {
     "frozen": false,
     "read_only": false
    },
    "slideshow": {
     "slide_type": "slide"
    }
   },
   "source": [
    "![](pictures/notebooks-043-lab-commands.png)\n"
   ]
  },
  {
   "cell_type": "markdown",
   "metadata": {
    "run_control": {
     "frozen": false,
     "read_only": false
    },
    "slideshow": {
     "slide_type": "slide"
    }
   },
   "source": [
    "![](pictures/notebooks-044-lab-multi-tools.png)\n"
   ]
  },
  {
   "cell_type": "markdown",
   "metadata": {
    "run_control": {
     "frozen": false,
     "read_only": false
    },
    "slideshow": {
     "slide_type": "slide"
    }
   },
   "source": [
    "![](pictures/notebooks-045-lab-terminal.png)\n"
   ]
  },
  {
   "cell_type": "markdown",
   "metadata": {
    "run_control": {
     "frozen": false,
     "read_only": false
    },
    "slideshow": {
     "slide_type": "slide"
    }
   },
   "source": [
    "![](pictures/notebooks-046-lab-console.png)\n"
   ]
  },
  {
   "cell_type": "markdown",
   "metadata": {
    "run_control": {
     "frozen": false,
     "read_only": false
    },
    "slideshow": {
     "slide_type": "slide"
    }
   },
   "source": [
    "### format des notebooks"
   ]
  },
  {
   "cell_type": "markdown",
   "metadata": {
    "run_control": {
     "frozen": false,
     "read_only": false
    },
    "slideshow": {
     "slide_type": ""
    }
   },
   "source": [
    "* format `.ipynb`\n",
    "* en réalité json\n",
    "* contient tout y compris résultats\n",
    "* et autres métadonnées (notebook + cellule)"
   ]
  },
  {
   "cell_type": "markdown",
   "metadata": {
    "run_control": {
     "frozen": false,
     "read_only": false
    },
    "slideshow": {
     "slide_type": "slide"
    }
   },
   "source": [
    "## `nbconvert`\n",
    "\n",
    "* un utilitaire pour convertir dans tous les sens\n",
    "* à retrouver sur [`readthedocs.io`](https://nbconvert.readthedocs.io/en/latest/)\n"
   ]
  },
  {
   "cell_type": "markdown",
   "metadata": {
    "run_control": {
     "frozen": false,
     "read_only": false
    },
    "slideshow": {
     "slide_type": "slide"
    }
   },
   "source": [
    "### mise en forme\n",
    "\n",
    "* format par défaut html\n",
    "\n",
    "```\n",
    "$ jupyter nbconvert foo.ipynb\n",
    "[nbconvertapp] converting notebook foo.ipynb to html\n",
    "[nbconvertapp] writing 251635 bytes to foo.html\n",
    "```\n",
    "\n",
    "* ou en python\n",
    "\n",
    "```\n",
    "$ jupyter nbconvert --to python foo.ipynb\n",
    "[nbconvertapp] converting notebook foo.ipynb to python\n",
    "[nbconvertapp] writing 114 bytes to foo.py\n",
    "```\n"
   ]
  },
  {
   "cell_type": "markdown",
   "metadata": {
    "run_control": {
     "frozen": false,
     "read_only": false
    },
    "slideshow": {
     "slide_type": "slide"
    }
   },
   "source": [
    "* autres formats disponibles au travers de\n",
    "  * $\\LaTeX$ \n",
    "  * et/ou [pandoc](https://github.com/jgm/pandoc)\n",
    "* requiert une installation séparée\n"
   ]
  },
  {
   "cell_type": "markdown",
   "metadata": {
    "run_control": {
     "frozen": false,
     "read_only": false
    },
    "slideshow": {
     "slide_type": "slide"
    }
   },
   "source": [
    "### exécution\n",
    "\n",
    "```\n",
    "$ jupyter nbconvert --to notebook --execute foo.ipynb\n",
    "[nbconvertapp] converting notebook foo.ipynb to notebook\n",
    "[nbconvertapp] executing notebook with kernel: python3\n",
    "[nbconvertapp] writing 1364 bytes to foo.nbconvert.ipynb\n",
    "```\n",
    "\n",
    "* le notebook a été entièrement exécuté avant d'être sauvé dans une copie.\n",
    "* ajouter `--inplace` pour modifier le notebook.\n"
   ]
  },
  {
   "cell_type": "markdown",
   "metadata": {
    "run_control": {
     "frozen": false,
     "read_only": false
    },
    "slideshow": {
     "slide_type": "slide"
    }
   },
   "source": [
    "### nettoyage\n",
    "\n",
    "```\n",
    "jupyter nbconvert --to notebook \\\n",
    "  --clearoutputpreprocessor.enabled=true foo.py\n",
    "```\n",
    "\n",
    "* enlève les résultats de l'évaluation des cellules\n",
    "* ditto pour l'option `--inplace`\n"
   ]
  },
  {
   "cell_type": "markdown",
   "metadata": {
    "run_control": {
     "frozen": false,
     "read_only": false
    },
    "slideshow": {
     "slide_type": "slide"
    }
   },
   "source": [
    "### API\n",
    "\n",
    "* une API python complète est disponible pour écrire ses propres traitements.\n",
    "* si intérêt : [un exemple ici](https://github.com/flotpython/tools/blob/master/tools/nbnorm.py) \n",
    "  * une moulinette pour nos notebooks du MOOC\n",
    "  * pas très élégant mais fait le job:\n",
    "  * vérifie la présence d'une première cellule auteur/licence\n",
    "  * efface les sorties\n",
    "  * vérifie/normalise certains traits markdown\n",
    "  * ..."
   ]
  },
  {
   "cell_type": "markdown",
   "metadata": {
    "run_control": {
     "frozen": false,
     "read_only": false
    },
    "slideshow": {
     "slide_type": "slide"
    }
   },
   "source": [
    "# astuces"
   ]
  },
  {
   "cell_type": "markdown",
   "metadata": {
    "run_control": {
     "frozen": false,
     "read_only": false
    }
   },
   "source": [
    "## Command Palette\n",
    "`Cmd-Shift-P`\n",
    "![](pictures/notebooks-047-command-palette.png)"
   ]
  },
  {
   "cell_type": "markdown",
   "metadata": {
    "run_control": {
     "frozen": false,
     "read_only": false
    },
    "slideshow": {
     "slide_type": "slide"
    }
   },
   "source": [
    "## docstring\n",
    "`?`\n",
    "![](pictures/notebooks-048-docstring.png)"
   ]
  },
  {
   "cell_type": "markdown",
   "metadata": {
    "run_control": {
     "frozen": false,
     "read_only": false
    },
    "slideshow": {
     "slide_type": "slide"
    }
   },
   "source": [
    "### magics"
   ]
  },
  {
   "cell_type": "markdown",
   "metadata": {
    "run_control": {
     "frozen": false,
     "read_only": false
    }
   },
   "source": [
    "* les *magics* sont des annotations spéciales\n",
    "* qui commencent par un '%'\n",
    "* il s'agit le plus souvent de commodités\n",
    "* qu'on ne pourrait pas faire directement en python"
   ]
  },
  {
   "cell_type": "markdown",
   "metadata": {
    "run_control": {
     "frozen": false,
     "read_only": false
    }
   },
   "source": [
    "* [voir une liste complète ici](https://ipython.org/ipython-doc/3/interactive/magics.html)\n",
    "* `%lsmagic`\n"
   ]
  },
  {
   "cell_type": "code",
   "execution_count": null,
   "metadata": {
    "run_control": {
     "frozen": false,
     "read_only": false
    }
   },
   "outputs": [],
   "source": [
    "# ou bien sûr\n",
    "%lsmagic"
   ]
  },
  {
   "cell_type": "markdown",
   "metadata": {
    "run_control": {
     "frozen": false,
     "read_only": false
    },
    "slideshow": {
     "slide_type": "slide"
    }
   },
   "source": [
    "## `%matplotlib`\n",
    "\n",
    "* `inline`\n",
    "* `notebook`\n",
    "* `nbagg`"
   ]
  },
  {
   "cell_type": "code",
   "execution_count": null,
   "metadata": {
    "run_control": {
     "frozen": false,
     "read_only": false
    }
   },
   "outputs": [],
   "source": [
    "import numpy as np"
   ]
  },
  {
   "cell_type": "code",
   "execution_count": null,
   "metadata": {
    "run_control": {
     "frozen": false,
     "read_only": false
    }
   },
   "outputs": [],
   "source": [
    "%matplotlib inline\n",
    "import matplotlib.pyplot as plt \n",
    "plt.ion()"
   ]
  },
  {
   "cell_type": "code",
   "execution_count": null,
   "metadata": {
    "run_control": {
     "frozen": false,
     "read_only": false
    },
    "slideshow": {
     "slide_type": "slide"
    }
   },
   "outputs": [],
   "source": [
    "x = np.linspace(0, 4*np.pi, 100)\n",
    "y = 2*np.cos(x+2) + np.sin(2*x)\n",
    "plt.plot(x, y);"
   ]
  },
  {
   "cell_type": "markdown",
   "metadata": {
    "run_control": {
     "frozen": false,
     "read_only": false
    },
    "slideshow": {
     "slide_type": "slide"
    }
   },
   "source": [
    "## supprimer l'affichage\n",
    "\n",
    "* finir une cellule de code par `;`\n",
    "* supprime l'impression automatique\n",
    "* (en fait, revient à ajouter une dernière expression `None`)"
   ]
  },
  {
   "cell_type": "code",
   "execution_count": null,
   "metadata": {
    "run_control": {
     "frozen": false,
     "read_only": false
    }
   },
   "outputs": [],
   "source": [
    "%matplotlib inline\n",
    "from matplotlib import pyplot as plt\n",
    "plt.ion()"
   ]
  },
  {
   "cell_type": "code",
   "execution_count": null,
   "metadata": {
    "run_control": {
     "frozen": false,
     "read_only": false
    },
    "slideshow": {
     "slide_type": "slide"
    }
   },
   "outputs": [],
   "source": [
    "%matplotlib inline\n",
    "\n",
    "import numpy\n",
    "x = 1 - numpy.linspace(0, 1, 100)**1.5\n",
    "plt.hist(x)"
   ]
  },
  {
   "cell_type": "code",
   "execution_count": null,
   "metadata": {
    "run_control": {
     "frozen": false,
     "read_only": false
    },
    "slideshow": {
     "slide_type": "slide"
    }
   },
   "outputs": [],
   "source": [
    "x = 1 - numpy.linspace(0, 1, 100)**2.\n",
    "plt.hist(x);"
   ]
  },
  {
   "cell_type": "markdown",
   "metadata": {
    "run_control": {
     "frozen": false,
     "read_only": false
    },
    "slideshow": {
     "slide_type": "slide"
    }
   },
   "source": [
    "## `autoreload`"
   ]
  },
  {
   "cell_type": "markdown",
   "metadata": {
    "run_control": {
     "frozen": false,
     "read_only": false
    }
   },
   "source": [
    "il s'agit d'une extension (chargée avec `load_ext`), très pratique lorsqu'un notebook importe un module qui est modifié en même temps - sous un éditeur comme spyder ou autre.\n",
    "\n",
    "le module est alors **rechargé automatiquement** à chaque modification du fichier."
   ]
  },
  {
   "cell_type": "code",
   "execution_count": null,
   "metadata": {
    "run_control": {
     "frozen": false,
     "read_only": false
    }
   },
   "outputs": [],
   "source": [
    "%load_ext autoreload\n",
    "%autoreload 2"
   ]
  },
  {
   "cell_type": "markdown",
   "metadata": {
    "run_control": {
     "frozen": false,
     "read_only": false
    },
    "slideshow": {
     "slide_type": "slide"
    }
   },
   "source": [
    "## `%run`\n",
    "\n",
    "* permet d'exécuter un fichier python\n",
    "* **ou un autre notebook**\n"
   ]
  },
  {
   "cell_type": "markdown",
   "metadata": {
    "run_control": {
     "frozen": false,
     "read_only": false
    },
    "slideshow": {
     "slide_type": "slide"
    }
   },
   "source": [
    "![](pictures/notebooks-049-included-code.png)\n"
   ]
  },
  {
   "cell_type": "markdown",
   "metadata": {
    "run_control": {
     "frozen": false,
     "read_only": false
    },
    "slideshow": {
     "slide_type": "slide"
    }
   },
   "source": [
    "![](pictures/notebooks-050-included-run.png)\n"
   ]
  },
  {
   "cell_type": "markdown",
   "metadata": {
    "run_control": {
     "frozen": false,
     "read_only": false
    },
    "slideshow": {
     "slide_type": "slide"
    }
   },
   "source": [
    "## commandes shell"
   ]
  },
  {
   "cell_type": "code",
   "execution_count": null,
   "metadata": {
    "run_control": {
     "frozen": false,
     "read_only": false
    }
   },
   "outputs": [],
   "source": [
    "%cd ..\n",
    "%ls\n",
    "%cd -"
   ]
  },
  {
   "cell_type": "markdown",
   "metadata": {
    "run_control": {
     "frozen": false,
     "read_only": false
    },
    "slideshow": {
     "slide_type": "slide"
    }
   },
   "source": [
    "## `!` pour exécuter une commande"
   ]
  },
  {
   "cell_type": "code",
   "execution_count": null,
   "metadata": {
    "run_control": {
     "frozen": false,
     "read_only": false
    }
   },
   "outputs": [],
   "source": [
    "mots_de_passe = !cat /etc/passwd"
   ]
  },
  {
   "cell_type": "code",
   "execution_count": null,
   "metadata": {
    "run_control": {
     "frozen": false,
     "read_only": false
    }
   },
   "outputs": [],
   "source": [
    "for line in mots_de_passe[:6]:\n",
    "    print(line)"
   ]
  },
  {
   "cell_type": "markdown",
   "metadata": {
    "run_control": {
     "frozen": false,
     "read_only": false
    },
    "slideshow": {
     "slide_type": "slide"
    }
   },
   "source": [
    "## génération de html"
   ]
  },
  {
   "cell_type": "code",
   "execution_count": null,
   "metadata": {
    "run_control": {
     "frozen": false,
     "read_only": false
    }
   },
   "outputs": [],
   "source": [
    "from IPython.display import HTML\n",
    "from itertools import product"
   ]
  },
  {
   "cell_type": "code",
   "execution_count": null,
   "metadata": {
    "run_control": {
     "frozen": false,
     "read_only": false
    }
   },
   "outputs": [],
   "source": [
    "def table_generator(xs, ys):\n",
    "    html = \"<table>\"\n",
    "    for x in xs:\n",
    "        html += \"<tr>\"\n",
    "        for y in ys:\n",
    "            html += \"<td>({}, {})</td>\".format(x, y)\n",
    "        html += \"</tr>\"\n",
    "    html += \"</table>\"\n",
    "    return HTML(html)"
   ]
  },
  {
   "cell_type": "code",
   "execution_count": null,
   "metadata": {
    "run_control": {
     "frozen": false,
     "read_only": false
    },
    "slideshow": {
     "slide_type": "slide"
    }
   },
   "outputs": [],
   "source": [
    "lines = [ 'a', 'b', 'c', 'd']\n",
    "columns = range(1, 5)\n",
    "table_generator(lines, columns)"
   ]
  },
  {
   "cell_type": "markdown",
   "metadata": {
    "run_control": {
     "frozen": false,
     "read_only": false
    },
    "slideshow": {
     "slide_type": "slide"
    }
   },
   "source": [
    "## sélection de magics - python\n",
    "\n",
    "* `%%time` - `%timeit` - mesures de performance\n",
    "* `%prun` - `%lprun` - profiling \n",
    "* `%debug` et `%pdb` - debugging\n",
    "* `%who` - liste les variables connues\n",
    "* je vous renvoie à [cet excellent article](https://www.dataquest.io/blog/jupyter-notebook-tips-tricks-shortcuts/)"
   ]
  },
  {
   "cell_type": "markdown",
   "metadata": {
    "run_control": {
     "frozen": false,
     "read_only": false
    },
    "slideshow": {
     "slide_type": "slide"
    }
   },
   "source": [
    "## multiples kernels\n",
    "\n",
    "* on peut même semble-t-il mélanger plusieurs langages dans le même notebook\n",
    "* comme python2 / python3\n",
    "* ou python + r"
   ]
  },
  {
   "cell_type": "markdown",
   "metadata": {
    "run_control": {
     "frozen": false,
     "read_only": false
    },
    "slideshow": {
     "slide_type": "slide"
    }
   },
   "source": [
    "# `interact`\n",
    "\n",
    "* souvenez-vous : le notebook de *Nature*\n",
    "* partie du projet `ipywidgets`\n",
    "* [voir sur `readthedocs.io`](http://ipywidgets.readthedocs.io/en/latest/examples/Using%20Interact.html)\n",
    "\n",
    "```\n",
    "from ipywidgets import interact, fixed\n",
    "```\n"
   ]
  },
  {
   "cell_type": "markdown",
   "metadata": {
    "run_control": {
     "frozen": false,
     "read_only": false
    },
    "slideshow": {
     "slide_type": "slide"
    }
   },
   "source": [
    "## use case\n",
    "\n",
    "* visualisation de la fréquence:\n",
    "* partant de la fonction $sin_f: x \\longrightarrow sin(f.x)$\n"
   ]
  },
  {
   "cell_type": "code",
   "execution_count": null,
   "metadata": {
    "cell_style": "split",
    "run_control": {
     "frozen": false,
     "read_only": false
    }
   },
   "outputs": [],
   "source": [
    "%matplotlib inline\n",
    "import matplotlib.pyplot as plt\n",
    "import numpy as np\n",
    "plt.ion()"
   ]
  },
  {
   "cell_type": "markdown",
   "metadata": {
    "cell_style": "split",
    "run_control": {
     "frozen": false,
     "read_only": false
    },
    "slideshow": {
     "slide_type": "-"
    }
   },
   "source": [
    "on veut créer \n",
    "\n",
    "* une visualisation interactive\n",
    "* qui permette de *voir* l'effet du paramètre $f$"
   ]
  },
  {
   "cell_type": "code",
   "execution_count": null,
   "metadata": {
    "run_control": {
     "frozen": false,
     "read_only": false
    },
    "slideshow": {
     "slide_type": "slide"
    }
   },
   "outputs": [],
   "source": [
    "def sinus(freq):\n",
    "    X = np.linspace(0., 10., 200)\n",
    "    Y = np.sin(freq*X)\n",
    "    plt.plot(X, Y)"
   ]
  },
  {
   "cell_type": "code",
   "execution_count": null,
   "metadata": {
    "cell_style": "split",
    "run_control": {
     "frozen": false,
     "read_only": false
    }
   },
   "outputs": [],
   "source": [
    "sinus(1)"
   ]
  },
  {
   "cell_type": "code",
   "execution_count": null,
   "metadata": {
    "cell_style": "split",
    "run_control": {
     "frozen": false,
     "read_only": false
    }
   },
   "outputs": [],
   "source": [
    "sinus(0.5)"
   ]
  },
  {
   "cell_type": "markdown",
   "metadata": {
    "run_control": {
     "frozen": false,
     "read_only": false
    },
    "slideshow": {
     "slide_type": "slide"
    }
   },
   "source": [
    "## `interact`\n",
    "\n",
    "grâce à interact on va pouvoir explorer ça de manière plus complète et plus interactive."
   ]
  },
  {
   "cell_type": "code",
   "execution_count": null,
   "metadata": {
    "run_control": {
     "frozen": false,
     "read_only": false
    }
   },
   "outputs": [],
   "source": [
    "from ipywidgets import interact"
   ]
  },
  {
   "cell_type": "code",
   "execution_count": null,
   "metadata": {
    "run_control": {
     "frozen": false,
     "read_only": false
    }
   },
   "outputs": [],
   "source": [
    "interact(sinus, freq=(0.5, 10., 0.5));"
   ]
  },
  {
   "cell_type": "markdown",
   "metadata": {
    "run_control": {
     "frozen": false,
     "read_only": false
    },
    "slideshow": {
     "slide_type": "slide"
    }
   },
   "source": [
    "## appel à `interact`"
   ]
  },
  {
   "cell_type": "markdown",
   "metadata": {
    "run_control": {
     "frozen": false,
     "read_only": false
    }
   },
   "source": [
    "* premier argument: une fonction `f`\n",
    "* +: autant d'arguments supplémentaires\n",
    "  * que de paramètres attendus par `f`\n",
    "* chacun est un `Slider`"
   ]
  },
  {
   "cell_type": "markdown",
   "metadata": {
    "run_control": {
     "frozen": false,
     "read_only": false
    }
   },
   "source": [
    "par exemple\n",
    "\n",
    "* si `f` prend deux aguments `foo` et `bar`\n",
    "* `interact(f, foo=.., bar=..)`"
   ]
  },
  {
   "cell_type": "markdown",
   "metadata": {
    "run_control": {
     "frozen": false,
     "read_only": false
    },
    "slideshow": {
     "slide_type": "slide"
    }
   },
   "source": [
    "## bouche-trou: `fixed`"
   ]
  },
  {
   "cell_type": "markdown",
   "metadata": {
    "run_control": {
     "frozen": false,
     "read_only": false
    }
   },
   "source": [
    "* quand un des paramètres reste fixe"
   ]
  },
  {
   "cell_type": "code",
   "execution_count": null,
   "metadata": {
    "run_control": {
     "frozen": false,
     "read_only": false
    }
   },
   "outputs": [],
   "source": [
    "# la fonction x**omega entre phi et phi + 1\n",
    "def histo2(omega, phi):\n",
    "    plt.hist(np.linspace(phi, phi+1, 100)**omega, alpha=0.3)"
   ]
  },
  {
   "cell_type": "code",
   "execution_count": null,
   "metadata": {
    "run_control": {
     "frozen": false,
     "read_only": false
    }
   },
   "outputs": [],
   "source": [
    "from ipywidgets import fixed\n",
    "interact(histo2, omega=(0., 2.), phi=fixed(0.))"
   ]
  },
  {
   "cell_type": "markdown",
   "metadata": {
    "run_control": {
     "frozen": false,
     "read_only": false
    },
    "slideshow": {
     "slide_type": "slide"
    }
   },
   "source": [
    "## sliders"
   ]
  },
  {
   "cell_type": "markdown",
   "metadata": {
    "run_control": {
     "frozen": false,
     "read_only": false
    }
   },
   "source": [
    "* en fait cet appel à interact\n",
    "  * `interact(histo, omega=(0., 2.))`\n",
    "* est un raccourci pour\n",
    "  * `interact(histo, omega=Floatslider(min=0., max=2.))`"
   ]
  },
  {
   "cell_type": "markdown",
   "metadata": {
    "run_control": {
     "frozen": false,
     "read_only": false
    },
    "slideshow": {
     "slide_type": "slide"
    }
   },
   "source": [
    "ce qui permet un peu plus de réglages:\n",
    "\n",
    "* `min`, `max`, `step`\n",
    "* et `value` - valeur initiale"
   ]
  },
  {
   "cell_type": "code",
   "execution_count": null,
   "metadata": {
    "run_control": {
     "frozen": false,
     "read_only": false
    }
   },
   "outputs": [],
   "source": [
    "from ipywidgets import FloatSlider\n",
    "interact(histo, omega=FloatSlider(min=0., max=2., value=1.83))"
   ]
  },
  {
   "cell_type": "markdown",
   "metadata": {
    "run_control": {
     "frozen": false,
     "read_only": false
    },
    "slideshow": {
     "slide_type": "slide"
    }
   },
   "source": [
    "## sliders (ctd)"
   ]
  },
  {
   "cell_type": "markdown",
   "metadata": {
    "run_control": {
     "frozen": false,
     "read_only": false
    }
   },
   "source": [
    "plusieurs types disponibles\n",
    "\n",
    "* booléen (checkbox)\n",
    "* texte (saisie utilisateur)\n",
    "* liste ou dict (choix multiples)"
   ]
  },
  {
   "cell_type": "code",
   "execution_count": null,
   "metadata": {
    "run_control": {
     "frozen": false,
     "read_only": false
    },
    "slideshow": {
     "slide_type": "slide"
    }
   },
   "outputs": [],
   "source": [
    "# une liste ou un dictionnaire est transformé(e) en un Dropdown\n",
    "interact(histo, omega={'petit': 0.1, 'moyen': 0.5, 'plat': 1.0})"
   ]
  },
  {
   "cell_type": "markdown",
   "metadata": {
    "run_control": {
     "frozen": false,
     "read_only": false
    },
    "slideshow": {
     "slide_type": "slide"
    }
   },
   "source": [
    "* [liste complète des widgets](http://ipywidgets.readthedocs.io/en/latest/examples/widget%20list.html)\n",
    "* et [notamment sur dropdown](http://ipywidgets.readthedocs.io/en/latest/examples/widget%20list.html#dropdown)"
   ]
  },
  {
   "cell_type": "code",
   "execution_count": null,
   "metadata": {
    "run_control": {
     "frozen": false,
     "read_only": false
    }
   },
   "outputs": [],
   "source": [
    "from ipywidgets import Dropdown\n",
    "interact(histo, omega=Dropdown(options={'petit': 0.1, 'moyen': 0.5, 'plat': 1.0}))"
   ]
  },
  {
   "cell_type": "markdown",
   "metadata": {
    "run_control": {
     "frozen": false,
     "read_only": false
    },
    "slideshow": {
     "slide_type": "slide"
    }
   },
   "source": [
    "## calculs lourds\n",
    "\n",
    "* créer un slider avec `continuous_update=false`\n",
    "* pour éviter mises à jour trop fréquentes"
   ]
  },
  {
   "cell_type": "markdown",
   "metadata": {
    "run_control": {
     "frozen": false,
     "read_only": false
    },
    "slideshow": {
     "slide_type": "slide"
    }
   },
   "source": [
    "# extensions\n",
    "\n",
    "* notebook : `nbextension`\n",
    "* server : `serverextension`\n",
    "* jupyterlab: `labextension`"
   ]
  },
  {
   "cell_type": "markdown",
   "metadata": {
    "run_control": {
     "frozen": false,
     "read_only": false
    },
    "slideshow": {
     "slide_type": "slide"
    }
   },
   "source": [
    "```\n",
    "$ jupyter nbextension --help\n",
    "<snip>\n",
    "Examples\n",
    "--------\n",
    "\n",
    "    jupyter nbextension list                          # list all configured nbextensions\n",
    "    jupyter nbextension install --py <packagename>    # install an nbextension from a Python package\n",
    "    jupyter nbextension enable --py <packagename>     # enable all nbextensions in a Python package\n",
    "    jupyter nbextension disable --py <packagename>    # disable all nbextensions in a Python package\n",
    "    jupyter nbextension uninstall --py <packagename>  # uninstall an nbextension in a Python package\n",
    "\n",
    "```"
   ]
  },
  {
   "cell_type": "markdown",
   "metadata": {
    "run_control": {
     "frozen": false,
     "read_only": false
    },
    "slideshow": {
     "slide_type": "slide"
    }
   },
   "source": [
    "```\n",
    "parmentelat ~/git/cours-python/cstb $ jupyter serverextension list\n",
    "config dir: /Users/parmentelat/.jupyter\n",
    "    jupyter_nbextensions_configurator  enabled\n",
    "    - Validating...\n",
    "      jupyter_nbextensions_configurator  OK\n",
    "config dir: /Library/Frameworks/Python.framework/Versions/3.5/etc/jupyter\n",
    "    jupyterlab  enabled\n",
    "    - Validating...\n",
    "      jupyterlab  OK\n",
    "```"
   ]
  },
  {
   "cell_type": "markdown",
   "metadata": {
    "run_control": {
     "frozen": false,
     "read_only": false
    },
    "slideshow": {
     "slide_type": "slide"
    }
   },
   "source": [
    "### `jupyter_nbextensions_configurator`\n",
    "\n",
    "* [sur github](https://github.com/Jupyter-contrib/jupyter_nbextensions_configurator)\n",
    "\n",
    "```\n",
    "pip3 install jupyter_nbextensions_configurator\n",
    "jupyter nbextensions_configurator enable --user\n",
    "```\n"
   ]
  },
  {
   "cell_type": "markdown",
   "metadata": {
    "run_control": {
     "frozen": false,
     "read_only": false
    },
    "slideshow": {
     "slide_type": "slide"
    }
   },
   "source": [
    "![](pictures/notebooks-051-nbextensions-configurator.png)\n"
   ]
  },
  {
   "cell_type": "markdown",
   "metadata": {
    "run_control": {
     "frozen": false,
     "read_only": false
    },
    "slideshow": {
     "slide_type": "slide"
    }
   },
   "source": [
    "### infrastructure\n",
    "\n",
    "* mybinder.org\n",
    "* jupyterhub"
   ]
  }
 ],
 "metadata": {
  "celltoolbar": "Slideshow",
  "kernelspec": {
   "display_name": "Python 3",
   "language": "python",
   "name": "python3"
  },
  "language_info": {
   "codemirror_mode": {
    "name": "ipython",
    "version": 3
   },
   "file_extension": ".py",
   "mimetype": "text/x-python",
   "name": "python",
   "nbconvert_exporter": "python",
   "pygments_lexer": "ipython3",
   "version": "3.7.0"
  },
  "notebookname": "introduction aux notebooks",
  "toc": {
   "colors": {
    "hover_highlight": "#DAA520",
    "running_highlight": "#FF0000",
    "selected_highlight": "#FFD700"
   },
   "moveMenuLeft": true,
   "nav_menu": {
    "height": "513px",
    "width": "253px"
   },
   "navigate_menu": true,
   "number_sections": true,
   "sideBar": false,
   "threshold": "2",
   "toc_cell": false,
   "toc_position": {
    "height": "851px",
    "left": "1460.98px",
    "right": "1206px",
    "top": "37.9883px",
    "width": "328px"
   },
   "toc_section_display": "block",
   "toc_window_display": false,
   "widenNotebook": false
  },
  "version": "1.0"
 },
 "nbformat": 4,
 "nbformat_minor": 2
}
