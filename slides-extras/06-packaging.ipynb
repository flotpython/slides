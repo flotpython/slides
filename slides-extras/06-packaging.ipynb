{
 "cells": [
  {
   "cell_type": "markdown",
   "metadata": {
    "run_control": {
     "frozen": false,
     "read_only": false
    },
    "slideshow": {
     "slide_type": "slide"
    }
   },
   "source": [
    "<div class=\"licence\">\n",
    "<span>Licence CC BY-NC-ND</span>\n",
    "<span>Thierry Parmentelat &amp; Arnaud Legout</span>\n",
    "</div>"
   ]
  },
  {
   "cell_type": "code",
   "execution_count": null,
   "metadata": {
    "slideshow": {
     "slide_type": "slide"
    }
   },
   "outputs": [],
   "source": [
    "\n",
    "from plan import plan_extras; plan_extras(\"packaging\")"
   ]
  },
  {
   "cell_type": "markdown",
   "metadata": {
    "run_control": {
     "frozen": false,
     "read_only": false
    },
    "slideshow": {
     "slide_type": "slide"
    }
   },
   "source": [
    "### *packaging* (software distribution)"
   ]
  },
  {
   "cell_type": "markdown",
   "metadata": {
    "run_control": {
     "frozen": false,
     "read_only": false
    }
   },
   "source": [
    "### portée\n",
    "on regroupe ici les outils pour\n",
    "\n",
    "* **packager** un composant logiciel\n",
    "* **exposer** différentes versions à une infrastructure\n",
    "* **installer** à partir de l'infrastructure\n",
    "* **installer** un module localement à partir des sources\n",
    "* **gérer** les dépendances entre composants\n",
    "* **maintenir** plusieurs combinaisons de composants "
   ]
  },
  {
   "cell_type": "markdown",
   "metadata": {
    "run_control": {
     "frozen": false,
     "read_only": false
    },
    "slideshow": {
     "slide_type": "slide"
    }
   },
   "source": [
    "## publics\n",
    "\n",
    "* *sysadmins*: installation d'outils en tant que `root` pour les utilisateurs\n",
    "  * typiquement la dernière version \n",
    "* **et aussi** *devels*:\n",
    "  * installation locale à un utilisateur\n",
    "  * possiblement besoin de plusieurs versions différentes d'un même module"
   ]
  },
  {
   "cell_type": "markdown",
   "metadata": {
    "run_control": {
     "frozen": false,
     "read_only": false
    },
    "slideshow": {
     "slide_type": "slide"
    }
   },
   "source": [
    "## quels challenges ?\n",
    "\n",
    "* gestion des dépendances\n",
    "* et des contraintes en termes de version\n",
    "* sous forme de sources ou de binaires\n",
    "* installation globale système ou locale utilisateur\n",
    "* plusieurs environnement pour un même utilisateur"
   ]
  },
  {
   "cell_type": "markdown",
   "metadata": {
    "run_control": {
     "frozen": false,
     "read_only": false
    },
    "slideshow": {
     "slide_type": "slide"
    }
   },
   "source": [
    "## avertissement / vocabulaire\n",
    "\n",
    "* on parle systématiquement de **packages**\n",
    "* qui **ne sont pas** des packages au sens du langage (package/module)\n",
    "* même s'il arrive que cela coïncide"
   ]
  },
  {
   "cell_type": "markdown",
   "metadata": {
    "run_control": {
     "frozen": false,
     "read_only": false
    },
    "slideshow": {
     "slide_type": "slide"
    }
   },
   "source": [
    "# outils concernés\n",
    "\n",
    "* `pip` \n",
    "  * installer un package\n",
    "* `setuptools`\n",
    "  * créer un package\n",
    "* `virtualenv` / (`docker`)"
   ]
  },
  {
   "cell_type": "markdown",
   "metadata": {
    "run_control": {
     "frozen": false,
     "read_only": false
    },
    "slideshow": {
     "slide_type": "slide"
    }
   },
   "source": [
    "# un peu d'histoire\n",
    "\n",
    "* ~~2000 - `distutils` (python 1.6)~~\n",
    "* 2003 - [`pypi`](`https://pypi.python.org/pypi)\n",
    "* 2005 - `setuptools` - inclut ~~`easy_install`~~\n",
    "* 2007 - `virtualenv`\n",
    "* 2008 - `pip`"
   ]
  },
  {
   "cell_type": "markdown",
   "metadata": {
    "run_control": {
     "frozen": false,
     "read_only": false
    }
   },
   "source": [
    "## outils obsolètes à éviter\n",
    "\n",
    "* `distutils` : utiliser `setuptools`\n",
    "* `easy_install` : utiliser `pip`"
   ]
  },
  {
   "cell_type": "markdown",
   "metadata": {
    "run_control": {
     "frozen": false,
     "read_only": false
    },
    "slideshow": {
     "slide_type": "slide"
    }
   },
   "source": [
    "dans le cas de python en tous cas:\n",
    "\n",
    "* un sujet vécu comme un mal nécessaire \n",
    "* plusieurs itérations pas toujours très concertées\n",
    "* résultat : pas l'aspect le plus clair dans l'écosystème python !"
   ]
  },
  {
   "cell_type": "markdown",
   "metadata": {
    "run_control": {
     "frozen": false,
     "read_only": false
    }
   },
   "source": [
    "## autres langages\n",
    "\n",
    "* perl : cpan \n",
    "* ruby : gems\n",
    "* ..."
   ]
  },
  {
   "cell_type": "markdown",
   "metadata": {
    "run_control": {
     "frozen": false,
     "read_only": false
    },
    "slideshow": {
     "slide_type": "slide"
    }
   },
   "source": [
    "# survol\n",
    "\n",
    "le workflow, typiquement pour un package 'python-only' :\n",
    "\n",
    "* développeur : une fois pour toutes\n",
    "  * écrit `setup.py`\n",
    "* développeur : à chaque nouvelle version\n",
    "  * met à jour changelog (et version.py)\n",
    "  * `./setup.py sdist upload -r pypi`\n",
    "  * qui crée une distribution source\n",
    "  * l'uploade sur [https://pypi.python.org/pypi](https://pypi.python.org/pypi)\n",
    "* utilisateur : `sudo pip install [-u] nbautoeval`\n",
    "  * va chercher package sur pypi\n",
    "  * l'installe localement\n",
    "  * tout en installant les dépendances\n",
    "  * l'option `-u/--upgrade` autorise une mise à jour "
   ]
  },
  {
   "cell_type": "markdown",
   "metadata": {
    "run_control": {
     "frozen": false,
     "read_only": false
    },
    "slideshow": {
     "slide_type": "slide"
    }
   },
   "source": [
    "* choisir un nom unique dans `pypi` - e.g. `nbautoeval`\n",
    "* arborescence minimale\n",
    "\n",
    "```\n",
    "nbautoeval/ (pour git)\n",
    "    nbautoeval/ (pour python)\n",
    "        __init__.py \n",
    "        version.py\n",
    "    setup.py\n",
    "```    "
   ]
  },
  {
   "cell_type": "markdown",
   "metadata": {
    "run_control": {
     "frozen": false,
     "read_only": false
    },
    "slideshow": {
     "slide_type": "slide"
    }
   },
   "source": [
    "# `pip`"
   ]
  },
  {
   "cell_type": "markdown",
   "metadata": {
    "run_control": {
     "frozen": false,
     "read_only": false
    }
   },
   "source": [
    "* `pip` fait partie de la distribution standard (depuis 2.7.9 et 3.4)\n",
    "* permet de chercher et installer les librairies tierces\n",
    "* notamment depuis [https://pypi.python.org/pypi](https://pypi.python.org/pypi)\n",
    "* prend en charge les dépendances et versions\n",
    "* [documentation](https://pip.pypa.io/en/stable/)"
   ]
  },
  {
   "cell_type": "markdown",
   "metadata": {
    "run_control": {
     "frozen": false,
     "read_only": false
    },
    "slideshow": {
     "slide_type": "slide"
    }
   },
   "source": [
    "## avertissement\n",
    "\n",
    "* si vous avez plusieurs version de `python`\n",
    "* vous avez aussi plusieurs versions de `pip`\n",
    "* par exemple, utiliser `pip3` si vous invoquez `python3` \n",
    "* ou encore `python3 -m pip`"
   ]
  },
  {
   "cell_type": "markdown",
   "metadata": {
    "run_control": {
     "frozen": false,
     "read_only": false
    },
    "slideshow": {
     "slide_type": "slide"
    }
   },
   "source": [
    "## recherche\n",
    "\n",
    "```\n",
    "$ pip3 search pssh\n",
    "apssh (0.5.6)    - Asynchroneous Parallel ssh\n",
    "  INSTALLED: 0.5.6 (latest)\n",
    "pssh (2.3.1)     - Parallel version of OpenSSH and related tools\n",
    "vlcpssh (0.1.5)  - Integrate paramiko into ssh\n",
    "```"
   ]
  },
  {
   "cell_type": "markdown",
   "metadata": {
    "run_control": {
     "frozen": false,
     "read_only": false
    },
    "slideshow": {
     "slide_type": "slide"
    }
   },
   "source": [
    "### état des lieux"
   ]
  },
  {
   "cell_type": "markdown",
   "metadata": {
    "cell_style": "split",
    "run_control": {
     "frozen": false,
     "read_only": false
    },
    "slideshow": {
     "slide_type": ""
    }
   },
   "source": [
    "```\n",
    "$ pip list\n",
    "Package            Version\n",
    "------------------ ----------\n",
    "aiohttp            3.5.4\n",
    "appnope            0.1.0\n",
    "astroid            2.2.0\n",
    "...\n",
    "```"
   ]
  },
  {
   "cell_type": "markdown",
   "metadata": {
    "cell_style": "split",
    "run_control": {
     "frozen": false,
     "read_only": false
    },
    "slideshow": {
     "slide_type": ""
    }
   },
   "source": [
    "```\n",
    "$ pip3 freeze\n",
    "aiohttp==3.5.4\n",
    "appnope==0.1.0\n",
    "astroid==2.2.0\n",
    "...\n",
    "```"
   ]
  },
  {
   "cell_type": "markdown",
   "metadata": {
    "run_control": {
     "frozen": false,
     "read_only": false
    },
    "slideshow": {
     "slide_type": "slide"
    }
   },
   "source": [
    "## installation globale\n",
    "\n",
    "* `pip3 install pssh`\n",
    "* **MAIS**\n",
    "* ceci demande les droits administrateur !\n",
    "* `sudo pip3 install pssh`\n",
    "* pas très commode.."
   ]
  },
  {
   "cell_type": "markdown",
   "metadata": {
    "run_control": {
     "frozen": false,
     "read_only": false
    },
    "slideshow": {
     "slide_type": "slide"
    }
   },
   "source": [
    "## installation privée : `--user`\n",
    "\n",
    "(Voir aussi `virtualenv`)\n",
    "\n",
    "```\n",
    "$ pip3 list --user\n",
    "```\n",
    "\n",
    "```\n",
    "$ pip3 install --user pssh\n",
    "...\n",
    "Successfully installed pssh-2.3.1\n",
    "```\n",
    "\n",
    "```\n",
    "$ pip3 list --user\n",
    "Package Version\n",
    "------- -------\n",
    "pssh    2.3.1\n",
    "```"
   ]
  },
  {
   "cell_type": "markdown",
   "metadata": {
    "run_control": {
     "frozen": false,
     "read_only": false
    },
    "slideshow": {
     "slide_type": "slide"
    }
   },
   "source": [
    "## gestion des versions\n",
    "\n",
    "* on peut obtenir plus de détails sur un package\n",
    "* en allant [sur le site `https://pypi.python.org/pypi`](https://pypi.python.org/pypi)\n",
    "* par exemple pour [`nbautoeval`](https://pypi.python.org/pypi?%3Aaction=pkg_edit&name=nbautoeval)\n",
    "\n",
    "```\n",
    "$ pip install SomePackage            # latest version\n",
    "$ pip install SomePackage==1.0.4     # specific version\n",
    "$ pip install 'SomePackage>=1.0.4'     # minimum version\n",
    "```"
   ]
  },
  {
   "cell_type": "markdown",
   "metadata": {
    "run_control": {
     "frozen": false,
     "read_only": false
    },
    "slideshow": {
     "slide_type": "slide"
    }
   },
   "source": [
    "## dépendances : photocopie et installation\n",
    "\n",
    "* développeur\n",
    "```\n",
    "pip3 freeze > requirements.txt\n",
    "```\n",
    "\n",
    "* utilisateur\n",
    "```\n",
    "pip3 install -r requirements.txt\n",
    "```"
   ]
  },
  {
   "cell_type": "markdown",
   "metadata": {
    "run_control": {
     "frozen": false,
     "read_only": false
    },
    "slideshow": {
     "slide_type": "slide"
    }
   },
   "source": [
    "## binaire ou pas binaire\n",
    "\n",
    "* historiquement limité \n",
    "  * aux installations à partir du source\n",
    "  * pas gênant pour le code python\n",
    "  * mais lent et contraignant pour les dépendances en C\n",
    "* ce **n'est plus le cas**\n",
    "  * on peut produire des packages binaires grâce aux *wheels*\n",
    "  * souvent disponible pour windows et mac"
   ]
  },
  {
   "cell_type": "markdown",
   "metadata": {
    "run_control": {
     "frozen": false,
     "read_only": false
    }
   },
   "source": [
    "## autres sources: mode devel\n",
    "\n",
    "* le défaut est d'aller chercher sur pypi\n",
    "\n",
    "* avec l'option `install -e` on peut utiliser une source locale (en mode devel)\n",
    "```\n",
    "pip3 install -e ~parmentelat/git/nbautoeval\n",
    "```"
   ]
  },
  {
   "cell_type": "markdown",
   "metadata": {
    "run_control": {
     "frozen": false,
     "read_only": false
    },
    "slideshow": {
     "slide_type": "slide"
    }
   },
   "source": [
    "## autres sources: mode devel\n",
    "\n",
    "* ou bien se fabriquer un pseudo repository pypi local\n",
    "* à partir d'un `.tar.gz` produit par `setup.py sdist` (voir +bas)\n",
    "\n",
    "```\n",
    "cd ~parmentelat/git/nbautoeval\n",
    "setup.py sdist\n",
    "mkdir -p ~/my-pseudo-pypi/nbautoeval\n",
    "cp dist/nbautoeval-0.1.3.tar.gz\n",
    "```\n",
    "\n",
    "```\n",
    "pip3 install nbautoeval --find-link file:///users/parmentelat/my-pseudo-pypi/\n",
    "```"
   ]
  },
  {
   "cell_type": "markdown",
   "metadata": {
    "run_control": {
     "frozen": false,
     "read_only": false
    },
    "slideshow": {
     "slide_type": "slide"
    }
   },
   "source": [
    "## mettre à jour `pip`\n",
    "\n",
    "```\n",
    "sudo pip3 install -U pip setuptools\n",
    "```"
   ]
  },
  {
   "cell_type": "markdown",
   "metadata": {
    "run_control": {
     "frozen": false,
     "read_only": false
    },
    "slideshow": {
     "slide_type": "slide"
    }
   },
   "source": [
    "## divers\n",
    "\n",
    "* désinstaller `pip3 uninstall package`\n",
    "* lister les fichiers `pip3 show package`\n",
    "  * un package installé\n",
    "* vérifier `pip3 check package`"
   ]
  },
  {
   "cell_type": "markdown",
   "metadata": {
    "run_control": {
     "frozen": false,
     "read_only": false
    },
    "slideshow": {
     "slide_type": "slide"
    }
   },
   "source": [
    "# `setuptools`\n",
    "\n",
    "* la librairie qui permet d'écrire `setup.py`\n",
    "* [documentation](http://setuptools.readthedocs.io/en/latest/setuptools.html#installing-setuptools)\n",
    "* de très nombreuses fonctionnalités\n",
    "* présentation limitée à un survol"
   ]
  },
  {
   "cell_type": "markdown",
   "metadata": {
    "run_control": {
     "frozen": false,
     "read_only": false
    },
    "slideshow": {
     "slide_type": "slide"
    }
   },
   "source": [
    "## objectifs\n",
    "\n",
    "* permettre de décrire dans un fichier `setup.py`\n",
    "  * sous forme **déclarative**\n",
    "* les attributs (nom, version)\n",
    "* le contenu (code python, ou autres)\n",
    "* qui permettent de fabriquer un package"
   ]
  },
  {
   "cell_type": "markdown",
   "metadata": {
    "run_control": {
     "frozen": false,
     "read_only": false
    }
   },
   "source": [
    "### et par extension\n",
    "\n",
    "* permet de générer une grosse partie du workflow\n",
    "* relatif aux build et test"
   ]
  },
  {
   "cell_type": "markdown",
   "metadata": {
    "run_control": {
     "frozen": false,
     "read_only": false
    }
   },
   "source": [
    "## installation\n",
    "\n",
    "* pas par défaut dans la librairie standard\n",
    "  * qui contient d'ailleurs toujours `distutils`\n",
    "* lacune souvent comblée par le fournisseur\n",
    "  * distrib linux, anaconda, ...\n",
    "* en cas de besoin seulement\n",
    "\n",
    "```\n",
    "pip3 install setuptools\n",
    "```"
   ]
  },
  {
   "cell_type": "markdown",
   "metadata": {
    "run_control": {
     "frozen": false,
     "read_only": false
    },
    "slideshow": {
     "slide_type": "slide"
    }
   },
   "source": [
    "## exemple de `setup.py`\n",
    "\n",
    "* [dans la documentation](http://setuptools.readthedocs.io/en/latest/setuptools.html#installing-setuptools); à noter:\n",
    "* `packages=find_packages()`\n",
    "* `install_requires=['docutils>=0.3']`\n",
    "  * utiliser un nom connu de `pypi`\n",
    "  * [détails ici](http://setuptools.readthedocs.io/en/latest/setuptools.html#declaring-dependencies)\n",
    "* `package_data={ ... }`\n",
    "* `scripts=['say_hello.py']`\n",
    "  * commandes à installer dans le PATH\n",
    "* voir [liste complète ici](http://setuptools.readthedocs.io/en/latest/setuptools.html#new-and-changed-setup-keywords)\n",
    "\n",
    "* https://gitlab.com/gansanay/dummysim/blob/master/setup.py"
   ]
  },
  {
   "cell_type": "markdown",
   "metadata": {
    "run_control": {
     "frozen": false,
     "read_only": false
    }
   },
   "source": [
    "## les (sous-)commandes\n",
    "\n",
    "* `setup.py` est destiné à être lancé directement\n",
    "* avec une sous-commande (détails + bas)\n",
    "* sous linux/macos: `chmod +x setup.py`\n",
    "  * pour pouvoir faire directement `setup.py sdist`\n",
    "* sous windows: `python3 setup.py sdist`"
   ]
  },
  {
   "cell_type": "markdown",
   "metadata": {
    "run_control": {
     "frozen": false,
     "read_only": false
    },
    "slideshow": {
     "slide_type": "slide"
    }
   },
   "source": [
    "## les sous-commandes usuelles\n",
    "\n",
    "* nous voyons le setup pypi un peu plus loin\n",
    "* imaginons pour l'instant que c'est ok\n",
    "\n",
    "*** \n",
    "dans les cas usuels on utilise principalement\n",
    "\n",
    "* `setup.py register` : une bonne fois pour toutes\n",
    "  * crée le package correspondant dans pypi\n",
    "  * permet par exemple de vérifier l'unicité du nom\n",
    "* `setup.py sdist`  : permet de fabriquer localement une distribution 'source'\n",
    "* `setup.py upload` : pour pousser le résultat sur pypi\n",
    "  * nécessite un setup initial pour l'authentification"
   ]
  },
  {
   "cell_type": "markdown",
   "metadata": {
    "run_control": {
     "frozen": false,
     "read_only": false
    },
    "slideshow": {
     "slide_type": "slide"
    }
   },
   "source": [
    "## sous-commandes utiles\n",
    "\n",
    "* `setup.py build` : prépare distribution dans `./build` \n",
    "  * et n'est pas packagé \n",
    "  \n",
    "pas forcément utile, mais:\n",
    "\n",
    "* `setup.py test` : lancer les tests\n",
    "* `setup.py build_sphinx` : fabriquer la documentation\n",
    "  * peuvent requérir des mot-clés supplémentaires\n",
    "  * double emploi avec readthedocs et CI\n",
    "\n",
    "et aussi, plus mineur\n",
    "\n",
    "* `setup.py rotate`: fait le ménage sur pypi\n",
    "* `setup.py build_ext`: pour fabriquer des librairies C/C++"
   ]
  },
  {
   "cell_type": "markdown",
   "metadata": {
    "run_control": {
     "frozen": false,
     "read_only": false
    },
    "slideshow": {
     "slide_type": "slide"
    }
   },
   "source": [
    "## bonnes pratiques / versioning\n",
    "\n",
    "* écrire un **CHANGELOG** [(exemple)](https://raw.githubusercontent.com/parmentelat/apssh/master/CHANGELOG.md)\n",
    "* et définir une **version** accessible en python [(exemple)](https://github.com/parmentelat/apssh/blob/master/apssh/version.py)\n",
    "* sachant que la version peut être [(dérivée du changelog)](https://github.com/parmentelat/apssh/blob/master/update_version_from_changelog)\n",
    "* et ensuite utilisée à son tour [dans `setup.py`](https://github.com/parmentelat/apssh/blob/master/setup.py#L6)\n",
    "\n",
    "* pas forcément très élégant, mais ça fait le job\n",
    "* encore plus abscons\n",
    "  * une [recette make](https://github.com/parmentelat/apssh/blob/master/Makefile)\n",
    "  * pour vérifier qu'il ne reste pas de code non commité\n",
    "  * et poser un tag dans git en même temps qu'on pousse"
   ]
  },
  {
   "cell_type": "markdown",
   "metadata": {
    "run_control": {
     "frozen": false,
     "read_only": false
    },
    "slideshow": {
     "slide_type": "slide"
    }
   },
   "source": [
    "## enfin\n",
    "\n",
    "* les numéros de version sont gratuits\n",
    "* il ne faut pas hésiter à releaser souvent\n",
    "* et **ne jamais** recycler un numéro de version"
   ]
  },
  {
   "cell_type": "markdown",
   "metadata": {
    "run_control": {
     "frozen": false,
     "read_only": false
    },
    "slideshow": {
     "slide_type": "slide"
    }
   },
   "source": [
    "## piège fréquent\n",
    "\n",
    "* n'oubliez pas que `setup.py`\n",
    "* est appelé à être exécuté sur votre machine\n",
    "* **ET AUSSI** sur la machine qui installe le package"
   ]
  },
  {
   "cell_type": "markdown",
   "metadata": {
    "run_control": {
     "frozen": false,
     "read_only": false
    },
    "slideshow": {
     "slide_type": "slide"
    }
   },
   "source": [
    "## autres mot-clés\n",
    "\n",
    "### `package_data` \n",
    "\n",
    "* ce mot clé permet de décrire\n",
    "* des ressources non-python (données, texte, ...)\n",
    "* [voir détails ici](http://setuptools.readthedocs.io/en/latest/setuptools.html#automatic-script-creation)"
   ]
  },
  {
   "cell_type": "markdown",
   "metadata": {
    "run_control": {
     "frozen": false,
     "read_only": false
    },
    "slideshow": {
     "slide_type": "-"
    }
   },
   "source": [
    "### `scripts` *vs `entry_points`\n",
    "\n",
    "* il existe une méthode plus moderne \n",
    "  * pour décrire `scripts`\n",
    "* plus complexe aussi\n",
    "* [voir ici](http://setuptools.readthedocs.io/en/latest/setuptools.html#automatic-script-creation)"
   ]
  },
  {
   "cell_type": "markdown",
   "metadata": {
    "run_control": {
     "frozen": false,
     "read_only": false
    },
    "slideshow": {
     "slide_type": "slide"
    }
   },
   "source": [
    "# setup pypi"
   ]
  },
  {
   "cell_type": "markdown",
   "metadata": {
    "run_control": {
     "frozen": false,
     "read_only": false
    }
   },
   "source": [
    "## plateformes de production et de test\n",
    "\n",
    "* en sus de [la plateforme de production](https://pypi.python.org/pypi)\n",
    "* il y a [une plateforme de test `testpypi.python.org`](https://testpypi.python.org/pypi)\n",
    "* très utile pour mettre au point\n",
    "\n",
    "## les deux requèrent de s'enregistrer"
   ]
  },
  {
   "cell_type": "markdown",
   "metadata": {
    "run_control": {
     "frozen": false,
     "read_only": false
    },
    "slideshow": {
     "slide_type": "slide"
    }
   },
   "source": [
    "## configurer votre `.pypirc`\n",
    "\n",
    "* une fois que vous avez vos identifiants\n",
    "* créez un fichier `.pypirc` dans votre homedir\n",
    "\n",
    "```\n",
    "[distutils]\n",
    "index-servers =\n",
    "    pypi\n",
    "    testpypi\n",
    "\n",
    "[pypi]\n",
    "repository: https://pypi.python.org/pypi\n",
    "username: parmentelat\n",
    "password: <...>\n",
    "\n",
    "[testpypi]\n",
    "repository: https://testpypi.python.org/pypi\n",
    "username: parmentelat\n",
    "password: <...>\n",
    "```"
   ]
  },
  {
   "cell_type": "markdown",
   "metadata": {
    "run_control": {
     "frozen": false,
     "read_only": false
    },
    "slideshow": {
     "slide_type": "slide"
    }
   },
   "source": [
    "## usage\n",
    "\n",
    "* dès lors vous pourrez utiliser le site de prod \n",
    "  * avec e.g. `setup.py register` et `setup.py upload`\n",
    "* et le site de test\n",
    "  * en ajoutant l'option `-r testpypi`\n",
    "  * exemple `./setup.py sdist upload -r testpypi`  "
   ]
  },
  {
   "cell_type": "markdown",
   "metadata": {
    "run_control": {
     "frozen": false,
     "read_only": false
    },
    "slideshow": {
     "slide_type": "slide"
    }
   },
   "source": [
    "# `virtualenv`"
   ]
  },
  {
   "cell_type": "markdown",
   "metadata": {
    "run_control": {
     "frozen": false,
     "read_only": false
    },
    "slideshow": {
     "slide_type": "-"
    }
   },
   "source": [
    "## *vs* `pip --user`\n",
    "\n",
    "* premier niveau d'isolation / user\n",
    "* mais un peu limité \n",
    "  * pas de `pip --user uninstall`\n",
    "  * `pip --user install -U` fragile\n",
    "  * bref, pas très robuste\n",
    "* et surtout, autres besoins\n",
    "  * plusieurs `requirements.txt` \n",
    "  * sont potentiellement contradictoires\n",
    "  * exemple simple: django-1.9 et django-1.10"
   ]
  },
  {
   "cell_type": "markdown",
   "metadata": {
    "run_control": {
     "frozen": false,
     "read_only": false
    },
    "slideshow": {
     "slide_type": "slide"
    }
   },
   "source": [
    "## fonction de virtualenv\n",
    "\n",
    "* permet de définir **plusieurs** espaces\n",
    "  * d'installation de librairies\n",
    "* pour **un seul** utilisateur\n",
    "* dans lesquels on utilise `pip` nativement\n",
    "* et permet de passer facilement de l'un à l'autre\n",
    "* [la documentation](https://virtualenv.pypa.io/en/stable/)"
   ]
  },
  {
   "cell_type": "markdown",
   "metadata": {
    "run_control": {
     "frozen": false,
     "read_only": false
    },
    "slideshow": {
     "slide_type": "slide"
    }
   },
   "source": [
    "## installation\n",
    "\n",
    "\n",
    "```\n",
    "pip3 install virtualenv\n",
    "```\n",
    "\n",
    "* possiblement avec `sudo` sur linux/mac\n",
    "* ou bien `pip3 install --user virtualenv`\n"
   ]
  },
  {
   "cell_type": "markdown",
   "metadata": {
    "run_control": {
     "frozen": false,
     "read_only": false
    },
    "slideshow": {
     "slide_type": "slide"
    }
   },
   "source": [
    "## utilisation\n",
    "\n",
    "* assez rustique\n",
    "* une commande pour créer un virtualenv dans un directory\n",
    "```\n",
    "virtualenv ./foobar\n",
    "```\n",
    "\n",
    "* une commande pour *entrer* dans cet espace\n",
    "  * linux/mac\n",
    "```\n",
    "source ./foobar/bin/activate\n",
    "```\n",
    "\n",
    "* une commande pour en *sortir*\n",
    "\n",
    "```\n",
    "deactivate\n",
    "```"
   ]
  },
  {
   "cell_type": "markdown",
   "metadata": {
    "run_control": {
     "frozen": false,
     "read_only": false
    },
    "slideshow": {
     "slide_type": "slide"
    }
   },
   "source": [
    "## utilisation `virtualenv`\n",
    "\n",
    "* attention avec `PYTHONPATH`\n",
    "  * je recommande de **ne pas** définir PYTHONPATH autant que possible\n",
    "* par défaut, une fois dans le virtualenv\n",
    "  * on **continue de voir** les packages installés dans le contexte global\n",
    "* on peut créer un virtualenv 'vierge' avec\n",
    "  * `virtualenv --no-site-packages`"
   ]
  },
  {
   "cell_type": "markdown",
   "metadata": {
    "run_control": {
     "frozen": false,
     "read_only": false
    },
    "slideshow": {
     "slide_type": "slide"
    }
   },
   "source": [
    "# exercice\n",
    "\n",
    "* installer `virtualenv`\n",
    "* installer `virtualenvwrapper(-win)`\n",
    "* créer un environnement virtuel vierge `dummysim`\n",
    "* créer/vérifier le fichier `requirements.txt`\n",
    "* installer les dépendances avec `pip`\n",
    "* faire tourner avec succès les tests unitaires"
   ]
  }
 ],
 "metadata": {
  "celltoolbar": "Slideshow",
  "kernelspec": {
   "display_name": "Python 3",
   "language": "python",
   "name": "python3"
  },
  "language_info": {
   "codemirror_mode": {
    "name": "ipython",
    "version": 3
   },
   "file_extension": ".py",
   "mimetype": "text/x-python",
   "name": "python",
   "nbconvert_exporter": "python",
   "pygments_lexer": "ipython3",
   "version": "3.7.0"
  },
  "notebookname": "packaging & software distribution",
  "toc": {
   "colors": {
    "hover_highlight": "#DAA520",
    "running_highlight": "#FF0000",
    "selected_highlight": "#FFD700"
   },
   "moveMenuLeft": true,
   "nav_menu": {
    "height": "156px",
    "width": "252px"
   },
   "navigate_menu": true,
   "number_sections": true,
   "sideBar": true,
   "threshold": "2",
   "toc_cell": false,
   "toc_section_display": "block",
   "toc_window_display": false,
   "widenNotebook": false
  },
  "version": "1.0"
 },
 "nbformat": 4,
 "nbformat_minor": 2
}
