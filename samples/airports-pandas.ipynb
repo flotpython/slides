{
 "cells": [
  {
   "cell_type": "markdown",
   "metadata": {},
   "source": [
    "<div class=\"licence\">\n",
    "<span>Licence CC BY-NC-ND</span>\n",
    "<span>Thierry Parmentelat &amp; Arnaud Legout</span>\n",
    "</div>"
   ]
  },
  {
   "cell_type": "markdown",
   "metadata": {},
   "source": [
    "# Ditto - avec pandas"
   ]
  },
  {
   "cell_type": "code",
   "execution_count": null,
   "metadata": {},
   "outputs": [],
   "source": [
    "import pandas as pd"
   ]
  },
  {
   "cell_type": "code",
   "execution_count": null,
   "metadata": {},
   "outputs": [],
   "source": [
    "pd.options.display.max_rows = 8"
   ]
  },
  {
   "cell_type": "markdown",
   "metadata": {},
   "source": [
    "# digression"
   ]
  },
  {
   "cell_type": "markdown",
   "metadata": {},
   "source": [
    "À titre expérimental, nous importons un notebook comme un module python"
   ]
  },
  {
   "cell_type": "code",
   "execution_count": null,
   "metadata": {},
   "outputs": [],
   "source": [
    "# un loader personnalisé pour charger un notebook comme un module\n",
    "from notebookloader import NotebookFinder"
   ]
  },
  {
   "cell_type": "code",
   "execution_count": null,
   "metadata": {},
   "outputs": [],
   "source": [
    "import sys\n",
    "sys.meta_path.append(NotebookFinder())"
   ]
  },
  {
   "cell_type": "code",
   "execution_count": null,
   "metadata": {},
   "outputs": [],
   "source": [
    "# avec ce bidule on peut directement charger un notebook comme un module\n",
    "from airports import distance_degrees"
   ]
  },
  {
   "cell_type": "markdown",
   "metadata": {},
   "source": [
    "# airports"
   ]
  },
  {
   "cell_type": "code",
   "execution_count": null,
   "metadata": {},
   "outputs": [],
   "source": [
    "airports_url = \"https://raw.githubusercontent.com/jpatokal/openflights/master/data/airports.dat\""
   ]
  },
  {
   "cell_type": "code",
   "execution_count": null,
   "metadata": {},
   "outputs": [],
   "source": [
    "airports = pd.read_csv(airports_url, header=None)"
   ]
  },
  {
   "cell_type": "code",
   "execution_count": null,
   "metadata": {},
   "outputs": [],
   "source": [
    "# si on n'en dit pas plus on obtient les données mais les noms laissent à désirer\n",
    "airports"
   ]
  },
  {
   "cell_type": "code",
   "execution_count": null,
   "metadata": {},
   "outputs": [],
   "source": [
    "# on peut donner des noms aux colonnes\n",
    "airports.columns = [\"airport_id\", \"name\", \"city\", \"country\", \"iata\", \"icao\", \"latitude\", \"longitude\", \"altitude\", \"timezone\", \"dst\", \"tz\", \"airport\", \"source\"]"
   ]
  },
  {
   "cell_type": "code",
   "execution_count": null,
   "metadata": {},
   "outputs": [],
   "source": [
    "# ne voir que le début\n",
    "airports.head()"
   ]
  },
  {
   "cell_type": "code",
   "execution_count": null,
   "metadata": {
    "cell_style": "split"
   },
   "outputs": [],
   "source": [
    "# un échantillon\n",
    "airport1 = airports.iloc[0]; airport1"
   ]
  },
  {
   "cell_type": "code",
   "execution_count": null,
   "metadata": {
    "cell_style": "split"
   },
   "outputs": [],
   "source": [
    "# pour information\n",
    "type(airport1['airport_id'])"
   ]
  },
  {
   "cell_type": "code",
   "execution_count": null,
   "metadata": {},
   "outputs": [],
   "source": [
    "airports.loc?"
   ]
  },
  {
   "cell_type": "markdown",
   "metadata": {},
   "source": [
    "# airlines"
   ]
  },
  {
   "cell_type": "markdown",
   "metadata": {},
   "source": [
    "pareil..."
   ]
  },
  {
   "cell_type": "code",
   "execution_count": null,
   "metadata": {},
   "outputs": [],
   "source": [
    "airlines_url = \"https://raw.githubusercontent.com/jpatokal/openflights/master/data/airlines.dat\""
   ]
  },
  {
   "cell_type": "code",
   "execution_count": null,
   "metadata": {},
   "outputs": [],
   "source": [
    "airlines = pd.read_csv(airlines_url, header=None)"
   ]
  },
  {
   "cell_type": "code",
   "execution_count": null,
   "metadata": {},
   "outputs": [],
   "source": [
    "airlines.columns = [\"airline_id\", \"name\", \"alias\", \"iata\", \"icao\", \"callsign\", \"country\", \"active\"]"
   ]
  },
  {
   "cell_type": "code",
   "execution_count": null,
   "metadata": {},
   "outputs": [],
   "source": [
    "airlines.head(20)"
   ]
  },
  {
   "cell_type": "code",
   "execution_count": null,
   "metadata": {},
   "outputs": [],
   "source": [
    "# un échantillon\n",
    "airline1 = airlines.iloc[2]; airline1"
   ]
  },
  {
   "cell_type": "markdown",
   "metadata": {},
   "source": [
    "# routes"
   ]
  },
  {
   "cell_type": "markdown",
   "metadata": {},
   "source": [
    "et encore une fois"
   ]
  },
  {
   "cell_type": "code",
   "execution_count": null,
   "metadata": {},
   "outputs": [],
   "source": [
    "routes_url = \"https://raw.githubusercontent.com/jpatokal/openflights/master/data/routes.dat\""
   ]
  },
  {
   "cell_type": "code",
   "execution_count": null,
   "metadata": {},
   "outputs": [],
   "source": [
    "routes = pd.read_csv(routes_url, header=None)"
   ]
  },
  {
   "cell_type": "code",
   "execution_count": null,
   "metadata": {},
   "outputs": [],
   "source": [
    "routes.columns = [\"airline\", \"airline_id\",\n",
    "                  \"src_airport\", \"src_airport_id\", \"dst_airport\", \"dst_airport_id\",\n",
    "                  \"codeshare\", \"stops\", \"equipment\"]"
   ]
  },
  {
   "cell_type": "code",
   "execution_count": null,
   "metadata": {},
   "outputs": [],
   "source": [
    "routes.tail(20)"
   ]
  },
  {
   "cell_type": "markdown",
   "metadata": {},
   "source": [
    "### un peu de nettoyage\n",
    "\n",
    "**attention** certaines ces lignes contiennent un `airline_id` - entre autres - non renseigné\n",
    "\n",
    "comme avec *numpy* on peut faire des opérations de comparaison, pour ne retenir par exemple ici que les lignes qui utilisables"
   ]
  },
  {
   "cell_type": "code",
   "execution_count": null,
   "metadata": {},
   "outputs": [],
   "source": [
    "valid_series = (routes['airline_id'] == r'\\N')"
   ]
  },
  {
   "cell_type": "code",
   "execution_count": null,
   "metadata": {
    "cell_style": "split"
   },
   "outputs": [],
   "source": [
    "# cette expression renvoie une Series (colonne)\n",
    "valid_series"
   ]
  },
  {
   "cell_type": "code",
   "execution_count": null,
   "metadata": {
    "cell_style": "split"
   },
   "outputs": [],
   "source": [
    "type(valid_series)"
   ]
  },
  {
   "cell_type": "code",
   "execution_count": null,
   "metadata": {},
   "outputs": [],
   "source": [
    "# comme la colonne est faite de booléens, \n",
    "# on peut s'en servir pour indexer dans la table\n",
    "unusable_routes = routes[(routes['airline_id'] == r'\\N')]\n",
    "unusable_routes.iloc[0]"
   ]
  },
  {
   "cell_type": "code",
   "execution_count": null,
   "metadata": {},
   "outputs": [],
   "source": [
    "# le nombre d'entrées inutilisables \n",
    "# par rapport à airline_id\n",
    "len(unusable_routes)"
   ]
  },
  {
   "cell_type": "code",
   "execution_count": null,
   "metadata": {},
   "outputs": [],
   "source": [
    "# le nombre total de routes exposées dans l'URL\n",
    "nb_total_routes = len(routes)"
   ]
  },
  {
   "cell_type": "code",
   "execution_count": null,
   "metadata": {
    "cell_style": "center"
   },
   "outputs": [],
   "source": [
    "# pour filtrer, c'est à dire ne garder \n",
    "# que les lignes qui vérifient une condition\n",
    "# ici on étend un peu le critère de validité\n",
    "routes = routes[(routes['airline_id'] != r'\\N') \n",
    "              & (routes['src_airport_id'] != r'\\N') \n",
    "              & (routes['dst_airport_id'] != r'\\N')]"
   ]
  },
  {
   "cell_type": "code",
   "execution_count": null,
   "metadata": {},
   "outputs": [],
   "source": [
    "# on prend une colonne, on la traduit en nombre\n",
    "# car sinon on n'a que des chaines de caractères\n",
    "routes['airline_id'] = pd.to_numeric(routes['airline_id'])"
   ]
  },
  {
   "cell_type": "code",
   "execution_count": null,
   "metadata": {
    "cell_style": "split"
   },
   "outputs": [],
   "source": [
    "# maintenant on a bien un entier\n",
    "route1 = routes.iloc[0]\n",
    "type(route1['airline_id'])"
   ]
  },
  {
   "cell_type": "code",
   "execution_count": null,
   "metadata": {},
   "outputs": [],
   "source": [
    "# en fait, plusieurs colonnes sont dans ce cas\n",
    "# et ont besoin d'être traduites en nombres\n",
    "for column in ('airline_id', 'src_airport_id', 'dst_airport_id'):\n",
    "    routes[column] = pd.to_numeric(routes[column])"
   ]
  },
  {
   "cell_type": "code",
   "execution_count": null,
   "metadata": {},
   "outputs": [],
   "source": [
    "# sauf qu'à ce stade on a encore un souci de nettoyage\n",
    "# car pour certaines routes, un des deux aéroports est inconnu\n",
    "routes.iloc[170].dst_airport_id"
   ]
  },
  {
   "cell_type": "code",
   "execution_count": null,
   "metadata": {},
   "outputs": [],
   "source": [
    "airports[airports['airport_id'] == 7163]"
   ]
  },
  {
   "cell_type": "code",
   "execution_count": null,
   "metadata": {},
   "outputs": [],
   "source": [
    "# il faut donc nettoyer davantage\n",
    "# XXX here..."
   ]
  },
  {
   "cell_type": "markdown",
   "metadata": {},
   "source": [
    "### distance"
   ]
  },
  {
   "cell_type": "code",
   "execution_count": null,
   "metadata": {},
   "outputs": [],
   "source": [
    "# rappel: on a importé distance_degrees du notebook 'airports'\n",
    "\n",
    "# ici route est une ligne dans routes\n",
    "def distance_route(route):\n",
    "    src_airport = airports[airports['airport_id'] == route['src_airport_id']].iloc[0]\n",
    "    dst_airport = airports[airports['airport_id'] == route['dst_airport_id']].iloc[0]\n",
    "    return distance_degrees(\n",
    "        src_airport['latitude'], src_airport['longitude'],\n",
    "        dst_airport['latitude'], dst_airport['longitude'])"
   ]
  },
  {
   "cell_type": "code",
   "execution_count": null,
   "metadata": {},
   "outputs": [],
   "source": [
    "# on peut maintenant appliquer cette fonction à une route \n",
    "# c'est à dire une ligne de la table\n",
    "route0 = routes.iloc[0]\n",
    "distance_route(route0)"
   ]
  },
  {
   "cell_type": "code",
   "execution_count": null,
   "metadata": {
    "cell_style": "split"
   },
   "outputs": [],
   "source": [
    "route0"
   ]
  },
  {
   "cell_type": "markdown",
   "metadata": {},
   "source": [
    "### un histogramme"
   ]
  },
  {
   "cell_type": "markdown",
   "metadata": {},
   "source": [
    "pour représenter la répartition des longueurs de routes"
   ]
  },
  {
   "cell_type": "code",
   "execution_count": null,
   "metadata": {},
   "outputs": [],
   "source": [
    "lengths = routes.apply(distance_route, axis=1)"
   ]
  }
 ],
 "metadata": {
  "kernelspec": {
   "display_name": "Python 3",
   "language": "python",
   "name": "python3"
  },
  "language_info": {
   "codemirror_mode": {
    "name": "ipython",
    "version": 3
   },
   "file_extension": ".py",
   "mimetype": "text/x-python",
   "name": "python",
   "nbconvert_exporter": "python",
   "pygments_lexer": "ipython3",
   "version": "3.7.2"
  },
  "notebookname": "airports again, w/ pandas",
  "version": "1.0"
 },
 "nbformat": 4,
 "nbformat_minor": 2
}
