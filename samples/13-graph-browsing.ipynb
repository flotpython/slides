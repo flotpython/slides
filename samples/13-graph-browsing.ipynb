{
 "cells": [
  {
   "cell_type": "markdown",
   "metadata": {},
   "source": [
    "# graph browsing"
   ]
  },
  {
   "cell_type": "markdown",
   "metadata": {},
   "source": [
    "## depth-first or breadth-first scanning\n",
    "\n",
    "given a non-valued directed graph G, and a start vertex V, there are 2 famous algorithm to walk the graph from V\n",
    "\n",
    "* depth-first (DF) browsing, and\n",
    "* breadth-first (BF) browsing\n",
    "\n",
    "intuitively :"
   ]
  },
  {
   "cell_type": "code",
   "execution_count": null,
   "metadata": {},
   "outputs": [],
   "source": [
    "from simpletree import tree\n",
    "\n",
    "tree"
   ]
  },
  {
   "cell_type": "markdown",
   "metadata": {
    "cell_style": "split"
   },
   "source": [
    "DF browsing from v would scan\n",
    "```\n",
    "v v1 v11 v111 v112 \n",
    "v12 v121 v122 \n",
    "v2 v21 v211 v212 \n",
    "v22 v221 v222\n",
    "```"
   ]
  },
  {
   "cell_type": "markdown",
   "metadata": {
    "cell_style": "split"
   },
   "source": [
    "BF browsing would scan\n",
    "```\n",
    "v \n",
    "v1 v2 \n",
    "v11 v12 v21 v22\n",
    "v111 v112 v121 v122 v211 v212 v221 v222\n",
    "```"
   ]
  },
  {
   "cell_type": "markdown",
   "metadata": {},
   "source": [
    "## objectives"
   ]
  },
  {
   "cell_type": "markdown",
   "metadata": {},
   "source": [
    "we want to write a **generator** that implements these 2 browsing policies from a a graph and vertex.\n",
    "\n",
    "of course only the nodes reachable from the entry vertex will be browsed."
   ]
  },
  {
   "cell_type": "markdown",
   "metadata": {},
   "source": [
    "## algorithms\n",
    "\n",
    "the algorithms used to perform these scans are, interestingly, very close to one another\n",
    "\n",
    "in both cases we need a STORAGE object, where we can store things and retrieve them later on"
   ]
  },
  {
   "cell_type": "markdown",
   "metadata": {},
   "source": [
    "### FIFO / FILO"
   ]
  },
  {
   "cell_type": "code",
   "execution_count": null,
   "metadata": {
    "cell_style": "split"
   },
   "outputs": [],
   "source": [
    "from collections import deque\n",
    "class Fifo:\n",
    "    def __init__(self):\n",
    "        self.line = deque()\n",
    "    def store(self, item):\n",
    "        self.line.append(item)\n",
    "    def retrieve(self):\n",
    "        if self.line:\n",
    "            return self.line.popleft()\n",
    "    def __len__(self):\n",
    "        return len(self.line)"
   ]
  },
  {
   "cell_type": "code",
   "execution_count": null,
   "metadata": {
    "cell_style": "split"
   },
   "outputs": [],
   "source": [
    "from collections import deque\n",
    "class Filo:\n",
    "    def __init__(self):\n",
    "        self.line = deque()\n",
    "    def store(self, item):\n",
    "        self.line.append(item)\n",
    "    def retrieve(self):\n",
    "        if self.line:\n",
    "            return self.line.pop()\n",
    "    def __len__(self):\n",
    "        return len(self.line)        "
   ]
  },
  {
   "cell_type": "code",
   "execution_count": null,
   "metadata": {
    "cell_style": "split"
   },
   "outputs": [],
   "source": [
    "fifo = Fifo()\n",
    "for i in range(1, 4):\n",
    "    fifo.store(i)\n",
    "while fifo:\n",
    "    print(f\"retrieve → {fifo.retrieve()}\")"
   ]
  },
  {
   "cell_type": "code",
   "execution_count": null,
   "metadata": {
    "cell_style": "split"
   },
   "outputs": [],
   "source": [
    "filo = Filo()\n",
    "for i in range(1, 4):\n",
    "    filo.store(i)\n",
    "while filo:\n",
    "    print(f\"retrieve → {filo.retrieve()}\")"
   ]
  },
  {
   "cell_type": "code",
   "execution_count": null,
   "metadata": {},
   "outputs": [],
   "source": [
    "# assumptions:\n",
    "# vertices reachable from a vertex are \n",
    "# stored in a 'neighbours' attribute\n",
    "def scan(start, storage):\n",
    "    \"\"\"\n",
    "    scan all vertices reachable from start vertex\n",
    "    in an order that is DF or BF depending on the \n",
    "    storage policy (fifo or filo)\n",
    "    storage should have store() and retrieve() methods\n",
    "    and be testable for emptiness (if storage: ...)\n",
    "    also it should be empty when entering the scan\n",
    "    \"\"\"\n",
    "\n",
    "    storage.store(start)\n",
    "    # keep track of what we've seen\n",
    "    scanned = set()\n",
    "    \n",
    "    while storage:\n",
    "        current = storage.retrieve()\n",
    "        # skip vertices already seen\n",
    "        if current in scanned:\n",
    "            continue\n",
    "        yield current\n",
    "        scanned.add(current)\n",
    "        for neighbour in current.neighbours:\n",
    "            storage.store(neighbour)"
   ]
  },
  {
   "cell_type": "code",
   "execution_count": null,
   "metadata": {},
   "outputs": [],
   "source": [
    "class Vertex:\n",
    "    def __init__(self, name):\n",
    "        self.name = name\n",
    "        self.neighbours = set()\n",
    "        \n",
    "    def __repr__(self):\n",
    "        return self.name"
   ]
  },
  {
   "cell_type": "code",
   "execution_count": null,
   "metadata": {},
   "outputs": [],
   "source": [
    "# rebuild sample graph\n",
    "def tree_vertex(name, depth):\n",
    "    if depth == 0:\n",
    "        return Vertex(name)\n",
    "    elif depth > 0:\n",
    "        result = Vertex(name)\n",
    "        result.neighbours.add(tree_vertex(name+'1', depth-1))\n",
    "        result.neighbours.add(tree_vertex(name+'2', depth-1))\n",
    "        return result"
   ]
  },
  {
   "cell_type": "code",
   "execution_count": null,
   "metadata": {},
   "outputs": [],
   "source": [
    "g = tree_vertex('v', 3)\n",
    "g"
   ]
  },
  {
   "cell_type": "markdown",
   "metadata": {
    "cell_style": "split"
   },
   "source": [
    "### FILO = DF - depth first"
   ]
  },
  {
   "cell_type": "markdown",
   "metadata": {
    "cell_style": "split"
   },
   "source": [
    "### FIFO = BF - breadth first"
   ]
  },
  {
   "cell_type": "code",
   "execution_count": null,
   "metadata": {
    "cell_style": "split"
   },
   "outputs": [],
   "source": [
    "for vertex in scan(g, Filo()):\n",
    "    print(vertex)"
   ]
  },
  {
   "cell_type": "code",
   "execution_count": null,
   "metadata": {
    "cell_style": "split",
    "inputHidden": false,
    "outputHidden": false
   },
   "outputs": [],
   "source": [
    "for vertex in scan(g, Fifo()):\n",
    "    print(vertex)"
   ]
  },
  {
   "cell_type": "markdown",
   "metadata": {},
   "source": [
    "### applications"
   ]
  },
  {
   "cell_type": "markdown",
   "metadata": {},
   "source": [
    "being a generator, we can combine it with all the `itertools` and the like"
   ]
  },
  {
   "cell_type": "code",
   "execution_count": null,
   "metadata": {},
   "outputs": [],
   "source": [
    "import itertools"
   ]
  },
  {
   "cell_type": "markdown",
   "metadata": {},
   "source": [
    "for example, if we need to print every other vertex in a DF scan"
   ]
  },
  {
   "cell_type": "code",
   "execution_count": null,
   "metadata": {
    "cell_style": "split"
   },
   "outputs": [],
   "source": [
    "df_scan = scan(g, Filo())\n",
    "\n",
    "for v in itertools.islice(df_scan, 0, None, 2):\n",
    "    print(v)"
   ]
  },
  {
   "cell_type": "code",
   "execution_count": null,
   "metadata": {
    "cell_style": "split"
   },
   "outputs": [],
   "source": [
    "# notice that df_scan is now exhausted !\n",
    "\n",
    "for v in itertools.islice(df_scan, 0, None, 2):\n",
    "    print(v)"
   ]
  },
  {
   "cell_type": "markdown",
   "metadata": {},
   "source": [
    "or skip the first 3.."
   ]
  },
  {
   "cell_type": "code",
   "execution_count": null,
   "metadata": {},
   "outputs": [],
   "source": [
    "df_scan = scan(g, Filo())\n",
    "\n",
    "for v in itertools.islice(df_scan, 3, None):\n",
    "    print(v)"
   ]
  },
  {
   "cell_type": "markdown",
   "metadata": {
    "cell_style": "center"
   },
   "source": [
    "***"
   ]
  },
  {
   "cell_type": "markdown",
   "metadata": {},
   "source": [
    "applied on the graph from 'game of thrones' \n"
   ]
  }
 ],
 "metadata": {
  "jupytext": {
   "cell_metadata_filter": "all",
   "notebook_metadata_filter": "all,-language_info"
  },
  "kernelspec": {
   "display_name": "Python 3",
   "language": "python",
   "name": "python3"
  },
  "language_info": {
   "codemirror_mode": {
    "name": "ipython",
    "version": 3
   },
   "file_extension": ".py",
   "mimetype": "text/x-python",
   "name": "python",
   "nbconvert_exporter": "python",
   "pygments_lexer": "ipython3",
   "version": "3.7.4"
  }
 },
 "nbformat": 4,
 "nbformat_minor": 4
}
