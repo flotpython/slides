{
 "cells": [
  {
   "cell_type": "code",
   "execution_count": null,
   "metadata": {},
   "outputs": [],
   "source": [
    "import math\n",
    "import numpy as np\n",
    "import matplotlib.pyplot as plt"
   ]
  },
  {
   "cell_type": "markdown",
   "metadata": {},
   "source": [
    "# Le théorème de Taylor illustré"
   ]
  },
  {
   "cell_type": "markdown",
   "metadata": {},
   "source": [
    "on va prendre pour commencer la fonction sinus, disons entre -π et π\n",
    "\n",
    "on applique ici le théorème de Taylor en $x_0 = 0$, à titre d'exercice vous pouvez le modifier pour pouvoir spécifier un autre point de référence\n"
   ]
  },
  {
   "cell_type": "code",
   "execution_count": null,
   "metadata": {},
   "outputs": [],
   "source": [
    "# prenons un domaine entre -π et π\n",
    "borne = np.pi\n",
    "\n",
    "X = np.linspace(-borne, borne)"
   ]
  },
  {
   "cell_type": "code",
   "execution_count": null,
   "metadata": {},
   "outputs": [],
   "source": [
    "# on la dessine \n",
    "Y = np.sin(X)\n",
    "plt.plot(X, Y);"
   ]
  },
  {
   "cell_type": "markdown",
   "metadata": {},
   "source": [
    "Le théorème de Taylor nous permet d'approximer cette fonction par une série de polynômes.  \n",
    "on va montrer ce que ça donne dans le cas de sinus en 0, selon le nombre de termes que l'on prend dans la série, le résultat est assez impressionnant."
   ]
  },
  {
   "cell_type": "markdown",
   "metadata": {},
   "source": [
    "## approche naïve"
   ]
  },
  {
   "cell_type": "markdown",
   "metadata": {},
   "source": [
    "### ordre 1"
   ]
  },
  {
   "cell_type": "markdown",
   "metadata": {},
   "source": [
    "pour commencer on se définit une fonction qui dessine sur la même figure deux fonctions - l'originale et l'approximation  \n",
    "on suppose les deux fonctions définies sur le même domaine  \n",
    "\n",
    "il y a une petite subtilité avec l'axe des y; si on ne précise rien à matplotlib, lorsqu'on dessine deux fonctions, il va calculer les valeurs maximales prises par l'une ou l'autre des fonctions, et s'en servir pour déterminer l'échelle des y; avec des polynômes de degré élevé, les approximations loin du 0 divergent fortement, aussi il est utile de fixer l'échelle en y. "
   ]
  },
  {
   "cell_type": "code",
   "execution_count": null,
   "metadata": {},
   "outputs": [],
   "source": [
    "# le défaut pour l'échelle en y est adapté pour sinus / cosinus\n",
    "def plot_2_functions(X, Y, Y_approx, ymin=-2, ymax=2):\n",
    "    # on fixe la taille de la figure\n",
    "    fig = plt.figure(figsize=(12, 8))\n",
    "    # et aussi les bornes en Y \n",
    "    plt.ylim(ymin, ymax)\n",
    "    # maintenant on peut plotter les deux fonctions\n",
    "    plt.plot(X, Y)\n",
    "    plt.plot(X, Y_approx)"
   ]
  },
  {
   "cell_type": "code",
   "execution_count": null,
   "metadata": {},
   "outputs": [],
   "source": [
    "# la formule de Taylor à l'ordre 1 assimile sin(x) à x\n",
    "\n",
    "Y1 = X\n",
    "plot_2_functions(X, Y, Y1)"
   ]
  },
  {
   "cell_type": "markdown",
   "metadata": {},
   "source": [
    "### ordre 3"
   ]
  },
  {
   "cell_type": "markdown",
   "metadata": {},
   "source": [
    "comme sin est impaire, les dérivées d'ordre pair de sin sont nulles, on passe donc à l'ordre 3\n",
    "\n",
    "pour calculer l'ordre 3 on ajoute à l'ordre 1 le terme $-\\frac{x^3}{6}$\n"
   ]
  },
  {
   "cell_type": "code",
   "execution_count": null,
   "metadata": {},
   "outputs": [],
   "source": [
    "Y3 = Y1 - X**3 / 6\n",
    "plot_2_functions(X, Y, Y3)"
   ]
  },
  {
   "cell_type": "markdown",
   "metadata": {},
   "source": [
    "ça commence à coller.."
   ]
  },
  {
   "cell_type": "markdown",
   "metadata": {},
   "source": [
    "## ordres supérieurs"
   ]
  },
  {
   "cell_type": "markdown",
   "metadata": {},
   "source": [
    "pour passer à des ordres plus grands, on va automatiser un peu plus  \n",
    "pour cela on écrit une fonction qui calcule le terme de Taylor d'ordre n  \n",
    "\n",
    "en entrée de cette fonction on a besoin :\n",
    "\n",
    "* comme toujours du domaine X\n",
    "* et des dérivées successives de la fonction - ici sinus - en 0  \n",
    "* et bien sûr de l'ordre où on veut s'arrêter"
   ]
  },
  {
   "cell_type": "code",
   "execution_count": null,
   "metadata": {},
   "outputs": [],
   "source": [
    "def taylor(X, derivatives, n):\n",
    "    \"\"\"\n",
    "    Parameters:\n",
    "      X: le domaine \n",
    "      derivatives: les dérivées successives en 0; i.e. \n",
    "        derivatives[0] = f(0), \n",
    "        derivatives[1] = f'(0), \n",
    "        etc..\n",
    "      n: ordre de l'approximation\n",
    "    \"\"\"\n",
    "    result = np.zeros(len(X))\n",
    "    for k, derivative in zip(range(n+1), derivatives):\n",
    "        result += (derivative * (X**k) / math.factorial(k))\n",
    "    return result\n",
    "                   "
   ]
  },
  {
   "cell_type": "code",
   "execution_count": null,
   "metadata": {},
   "outputs": [],
   "source": [
    "# dans le cas de sinus, les dérivées sont donc\n",
    "# 0, 1, 0, -1, 0, 1, 0, -1, ...\n",
    "#\n",
    "# pour itérer sur un patron cyclique, en Python on utilise itertools.cycle\n",
    "import itertools\n",
    "\n",
    "# attention à bien utiliser à chaque fois un itérateur tout neuf\n",
    "def sinus_derivatives():\n",
    "    return itertools.cycle( (0, 1, 0, -1) )"
   ]
  },
  {
   "cell_type": "markdown",
   "metadata": {},
   "source": [
    "### ordre 5"
   ]
  },
  {
   "cell_type": "code",
   "execution_count": null,
   "metadata": {},
   "outputs": [],
   "source": [
    "# on peut maintenant afficher n'importe quel ordre\n",
    "plot_2_functions(X, Y, taylor(X, sinus_derivatives(), 5))"
   ]
  },
  {
   "cell_type": "markdown",
   "metadata": {},
   "source": [
    "c'est effectivement de mieux en mieux"
   ]
  },
  {
   "cell_type": "markdown",
   "metadata": {},
   "source": [
    "***"
   ]
  },
  {
   "cell_type": "markdown",
   "metadata": {},
   "source": [
    "## agrandissons le  domaine"
   ]
  },
  {
   "cell_type": "code",
   "execution_count": null,
   "metadata": {},
   "outputs": [],
   "source": [
    "big_borne = 4 * math.pi\n",
    "BIGX = np.linspace(-big_borne, big_borne, 100)\n",
    "BIGY = np.sin(BIGX)"
   ]
  },
  {
   "cell_type": "code",
   "execution_count": null,
   "metadata": {},
   "outputs": [],
   "source": [
    "# c'est très étonnant comme ça fonctionne bien\n",
    "plot_2_functions(BIGX, BIGY, taylor(BIGX, sinus_derivatives(), 7))"
   ]
  },
  {
   "cell_type": "code",
   "execution_count": null,
   "metadata": {},
   "outputs": [],
   "source": [
    "plot_2_functions(BIGX, BIGY, taylor(BIGX, sinus_derivatives(), 11))"
   ]
  },
  {
   "cell_type": "code",
   "execution_count": null,
   "metadata": {},
   "outputs": [],
   "source": [
    "plot_2_functions(BIGX, BIGY, taylor(BIGX, sinus_derivatives(), 19))"
   ]
  },
  {
   "cell_type": "markdown",
   "metadata": {},
   "source": [
    "## une version interactive"
   ]
  },
  {
   "cell_type": "markdown",
   "metadata": {},
   "source": [
    "pour éviter d'encombrer l'écran de dessins, on peut créer une micro UI pour faire bouger le paramètre 'n'"
   ]
  },
  {
   "cell_type": "code",
   "execution_count": null,
   "metadata": {},
   "outputs": [],
   "source": [
    "from ipywidgets import interact, IntSlider"
   ]
  },
  {
   "cell_type": "code",
   "execution_count": null,
   "metadata": {},
   "outputs": [],
   "source": [
    "def interactive_sinus_taylor(n):\n",
    "    plot_2_functions(BIGX, BIGY, taylor(BIGX, sinus_derivatives(), n))"
   ]
  },
  {
   "cell_type": "code",
   "execution_count": null,
   "metadata": {},
   "outputs": [],
   "source": [
    "# utilisez la réglette pour changer l'ordre\n",
    "# apparemment à l'ordre 21 les choses se compliquent\n",
    "interact(interactive_sinus_taylor, n=IntSlider(3, min=1, max=19, step=2));"
   ]
  },
  {
   "cell_type": "markdown",
   "metadata": {},
   "source": [
    "## exponentielle"
   ]
  },
  {
   "cell_type": "markdown",
   "metadata": {},
   "source": [
    "on a tout ce qui est nécessaire pour étudier une autre fonction; prenons le cas de $e^x$"
   ]
  },
  {
   "cell_type": "code",
   "execution_count": null,
   "metadata": {},
   "outputs": [],
   "source": [
    "def exp_derivatives():\n",
    "    return itertools.repeat(1)"
   ]
  },
  {
   "cell_type": "code",
   "execution_count": null,
   "metadata": {},
   "outputs": [],
   "source": [
    "EXPX = np.linspace(-4, 4)\n",
    "EXPY = np.exp(EXPX)\n",
    "plt.plot(EXPX, EXPY)"
   ]
  },
  {
   "cell_type": "code",
   "execution_count": null,
   "metadata": {},
   "outputs": [],
   "source": [
    "def interactive_exp_taylor(n):\n",
    "    plot_2_functions(EXPX, EXPY, taylor(EXPX, exp_derivatives(), n), ymin=0, ymax=60)    "
   ]
  },
  {
   "cell_type": "code",
   "execution_count": null,
   "metadata": {},
   "outputs": [],
   "source": [
    "# à cette échelle, à l'ordre 11 on ne voit plus la différence\n",
    "interact(interactive_exp_taylor, n=IntSlider(1, min=1, max=11));"
   ]
  }
 ],
 "metadata": {
  "kernelspec": {
   "display_name": "Python 3",
   "language": "python",
   "name": "python3"
  },
  "language_info": {
   "codemirror_mode": {
    "name": "ipython",
    "version": 3
   },
   "file_extension": ".py",
   "mimetype": "text/x-python",
   "name": "python",
   "nbconvert_exporter": "python",
   "pygments_lexer": "ipython3",
   "version": "3.7.3"
  }
 },
 "nbformat": 4,
 "nbformat_minor": 4
}
