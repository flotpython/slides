{
 "cells": [
  {
   "cell_type": "code",
   "execution_count": null,
   "metadata": {},
   "outputs": [],
   "source": [
    "import numpy as np\n",
    "import matplotlib.pyplot as plt"
   ]
  },
  {
   "cell_type": "markdown",
   "metadata": {},
   "source": [
    "# intro"
   ]
  },
  {
   "cell_type": "markdown",
   "metadata": {},
   "source": [
    "on se propose de calculer la dérivée approchée d'une fonction\n",
    "\n",
    "la première idée consiste à utiliser bien entendu\n",
    "\n",
    "$f'(x) ⩰ \\frac{f(x+h) - f(x)}{h}$ \n"
   ]
  },
  {
   "cell_type": "markdown",
   "metadata": {},
   "source": [
    "# fonction et domaine"
   ]
  },
  {
   "cell_type": "code",
   "execution_count": null,
   "metadata": {},
   "outputs": [],
   "source": [
    "f = np.cos\n",
    "\n",
    "# par défaut linspace crée 50 points\n",
    "X = np.linspace(0, 2*np.pi)"
   ]
  },
  {
   "cell_type": "code",
   "execution_count": null,
   "metadata": {},
   "outputs": [],
   "source": [
    "# très simple de calculer les f(x)\n",
    "Y = f(X)\n",
    "plt.plot(X, Y);"
   ]
  },
  {
   "cell_type": "markdown",
   "metadata": {},
   "source": [
    "## pas"
   ]
  },
  {
   "cell_type": "markdown",
   "metadata": {},
   "source": [
    "Il faut remarquer que déjà à ce stade on a calculé pour tous les points $x$ du domaine X la valeur de la fonction sur un point voisin, le point $x + h$, $h$ étant le pas de notre échantillon"
   ]
  },
  {
   "cell_type": "code",
   "execution_count": null,
   "metadata": {},
   "outputs": [],
   "source": [
    "# comme on a utilisé linspace le pas est constant\n",
    "h = X[1] - X[0]"
   ]
  },
  {
   "cell_type": "markdown",
   "metadata": {},
   "source": [
    "# décalage"
   ]
  },
  {
   "cell_type": "code",
   "execution_count": null,
   "metadata": {},
   "outputs": [],
   "source": [
    "# la valeur de f à un point (proche de x d'une distance h) \n",
    "# à droite de X est donc\n",
    "YR = Y[1:]"
   ]
  },
  {
   "cell_type": "code",
   "execution_count": null,
   "metadata": {},
   "outputs": [],
   "source": [
    "# par contre on a un élément\n",
    "# de moins dans YR que dans Y\n",
    "try:\n",
    "    YR - Y\n",
    "except ValueError as exc:\n",
    "    print(f\"OOPS {exc}\")"
   ]
  },
  {
   "cell_type": "code",
   "execution_count": null,
   "metadata": {},
   "outputs": [],
   "source": [
    "# on ignore la dernière valeur de Y\n",
    "# pour pouvoir calculer une différence\n",
    "\n",
    "YR - Y[:-1]"
   ]
  },
  {
   "cell_type": "markdown",
   "metadata": {},
   "source": [
    "# la dérivée"
   ]
  },
  {
   "cell_type": "code",
   "execution_count": null,
   "metadata": {},
   "outputs": [],
   "source": [
    "# c'est facile maintenant de calculer la dérivée\n",
    "# approchée à droite \n",
    "# on a juste perdu un point, sur la borne supérieure\n",
    "\n",
    "D = (Y[1:] - Y[:-1]) / h"
   ]
  },
  {
   "cell_type": "code",
   "execution_count": null,
   "metadata": {},
   "outputs": [],
   "source": [
    "plt.plot(X[:-1], D);"
   ]
  },
  {
   "cell_type": "markdown",
   "metadata": {},
   "source": [
    "# erreur"
   ]
  },
  {
   "cell_type": "markdown",
   "metadata": {},
   "source": [
    "ici bien sûr on connaît la dérivée, on peut comparer"
   ]
  },
  {
   "cell_type": "code",
   "execution_count": null,
   "metadata": {
    "slideshow": {
     "slide_type": "slide"
    }
   },
   "outputs": [],
   "source": [
    "S = - np.sin(X[:-1])\n",
    "plt.plot(X[:-1], S);"
   ]
  },
  {
   "cell_type": "code",
   "execution_count": null,
   "metadata": {},
   "outputs": [],
   "source": [
    "# estimons l'erreur qu'on a faite\n",
    "S - D"
   ]
  },
  {
   "cell_type": "code",
   "execution_count": null,
   "metadata": {},
   "outputs": [],
   "source": [
    "# c'est très simple : le maximum de la valeur absolue sur tous les points\n",
    "\n",
    "np.max(np.abs(S-D))"
   ]
  },
  {
   "cell_type": "markdown",
   "metadata": {},
   "source": [
    "# variantes\n",
    "\n",
    "à titre d'exercice, vous pouvez expérimeter autour de ce thème pour\n",
    "\n",
    "* faire les calculs avec un pas plus petit : voyez la doc de `np.linspace` pour construire le domaine `X` avec davantage de points\n",
    "\n",
    "* utiliser plutôt la formule\n",
    "\n",
    "  $f'(x) ⩰ \\frac{f(x+h) - f(x-h)}{2h}$ \n",
    "\n",
    "  et comparer la précision des deux méthodes\n",
    "\n",
    "* changer de stratégie pour utiliser deux pas différents pour, d'une part le domaine, et d'autre part le $h$ de la formule; comparer les précisions, et estimer l'impact de cette méthode en termes de performance (temps calcul et mémoire)"
   ]
  }
 ],
 "metadata": {
  "kernelspec": {
   "display_name": "Python 3",
   "language": "python",
   "name": "python3"
  },
  "language_info": {
   "codemirror_mode": {
    "name": "ipython",
    "version": 3
   },
   "file_extension": ".py",
   "mimetype": "text/x-python",
   "name": "python",
   "nbconvert_exporter": "python",
   "pygments_lexer": "ipython3",
   "version": "3.7.4"
  }
 },
 "nbformat": 4,
 "nbformat_minor": 2
}
