{
 "cells": [
  {
   "cell_type": "markdown",
   "metadata": {
    "slideshow": {
     "slide_type": "slide"
    }
   },
   "source": [
    "<div class=\"licence\">\n",
    "<span>Licence CC BY-NC-ND</span>\n",
    "<span>Thierry Parmentelat</span>\n",
    "</div>"
   ]
  },
  {
   "cell_type": "markdown",
   "metadata": {
    "slideshow": {
     "slide_type": ""
    }
   },
   "source": [
    "# changements de variable\n",
    "\n",
    "ou un vrai prétexte pour manipuler les objets fonctionnels en tant que valeurs"
   ]
  },
  {
   "cell_type": "markdown",
   "metadata": {},
   "source": [
    "ce notebook élabore autour du projet numérique \"tracé du contour\""
   ]
  },
  {
   "cell_type": "markdown",
   "metadata": {
    "slideshow": {
     "slide_type": "slide"
    }
   },
   "source": [
    "## rappel"
   ]
  },
  {
   "cell_type": "markdown",
   "metadata": {},
   "source": [
    "dans le projet numérique qui vise à calculer les lignes de niveau d'une fonction, on vous suggère\n",
    "\n",
    "* de traiter avec `simple_contour` le cas très spécifique \n",
    "  * d'une fonction définie sur le pavé unité $[0..1]^2$,\n",
    "  * et avec une courbe qui \"entre par le bord gauche\" (x=0)\n",
    "* puis de généraliser avec `contour` en découpant un domaine quelconque en pavés élémentaires"
   ]
  },
  {
   "cell_type": "markdown",
   "metadata": {
    "slideshow": {
     "slide_type": "slide"
    }
   },
   "source": [
    "## notre sujet"
   ]
  },
  {
   "cell_type": "markdown",
   "metadata": {
    "slideshow": {
     "slide_type": ""
    }
   },
   "source": [
    "nous allons étudier les transformations qui permettent de passer du cas général au cas spécifique\n",
    "\n",
    "soit donc $f : [x1 .. x2] \\times [y1 .. y2] \\longrightarrow \\mathbb{R}$\n",
    "\n",
    "pour se ramener à une fonction qui vérifie les hypothèses de `simple_contour`, on voit qu'il s'agit de déformer le domaine de manière linéaire de sorte que le pavé  \n",
    "$[x1 .. x2] \\times [y1 .. y2]$ corresponde à $[0..1]^2$.\n",
    "\n",
    "et comme `simple_contour` fait l'hypothèse que le contour commence sur le bord gauche, on va envisager aussi les 4 rotations du pavé"
   ]
  },
  {
   "cell_type": "markdown",
   "metadata": {
    "slideshow": {
     "slide_type": "slide"
    }
   },
   "source": [
    "## comment s'y prendre"
   ]
  },
  {
   "cell_type": "markdown",
   "metadata": {},
   "source": [
    "on commence par coder les changements de variable élémentaires qui correspondent \n",
    "\n",
    "* aux translations\n",
    "* aux homothéties (scaling)\n",
    "* aux rotations autour du point (0.5, 0.5)"
   ]
  },
  {
   "cell_type": "markdown",
   "metadata": {
    "slideshow": {
     "slide_type": "slide"
    }
   },
   "source": [
    "### translations"
   ]
  },
  {
   "cell_type": "markdown",
   "metadata": {},
   "source": [
    "le changement de variable le plus élémentaire est la translation:\n",
    "\n",
    "en partant de la fonction $f : \\mathbb{R}^2 \\longrightarrow \\mathbb{R}$ et étant donné deux réels $(x_0,y_0)$, on peut facilement dériver une fonction $f_{t(x_0,y_0)}$ qui correspond à $f$ translatée de $(x_0, y_0)$ par\n",
    "\n",
    "$f_{t(x_0,y_0)}(x, y) = f(x-x_0, y-y_0)$\n",
    "\n",
    "on peut très facilement coder la fonction `translate` en Python :"
   ]
  },
  {
   "cell_type": "code",
   "execution_count": null,
   "metadata": {
    "slideshow": {
     "slide_type": "slide"
    }
   },
   "outputs": [],
   "source": [
    "# en entrée f est une fonction R2->R\n",
    "def translate(f, x0, y0):\n",
    "    def translated(x, y):\n",
    "        return f(x-x0, y-y0)\n",
    "    # en sortie on veut aussi une fonction R2->R\n",
    "    return translated"
   ]
  },
  {
   "cell_type": "markdown",
   "metadata": {
    "cell_style": "split"
   },
   "source": [
    "si on voulait décrire formellement la fonction translate, on écrirait\n",
    "\n",
    "$translate: {\\mathbb{R}}^{\\mathbb{R}^2} \\times \\mathbb{R}^2\\longrightarrow {\\mathbb{R}}^{\\mathbb{R}^2}$\n",
    "\n",
    "qui est une façon très pédante de dire le fait très simple que"
   ]
  },
  {
   "cell_type": "markdown",
   "metadata": {
    "cell_style": "split"
   },
   "source": [
    " \n",
    "* si on a en entrée\n",
    "  * une fonction $f: \\mathbb{R}^2 \\longrightarrow \\mathbb{R}$\n",
    "  * et deux réels\n",
    "* alors on aura en sortie\n",
    "  * une nouvelle fonction $\\mathbb{R}^2 \\longrightarrow \\mathbb{R}$"
   ]
  },
  {
   "cell_type": "markdown",
   "metadata": {
    "cell_style": "center",
    "slideshow": {
     "slide_type": "slide"
    }
   },
   "source": [
    "on peut écrire exactement la même chose en utilisant une lambda"
   ]
  },
  {
   "cell_type": "code",
   "execution_count": null,
   "metadata": {
    "cell_style": "split",
    "slideshow": {
     "slide_type": ""
    }
   },
   "outputs": [],
   "source": [
    "def translate(f, x0, y0):\n",
    "    def translated(x, y):\n",
    "        return f(x-x0, y-y0)\n",
    "    return translated"
   ]
  },
  {
   "cell_type": "code",
   "execution_count": null,
   "metadata": {
    "cell_style": "split"
   },
   "outputs": [],
   "source": [
    "# c'est totalement équivalent \n",
    "# d'écrire\n",
    "def translate(f, x0, y0):\n",
    "    return lambda x, y: f(x-x0, y-y0)"
   ]
  },
  {
   "cell_type": "markdown",
   "metadata": {
    "slideshow": {
     "slide_type": "slide"
    }
   },
   "source": [
    "#### visualisation"
   ]
  },
  {
   "cell_type": "markdown",
   "metadata": {},
   "source": [
    "on va visualiser une fonction, disons reconnaissable"
   ]
  },
  {
   "cell_type": "code",
   "execution_count": null,
   "metadata": {},
   "outputs": [],
   "source": [
    "import matplotlib.pyplot as plt\n",
    "from mpl_toolkits.mplot3d import Axes3D\n",
    "from matplotlib import cm\n",
    "from matplotlib.ticker import LinearLocator, FormatStrFormatter\n",
    "\n",
    "# attention à bien importer le numpy d'autograd ici\n",
    "import autograd.numpy as np"
   ]
  },
  {
   "cell_type": "code",
   "execution_count": null,
   "metadata": {
    "cell_style": "split"
   },
   "outputs": [],
   "source": [
    "def gaussian(x, y):\n",
    "    \"\"\"\n",
    "    centered gaussian on X, Y\n",
    "    not normalized,\n",
    "    i.e. gaussian(0, 0) = 1\n",
    "    \"\"\"\n",
    "    return np.exp(-x**2 -y**2)"
   ]
  },
  {
   "cell_type": "code",
   "execution_count": null,
   "metadata": {
    "cell_style": "split"
   },
   "outputs": [],
   "source": [
    "def h(x, y):\n",
    "    return 2*(gaussian(x, y) \n",
    "              - gaussian(x-1, y-1))"
   ]
  },
  {
   "cell_type": "code",
   "execution_count": null,
   "metadata": {
    "cell_style": "split"
   },
   "outputs": [],
   "source": [
    "# le maximum est ici\n",
    "h(0, 0)"
   ]
  },
  {
   "cell_type": "code",
   "execution_count": null,
   "metadata": {
    "cell_style": "split",
    "slideshow": {
     "slide_type": "slide"
    }
   },
   "outputs": [],
   "source": [
    "# le domaine de visualisation\n",
    "X = np.arange(-4, 4, 0.25)\n",
    "Y = np.arange(-4, 4, 0.25)\n",
    "X, Y = np.meshgrid(X, Y)"
   ]
  },
  {
   "cell_type": "code",
   "execution_count": null,
   "metadata": {
    "cell_style": "split",
    "slideshow": {
     "slide_type": ""
    }
   },
   "outputs": [],
   "source": [
    "def show_3d(X, Y, Z, sizex=6, sizey=6):\n",
    "    fig = plt.figure(figsize=(8, 8))\n",
    "    ax = fig.gca(projection='3d')\n",
    "    ax.plot_surface(\n",
    "        X, Y, Z, cmap=cm.coolwarm,\n",
    "        linewidth=0, antialiased=False);"
   ]
  },
  {
   "cell_type": "code",
   "execution_count": null,
   "metadata": {
    "cell_style": "center"
   },
   "outputs": [],
   "source": [
    "Z = h(X, Y)\n",
    "show_3d(X, Y, Z)"
   ]
  },
  {
   "cell_type": "code",
   "execution_count": null,
   "metadata": {
    "cell_style": "split",
    "slideshow": {
     "slide_type": "slide"
    }
   },
   "outputs": [],
   "source": [
    "# on fabrique la fonction translatée\n",
    "translated_h = translate(h, 1, 2)"
   ]
  },
  {
   "cell_type": "code",
   "execution_count": null,
   "metadata": {
    "cell_style": "split",
    "slideshow": {
     "slide_type": ""
    }
   },
   "outputs": [],
   "source": [
    "# le maximum doit être ici\n",
    "translated_h(1, 2)"
   ]
  },
  {
   "cell_type": "code",
   "execution_count": null,
   "metadata": {},
   "outputs": [],
   "source": [
    "Z2 = translated_h(X, Y)\n",
    "\n",
    "show_3d(X, Y, Z2)"
   ]
  },
  {
   "cell_type": "markdown",
   "metadata": {
    "slideshow": {
     "slide_type": "slide"
    }
   },
   "source": [
    "### changement d'échelle"
   ]
  },
  {
   "cell_type": "markdown",
   "metadata": {},
   "source": [
    "on s'y prend de manière similaire pour les déformations d'étirement"
   ]
  },
  {
   "cell_type": "code",
   "execution_count": null,
   "metadata": {
    "cell_style": "split"
   },
   "outputs": [],
   "source": [
    "def scale(f, sx, sy):\n",
    "    def scaled(x, y):\n",
    "        return f(x/sx, y/sy)\n",
    "    return scaled"
   ]
  },
  {
   "cell_type": "code",
   "execution_count": null,
   "metadata": {
    "cell_style": "split"
   },
   "outputs": [],
   "source": [
    "def scale(f, sx, sy):\n",
    "    return lambda x, y: f(x/sx, y/sy)"
   ]
  },
  {
   "cell_type": "code",
   "execution_count": null,
   "metadata": {
    "cell_style": "split",
    "slideshow": {
     "slide_type": "slide"
    }
   },
   "outputs": [],
   "source": [
    "scaled_h = scale(h, 3, 2)"
   ]
  },
  {
   "cell_type": "code",
   "execution_count": null,
   "metadata": {
    "cell_style": "split",
    "slideshow": {
     "slide_type": ""
    }
   },
   "outputs": [],
   "source": [
    "# maximum inchangé\n",
    "scaled_h(0, 0)"
   ]
  },
  {
   "cell_type": "code",
   "execution_count": null,
   "metadata": {},
   "outputs": [],
   "source": [
    "Z3 = scaled_h(X, Y)\n",
    "\n",
    "show_3d(X, Y, Z3)"
   ]
  },
  {
   "cell_type": "markdown",
   "metadata": {
    "slideshow": {
     "slide_type": "slide"
    }
   },
   "source": [
    "### rotations"
   ]
  },
  {
   "cell_type": "markdown",
   "metadata": {},
   "source": [
    "on commence par se définir les 4 rotations"
   ]
  },
  {
   "cell_type": "code",
   "execution_count": null,
   "metadata": {
    "slideshow": {
     "slide_type": ""
    }
   },
   "outputs": [],
   "source": [
    "from enum import IntEnum\n",
    "\n",
    "class Angle(IntEnum):\n",
    "    LEFT = 0      # no rotation\n",
    "    TOP = 1       # rotate π/2 counter-clockwise around (0.5, 0.5)\n",
    "    RIGHT = 2     # rotate π around around (0.5, 0.5)\n",
    "    BOTTOM = 3    # rotate π/2 clockwise around (0.5, 0.5)\n",
    "    \n",
    "    @classmethod\n",
    "    def ALL(cls):\n",
    "        return (Angle(i) for i in range(4))\n",
    "\n",
    "    # on pourrait avoir besoin d'inverser\n",
    "    def __neg__(self):\n",
    "        return Angle((4-self)%4)\n",
    "    \n",
    "    def rotate(self, x, y):\n",
    "        \"\"\"x, y -> x, y\"\"\"\n",
    "        if self == Angle.LEFT:\n",
    "            return (x, y)\n",
    "        if self == Angle.TOP:\n",
    "            return (y, 1-x)\n",
    "        if self == Angle.RIGHT:\n",
    "            return (1-x, 1-y)\n",
    "        if self == Angle.BOTTOM:\n",
    "            return (1-y, x)\n",
    "        "
   ]
  },
  {
   "cell_type": "code",
   "execution_count": null,
   "metadata": {
    "cell_style": "split"
   },
   "outputs": [],
   "source": [
    "x = Angle.TOP\n",
    "y = -x"
   ]
  },
  {
   "cell_type": "code",
   "execution_count": null,
   "metadata": {
    "cell_style": "split"
   },
   "outputs": [],
   "source": [
    "x, y"
   ]
  },
  {
   "cell_type": "code",
   "execution_count": null,
   "metadata": {
    "slideshow": {
     "slide_type": "slide"
    }
   },
   "outputs": [],
   "source": [
    "# cette fonction globale (ne pas confondre avec Angle.rotate)\n",
    "# est une usine à fonctions comme translate() et scale()\n",
    "def rotate(f, angle: Angle):\n",
    "    return lambda x, y: f(*angle.rotate(x, y))\n"
   ]
  },
  {
   "cell_type": "code",
   "execution_count": null,
   "metadata": {
    "cell_style": "split",
    "slideshow": {
     "slide_type": "slide"
    }
   },
   "outputs": [],
   "source": [
    "# on focalise sur le carré unité\n",
    "X1 = np.arange(0, 1, .1)\n",
    "Y1 = np.arange(0, 1, .1)\n",
    "X1, Y1 = np.meshgrid(X1, Y1)\n",
    "\n",
    "Zh = h(X1, Y1)"
   ]
  },
  {
   "cell_type": "code",
   "execution_count": null,
   "metadata": {
    "cell_style": "split"
   },
   "outputs": [],
   "source": [
    "show_3d(X1, Y1, Zh)"
   ]
  },
  {
   "cell_type": "code",
   "execution_count": null,
   "metadata": {
    "cell_style": "split",
    "slideshow": {
     "slide_type": "slide"
    }
   },
   "outputs": [],
   "source": [
    "# identique à h en principe\n",
    "h_l = rotate(h, Angle.LEFT)\n",
    "\n",
    "Zl = h_l(X1, Y1)"
   ]
  },
  {
   "cell_type": "code",
   "execution_count": null,
   "metadata": {
    "cell_style": "split"
   },
   "outputs": [],
   "source": [
    "# tourné d'un quart ⤿\n",
    "h_t = rotate(h, Angle.TOP)\n",
    "\n",
    "Zt = h_t(X1, Y1)"
   ]
  },
  {
   "cell_type": "code",
   "execution_count": null,
   "metadata": {
    "cell_style": "split"
   },
   "outputs": [],
   "source": [
    "show_3d(X1, Y1, Zl)"
   ]
  },
  {
   "cell_type": "code",
   "execution_count": null,
   "metadata": {
    "cell_style": "split"
   },
   "outputs": [],
   "source": [
    "show_3d(X1, Y1, Zt)"
   ]
  },
  {
   "cell_type": "code",
   "execution_count": null,
   "metadata": {
    "cell_style": "split",
    "slideshow": {
     "slide_type": "slide"
    }
   },
   "outputs": [],
   "source": [
    "# demi tour\n",
    "h_r = rotate(h, Angle.RIGHT)\n",
    "\n",
    "Zr = h_r(X1, Y1)"
   ]
  },
  {
   "cell_type": "code",
   "execution_count": null,
   "metadata": {
    "cell_style": "split"
   },
   "outputs": [],
   "source": [
    "# 1/4 de tour ⤾\n",
    "h_b = rotate(h, Angle.BOTTOM)\n",
    "\n",
    "Zb = h_b(X1, Y1)"
   ]
  },
  {
   "cell_type": "code",
   "execution_count": null,
   "metadata": {
    "cell_style": "split"
   },
   "outputs": [],
   "source": [
    "show_3d(X1, Y1, Zr)"
   ]
  },
  {
   "cell_type": "code",
   "execution_count": null,
   "metadata": {
    "cell_style": "split"
   },
   "outputs": [],
   "source": [
    "show_3d(X1, Y1, Zb)"
   ]
  },
  {
   "cell_type": "code",
   "execution_count": null,
   "metadata": {
    "slideshow": {
     "slide_type": "slide"
    }
   },
   "outputs": [],
   "source": [
    "# imaginons que vous avez déjà écrit simple_contour\n",
    "from contour import simple_contour"
   ]
  },
  {
   "cell_type": "code",
   "execution_count": null,
   "metadata": {
    "slideshow": {
     "slide_type": "slide"
    }
   },
   "outputs": [],
   "source": [
    "# pour voir comment l'appeler\n",
    "# simple_contour?"
   ]
  },
  {
   "cell_type": "code",
   "execution_count": null,
   "metadata": {
    "slideshow": {
     "slide_type": "slide"
    }
   },
   "outputs": [],
   "source": [
    "X, Y = simple_contour(h, 0.5)\n",
    "\n",
    "plt.figure(figsize=(6, 6))\n",
    "plt.plot(X, Y);"
   ]
  },
  {
   "cell_type": "code",
   "execution_count": null,
   "metadata": {
    "slideshow": {
     "slide_type": "slide"
    }
   },
   "outputs": [],
   "source": [
    "# alors pour écrire la fonction coutour complète on peut utiliser nos outils\n",
    "\n",
    "import itertools\n",
    "\n",
    "def contour(f, c, xs, ys, delta):\n",
    "    \n",
    "    curves = []\n",
    "    \n",
    "    identity = lambda x, y: (x, y)\n",
    "\n",
    "    nx, ny = len(xs), len(ys)\n",
    "    for i, j in itertools.product(range(nx-1), range(ny-1)):\n",
    "        x1, x2 = xs[i], xs[i+1]\n",
    "        y1, y2 = ys[j], ys[j+1]\n",
    "\n",
    "        for angle in Angle.ALL():\n",
    "            # here we build the function suitable for simple_contour\n",
    "            f_cell = rotate(scale(translate(f, -x1, -y1), 1/(x2-x1), 1/(y2-y1)), angle)\n",
    "            \n",
    "            # these are relative to the unit square\n",
    "            X_01, Y_01 = simple_contour(f_cell, c, delta=delta)\n",
    "            \n",
    "            # nothing found\n",
    "            if len(X_01) ==0:\n",
    "                continue\n",
    "                \n",
    "            # so we need to remap them into the [x1, x2] x [y1, y2] domain\n",
    "            # which amounts to reversing the deformation from f to f_cell\n",
    "            X, Y = [], []\n",
    "            for x_01, y_01 in zip(X_01, Y_01):\n",
    "                # it's possible to undo one level using rotate applied on identity\n",
    "                rx, ry = rotate(identity, angle)(x_01, y_01)\n",
    "                # the other moves we must apply by hand \n",
    "                # cannot use the scale/translate thing here - discussion..\n",
    "                sx, sy = (x2-x1)*rx, (y2-y1)*ry\n",
    "                tx, ty = sx + x1, sy + y1\n",
    "                X.append(tx), Y.append(ty)\n",
    "            curves.append((X, Y))\n",
    "                \n",
    "    return curves"
   ]
  },
  {
   "cell_type": "code",
   "execution_count": null,
   "metadata": {
    "lines_to_next_cell": 2,
    "slideshow": {
     "slide_type": "slide"
    }
   },
   "outputs": [],
   "source": [
    "def draw_contour(f, c, xs=[0.0, 1.0], ys=[0.0, 1.0], delta=0.1):\n",
    "    curves = contour(f, c, xs, ys, delta)\n",
    "    for X, Y in curves:\n",
    "        plt.plot(X, Y)"
   ]
  },
  {
   "cell_type": "code",
   "execution_count": null,
   "metadata": {},
   "outputs": [],
   "source": [
    "plt.figure(figsize=(6, 6))\n",
    "\n",
    "# upper bound not included in arange\n",
    "steps = np.arange(-2, +2.0001, 0.5)\n",
    "\n",
    "for c in np.arange(-1.5, 1.5001, .5):\n",
    "    draw_contour(h, c, steps, steps)"
   ]
  },
  {
   "cell_type": "markdown",
   "metadata": {
    "slideshow": {
     "slide_type": "slide"
    }
   },
   "source": [
    "### discussion"
   ]
  },
  {
   "cell_type": "markdown",
   "metadata": {},
   "source": [
    "il pourrait être tentant d'utiliser nos 'rotate() / scale() / translate()' pour inverser le mapping initial dans la dernière partie de contour\n",
    "\n",
    "en fait la formule pour revenir en arrière, avec les mêmes notations - i.e. $x_{01} \\in [0..1]$ - ressemble à ceci, de manière disons imagée :\n",
    "\n",
    "x = (((rotation_inverse(x_01, y_01) ) * (x2-x1) ) + x1\n",
    "\n",
    "et remarquons ici que notre fonction `translate` calcule $f(x+x0)$ et non pas $f(x)+x0$, qui est le gener de formule que nous avons besoin d'écrire ici\n",
    "\n",
    "très intuitivement donc, vous pouvez voir quels sont les éléments qui nous manqueraient à ce stade si on voulait finir le problème avec le même genre d'outils que ceux que nous nous sommes donnés jusqu'ici\n",
    "\n",
    "qui est bien sûr un exercice pour ceux qui sont arrivé ici très en avance :)"
   ]
  }
 ],
 "metadata": {
  "celltoolbar": "Slideshow",
  "jupytext": {
   "cell_metadata_filter": "all",
   "encoding": "# -*- coding: utf-8 -*-",
   "notebook_metadata_filter": "all,-language_info",
   "text_representation": {
    "extension": ".py",
    "format_name": "percent",
    "format_version": "1.2",
    "jupytext_version": "1.2.4"
   }
  },
  "kernelspec": {
   "display_name": "Python 3",
   "language": "python",
   "name": "python3"
  },
  "language_info": {
   "codemirror_mode": {
    "name": "ipython",
    "version": 3
   },
   "file_extension": ".py",
   "mimetype": "text/x-python",
   "name": "python",
   "nbconvert_exporter": "python",
   "pygments_lexer": "ipython3",
   "version": "3.7.4"
  },
  "notebookname": "Changements de variables",
  "rise": {
   "autolaunch": true,
   "slideNumber": "c/t",
   "start_slideshow_at": "selected",
   "theme": "sky",
   "transition": "cube"
  },
  "version": "1.0"
 },
 "nbformat": 4,
 "nbformat_minor": 2
}
