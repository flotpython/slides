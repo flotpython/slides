{
 "cells": [
  {
   "cell_type": "markdown",
   "metadata": {},
   "source": [
    "<div class=\"licence\">\n",
    "<span>Licence CC BY-NC-ND</span>\n",
    "<span>Thierry Parmentelat &amp; Arnaud Legout</span>\n",
    "</div>"
   ]
  },
  {
   "cell_type": "markdown",
   "metadata": {
    "slideshow": {
     "slide_type": "slide"
    }
   },
   "source": [
    "# changements de variable"
   ]
  },
  {
   "cell_type": "markdown",
   "metadata": {},
   "source": [
    "ce notebook élabore autour du projet numérique \"tracé du contour\""
   ]
  },
  {
   "cell_type": "markdown",
   "metadata": {
    "slideshow": {
     "slide_type": "slide"
    }
   },
   "source": [
    "## rappel"
   ]
  },
  {
   "cell_type": "markdown",
   "metadata": {},
   "source": [
    "dans le projet numérique qui vise à calculer les lignes de niveau d'une fonction, on vous suggère\n",
    "\n",
    "* de traiter avec `contour_simple` le cas très spécifique \n",
    "  * d'une fonction définie sur le pavé unité $[0..1]^2$,\n",
    "  * et avec une courbe qui entre dans le pavé par le bord gauche (x=0)\n",
    "* puis de généraliser avec `contour` en découpant un domaine quelconque en pavés élémentaires"
   ]
  },
  {
   "cell_type": "markdown",
   "metadata": {
    "slideshow": {
     "slide_type": "slide"
    }
   },
   "source": [
    "## notre sujet"
   ]
  },
  {
   "cell_type": "markdown",
   "metadata": {},
   "source": [
    "Nous allons étudier les transformations qui permettent de passer du cas général au cas spécifique.\n",
    "\n",
    "On se donne donc\n",
    "\n",
    "$f : [x1 .. x2] \\times [y1 .. y2] \\longrightarrow \\mathbb{R}$\n",
    "\n",
    "et pour se ramener à une fonction qui vérifie les hypothèses de `contour_simple`, on voit qu'il s'agit de déformer le domaine de manière linéaire de sorte que le pavé $[x1 .. x2] \\times [y1 .. y2]$ corresponde à $[0..1]^2$.\n",
    "\n",
    "De plus, puisque `contour_simple` fait l'hypothèse supplémentaire que le contour commence sur le bord gauche, on va envisager également les 4 rotations du pavé."
   ]
  },
  {
   "cell_type": "markdown",
   "metadata": {
    "slideshow": {
     "slide_type": "slide"
    }
   },
   "source": [
    "## comment s'y prendre"
   ]
  },
  {
   "cell_type": "markdown",
   "metadata": {},
   "source": [
    "on commence par coder les changements de variable élémentaires qui correspondent \n",
    "\n",
    "* aux translations\n",
    "* aux homothéties (scaling)\n",
    "* aux rotations autour du point (0.5, 0.5)"
   ]
  },
  {
   "cell_type": "markdown",
   "metadata": {
    "slideshow": {
     "slide_type": "slide"
    }
   },
   "source": [
    "### translations"
   ]
  },
  {
   "cell_type": "markdown",
   "metadata": {},
   "source": [
    "le changement de variable le plus élémentaire est la translation:\n",
    "\n",
    "en partant de la fonction $f : \\mathbb{R}^2 \\longrightarrow \\mathbb{R}$ et étant donné deux réels $(x_0,y_0)$, on peut facilement dériver une fonction $f_{t(x_0,y_0)}$ qui correspond à $f$ translatée de $(x_0, y_0)$ par\n",
    "\n",
    "$f_{t(x_0,y_0)}(x, y) = f(x-x_0, y-y_0)$\n",
    "\n",
    "on peut très facilement coder la fonction `translate` en Python :"
   ]
  },
  {
   "cell_type": "code",
   "execution_count": null,
   "metadata": {
    "slideshow": {
     "slide_type": "slide"
    }
   },
   "outputs": [],
   "source": [
    "# en entrée f est une fonction R2->R\n",
    "def translate(f, x0, y0):\n",
    "    def translated(x, y):\n",
    "        return f(x-x0, y-y0)\n",
    "    # en sortie on veut aussi une fonction R2->R\n",
    "    return translated"
   ]
  },
  {
   "cell_type": "markdown",
   "metadata": {
    "cell_style": "split"
   },
   "source": [
    "si on voulait décrire formellement la fonction translate, on écrirait\n",
    "\n",
    "$translate: {\\mathbb{R}}^{\\mathbb{R}^2} \\times \\mathbb{R}^2\\longrightarrow {\\mathbb{R}}^{\\mathbb{R}^2}$\n",
    "\n",
    "qui est une façon très pédante de dire le fait très simple que"
   ]
  },
  {
   "cell_type": "markdown",
   "metadata": {
    "cell_style": "split"
   },
   "source": [
    " \n",
    "* si on a en entrée\n",
    "  * une fonction $f: \\mathbb{R}^2 \\longrightarrow \\mathbb{R}$,\n",
    "  * et deux réels\n",
    "* alors on aura en sortie\n",
    "  * une nouvelle fonction $\\mathbb{R}^2 \\longrightarrow \\mathbb{R}$"
   ]
  },
  {
   "cell_type": "markdown",
   "metadata": {
    "cell_style": "split",
    "slideshow": {
     "slide_type": "slide"
    }
   },
   "source": [
    "on peut écrire exactement la même chose en utilisant une lambda"
   ]
  },
  {
   "cell_type": "code",
   "execution_count": null,
   "metadata": {
    "cell_style": "split",
    "slideshow": {
     "slide_type": ""
    }
   },
   "outputs": [],
   "source": [
    "def translate(f, x0, y0):\n",
    "    def translated(x, y):\n",
    "        return f(x-x0, y-y0)\n",
    "    return translated"
   ]
  },
  {
   "cell_type": "code",
   "execution_count": null,
   "metadata": {
    "cell_style": "split"
   },
   "outputs": [],
   "source": [
    "# c'est totalement équivalent \n",
    "# d'écrire\n",
    "def translate(f, x0, y0):\n",
    "    return lambda x, y: f(x-x0, y-y0)"
   ]
  },
  {
   "cell_type": "markdown",
   "metadata": {
    "slideshow": {
     "slide_type": "slide"
    }
   },
   "source": [
    "#### visualisation"
   ]
  },
  {
   "cell_type": "markdown",
   "metadata": {},
   "source": [
    "on va visualiser une fonction disons reconnaissable"
   ]
  },
  {
   "cell_type": "code",
   "execution_count": null,
   "metadata": {},
   "outputs": [],
   "source": [
    "import matplotlib.pyplot as plt\n",
    "from mpl_toolkits.mplot3d import Axes3D\n",
    "from matplotlib import cm\n",
    "from matplotlib.ticker import LinearLocator, FormatStrFormatter\n",
    "import numpy as np"
   ]
  },
  {
   "cell_type": "code",
   "execution_count": null,
   "metadata": {
    "cell_style": "split"
   },
   "outputs": [],
   "source": [
    "def gaussian(x, y):\n",
    "    \"\"\"\n",
    "    centered gaussian on X, Y\n",
    "    not normalized,\n",
    "    i.e. gaussian(0, 0) = 1\n",
    "    \"\"\"\n",
    "    return np.exp(-x**2 -y**2)"
   ]
  },
  {
   "cell_type": "code",
   "execution_count": null,
   "metadata": {
    "cell_style": "split"
   },
   "outputs": [],
   "source": [
    "def h(x, y):\n",
    "    return 2*(gaussian(x, y) \n",
    "              - gaussian(x-1, y-1))"
   ]
  },
  {
   "cell_type": "code",
   "execution_count": null,
   "metadata": {
    "cell_style": "split"
   },
   "outputs": [],
   "source": [
    "# le maximum est ici\n",
    "h(0, 0)"
   ]
  },
  {
   "cell_type": "code",
   "execution_count": null,
   "metadata": {
    "cell_style": "split",
    "slideshow": {
     "slide_type": "slide"
    }
   },
   "outputs": [],
   "source": [
    "# le domaine de visualisation\n",
    "X = np.arange(-4, 4, 0.25)\n",
    "Y = np.arange(-4, 4, 0.25)\n",
    "X, Y = np.meshgrid(X, Y)"
   ]
  },
  {
   "cell_type": "code",
   "execution_count": null,
   "metadata": {
    "cell_style": "split",
    "slideshow": {
     "slide_type": ""
    }
   },
   "outputs": [],
   "source": [
    "def show_3d(X, Y, Z, sizex=6, sizey=6):\n",
    "    fig = plt.figure(figsize=(8, 8))\n",
    "    ax = fig.gca(projection='3d')\n",
    "    ax.plot_surface(\n",
    "        X, Y, Z, cmap=cm.coolwarm,\n",
    "        linewidth=0, antialiased=False);"
   ]
  },
  {
   "cell_type": "code",
   "execution_count": null,
   "metadata": {
    "cell_style": "center"
   },
   "outputs": [],
   "source": [
    "Z = h(X, Y)\n",
    "show_3d(X, Y, Z)"
   ]
  },
  {
   "cell_type": "code",
   "execution_count": null,
   "metadata": {
    "cell_style": "split",
    "slideshow": {
     "slide_type": "slide"
    }
   },
   "outputs": [],
   "source": [
    "# on fabrique la fonction translatée\n",
    "translated_h = translate(h, 1, 2)"
   ]
  },
  {
   "cell_type": "code",
   "execution_count": null,
   "metadata": {
    "cell_style": "split",
    "slideshow": {
     "slide_type": "slide"
    }
   },
   "outputs": [],
   "source": [
    "# le maximum doit être ici\n",
    "translated_h(1, 2)"
   ]
  },
  {
   "cell_type": "code",
   "execution_count": null,
   "metadata": {},
   "outputs": [],
   "source": [
    "Z2 = translated_h(X, Y)\n",
    "\n",
    "show_3d(X, Y, Z2)"
   ]
  },
  {
   "cell_type": "markdown",
   "metadata": {
    "slideshow": {
     "slide_type": "slide"
    }
   },
   "source": [
    "### changement d'échelle"
   ]
  },
  {
   "cell_type": "markdown",
   "metadata": {},
   "source": [
    "on s'y prend de manière similaire pour les déformations d'étirement"
   ]
  },
  {
   "cell_type": "code",
   "execution_count": null,
   "metadata": {
    "cell_style": "split"
   },
   "outputs": [],
   "source": [
    "def scale(f, sx, sy):\n",
    "    def scaled(x, y):\n",
    "        return f(x/sx, y/sy)\n",
    "    return scaled"
   ]
  },
  {
   "cell_type": "code",
   "execution_count": null,
   "metadata": {
    "cell_style": "split"
   },
   "outputs": [],
   "source": [
    "def scale(f, sx, sy):\n",
    "    return lambda x, y: f(x/sx, y/sy)"
   ]
  },
  {
   "cell_type": "code",
   "execution_count": null,
   "metadata": {
    "cell_style": "split",
    "slideshow": {
     "slide_type": "slide"
    }
   },
   "outputs": [],
   "source": [
    "scaled_h = scale(h, 3, 2)"
   ]
  },
  {
   "cell_type": "code",
   "execution_count": null,
   "metadata": {
    "cell_style": "split",
    "slideshow": {
     "slide_type": ""
    }
   },
   "outputs": [],
   "source": [
    "# maximum inchangé\n",
    "scaled_h(0, 0)"
   ]
  },
  {
   "cell_type": "code",
   "execution_count": null,
   "metadata": {},
   "outputs": [],
   "source": [
    "Z3 = scaled_h(X, Y)\n",
    "\n",
    "show_3d(X, Y, Z3)"
   ]
  },
  {
   "cell_type": "markdown",
   "metadata": {
    "slideshow": {
     "slide_type": "slide"
    }
   },
   "source": [
    "### rotations"
   ]
  },
  {
   "cell_type": "code",
   "execution_count": null,
   "metadata": {
    "slideshow": {
     "slide_type": ""
    }
   },
   "outputs": [],
   "source": [
    "from enum import Enum\n",
    "\n",
    "class Angle(Enum):\n",
    "    LEFT = 0      # no rotation\n",
    "    TOP = 1       # rotate π/2 counter-clockwise around (0.5, 0.5)\n",
    "    RIGHT = 2     # rotate π around around (0.5, 0.5)\n",
    "    BOTTOM = 3    # rotate π/2 clockwise around (0.5, 0.5)\n",
    "\n",
    "def rotate(f, angle: Angle):\n",
    "    if angle == Angle.LEFT:\n",
    "        return f\n",
    "    if angle == Angle.TOP:\n",
    "        return lambda x, y: f(1-y, x)\n",
    "    if angle == Angle.RIGHT:\n",
    "        return lambda x, y: f(1-x, 1-y)\n",
    "    if angle == Angle.BOTTOM:\n",
    "        return lambda x, y: f(y, 1-x)"
   ]
  },
  {
   "cell_type": "code",
   "execution_count": null,
   "metadata": {
    "cell_style": "split",
    "slideshow": {
     "slide_type": "slide"
    }
   },
   "outputs": [],
   "source": [
    "# on focalise sur le carré unité\n",
    "X1 = np.arange(0, 1, .1)\n",
    "Y1 = np.arange(0, 1, .1)\n",
    "X1, Y1 = np.meshgrid(X1, Y1)\n",
    "\n",
    "Zh = h(X1, Y1)"
   ]
  },
  {
   "cell_type": "code",
   "execution_count": null,
   "metadata": {
    "cell_style": "split"
   },
   "outputs": [],
   "source": [
    "show_3d(X1, Y1, Zh)"
   ]
  },
  {
   "cell_type": "code",
   "execution_count": null,
   "metadata": {
    "cell_style": "split",
    "slideshow": {
     "slide_type": "slide"
    }
   },
   "outputs": [],
   "source": [
    "# identique à h en principe\n",
    "h_l = rotate(h, Angle.LEFT)\n",
    "\n",
    "Zl = h_l(X1, Y1)"
   ]
  },
  {
   "cell_type": "code",
   "execution_count": null,
   "metadata": {
    "cell_style": "split"
   },
   "outputs": [],
   "source": [
    "# tourné d'un quart\n",
    "h_t = rotate(h, Angle.TOP)\n",
    "\n",
    "Zt = h_t(X1, Y1)"
   ]
  },
  {
   "cell_type": "code",
   "execution_count": null,
   "metadata": {
    "cell_style": "split"
   },
   "outputs": [],
   "source": [
    "show_3d(X1, Y1, Zl)"
   ]
  },
  {
   "cell_type": "code",
   "execution_count": null,
   "metadata": {
    "cell_style": "split"
   },
   "outputs": [],
   "source": [
    "show_3d(X1, Y1, Zt)"
   ]
  },
  {
   "cell_type": "code",
   "execution_count": null,
   "metadata": {
    "cell_style": "split",
    "slideshow": {
     "slide_type": "slide"
    }
   },
   "outputs": [],
   "source": [
    "h_r = rotate(h, Angle.RIGHT)\n",
    "\n",
    "Zr = h_r(X1, Y1)"
   ]
  },
  {
   "cell_type": "code",
   "execution_count": null,
   "metadata": {
    "cell_style": "split"
   },
   "outputs": [],
   "source": [
    "h_b = rotate(h, Angle.BOTTOM)\n",
    "\n",
    "Zb = h_b(X1, Y1)"
   ]
  },
  {
   "cell_type": "code",
   "execution_count": null,
   "metadata": {
    "cell_style": "split"
   },
   "outputs": [],
   "source": [
    "show_3d(X1, Y1, Zr)"
   ]
  },
  {
   "cell_type": "code",
   "execution_count": null,
   "metadata": {
    "cell_style": "split"
   },
   "outputs": [],
   "source": [
    "show_3d(X1, Y1, Zb)"
   ]
  }
 ],
 "metadata": {
  "celltoolbar": "Slideshow",
  "jupytext": {
   "cell_metadata_filter": "all",
   "notebook_metadata_filter": "all,-language_info",
   "text_representation": {
    "extension": ".py",
    "format_name": "percent",
    "format_version": "1.2",
    "jupytext_version": "1.2.4"
   }
  },
  "kernelspec": {
   "display_name": "Python 3",
   "language": "python",
   "name": "python3"
  },
  "language_info": {
   "codemirror_mode": {
    "name": "ipython",
    "version": 3
   },
   "file_extension": ".py",
   "mimetype": "text/x-python",
   "name": "python",
   "nbconvert_exporter": "python",
   "pygments_lexer": "ipython3",
   "version": "3.7.4"
  },
  "notebookname": "Changements de variables",
  "rise": {
   "autolaunch": true
  },
  "version": "1.0"
 },
 "nbformat": 4,
 "nbformat_minor": 2
}
