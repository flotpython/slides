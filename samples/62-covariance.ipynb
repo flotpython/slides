{
 "cells": [
  {
   "cell_type": "markdown",
   "metadata": {},
   "source": [
    "<span style=\"float:left;\">Licence CC BY-NC-ND</span><span style=\"float:right;\">Thierry Parmentelat&nbsp;<img src=\"media/inria-25.png\" style=\"display:inline\"></span><br/>"
   ]
  },
  {
   "cell_type": "code",
   "execution_count": null,
   "metadata": {},
   "outputs": [],
   "source": [
    "from math import pi, cos, sin, atan, fabs, sqrt\n",
    "import numpy as np"
   ]
  },
  {
   "cell_type": "code",
   "execution_count": null,
   "metadata": {},
   "outputs": [],
   "source": [
    "from collections import OrderedDict"
   ]
  },
  {
   "cell_type": "code",
   "execution_count": null,
   "metadata": {},
   "outputs": [],
   "source": [
    "from ipywidgets import interact, fixed\n",
    "from ipywidgets import SelectionSlider, IntSlider"
   ]
  },
  {
   "cell_type": "markdown",
   "metadata": {},
   "source": [
    "# Helpers"
   ]
  },
  {
   "cell_type": "markdown",
   "metadata": {},
   "source": [
    "### Translate a set of points"
   ]
  },
  {
   "cell_type": "code",
   "execution_count": null,
   "metadata": {},
   "outputs": [],
   "source": [
    "def translate(points, vector):\n",
    "    X, Y = points\n",
    "    x0, y0 = vector\n",
    "    return X + x0, Y + y0"
   ]
  },
  {
   "cell_type": "markdown",
   "metadata": {},
   "source": [
    "### Rotate a set of points"
   ]
  },
  {
   "cell_type": "code",
   "execution_count": null,
   "metadata": {},
   "outputs": [],
   "source": [
    "def rotate(points, alpha):\n",
    "    x, y = points\n",
    "    return x*cos(alpha) - y*sin(alpha), x*sin(alpha) + y*cos(alpha)"
   ]
  },
  {
   "cell_type": "markdown",
   "metadata": {},
   "source": [
    "### Get the average (center of gravity)"
   ]
  },
  {
   "cell_type": "code",
   "execution_count": null,
   "metadata": {},
   "outputs": [],
   "source": [
    "# for a 1-dimension array\n",
    "def average1(dim1):\n",
    "    return sum(dim1)/len(dim1)\n",
    "\n",
    "def average(points):\n",
    "    x, y = points\n",
    "    return average1(x), average1(y)"
   ]
  },
  {
   "cell_type": "markdown",
   "metadata": {},
   "source": [
    "# Generating input : an ellipse"
   ]
  },
  {
   "cell_type": "markdown",
   "metadata": {},
   "source": [
    "### Centered and not rotated"
   ]
  },
  {
   "cell_type": "code",
   "execution_count": null,
   "metadata": {},
   "outputs": [],
   "source": [
    "# the 2 radiuses, plus n as the number of points \n",
    "def ellipse(rx, ry, n):\n",
    "    return (rx * np.cos(2 * pi / n * np.arange(n)),\n",
    "            ry * np.sin(2 * pi / n * np.arange(n)))"
   ]
  },
  {
   "cell_type": "code",
   "execution_count": null,
   "metadata": {},
   "outputs": [],
   "source": [
    "el3 = ellipse(3, 1, 100)"
   ]
  },
  {
   "cell_type": "markdown",
   "metadata": {},
   "source": [
    "### How to display a set of points"
   ]
  },
  {
   "cell_type": "markdown",
   "metadata": {},
   "source": [
    "The optional `directions` argument gives you a way to specify additional lines to be displayed. Each element in the `directions` parameter should be tuple of the form `alpha, length`.\n",
    "\n",
    "E.g.\n",
    "\n",
    "    show_points( points, [ (pi/3, 10) ])\n",
    "    \n",
    "would cause a line of angle $\\pi/3$ and length 10 to be drawn from the center of gravity of the points"
   ]
  },
  {
   "cell_type": "code",
   "execution_count": null,
   "metadata": {},
   "outputs": [],
   "source": [
    "%matplotlib notebook\n",
    "import matplotlib.pyplot as plt\n",
    "\n",
    "from math import pi, cos, sin\n",
    "\n",
    "def show_points(points, directions=[]):\n",
    "    x , y = points\n",
    "    fig = plt.figure()\n",
    "    plt.scatter(x, y, marker='.', color='g')\n",
    "    if directions:\n",
    "        cx, cy = average(points)\n",
    "        for alpha, length in directions:\n",
    "            plt.plot( (cx, cx + length * cos(alpha)),\n",
    "                      (cy, cy + length * sin(alpha)),\n",
    "                    )\n",
    "                 \n",
    "    fig.show()"
   ]
  },
  {
   "cell_type": "markdown",
   "metadata": {},
   "source": [
    "### A rotated and translated ellipse"
   ]
  },
  {
   "cell_type": "code",
   "execution_count": null,
   "metadata": {},
   "outputs": [],
   "source": [
    "# just rotated\n",
    "elr = rotate(el3, pi/6)\n",
    "show_points(elr, [ (pi/6, 4), [pi/2, 2]])"
   ]
  },
  {
   "cell_type": "code",
   "execution_count": null,
   "metadata": {},
   "outputs": [],
   "source": [
    "# rotate and then translate\n",
    "#el3t = translate(el3, (1,2))"
   ]
  },
  {
   "cell_type": "code",
   "execution_count": null,
   "metadata": {},
   "outputs": [],
   "source": [
    "el = translate(rotate(el3, pi/6), (4, 2))\n",
    "show_points(el)"
   ]
  },
  {
   "cell_type": "markdown",
   "metadata": {},
   "source": [
    "# Generating input : random gaussian"
   ]
  },
  {
   "cell_type": "code",
   "execution_count": null,
   "metadata": {},
   "outputs": [],
   "source": [
    "def random_points(sdx, sdy, n):\n",
    "    \"\"\" \n",
    "    returs n points in an alliptic gaussian distrib \n",
    "    with corresponding standard deviations in x and y\n",
    "    \"\"\"\n",
    "    return (np.random.normal(0, sdx, n),\n",
    "            np.random.normal(0, sdy, n))"
   ]
  },
  {
   "cell_type": "markdown",
   "metadata": {},
   "source": [
    "### a sample random cloud"
   ]
  },
  {
   "cell_type": "code",
   "execution_count": null,
   "metadata": {},
   "outputs": [],
   "source": [
    "# random around an ellipse rx=3 ry=10\n",
    "ra100 = random_points(10, 3, 100)"
   ]
  },
  {
   "cell_type": "code",
   "execution_count": null,
   "metadata": {},
   "outputs": [],
   "source": [
    "# rotate and translate\n",
    "ra = translate(rotate(ra100, pi/6), (10, 20))\n",
    "\n",
    "# 10 is the standard deviation, so let's be sure the line is long enough\n",
    "show_points(ra, [ (pi/6, 30)])"
   ]
  },
  {
   "cell_type": "markdown",
   "metadata": {},
   "source": [
    "# Computing covariance matrix"
   ]
  },
  {
   "cell_type": "code",
   "execution_count": null,
   "metadata": {},
   "outputs": [],
   "source": [
    "average(el)"
   ]
  },
  {
   "cell_type": "markdown",
   "metadata": {},
   "source": [
    "### The covariance matrix"
   ]
  },
  {
   "cell_type": "code",
   "execution_count": null,
   "metadata": {},
   "outputs": [],
   "source": [
    "def covariance(points):\n",
    "    # translate to the center of gravity\n",
    "    mx, my = average(points)\n",
    "    centered = translate(points, (-mx, -my))\n",
    "    # convert into a np.array if needed\n",
    "    m = np.array(centered)\n",
    "    # compute tranposed\n",
    "    t = np.transpose(m)\n",
    "    # just multiply both\n",
    "    return np.dot(m, t)"
   ]
  },
  {
   "cell_type": "code",
   "execution_count": null,
   "metadata": {},
   "outputs": [],
   "source": [
    "# try it out on our sample ellipse\n",
    "co = covariance(el)\n",
    "print(co)"
   ]
  },
  {
   "cell_type": "markdown",
   "metadata": {},
   "source": [
    "### Eigen values"
   ]
  },
  {
   "cell_type": "markdown",
   "metadata": {},
   "source": [
    "Just use the numpy library to compute its eigen values"
   ]
  },
  {
   "cell_type": "code",
   "execution_count": null,
   "metadata": {},
   "outputs": [],
   "source": [
    "lambdas, A = np.linalg.eig(co)\n",
    "print(\"Eigen values\", lambdas)\n",
    "print(\"Matrix\", A)"
   ]
  },
  {
   "cell_type": "markdown",
   "metadata": {},
   "source": [
    "# Various attempts"
   ]
  },
  {
   "cell_type": "code",
   "execution_count": null,
   "metadata": {},
   "outputs": [],
   "source": [
    "# we use this to check if 2 floats are almost equal\n",
    "np.isclose?"
   ]
  },
  {
   "cell_type": "markdown",
   "metadata": {},
   "source": [
    "A helper function to see if 2 value are almost equal..."
   ]
  },
  {
   "cell_type": "code",
   "execution_count": null,
   "metadata": {},
   "outputs": [],
   "source": [
    "def almost(x1, x2):\n",
    "    return np.isclose(x1, x2, rtol=0.001, atol=0.001)"
   ]
  },
  {
   "cell_type": "markdown",
   "metadata": {},
   "source": [
    "This helper function would display the set of points, and then compute the ACP output. If an expected angle is known in advance (like when the set of points has a known pattern), it is displayed as well."
   ]
  },
  {
   "cell_type": "code",
   "execution_count": null,
   "metadata": {},
   "outputs": [],
   "source": [
    "def loopback(points, expected_alpha=None, directions=None):\n",
    "    x, y = points\n",
    "    n = len(x)\n",
    "    co = covariance(points)\n",
    "    lambdas, A = np.linalg.eig(co)\n",
    "    # A is expected to be an isometric rotation\n",
    "    (a11, a12), (a21, a22) = A\n",
    "    radius = a11*a22 - a12*a21\n",
    "    if not almost(a11, a22): \n",
    "        print(\"ISOMETRY - WARNING 1\")\n",
    "    if not almost(fabs(a21), fabs(a12)):\n",
    "        print(\"ISOMETRY - WARNING 2\")\n",
    "    if not almost(1., radius):\n",
    "        print(\"ISOMETRY - WARNING 3\")\n",
    "    l1, l2 = lambdas\n",
    "    print(\"valeurs propres {:.2f} - {:.2f}\".format(l1, l2))\n",
    "    #print(\"ACP ->\", A)\n",
    "    computed_alpha = pi/2 if a11 == 0 else atan(a12/a11)\n",
    "    print(\"a11={:.3f}, a21={:.3f}\".format(a11, a21))\n",
    "    print(\"computed alpha = {:.3f}\".format(computed_alpha))\n",
    "    if expected_alpha:\n",
    "        print(\"expected_alpha = {:.3f}\".format(expected_alpha))\n",
    "    # show lines as specified by the caller \n",
    "    directions = directions or []\n",
    "    # add the computed one\n",
    "    directions.append((-computed_alpha, sqrt(l1/n)))\n",
    "    show_points(points, directions)\n",
    "\n",
    "#        if not almost(computed_alpha, -expected_alpha):\n",
    "#            print(\"MISMATCH\")\n",
    "#        α = expected_alpha\n",
    "#        print(\"cos(α) = {}, sin(α) = {}\".format(cos(α), sin(α)))"
   ]
  },
  {
   "cell_type": "markdown",
   "metadata": {},
   "source": [
    "###  Synthesized ellipses"
   ]
  },
  {
   "cell_type": "code",
   "execution_count": null,
   "metadata": {},
   "outputs": [],
   "source": [
    "def loopback_el(rx, ry, cx, cy, alpha, n):\n",
    "    e = ellipse(rx, ry, n)\n",
    "    ert = translate(rotate(e, alpha), (cx, cy))\n",
    "    # show only one direction\n",
    "    loopback(ert, alpha, [ (alpha, max(rx, ry)) ])"
   ]
  },
  {
   "cell_type": "code",
   "execution_count": null,
   "metadata": {},
   "outputs": [],
   "source": [
    "loopback_el_datasets = OrderedDict()\n",
    "loopback_el_datasets['pi_6'] = (3, 1, 5, 10, pi/6, 100)\n",
    "loopback_el_datasets['pi_4'] = (5, 1, 20, 30, pi/4, 50)\n",
    "loopback_el_datasets['pi_3'] = (10, 1, 100, 200, pi/3, 25)\n",
    "loopback_el_datasets['pi_2'] = (1.2, 1, 100, 200, pi/2, 100)\n",
    "\n",
    "def loopback_el_wrap(k):\n",
    "    args = loopback_el_datasets[k]\n",
    "    print(\"args = \", args)\n",
    "    loopback_el(*args)\n",
    "\n",
    "interact(loopback_el_wrap, \n",
    "         k = SelectionSlider(options = list(loopback_el_datasets.keys()),\n",
    "                             continuous_update = False));"
   ]
  },
  {
   "cell_type": "markdown",
   "metadata": {},
   "source": [
    "### Gaussian distribs"
   ]
  },
  {
   "cell_type": "code",
   "execution_count": null,
   "metadata": {},
   "outputs": [],
   "source": [
    "def loopback_ra(cx, cy, sdx, sdy, alpha, n):\n",
    "    raw = random_points(sdx, sdy,n)\n",
    "    points = translate(rotate(raw, alpha), (cx, cy))\n",
    "    loopback(points, alpha, [ (alpha, 3*max(sdx, sdy)) ])"
   ]
  },
  {
   "cell_type": "markdown",
   "metadata": {},
   "source": [
    "#### More and more points"
   ]
  },
  {
   "cell_type": "code",
   "execution_count": null,
   "metadata": {},
   "outputs": [],
   "source": [
    "interact(loopback_ra,\n",
    "         cx = fixed(10), \n",
    "         cy = fixed(20),\n",
    "         sdx = fixed(10),\n",
    "         sdy = fixed(4),\n",
    "         alpha = fixed(pi/6),\n",
    "         n = IntSlider(min=10, max=1000, step=20, continuous_update = False)\n",
    "        );"
   ]
  }
 ],
 "metadata": {
  "kernelspec": {
   "display_name": "Python 3",
   "language": "python",
   "name": "python3"
  },
  "language_info": {
   "codemirror_mode": {
    "name": "ipython",
    "version": 3
   },
   "file_extension": ".py",
   "mimetype": "text/x-python",
   "name": "python",
   "nbconvert_exporter": "python",
   "pygments_lexer": "ipython3",
   "version": "3.7.3"
  },
  "notebookname": "covariance et ACP",
  "version": "1.0"
 },
 "nbformat": 4,
 "nbformat_minor": 1
}
