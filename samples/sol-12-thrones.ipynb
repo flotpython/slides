{
 "cells": [
  {
   "cell_type": "markdown",
   "metadata": {},
   "source": [
    "# pagerank: a possible implementation"
   ]
  },
  {
   "cell_type": "markdown",
   "metadata": {},
   "source": [
    "*****"
   ]
  },
  {
   "cell_type": "markdown",
   "metadata": {
    "slideshow": {
     "slide_type": "slide"
    }
   },
   "source": [
    "## getting data over http"
   ]
  },
  {
   "cell_type": "code",
   "execution_count": null,
   "metadata": {},
   "outputs": [],
   "source": [
    "# beware that requests is NOT is the standard library\n",
    "# so you may need to run in the terminal:\n",
    "# \n",
    "# $ pip install requests\n",
    "\n",
    "import requests\n",
    "\n",
    "# URL = \"https://www.macalester.edu/~abeverid/data/stormofswords.csv\"\n",
    "# identical on github\n",
    "URL = \"https://raw.githubusercontent.com/pupimvictor/NetworkOfThrones/master/stormofswords.csv\""
   ]
  },
  {
   "cell_type": "code",
   "execution_count": null,
   "metadata": {},
   "outputs": [],
   "source": [
    "# GET contents using http\n",
    "request = requests.get(URL)\n",
    "\n",
    "csv = request.text"
   ]
  },
  {
   "cell_type": "code",
   "execution_count": null,
   "metadata": {},
   "outputs": [],
   "source": [
    "# csv is a str object\n",
    "type(csv), len(csv)"
   ]
  },
  {
   "cell_type": "markdown",
   "metadata": {},
   "source": [
    "*****"
   ]
  },
  {
   "cell_type": "markdown",
   "metadata": {},
   "source": [
    "## parsing"
   ]
  },
  {
   "cell_type": "markdown",
   "metadata": {},
   "source": [
    "### splitting into lines"
   ]
  },
  {
   "cell_type": "code",
   "execution_count": null,
   "metadata": {},
   "outputs": [],
   "source": [
    "# how many lines\n",
    "lines = csv.split(\"\\n\")\n",
    "len(lines)"
   ]
  },
  {
   "cell_type": "markdown",
   "metadata": {},
   "source": [
    "### a glimpse\n",
    "\n",
    "this is to get a sense of the data we have got; we look at the first and last lines"
   ]
  },
  {
   "cell_type": "code",
   "execution_count": null,
   "metadata": {
    "cell_style": "split"
   },
   "outputs": [],
   "source": [
    "# let's take a quick look at the 3 first lines\n",
    "line1, line2, line3, *ignore = lines"
   ]
  },
  {
   "cell_type": "code",
   "execution_count": null,
   "metadata": {
    "cell_style": "split"
   },
   "outputs": [],
   "source": [
    "# turns ou first line is a header\n",
    "# that's expected in a csv file\n",
    "line1"
   ]
  },
  {
   "cell_type": "code",
   "execution_count": null,
   "metadata": {
    "cell_style": "split"
   },
   "outputs": [],
   "source": [
    "# then we get regular data\n",
    "line2"
   ]
  },
  {
   "cell_type": "code",
   "execution_count": null,
   "metadata": {
    "cell_style": "split"
   },
   "outputs": [],
   "source": [
    "line3"
   ]
  },
  {
   "cell_type": "code",
   "execution_count": null,
   "metadata": {
    "cell_style": "center"
   },
   "outputs": [],
   "source": [
    "# same at the end\n",
    "*ignore, line_2, line_1 = lines"
   ]
  },
  {
   "cell_type": "code",
   "execution_count": null,
   "metadata": {
    "cell_style": "split"
   },
   "outputs": [],
   "source": [
    "line_2"
   ]
  },
  {
   "cell_type": "code",
   "execution_count": null,
   "metadata": {
    "cell_style": "split"
   },
   "outputs": [],
   "source": [
    "# last line is empty\n",
    "line_1"
   ]
  },
  {
   "cell_type": "markdown",
   "metadata": {},
   "source": [
    "### meaningful lines : a slice"
   ]
  },
  {
   "cell_type": "code",
   "execution_count": null,
   "metadata": {},
   "outputs": [],
   "source": [
    "# we want to expose an iterable over meaningful lines\n",
    "# (i.e. excluding the header line)\n",
    "# so using a slice springs to mind\n",
    "\n",
    "meaningful = lines[1:-1]"
   ]
  },
  {
   "cell_type": "markdown",
   "metadata": {},
   "source": [
    "*****"
   ]
  },
  {
   "cell_type": "markdown",
   "metadata": {},
   "source": [
    "### building a programing-friendly data"
   ]
  },
  {
   "cell_type": "markdown",
   "metadata": {},
   "source": [
    "we need to turn this text object into something more programing-friendly  \n",
    "this stage is called *parsing*"
   ]
  },
  {
   "cell_type": "markdown",
   "metadata": {},
   "source": [
    "there is [a module called `csv` in the standard library](https://docs.python.org/3/library/csv.html), that could come in handy for more complex cases  \n",
    "but here things are so simple, let's parse this data \"by hand\""
   ]
  },
  {
   "cell_type": "markdown",
   "metadata": {},
   "source": [
    "### splitting a line in pieces: `str.split()`"
   ]
  },
  {
   "cell_type": "code",
   "execution_count": null,
   "metadata": {},
   "outputs": [],
   "source": [
    "for index, line in enumerate(meaningful):\n",
    "    source, target, weight = line.split(',')\n",
    "    if index < 3:\n",
    "        print(f\"{source} → {weight} → {target}\")\n",
    "    else:\n",
    "        print('.', end='')"
   ]
  },
  {
   "cell_type": "markdown",
   "metadata": {},
   "source": [
    "### building a dictionary (1)"
   ]
  },
  {
   "cell_type": "code",
   "execution_count": null,
   "metadata": {},
   "outputs": [],
   "source": [
    "# but let's build a dictionary of dictionaries instead\n",
    "# for that we iterate over the (meningful) lines again\n",
    "graph1 = {}\n",
    "for line in meaningful:\n",
    "    source, target, weight = line.split(',')\n",
    "    if source not in graph1:\n",
    "        graph1[source] = {}\n",
    "    graph1[source][target] = weight"
   ]
  },
  {
   "cell_type": "code",
   "execution_count": null,
   "metadata": {},
   "outputs": [],
   "source": [
    "# so each value in the graph \n",
    "# in turn is a dictionary\n",
    "graph1['Aemon']"
   ]
  },
  {
   "cell_type": "markdown",
   "metadata": {},
   "source": [
    "**NOTE** that in this first version, weights are stored as `str` objects; we'll improve this "
   ]
  },
  {
   "cell_type": "markdown",
   "metadata": {},
   "source": [
    "### building a dictionary (2)"
   ]
  },
  {
   "cell_type": "markdown",
   "metadata": {},
   "source": [
    "in fact there's a slightly better way to do this  \n",
    "that instruction here \n",
    "```python\n",
    "    if source not in graph1:\n",
    "        graph1[source] = {}\n",
    "```\n",
    "is not so nice; we can get rid of it by using a `defaultdict` object\n",
    "\n",
    "`defaultdict` is a class that inherits the regular `dict` class;  \n",
    "a `defaultdict` of `list`s, for example, will automatically create a `list()` instance whenever one tries to access a missing key"
   ]
  },
  {
   "cell_type": "code",
   "execution_count": null,
   "metadata": {},
   "outputs": [],
   "source": [
    "# this is in the standard library, no need to pip install\n",
    "from collections import defaultdict\n",
    "\n",
    "# here our values are nested dicts\n",
    "graph = defaultdict(dict)\n",
    "\n",
    "for index, line in enumerate(meaningful):\n",
    "    source, target, weight = line.split(',')\n",
    "    # we take this chance to convert weight as an int\n",
    "    graph[source][target] = int(weight)"
   ]
  },
  {
   "cell_type": "code",
   "execution_count": null,
   "metadata": {},
   "outputs": [],
   "source": [
    "graph['Aemon']"
   ]
  },
  {
   "cell_type": "markdown",
   "metadata": {},
   "source": [
    "*****"
   ]
  },
  {
   "cell_type": "markdown",
   "metadata": {},
   "source": [
    "## simulator"
   ]
  },
  {
   "cell_type": "code",
   "execution_count": null,
   "metadata": {},
   "outputs": [],
   "source": [
    "import random\n",
    "\n",
    "class PageRankWalker:\n",
    "    \n",
    "\n",
    "    def __init__(self, graph, damping=0.85):\n",
    "        self.graph = graph\n",
    "        self.damping = damping\n",
    "        # the vertex we are on\n",
    "        self.current = None\n",
    "        self.init_random()\n",
    "        \n",
    "\n",
    "    def init_random(self):\n",
    "        # for each vertex we prepare a list\n",
    "        # with the possible next vertices, each appearing \n",
    "        # as many times as the weight\n",
    "        # this way a random walk only needs to pick\n",
    "        # randomly in that list\n",
    "        self.weighted_dispatcher = defaultdict(list)\n",
    "        for source, links_dict in graph.items():\n",
    "            for target, weight in links_dict.items():\n",
    "                for _ in range(weight):\n",
    "                    self.weighted_dispatcher[source].append(target)\n",
    "        # same for when we restart, a list of all the vertices will do\n",
    "        self.restart_dispatcher = list(self.graph.keys())\n",
    "\n",
    "\n",
    "    def pick_start_vertex(self):\n",
    "        \"\"\"\n",
    "        randomly picks a start vertex\n",
    "        with equal choices\n",
    "        \"\"\"\n",
    "        return random.choice(self.restart_dispatcher)\n",
    "\n",
    "\n",
    "    def pick_next_vertex(self):\n",
    "        \"\"\"\n",
    "        randomly picks a successor from a current vertex\n",
    "        using the weights\n",
    "        \"\"\"\n",
    "        choices = self.weighted_dispatcher[self.current]\n",
    "        # when reaching a vertex with no outgoing edge\n",
    "        # we restart from scratch\n",
    "        if not choices:\n",
    "            return self.pick_start_vertex()\n",
    "        else:\n",
    "            return random.choice(choices)\n",
    "\n",
    "        \n",
    "    def walk(self, nb_steps):\n",
    "        \"\"\"\n",
    "        simulates that number of steps\n",
    "        result is a dictionary with \n",
    "        vertices as key, \n",
    "        and as value number of steps spent in that vertex\n",
    "        \"\"\"\n",
    "        result = defaultdict(int)\n",
    "        self.current = self.pick_start_vertex()\n",
    "        result[self.current] += 1\n",
    "        # we've alredy done one step, so remove 1 here\n",
    "        for _ in range(nb_steps-1):\n",
    "            r = random.random()\n",
    "            if r <= self.damping:\n",
    "                self.current = self.pick_next_vertex()\n",
    "            else:\n",
    "                self.current = self.pick_start_vertex()\n",
    "            result[self.current] += 1\n",
    "        return result"
   ]
  },
  {
   "cell_type": "markdown",
   "metadata": {},
   "source": [
    "*****"
   ]
  },
  {
   "cell_type": "markdown",
   "metadata": {},
   "source": [
    "### using the simulator"
   ]
  },
  {
   "cell_type": "code",
   "execution_count": null,
   "metadata": {},
   "outputs": [],
   "source": [
    "walker = PageRankWalker(graph)"
   ]
  },
  {
   "cell_type": "code",
   "execution_count": null,
   "metadata": {
    "cell_style": "split"
   },
   "outputs": [],
   "source": [
    "# let's see what we get with that amount of steps\n",
    "\n",
    "STEPS = 1000\n",
    "frequencies = walker.walk(STEPS)"
   ]
  },
  {
   "cell_type": "code",
   "execution_count": null,
   "metadata": {},
   "outputs": [],
   "source": [
    "# the sum of all values should be STEPS\n",
    "raincheck = sum(frequencies.values())\n",
    "raincheck == STEPS == 1000"
   ]
  },
  {
   "cell_type": "code",
   "execution_count": null,
   "metadata": {},
   "outputs": [],
   "source": [
    "# dicts are not so good at sorting\n",
    "# let's use a list instead\n",
    "tuples = [ (vertex, count) for vertex, count in frequencies.items() ]\n",
    "tuples.sort(key = lambda tupl: tupl[1], reverse=True)\n",
    "\n",
    "tuples[:5]"
   ]
  },
  {
   "cell_type": "markdown",
   "metadata": {},
   "source": [
    "***"
   ]
  },
  {
   "cell_type": "markdown",
   "metadata": {},
   "source": [
    "make it reproducible"
   ]
  },
  {
   "cell_type": "code",
   "execution_count": null,
   "metadata": {},
   "outputs": [],
   "source": [
    "def monte_carlo(graph, steps):\n",
    "    walker = PageRankWalker(graph)\n",
    "    frequencies = walker.walk(steps)\n",
    "    # sort results to show most frequent first\n",
    "    tuples = [ (vertex, count) for vertex, count in frequencies.items() ]\n",
    "    tuples.sort(key = lambda tupl: tupl[1], reverse=True)\n",
    "    # display 4 most frequents\n",
    "    for character, count in tuples[:4]:\n",
    "        print(f\"{character} was visited {count} times i.e. {count/steps:02%}\")"
   ]
  },
  {
   "cell_type": "code",
   "execution_count": null,
   "metadata": {},
   "outputs": [],
   "source": [
    "# run 5 times and display results\n",
    "for _ in range(5):\n",
    "    print(f\"{40*'-'}\")\n",
    "    monte_carlo(graph, STEPS)"
   ]
  },
  {
   "cell_type": "code",
   "execution_count": null,
   "metadata": {},
   "outputs": [],
   "source": [
    "# what if we increase STEPS to 10000\n",
    "\n",
    "STEPS = 10_000\n",
    "\n",
    "for _ in range(5):\n",
    "    print(f\"{40*'-'}\")\n",
    "    monte_carlo(graph, STEPS)"
   ]
  },
  {
   "cell_type": "code",
   "execution_count": null,
   "metadata": {},
   "outputs": [],
   "source": [
    "# what if we increase STEPS to 10000\n",
    "\n",
    "STEPS = 100_000\n",
    "\n",
    "for _ in range(5):\n",
    "    print(f\"{40*'-'}\")\n",
    "    monte_carlo(graph, STEPS)"
   ]
  },
  {
   "cell_type": "markdown",
   "metadata": {},
   "source": [
    "***"
   ]
  },
  {
   "cell_type": "markdown",
   "metadata": {},
   "source": [
    "### visualization (optional)"
   ]
  },
  {
   "cell_type": "markdown",
   "metadata": {},
   "source": [
    "using [the graphviz library](https://graphviz.readthedocs.io/en/stable/examples.html) \n",
    "\n",
    "installing dependencies is a 2-step process\n",
    "\n",
    "* the binary tool; for that [see the project's page](https://graphviz.gitlab.io/download/);  \n",
    "  also be aware that most common linux distros do support *graphviz*,  \n",
    "  so you can install them with either `dnf` or `apt-get`;  \n",
    "  or `brew` if on MacOS\n",
    "\n",
    "* the Python wrapper that you can install with (surprise !)\n",
    "```bash\n",
    "pip install graphviz\n",
    "```"
   ]
  },
  {
   "cell_type": "code",
   "execution_count": null,
   "metadata": {},
   "outputs": [],
   "source": [
    "# DiGraph stands for Directed Graph\n",
    "# that's what we need since our graph is directed indeed\n",
    "\n",
    "from graphviz import Digraph"
   ]
  },
  {
   "cell_type": "code",
   "execution_count": null,
   "metadata": {},
   "outputs": [],
   "source": [
    "gv = Digraph('Characters of the Thrones', filename='thrones.gv')\n",
    "\n",
    "for source, weighted_dict in graph.items():\n",
    "    for target, weight in weighted_dict.items():\n",
    "        gv.edge(source, target, label=f\"{weight}\")"
   ]
  },
  {
   "cell_type": "code",
   "execution_count": null,
   "metadata": {
    "cell_style": "split"
   },
   "outputs": [],
   "source": [
    "gv.attr(rankdir='TB', size='12')\n",
    "gv"
   ]
  }
 ],
 "metadata": {
  "kernelspec": {
   "display_name": "Python 3",
   "language": "python",
   "name": "python3"
  },
  "language_info": {
   "codemirror_mode": {
    "name": "ipython",
    "version": 3
   },
   "file_extension": ".py",
   "mimetype": "text/x-python",
   "name": "python",
   "nbconvert_exporter": "python",
   "pygments_lexer": "ipython3",
   "version": "3.7.4"
  }
 },
 "nbformat": 4,
 "nbformat_minor": 4
}
