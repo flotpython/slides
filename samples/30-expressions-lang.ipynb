{
 "cells": [
  {
   "cell_type": "markdown",
   "metadata": {},
   "source": [
    "# un petit langage d'expressions"
   ]
  },
  {
   "cell_type": "markdown",
   "metadata": {},
   "source": [
    "## rappel\n",
    "\n",
    "On rappelle qu'en programmation, on distingue entre :\n",
    "* les expressions, qui sont des fragments de programme qui **s'évaluent** et qui retournent un résultat,\n",
    "* et les instructions, qui **s'exécutent**, ayant pour résultat de changer l'état du programme, sans pour autant retourner une valeur."
   ]
  },
  {
   "cell_type": "markdown",
   "metadata": {},
   "source": [
    "## état de l'art\n",
    "\n",
    "Traditionnellement (l'implémentation d')un langage est vu comme une suite d'opérations :\n",
    "\n",
    "* analyse lexicale et syntaxique :  \n",
    "  on manipule le code sous forme de texte, pour le transformer en une structure de données qui soit plus adaptée à toute la série de calculs qu'on doit faire dans les parties suivantes, puis\n",
    "* l'interprétation / compilation propremement dite."
   ]
  },
  {
   "cell_type": "markdown",
   "metadata": {},
   "source": [
    "On se propose d'implémenter un petit langage d'expressions; \n",
    "en fait, seulement la seconde moitié, c'est-à-dire qu'on veut :\n",
    "\n",
    "* concevoir et implémenter cette structure de données intermédiaire qui représente le programme,\n",
    "* et partant de là on pourra effectivement évaluer les expressions."
   ]
  },
  {
   "cell_type": "markdown",
   "metadata": {},
   "source": [
    "### AST (abstract syntax trees)\n",
    "\n",
    "Une façon de représenter un programme consiste à définir ce qu'on appelle une sytaxe abstraite, c'est à dire un ensemble de symboles qui permettent d'étiqueter les noeuds d'un arbre, lui même représentant fidèlement le programme.\n",
    "\n",
    "Quelques exemples :"
   ]
  },
  {
   "cell_type": "markdown",
   "metadata": {},
   "source": [
    "#### v1 : nombres et 4 opérations\n",
    "\n",
    "Pour les expressions simples faisant intervenir les 4 opérations, on peut s'en sortir avec disons 7 symboles : *Plus*, *Minus*, *Multiply* et *Divide*, pour les 4 opérations, *Integer* et *Float* pour modéliser les opérandes qui apparaissent en clair dans le code, et *Negative* pour l'opération unaire qui calcule l'opposé.\n",
    "\n",
    "Dans ce monde-là, on représentera par exemple\n",
    "  \n",
    "* le fragment `(30 + 40 + 50) * (20 - 15)`  \n",
    "  par l'arbre \n",
    "  ```\n",
    "  Multiply(Plus(Integer(30), Integer(40), Integer(50)),\n",
    "           Minus(Integer(20), Integer(15)))\n",
    "  ```\n",
    "                     }\n",
    "* et le fragment `(4 + 1.) / -(4. + 12)`  \n",
    "  par l'arbre \n",
    "  ```\n",
    "  Divide(Plus(Integer(4), Float(1)),\n",
    "         Negative(Plus(Float(4.), Integer(12))))\n",
    "  ```"
   ]
  },
  {
   "cell_type": "markdown",
   "metadata": {},
   "source": [
    "####  v2 : variables et affectations\n",
    "    \n",
    "Si on souhaite sophistiquer un peu davantage, on peut introduire l'affectation comme une expression.  \n",
    "\n",
    "On rappelle que l'affectation usuelle en Python est une instruction et pas une expression (il y a d'ailleurs un nouvel opérateur en Python-3.8 qui comble cette lacune).\n",
    "\n",
    "Nous nous écartons donc ici légèrement de la sémantique de Python, en décidant que dans notre langage une affectation est une expression, comme c'est le cas dans de nombreux langages réels (C++, Javascript,…)\n",
    "  \n",
    "Dans ce monde-ci, on ajoute 3 opérateurs : *Expressions*, *Assign* et *Variable*  \n",
    "et munis de ce vocabulaire on peut maintenant représenter\n",
    "  \n",
    "* le fragment  \n",
    "  ```\n",
    "  a := 20\n",
    "  a + 1\n",
    "  ```  \n",
    "* par l'arbre  \n",
    "  ```\n",
    "  Expressions(Assign(Variable(a), Int(20)),\n",
    "              Plus(Variable(a), Int(1)))\n",
    "  ```\n",
    "  "
   ]
  },
  {
   "cell_type": "markdown",
   "metadata": {},
   "source": [
    "## objectif\n",
    "\n",
    "À nouveau, dans cet exercice on ne souhaite pas adresser l'analyse syntaxique, mais on vous demande\n",
    "\n",
    "* d'implémenter les classes correspondant aux opérateurs de la syntaxe abstraite,\n",
    "* qui permettent à la fois de construire l'AST,\n",
    "* et de l'évaluer.\n",
    "\n",
    "Cela signifie qu'on doit pouvoir écrire par exemple :"
   ]
  },
  {
   "cell_type": "code",
   "execution_count": null,
   "metadata": {},
   "outputs": [],
   "source": [
    "from expressions import (\n",
    "    Integer, Float, Negative, Plus, Minus, Multiply, Divide)"
   ]
  },
  {
   "cell_type": "code",
   "execution_count": null,
   "metadata": {},
   "outputs": [],
   "source": [
    "# construire une expression\n",
    "expression = Multiply(Plus(Integer(30), Integer(40), Integer(50)),\n",
    "                      Minus(Integer(20), Integer(15)))"
   ]
  },
  {
   "cell_type": "code",
   "execution_count": null,
   "metadata": {},
   "outputs": [],
   "source": [
    "# et l'évaluer\n",
    "expression.eval()"
   ]
  },
  {
   "cell_type": "markdown",
   "metadata": {},
   "source": [
    "En outre, on s'efforcera de **factoriser au maximum le code**, et d'éviter dans toute mesure du possible les répétitions fastidieuses.\n",
    "\n",
    "L'objectif est d'obtenir un code maintenable, dans lequel on puisse facilement ajouter des *features* (nouveaux opérateurs notamment)."
   ]
  },
  {
   "cell_type": "markdown",
   "metadata": {},
   "source": [
    "## modalités"
   ]
  },
  {
   "cell_type": "markdown",
   "metadata": {},
   "source": [
    "Malheureusement cet exercice est trop complexe pour la mécanique d'auto-évaluation et les modalités habituelles de colonnes rouges et vertes.\n",
    "Pour vous convaincre que vous avez bien répondu à la question, nous fournissons quelques cellules de test.\n",
    "\n",
    "Parmi ce qui est attendu, à la construction des objets vous êtes censés vérifier qu'on **appelle** le **constructeur** avec un **nombre d'arguments correct**, et lancer une **exception `TypeError` sinon**."
   ]
  },
  {
   "cell_type": "code",
   "execution_count": null,
   "metadata": {},
   "outputs": [],
   "source": [
    "# assurez-vous aussi de bien avoir \"oublié\"\n",
    "# les classes que nous venons d'importer pour illustrer l'exemple\n",
    "del Integer, Float, Negative, Plus, Minus, Multiply, Divide"
   ]
  },
  {
   "cell_type": "markdown",
   "metadata": {},
   "source": [
    "*****"
   ]
  },
  {
   "cell_type": "code",
   "execution_count": null,
   "metadata": {},
   "outputs": [],
   "source": [
    "# votre code\n",
    "\n",
    "class Integer:\n",
    "    pass\n",
    "\n",
    "class Float:\n",
    "    pass\n",
    "\n",
    "class Negative:\n",
    "    pass\n",
    "\n",
    "class Plus:\n",
    "    pass\n",
    "\n",
    "class Minus:\n",
    "    pass\n",
    "\n",
    "class Multiply:\n",
    "    pass\n",
    "\n",
    "class Divide:\n",
    "    pass"
   ]
  },
  {
   "cell_type": "code",
   "execution_count": null,
   "metadata": {},
   "outputs": [],
   "source": [
    "# quelques tests\n",
    "tree = Multiply(\n",
    "    Plus(Multiply(Integer(10), Integer(2)), Integer(30)),\n",
    "    Multiply(Negative(Integer(4)), Integer(25)))\n",
    "\n",
    "assert tree.eval() == -5000"
   ]
  },
  {
   "cell_type": "code",
   "execution_count": null,
   "metadata": {},
   "outputs": [],
   "source": [
    "tree = Plus(Multiply(Integer(10), Integer(2)), \n",
    "            Negative(Negative(Integer(30))),\n",
    "            Minus(Integer(100), Integer(50)))\n",
    "\n",
    "assert tree.eval() == 100"
   ]
  },
  {
   "cell_type": "code",
   "execution_count": null,
   "metadata": {},
   "outputs": [],
   "source": [
    "tree = Multiply(\n",
    "    Plus(Integer(30), Integer(40), Integer(50)),\n",
    "        Minus(Integer(20), Integer(15)))\n",
    "\n",
    "assert tree.eval() == 600"
   ]
  },
  {
   "cell_type": "code",
   "execution_count": null,
   "metadata": {},
   "outputs": [],
   "source": [
    "tree = Negative(\n",
    "    Plus(Float(10), Negative(Integer(20))))\n",
    "\n",
    "assert tree.eval() == 10."
   ]
  },
  {
   "cell_type": "code",
   "execution_count": null,
   "metadata": {},
   "outputs": [],
   "source": [
    "tree = Divide(Integer(10), Integer(4))\n",
    "assert tree.eval() == 2.5"
   ]
  },
  {
   "cell_type": "code",
   "execution_count": null,
   "metadata": {},
   "outputs": [],
   "source": [
    "# ces cellules devraient toutes afficher OK\n",
    "try:\n",
    "    Multiply()\n",
    "except TypeError:\n",
    "    print(\"OK\")"
   ]
  },
  {
   "cell_type": "code",
   "execution_count": null,
   "metadata": {},
   "outputs": [],
   "source": [
    "try:\n",
    "    Plus(Integer(1))\n",
    "except TypeError:\n",
    "    print(\"OK\")"
   ]
  },
  {
   "cell_type": "code",
   "execution_count": null,
   "metadata": {},
   "outputs": [],
   "source": [
    "try:\n",
    "    Divide(Integer(10), Integer(20), Integer(30))\n",
    "except TypeError:\n",
    "    print(\"OK\")"
   ]
  },
  {
   "cell_type": "code",
   "execution_count": null,
   "metadata": {},
   "outputs": [],
   "source": [
    "try:\n",
    "    Negative(Integer(10), Integer(20))\n",
    "except TypeError:\n",
    "    print(\"OK\")"
   ]
  },
  {
   "cell_type": "markdown",
   "metadata": {},
   "source": [
    "****"
   ]
  },
  {
   "cell_type": "markdown",
   "metadata": {},
   "source": [
    "## v2"
   ]
  },
  {
   "cell_type": "markdown",
   "metadata": {},
   "source": [
    "une fois que vous avez fait ce premier noyau, vous pouvez étendre votre langage pour y ajouter l'affectation et les variables; la seule différence de taille par rapport au premier exercice est qu'il va nous falloir propager l'environnement (les valeurs des variables).\n",
    "\n",
    "pour cela je vous recommande d'envisager une méthode d'évaluation\n",
    "\n",
    "`expression.eval(env)`  plutôt que `expression.eval()` \n",
    "\n",
    "dans laquelle `env` est un dictionnaire."
   ]
  },
  {
   "cell_type": "markdown",
   "metadata": {},
   "source": [
    "## appendice"
   ]
  },
  {
   "cell_type": "markdown",
   "metadata": {},
   "source": [
    "un résumé des opérateurs et de leurs arités respectives"
   ]
  },
  {
   "cell_type": "markdown",
   "metadata": {
    "cell_style": "split"
   },
   "source": [
    "### v1\n",
    "\n",
    "| Opérateur | arité |\n",
    "|-----------|-------|\n",
    "| Integer   | 1     |\n",
    "| Float     | 1     |\n",
    "| Negative  | 1     |\n",
    "| Plus      | n>=2  |\n",
    "| Minus     | 2     |\n",
    "| Multiply  | n>=2  |\n",
    "| Divide    | 2     |\n"
   ]
  },
  {
   "cell_type": "markdown",
   "metadata": {
    "cell_style": "split"
   },
   "source": [
    "### v2\n",
    "\n",
    "| Opérateur   | arité |\n",
    "|-------------|-------|\n",
    "| Expressions | n>=1  |\n",
    "| Variable    | 1     |\n",
    "| Assignment  | 2     |\n"
   ]
  }
 ],
 "metadata": {
  "jupytext": {
   "cell_metadata_filter": "all",
   "notebook_metadata_filter": "all,-language_info",
   "text_representation": {
    "extension": ".py",
    "format_name": "percent",
    "format_version": "1.2",
    "jupytext_version": "1.2.4"
   }
  },
  "kernelspec": {
   "display_name": "Python 3",
   "language": "python",
   "name": "python3"
  },
  "language_info": {
   "codemirror_mode": {
    "name": "ipython",
    "version": 3
   },
   "file_extension": ".py",
   "mimetype": "text/x-python",
   "name": "python",
   "nbconvert_exporter": "python",
   "pygments_lexer": "ipython3",
   "version": "3.7.4"
  }
 },
 "nbformat": 4,
 "nbformat_minor": 2
}
