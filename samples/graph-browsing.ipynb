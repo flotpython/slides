{
 "cells": [
  {
   "cell_type": "markdown",
   "metadata": {},
   "source": [
    "<div class=\"licence\">\n",
    "<span>Licence CC BY-NC-ND</span>\n",
    "<span>Thierry Parmentelat &amp; Arnaud Legout</span>\n",
    "</div>"
   ]
  },
  {
   "cell_type": "markdown",
   "metadata": {},
   "source": [
    "### plus court chemin - algorithme de Dijkstra"
   ]
  },
  {
   "cell_type": "markdown",
   "metadata": {},
   "source": [
    "digression sur ce sujet\n"
   ]
  },
  {
   "cell_type": "code",
   "execution_count": null,
   "metadata": {},
   "outputs": [],
   "source": [
    "import graphviz"
   ]
  },
  {
   "cell_type": "code",
   "execution_count": null,
   "metadata": {},
   "outputs": [],
   "source": [
    "g = graphviz.Digraph(engine='dot')\n",
    "g.edge('v1', 'v3', label='5')\n",
    "g.edge('v1', 'v2', label='1')\n",
    "g.edge('v2', 'v3', label='1')\n",
    "g.edge('v3', 'v4', label='1')\n",
    "g.edge('v2', 'v4', label='3')\n",
    "g.edge('v2', 'v5', label='4')\n",
    "g.edge('v4', 'v5', label='1')\n",
    "g.edge('v4', 'v6', label='3')\n",
    "g.edge('v5', 'v6', label='1')\n",
    "g"
   ]
  },
  {
   "cell_type": "code",
   "execution_count": null,
   "metadata": {},
   "outputs": [],
   "source": [
    "graph = {\n",
    "    'v1': {'v3': 5, 'v2': 1},\n",
    "    'v3': {'v4': 1},\n",
    "    'v2': {'v3': 1, 'v4': 3},\n",
    "    'v4': {'v5': 1, 'v6': 3},\n",
    "    'v5': {'v6': 1},\n",
    "}"
   ]
  },
  {
   "cell_type": "code",
   "execution_count": null,
   "metadata": {},
   "outputs": [],
   "source": [
    "from math import inf\n",
    "\n",
    "class ClosestNext(dict):\n",
    "\n",
    "    def __init__(self):\n",
    "        self.min_vertex = None\n",
    "        self.min_distance = inf\n",
    "        \n",
    "    def record(self, vertex, total):\n",
    "        if vertex in self:\n",
    "            if total >= self[vertex]:\n",
    "                return\n",
    "        self[vertex] = total\n",
    "        if total < self.min_distance:\n",
    "            self.min_vertex = vertex\n",
    "            self.min_distance = total"
   ]
  },
  {
   "cell_type": "code",
   "execution_count": null,
   "metadata": {
    "slideshow": {
     "slide_type": "fragment"
    }
   },
   "outputs": [],
   "source": [
    "# calcule seulement la distance\n",
    "def shortest_distance(graph_data, src, dst):\n",
    "    explored = {src: 0}\n",
    "    while dst not in explored:\n",
    "        closest = ClosestNext()\n",
    "        for past_vertex in explored:\n",
    "            for next_vertex, distance in graph_data[past_vertex].items():\n",
    "                if next_vertex in explored:\n",
    "                    continue\n",
    "                closest.record(next_vertex, explored[past_vertex] + distance)\n",
    "\n",
    "        best_vertex = closest.min_vertex \n",
    "        # no progress: we're stuck\n",
    "        if not best_vertex:\n",
    "            print(f\"NOPE, {explored}\")\n",
    "            return\n",
    "        explored[best_vertex] = closest.min_distance\n",
    "    print(f\"YES ! shortest distance is {explored[dst]}\")"
   ]
  },
  {
   "cell_type": "code",
   "execution_count": null,
   "metadata": {},
   "outputs": [],
   "source": [
    "shortest_distance(graph, 'v1', 'v6')"
   ]
  },
  {
   "cell_type": "code",
   "execution_count": null,
   "metadata": {},
   "outputs": [],
   "source": [
    "from math import inf\n",
    "\n",
    "class ClosestPreviousNext(dict):\n",
    "\n",
    "    def __init__(self):\n",
    "        self.min_previous = None\n",
    "        self.min_vertex = None\n",
    "        self.min_distance = inf\n",
    "        \n",
    "    def record(self, previous, vertex, total):\n",
    "        if vertex in self:\n",
    "            if total >= self[vertex]:\n",
    "                return\n",
    "        self[vertex] = total\n",
    "        if total < self.min_distance:\n",
    "            self.min_previous = previous\n",
    "            self.min_vertex = vertex\n",
    "            self.min_distance = total"
   ]
  },
  {
   "cell_type": "code",
   "execution_count": null,
   "metadata": {
    "slideshow": {
     "slide_type": "fragment"
    }
   },
   "outputs": [],
   "source": [
    "# même algo mais mémorise aussi le chemin\n",
    "def shortest_path(graph_data, src, dst):\n",
    "    # on en garde un peu plus dans cette structure\n",
    "    explored = {src: (0, [src])}\n",
    "    while dst not in explored:\n",
    "        closest = ClosestPreviousNext()\n",
    "        for past_vertex in explored:\n",
    "            for next_vertex, distance in graph_data[past_vertex].items():\n",
    "                if next_vertex in explored:\n",
    "                    continue\n",
    "                closest.record(past_vertex, next_vertex, explored[past_vertex][0] + distance)\n",
    "\n",
    "        best_vertex = closest.min_vertex\n",
    "        best_previous = closest.min_previous\n",
    "        # no progress: we're stuck\n",
    "        if not best_vertex:\n",
    "            print(f\"NOPE, {explored}\")\n",
    "            return\n",
    "        explored[best_vertex] = (\n",
    "            closest.min_distance, explored[best_previous][1] + [best_vertex])\n",
    "    print(f\"YES ! shortest path is {explored[dst]}\")"
   ]
  },
  {
   "cell_type": "code",
   "execution_count": null,
   "metadata": {},
   "outputs": [],
   "source": [
    "shortest_path(graph, 'v1', 'v6')"
   ]
  }
 ],
 "metadata": {
  "kernelspec": {
   "display_name": "Python 3",
   "language": "python",
   "name": "python3"
  },
  "language_info": {
   "codemirror_mode": {
    "name": "ipython",
    "version": 3
   },
   "file_extension": ".py",
   "mimetype": "text/x-python",
   "name": "python",
   "nbconvert_exporter": "python",
   "pygments_lexer": "ipython3",
   "version": "3.7.2"
  },
  "notebookname": "NO HEADING 1 found",
  "version": "1.0"
 },
 "nbformat": 4,
 "nbformat_minor": 2
}
