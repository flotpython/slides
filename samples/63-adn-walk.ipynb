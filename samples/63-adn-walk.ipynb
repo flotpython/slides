{
 "cells": [
  {
   "cell_type": "markdown",
   "metadata": {},
   "source": [
    "<span style=\"float:left;\">Licence CC BY-NC-ND</span><span style=\"float:right;\">François Rechenmann &amp; Thierry Parmentelat&nbsp;<img src=\"media/inria-25.png\" style=\"display:inline\"></span><br/>"
   ]
  },
  {
   "cell_type": "markdown",
   "metadata": {},
   "source": [
    "# Promenade le long de l'ADN"
   ]
  },
  {
   "cell_type": "markdown",
   "metadata": {},
   "source": [
    "Nous allons voir dans ce complément une version exécutable de l'algorithme de la promenade le long de l'ADN."
   ]
  },
  {
   "cell_type": "markdown",
   "metadata": {},
   "source": [
    "Il s'agit donc de dessiner le parcours d'une séquence d'ADN, si chaque nucléotide `C`,  `A`, `G`, et `T` correspond à une direction dans le plan, pour rappel&nbsp;:"
   ]
  },
  {
   "cell_type": "markdown",
   "metadata": {},
   "source": [
    "![Extrait du transparent](media/directions.png)"
   ]
  },
  {
   "cell_type": "markdown",
   "metadata": {},
   "source": [
    "Mais dans l'immédiat, commençons par notre séquence habituelle"
   ]
  },
  {
   "cell_type": "code",
   "execution_count": null,
   "metadata": {},
   "outputs": [],
   "source": [
    "# la formule magique pour utiliser print() en python2 et python3\n",
    "from __future__ import print_function\n",
    "# pour que la division se comporte en python2 comme en python3\n",
    "from __future__ import division"
   ]
  },
  {
   "cell_type": "markdown",
   "metadata": {},
   "source": [
    "### La librairie `matplotlib`"
   ]
  },
  {
   "cell_type": "markdown",
   "metadata": {},
   "source": [
    "La librairie que nous allons utiliser pour dessiner le chemin s'appelle `matplotlib`, principalement parce qu'elle est d'un usage très répandu pour mettre en forme des résultats de calcul."
   ]
  },
  {
   "cell_type": "code",
   "execution_count": null,
   "metadata": {},
   "outputs": [],
   "source": [
    "# pour que les graphiques apparaissent dans le notebook\n",
    "%matplotlib inline\n",
    "# importation de la librairie\n",
    "import matplotlib.pyplot as pyplot\n",
    "\n",
    "# enfin: la taille à utiliser pour les figures\n",
    "import pylab\n",
    "pylab.rcParams['figure.figsize'] = 8., 8."
   ]
  },
  {
   "cell_type": "markdown",
   "metadata": {},
   "source": [
    "`matplotlib` va pouvoir très facilement dessiner le chemin qui nous intéresse, si on lui fournit deux listes de valeurs, qu'on appelle en général simplement `X` et `Y`, de même taille, et qui vont contenir les coordonnées des points par lesquels on passe.\n",
    "\n",
    "Voyons cela tout de suite sur un exemple construit \"à la main\": imaginons que l'on veuille dessiner un chemin qui passe par&nbsp;:\n",
    "\n",
    "* premier point (0, 0)\n",
    "* deuxième point (2, 1)\n",
    "* troisième point (1, 0)\n",
    "* quatrième point (3, 4)"
   ]
  },
  {
   "cell_type": "code",
   "execution_count": null,
   "metadata": {},
   "outputs": [],
   "source": [
    "# on construit la liste des abscisses\n",
    "X = [0, 2, 1, 3]\n",
    "# et la liste des ordonnées\n",
    "Y = [0, 1, 0, 4]"
   ]
  },
  {
   "cell_type": "markdown",
   "metadata": {},
   "source": [
    "Et pour dessiner il nous suffit alors d'appeler la fonction `plot` comme ceci&nbsp;:"
   ]
  },
  {
   "cell_type": "code",
   "execution_count": null,
   "metadata": {},
   "outputs": [],
   "source": [
    "pyplot.plot(X, Y)\n",
    "pyplot.show()"
   ]
  },
  {
   "cell_type": "markdown",
   "metadata": {},
   "source": [
    "### Des fonctions qui renvoient deux valeurs"
   ]
  },
  {
   "cell_type": "markdown",
   "metadata": {},
   "source": [
    "Donc pour dessiner un fragment d'ADN, le problème revient simplement à calculer les coordonnées des points du chemin, sous la forme d'une liste d'abscisses et une liste d'ordonnées."
   ]
  },
  {
   "cell_type": "markdown",
   "metadata": {},
   "source": [
    "Nous sommes donc confrontés au besoin d'écrire une fonction, mais qui doit renvoyer deux choses (la liste des abscisses et la liste des ordonnées), et idéalement en une seule passe pour être aussi efficace que possible. "
   ]
  },
  {
   "cell_type": "markdown",
   "metadata": {},
   "source": [
    "Il est très facile en python de renvoyer plusieurs valeurs dans une fonction. Souvenez-vous, dans le calcul des fréquences des bases, nous calculions déjà en un seul parcours les nombres d'occurrences des 4 bases. \n",
    "\n",
    "Revoyons ça à nouveau sur un premier exemple très simple&nbsp;: une fonction qui calcule le carré et le cube d'un nombre."
   ]
  },
  {
   "cell_type": "code",
   "execution_count": null,
   "metadata": {},
   "outputs": [],
   "source": [
    "# une fonction qui renvoie deux valeurs\n",
    "def square_and_cube(x):\n",
    "    carre = x * x\n",
    "    cube = x ** 3\n",
    "    # techniquement : on construit un tuple avec ces deux valeurs\n",
    "    return carre, cube"
   ]
  },
  {
   "cell_type": "markdown",
   "metadata": {},
   "source": [
    "Pour utiliser les deux résultats de la fonction, on utilise tout simplement cette syntaxe&nbsp;:"
   ]
  },
  {
   "cell_type": "code",
   "execution_count": null,
   "metadata": {},
   "outputs": [],
   "source": [
    "a, b = square_and_cube(5)\n",
    "print(\"a=\", a)\n",
    "print(\"b=\", b)"
   ]
  },
  {
   "cell_type": "markdown",
   "metadata": {},
   "source": [
    "### Utiliser un dictionnaire"
   ]
  },
  {
   "cell_type": "markdown",
   "metadata": {},
   "source": [
    "Avant de voir le parcours de l'ADN à proprement parler, il nous reste à décider comment représenter l'association entre d'une part les 4 lettres de notre alphabet `C`, `A`, `G` et `T`, et les déplacements correspondants dans le plan."
   ]
  },
  {
   "cell_type": "markdown",
   "metadata": {},
   "source": [
    "Pour cela, il est naturel en python d'utiliser un dictionnaire. Comme on l'a vu dans le complément sur les rudiments de python, un dictionnaire en python permet d'associer des valeurs à des clés comme ceci&nbsp;:"
   ]
  },
  {
   "cell_type": "code",
   "execution_count": null,
   "metadata": {},
   "outputs": [],
   "source": [
    "moves = {\n",
    "    'C' : [1, 0],\n",
    "    'A' : [0, 1],\n",
    "    'G' : [-1, 0],\n",
    "    'T' : [0, -1],\n",
    "    }"
   ]
  },
  {
   "cell_type": "markdown",
   "metadata": {},
   "source": [
    "De sorte que par exemple on pourra facilement calculer le déplacement à faire lorsqu'on voit passer un `C`&nbsp;:"
   ]
  },
  {
   "cell_type": "code",
   "execution_count": null,
   "metadata": {},
   "outputs": [],
   "source": [
    "moves['C']"
   ]
  },
  {
   "cell_type": "markdown",
   "metadata": {},
   "source": [
    "Ce qui signifie pour nous que lorsqu'on rencontre un `C`, il faut&nbsp;:\n",
    " * faire `+1` en x, \n",
    " * et ne rien faire (ajouter `0`) en y."
   ]
  },
  {
   "cell_type": "markdown",
   "metadata": {},
   "source": [
    "Que l'on peut écrire, en utilisant la même syntaxe que tout à l'heure&nbsp;:"
   ]
  },
  {
   "cell_type": "code",
   "execution_count": null,
   "metadata": {},
   "outputs": [],
   "source": [
    "delta_x, delta_y = moves['C']\n",
    "print(\"a ajouter en x\", delta_x)\n",
    "print(\"a ajouter en y\", delta_y)"
   ]
  },
  {
   "cell_type": "markdown",
   "metadata": {},
   "source": [
    "### Le parcours à proprement parler"
   ]
  },
  {
   "cell_type": "markdown",
   "metadata": {},
   "source": [
    "Nous avons à présent tous les éléments pour écrire une fonction, qui\n",
    "* prend en entrée un fragment d'ADN codé comme une chaine de caractères contenant les 4 abbréviations,\n",
    "* et qui retourne deux listes, correspondant aux X et aux Y respectivement, des points du chemin."
   ]
  },
  {
   "cell_type": "code",
   "execution_count": null,
   "metadata": {},
   "outputs": [],
   "source": [
    "# un algorithme qui calcule les deux chemins en x et y\n",
    "# en partant et en se deplaçant le long de la chaine\n",
    "def path_x_y(adn):\n",
    "    # initialise les résultats\n",
    "    path_x, path_y = [], []\n",
    "    # on commence au centre\n",
    "    x, y = 0, 0\n",
    "    # le point de départ fait partie du chemin\n",
    "    path_x.append(x)\n",
    "    path_y.append(y)\n",
    "\n",
    "    # pour tout l'ADN\n",
    "    for nucleotide in adn:\n",
    "        # quel deplacement faut-il faire\n",
    "        delta_x, delta_y = moves[nucleotide]\n",
    "        # on l'applique\n",
    "        x += delta_x\n",
    "        y += delta_y\n",
    "        # on range le point courant\n",
    "        # dans les listes resultat\n",
    "        path_x.append(x)\n",
    "        path_y.append(y)\n",
    "\n",
    "    return path_x, path_y"
   ]
  },
  {
   "cell_type": "markdown",
   "metadata": {},
   "source": [
    "Voyons ce que cela nous donne sur un tout petit brin d'ADN pour commencer&nbsp;:"
   ]
  },
  {
   "cell_type": "code",
   "execution_count": null,
   "metadata": {},
   "outputs": [],
   "source": [
    "small_adn = \"CAGACCACT\"\n",
    "X, Y = path_x_y(small_adn)\n",
    "print(\"les abscisses\", X)"
   ]
  },
  {
   "cell_type": "code",
   "execution_count": null,
   "metadata": {},
   "outputs": [],
   "source": [
    "pyplot.plot(X, Y)\n",
    "pyplot.show()"
   ]
  },
  {
   "cell_type": "markdown",
   "metadata": {},
   "source": [
    "### Un raccourci"
   ]
  },
  {
   "cell_type": "markdown",
   "metadata": {},
   "source": [
    "Si on veut tout mettre ensemble dans une seule fonction plus pratique à appeler&nbsp;:"
   ]
  },
  {
   "cell_type": "code",
   "execution_count": null,
   "metadata": {},
   "outputs": [],
   "source": [
    "def walk(adn):\n",
    "    print(\"longueur de la séquence d'entrée\", len(adn))\n",
    "    X, Y = path_x_y(adn)\n",
    "    pyplot.plot(X, Y)\n",
    "    pyplot.show()"
   ]
  },
  {
   "cell_type": "code",
   "execution_count": null,
   "metadata": {},
   "outputs": [],
   "source": [
    "walk(small_adn)"
   ]
  },
  {
   "cell_type": "markdown",
   "metadata": {},
   "source": [
    "### Des données plus grosses"
   ]
  },
  {
   "cell_type": "markdown",
   "metadata": {},
   "source": [
    "Si on prend par exemple le brin d'ADN qui est illustré dans le transparent de la séquence 7&nbsp;:"
   ]
  },
  {
   "cell_type": "code",
   "execution_count": null,
   "metadata": {},
   "outputs": [],
   "source": [
    "from adn_samples import sample_week1_sequence7\n",
    "print(sample_week1_sequence7)"
   ]
  },
  {
   "cell_type": "markdown",
   "metadata": {},
   "source": [
    "On peut le dessiner tout simplement comme ceci&nbsp;:"
   ]
  },
  {
   "cell_type": "code",
   "execution_count": null,
   "metadata": {},
   "outputs": [],
   "source": [
    "walk(sample_week1_sequence7)"
   ]
  },
  {
   "cell_type": "markdown",
   "metadata": {},
   "source": [
    "### Le résultat sur de vraies séquences"
   ]
  },
  {
   "cell_type": "markdown",
   "metadata": {},
   "source": [
    "Si vous allez vous promener sur http://www.ebi.ac.uk/ena, vous pouvez faire toutes sortes de recherches pour travailler sur des données réalistes. "
   ]
  },
  {
   "cell_type": "markdown",
   "metadata": {},
   "source": [
    "##### Un point de rebroussement très visible : Borrelia "
   ]
  },
  {
   "cell_type": "markdown",
   "metadata": {},
   "source": [
    "Pour le premier exemple nous allons regarder le résultat de notre visualisation avec *Borrelia*, que vous [pouvez consulter ici](http://www.ebi.ac.uk/ena/data/view/CP000013), ou retrouver en entrant dans [http://ebi.ac.uk/ena]() et en cherchant la clé `CP000013`. Nous l'avons chargé pour vous (voir plus loin comment vous pouvez charger d'autres spécimens à partir d'une autre clé)&nbsp;:"
   ]
  },
  {
   "cell_type": "code",
   "execution_count": null,
   "metadata": {},
   "outputs": [],
   "source": [
    "from adn_samples import borrelia\n",
    "print(\"taille de borrelia\", len(borrelia))"
   ]
  },
  {
   "cell_type": "markdown",
   "metadata": {},
   "source": [
    "Avec cet échantillon vous allez voir très distinctement un point de rebroussement apparaître&nbsp;:"
   ]
  },
  {
   "cell_type": "code",
   "execution_count": null,
   "metadata": {},
   "outputs": [],
   "source": [
    "walk(borrelia)"
   ]
  },
  {
   "cell_type": "markdown",
   "metadata": {},
   "source": [
    "##### Un contrexemple : Synechosystis"
   ]
  },
  {
   "cell_type": "markdown",
   "metadata": {},
   "source": [
    "A contrario, voici ce qu'on obtient avec *Synechosystis* (clé `BA000022`). Soyez patient car ce brin contient environ 3.5 millions de bases."
   ]
  },
  {
   "cell_type": "code",
   "execution_count": null,
   "metadata": {},
   "outputs": [],
   "source": [
    "from adn_samples import synechosystis\n",
    "walk(synechosystis)"
   ]
  },
  {
   "cell_type": "markdown",
   "metadata": {},
   "source": [
    "### Des données réelles"
   ]
  },
  {
   "cell_type": "markdown",
   "metadata": {},
   "source": [
    "Pour illustrer ce qu'il est possible de faire très simplement aujourd'hui, je suis allé [sur le site du Eureopan Nucleotide Archive](http://www.ebi.ac.uk/ena) j'ai cherché \"Borrelia burgdorferi B31\" et je suis arrivé à cette page&nbsp;:"
   ]
  },
  {
   "cell_type": "markdown",
   "metadata": {},
   "source": [
    "[http://www.ebi.ac.uk/ena/data/view/AE000783]()"
   ]
  },
  {
   "cell_type": "markdown",
   "metadata": {},
   "source": [
    "Nous vous fournissons un petit utilitaire (très sommaire) qui permet d'aller chercher de telles séquences pour les manipuler directement dans ce notebook&nbsp;:"
   ]
  },
  {
   "cell_type": "code",
   "execution_count": null,
   "metadata": {},
   "outputs": [],
   "source": [
    "import adn_fetch"
   ]
  },
  {
   "cell_type": "markdown",
   "metadata": {},
   "source": [
    "Que vous pouvez utiliser comme ceci à partir de la clé de la séquence qui vous intéresse&nbsp;:"
   ]
  },
  {
   "cell_type": "code",
   "execution_count": null,
   "metadata": {},
   "outputs": [],
   "source": [
    "burgdorferi = adn_fetch.fetch('AE000789')"
   ]
  },
  {
   "cell_type": "code",
   "execution_count": null,
   "metadata": {},
   "outputs": [],
   "source": [
    "# et que maintenant on peut donc dessiner aussi\n",
    "walk(burgdorferi)"
   ]
  },
  {
   "cell_type": "markdown",
   "metadata": {},
   "source": [
    "### Explorer le chemin de manière interactive"
   ]
  },
  {
   "cell_type": "markdown",
   "metadata": {},
   "source": [
    "`matplotlib` a été conçu au départ pour produire des courbes sur du papier. Nous concluons ce complément pour vous signaler une autre possibilité qui peut s'avérer intéressante dans certains cas. Dans le contexte d'un écran où on dispose d'une souris pour interagir, et notamment ici à l'intérieur d'un notebook, on va pouvoir \"explorer\" les détails du dessin."
   ]
  },
  {
   "cell_type": "markdown",
   "metadata": {},
   "source": [
    "Pour cela nous allons utiliser une librairie supplémentaire au dessus de `matplotlib`, qui s'appelle `mpld3`, voici comment cela se présente&nbsp;:"
   ]
  },
  {
   "cell_type": "code",
   "execution_count": null,
   "metadata": {},
   "outputs": [],
   "source": [
    "# pour pouvoir utiliser la librairie\n",
    "import mpld3"
   ]
  },
  {
   "cell_type": "markdown",
   "metadata": {},
   "source": [
    "Avec ce nouvel outil on va pouvoir afficher les même graphiques&nbsp;:"
   ]
  },
  {
   "cell_type": "code",
   "execution_count": null,
   "metadata": {},
   "outputs": [],
   "source": [
    "def zoomable_walk(adn):\n",
    "    print(\"longueur de la séquence d'entrée\", len(adn))\n",
    "    X, Y = path_x_y(adn)\n",
    "    pyplot.plot(X, Y)\n",
    "    # au lieu d'afficher le dessin avec pyplot.show()\n",
    "    # on retourne un objet HTML qui est rendu par le notebook\n",
    "    return mpld3.display()"
   ]
  },
  {
   "cell_type": "code",
   "execution_count": null,
   "metadata": {},
   "outputs": [],
   "source": [
    "zoomable_walk(sample_week1_sequence7)"
   ]
  },
  {
   "cell_type": "markdown",
   "metadata": {},
   "source": [
    "Mais avec en plus la possibilité de \"zoomer\" et de se déplacer dans le graphique avec les 3 petits outils qui apparaissent en bas à gauche lorsque votre souris survole le dessin&nbsp;:\n",
    "\n",
    "* Home: pour revenir à l'échelle de départ,\n",
    "* Déplacement: pour déplacer le point de vue et garder la même échelle,\n",
    "* Zoom: désignez un rectangle pour zoomer dans la figure."
   ]
  },
  {
   "cell_type": "markdown",
   "metadata": {},
   "source": [
    "Nous ne montrons toutefois cette possibilité plus à des fins ludiques que réellement utiles, car en pratique bien entendu on n'a guère le temps de se livrer à une inspection fine. On préfèrera adapter l'algorithme, comme on le verra dans une leçon ultérieure."
   ]
  }
 ],
 "metadata": {
  "kernelspec": {
   "display_name": "Python 2",
   "language": "python",
   "name": "python2"
  },
  "language_info": {
   "codemirror_mode": {
    "name": "ipython",
    "version": 2
   },
   "file_extension": ".py",
   "mimetype": "text/x-python",
   "name": "python",
   "nbconvert_exporter": "python",
   "pygments_lexer": "ipython2",
   "version": "2.7.12"
  },
  "notebookname": "Promenade le long de l'ADN",
  "version": "1.0"
 },
 "nbformat": 4,
 "nbformat_minor": 0
}
