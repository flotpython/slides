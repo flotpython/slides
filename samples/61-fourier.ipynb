{
 "cells": [
  {
   "cell_type": "markdown",
   "metadata": {},
   "source": [
    "# Visualizating the effect of the Fourier Transform"
   ]
  },
  {
   "cell_type": "markdown",
   "metadata": {},
   "source": [
    "## The periodic case"
   ]
  },
  {
   "cell_type": "markdown",
   "metadata": {},
   "source": [
    "### an input function"
   ]
  },
  {
   "cell_type": "markdown",
   "metadata": {},
   "source": [
    "Let's consider a periodic function such as this one"
   ]
  },
  {
   "cell_type": "code",
   "execution_count": null,
   "metadata": {},
   "outputs": [],
   "source": [
    "import numpy as np\n",
    "\n",
    "def f(t): \n",
    "    'sin(x) + sin(2x) + sin(3x) - 2'\n",
    "    return np.sin(t) + np.sin(2*t) + np.sin(3*t) - 2"
   ]
  },
  {
   "cell_type": "markdown",
   "metadata": {},
   "source": [
    "We can visualize it, just to get a glimpse, like this"
   ]
  },
  {
   "cell_type": "code",
   "execution_count": null,
   "metadata": {},
   "outputs": [],
   "source": [
    "import matplotlib as mpl\n",
    "\n",
    "import matplotlib.pyplot as plt\n",
    "from mpl_toolkits.mplot3d import Axes3D\n",
    "\n",
    "%matplotlib notebook"
   ]
  },
  {
   "cell_type": "code",
   "execution_count": null,
   "metadata": {},
   "outputs": [],
   "source": [
    "def plot(fun, domain):\n",
    "    image = fun(domain)\n",
    "    plt.plot(domain, image)\n",
    "    plt.title(f\"{fun.__doc__}\")\n",
    "    plt.show()\n",
    "\n",
    "# period is 2 pi, let us plot between 0 and 15 with a .001 step\n",
    "plot(f, np.linspace(0, 15, 100))"
   ]
  },
  {
   "cell_type": "markdown",
   "metadata": {},
   "source": [
    "### Its Fourier transform"
   ]
  },
  {
   "cell_type": "markdown",
   "metadata": {},
   "source": [
    "The Fourier Transform of $f$ is a function that will attach to each frequency $\\phi$ the value\n",
    "\n",
    "$Four(f): \\phi \\rightarrow \\int_{-\\infty}^{\\infty}f(t)e^{-2i\\pi\\phi t}dt$"
   ]
  },
  {
   "cell_type": "markdown",
   "metadata": {},
   "source": [
    "So the whole deal is to compute, for each frequency $\\phi$, the integral over $\\mathbb{R}$ of the complex function\n",
    "\n",
    "$ F_{\\phi}(t) = f(t)e^{-2i\\pi\\phi t}$\n",
    "\n",
    "And to get a grip on what this integral can be, we will represent this function in 3d, with axis X representing time, and axis Y and Z representing the real and imaginary part of $F_{\\phi}(t)$\n",
    "\n",
    "Now let's assume our initial $f$ function has real values itself, like in the case of a sound signal for example. In this case, $F$'s curve is essentially $f$'s curve but rotating around the X axis with frequency $\\phi$."
   ]
  },
  {
   "cell_type": "code",
   "execution_count": null,
   "metadata": {},
   "outputs": [],
   "source": [
    "import math\n",
    "\n",
    "mpl.rcParams['legend.fontsize'] = 12\n",
    "\n",
    "# we plot : F(t) = e**(-2iPI.f.x) * f(x) \n",
    "# x = t\n",
    "# y = real_part (F(t))\n",
    "# z = img_part (F(t))\n",
    "\n",
    "def rotating_plot (f, phi, rounds): \n",
    "    \"\"\"\n",
    "    Plotting function F for input <f> \n",
    "    at frequency <freq> over <rounds> rounds\n",
    "\n",
    "    since we want to span <rounds> rounds around the X axis,\n",
    "    we will have <t> range from 0 to 2*pi*rounds\n",
    "    \"\"\"\n",
    "    fig = plt.figure()\n",
    "    # initially show as if looking from infinite time\n",
    "    ax = fig.gca(projection='3d', azim = 0., elev=0.)\n",
    "    t = np.linspace(0, rounds * 2 * math.pi, 100 * rounds)\n",
    "    x = t\n",
    "    y = f(t)*np.cos(phi * t)\n",
    "    z = f(t)*np.sin(phi * t)\n",
    "    ax.plot(x, y, z,\n",
    "            label=f'Fourier for {f.__doc__} ||  phi={phi} on {rounds} rounds')\n",
    "    ax.legend()\n",
    "    plt.show()"
   ]
  },
  {
   "cell_type": "markdown",
   "metadata": {},
   "source": [
    "The one thing that you do need to understand is that, given the specific form of $F$ as it rotates around the time axis on a **uniform angular speed** $\\phi$, you can compute the integral in your head by finding out the **barycenter of the figure** that you get when looking at $F$ along the time (X) axis."
   ]
  },
  {
   "cell_type": "markdown",
   "metadata": {},
   "source": [
    "## The frequencies that resonate with f"
   ]
  },
  {
   "cell_type": "markdown",
   "metadata": {},
   "source": [
    "When computing $F$ with integer frequencies - that are thus multiple of the primary harmonic of f - you will see that each round repeats itself exactly, and so the overall integrap of $F$ has a non-nul value."
   ]
  },
  {
   "cell_type": "code",
   "execution_count": null,
   "metadata": {},
   "outputs": [],
   "source": [
    "from ipywidgets import interact, interactive, fixed\n",
    "from ipywidgets import SelectionSlider, IntSlider"
   ]
  },
  {
   "cell_type": "code",
   "execution_count": null,
   "metadata": {},
   "outputs": [],
   "source": [
    "# regular integers are resonating frequencies\n",
    "resonating_frequencies = SelectionSlider(\n",
    "    options = (1, 2, 3, 4)\n",
    ")\n"
   ]
  },
  {
   "cell_type": "code",
   "execution_count": null,
   "metadata": {},
   "outputs": [],
   "source": [
    "# on a fixed number of rounds \n",
    "interact(rotating_plot, f=fixed(f), rounds=fixed(20), phi=resonating_frequencies);"
   ]
  },
  {
   "cell_type": "markdown",
   "metadata": {},
   "source": [
    "## The frequencies that do not resonate with f"
   ]
  },
  {
   "cell_type": "markdown",
   "metadata": {},
   "source": [
    "Still looking at F along the time axis, the following values for the frequencies do not resonate. After a sufficient number of rounds, you can see that the picture is centered on (0, 0) and this is why the overall integral is nul.\n"
   ]
  },
  {
   "cell_type": "code",
   "execution_count": null,
   "metadata": {},
   "outputs": [],
   "source": [
    "# these frequencies do not resonate\n",
    "disonating_freqs = SelectionSlider(options = [ 1.01, 1.1, 1.5, 1.52 ])\n",
    "# pushing the number of rounds for frequencies like 1.01 that is almost right\n",
    "rounds = IntSlider(min=10, max=120, step=5, continuous_update=False)"
   ]
  },
  {
   "cell_type": "code",
   "execution_count": null,
   "metadata": {},
   "outputs": [],
   "source": [
    "interact(rotating_plot, f=fixed(f), phi=disonating_freqs, rounds=rounds);"
   ]
  }
 ],
 "metadata": {
  "kernelspec": {
   "display_name": "Python 3",
   "language": "python",
   "name": "python3"
  },
  "language_info": {
   "codemirror_mode": {
    "name": "ipython",
    "version": 3
   },
   "file_extension": ".py",
   "mimetype": "text/x-python",
   "name": "python",
   "nbconvert_exporter": "python",
   "pygments_lexer": "ipython3",
   "version": "3.7.3"
  }
 },
 "nbformat": 4,
 "nbformat_minor": 1
}
