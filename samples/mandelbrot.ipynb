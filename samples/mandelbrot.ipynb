{
 "cells": [
  {
   "cell_type": "markdown",
   "metadata": {
    "run_control": {
     "frozen": false,
     "read_only": false
    }
   },
   "source": [
    "<div class=\"licence\">\n",
    "<span>Licence CC BY-NC-ND</span>\n",
    "<span>Thierry Parmentelat &amp; Arnaud Legout</span>\n",
    "</div>"
   ]
  },
  {
   "cell_type": "code",
   "execution_count": null,
   "metadata": {
    "run_control": {
     "frozen": false,
     "read_only": false
    },
    "slideshow": {
     "slide_type": "slide"
    }
   },
   "outputs": [],
   "source": [
    "import numpy as np\n",
    "import matplotlib.pyplot as plt\n",
    "%pylab inline\n",
    "plt.ion()"
   ]
  },
  {
   "cell_type": "markdown",
   "metadata": {
    "run_control": {
     "frozen": false,
     "read_only": false
    }
   },
   "source": [
    "## exercice\n",
    "\n",
    "calculer l'image de la convergence de mandelbrot:\n",
    "\n",
    "![](pictures/mandelbrot.png)"
   ]
  },
  {
   "cell_type": "markdown",
   "metadata": {
    "cell_style": "split",
    "run_control": {
     "frozen": false,
     "read_only": false
    },
    "slideshow": {
     "slide_type": "slide"
    }
   },
   "source": [
    "* dans l'espace complexe où\n",
    "   * $re \\in [-2, 0.8]$\n",
    "   * $im \\in [-1.4, 1.4]$\n",
    "* on définit pour chaque $c\\in\\mathbb{C}$ la suite\n",
    "   * $z_0 = c$\n",
    "   * $z_{n+1} = z_n^2 + c$\n",
    "* on démontre que \n",
    "  * lorsque $|z_n|>2$, la suite diverge"
   ]
  },
  {
   "cell_type": "markdown",
   "metadata": {
    "cell_style": "split",
    "run_control": {
     "frozen": false,
     "read_only": false
    },
    "slideshow": {
     "slide_type": "-"
    }
   },
   "source": [
    "il s'agit pour nous de \n",
    "\n",
    "* découper ce pavé \n",
    "  * en un maillage de $w$ x $h$ points\n",
    "* pour chacun, calculer si la suite diverge\n",
    "  * avant un nombre d'itérations fixe\n",
    "* afficher l'image obtenue avec `plt.imshow`"
   ]
  },
  {
   "cell_type": "markdown",
   "metadata": {
    "run_control": {
     "frozen": false,
     "read_only": false
    },
    "slideshow": {
     "slide_type": "slide"
    }
   },
   "source": [
    "* une adaptation libre de l'[implementation proposée dans le tutorial scipy](https://docs.scipy.org/doc/numpy/user/quickstart.html#indexing-with-boolean-arrays)\n",
    "* surtout pour remplacer `ogrid` \n",
    "* par une combinaison de `linspace` et `ix_`"
   ]
  },
  {
   "cell_type": "code",
   "execution_count": null,
   "metadata": {
    "run_control": {
     "frozen": false,
     "read_only": false
    },
    "slideshow": {
     "slide_type": "slide"
    }
   },
   "outputs": [],
   "source": [
    "# it's a little confusing that \n",
    "# real part = column = second dimension\n",
    "# imag part = line =   first  dimension\n",
    "\n",
    "def mandlebrot(h, w, maxit=20):\n",
    "    re = np.linspace( -2.0, 0.8, w)\n",
    "    im = np.linspace( -1.4, 1.4, h)\n",
    "    # that's where it plays out\n",
    "    y, x = np.ix_(im, re)\n",
    "    # \n",
    "    c = x + 1j * y\n",
    "    # initialize z \n",
    "    z = c\n",
    "    # will contain the iteration where a divergence was found\n",
    "    diverge_iteration = maxit + np.zeros( c.shape, dtype=int)\n",
    "\n",
    "    for iteration in range(maxit):\n",
    "        # create a new z array - c is left intact\n",
    "        z = z * z + c\n",
    "        # the complexes that diverged before this iteration\n",
    "        bool_diverge = z * np.conj(z) > 4\n",
    "        # the ones that diverged exactly at this iteration\n",
    "        bool_diverge_now = bool_diverge & (diverge_iteration == maxit)\n",
    "        # mark these\n",
    "        diverge_iteration[bool_diverge_now] = iteration\n",
    "        # avoid diverging too much ?\n",
    "        z[bool_diverge] = 2\n",
    "\n",
    "    return diverge_iteration"
   ]
  },
  {
   "cell_type": "code",
   "execution_count": null,
   "metadata": {
    "run_control": {
     "frozen": false,
     "read_only": false
    },
    "slideshow": {
     "slide_type": "slide"
    }
   },
   "outputs": [],
   "source": [
    "plt.figure(figsize=(12, 12))\n",
    "plt.imshow(mandlebrot(1024, 1024));"
   ]
  }
 ],
 "metadata": {
  "celltoolbar": "Slideshow",
  "kernelspec": {
   "display_name": "Python 3",
   "language": "python",
   "name": "python3"
  },
  "language_info": {
   "codemirror_mode": {
    "name": "ipython",
    "version": 3
   },
   "file_extension": ".py",
   "mimetype": "text/x-python",
   "name": "python",
   "nbconvert_exporter": "python",
   "pygments_lexer": "ipython3",
   "version": "3.7.0"
  },
  "livereveal": {
   "height": 1024,
   "start_slideshow_at": "selected",
   "theme": "simple",
   "transition": "cube",
   "width": 1280
  },
  "notebookname": "Mandelbrot",
  "toc": {
   "colors": {
    "hover_highlight": "#DAA520",
    "running_highlight": "#FF0000",
    "selected_highlight": "#FFD700"
   },
   "moveMenuLeft": true,
   "nav_menu": {
    "height": "30px",
    "width": "253px"
   },
   "navigate_menu": true,
   "number_sections": true,
   "sideBar": true,
   "threshold": "2",
   "toc_cell": false,
   "toc_section_display": "block",
   "toc_window_display": false,
   "widenNotebook": false
  },
  "version": "1.0"
 },
 "nbformat": 4,
 "nbformat_minor": 2
}
