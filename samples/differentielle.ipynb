{
 "cells": [
  {
   "cell_type": "markdown",
   "metadata": {},
   "source": [
    "quelques notes prises en relisant le pdf de Séb"
   ]
  },
  {
   "cell_type": "code",
   "execution_count": null,
   "metadata": {},
   "outputs": [],
   "source": [
    "import math\n",
    "import numpy as np"
   ]
  },
  {
   "cell_type": "markdown",
   "metadata": {},
   "source": [
    "dans le pdf on dit qu'on fait intervenir\n",
    "une classe Node pour une sombre histoire de `__radd__`;\n",
    "j'ai trouvé l'argument fallacieux, si on introduit\n",
    "Node c'est pour une raison très différente !"
   ]
  },
  {
   "cell_type": "code",
   "execution_count": null,
   "metadata": {},
   "outputs": [],
   "source": [
    "class Float(float):\n",
    "\n",
    "    def __add__(self, other):\n",
    "        print('adding')\n",
    "        result = super().__add__(other)\n",
    "        if isinstance(result, Float):\n",
    "            return result\n",
    "        else:\n",
    "            return Float(result)\n",
    "\n",
    "    __radd__ = __add__\n",
    "        "
   ]
  },
  {
   "cell_type": "markdown",
   "metadata": {},
   "source": [
    "# Conserver la structure du calcul"
   ]
  },
  {
   "cell_type": "markdown",
   "metadata": {},
   "source": [
    "la classe Node serait plus jolie si on décidait qu'elle accepte \n",
    "un nombre variable d'arguments, plutôt que la liste qui est assez moche\n",
    "\n",
    "aussi j'ai trouvé que de remettre le `repr()` dans l'ordre $f(x,y) = z$ était plus lisible\n",
    "\n",
    "ne serait-il pas bienvenu d'appeler ça un arbre syntaxique ?"
   ]
  },
  {
   "cell_type": "code",
   "execution_count": null,
   "metadata": {},
   "outputs": [],
   "source": [
    "class Node:\n",
    "    def __init__(self, value, function=None, *args):\n",
    "        self.value = value\n",
    "        self.function = function\n",
    "        self.args = args\n",
    "        \n",
    "    def __repr__(self):\n",
    "        if self.function is None:\n",
    "            return f\"Node({self.value})\"\n",
    "        else:\n",
    "            function_name = self.function.__qualname__\n",
    "            pretty_args = ', '.join(repr(arg) for arg in self.args)\n",
    "            return f\"{function_name}({pretty_args})={self.value}\""
   ]
  },
  {
   "cell_type": "code",
   "execution_count": null,
   "metadata": {},
   "outputs": [],
   "source": [
    "def wrap(function):\n",
    "    \n",
    "    def wrapper(*args):\n",
    "        if any(isinstance(arg, Node) for arg in args):\n",
    "            node_args = []\n",
    "            values = []\n",
    "            for arg in args:\n",
    "                if isinstance(arg, Node):\n",
    "                    node_args.append(arg)\n",
    "                    values.append(arg.value)\n",
    "                else:\n",
    "                    node_args.append(Node(arg))\n",
    "                    values.append(arg)\n",
    "            return Node(function(*values), wrapper, *node_args)\n",
    "        else:\n",
    "            return function(*args)\n",
    "        \n",
    "    wrapper.__qualname__ = function.__qualname__\n",
    "    return wrapper"
   ]
  },
  {
   "cell_type": "code",
   "execution_count": null,
   "metadata": {},
   "outputs": [],
   "source": [
    "import operator\n",
    "\n",
    "add = wrap(operator.add)\n",
    "Node.__add__ = Node.__radd__ = add\n",
    "mul = wrap(operator.mul)\n",
    "Node.__mul__ = Node.__rmul__ = mul"
   ]
  },
  {
   "cell_type": "code",
   "execution_count": null,
   "metadata": {},
   "outputs": [],
   "source": [
    "sin = wrap(math.sin)\n",
    "cos = wrap(math.cos)"
   ]
  },
  {
   "cell_type": "code",
   "execution_count": null,
   "metadata": {},
   "outputs": [],
   "source": [
    "# mais pourquoi ça s'appelle trace si on n'écrit rien à l'écran ?\n",
    "\n",
    "def trace(function, *args):\n",
    "    return function(*(Node(arg) for arg in args))"
   ]
  },
  {
   "cell_type": "code",
   "execution_count": null,
   "metadata": {},
   "outputs": [],
   "source": [
    "def f(x):\n",
    "    return 1.0 + cos(x)"
   ]
  },
  {
   "cell_type": "code",
   "execution_count": null,
   "metadata": {},
   "outputs": [],
   "source": [
    "from math import pi\n",
    "zero = trace(f, pi)\n",
    "zero"
   ]
  },
  {
   "cell_type": "code",
   "execution_count": null,
   "metadata": {},
   "outputs": [],
   "source": [
    "zero"
   ]
  },
  {
   "cell_type": "code",
   "execution_count": null,
   "metadata": {},
   "outputs": [],
   "source": [
    "def f1(x, y):\n",
    "    return x * (x + y)\n",
    "trace(f1, 1.0, 2.0)"
   ]
  },
  {
   "cell_type": "markdown",
   "metadata": {},
   "source": [
    "# Calcul automatique des dérivées"
   ]
  },
  {
   "cell_type": "markdown",
   "metadata": {},
   "source": [
    "## Différentielles des fonctions élémentaires"
   ]
  },
  {
   "cell_type": "code",
   "execution_count": null,
   "metadata": {},
   "outputs": [],
   "source": [
    "registry = {}\n",
    "\n",
    "registry[add] = lambda x, y: lambda dx, dy: dx +dy\n",
    "# en version équivalente :\n",
    "#def d_add(x, y):\n",
    "#    return add\n",
    "#registry[add] = d_add\n",
    "\n",
    "registry[mul] = lambda x, y: lambda dx, dy: x*dy + y*dx\n",
    "#def d_mul(x, y):\n",
    "#    return lambda dx, dy: x*dy + y*dx\n",
    "#registry[mul] = d_mul"
   ]
  },
  {
   "cell_type": "code",
   "execution_count": null,
   "metadata": {},
   "outputs": [],
   "source": [
    "def differential_from_derivative(derivative):\n",
    "    return lambda x: lambda dx: derivative(x) * dx\n",
    "\n",
    "def minus_sin(x):\n",
    "    return - sin(x)"
   ]
  },
  {
   "cell_type": "code",
   "execution_count": null,
   "metadata": {},
   "outputs": [],
   "source": [
    "registry[cos] = differential_from_derivative(minus_sin)\n",
    "registry[sin] = differential_from_derivative(cos)"
   ]
  },
  {
   "cell_type": "markdown",
   "metadata": {},
   "source": [
    "**version Sébastien**"
   ]
  },
  {
   "cell_type": "markdown",
   "metadata": {
    "slideshow": {
     "slide_type": "slide"
    }
   },
   "source": [
    "```python\n",
    "# la version de Sébastien\n",
    "# pas très pythonique à mon humble avis\n",
    "def find_and_sort_nodes(end_node):\n",
    "    todo = [end_node]\n",
    "    nodes = []\n",
    "    while todo:\n",
    "        node = todo.pop()\n",
    "        nodes.append(node)\n",
    "        for parent in node.args:\n",
    "            if parent not in nodes + todo:\n",
    "                todo.append(parent)\n",
    "    done = []\n",
    "    while nodes:\n",
    "        for node in nodes[:]:\n",
    "            if all(parent in done for parent in node.args):\n",
    "                done.append(node)\n",
    "                nodes.remove(node)\n",
    "return done\n",
    "```"
   ]
  },
  {
   "cell_type": "markdown",
   "metadata": {},
   "source": [
    "**première ébauche**"
   ]
  },
  {
   "cell_type": "markdown",
   "metadata": {},
   "source": [
    "```python\n",
    "# une proposition pour un simple parcours en\n",
    "# profondeur d'abord \n",
    "# \n",
    "# cette version a l'avantage d'être simple \n",
    "# mais elle duplique les noeuds qui apparaissent\n",
    "# plusieurs fois dans l'expression\n",
    "# \n",
    "def deep_first_scan(node):\n",
    "    if node.function:\n",
    "        for arg in node.args:\n",
    "            yield from deep_first_scan(arg)\n",
    "    yield node\n",
    "```"
   ]
  },
  {
   "cell_type": "code",
   "execution_count": null,
   "metadata": {},
   "outputs": [],
   "source": [
    "# pour éviter la duplication il faut \n",
    "# en effet complexifier ce qui rend \n",
    "# la démarche moins avantageuse \n",
    "# puisque justement on cherchait à simplifier\n",
    "\n",
    "def deep_first_scan(entry_point):\n",
    "    scanned = set()\n",
    "    def recursive(node):\n",
    "        if node in scanned:\n",
    "            return\n",
    "        if node.function:\n",
    "            for arg in node.args:\n",
    "                yield from recursive(arg)\n",
    "        yield node\n",
    "        scanned.add(node)\n",
    "    yield from recursive(entry_point)"
   ]
  },
  {
   "cell_type": "code",
   "execution_count": null,
   "metadata": {},
   "outputs": [],
   "source": [
    "# pour tester le parcours\n",
    "\n",
    "node = trace(f1, 3.0, 10.0)\n",
    "print(f\"subject node:\\n\\t{node}\\n\")\n",
    "\n",
    "for i, nav in enumerate(deep_first_scan(node), 1):\n",
    "    print(i, nav, id(nav))"
   ]
  },
  {
   "cell_type": "code",
   "execution_count": null,
   "metadata": {},
   "outputs": [],
   "source": [
    "def d(f):\n",
    "    def df(*args): # args=(x1, x2, ...)\n",
    "        start_nodes = [Node(arg) for arg in args]\n",
    "        end_node = f(*start_nodes)\n",
    "        if not isinstance(end_node, Node): # constant value\n",
    "                end_node = Node(end_node)\n",
    "\n",
    "        def df_x(*d_args): # d_args = (d_x1, d_x2, ...)\n",
    "            for node in deep_first_scan(end_node):\n",
    "                if node in start_nodes:\n",
    "                    i = start_nodes.index(node)\n",
    "                    node.d_value = d_args[i]\n",
    "                elif node.function is None: # constant node\n",
    "                    node.d_value = 0.0\n",
    "                else:\n",
    "                    _d_f = registry[node.function]\n",
    "                    _args = node.args\n",
    "                    _args_values = (_node.value for _node in _args)\n",
    "                    _d_args = (_node.d_value for _node in _args)\n",
    "                    node.d_value = _d_f(*_args_values)(*_d_args)\n",
    "            return end_node.d_value\n",
    "        return df_x\n",
    "    return df"
   ]
  },
  {
   "cell_type": "code",
   "execution_count": null,
   "metadata": {},
   "outputs": [],
   "source": [
    "def deriv(f):\n",
    "    df = d(f)\n",
    "    def deriv_f(x):\n",
    "        return df(x)(1.0)\n",
    "    return deriv_f"
   ]
  },
  {
   "cell_type": "markdown",
   "metadata": {},
   "source": [
    "$f: x \\rightarrow \\pi$"
   ]
  },
  {
   "cell_type": "code",
   "execution_count": null,
   "metadata": {},
   "outputs": [],
   "source": [
    "def constant(x):\n",
    "    return math.pi\n",
    "\n",
    "deriv(constant)(0) == 0 and deriv(constant)(pi) == 0"
   ]
  },
  {
   "cell_type": "markdown",
   "metadata": {},
   "source": [
    "$f: x\\rightarrow 2x+3$"
   ]
  },
  {
   "cell_type": "code",
   "execution_count": null,
   "metadata": {},
   "outputs": [],
   "source": [
    "def affine(x):\n",
    "    return 2*x + 3\n",
    "\n",
    "deriv(affine)(4) == 2"
   ]
  },
  {
   "cell_type": "markdown",
   "metadata": {},
   "source": [
    "$f: x\\rightarrow x^2 + 2x +1$"
   ]
  },
  {
   "cell_type": "code",
   "execution_count": null,
   "metadata": {},
   "outputs": [],
   "source": [
    "def poly2(x):\n",
    "    return x*x + 2*x + 1\n",
    "\n",
    "(   deriv(poly2)(0) == 2.0\n",
    "and deriv(poly2)(1) == 4.0\n",
    "and deriv(poly2)(2) == 6.0)"
   ]
  },
  {
   "cell_type": "markdown",
   "metadata": {},
   "source": [
    "$f: x\\rightarrow cos^2x + sin^2x$ (fonction constante = 1)"
   ]
  },
  {
   "cell_type": "code",
   "execution_count": null,
   "metadata": {},
   "outputs": [],
   "source": [
    "def circle_radius(x):\n",
    "    return cos(x)*cos(x) + sin(x)*sin(x)\n",
    "\n",
    "deriv(circle_radius)(1) == 0"
   ]
  },
  {
   "cell_type": "code",
   "execution_count": null,
   "metadata": {},
   "outputs": [],
   "source": [
    "deriv(circle_radius)(pi/2) == 0"
   ]
  },
  {
   "cell_type": "markdown",
   "metadata": {},
   "source": [
    "$f: x\\rightarrow sin(x) . cos(x)$"
   ]
  },
  {
   "cell_type": "code",
   "execution_count": null,
   "metadata": {},
   "outputs": [],
   "source": [
    "def sincos(x):\n",
    "    return cos(x) * sin(x)\n",
    "\n",
    "\n",
    "# manual derivation\n",
    "def sincos_prime(x):\n",
    "    return cos(x)*cos(x) - sin(x)*sin(x)"
   ]
  },
  {
   "cell_type": "code",
   "execution_count": null,
   "metadata": {},
   "outputs": [],
   "source": [
    "# for x in 0, pi/4, pi/2:\n",
    "#    expected = sincos_prime(x)\n",
    "#    computed = deriv(sincos)(x)\n",
    "#    print(f\"{x:.4g} → {expected:.4g} {'ok' if computed == expected else computed}\")"
   ]
  },
  {
   "cell_type": "code",
   "execution_count": null,
   "metadata": {},
   "outputs": [],
   "source": [
    "(   deriv(sincos)(0) == 1\n",
    "and np.isclose(deriv(sincos)(pi/4), 0.)\n",
    "and deriv(sincos)(pi/2) == -1)"
   ]
  },
  {
   "cell_type": "code",
   "execution_count": null,
   "metadata": {},
   "outputs": [],
   "source": [
    "(   derivbis(poly2)(0) == 2.0\n",
    "and derivbis(poly2)(1) == 4.0\n",
    "and derivbis(poly2)(2) == 6.0)"
   ]
  }
 ],
 "metadata": {
  "kernelspec": {
   "display_name": "Python 3",
   "language": "python",
   "name": "python3"
  },
  "language_info": {
   "codemirror_mode": {
    "name": "ipython",
    "version": 3
   },
   "file_extension": ".py",
   "mimetype": "text/x-python",
   "name": "python",
   "nbconvert_exporter": "python",
   "pygments_lexer": "ipython3",
   "version": "3.7.3"
  }
 },
 "nbformat": 4,
 "nbformat_minor": 2
}
