{
 "cells": [
  {
   "cell_type": "markdown",
   "metadata": {},
   "source": [
    "<div class=\"licence\">\n",
    "<span>Licence CC BY-NC-ND</span>\n",
    "<span>Thierry Parmentelat &amp; Arnaud Legout</span>\n",
    "</div>"
   ]
  },
  {
   "cell_type": "markdown",
   "metadata": {
    "cell_style": "split"
   },
   "source": [
    "# airports & airlines"
   ]
  },
  {
   "cell_type": "markdown",
   "metadata": {
    "cell_style": "split"
   },
   "source": [
    "### mise en forme de données depuis https://openflights.org/data.html"
   ]
  },
  {
   "cell_type": "markdown",
   "metadata": {},
   "source": [
    "### aller chercher une URL"
   ]
  },
  {
   "cell_type": "code",
   "execution_count": null,
   "metadata": {},
   "outputs": [],
   "source": [
    "# commençons par la liste des aéroports\n",
    "airports_url = \"https://raw.githubusercontent.com/jpatokal/openflights/master/data/airports.dat\""
   ]
  },
  {
   "cell_type": "markdown",
   "metadata": {},
   "source": [
    "pour aller chercher une url comme celle-ci, on utilise typiquement le module `requests`"
   ]
  },
  {
   "cell_type": "code",
   "execution_count": null,
   "metadata": {},
   "outputs": [],
   "source": [
    "import requests"
   ]
  },
  {
   "cell_type": "markdown",
   "metadata": {},
   "source": [
    "qui s'utilise en deux temps"
   ]
  },
  {
   "cell_type": "code",
   "execution_count": null,
   "metadata": {},
   "outputs": [],
   "source": [
    "# la réponse donne juste le code http\n",
    "response = requests.get(airports_url)\n",
    "\n",
    "response"
   ]
  },
  {
   "cell_type": "code",
   "execution_count": null,
   "metadata": {},
   "outputs": [],
   "source": [
    "# pour obtenir le contenu \n",
    "dat = response.text"
   ]
  },
  {
   "cell_type": "markdown",
   "metadata": {},
   "source": [
    "regardons un échantillon à la fin de la chaine"
   ]
  },
  {
   "cell_type": "code",
   "execution_count": null,
   "metadata": {},
   "outputs": [],
   "source": [
    "dat[-200:]"
   ]
  },
  {
   "cell_type": "markdown",
   "metadata": {},
   "source": [
    "### découpage"
   ]
  },
  {
   "cell_type": "markdown",
   "metadata": {},
   "source": [
    "on voit que les lignes sont séparées par des `\\n`, on découpe donc"
   ]
  },
  {
   "cell_type": "code",
   "execution_count": null,
   "metadata": {},
   "outputs": [],
   "source": [
    "# le nom de variable nous indique qu'il s'agit d'une liste de chaines, \n",
    "# chacune correpondant à un aéroport\n",
    "airport_strs = dat.split(\"\\n\")"
   ]
  },
  {
   "cell_type": "markdown",
   "metadata": {},
   "source": [
    "**attention**: comme le texte contient un dernier `\\n`, `split()` nous renvoie du coup un **dernier élément** qui est une **chaine vide**, il faudra s'en souvenir"
   ]
  },
  {
   "cell_type": "code",
   "execution_count": null,
   "metadata": {},
   "outputs": [],
   "source": [
    "airport_strs[-3:]"
   ]
  },
  {
   "cell_type": "markdown",
   "metadata": {},
   "source": [
    "si on regarde un échantillon, un aéroport est décrit par une chaine qui ressemble à ceci"
   ]
  },
  {
   "cell_type": "code",
   "execution_count": null,
   "metadata": {},
   "outputs": [],
   "source": [
    "airport_line = airport_strs[100]\n",
    "airport_line"
   ]
  },
  {
   "cell_type": "markdown",
   "metadata": {},
   "source": [
    "### digression: `sanitize`"
   ]
  },
  {
   "cell_type": "markdown",
   "metadata": {},
   "source": [
    "on voit que chaque ligne a des champs séparés par une virgule, et que certains de ces champs - les chaines - commencent et finissent par un guillemet\n",
    "\n",
    "première idée pour ne pas trop s'embêter:\n",
    "\n",
    "* on découpe la ligne avec les `,`\n",
    "* et on enlève les guillemets de début et de fin de chaque champ"
   ]
  },
  {
   "cell_type": "markdown",
   "metadata": {},
   "source": [
    "**risque** ce qu'on risque, ce serait qu'il y ait des vraies virgules à l'intérieur des quotes; dans ce cas-là il faudra écrire une expression régulière; mais c'est compliqué, alors on fait vite et sale"
   ]
  },
  {
   "cell_type": "code",
   "execution_count": null,
   "metadata": {},
   "outputs": [],
   "source": [
    "def sanitize(string):\n",
    "    \"\"\"\n",
    "    enleve les \" s'ils sont présents au début\n",
    "    et à la fin de la chaine\n",
    "    \"\"\"\n",
    "    # par prudence\n",
    "    if len(string) <= 1:\n",
    "        return string\n",
    "    if string[0] == '\"' and string[-1] == '\"':\n",
    "        return string[1:-1]\n",
    "    return string"
   ]
  },
  {
   "cell_type": "code",
   "execution_count": null,
   "metadata": {
    "cell_style": "split"
   },
   "outputs": [],
   "source": [
    "# cas de coin : un seul caractère\n",
    "print(sanitize('\"'))"
   ]
  },
  {
   "cell_type": "code",
   "execution_count": null,
   "metadata": {
    "cell_style": "split"
   },
   "outputs": [],
   "source": [
    "# une chaine normale\n",
    "print(sanitize(\"abc\"))"
   ]
  },
  {
   "cell_type": "code",
   "execution_count": null,
   "metadata": {
    "cell_style": "split"
   },
   "outputs": [],
   "source": [
    "# là on doit enlever les quotes\n",
    "print(sanitize('\"abc\"'))"
   ]
  },
  {
   "cell_type": "code",
   "execution_count": null,
   "metadata": {
    "cell_style": "split"
   },
   "outputs": [],
   "source": [
    "# seulement au début: on ne touche pas\n",
    "print(sanitize('\"abc'))"
   ]
  },
  {
   "cell_type": "markdown",
   "metadata": {},
   "source": [
    "### airports - suite"
   ]
  },
  {
   "cell_type": "markdown",
   "metadata": {},
   "source": [
    "on peut maintenant créer une structure adaptée pour modéliser chaque aéroport"
   ]
  },
  {
   "cell_type": "code",
   "execution_count": null,
   "metadata": {},
   "outputs": [],
   "source": [
    "from dataclasses import dataclass\n",
    "\n",
    "@dataclass\n",
    "class Airport:\n",
    "    city: str\n",
    "    airport_id: int\n",
    "    iata: str\n",
    "    latitude: float\n",
    "    longitude: float\n"
   ]
  },
  {
   "cell_type": "markdown",
   "metadata": {},
   "source": [
    "et écrire une fonction qui transforme une des lignes d'entrée en une instance de cette classe"
   ]
  },
  {
   "cell_type": "code",
   "execution_count": null,
   "metadata": {},
   "outputs": [],
   "source": [
    "# rappel\n",
    "airport_line"
   ]
  },
  {
   "cell_type": "code",
   "execution_count": null,
   "metadata": {},
   "outputs": [],
   "source": [
    "def airport_from_line(line):\n",
    "    try:\n",
    "        airport_id, _, city, _, iata, _, lat, lon, *_ = [sanitize(x) for x in line.split(',')]\n",
    "        return Airport(city, int(airport_id), iata, float(lat), float(lon))\n",
    "    except Exception as exc:\n",
    "        print(f\"OOPS can't do airport from {line}: {type(exc)}, {exc}\")"
   ]
  },
  {
   "cell_type": "code",
   "execution_count": null,
   "metadata": {},
   "outputs": [],
   "source": [
    "airport_from_line(airport_line)"
   ]
  },
  {
   "cell_type": "markdown",
   "metadata": {},
   "source": [
    "### index"
   ]
  },
  {
   "cell_type": "markdown",
   "metadata": {},
   "source": [
    "pour stocker toute la table dans une structure efficace, on va créer **un index** (dictionnaire) pour hacher *airport_id* → *instance*, de façon à pouvoir faire des recherches efficaces par la suite"
   ]
  },
  {
   "cell_type": "code",
   "execution_count": null,
   "metadata": {},
   "outputs": [],
   "source": [
    "# ici j'utilise une fonction\n",
    "# ça me permet de ne pas pouller l'espace de noms global\n",
    "# avec la variable temporaire `all_airports`\n",
    "# dont je n'aurai plus besoin une fois l'index créé\n",
    "def airport_index():\n",
    "    # souvenez-vous qu'on avait une dernière ligne vide\n",
    "    all_airports = [airport_from_line(line) for line in airport_strs if line]\n",
    "    # si une exception se produit dans airport_from_line\n",
    "    # on va avoir un élément de all_airports qui est None\n",
    "    all_airports = [airport for airport in all_airports if airport is not None]\n",
    "    # pour hacher, une simple compréhension de dictionnaire fait le job\n",
    "    return {airport.airport_id: airport for airport in all_airports}"
   ]
  },
  {
   "cell_type": "code",
   "execution_count": null,
   "metadata": {},
   "outputs": [],
   "source": [
    "# apparemment quelques entrées ont des problèmes de cohérence\n",
    "airport_by_id = airport_index()"
   ]
  },
  {
   "cell_type": "code",
   "execution_count": null,
   "metadata": {},
   "outputs": [],
   "source": [
    "# combien d'aéroports\n",
    "len(airport_by_id)"
   ]
  },
  {
   "cell_type": "markdown",
   "metadata": {},
   "source": [
    "## airlines"
   ]
  },
  {
   "cell_type": "markdown",
   "metadata": {},
   "source": [
    "on peut reproduire exactement la même démarche pour les routes et les compagnies aériennes"
   ]
  },
  {
   "cell_type": "code",
   "execution_count": null,
   "metadata": {},
   "outputs": [],
   "source": [
    "airlines_url = \"https://raw.githubusercontent.com/jpatokal/openflights/master/data/airlines.dat\""
   ]
  },
  {
   "cell_type": "code",
   "execution_count": null,
   "metadata": {},
   "outputs": [],
   "source": [
    "airlines_dat = requests.get(airlines_url).text\n",
    "airline_strs = airlines_dat.split(\"\\n\")"
   ]
  },
  {
   "cell_type": "code",
   "execution_count": null,
   "metadata": {},
   "outputs": [],
   "source": [
    "@dataclass\n",
    "class Airline:\n",
    "    airline_id: int\n",
    "    name: str\n",
    "    code2: str"
   ]
  },
  {
   "cell_type": "code",
   "execution_count": null,
   "metadata": {},
   "outputs": [],
   "source": [
    "airline_strs[137]"
   ]
  },
  {
   "cell_type": "code",
   "execution_count": null,
   "metadata": {},
   "outputs": [],
   "source": [
    "def airline_from_line(line):\n",
    "    try:\n",
    "        airline_id, name, _, code2, *_ = [sanitize(x) for x in line.split(\",\")]\n",
    "        return Airline(int(airline_id), name, code2)\n",
    "    except Exception as exc:\n",
    "        print(f\"OOPS can't do airline from {line}: {type(exc)}, {exc}\")    "
   ]
  },
  {
   "cell_type": "code",
   "execution_count": null,
   "metadata": {},
   "outputs": [],
   "source": [
    "# une autre stratégie pour conserver un espace de nom propre\n",
    "all_airlines = [airline_from_line(line) for line in airline_strs if line]\n",
    "all_airlines = [airline for airline in all_airlines if airline]\n",
    "airline_by_id = {airline.airline_id: airline for airline in all_airlines}\n",
    "del all_airlines"
   ]
  },
  {
   "cell_type": "code",
   "execution_count": null,
   "metadata": {},
   "outputs": [],
   "source": [
    "# combien \n",
    "len(airline_by_id)"
   ]
  },
  {
   "cell_type": "markdown",
   "metadata": {},
   "source": [
    "## routes"
   ]
  },
  {
   "cell_type": "code",
   "execution_count": null,
   "metadata": {},
   "outputs": [],
   "source": [
    "routes_url = \"https://raw.githubusercontent.com/jpatokal/openflights/master/data/routes.dat\""
   ]
  },
  {
   "cell_type": "code",
   "execution_count": null,
   "metadata": {},
   "outputs": [],
   "source": [
    "# apparemment celui-ci a des fins de ligne à la windows\n",
    "# d'un autre coté c'est un .dat ..\n",
    "\n",
    "routes_dat = requests.get(routes_url).text\n",
    "route_strs = routes_dat.split(\"\\r\\n\")\n",
    "route_strs[100]"
   ]
  },
  {
   "cell_type": "code",
   "execution_count": null,
   "metadata": {},
   "outputs": [],
   "source": [
    "@dataclass\n",
    "class Route:\n",
    "    airline_id: int\n",
    "    # these 2 of course are airport_ids\n",
    "    src_id: int\n",
    "    dst_id: int"
   ]
  },
  {
   "cell_type": "code",
   "execution_count": null,
   "metadata": {},
   "outputs": [],
   "source": [
    "def route_from_line(line):\n",
    "    try:\n",
    "        _, airline_id, _, src_id, _, dst_id, *_ = line.split(',')\n",
    "        return Route(int(airline_id), int(src_id), int(dst_id))\n",
    "    except Exception as exc:\n",
    "        print(f\"OOPS can't do route from {line}: {type(exc)}, {exc}\")    "
   ]
  },
  {
   "cell_type": "markdown",
   "metadata": {},
   "source": [
    "ici par contre on ne peut plus hacher car les routes n'ont pas d'index; contentons-nous pour l'instant d'une grande liste"
   ]
  },
  {
   "cell_type": "code",
   "execution_count": null,
   "metadata": {},
   "outputs": [],
   "source": [
    "all_routes = [route_from_line(line) for line in route_strs]\n",
    "all_routes = [route for route in all_routes if route]"
   ]
  },
  {
   "cell_type": "code",
   "execution_count": null,
   "metadata": {
    "cell_style": "split"
   },
   "outputs": [],
   "source": [
    "len(route_strs)"
   ]
  },
  {
   "cell_type": "code",
   "execution_count": null,
   "metadata": {
    "cell_style": "split"
   },
   "outputs": [],
   "source": [
    "len(all_routes)"
   ]
  },
  {
   "cell_type": "code",
   "execution_count": null,
   "metadata": {},
   "outputs": [],
   "source": [
    "len(route_strs) - len(all_routes)"
   ]
  },
  {
   "cell_type": "markdown",
   "metadata": {},
   "source": [
    "### distance beween 2 airports"
   ]
  },
  {
   "cell_type": "code",
   "execution_count": null,
   "metadata": {},
   "outputs": [],
   "source": [
    "# shamelessly copied from \n",
    "# https://stackoverflow.com/questions/19412462/getting-distance-between-two-points-based-on-latitude-longitude\n",
    "# thank you Michael0x2a !\n",
    "\n",
    "from math import sin, cos, sqrt, atan2, radians\n",
    "\n",
    "# approximate radius of earth in km\n",
    "R = 6373.0\n",
    "\n",
    "def distance(lat1, lon1, lat2, lon2):\n",
    "    \"\"\"\n",
    "    all incoming values in radians\n",
    "    \"\"\"\n",
    "    \n",
    "    dlon = lon2 - lon1\n",
    "    dlat = lat2 - lat1\n",
    "\n",
    "    a = sin(dlat / 2)**2 + cos(lat1) * cos(lat2) * sin(dlon / 2)**2\n",
    "    c = 2 * atan2(sqrt(a), sqrt(1 - a))\n",
    "\n",
    "    return R * c"
   ]
  },
  {
   "cell_type": "code",
   "execution_count": null,
   "metadata": {
    "cell_style": "split"
   },
   "outputs": [],
   "source": [
    "# testing\n",
    "lat1 = radians(52.2296756)\n",
    "lon1 = radians(21.0122287)\n",
    "lat2 = radians(52.406374)\n",
    "lon2 = radians(16.9251681)\n",
    "\n",
    "print(\"Result:\", distance(lat1, lon1, lat2, lon2))\n",
    "print(\"Should be:\", 278.546, \"km\")"
   ]
  },
  {
   "cell_type": "code",
   "execution_count": null,
   "metadata": {
    "cell_style": "split"
   },
   "outputs": [],
   "source": [
    "# testing\n",
    "lat1 = radians(43.65)\n",
    "lon1 = radians(7.21)\n",
    "lat2 = radians(49.01)\n",
    "lon2 = radians(2.55)\n",
    "\n",
    "print(\"Result:\", distance(lat1, lon1, lat2, lon2))\n",
    "print(\"Should be about 700 km\")"
   ]
  },
  {
   "cell_type": "markdown",
   "metadata": {},
   "source": [
    "### an operator on airports"
   ]
  },
  {
   "cell_type": "code",
   "execution_count": null,
   "metadata": {},
   "outputs": [],
   "source": [
    "def airport_minus(self, other):\n",
    "    lat1, lon1 = self.latitude, self.longitude\n",
    "    lat2, lon2 = other.latitude, other.longitude\n",
    "    return distance(radians(lat1), radians(lon1),\n",
    "                    radians(lat2), radians(lon2))\n",
    "\n",
    "Airport.__sub__ = airport_minus    "
   ]
  },
  {
   "cell_type": "code",
   "execution_count": null,
   "metadata": {},
   "outputs": [],
   "source": [
    "# un index par code iata\n",
    "airport_by_iata = {airport.iata: airport for airport in airport_by_id.values()}"
   ]
  },
  {
   "cell_type": "code",
   "execution_count": null,
   "metadata": {},
   "outputs": [],
   "source": [
    "nice = airport_by_iata['NCE']; nice"
   ]
  },
  {
   "cell_type": "code",
   "execution_count": null,
   "metadata": {},
   "outputs": [],
   "source": [
    "roissy = airport_by_iata['CDG']; roissy"
   ]
  },
  {
   "cell_type": "code",
   "execution_count": null,
   "metadata": {
    "cell_style": "split"
   },
   "outputs": [],
   "source": [
    "nice - roissy"
   ]
  },
  {
   "cell_type": "code",
   "execution_count": null,
   "metadata": {
    "cell_style": "split"
   },
   "outputs": [],
   "source": [
    "roissy - nice"
   ]
  },
  {
   "cell_type": "markdown",
   "metadata": {},
   "source": [
    "### mapping"
   ]
  },
  {
   "cell_type": "code",
   "execution_count": null,
   "metadata": {},
   "outputs": [],
   "source": [
    "import folium\n",
    "map_center = [nice.latitude, nice.longitude]"
   ]
  },
  {
   "cell_type": "code",
   "execution_count": null,
   "metadata": {},
   "outputs": [],
   "source": [
    "map = folium.Map(location=map_center, zoom_start=1)\n",
    "\n",
    "# c'est trop long si on affiche tout, prenons pour commencer les 300 premiers\n",
    "airport_300samples = [\n",
    "    airport for (counter, airport) in \n",
    "    zip(range(300), airport_by_id.values())\n",
    "]\n",
    "for airport in airport_300samples:\n",
    "    folium.CircleMarker([airport.latitude, airport.longitude],\n",
    "                        radius=3,\n",
    "                        weight=.5,\n",
    "                       ).add_to(map)\n",
    "map"
   ]
  },
  {
   "cell_type": "markdown",
   "metadata": {},
   "source": [
    "### on peut maintenant élaguer un peu"
   ]
  },
  {
   "cell_type": "code",
   "execution_count": null,
   "metadata": {},
   "outputs": [],
   "source": [
    "# rappel sur la structure d'une route\n",
    "all_routes[10]"
   ]
  },
  {
   "cell_type": "markdown",
   "metadata": {},
   "source": [
    "on décide de filtrer sur disons deux compagnies parce sinon on ne voit rien"
   ]
  },
  {
   "cell_type": "code",
   "execution_count": null,
   "metadata": {},
   "outputs": [],
   "source": [
    "# pour localiser les compagnies par leur petit nom (code2)\n",
    "# on va créer un nouvel index\n",
    "\n",
    "airline_by_code2 = {airline.code2: airline for airline in airline_by_id.values()}\n",
    "\n",
    "# maintenant les recherches sont rapides\n",
    "air_france = airline_by_code2['AF']\n",
    "british_airways = airline_by_code2['BA']\n",
    "delta = airline_by_code2['DL']\n",
    "air_canada = airline_by_code2['AC']\n",
    "air_france, british_airways, delta, air_canada"
   ]
  },
  {
   "cell_type": "code",
   "execution_count": null,
   "metadata": {},
   "outputs": [],
   "source": [
    "# on sélectionne deux compagnies\n",
    "selected_airline_ids = {137, 330}"
   ]
  },
  {
   "cell_type": "markdown",
   "metadata": {},
   "source": [
    "### un ensemble d'aéroports"
   ]
  },
  {
   "cell_type": "markdown",
   "metadata": {},
   "source": [
    "on a maintenant envie de construire un ensemble d'aéroports, ceux qui ont au moins une ligne aérienne opérée par AF ou BA; mais à ce stade on ne peut pas le faire"
   ]
  },
  {
   "cell_type": "code",
   "execution_count": null,
   "metadata": {},
   "outputs": [],
   "source": [
    "try: \n",
    "    dummy_set = set((nice, roissy))\n",
    "except Exception as exc:\n",
    "    print(f\"OOPS {type(exc)} {exc}\")"
   ]
  },
  {
   "cell_type": "markdown",
   "metadata": {},
   "source": [
    "c'est un peu ballot, car chaque aéroport a un `airport_id` unique sur lequel on peut hasher; du coup il suffit de faire"
   ]
  },
  {
   "cell_type": "code",
   "execution_count": null,
   "metadata": {
    "cell_style": "split"
   },
   "outputs": [],
   "source": [
    "# là franchement on pourrait utiliser\n",
    "# le paramètre airport plutôt que self\n",
    "def airport_hashing_method(self):\n",
    "    return hash(self.airport_id)\n",
    "\n",
    "def airport_eq_method(self, other):\n",
    "    return self.airport_id == other.airport_id    "
   ]
  },
  {
   "cell_type": "code",
   "execution_count": null,
   "metadata": {
    "cell_style": "split"
   },
   "outputs": [],
   "source": [
    "Airport.__hash__ = airport_hashing_method\n",
    "Airport.__eq__ = airport_eq_method"
   ]
  },
  {
   "cell_type": "code",
   "execution_count": null,
   "metadata": {},
   "outputs": [],
   "source": [
    "# maintenant c'est OK\n",
    "dummy_set = set((nice, roissy))"
   ]
  },
  {
   "cell_type": "markdown",
   "metadata": {},
   "source": [
    "### back to business: seulement les aéroports concernés"
   ]
  },
  {
   "cell_type": "markdown",
   "metadata": {},
   "source": [
    "on peut maintenant construire l'ensemble des aéroports qui sont connectés à l'une ou l'autre de nos deux compagnies"
   ]
  },
  {
   "cell_type": "code",
   "execution_count": null,
   "metadata": {},
   "outputs": [],
   "source": [
    "selected_airports = set()\n",
    "\n",
    "for route in all_routes:\n",
    "    if route.airline_id not in selected_airline_ids:\n",
    "        continue\n",
    "    try:\n",
    "        src_airport = airport_by_id[route.src_id]\n",
    "        dst_airport = airport_by_id[route.dst_id]\n",
    "        selected_airports.add(src_airport)\n",
    "        selected_airports.add(dst_airport)\n",
    "    except KeyError:\n",
    "        # pas tout à fait complet apparemment\n",
    "        pass\n",
    "    \n",
    "len(selected_airports)"
   ]
  },
  {
   "cell_type": "code",
   "execution_count": null,
   "metadata": {},
   "outputs": [],
   "source": [
    "map = folium.Map(location=map_center, zoom_start=1)\n",
    "\n",
    "for airport in selected_airports:\n",
    "    folium.CircleMarker([airport.latitude, airport.longitude],\n",
    "                        radius=3,\n",
    "                        weight=.5,\n",
    "                        fill=True,\n",
    "                        fill_color=\"#88f\",\n",
    "                       ).add_to(map)\n",
    "map"
   ]
  },
  {
   "cell_type": "markdown",
   "metadata": {},
   "source": [
    "### avec les routes"
   ]
  },
  {
   "cell_type": "code",
   "execution_count": null,
   "metadata": {},
   "outputs": [],
   "source": [
    "# avec les routes\n",
    "\n",
    "# le début bien sûr c'est le même\n",
    "map = folium.Map(location=map_center, zoom_start=2)\n",
    "\n",
    "\n",
    "for airport in selected_airports:\n",
    "    folium.CircleMarker([airport.latitude, airport.longitude],\n",
    "                        radius=3,\n",
    "                        weight=.5,\n",
    "                        fill=True,\n",
    "                        fill_color=\"#88f\",\n",
    "                       ).add_to(map)\n",
    "\n",
    "for route in all_routes:\n",
    "    if not route.airline_id in selected_airline_ids:\n",
    "        continue\n",
    "    try:\n",
    "        src_airport = airport_by_id[route.src_id]\n",
    "        dst_airport = airport_by_id[route.dst_id]\n",
    "        locations = [(src_airport.latitude, src_airport.longitude),\n",
    "                     (dst_airport.latitude, dst_airport.longitude)]\n",
    "        folium.PolyLine(locations=locations, \n",
    "                        weight=0.2, color=\"#484\").add_to(map)\n",
    "    except Exception as exc:\n",
    "        print(f\"oops, {route} {type(exc)} {exc}\")\n",
    "map"
   ]
  },
  {
   "cell_type": "markdown",
   "metadata": {},
   "source": [
    "*****\n",
    "xxx here xxx\n",
    "*****"
   ]
  },
  {
   "cell_type": "markdown",
   "metadata": {},
   "source": [
    "### construire un graphe"
   ]
  },
  {
   "cell_type": "markdown",
   "metadata": {},
   "source": [
    "On veut construire un graphe avec toutes les routes entre deux aéroports, en se limitant à quelques compagnies spécifiques.\n",
    "\n",
    "Pour cela on va ajouter un attribut `remotes` aux aéroports concernés (ceux qui opèrent au moins un vol d'au moins une des compagnies choisies)"
   ]
  },
  {
   "cell_type": "code",
   "execution_count": null,
   "metadata": {},
   "outputs": [],
   "source": [
    "selected_airline_ids"
   ]
  },
  {
   "cell_type": "code",
   "execution_count": null,
   "metadata": {},
   "outputs": [],
   "source": [
    "len([route for route in all_routes if route.airline_id in selected_airline_ids])"
   ]
  },
  {
   "cell_type": "code",
   "execution_count": null,
   "metadata": {},
   "outputs": [],
   "source": [
    "for airport in airport_by_id.values():\n",
    "    airport.remotes = dict()\n",
    "\n",
    "for route in all_routes:\n",
    "    if route.airline_id not in selected_airline_ids:\n",
    "        continue\n",
    "    try:\n",
    "        src = airport_by_id[route.src_id]\n",
    "        dst = airport_by_id[route.dst_id]\n",
    "        src.remotes[dst] = src - dst\n",
    "        dst.remotes[src] = src - dst\n",
    "    except Exception as exc:\n",
    "        print(f\"ignoring route {route} {type(exc)} {exc}\")"
   ]
  },
  {
   "cell_type": "code",
   "execution_count": null,
   "metadata": {},
   "outputs": [],
   "source": [
    "selected_airports = [airport for airport in airport_by_id.values() if airport.remotes]\n",
    "len(selected_airports)"
   ]
  },
  {
   "cell_type": "code",
   "execution_count": null,
   "metadata": {},
   "outputs": [],
   "source": [
    "nice.remotes"
   ]
  }
 ],
 "metadata": {
  "kernelspec": {
   "display_name": "Python 3",
   "language": "python",
   "name": "python3"
  },
  "language_info": {
   "codemirror_mode": {
    "name": "ipython",
    "version": 3
   },
   "file_extension": ".py",
   "mimetype": "text/x-python",
   "name": "python",
   "nbconvert_exporter": "python",
   "pygments_lexer": "ipython3",
   "version": "3.7.0"
  },
  "notebookname": "airports & airlines",
  "version": "1.0"
 },
 "nbformat": 4,
 "nbformat_minor": 2
}
