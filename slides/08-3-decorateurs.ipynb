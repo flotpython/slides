{
 "cells": [
  {
   "cell_type": "markdown",
   "metadata": {
    "slideshow": {
     "slide_type": "slide"
    }
   },
   "source": [
    "<div class=\"licence\">\n",
    "<span>Licence CC BY-NC-ND</span>\n",
    "<span>Thierry Parmentelat &amp; Arnaud Legout</span>\n",
    "</div>"
   ]
  },
  {
   "cell_type": "code",
   "execution_count": null,
   "metadata": {},
   "outputs": [],
   "source": [
    "from plan import plan; plan(\"avancé\", \"décorateur\")"
   ]
  },
  {
   "cell_type": "markdown",
   "metadata": {
    "run_control": {
     "frozen": false,
     "read_only": false
    },
    "slideshow": {
     "slide_type": "slide"
    }
   },
   "source": [
    "# les décorateurs\n"
   ]
  },
  {
   "cell_type": "markdown",
   "metadata": {},
   "source": [
    "*avertissement* : version beta"
   ]
  },
  {
   "cell_type": "markdown",
   "metadata": {
    "run_control": {
     "frozen": false,
     "read_only": false
    },
    "slideshow": {
     "slide_type": "slide"
    }
   },
   "source": [
    "# exemples"
   ]
  },
  {
   "cell_type": "markdown",
   "metadata": {
    "run_control": {
     "frozen": false,
     "read_only": false
    }
   },
   "source": [
    "les deux constructions que nous avonc déjà rencontré\n",
    "\n",
    "* `staticmethod`\n",
    "* `classmethod`\n",
    "\n",
    "sont des décorateurs"
   ]
  },
  {
   "cell_type": "code",
   "execution_count": null,
   "metadata": {
    "cell_style": "split",
    "run_control": {
     "frozen": false,
     "read_only": false
    },
    "slideshow": {
     "slide_type": "slide"
    }
   },
   "outputs": [],
   "source": [
    "# plutôt que d'écrire ceci\n",
    "\n",
    "class C:\n",
    "\n",
    "    @classmethod\n",
    "    def f(c):\n",
    "        pass\n",
    "\n",
    "    @staticmethod\n",
    "    def g():\n",
    "        pass\n"
   ]
  },
  {
   "cell_type": "code",
   "execution_count": null,
   "metadata": {
    "cell_style": "split",
    "run_control": {
     "frozen": false,
     "read_only": false
    }
   },
   "outputs": [],
   "source": [
    "# on aurait aussi bien pu écrire ceci\n",
    "# mais en moins lisible\n",
    "\n",
    "class C:\n",
    "\n",
    "    def f(c):\n",
    "        pass\n",
    "\n",
    "    def g():\n",
    "        pass\n",
    "\n",
    "    f = classmethod(f)\n",
    "    g = staticmethod(g)"
   ]
  },
  {
   "cell_type": "markdown",
   "metadata": {
    "cell_style": "split",
    "run_control": {
     "frozen": false,
     "read_only": false
    },
    "slideshow": {
     "slide_type": "slide"
    }
   },
   "source": [
    "Le fragment\n",
    "\n",
    "```\n",
    "@decorateur\n",
    "def f():\n",
    "    pass\n",
    "```"
   ]
  },
  {
   "cell_type": "markdown",
   "metadata": {
    "cell_style": "split",
    "run_control": {
     "frozen": false,
     "read_only": false
    },
    "slideshow": {
     "slide_type": ""
    }
   },
   "source": [
    "est en fait équivalent à\n",
    "\n",
    "```\n",
    "def f():\n",
    "    pass\n",
    "f = decorateur(f)\n",
    "```"
   ]
  },
  {
   "cell_type": "markdown",
   "metadata": {
    "run_control": {
     "frozen": false,
     "read_only": false
    }
   },
   "source": [
    "autrement dit, `f` n'est plus la fonction initiale, mais l'objet retourné par `decorateur(f)`"
   ]
  },
  {
   "cell_type": "markdown",
   "metadata": {
    "run_control": {
     "frozen": false,
     "read_only": false
    },
    "slideshow": {
     "slide_type": "slide"
    }
   },
   "source": [
    "# qu'est-ce qu'un décorateur ?"
   ]
  },
  {
   "cell_type": "markdown",
   "metadata": {
    "run_control": {
     "frozen": false,
     "read_only": false
    }
   },
   "source": [
    "c'est un *callable* qui prend en argument un *callable* et retourne un *callable*"
   ]
  },
  {
   "cell_type": "markdown",
   "metadata": {
    "run_control": {
     "frozen": false,
     "read_only": false
    },
    "slideshow": {
     "slide_type": "slide"
    }
   },
   "source": [
    "# qu'est-ce qu'un *callable*"
   ]
  },
  {
   "cell_type": "markdown",
   "metadata": {
    "run_control": {
     "frozen": false,
     "read_only": false
    }
   },
   "source": [
    "* le terme fait référence à un des nombreux protocoles\n",
    "  * comme itérable qui veut dire 'peut être dans un for`\n",
    "* ici un *callable* c'est, littéralement, un objet qu'on peut appeler\n",
    "  * par exemple une fonction (bien entendu)\n",
    "  * mais aussi une instance d'une classe qui implémente `__call__`"
   ]
  },
  {
   "cell_type": "markdown",
   "metadata": {
    "run_control": {
     "frozen": false,
     "read_only": false
    },
    "slideshow": {
     "slide_type": "slide"
    }
   },
   "source": [
    "# une classe de *callables*"
   ]
  },
  {
   "cell_type": "code",
   "execution_count": null,
   "metadata": {
    "run_control": {
     "frozen": false,
     "read_only": false
    }
   },
   "outputs": [],
   "source": [
    "# une classe dont les instances sont des callables\n",
    "class Additioneur:\n",
    "\n",
    "    # on crée une instance en lui passant la valeur à additionner\n",
    "    def __init__(self, delta):\n",
    "        self.delta = delta\n",
    "\n",
    "    # ce qu'il faut faire à l'appel\n",
    "    def __call__(self, entree):\n",
    "        return entree + self.delta"
   ]
  },
  {
   "cell_type": "code",
   "execution_count": null,
   "metadata": {
    "run_control": {
     "frozen": false,
     "read_only": false
    },
    "slideshow": {
     "slide_type": "slide"
    }
   },
   "outputs": [],
   "source": [
    "# ceci crée un callable\n",
    "ajouter4 = Additioneur(4)\n",
    "# qu'on peut donc utiliser comme une fonction\n",
    "# en l'occurrence une fonction qui ajoute 4\n",
    "ajouter4(10)"
   ]
  },
  {
   "cell_type": "markdown",
   "metadata": {
    "run_control": {
     "frozen": false,
     "read_only": false
    },
    "slideshow": {
     "slide_type": "slide"
    }
   },
   "source": [
    "# à quoi sert un décorateur ?"
   ]
  },
  {
   "cell_type": "markdown",
   "metadata": {
    "run_control": {
     "frozen": false,
     "read_only": false
    }
   },
   "source": [
    "à ajouter une couche de logique à une fonction avec une syntaxe explicite `@decorateur`"
   ]
  },
  {
   "cell_type": "markdown",
   "metadata": {
    "run_control": {
     "frozen": false,
     "read_only": false
    },
    "slideshow": {
     "slide_type": "slide"
    }
   },
   "source": [
    "# comment implémenter un décorateur"
   ]
  },
  {
   "cell_type": "markdown",
   "metadata": {
    "run_control": {
     "frozen": false,
     "read_only": false
    }
   },
   "source": [
    "* un décorateur est donc un *callable* (qui instrumente un *callable*)\n",
    "* on peut donc choisir d'implémenter le décorateur comme\n",
    "  * une fonction\n",
    "  * une classe (avec le protocole `__call__`)"
   ]
  },
  {
   "cell_type": "markdown",
   "metadata": {
    "run_control": {
     "frozen": false,
     "read_only": false
    },
    "slideshow": {
     "slide_type": "slide"
    }
   },
   "source": [
    "# exemple de décorateur - comme une classe"
   ]
  },
  {
   "cell_type": "markdown",
   "metadata": {
    "run_control": {
     "frozen": false,
     "read_only": false
    }
   },
   "source": [
    "* pour qu'une fonction sache compter combien de fois elle est appelée\n",
    "* le décorateur lui-même implémenté comme une classe"
   ]
  },
  {
   "cell_type": "code",
   "execution_count": null,
   "metadata": {
    "run_control": {
     "frozen": false,
     "read_only": false
    }
   },
   "outputs": [],
   "source": [
    "class NumberCalls:\n",
    "\n",
    "    # on aura une instance de NumberCalls\n",
    "    # pour chaque fonction décorée\n",
    "    # ceci est appelé à la déclaration de f\n",
    "    def __init__(self, f):\n",
    "        self.calls = 0\n",
    "        self.f = f\n",
    "\n",
    "    # et ce code est exécuté lors des appels à f\n",
    "    def __call__(self, *args):\n",
    "        self.calls += 1\n",
    "        s = f'{self.f.__name__} : {self.calls} calls'\n",
    "        print(s)\n",
    "        return self.f(*args)"
   ]
  },
  {
   "cell_type": "code",
   "execution_count": null,
   "metadata": {
    "run_control": {
     "frozen": false,
     "read_only": false
    },
    "slideshow": {
     "slide_type": "slide"
    }
   },
   "outputs": [],
   "source": [
    "# maintenant je peux définir une fonction décorée\n",
    "@NumberCalls\n",
    "def f(a, b):\n",
    "    print(f\"dans l'appel à f({a}, {b})\")"
   ]
  },
  {
   "cell_type": "code",
   "execution_count": null,
   "metadata": {
    "cell_style": "split",
    "run_control": {
     "frozen": false,
     "read_only": false
    }
   },
   "outputs": [],
   "source": [
    "f(1, 2)"
   ]
  },
  {
   "cell_type": "code",
   "execution_count": null,
   "metadata": {
    "cell_style": "split",
    "run_control": {
     "frozen": false,
     "read_only": false
    }
   },
   "outputs": [],
   "source": [
    "f(3, 4)\n"
   ]
  },
  {
   "cell_type": "markdown",
   "metadata": {
    "run_control": {
     "frozen": false,
     "read_only": false
    },
    "slideshow": {
     "slide_type": "slide"
    }
   },
   "source": [
    "\n",
    "# l'exemple décortiqué"
   ]
  },
  {
   "cell_type": "markdown",
   "metadata": {
    "cell_style": "split",
    "run_control": {
     "frozen": false,
     "read_only": false
    }
   },
   "source": [
    "la **déclaration** de `f`\n",
    "```python\n",
    "@NumberCalls\n",
    "def f(a, b):\n",
    "    print(blabla)\n",
    "```"
   ]
  },
  {
   "cell_type": "markdown",
   "metadata": {
    "cell_style": "split",
    "run_control": {
     "frozen": false,
     "read_only": false
    }
   },
   "source": [
    "* devient\n",
    "  * `f = NumberCalls(f)`\n",
    "* qui déclenche\n",
    "  * le **constructeur** de `NumberCalls`\n",
    "  * avec `f` non décoré comme arg\n",
    "  "
   ]
  },
  {
   "cell_type": "markdown",
   "metadata": {
    "cell_style": "split",
    "run_control": {
     "frozen": false,
     "read_only": false
    }
   },
   "source": [
    "* `f` décoré est une instance de `NumberCalls`\n",
    "* qui est callable via `__call__`\n",
    "* un **appel** à `f` décoré\n",
    "```\n",
    "f(1, 2)\n",
    "```"
   ]
  },
  {
   "cell_type": "markdown",
   "metadata": {
    "cell_style": "split",
    "run_control": {
     "frozen": false,
     "read_only": false
    }
   },
   "source": [
    "* provoque maintenant \n",
    "  * un appel à **`__call__`** sur `f`\n",
    "  * et avec arguments `(1, 2)`"
   ]
  },
  {
   "cell_type": "markdown",
   "metadata": {
    "run_control": {
     "frozen": false,
     "read_only": false
    },
    "slideshow": {
     "slide_type": "slide"
    }
   },
   "source": [
    "# exemple - suite"
   ]
  },
  {
   "cell_type": "markdown",
   "metadata": {
    "run_control": {
     "frozen": false,
     "read_only": false
    }
   },
   "source": [
    "* ce décorateur - implémenté comme une classe\n",
    "* fonctionne bien sur des fonctions\n",
    "* mais ça se passe moins bien avec des méthodes de classe"
   ]
  },
  {
   "cell_type": "code",
   "execution_count": null,
   "metadata": {
    "cell_style": "split",
    "run_control": {
     "frozen": false,
     "read_only": false
    }
   },
   "outputs": [],
   "source": [
    "class C:\n",
    "    @NumberCalls\n",
    "    def ma_methode(self, x):\n",
    "        self.x = x"
   ]
  },
  {
   "cell_type": "code",
   "execution_count": null,
   "metadata": {
    "cell_style": "split",
    "run_control": {
     "frozen": false,
     "read_only": false
    }
   },
   "outputs": [],
   "source": [
    "c = C()\n",
    "try:\n",
    "    c.ma_methode(10)\n",
    "except TypeError as e:\n",
    "    print(\"OOPS\", e)"
   ]
  },
  {
   "cell_type": "markdown",
   "metadata": {
    "run_control": {
     "frozen": false,
     "read_only": false
    },
    "slideshow": {
     "slide_type": "slide"
    }
   },
   "source": [
    "* lors de l'appel à `c.ma_methode(10)`\n",
    "* on appelle la méthode `__call__` sur l'instance de `NumberCalls`\n",
    "* mais elle reçoit comme premier argument l'instance de `NumberCalls` (et non pas l'instance de `C`)\n",
    "* et comme arguments dans `*args` uniquement l'entier `10`\n",
    "* du coup `ma_methode` est appelée avec un seul argument `10` par `self.f(*args)`\n"
   ]
  },
  {
   "cell_type": "markdown",
   "metadata": {
    "run_control": {
     "frozen": false,
     "read_only": false
    },
    "slideshow": {
     "slide_type": "slide"
    }
   },
   "source": [
    "# exemple de décorateur - comme une fonction"
   ]
  },
  {
   "cell_type": "markdown",
   "metadata": {
    "run_control": {
     "frozen": false,
     "read_only": false
    }
   },
   "source": [
    "* même fonctionnalité \n",
    "* mais cette fois implémenté comme une fonction"
   ]
  },
  {
   "cell_type": "code",
   "execution_count": null,
   "metadata": {
    "run_control": {
     "frozen": false,
     "read_only": false
    }
   },
   "outputs": [],
   "source": [
    "def NumberCalls2(f):\n",
    "\n",
    "    ### le code exécuté à l'appel de f\n",
    "    def wrapper(*args, **dargs):\n",
    "        # on range le nombre d'appels directement\n",
    "        # dans un attribut 'called' de l'objet fonction\n",
    "        wrapper.calls += 1\n",
    "        print(f'calling function {f.__name__}, '\n",
    "              f'called {wrapper.calls} times')\n",
    "        return f(*args, **dargs)\n",
    "\n",
    "    ### le code exécuté à la déclaration de f\n",
    "    # il faut initialiser cet attribut\n",
    "    wrapper.calls = 0\n",
    "    return wrapper"
   ]
  },
  {
   "cell_type": "markdown",
   "metadata": {
    "run_control": {
     "frozen": false,
     "read_only": false
    },
    "slideshow": {
     "slide_type": "slide"
    }
   },
   "source": [
    "# exemple de décorateur - comme une fonction"
   ]
  },
  {
   "cell_type": "code",
   "execution_count": null,
   "metadata": {
    "run_control": {
     "frozen": false,
     "read_only": false
    }
   },
   "outputs": [],
   "source": [
    "class D:\n",
    "    @NumberCalls2\n",
    "    def ma_methode(self, x):\n",
    "        self.x = x"
   ]
  },
  {
   "cell_type": "code",
   "execution_count": null,
   "metadata": {
    "run_control": {
     "frozen": false,
     "read_only": false
    }
   },
   "outputs": [],
   "source": [
    "d = D()\n",
    "d.ma_methode(10)"
   ]
  },
  {
   "cell_type": "markdown",
   "metadata": {
    "run_control": {
     "frozen": false,
     "read_only": false
    },
    "slideshow": {
     "slide_type": "slide"
    }
   },
   "source": [
    "# exemples de décorateurs"
   ]
  },
  {
   "cell_type": "code",
   "execution_count": null,
   "metadata": {
    "run_control": {
     "frozen": false,
     "read_only": false
    }
   },
   "outputs": [],
   "source": [
    "from functools import wraps\n",
    "\n",
    "def runtime(func):\n",
    "    \"\"\"\n",
    "    Décorateur qui affiche le temps d'exécution d'une fonction\n",
    "    \"\"\"\n",
    "    import time\n",
    "    @wraps(func)\n",
    "    def wrapper(*args, **kwargs):\n",
    "        t = time.perf_counter()\n",
    "        res = func(*args, **kwargs)\n",
    "        print(func.__name__, time.perf_counter()-t)\n",
    "        return res\n",
    "    return wrapper\n"
   ]
  },
  {
   "cell_type": "code",
   "execution_count": null,
   "metadata": {
    "run_control": {
     "frozen": false,
     "read_only": false
    },
    "slideshow": {
     "slide_type": "slide"
    }
   },
   "outputs": [],
   "source": [
    "def counter(func):\n",
    "    \"\"\"\n",
    "    Décorateur qui affiche le nombre d'appels à une fonction \n",
    "    \"\"\"\n",
    "    @wraps(func)\n",
    "    def wrapper(*args, **kwargs):\n",
    "        wrapper.count = wrapper.count + 1\n",
    "        res = func(*args, **kwargs)\n",
    "        print(\"{} was called {} times\".format(func.__name__, wrapper.count))\n",
    "        return res\n",
    "    wrapper.count = 0\n",
    "    return wrapper\n"
   ]
  },
  {
   "cell_type": "code",
   "execution_count": null,
   "metadata": {
    "run_control": {
     "frozen": false,
     "read_only": false
    },
    "slideshow": {
     "slide_type": "slide"
    }
   },
   "outputs": [],
   "source": [
    "def logfunc(func):\n",
    "    \"\"\"\n",
    "    Décorateur qui log l'activité d'une fonction.\n",
    "    \"\"\"\n",
    "    @wraps(func)\n",
    "    def wrapper(*args, **kwargs):\n",
    "        res = func(*args, **kwargs)\n",
    "        s = \"\"\"\n",
    "The function *{}* was called with\n",
    "    positional arguments: {}\n",
    "    named arguments: {}\n",
    "The returned value: {}\n",
    "\"\"\"\n",
    "        print(s.format(func.__name__, args, kwargs, res))\n",
    "        return res\n",
    "    return wrapper\n"
   ]
  },
  {
   "cell_type": "code",
   "execution_count": null,
   "metadata": {
    "run_control": {
     "frozen": false,
     "read_only": false
    },
    "slideshow": {
     "slide_type": "slide"
    }
   },
   "outputs": [],
   "source": [
    "@logfunc\n",
    "@counter\n",
    "@runtime\n",
    "def test(num, L):\n",
    "    for i in range(num):\n",
    "        'x' in L\n",
    "    return 'Done'\n",
    "\n",
    "test(100000, range(10))\n",
    "\n"
   ]
  },
  {
   "cell_type": "markdown",
   "metadata": {
    "run_control": {
     "frozen": false,
     "read_only": false
    },
    "slideshow": {
     "slide_type": "slide"
    }
   },
   "source": [
    "# garder les métadonnées de la fonction décorée"
   ]
  },
  {
   "cell_type": "code",
   "execution_count": null,
   "metadata": {
    "run_control": {
     "frozen": false,
     "read_only": false
    }
   },
   "outputs": [],
   "source": [
    "def mon_decorateur(func):\n",
    "    def wrapper(*args, **kargs):\n",
    "        print('avant func')\n",
    "        func(*args, **kargs)\n",
    "        print('apres func')\n",
    "    return wrapper\n",
    "\n",
    "@mon_decorateur\n",
    "def ma_fonction(a, b):\n",
    "    'une fonction qui ne fait presque rien'\n",
    "    print('dans ma Fonction')\n",
    "    print(a, b)"
   ]
  },
  {
   "cell_type": "markdown",
   "metadata": {
    "run_control": {
     "frozen": false,
     "read_only": false
    },
    "slideshow": {
     "slide_type": "slide"
    }
   },
   "source": [
    "### garder les métadonnées de la fonction décorée"
   ]
  },
  {
   "cell_type": "code",
   "execution_count": null,
   "metadata": {
    "run_control": {
     "frozen": false,
     "read_only": false
    }
   },
   "outputs": [],
   "source": [
    "ma_fonction(1, 2)"
   ]
  },
  {
   "cell_type": "code",
   "execution_count": null,
   "metadata": {
    "run_control": {
     "frozen": false,
     "read_only": false
    }
   },
   "outputs": [],
   "source": [
    "print(ma_fonction.__doc__)"
   ]
  },
  {
   "cell_type": "code",
   "execution_count": null,
   "metadata": {
    "run_control": {
     "frozen": false,
     "read_only": false
    }
   },
   "outputs": [],
   "source": [
    "print(ma_fonction.__name__)"
   ]
  },
  {
   "cell_type": "markdown",
   "metadata": {
    "run_control": {
     "frozen": false,
     "read_only": false
    },
    "slideshow": {
     "slide_type": "slide"
    }
   },
   "source": [
    "### garder les métadonnées de la fonction décorée"
   ]
  },
  {
   "cell_type": "markdown",
   "metadata": {
    "run_control": {
     "frozen": false,
     "read_only": false
    }
   },
   "source": [
    "* pour garder les métadonnées \n",
    "  * principalement les attributes `__doc__` et `__name_`\n",
    "  * on .. décore le wrapper avec `functools.wraps`"
   ]
  },
  {
   "cell_type": "markdown",
   "metadata": {
    "run_control": {
     "frozen": false,
     "read_only": false
    },
    "slideshow": {
     "slide_type": "slide"
    }
   },
   "source": [
    "### garder les métadonnées de la fonction décorée"
   ]
  },
  {
   "cell_type": "code",
   "execution_count": null,
   "metadata": {
    "run_control": {
     "frozen": false,
     "read_only": false
    }
   },
   "outputs": [],
   "source": [
    "from functools import wraps\n",
    "\n",
    "def mon_decorateur(func):\n",
    "    @wraps(func)\n",
    "    def wrapper(*args, **kargs):\n",
    "        print('avant func')\n",
    "        func(*args, **kargs)\n",
    "        print('apres func')\n",
    "    return wrapper\n",
    "\n",
    "@mon_decorateur\n",
    "def ma_fonction(a, b):\n",
    "    'une fonction qui ne fait presque rien'\n",
    "    print('dans ma Fonction')\n",
    "    print(a, b)"
   ]
  },
  {
   "cell_type": "markdown",
   "metadata": {
    "run_control": {
     "frozen": false,
     "read_only": false
    },
    "slideshow": {
     "slide_type": "slide"
    }
   },
   "source": [
    "### garder les métadonnées de la fonction décorée"
   ]
  },
  {
   "cell_type": "code",
   "execution_count": null,
   "metadata": {
    "cell_style": "split",
    "run_control": {
     "frozen": false,
     "read_only": false
    }
   },
   "outputs": [],
   "source": [
    "print(ma_fonction.__doc__)"
   ]
  },
  {
   "cell_type": "code",
   "execution_count": null,
   "metadata": {
    "cell_style": "split",
    "run_control": {
     "frozen": false,
     "read_only": false
    }
   },
   "outputs": [],
   "source": [
    "ma_fonction.__name__"
   ]
  },
  {
   "cell_type": "code",
   "execution_count": null,
   "metadata": {
    "cell_style": "split",
    "run_control": {
     "frozen": false,
     "read_only": false
    }
   },
   "outputs": [],
   "source": [
    "ma_fonction(1, 2)"
   ]
  },
  {
   "cell_type": "code",
   "execution_count": null,
   "metadata": {
    "cell_style": "split",
    "run_control": {
     "frozen": false,
     "read_only": false
    }
   },
   "outputs": [],
   "source": [
    "help(ma_fonction)"
   ]
  },
  {
   "cell_type": "markdown",
   "metadata": {
    "run_control": {
     "frozen": false,
     "read_only": false
    },
    "slideshow": {
     "slide_type": "slide"
    }
   },
   "source": [
    "# cascader les décorateurs"
   ]
  },
  {
   "cell_type": "code",
   "execution_count": null,
   "metadata": {
    "run_control": {
     "frozen": false,
     "read_only": false
    }
   },
   "outputs": [],
   "source": [
    "@runtime\n",
    "@counter \n",
    "def f():\n",
    "    pass"
   ]
  },
  {
   "cell_type": "code",
   "execution_count": null,
   "metadata": {
    "run_control": {
     "frozen": false,
     "read_only": false
    }
   },
   "outputs": [],
   "source": [
    "# Est équivalent à \n",
    "f = runtime(counter(f))"
   ]
  },
  {
   "cell_type": "markdown",
   "metadata": {
    "run_control": {
     "frozen": false,
     "read_only": false
    },
    "slideshow": {
     "slide_type": "slide"
    }
   },
   "source": [
    "### passer des arguments au décorateur"
   ]
  },
  {
   "cell_type": "markdown",
   "metadata": {
    "run_control": {
     "frozen": false,
     "read_only": false
    }
   },
   "source": [
    "* on peut passer des argument au **décorateur**\n",
    "  * ajouter une couche de logique\n",
    "* en général, on utilise une fonction au dessus du décorateur \n",
    "  * dont le seul rôle est de permettre  \n",
    "    au décorateur (fonction ou classe)\n",
    "\n",
    "  * de garder un accès aux arguments par une clôture"
   ]
  },
  {
   "cell_type": "code",
   "execution_count": null,
   "metadata": {
    "cell_style": "split",
    "run_control": {
     "frozen": false,
     "read_only": false
    },
    "slideshow": {
     "slide_type": "slide"
    }
   },
   "outputs": [],
   "source": [
    "def nb_appel(label=''):\n",
    "    class NumberCalls:\n",
    "        def __init__(self, f):\n",
    "            self.calls = 0\n",
    "            self.f = f\n",
    "        def __call__(self, *args):\n",
    "            self.calls += 1\n",
    "            s = (f'{label} {self.f.__name__} '\n",
    "                 f': {self.calls} calls')\n",
    "            print(s)\n",
    "            return self.f(*args)\n",
    "    return NumberCalls"
   ]
  },
  {
   "cell_type": "code",
   "execution_count": null,
   "metadata": {
    "cell_style": "split",
    "run_control": {
     "frozen": false,
     "read_only": false
    },
    "slideshow": {
     "slide_type": ""
    }
   },
   "outputs": [],
   "source": [
    "@nb_appel(\"-->\")\n",
    "def f(a, b):\n",
    "    print(a, b)\n",
    "\n",
    "f(1, 2)"
   ]
  },
  {
   "cell_type": "code",
   "execution_count": null,
   "metadata": {
    "cell_style": "split",
    "run_control": {
     "frozen": false,
     "read_only": false
    },
    "slideshow": {
     "slide_type": "slide"
    }
   },
   "outputs": [],
   "source": [
    "def caller_builder(label=''):\n",
    "    def caller(f):\n",
    "        def wrapper(*args, **dargs):\n",
    "            wrapper.calls += 1\n",
    "            print(f'{label} {f.__name__}, '\n",
    "                  f'called {wrapper.calls} times')\n",
    "            return f(*args, **dargs)\n",
    "        wrapper.calls = 0\n",
    "        return wrapper\n",
    "    return caller"
   ]
  },
  {
   "cell_type": "code",
   "execution_count": null,
   "metadata": {
    "cell_style": "split",
    "run_control": {
     "frozen": false,
     "read_only": false
    },
    "slideshow": {
     "slide_type": ""
    }
   },
   "outputs": [],
   "source": [
    "class C:\n",
    "    @caller_builder('method')\n",
    "    def ma_methode(self, x):\n",
    "        self.x = x\n",
    "\n",
    "@caller_builder('function')\n",
    "def ma_fonction():\n",
    "    pass"
   ]
  },
  {
   "cell_type": "code",
   "execution_count": null,
   "metadata": {
    "cell_style": "center",
    "run_control": {
     "frozen": false,
     "read_only": false
    }
   },
   "outputs": [],
   "source": [
    "C().ma_methode(1)"
   ]
  },
  {
   "cell_type": "code",
   "execution_count": null,
   "metadata": {
    "cell_style": "split",
    "run_control": {
     "frozen": false,
     "read_only": false
    }
   },
   "outputs": [],
   "source": [
    "C().ma_methode(1)"
   ]
  },
  {
   "cell_type": "code",
   "execution_count": null,
   "metadata": {
    "cell_style": "split",
    "run_control": {
     "frozen": false,
     "read_only": false
    }
   },
   "outputs": [],
   "source": [
    "ma_fonction()"
   ]
  },
  {
   "cell_type": "code",
   "execution_count": null,
   "metadata": {
    "run_control": {
     "frozen": false,
     "read_only": false
    },
    "slideshow": {
     "slide_type": "slide"
    }
   },
   "outputs": [],
   "source": [
    "ma_fonction()"
   ]
  }
 ],
 "metadata": {
  "kernelspec": {
   "display_name": "Python 3",
   "language": "python",
   "name": "python3"
  },
  "language_info": {
   "codemirror_mode": {
    "name": "ipython",
    "version": 3
   },
   "file_extension": ".py",
   "mimetype": "text/x-python",
   "name": "python",
   "nbconvert_exporter": "python",
   "pygments_lexer": "ipython3",
   "version": "3.7.0"
  },
  "notebookname": "décorateurs",
  "rise": {
   "autolaunch": true,
   "slideNumber": "c/t",
   "start_slideshow_at": "selected",
   "theme": "sky",
   "transition": "cube"
  },
  "toc": {
   "colors": {
    "hover_highlight": "#DAA520",
    "running_highlight": "#FF0000",
    "selected_highlight": "#FFD700"
   },
   "moveMenuLeft": true,
   "nav_menu": {
    "height": "512px",
    "width": "252px"
   },
   "navigate_menu": true,
   "number_sections": true,
   "sideBar": true,
   "threshold": "2",
   "toc_cell": false,
   "toc_section_display": "block",
   "toc_window_display": false,
   "widenNotebook": false
  },
  "version": "1.0"
 },
 "nbformat": 4,
 "nbformat_minor": 2
}
