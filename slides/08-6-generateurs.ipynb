{
 "cells": [
  {
   "cell_type": "markdown",
   "metadata": {},
   "source": [
    "<div class=\"licence\">\n",
    "<span>Licence CC BY-NC-ND</span>\n",
    "<span>Thierry Parmentelat &amp; Arnaud Legout</span>\n",
    "</div>"
   ]
  },
  {
   "cell_type": "code",
   "execution_count": null,
   "metadata": {},
   "outputs": [],
   "source": [
    "from plan import plan; plan(\"avancé\", \"générateur\")"
   ]
  },
  {
   "cell_type": "markdown",
   "metadata": {
    "slideshow": {
     "slide_type": "slide"
    }
   },
   "source": [
    "# *avertissement* "
   ]
  },
  {
   "cell_type": "markdown",
   "metadata": {},
   "source": [
    "ce contenu peut nécessiter un ménage car il contient quelques redites par rapport à la partie 3.3 sur les itérations"
   ]
  },
  {
   "cell_type": "markdown",
   "metadata": {
    "run_control": {
     "frozen": false,
     "read_only": false
    },
    "slideshow": {
     "slide_type": "slide"
    }
   },
   "source": [
    "### fonction génératrice et  itérateurs"
   ]
  },
  {
   "cell_type": "markdown",
   "metadata": {
    "run_control": {
     "frozen": false,
     "read_only": false
    },
    "slideshow": {
     "slide_type": "slide"
    }
   },
   "source": [
    "# fonction génératrice"
   ]
  },
  {
   "cell_type": "markdown",
   "metadata": {
    "run_control": {
     "frozen": false,
     "read_only": false
    }
   },
   "source": [
    "* une fonction génératrice, ou générateur, est une fonction qui retourne un itérateur\n",
    "* le code d'un générateur ressemble à un code normal\n",
    "* mais qui utilise le mot clé `yield` au lieu de `return`\n",
    "* tout se passe donc comme si à l'exécution: \n",
    "  * on `yield` une valeur, on suspend,\n",
    "  * puis plus tard à l'itération suivante  \n",
    "    on restaure l'état, \n",
    "\n",
    "  * et on recommence\n",
    "  * jusqu'à rencontrer un `return`  \n",
    "    auquel cas l'itération se termine"
   ]
  },
  {
   "cell_type": "markdown",
   "metadata": {
    "run_control": {
     "frozen": false,
     "read_only": false
    },
    "slideshow": {
     "slide_type": "slide"
    }
   },
   "source": [
    "# générateurs en pratique"
   ]
  },
  {
   "cell_type": "code",
   "execution_count": null,
   "metadata": {
    "run_control": {
     "frozen": false,
     "read_only": false
    }
   },
   "outputs": [],
   "source": [
    "# un générateur\n",
    "def func(n):\n",
    "    for i in range(n):\n",
    "        yield i**2"
   ]
  },
  {
   "cell_type": "code",
   "execution_count": null,
   "metadata": {
    "run_control": {
     "frozen": false,
     "read_only": false
    }
   },
   "outputs": [],
   "source": [
    "# retourne un objet itérable\n",
    "# qui donc peut etre le sujet d'un for\n",
    "for i in func(10):\n",
    "    print(i, end=' ') "
   ]
  },
  {
   "cell_type": "markdown",
   "metadata": {
    "run_control": {
     "frozen": false,
     "read_only": false
    },
    "slideshow": {
     "slide_type": "slide"
    }
   },
   "source": [
    "### fonction génératrice"
   ]
  },
  {
   "cell_type": "markdown",
   "metadata": {
    "run_control": {
     "frozen": false,
     "read_only": false
    }
   },
   "source": [
    "* lors de l’appel d’une fonction standard\n",
    "  * un espace de nommage est créé  \n",
    "    pour les variables locales à la fonction\n",
    "\n",
    "  * l’espace de nommage est détruit au `return`  \n",
    "    c’est-à-dire à la sortie de la fonction"
   ]
  },
  {
   "cell_type": "markdown",
   "metadata": {
    "run_control": {
     "frozen": false,
     "read_only": false
    },
    "slideshow": {
     "slide_type": "slide"
    }
   },
   "source": [
    "### fonction génératrice"
   ]
  },
  {
   "cell_type": "markdown",
   "metadata": {
    "run_control": {
     "frozen": false,
     "read_only": false
    }
   },
   "source": [
    "* lors de l’appel d’une fonction générateur\n",
    "  * un espace de nommage est créé  \n",
    "    pour les variables locales à la fonction\n",
    "\n",
    "  * cet espace de nommage est **conservé**  \n",
    "    jusqu’à la fin de l’itération\n",
    "\n",
    "  * ce qui peut nécessiter une pile d'exécution  \n",
    "    de plusieurs stackframes en cas de `yield from`"
   ]
  },
  {
   "cell_type": "markdown",
   "metadata": {
    "run_control": {
     "frozen": false,
     "read_only": false
    },
    "slideshow": {
     "slide_type": "slide"
    }
   },
   "source": [
    "### fonction génératrice"
   ]
  },
  {
   "cell_type": "code",
   "execution_count": null,
   "metadata": {
    "run_control": {
     "frozen": false,
     "read_only": false
    }
   },
   "outputs": [],
   "source": [
    "def f():\n",
    "    yield 2"
   ]
  },
  {
   "cell_type": "code",
   "execution_count": null,
   "metadata": {
    "run_control": {
     "frozen": false,
     "read_only": false
    }
   },
   "outputs": [],
   "source": [
    "f()"
   ]
  },
  {
   "cell_type": "code",
   "execution_count": null,
   "metadata": {
    "run_control": {
     "frozen": false,
     "read_only": false
    }
   },
   "outputs": [],
   "source": [
    "for i in f():\n",
    "    print(i)"
   ]
  },
  {
   "cell_type": "code",
   "execution_count": null,
   "metadata": {
    "cell_style": "split",
    "run_control": {
     "frozen": false,
     "read_only": false
    }
   },
   "outputs": [],
   "source": [
    "# si on veut le manipuler directement\n",
    "# on peut l'appeler une fois\n",
    "it = f()\n",
    "next(it)"
   ]
  },
  {
   "cell_type": "code",
   "execution_count": null,
   "metadata": {
    "cell_style": "split",
    "run_control": {
     "frozen": false,
     "read_only": false
    }
   },
   "outputs": [],
   "source": [
    "# mais pas la seconde dans ce cas précis\n",
    "try:\n",
    "    next(it)\n",
    "except StopIteration as e:\n",
    "    print(\"OOPS\", e)"
   ]
  },
  {
   "cell_type": "markdown",
   "metadata": {
    "run_control": {
     "frozen": false,
     "read_only": false
    },
    "slideshow": {
     "slide_type": "slide"
    }
   },
   "source": [
    "### fonction génératrice"
   ]
  },
  {
   "cell_type": "code",
   "execution_count": null,
   "metadata": {
    "run_control": {
     "frozen": false,
     "read_only": false
    }
   },
   "outputs": [],
   "source": [
    "def func(n):\n",
    "    for i in range(n):\n",
    "        yield i**2"
   ]
  },
  {
   "cell_type": "code",
   "execution_count": null,
   "metadata": {
    "run_control": {
     "frozen": false,
     "read_only": false
    }
   },
   "outputs": [],
   "source": [
    "for i in func(10):\n",
    "    print(i, end=' ') "
   ]
  },
  {
   "cell_type": "markdown",
   "metadata": {
    "run_control": {
     "frozen": false,
     "read_only": false
    }
   },
   "source": [
    "* la boucle `for` appelle le générateur, \n",
    "* qui renvoie un itérateur,\n",
    "* sur lequel `for` appelle `next()` comme d'habitude"
   ]
  },
  {
   "cell_type": "markdown",
   "metadata": {
    "run_control": {
     "frozen": false,
     "read_only": false
    },
    "slideshow": {
     "slide_type": "slide"
    }
   },
   "source": [
    "### fonction génératrice"
   ]
  },
  {
   "cell_type": "markdown",
   "metadata": {
    "run_control": {
     "frozen": false,
     "read_only": false
    }
   },
   "source": [
    "* la logique de l'itérateur\n",
    "* consiste à ce que son `__next__()`\n",
    "  * retourne le prochain `yield` \n",
    "  * ou à lever `StopIteration` en cas de `return`\n"
   ]
  },
  {
   "cell_type": "markdown",
   "metadata": {
    "run_control": {
     "frozen": false,
     "read_only": false
    },
    "slideshow": {
     "slide_type": "slide"
    }
   },
   "source": [
    "### fonction génératrice"
   ]
  },
  {
   "cell_type": "code",
   "execution_count": null,
   "metadata": {
    "run_control": {
     "frozen": false,
     "read_only": false
    }
   },
   "outputs": [],
   "source": [
    "x = func(3)\n",
    "next(x)"
   ]
  },
  {
   "cell_type": "code",
   "execution_count": null,
   "metadata": {
    "run_control": {
     "frozen": false,
     "read_only": false
    }
   },
   "outputs": [],
   "source": [
    "next(x)"
   ]
  },
  {
   "cell_type": "code",
   "execution_count": null,
   "metadata": {
    "run_control": {
     "frozen": false,
     "read_only": false
    }
   },
   "outputs": [],
   "source": [
    "next(x)"
   ]
  },
  {
   "cell_type": "code",
   "execution_count": null,
   "metadata": {
    "run_control": {
     "frozen": false,
     "read_only": false
    }
   },
   "outputs": [],
   "source": [
    "try:\n",
    "    next(x)\n",
    "except StopIteration as e:\n",
    "    print(\"OOPS\", e)"
   ]
  },
  {
   "cell_type": "markdown",
   "metadata": {
    "run_control": {
     "frozen": false,
     "read_only": false
    },
    "slideshow": {
     "slide_type": "slide"
    }
   },
   "source": [
    "### fonction génératrice"
   ]
  },
  {
   "cell_type": "code",
   "execution_count": null,
   "metadata": {
    "run_control": {
     "frozen": false,
     "read_only": false
    }
   },
   "outputs": [],
   "source": [
    "x = func(2)\n",
    "x"
   ]
  },
  {
   "cell_type": "code",
   "execution_count": null,
   "metadata": {
    "run_control": {
     "frozen": false,
     "read_only": false
    }
   },
   "outputs": [],
   "source": [
    "y = iter(x)\n",
    "y"
   ]
  },
  {
   "cell_type": "code",
   "execution_count": null,
   "metadata": {
    "run_control": {
     "frozen": false,
     "read_only": false
    }
   },
   "outputs": [],
   "source": [
    "z = iter(y)\n",
    "z"
   ]
  },
  {
   "cell_type": "code",
   "execution_count": null,
   "metadata": {
    "run_control": {
     "frozen": false,
     "read_only": false
    }
   },
   "outputs": [],
   "source": [
    "# l'itérateur d'un itérateur est lui-même, donc:\n",
    "y is z"
   ]
  },
  {
   "cell_type": "markdown",
   "metadata": {
    "run_control": {
     "frozen": false,
     "read_only": false
    },
    "slideshow": {
     "slide_type": "slide"
    }
   },
   "source": [
    "### fonction génératrice"
   ]
  },
  {
   "cell_type": "code",
   "execution_count": null,
   "metadata": {
    "run_control": {
     "frozen": false,
     "read_only": false
    }
   },
   "outputs": [],
   "source": [
    "# ces trois objets sont les mêmes exactement\n",
    "next(x)"
   ]
  },
  {
   "cell_type": "code",
   "execution_count": null,
   "metadata": {
    "run_control": {
     "frozen": false,
     "read_only": false
    }
   },
   "outputs": [],
   "source": [
    "# ils suivent la même itération !\n",
    "next(y)"
   ]
  },
  {
   "cell_type": "code",
   "execution_count": null,
   "metadata": {
    "run_control": {
     "frozen": false,
     "read_only": false
    }
   },
   "outputs": [],
   "source": [
    "# du coup la troisième fois ...\n",
    "try:     \n",
    "    next(z)\n",
    "except StopIteration as e:\n",
    "    print(\"OOPS\", e)"
   ]
  },
  {
   "cell_type": "markdown",
   "metadata": {
    "run_control": {
     "frozen": false,
     "read_only": false
    },
    "slideshow": {
     "slide_type": "slide"
    }
   },
   "source": [
    "# `return` et `yield`"
   ]
  },
  {
   "cell_type": "code",
   "execution_count": null,
   "metadata": {
    "cell_style": "split",
    "run_control": {
     "frozen": false,
     "read_only": false
    }
   },
   "outputs": [],
   "source": [
    "def f():\n",
    "    yield 1\n",
    "    yield 2\n",
    "    return 3\n",
    "    yield 4"
   ]
  },
  {
   "cell_type": "code",
   "execution_count": null,
   "metadata": {
    "cell_style": "split",
    "run_control": {
     "frozen": false,
     "read_only": false
    }
   },
   "outputs": [],
   "source": [
    "for i in f():\n",
    "    print(i)"
   ]
  },
  {
   "cell_type": "markdown",
   "metadata": {
    "run_control": {
     "frozen": false,
     "read_only": false
    },
    "slideshow": {
     "slide_type": "slide"
    }
   },
   "source": [
    "# `return` et `yield`"
   ]
  },
  {
   "cell_type": "markdown",
   "metadata": {
    "run_control": {
     "frozen": false,
     "read_only": false
    },
    "slideshow": {}
   },
   "source": [
    "* l'instruction `yield exp` dans le générateur\n",
    "  * correspond à un `return exp` dans (le `next` de l') itérateur\n",
    "* l'instruction `return exp` dans le générateur\n",
    "  * correspond dans l'itérateur à un `raise StopIteration(exp)`\n",
    "* la fin naturelle du générateur \n",
    "  * correspond dans l'itérateur à un `raise StopIteration(None)` \n",
    "* **ne pas lever** `StopIteration` dans le générateur "
   ]
  },
  {
   "cell_type": "markdown",
   "metadata": {
    "run_control": {
     "frozen": false,
     "read_only": false
    },
    "slideshow": {
     "slide_type": "slide"
    }
   },
   "source": [
    "# fonction générateur et itérateur"
   ]
  },
  {
   "cell_type": "markdown",
   "metadata": {
    "run_control": {
     "frozen": false,
     "read_only": false
    }
   },
   "source": [
    "* une fonction génératrice renvoie un itérateur\n",
    "* c'est donc une manière pratique de rendre un objet itérable\n",
    "* que d'implémenter sa spéciale `__iter__` \n",
    "* comme une fonction génératrice"
   ]
  },
  {
   "cell_type": "code",
   "execution_count": null,
   "metadata": {
    "cell_style": "split",
    "run_control": {
     "frozen": false,
     "read_only": false
    }
   },
   "outputs": [],
   "source": [
    "# une version avec classe \n",
    "# du parcours précédent\n",
    "class IterSquares:\n",
    "    \"\"\"les carrés de 0 à top**2\"\"\"\n",
    "    def __init__(self, top):\n",
    "        self.top = top\n",
    "    def __iter__(self):\n",
    "        i = 0\n",
    "        while i <= self.top:\n",
    "            yield i**2\n",
    "            i += 1"
   ]
  },
  {
   "cell_type": "code",
   "execution_count": null,
   "metadata": {
    "cell_style": "split",
    "run_control": {
     "frozen": false,
     "read_only": false
    },
    "slideshow": {}
   },
   "outputs": [],
   "source": [
    "for i in IterSquares(3):\n",
    "    print(i)"
   ]
  },
  {
   "cell_type": "markdown",
   "metadata": {
    "run_control": {
     "frozen": false,
     "read_only": false
    },
    "slideshow": {
     "slide_type": "slide"
    }
   },
   "source": [
    "#  un itérateur pour une classe `Mots` "
   ]
  },
  {
   "cell_type": "markdown",
   "metadata": {
    "run_control": {
     "frozen": false,
     "read_only": false
    }
   },
   "source": [
    "* on veut implémenter une classe `Mots`\n",
    "  * créée à partir d'une phrase\n",
    "  * permette d'itérer sur tous les mots dans la phrase\n",
    "  "
   ]
  },
  {
   "cell_type": "markdown",
   "metadata": {
    "run_control": {
     "frozen": false,
     "read_only": false
    }
   },
   "source": [
    "##### cas 1 : `Mots` est son propre itérateur\n",
    "\n",
    "* `Mots` a les méthodes `__iter__()` et `__next__()`\n",
    "* `__iter__()` retourne `self`\n",
    "* l’instance est l’itérateur, donc au maximum  \n",
    "  un unique itérateur par instance\n",
    "\n",
    "* `__next__()` implémente l’itération"
   ]
  },
  {
   "cell_type": "code",
   "execution_count": null,
   "metadata": {
    "run_control": {
     "frozen": false,
     "read_only": false
    },
    "slideshow": {
     "slide_type": "slide"
    }
   },
   "outputs": [],
   "source": [
    "class Mots():\n",
    "    def __init__(self, phrase):\n",
    "        self.phrase = phrase.split()\n",
    "        self.count = 0\n",
    "\n",
    "    # en faisant ce choix, une instance\n",
    "    # est son propre itérateur, avec la\n",
    "    # limite qu'on a déjà vue plusieurs fois\n",
    "    # sur les boucles imbriquées notamment\n",
    "    def __iter__(self):\n",
    "        return self\n",
    "\n",
    "    def __next__(self):\n",
    "        if self.count == len(self.phrase):\n",
    "            raise StopIteration\n",
    "        self.count = self.count + 1\n",
    "        return self.phrase[self.count - 1]"
   ]
  },
  {
   "cell_type": "code",
   "execution_count": null,
   "metadata": {
    "run_control": {
     "frozen": false,
     "read_only": false
    },
    "slideshow": {
     "slide_type": "slide"
    }
   },
   "outputs": [],
   "source": [
    "m = Mots(\"une grande phrase\")\n",
    "[x for x in m]"
   ]
  },
  {
   "cell_type": "code",
   "execution_count": null,
   "metadata": {
    "run_control": {
     "frozen": false,
     "read_only": false
    }
   },
   "outputs": [],
   "source": [
    "# il n’y a qu’un itérateur par instance \n",
    "[x for x in m] "
   ]
  },
  {
   "cell_type": "markdown",
   "metadata": {
    "run_control": {
     "frozen": false,
     "read_only": false
    },
    "slideshow": {
     "slide_type": "slide"
    }
   },
   "source": [
    "###  un itérateur pour une classe `Mots` "
   ]
  },
  {
   "cell_type": "markdown",
   "metadata": {
    "run_control": {
     "frozen": false,
     "read_only": false
    }
   },
   "source": [
    "##### Cas 2 : l'itérateur dans une classe séparée\n",
    "\n",
    "* `Mots` a la méthode `__iter__()` qui retourne une instance \n",
    "* d’une nouvelle classe `IterMots` qui sera un itérateur pour notre classe `Mots`\n",
    "* `IterMots` a les méthodes `__iter__()`, qui retourne `self`,  \n",
    "  et `__next__()` qui implémente l’itération\n",
    "\n",
    "* chaque itération sur une instance de `Mots` crée un nouvel itérateur"
   ]
  },
  {
   "cell_type": "code",
   "execution_count": null,
   "metadata": {
    "run_control": {
     "frozen": false,
     "read_only": false
    },
    "slideshow": {
     "slide_type": "slide"
    }
   },
   "outputs": [],
   "source": [
    "class Mots():\n",
    "    def __init__(self, phrase):\n",
    "        self.phrase = phrase.split()\n",
    "\n",
    "    def __iter__(self):\n",
    "        return IterMots(self.phrase)\n",
    "\n",
    "class IterMots():\n",
    "    def __init__(self, phrase):\n",
    "        self.phrase = phrase\n",
    "        self.count = 0\n",
    "\n",
    "    def __iter__(self):\n",
    "        return self\n",
    "    \n",
    "    def __next__(self):\n",
    "        if self.count == len(self.phrase):\n",
    "            raise StopIteration\n",
    "        self.count = self.count + 1\n",
    "        return self.phrase[self.count - 1]"
   ]
  },
  {
   "cell_type": "code",
   "execution_count": null,
   "metadata": {
    "cell_style": "split",
    "run_control": {
     "frozen": false,
     "read_only": false
    },
    "slideshow": {
     "slide_type": "slide"
    }
   },
   "outputs": [],
   "source": [
    "m = Mots(\"une grande phrase\")\n",
    "[x for x in m]"
   ]
  },
  {
   "cell_type": "code",
   "execution_count": null,
   "metadata": {
    "cell_style": "split",
    "run_control": {
     "frozen": false,
     "read_only": false
    }
   },
   "outputs": [],
   "source": [
    "# maintenant plus de problème\n",
    "[x.upper() for x in m] "
   ]
  },
  {
   "cell_type": "code",
   "execution_count": null,
   "metadata": {
    "run_control": {
     "frozen": false,
     "read_only": false
    }
   },
   "outputs": [],
   "source": [
    "# on peut itérer autant qu'on veut\n",
    "[x.upper() for x in m if 'a' in x]"
   ]
  },
  {
   "cell_type": "markdown",
   "metadata": {
    "run_control": {
     "frozen": false,
     "read_only": false
    },
    "slideshow": {
     "slide_type": "slide"
    }
   },
   "source": [
    "###  un itérateur pour une classe `Mots` "
   ]
  },
  {
   "cell_type": "markdown",
   "metadata": {
    "run_control": {
     "frozen": false,
     "read_only": false
    }
   },
   "source": [
    "##### Cas 3 : le plus simple\n",
    "\n",
    "* on implémente dans `Mots` uniquement `__iter__()` \n",
    "* sous forme d’une fonction générateur\n",
    "* chaque itération sur une instance crée une nouvelle fonction génératrice, donc un nouvel itérateur\n",
    "* c’est la solution la plus compacte à écrire"
   ]
  },
  {
   "cell_type": "code",
   "execution_count": null,
   "metadata": {
    "cell_style": "split",
    "run_control": {
     "frozen": false,
     "read_only": false
    },
    "slideshow": {
     "slide_type": "slide"
    }
   },
   "outputs": [],
   "source": [
    "class Mots():\n",
    "    def __init__(self, phrase):\n",
    "        self.phrase = phrase.split()\n",
    "\n",
    "    def __iter__(self):\n",
    "        for i in self.phrase:\n",
    "            yield i"
   ]
  },
  {
   "cell_type": "code",
   "execution_count": null,
   "metadata": {
    "cell_style": "split",
    "run_control": {
     "frozen": false,
     "read_only": false
    }
   },
   "outputs": [],
   "source": [
    "m = Mots(\"une grande phrase\")\n",
    "[x for x in m]"
   ]
  },
  {
   "cell_type": "code",
   "execution_count": null,
   "metadata": {
    "cell_style": "split",
    "run_control": {
     "frozen": false,
     "read_only": false
    }
   },
   "outputs": [],
   "source": [
    "[x for x in m]"
   ]
  },
  {
   "cell_type": "code",
   "execution_count": null,
   "metadata": {
    "cell_style": "split",
    "run_control": {
     "frozen": false,
     "read_only": false
    }
   },
   "outputs": [],
   "source": [
    "[x.upper() for x in m if 'a' in x]"
   ]
  },
  {
   "cell_type": "markdown",
   "metadata": {
    "run_control": {
     "frozen": false,
     "read_only": false
    },
    "slideshow": {
     "slide_type": "slide"
    }
   },
   "source": [
    "# retour sur les générateurs"
   ]
  },
  {
   "cell_type": "markdown",
   "metadata": {
    "run_control": {
     "frozen": false,
     "read_only": false
    }
   },
   "source": [
    "* l’utilisation des générateurs \n",
    "  * pour rendre facilement une classe itérable\n",
    "  * n’est qu’une toute petite partie de leur utilité\n",
    "* les générateurs sont à la base de presque tout en Python 3\n",
    "  * permet d’abstraire la difficulté d’un traitement\n",
    "  * très performant\n",
    "  * s’utilise avec tout ce qui itère \n",
    "  * à la base des coroutines et de la programmation asynchrone"
   ]
  },
  {
   "cell_type": "markdown",
   "metadata": {
    "run_control": {
     "frozen": false,
     "read_only": false
    },
    "slideshow": {
     "slide_type": "slide"
    }
   },
   "source": [
    "# exemple de générateur"
   ]
  },
  {
   "cell_type": "markdown",
   "metadata": {
    "run_control": {
     "frozen": false,
     "read_only": false
    }
   },
   "source": [
    "* je veux extraire toutes les entêtes \n",
    "  * de fonctions python\n",
    "  * contenues dans tous les fichiers Python d'un répertoire"
   ]
  },
  {
   "cell_type": "code",
   "execution_count": null,
   "metadata": {
    "run_control": {
     "frozen": false,
     "read_only": false
    }
   },
   "outputs": [],
   "source": [
    "!grep -n 'def ' *.py /dev/null"
   ]
  },
  {
   "cell_type": "code",
   "execution_count": null,
   "metadata": {
    "run_control": {
     "frozen": false,
     "read_only": false
    },
    "slideshow": {
     "slide_type": "slide"
    }
   },
   "outputs": [],
   "source": [
    "from pathlib import Path\n",
    "\n",
    "def generator(dossier):\n",
    "    for file in Path(dossier).glob(\"*.py\"):\n",
    "        try:\n",
    "            with file.open() as feed:\n",
    "                for lineno, line in enumerate(feed, 1):\n",
    "                    if line.strip().startswith('def '):\n",
    "                        yield lineno, feed.name, line.strip()[4:]\n",
    "        except OSError as exc:\n",
    "            print(f\"oops with {file} - {type(exc)} {exc}\")"
   ]
  },
  {
   "cell_type": "code",
   "execution_count": null,
   "metadata": {
    "run_control": {
     "frozen": false,
     "read_only": false
    },
    "slideshow": {
     "slide_type": "slide"
    }
   },
   "outputs": [],
   "source": [
    "# on peut l'utiliser dans tout ce qui attend un itérable\n",
    "\n",
    "# un for\n",
    "for lineno, file, line in generator(\".\"):\n",
    "    print(f\"{lineno}:{file}:{line}\")"
   ]
  },
  {
   "cell_type": "code",
   "execution_count": null,
   "metadata": {
    "cell_style": "split",
    "run_control": {
     "frozen": false,
     "read_only": false
    }
   },
   "outputs": [],
   "source": [
    "# dans un autre generateur\n",
    "def generator2():\n",
    "    for (_, filename, _) in generator('.'):\n",
    "        yield filename\n",
    "\n",
    "list(generator2())\n"
   ]
  },
  {
   "cell_type": "code",
   "execution_count": null,
   "metadata": {
    "cell_style": "split"
   },
   "outputs": [],
   "source": [
    "# ou une expression génératrice :)\n",
    "\n",
    "gen_exp = (filename for (_, filename, _) \n",
    "           in generator('samples'))\n",
    "\n",
    "for x in gen_exp:\n",
    "    print(x)"
   ]
  },
  {
   "cell_type": "markdown",
   "metadata": {
    "run_control": {
     "frozen": false,
     "read_only": false
    },
    "slideshow": {
     "slide_type": "slide"
    }
   },
   "source": [
    "# exemple de générateur"
   ]
  },
  {
   "cell_type": "markdown",
   "metadata": {
    "run_control": {
     "frozen": false,
     "read_only": false
    },
    "slideshow": {
     "slide_type": "slide"
    }
   },
   "source": [
    "## on a pas besoin de classes alors ?\n",
    "\n",
    "* si, mais uniquement pour les cas les plus sophistiqués\n",
    "  * traitement très complexe \n",
    "  * besoin d’héritage\n",
    "  * etc.\n",
    "* les générateurs fournissent une solution légère et élégante\n",
    "  * pour abstraire des traitements itératifs"
   ]
  },
  {
   "cell_type": "markdown",
   "metadata": {
    "run_control": {
     "frozen": false,
     "read_only": false
    },
    "slideshow": {
     "slide_type": "slide"
    }
   },
   "source": [
    "### `yield from`, ou comment factoriser les générateurs"
   ]
  },
  {
   "cell_type": "code",
   "execution_count": null,
   "metadata": {
    "run_control": {
     "frozen": false,
     "read_only": false
    }
   },
   "outputs": [],
   "source": [
    "def sum_numbers(num):\n",
    "    \"\"\"\n",
    "    retourne la somme de tous les chiffres d'un nombre\n",
    "    récursivement jusqu'à obtenir un chiffre entre 0 et 9\n",
    "    \"\"\"\n",
    "    _sum = 0\n",
    "    for n in str(num):\n",
    "        _sum = _sum + int(n)\n",
    "    if _sum > 10:\n",
    "        return sum_numbers(_sum)\n",
    "    else:\n",
    "        return _sum\n"
   ]
  },
  {
   "cell_type": "code",
   "execution_count": null,
   "metadata": {
    "run_control": {
     "frozen": false,
     "read_only": false
    }
   },
   "outputs": [],
   "source": [
    "sum_numbers(11236786578)"
   ]
  },
  {
   "cell_type": "code",
   "execution_count": null,
   "metadata": {
    "run_control": {
     "frozen": false,
     "read_only": false
    },
    "slideshow": {
     "slide_type": "slide"
    }
   },
   "outputs": [],
   "source": [
    "# comment factoriser du code qui contient un yield ?\n",
    "\n",
    "def gen(size):\n",
    "    # if size is even: make it odd\n",
    "    if size % 2 == 0:\n",
    "        size = size - 1\n",
    "        for i in range(size):         # le même \n",
    "            if sum_numbers(i) == 7:   # fragment \n",
    "                yield i               # de code\n",
    "    else:\n",
    "        for i in range(size):         # utilisé\n",
    "            if sum_numbers(i) == 7:   # deux fois\n",
    "                yield i               # mais avec un yield"
   ]
  },
  {
   "cell_type": "code",
   "execution_count": null,
   "metadata": {
    "run_control": {
     "frozen": false,
     "read_only": false
    },
    "slideshow": {
     "slide_type": "slide"
    }
   },
   "outputs": [],
   "source": [
    "# première solution, qui marche mais peu élégante\n",
    "\n",
    "# le code factorisé\n",
    "def gen_sum_is_7(size):\n",
    "    for i in range(size):\n",
    "        if sum_numbers(i) == 7:\n",
    "            yield i\n",
    "\n",
    "def gen(size):\n",
    "    # if size is even: make it odd\n",
    "    if size % 2 == 0:        \n",
    "        size = size - 1      \n",
    "        # on ne peut utiliser le code factorisé\n",
    "        # que via un for, du coup c'est lourd\n",
    "        for i in gen_sum_is_7(size):\n",
    "            yield i\n",
    "    else:\n",
    "        # ditto\n",
    "        for i in gen_sum_is_7(size):\n",
    "            yield i"
   ]
  },
  {
   "cell_type": "code",
   "execution_count": null,
   "metadata": {
    "run_control": {
     "frozen": false,
     "read_only": false
    },
    "slideshow": {
     "slide_type": "slide"
    }
   },
   "outputs": [],
   "source": [
    "# deuxième solution: yield from\n",
    "\n",
    "# le code factorisé (inchangé p/r solution 1)\n",
    "def gen_sum_is_7(size):\n",
    "    for i in range(size):\n",
    "        if sum_numbers(i) == 7:\n",
    "            yield i\n",
    "\n",
    "def gen(size):\n",
    "    # if size is even: make it odd\n",
    "    if size % 2 == 0:        \n",
    "        size = size - 1      \n",
    "        # on ne peut utiliser le code factorisé\n",
    "        # que via un for, du coup c'est lourd\n",
    "        yield from gen_sum_is_7(size)\n",
    "    else:\n",
    "        # ditto\n",
    "        yield from gen_sum_is_7(size)"
   ]
  },
  {
   "cell_type": "markdown",
   "metadata": {
    "run_control": {
     "frozen": false,
     "read_only": false
    },
    "slideshow": {
     "slide_type": "slide"
    }
   },
   "source": [
    "# `yield from`\n",
    "\n",
    "* beaucoup plus puissant que cela\n",
    "* on en reparlera avec les coroutines et `asyncio`\n",
    "  * c'est de la délégation"
   ]
  },
  {
   "cell_type": "markdown",
   "metadata": {
    "run_control": {
     "frozen": false,
     "read_only": false
    },
    "slideshow": {
     "slide_type": "slide"
    }
   },
   "source": [
    "# chaîne de traitements"
   ]
  },
  {
   "cell_type": "markdown",
   "metadata": {
    "run_control": {
     "frozen": false,
     "read_only": false
    }
   },
   "source": [
    "* un usage classique des générateurs est de les chaîner\n",
    "  * pour faire une chaîne de traitements\n",
    "* l’idée est de cascader plusieurs traitements\n",
    "  * sans jamais générer une grande structure de données temporaire"
   ]
  },
  {
   "cell_type": "code",
   "execution_count": null,
   "metadata": {
    "run_control": {
     "frozen": false,
     "read_only": false
    },
    "slideshow": {
     "slide_type": "slide"
    }
   },
   "outputs": [],
   "source": [
    "# ces trois fonctions utilisent yield et sont donc des générateurs \n",
    "def cat_on_file(filename):\n",
    "    print(\"ouverture de {}\".format(filename))\n",
    "    with open(filename, 'r') as f:\n",
    "        for line in f:\n",
    "            yield line.strip()\n",
    "\n",
    "# ces deux fonctions attendent un itérable 'lines'\n",
    "# et peuvent donc travailler \n",
    "# sur (le résultat d')un générateur\n",
    "def remove_comments(lines):\n",
    "    for line in lines:\n",
    "        if not line.startswith('#'):\n",
    "            yield line\n",
    "\n",
    "\n",
    "def get_func_headers(lines):\n",
    "    for line in lines:\n",
    "        if line.startswith('def') and line.endswith(':'):\n",
    "            yield line"
   ]
  },
  {
   "cell_type": "code",
   "execution_count": null,
   "metadata": {
    "run_control": {
     "frozen": false,
     "read_only": false
    },
    "slideshow": {
     "slide_type": "slide"
    }
   },
   "outputs": [],
   "source": [
    "# all_lines est l'itérateur rendu par cat_on_files\n",
    "all_lines = cat_on_file('samples/closures.py')"
   ]
  },
  {
   "cell_type": "code",
   "execution_count": null,
   "metadata": {
    "run_control": {
     "frozen": false,
     "read_only": false
    }
   },
   "outputs": [],
   "source": [
    "# on peut donc appeler remove_comments dessus\n",
    "all_lines_no_comment = remove_comments(all_lines)"
   ]
  },
  {
   "cell_type": "code",
   "execution_count": null,
   "metadata": {
    "run_control": {
     "frozen": false,
     "read_only": false
    }
   },
   "outputs": [],
   "source": [
    "# et à nouveau\n",
    "all_functions = get_func_headers(all_lines_no_comment)"
   ]
  },
  {
   "cell_type": "markdown",
   "metadata": {
    "run_control": {
     "frozen": false,
     "read_only": false
    }
   },
   "source": [
    "* remarquez bien qu'à ce stade on n'a toujours pas ouvert le fichier !"
   ]
  },
  {
   "cell_type": "code",
   "execution_count": null,
   "metadata": {
    "cell_style": "split",
    "run_control": {
     "frozen": false,
     "read_only": false
    },
    "slideshow": {
     "slide_type": "-"
    }
   },
   "outputs": [],
   "source": [
    "for i in all_functions:\n",
    "    print(i)"
   ]
  },
  {
   "cell_type": "code",
   "execution_count": null,
   "metadata": {
    "cell_style": "split",
    "run_control": {
     "frozen": false,
     "read_only": false
    }
   },
   "outputs": [],
   "source": [
    "# si on recommence il ne se passe plus rien\n",
    "for i in all_functions:\n",
    "    print(i)"
   ]
  }
 ],
 "metadata": {
  "jupytext": {
   "cell_metadata_filter": "all",
   "formats": "ipynb",
   "notebook_metadata_filter": "all,-language_info,-toc,-jupytext.text_representation.jupytext_version"
  },
  "kernelspec": {
   "display_name": "Python 3",
   "language": "python",
   "name": "python3"
  },
  "language_info": {
   "codemirror_mode": {
    "name": "ipython",
    "version": 3
   },
   "file_extension": ".py",
   "mimetype": "text/x-python",
   "name": "python",
   "nbconvert_exporter": "python",
   "pygments_lexer": "ipython3",
   "version": "3.7.4"
  },
  "notebookname": "fonction génératrice et itérateur",
  "rise": {
   "autolaunch": true,
   "slideNumber": "c/t",
   "start_slideshow_at": "selected",
   "theme": "sky",
   "transition": "cube"
  },
  "toc": {
   "base_numbering": 1,
   "nav_menu": {},
   "number_sections": true,
   "sideBar": true,
   "skip_h1_title": false,
   "title_cell": "Table of Contents",
   "title_sidebar": "Contents",
   "toc_cell": false,
   "toc_position": {},
   "toc_section_display": true,
   "toc_window_display": false
  },
  "version": "1.0"
 },
 "nbformat": 4,
 "nbformat_minor": 2
}
