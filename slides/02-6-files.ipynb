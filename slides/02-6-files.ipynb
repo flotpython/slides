{
 "cells": [
  {
   "cell_type": "markdown",
   "metadata": {},
   "source": [
    "<div class=\"licence\">\n",
    "<span>Licence CC BY-NC-ND</span>\n",
    "<span>Thierry Parmentelat &amp; Arnaud Legout</span>\n",
    "</div>"
   ]
  },
  {
   "cell_type": "code",
   "execution_count": null,
   "metadata": {
    "slideshow": {
     "slide_type": "slide"
    }
   },
   "outputs": [],
   "source": [
    "from plan import plan; plan(\"type\", \"fichier\")"
   ]
  },
  {
   "cell_type": "markdown",
   "metadata": {
    "cell_style": "center",
    "slideshow": {
     "slide_type": "slide"
    }
   },
   "source": [
    "# fichiers"
   ]
  },
  {
   "cell_type": "markdown",
   "metadata": {},
   "source": [
    "* on a très souvent besoin de lire ou d'écrire un fichier par programme  \n",
    "  notamment bien sûr pour lire les entrées ou sauver les résultats\n",
    "\n",
    "* pour la lecture en pratique on utilise parfois des librairies  \n",
    "  e.g. pour lire du JSON ou du XML, ou des formats spécialisés\n",
    "  \n",
    "* toutefois il est bon de savoir utiliser les outils de bas niveau  \n",
    "  enfin aussi bas niveau que ce qu'offre Python"
   ]
  },
  {
   "cell_type": "markdown",
   "metadata": {
    "slideshow": {
     "slide_type": "slide"
    }
   },
   "source": [
    "## `open()`"
   ]
  },
  {
   "cell_type": "markdown",
   "metadata": {
    "run_control": {
     "frozen": false,
     "read_only": false
    },
    "slideshow": {
     "slide_type": ""
    }
   },
   "source": [
    "* lire et écrire un fichier est très facile en Python\n",
    "* ouvrir un fichier pour créer un objet \"fichier\"\n",
    "* `open('mon_fichier.txt', 'r')`\n",
    "  * `'r'` ouvre le fichier en lecture (défaut),\n",
    "  * `‘w’` en écriture,\n",
    "  * `‘a’` en écriture à la suite (*append*),\n",
    "* `open()` retourne un objet de type fichier  \n",
    "* qu'il faut **bien penser à refermer**  \n",
    "  sans quoi on provoque des fuites de *file descriptors*, et au bout  \n",
    "  d'un moment l'OS ne nous laisse plus ouvrir de fichiers du tout"
   ]
  },
  {
   "cell_type": "markdown",
   "metadata": {
    "run_control": {
     "frozen": false,
     "read_only": false
    },
    "slideshow": {
     "slide_type": "slide"
    }
   },
   "source": [
    "### utilisez un `with`"
   ]
  },
  {
   "cell_type": "markdown",
   "metadata": {
    "run_control": {
     "frozen": false,
     "read_only": false
    }
   },
   "source": [
    "* c'est pourquoi il est **recommandé** \n",
    "* de prendre l'habitude de **toujours utiliser un context manager** "
   ]
  },
  {
   "cell_type": "code",
   "execution_count": null,
   "metadata": {
    "run_control": {
     "frozen": false,
     "read_only": false
    }
   },
   "outputs": [],
   "source": [
    "# on n'a pas encore étudié l'instruction with\n",
    "# mais je vous conseille de toujours procéder comme ceci\n",
    "\n",
    "# avec with on n'a pas besoin de fermer le fichier\n",
    "with open('temporaire.txt', 'w') as writer:\n",
    "    for i in 10, 20, 30:\n",
    "        writer.write('{} {}\\n'.format(i, i**2))"
   ]
  },
  {
   "cell_type": "markdown",
   "metadata": {
    "run_control": {
     "frozen": false,
     "read_only": false
    },
    "slideshow": {
     "slide_type": "slide"
    }
   },
   "source": [
    "### sans context manager"
   ]
  },
  {
   "cell_type": "code",
   "execution_count": null,
   "metadata": {
    "run_control": {
     "frozen": false,
     "read_only": false
    }
   },
   "outputs": [],
   "source": [
    "# dans du (très) vieux code, vous pourrez voir\n",
    "\n",
    "writer = open('temporaire.txt', 'w')\n",
    "for i in 10, 20, 30:\n",
    "    writer.write('{} {}\\n'.format(i, i**2))\n",
    "writer.close()"
   ]
  },
  {
   "cell_type": "markdown",
   "metadata": {},
   "source": [
    "avantage du `with`: \n",
    "\n",
    "* pas besoin de fermer\n",
    "* même en cas de gros souci (exception)"
   ]
  },
  {
   "cell_type": "markdown",
   "metadata": {
    "run_control": {
     "frozen": false,
     "read_only": false
    },
    "slideshow": {
     "slide_type": "slide"
    }
   },
   "source": [
    "## lecture"
   ]
  },
  {
   "cell_type": "markdown",
   "metadata": {
    "run_control": {
     "frozen": false,
     "read_only": false
    }
   },
   "source": [
    "* l'objet fichier est un **itérable** lui-même\n",
    "* donc on peut l'utiliser dans un `for` "
   ]
  },
  {
   "cell_type": "code",
   "execution_count": null,
   "metadata": {
    "slideshow": {
     "slide_type": ""
    }
   },
   "outputs": [],
   "source": [
    "# pour inspecter ce qu'on vient d'écrire\n",
    "# dans le fichier qui s'appelle \"temporaire.txt\" \n",
    "# dans le répertoire courant\n",
    "\n",
    "# lire un fichier texte ligne par ligne\n",
    "# on ne peut pas faire plus compact et lisible !\n",
    "\n",
    "# remarquez aussi:\n",
    "# open() sans le mode ⇔ open('r')\n",
    "\n",
    "with open(\"temporaire.txt\") as reader:\n",
    "    for line in reader:\n",
    "        # attention ici line contient déjà le newline\n",
    "        # c'est pourquoi on demande à print() de ne pas\n",
    "        # en ajouter un second\n",
    "        print(line, end=\"\")"
   ]
  },
  {
   "cell_type": "markdown",
   "metadata": {
    "slideshow": {
     "slide_type": "slide"
    }
   },
   "source": [
    "### lecture en comptant les lignes"
   ]
  },
  {
   "cell_type": "markdown",
   "metadata": {},
   "source": [
    "* pour anticiper un peu:\n",
    "  * si je voulais compter les lignes ?\n",
    "* (on en reparlera au sujet des itérations)"
   ]
  },
  {
   "cell_type": "code",
   "execution_count": null,
   "metadata": {
    "run_control": {
     "frozen": false,
     "read_only": false
    }
   },
   "outputs": [],
   "source": [
    "# ne défigurez pas votre code juste pour \n",
    "# avoir un indice de boucle, utilisez enumerate\n",
    "\n",
    "with open('temporaire.txt') as reader:\n",
    "    for lineno, line in enumerate(reader):\n",
    "        print(f\"{lineno+1}: {line}\", end='')"
   ]
  },
  {
   "cell_type": "markdown",
   "metadata": {
    "run_control": {
     "frozen": false,
     "read_only": false
    },
    "slideshow": {
     "slide_type": "slide"
    }
   },
   "source": [
    "### évitez `readlines()`"
   ]
  },
  {
   "cell_type": "markdown",
   "metadata": {
    "run_control": {
     "frozen": false,
     "read_only": false
    }
   },
   "source": [
    "* `F.readlines()`\n",
    "  * retourne un itérateur sur les lignes\n",
    "  * équivalent à itérer sur F directement \n",
    "  * mais moins performant (charge tout le fichier !)\n",
    "  * et moins pythonique"
   ]
  },
  {
   "cell_type": "code",
   "execution_count": null,
   "metadata": {
    "run_control": {
     "frozen": false,
     "read_only": false
    }
   },
   "outputs": [],
   "source": [
    "# fonctionne, mais à éviter \n",
    "\n",
    "with open('temporaire.txt', 'r') as in_file:\n",
    "    for line in in_file.readlines():\n",
    "        print(line, end='')"
   ]
  },
  {
   "cell_type": "markdown",
   "metadata": {
    "run_control": {
     "frozen": false,
     "read_only": false
    },
    "slideshow": {
     "slide_type": "slide"
    }
   },
   "source": [
    "### autres méthodes en lecture"
   ]
  },
  {
   "cell_type": "markdown",
   "metadata": {
    "run_control": {
     "frozen": false,
     "read_only": false
    }
   },
   "source": [
    "* `F.read(size)` lit `size` octets\n",
    " * si `size` n’est pas spécifié, lit tout le fichier\n",
    " * retourne une chaîne de caractères `str` contenant ce qui a été lu\n",
    "* `F.readline()` lit une seule ligne\n",
    "  * la chaîne retournée contient `\\n` à la fin"
   ]
  },
  {
   "cell_type": "markdown",
   "metadata": {
    "slideshow": {
     "slide_type": "slide"
    }
   },
   "source": [
    "## écriture"
   ]
  },
  {
   "cell_type": "markdown",
   "metadata": {},
   "source": [
    "### mode d'ouverture\n",
    "\n",
    "* `open()` prend en premier paramètre le nom du fichier\n",
    "* en second vient **le mode** d'ouverture\n",
    "* qui est typiquement \n",
    "  * soit absent complètement (ouverture en lecture)\n",
    "  * soit la chaine 'r' (pour *read* bien sûr)\n",
    "  * soit la chaine 'w' (pour *write*)\n",
    " \n",
    "on peut aussi créer des modes composites (plusieurs caractères), on y reviendra  "
   ]
  },
  {
   "cell_type": "markdown",
   "metadata": {
    "slideshow": {
     "slide_type": "slide"
    }
   },
   "source": [
    "### méthodes sur fichiers en écriture"
   ]
  },
  {
   "cell_type": "markdown",
   "metadata": {
    "slideshow": {
     "slide_type": ""
    }
   },
   "source": [
    "pour utiliser un fichier ouvert en écriture "
   ]
  },
  {
   "cell_type": "markdown",
   "metadata": {
    "run_control": {
     "frozen": false,
     "read_only": false
    }
   },
   "source": [
    "* `F.write('mon texte\\n')`\n",
    "  * écrit (ici une ligne) dans le fichier\n",
    "* `F.writelines(sequence)`\n",
    "  * écrit une séquence dans un fichier, le saut de ligne doit être explicite avec `\\n` \n",
    "* `F.flush()`\n",
    "  * force l’écriture dans le fichier en vidant le cache\n",
    "* `print(\"paramètres\", \"usuels\", file=F)`\n",
    "  * redirige `print` dans ce fichier"
   ]
  },
  {
   "cell_type": "markdown",
   "metadata": {
    "run_control": {
     "frozen": false,
     "read_only": false
    },
    "slideshow": {
     "slide_type": "slide"
    }
   },
   "source": [
    "### fichiers texte, type `str` et EOL"
   ]
  },
  {
   "cell_type": "markdown",
   "metadata": {
    "run_control": {
     "frozen": false,
     "read_only": false
    },
    "slideshow": {
     "slide_type": ""
    }
   },
   "source": [
    "un fichier sera en mode texte si le mode ne contient pas `b`:\n",
    "\n",
    "* le décodage et l’encodage sont automatiques lorsqu’on lit ou écrit dans le fichier\n",
    "* on obtiendra toujours un objet `str` en lecture et on ne pourra écrire qu’un objet `str`\n",
    "* les fins de lignes sont automatiquement converties en '\\n' pour être indépendant de l’OS"
   ]
  },
  {
   "cell_type": "markdown",
   "metadata": {
    "run_control": {
     "frozen": false,
     "read_only": false
    },
    "slideshow": {
     "slide_type": "slide"
    }
   },
   "source": [
    "## fichiers ouverts en binaire"
   ]
  },
  {
   "cell_type": "markdown",
   "metadata": {
    "run_control": {
     "frozen": false,
     "read_only": false
    },
    "slideshow": {
     "slide_type": ""
    }
   },
   "source": [
    "### ajouter `b` dans le mode\n",
    "\n",
    "on peut ouvrir un fichier Python **en mode binaire** \n",
    "\n",
    "* en ajoutant `b` au mode d'ouverture,\n",
    "* on obtiendra toujours un objet `bytes` en lecture et on ne pourra écrire qu’un objet `bytes`\n",
    "* il n’y aura aucun encodage, décodate, et aucune conversion de fin de ligne (auberge espagnole)"
   ]
  },
  {
   "cell_type": "code",
   "execution_count": null,
   "metadata": {
    "cell_style": "split",
    "slideshow": {
     "slide_type": ""
    }
   },
   "outputs": [],
   "source": [
    "# j'ai besoin d'un objet bytes\n",
    "# rappelez vous la section sur Unicode\n",
    "text = \"noël en été\\n\"\n",
    "binaire = text.encode(encoding=\"utf-8\")\n",
    "\n",
    "binaire"
   ]
  },
  {
   "cell_type": "code",
   "execution_count": null,
   "metadata": {
    "cell_style": "split"
   },
   "outputs": [],
   "source": [
    "type(binaire), len(binaire)"
   ]
  },
  {
   "cell_type": "code",
   "execution_count": null,
   "metadata": {
    "cell_style": "center",
    "slideshow": {
     "slide_type": "slide"
    }
   },
   "outputs": [],
   "source": [
    "# remarquez le 'b' dans le mode d'ouverture\n",
    "\n",
    "with open('temporaire.bin', 'wb') as out_file:\n",
    "    # je peux du coup écrire un objet bytes\n",
    "    out_file.write(binaire)"
   ]
  },
  {
   "cell_type": "code",
   "execution_count": null,
   "metadata": {
    "cell_style": "center",
    "slideshow": {
     "slide_type": ""
    }
   },
   "outputs": [],
   "source": [
    "# pareil en lecture, le mode avec un 'b'\n",
    "# va faire que read() retourne un objet bytes\n",
    "\n",
    "with open('temporaire.bin', 'rb') as in_file:\n",
    "    binaire2 = in_file.read()"
   ]
  },
  {
   "cell_type": "code",
   "execution_count": null,
   "metadata": {
    "slideshow": {
     "slide_type": ""
    }
   },
   "outputs": [],
   "source": [
    "# et donc on retombe bien sur nos pieds\n",
    "binaire2 == binaire"
   ]
  },
  {
   "cell_type": "markdown",
   "metadata": {
    "run_control": {
     "frozen": false,
     "read_only": false
    },
    "slideshow": {
     "slide_type": "slide"
    }
   },
   "source": [
    "### un autre exemple"
   ]
  },
  {
   "cell_type": "markdown",
   "metadata": {},
   "source": [
    "dans l'autre sens, si on part d'un fichier texte  \n",
    "qui n'est pas purement ASCII, on obtient des objets  \n",
    "de taille différente selon qu'on lit en binaire ou pas  \n",
    "car **un caractère n'est pas un octet**"
   ]
  },
  {
   "cell_type": "code",
   "execution_count": null,
   "metadata": {
    "run_control": {
     "frozen": false,
     "read_only": false
    }
   },
   "outputs": [],
   "source": [
    "with open('../data/une-charogne.txt') as texte:\n",
    "   x = texte.read()\n",
    "type (x), len(x)"
   ]
  },
  {
   "cell_type": "code",
   "execution_count": null,
   "metadata": {
    "run_control": {
     "frozen": false,
     "read_only": false
    }
   },
   "outputs": [],
   "source": [
    "with open('../data/une-charogne.txt', 'rb') as binaire:\n",
    "   y = binaire.read()\n",
    "type (y), len(y)"
   ]
  },
  {
   "cell_type": "markdown",
   "metadata": {},
   "source": [
    "## notions avancées"
   ]
  },
  {
   "cell_type": "markdown",
   "metadata": {
    "run_control": {
     "frozen": false,
     "read_only": false
    },
    "slideshow": {
     "slide_type": "slide"
    }
   },
   "source": [
    "### encodages par défaut"
   ]
  },
  {
   "cell_type": "markdown",
   "metadata": {
    "run_control": {
     "frozen": false,
     "read_only": false
    }
   },
   "source": [
    "* vous remarquez qu'on a souvent appelé `open()` sans préciser l'encodage\n",
    "* l’encodage par défaut pour un fichier ouvert en mode texte est celui retourné par: "
   ]
  },
  {
   "cell_type": "code",
   "execution_count": null,
   "metadata": {
    "run_control": {
     "frozen": false,
     "read_only": false
    }
   },
   "outputs": [],
   "source": [
    "import locale \n",
    "locale.getpreferredencoding(False)"
   ]
  },
  {
   "cell_type": "markdown",
   "metadata": {
    "run_control": {
     "frozen": false,
     "read_only": false
    },
    "slideshow": {
     "slide_type": "slide"
    }
   },
   "source": [
    "* appeler `open()` sans préciser l'encodage peut être risqué\n",
    "  * dépend des réglages sur la machine cible\n",
    "* il vaut mieux toujours être **explicite** et préciser l'encodage"
   ]
  },
  {
   "cell_type": "code",
   "execution_count": null,
   "metadata": {
    "run_control": {
     "frozen": false,
     "read_only": false
    }
   },
   "outputs": [],
   "source": [
    "with open('temporaire.txt', 'r', encoding='utf8') as in_file:\n",
    "    print(in_file.read())"
   ]
  },
  {
   "cell_type": "markdown",
   "metadata": {},
   "source": [
    "* le problème est toutefois de moins en moins aigü\n",
    "  * Windows, MacOS et Linux à présent configurés par défaut pour UTF-8\n",
    "* si vous avez encore du `cp1252` (vieux Windows) ou des ISO-latin15 (Unix)\n",
    "  * je vous recommande de transcoder tout ça !"
   ]
  },
  {
   "cell_type": "markdown",
   "metadata": {
    "run_control": {
     "frozen": false,
     "read_only": false
    },
    "slideshow": {
     "slide_type": "slide"
    }
   },
   "source": [
    "### fichiers système"
   ]
  },
  {
   "cell_type": "markdown",
   "metadata": {
    "run_control": {
     "frozen": false,
     "read_only": false
    }
   },
   "source": [
    "* `sys.stdout`, `sys.stdin`, ",
    "`sys.stderr`\n",
    "  * sortie, entrée et erreur standard \n",
    "  * accessibles donc au travers du module `sys`"
   ]
  },
  {
   "cell_type": "code",
   "execution_count": null,
   "metadata": {},
   "outputs": [],
   "source": [
    "import sys\n",
    "sys.stdout"
   ]
  },
  {
   "cell_type": "markdown",
   "metadata": {
    "run_control": {
     "frozen": false,
     "read_only": false
    },
    "slideshow": {
     "slide_type": ""
    }
   },
   "source": [
    "## le module `pathlib`"
   ]
  },
  {
   "cell_type": "markdown",
   "metadata": {
    "run_control": {
     "frozen": false,
     "read_only": false
    },
    "slideshow": {
     "slide_type": "slide"
    }
   },
   "source": [
    "### objectifs\n",
    "\n",
    "* simplifier la gestion des noms de fichier \n",
    "* pour rendre le code plus concis\n",
    "* et donc plus lisible\n",
    "* sous-titre: *object-oriented filesystem paths*"
   ]
  },
  {
   "cell_type": "markdown",
   "metadata": {
    "run_control": {
     "frozen": false,
     "read_only": false
    },
    "slideshow": {
     "slide_type": "slide"
    }
   },
   "source": [
    "### présentation du module\n",
    "\n",
    "* voir [documentation complète](https://docs.python.org/3/library/pathlib.html)\n",
    "* et notamment un diagramme des classes \n",
    "  * `purepath` : manipulation sans le filesystem\n",
    "  * `path` : par exemple pour globbing (résoudre '*')\n",
    "* dispo dans librairie standard depuis python-3.4\n",
    "  * et aussi dans pypi, donc pour 2.7\n",
    "* ne gère pas\n",
    "  * les objets fichier (s'arrête à `open`)\n",
    "  * les urls"
   ]
  },
  {
   "cell_type": "markdown",
   "metadata": {
    "run_control": {
     "frozen": false,
     "read_only": false
    },
    "slideshow": {
     "slide_type": "slide"
    }
   },
   "source": [
    "### un exemple\n",
    "\n",
    "* orienté objet\n",
    "* le sujet devient plus visible\n",
    "* **NB**: un objet `Path` est immutable"
   ]
  },
  {
   "cell_type": "code",
   "execution_count": null,
   "metadata": {
    "run_control": {
     "frozen": false,
     "read_only": false
    }
   },
   "outputs": [],
   "source": [
    "# avec os.path\n",
    "import os.path\n",
    "\n",
    "config_dir = \"/etc/apache2\"\n",
    "if os.path.isdir(config_dir):\n",
    "    print(\"OUI\")"
   ]
  },
  {
   "cell_type": "code",
   "execution_count": null,
   "metadata": {
    "run_control": {
     "frozen": false,
     "read_only": false
    }
   },
   "outputs": [],
   "source": [
    "# avec pathlib\n",
    "from pathlib import Path\n",
    "\n",
    "config_path = Path(\"/etc/apache2\")\n",
    "if config_path.is_dir():\n",
    "    print(\"OUI\")"
   ]
  },
  {
   "cell_type": "markdown",
   "metadata": {
    "run_control": {
     "frozen": false,
     "read_only": false
    },
    "slideshow": {
     "slide_type": "slide"
    }
   },
   "source": [
    "### l'opérateur `/`"
   ]
  },
  {
   "cell_type": "markdown",
   "metadata": {
    "run_control": {
     "frozen": false,
     "read_only": false
    }
   },
   "source": [
    "* la fin de `os.path.join`"
   ]
  },
  {
   "cell_type": "code",
   "execution_count": null,
   "metadata": {
    "run_control": {
     "frozen": false,
     "read_only": false
    }
   },
   "outputs": [],
   "source": [
    "# un chemin absolu\n",
    "prefix = Path(\"/etc\")\n",
    "# le chemin absolu du directory courant\n",
    "dot = Path.cwd()\n",
    "# ou du homedir\n",
    "home = Path.home()\n",
    "# un nom de ficher\n",
    "filename = Path(\"apache\")\n",
    "\n",
    "# Path / Path -> Path bien sûr\n",
    "type(prefix / filename)"
   ]
  },
  {
   "cell_type": "code",
   "execution_count": null,
   "metadata": {
    "run_control": {
     "frozen": false,
     "read_only": false
    },
    "slideshow": {
     "slide_type": "slide"
    }
   },
   "outputs": [],
   "source": [
    "# Path / str -> Path\n",
    "type(prefix / \"apache2\")"
   ]
  },
  {
   "cell_type": "code",
   "execution_count": null,
   "metadata": {
    "run_control": {
     "frozen": false,
     "read_only": false
    }
   },
   "outputs": [],
   "source": [
    "# str / Path -> Path\n",
    "type(\"/etc\" / Path(\"apache2\"))"
   ]
  },
  {
   "cell_type": "code",
   "execution_count": null,
   "metadata": {
    "run_control": {
     "frozen": false,
     "read_only": false
    }
   },
   "outputs": [],
   "source": [
    "# On peut chainer le tout sans parenthèse \n",
    "# si le premier (à gauche) est un Path\n",
    "\n",
    "type(prefix / \"apache2\" / \"modules.d\")"
   ]
  },
  {
   "cell_type": "code",
   "execution_count": null,
   "metadata": {
    "run_control": {
     "frozen": false,
     "read_only": false
    }
   },
   "outputs": [],
   "source": [
    "# mais bien sûr str / str -> TypeError\n",
    "try:\n",
    "    \"/etc\" / \"apache2\"\n",
    "except Exception as e:\n",
    "    print(\"OOPS\", e)"
   ]
  },
  {
   "cell_type": "markdown",
   "metadata": {
    "run_control": {
     "frozen": false,
     "read_only": false
    },
    "slideshow": {
     "slide_type": "slide"
    }
   },
   "source": [
    "### décorticage"
   ]
  },
  {
   "cell_type": "markdown",
   "metadata": {
    "run_control": {
     "frozen": false,
     "read_only": false
    }
   },
   "source": [
    "* remplacement de `basename` et `dirname` et similaires"
   ]
  },
  {
   "cell_type": "code",
   "execution_count": null,
   "metadata": {
    "run_control": {
     "frozen": false,
     "read_only": false
    }
   },
   "outputs": [],
   "source": [
    "# un chemin vers le directory 'filepath-globbing' dans ce répertoire\n",
    "\n",
    "absolute = Path.cwd()\n",
    "relative = Path(\".\")\n",
    "\n",
    "globbing = absolute / \"filepath-globbing\"\n",
    "\n",
    "# retrouver le string\n",
    "str(globbing)"
   ]
  },
  {
   "cell_type": "code",
   "execution_count": null,
   "metadata": {
    "run_control": {
     "frozen": false,
     "read_only": false
    }
   },
   "outputs": [],
   "source": [
    "globbing.parts"
   ]
  },
  {
   "cell_type": "code",
   "execution_count": null,
   "metadata": {
    "run_control": {
     "frozen": false,
     "read_only": false
    }
   },
   "outputs": [],
   "source": [
    "# basename\n",
    "globbing.name"
   ]
  },
  {
   "cell_type": "code",
   "execution_count": null,
   "metadata": {
    "run_control": {
     "frozen": false,
     "read_only": false
    }
   },
   "outputs": [],
   "source": [
    "# dirname\n",
    "globbing.parent"
   ]
  },
  {
   "cell_type": "code",
   "execution_count": null,
   "metadata": {
    "run_control": {
     "frozen": false,
     "read_only": false
    }
   },
   "outputs": [],
   "source": [
    "list(globbing.parents)"
   ]
  },
  {
   "cell_type": "code",
   "execution_count": null,
   "metadata": {
    "run_control": {
     "frozen": false,
     "read_only": false
    },
    "slideshow": {
     "slide_type": "slide"
    }
   },
   "outputs": [],
   "source": [
    "# parce qu'on l'a construit à partir de cwd() qui est absolu\n",
    "globbing.is_absolute()"
   ]
  },
  {
   "cell_type": "code",
   "execution_count": null,
   "metadata": {
    "run_control": {
     "frozen": false,
     "read_only": false
    }
   },
   "outputs": [],
   "source": [
    "Path(\"globbing\").is_absolute()"
   ]
  },
  {
   "cell_type": "code",
   "execution_count": null,
   "metadata": {
    "run_control": {
     "frozen": false,
     "read_only": false
    }
   },
   "outputs": [],
   "source": [
    "# ancien abspath()\n",
    "globbing.resolve()"
   ]
  },
  {
   "cell_type": "code",
   "execution_count": null,
   "metadata": {
    "run_control": {
     "frozen": false,
     "read_only": false
    }
   },
   "outputs": [],
   "source": [
    "list(globbing.parents)[-2]"
   ]
  },
  {
   "cell_type": "code",
   "execution_count": null,
   "metadata": {
    "run_control": {
     "frozen": false,
     "read_only": false
    }
   },
   "outputs": [],
   "source": [
    "# ancien relpath()\n",
    "# juste pour rendre le notebook utilisable partout (windows?)\n",
    "level1 = list(globbing.parents)[-2]\n",
    "print(\"level1\", level1)\n",
    "# chez moi level1 vaut \"/Users\"\n",
    "globbing.relative_to(level1)"
   ]
  },
  {
   "cell_type": "markdown",
   "metadata": {
    "run_control": {
     "frozen": false,
     "read_only": false
    },
    "slideshow": {
     "slide_type": "slide"
    }
   },
   "source": [
    "### pattern-matching"
   ]
  },
  {
   "cell_type": "code",
   "execution_count": null,
   "metadata": {
    "cell_style": "center",
    "run_control": {
     "frozen": false,
     "read_only": false
    },
    "slideshow": {
     "slide_type": ""
    }
   },
   "outputs": [],
   "source": [
    "# est-ce que le nom de mon objet Path \n",
    "# a une certaine forme ?\n",
    "\n",
    "globbing.match(\"**/slides/*\")"
   ]
  },
  {
   "cell_type": "code",
   "execution_count": null,
   "metadata": {
    "run_control": {
     "frozen": false,
     "read_only": false
    }
   },
   "outputs": [],
   "source": [
    "globbing.match(\"**/*globbing*\")"
   ]
  },
  {
   "cell_type": "markdown",
   "metadata": {
    "run_control": {
     "frozen": false,
     "read_only": false
    },
    "slideshow": {
     "slide_type": "slide"
    }
   },
   "source": [
    "### pattern-matching"
   ]
  },
  {
   "cell_type": "markdown",
   "metadata": {
    "cell_style": "split"
   },
   "source": [
    "recherche dans un répertoire"
   ]
  },
  {
   "cell_type": "code",
   "execution_count": null,
   "metadata": {
    "cell_style": "split",
    "run_control": {
     "frozen": false,
     "read_only": false
    }
   },
   "outputs": [],
   "source": [
    "# un répertoire qui contient quelques fichiers\n",
    "!ls filepath-globbing/**"
   ]
  },
  {
   "cell_type": "code",
   "execution_count": null,
   "metadata": {
    "run_control": {
     "frozen": false,
     "read_only": false
    },
    "slideshow": {
     "slide_type": "slide"
    }
   },
   "outputs": [],
   "source": [
    "# à présent c'est plus intéressant\n",
    "# avec des chemins relatifs\n",
    "globbing = Path(\".\") / \"filepath-globbing\"\n",
    "\n",
    "list(globbing.glob(\"*\"))"
   ]
  },
  {
   "cell_type": "code",
   "execution_count": null,
   "metadata": {
    "run_control": {
     "frozen": false,
     "read_only": false
    }
   },
   "outputs": [],
   "source": [
    "list(globbing.glob(\"*[0-9]\"))"
   ]
  },
  {
   "cell_type": "code",
   "execution_count": null,
   "metadata": {
    "run_control": {
     "frozen": false,
     "read_only": false
    }
   },
   "outputs": [],
   "source": [
    "list(globbing.glob(\"**\"))"
   ]
  },
  {
   "cell_type": "code",
   "execution_count": null,
   "metadata": {
    "run_control": {
     "frozen": false,
     "read_only": false
    }
   },
   "outputs": [],
   "source": [
    "list(globbing.glob(\"**/*[0-9]\"))"
   ]
  },
  {
   "cell_type": "code",
   "execution_count": null,
   "metadata": {
    "run_control": {
     "frozen": false,
     "read_only": false
    }
   },
   "outputs": [],
   "source": [
    "str(globbing)"
   ]
  },
  {
   "cell_type": "markdown",
   "metadata": {
    "run_control": {
     "frozen": false,
     "read_only": false
    },
    "slideshow": {
     "slide_type": "slide"
    }
   },
   "source": [
    "### voir aussi\n",
    "\n",
    "* `exists`, `is_dir`, `is_file` ...\n",
    "* `stat` / `lstat` / `owner` pour les détails comme taille, permissions...\n",
    "* `rename`, `unlink`, `rmdir` \n",
    "* `iterdir` (`os.listdir`, mais pas `os.walk`)\n",
    "* `glob` - `rglob` \n",
    "* `open` / `{read,write}_{text_bytes}` / : wrappers \n",
    "* à nouveau: [documentation complète](https://docs.python.org/3/library/pathlib.html)"
   ]
  },
  {
   "cell_type": "markdown",
   "metadata": {
    "run_control": {
     "frozen": false,
     "read_only": false
    },
    "slideshow": {
     "slide_type": "slide"
    }
   },
   "source": [
    "### le module `pathlib`remplace :\n",
    "\n",
    "* le plus gros de `os.path`\n",
    "* certaines choses de `os`\n",
    "* `glob.glob`\n",
    "* `fnmatch`\n",
    "* contient un wrapper pour `open()`"
   ]
  },
  {
   "cell_type": "code",
   "execution_count": null,
   "metadata": {},
   "outputs": [],
   "source": [
    "# on peut faire open() sur un objet Path\n",
    "# avec un paramètre en moins que le open() builtin\n",
    "# puisque le nom du fichier est dans l'objet Path\n",
    "\n",
    "with Path(\"temporaire.txt\").open() as reader:\n",
    "    for line in reader:\n",
    "        print(line, end=\"\")"
   ]
  }
 ],
 "metadata": {
  "celltoolbar": "Slideshow",
  "jupytext": {
   "cell_metadata_filter": "all",
   "formats": "ipynb",
   "notebook_metadata_filter": "all,-language_info,-jupytext.text_representation.jupytext_version"
  },
  "kernelspec": {
   "display_name": "Python 3",
   "language": "python",
   "name": "python3"
  },
  "language_info": {
   "codemirror_mode": {
    "name": "ipython",
    "version": 3
   },
   "file_extension": ".py",
   "mimetype": "text/x-python",
   "name": "python",
   "nbconvert_exporter": "python",
   "pygments_lexer": "ipython3",
   "version": "3.7.4"
  },
  "notebookname": "fichiers",
  "rise": {
   "autolaunch": true,
   "slideNumber": "c/t",
   "start_slideshow_at": "selected",
   "theme": "sky",
   "transition": "cube"
  },
  "toc": {
   "base_numbering": 1,
   "nav_menu": {
    "height": "512px",
    "width": "252px"
   },
   "number_sections": true,
   "sideBar": false,
   "skip_h1_title": false,
   "title_cell": "Table of Contents",
   "title_sidebar": "Contents",
   "toc_cell": false,
   "toc_position": {
    "height": "723.767px",
    "left": "1047.66px",
    "top": "145.99px",
    "width": "245.104px"
   },
   "toc_section_display": true,
   "toc_window_display": true
  },
  "version": "1.0"
 },
 "nbformat": 4,
 "nbformat_minor": 2
}
