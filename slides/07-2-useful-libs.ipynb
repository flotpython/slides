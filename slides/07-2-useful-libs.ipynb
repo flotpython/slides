{
 "cells": [
  {
   "cell_type": "markdown",
   "metadata": {
    "run_control": {
     "frozen": false,
     "read_only": false
    },
    "slideshow": {
     "slide_type": "slide"
    }
   },
   "source": [
    "<div class=\"licence\">\n",
    "<span>Licence CC BY-NC-ND</span>\n",
    "<span>Thierry Parmentelat &amp; Arnaud Legout</span>\n",
    "</div>"
   ]
  },
  {
   "cell_type": "code",
   "execution_count": null,
   "metadata": {
    "slideshow": {
     "slide_type": "slide"
    }
   },
   "outputs": [],
   "source": [
    "from plan import plan; plan(\"compléments\", \"librairies\")"
   ]
  },
  {
   "cell_type": "markdown",
   "metadata": {
    "run_control": {
     "frozen": false,
     "read_only": false
    },
    "slideshow": {
     "slide_type": "slide"
    }
   },
   "source": [
    "# référence de la librairie standard"
   ]
  },
  {
   "cell_type": "markdown",
   "metadata": {
    "run_control": {
     "frozen": false,
     "read_only": false
    }
   },
   "source": [
    "* le tutorial Python sur ce sujet occupe deux chapitres\n",
    "  * [chapitre 10](https://docs.python.org/3/tutorial/stdlib.html) et\n",
    "  * [chapitre 11](https://docs.python.org/3/tutorial/stdlib2.html)\n",
    "  \n",
    "* très très complet, je fais ici un tri arbitraire  \n"
   ]
  },
  {
   "cell_type": "markdown",
   "metadata": {
    "slideshow": {
     "slide_type": "slide"
    }
   },
   "source": [
    "# `logging`"
   ]
  },
  {
   "cell_type": "markdown",
   "metadata": {},
   "source": [
    "* dans du code de production on ne fait jamais `print()`\n",
    "* on utilise à la place `logging`; de cette façon\n",
    "* le code a seulement à choisir un **niveau** de message\n",
    "  * parmi error, warning, info, debug\n",
    "* on pourra plus tard (i.e. par l'équipe Ops) \n",
    "  * choisir **où** doivent aller les messages\n",
    "  * avec quel niveau de gravité\n",
    "  * et même selon les modules si nécessaire"
   ]
  },
  {
   "cell_type": "markdown",
   "metadata": {
    "slideshow": {
     "slide_type": "slide"
    }
   },
   "source": [
    "### `logging`"
   ]
  },
  {
   "cell_type": "code",
   "execution_count": null,
   "metadata": {},
   "outputs": [],
   "source": [
    "import logging\n",
    "logging.basicConfig(level=logging.INFO)"
   ]
  },
  {
   "cell_type": "code",
   "execution_count": null,
   "metadata": {
    "cell_style": "split"
   },
   "outputs": [],
   "source": [
    "# au lieu de faire \n",
    "print(f\"Bonjour le monde\") "
   ]
  },
  {
   "cell_type": "code",
   "execution_count": null,
   "metadata": {
    "cell_style": "split"
   },
   "outputs": [],
   "source": [
    "# on fera plutôt\n",
    "logging.info(\"Bonjour le monde\")"
   ]
  },
  {
   "cell_type": "markdown",
   "metadata": {
    "run_control": {
     "frozen": false,
     "read_only": false
    },
    "slideshow": {
     "slide_type": "slide"
    }
   },
   "source": [
    "### Librairies très utiles"
   ]
  },
  {
   "cell_type": "markdown",
   "metadata": {
    "run_control": {
     "frozen": false,
     "read_only": false
    }
   },
   "source": [
    "### `import sys`\n",
    "\n",
    "* gestions de variables utilisées par l’interpréteur\n",
    "\n",
    "### `import os`\n",
    "\n",
    "* accès cross-platform au système d’exploitation\n"
   ]
  },
  {
   "cell_type": "markdown",
   "metadata": {
    "slideshow": {
     "slide_type": "slide"
    }
   },
   "source": [
    "### `from pathlib import Path`  ( ~~`import os.path`~~)"
   ]
  },
  {
   "cell_type": "markdown",
   "metadata": {},
   "source": [
    "* historiquement on gérait les noms de fichiers sur disque avec le sous-module `os.path`\n",
    "* depuis la 3.4 une alternative **orientée objet** est disponible\n",
    "* il faut l'utiliser pour du nouveau code \n",
    "* on peut tout faire avec\n",
    "  * chercher (`glob`) tous les fichiers en `*.truc`\n",
    "  * calculer les noms de fichier: concaténer, découper en morceaux, trouver le nom canonique\n",
    "  * ouvrir les fichier\n",
    "  * accéder aux métadata (taille, date, ..)\n",
    "  * etc..."
   ]
  },
  {
   "cell_type": "code",
   "execution_count": null,
   "metadata": {
    "slideshow": {
     "slide_type": "slide"
    }
   },
   "outputs": [],
   "source": [
    "from pathlib import Path\n",
    "\n",
    "for path in Path(\".\").glob(\"samples/*.py\"):\n",
    "    # le nom canonique\n",
    "    print(10*'=', path.absolute())\n",
    "    # le dernier morceau dans le nom\n",
    "    print(path.name, end=' ')\n",
    "    # la taille\n",
    "    print(path.stat().st_size, 'bytes')\n",
    "    # touver le nom absolu\n",
    "    # ouvrir le fichier en lecture\n",
    "    with path.open():\n",
    "        pass"
   ]
  },
  {
   "cell_type": "markdown",
   "metadata": {
    "slideshow": {
     "slide_type": "slide"
    }
   },
   "source": [
    "### `pathlib`"
   ]
  },
  {
   "cell_type": "code",
   "execution_count": null,
   "metadata": {},
   "outputs": [],
   "source": [
    "# à signaler, les calculs de chemin \n",
    "# se font directement à base de l'opérateur /  \n",
    "répertoire = Path(\".\")\n",
    "fichier = répertoire / \"samples\" / \"types01.py\"\n",
    "\n",
    "with fichier.open() as feed:\n",
    "    for lineno, line in enumerate(feed, 1):\n",
    "        print(f\"{lineno}:{line}\", end=\"\")\n",
    "    \n",
    "    "
   ]
  },
  {
   "cell_type": "markdown",
   "metadata": {
    "run_control": {
     "frozen": false,
     "read_only": false
    },
    "slideshow": {
     "slide_type": "slide"
    }
   },
   "source": [
    "### librairies très utiles"
   ]
  },
  {
   "cell_type": "markdown",
   "metadata": {
    "run_control": {
     "frozen": false,
     "read_only": false
    },
    "slideshow": {
     "slide_type": ""
    }
   },
   "source": [
    "### `datetime`\n",
    "\n",
    "* gestion des dates et des heures\n",
    "\n",
    "### `math`\n",
    "\n",
    "* fonctions mathématiques, constantes, ...\n",
    "\n",
    "### `random`\n",
    "\n",
    "* générations de nombres et séquences aléatoires, mélange aléatoire de séquences"
   ]
  },
  {
   "cell_type": "markdown",
   "metadata": {
    "run_control": {
     "frozen": false,
     "read_only": false
    },
    "slideshow": {
     "slide_type": "slide"
    }
   },
   "source": [
    "### librairies très utiles"
   ]
  },
  {
   "cell_type": "markdown",
   "metadata": {
    "run_control": {
     "frozen": false,
     "read_only": false
    }
   },
   "source": [
    "### `json`\n",
    "\n",
    "* sérialisation d’objets python, standard du web\n",
    "* envoi et réception depuis toutes sources compatibles json\n",
    "\n",
    "### `csv`\n",
    "\n",
    "* ouverture fichier csv, compatible Excel et tableurs\n",
    "\n",
    "### `pickle`\n",
    "\n",
    "* sérialisation d’objets python, uniquement compatible avec python\n",
    "* sauvegarde et la chargement du disque dur"
   ]
  },
  {
   "cell_type": "markdown",
   "metadata": {
    "run_control": {
     "frozen": false,
     "read_only": false
    },
    "slideshow": {
     "slide_type": "slide"
    }
   },
   "source": [
    "### librairies très utiles"
   ]
  },
  {
   "cell_type": "markdown",
   "metadata": {
    "run_control": {
     "frozen": false,
     "read_only": false
    }
   },
   "source": [
    "### `collections`\n",
    "\n",
    "* une extension des objets *built-in* `list`, `tuple`, `dict`\n",
    "* [la doc](https://docs.python.org/3.5/library/collections.html)\n"
   ]
  },
  {
   "cell_type": "markdown",
   "metadata": {
    "run_control": {
     "frozen": false,
     "read_only": false
    },
    "slideshow": {
     "slide_type": "slide"
    }
   },
   "source": [
    "###  `collections.Counter()`\n",
    "\n",
    "* à partir d'un itérable, construit un dictionnaire qui contient \n",
    "* comme clefs les éléments uniques \n",
    "* et comme valeurs le nombre de fois que l’élément apparaît\n",
    "* http://sametmax.com/compter-et-grouper-encore-plus-faineant/"
   ]
  },
  {
   "cell_type": "code",
   "execution_count": null,
   "metadata": {
    "run_control": {
     "frozen": false,
     "read_only": false
    },
    "slideshow": {
     "slide_type": "slide"
    }
   },
   "outputs": [],
   "source": [
    "from collections import Counter\n",
    "\n",
    "cnt = Counter(['red', 'blue', 'red', 'green', 'blue', 'blue'])\n",
    "cnt"
   ]
  },
  {
   "cell_type": "code",
   "execution_count": null,
   "metadata": {
    "run_control": {
     "frozen": false,
     "read_only": false
    }
   },
   "outputs": [],
   "source": [
    "isinstance(cnt, dict)"
   ]
  },
  {
   "cell_type": "code",
   "execution_count": null,
   "metadata": {
    "run_control": {
     "frozen": false,
     "read_only": false
    }
   },
   "outputs": [],
   "source": [
    "import re\n",
    "words = re.findall(r'\\w+', open('../data/hamlet.txt').read().lower())\n",
    "Counter(words).most_common(10)"
   ]
  },
  {
   "cell_type": "markdown",
   "metadata": {
    "run_control": {
     "frozen": false,
     "read_only": false
    }
   },
   "source": [
    "### `collections.defaultdict()`\n",
    "\n",
    "* étend les dictionnaires pour en faciliter l’initialisation\n",
    "* un bon remplacement pour `dict.setdefault` qui est moins parlant\n",
    "* https://docs.python.org/3/library/collections.html?#collections.defaultdict"
   ]
  },
  {
   "cell_type": "code",
   "execution_count": null,
   "metadata": {
    "run_control": {
     "frozen": false,
     "read_only": false
    },
    "slideshow": {
     "slide_type": "slide"
    }
   },
   "outputs": [],
   "source": [
    "from collections import defaultdict\n",
    "\n",
    "s = [('yellow', 1), ('blue', 2), ('yellow', 3), ('blue', 4), ('red', 1)]\n",
    "# on indique que les valeurs sont des listes\n",
    "d = defaultdict(list)\n",
    "# si on écrit une clé qui n'est pas encore présente\n",
    "# d[k] vaut alors list()\n",
    "# c'est-à-dire une liste vide est crée automatiquement\n",
    "for k, v in s:\n",
    "    d[k].append(v)\n",
    "\n",
    "sorted(d.items())\n",
    "[('blue', [2, 4]), ('red', [1]), ('yellow', [1, 3])]"
   ]
  },
  {
   "cell_type": "markdown",
   "metadata": {
    "run_control": {
     "frozen": false,
     "read_only": false
    },
    "slideshow": {
     "slide_type": "slide"
    }
   },
   "source": [
    "# librairies très utiles"
   ]
  },
  {
   "cell_type": "markdown",
   "metadata": {
    "run_control": {
     "frozen": false,
     "read_only": false
    },
    "slideshow": {
     "slide_type": ""
    }
   },
   "source": [
    "### `itertools`\n",
    "\n",
    "* implémente sous forme efficace (itérateurs)\n",
    "* des combinatoires classiques\n",
    "* et autres outils utiles pour écrire des boucles concises\n",
    "* [la doc](https://docs.python.org/3/library/itertools.html)\n",
    "* déjà abordé dans la partie 3.3 sur les itérateurs"
   ]
  },
  {
   "cell_type": "markdown",
   "metadata": {
    "run_control": {
     "frozen": false,
     "read_only": false
    }
   },
   "source": [
    "## combinatoires\n",
    "\n",
    "* [`produit cartésien`](https://docs.python.org/3.6/library/itertools.html#itertools.product)\n",
    "* [`permutations`](https://docs.python.org/3.6/library/itertools.html#itertools.permutations)\n",
    "* [`combinaisons`](https://docs.python.org/3.6/library/itertools.html#itertools.combinations) *n* parmi *p* "
   ]
  },
  {
   "cell_type": "markdown",
   "metadata": {
    "run_control": {
     "frozen": false,
     "read_only": false
    },
    "slideshow": {
     "slide_type": "slide"
    }
   },
   "source": [
    "### `itertools` - combinatoires"
   ]
  },
  {
   "cell_type": "code",
   "execution_count": null,
   "metadata": {
    "run_control": {
     "frozen": false,
     "read_only": false
    }
   },
   "outputs": [],
   "source": [
    "from itertools import product\n",
    "A = ['a', 'b', 'c']\n",
    "B = [ 1, 2]\n",
    "\n",
    "for x, y in product(A, B):\n",
    "    print(x, y)"
   ]
  },
  {
   "cell_type": "markdown",
   "metadata": {
    "run_control": {
     "frozen": false,
     "read_only": false
    },
    "slideshow": {
     "slide_type": "slide"
    }
   },
   "source": [
    "### `itertools` - combinatoires"
   ]
  },
  {
   "cell_type": "code",
   "execution_count": null,
   "metadata": {
    "run_control": {
     "frozen": false,
     "read_only": false
    }
   },
   "outputs": [],
   "source": [
    "from itertools import permutations\n",
    "C = ['a', 'b', 'c', 'd']\n",
    "\n",
    "for tuple in permutations(C):\n",
    "    print(tuple)"
   ]
  },
  {
   "cell_type": "markdown",
   "metadata": {
    "run_control": {
     "frozen": false,
     "read_only": false
    },
    "slideshow": {
     "slide_type": "slide"
    }
   },
   "source": [
    "### `itertools` - combinatoires"
   ]
  },
  {
   "cell_type": "code",
   "execution_count": null,
   "metadata": {
    "run_control": {
     "frozen": false,
     "read_only": false
    }
   },
   "outputs": [],
   "source": [
    "from itertools import combinations\n",
    "miniloto = list(range(5))\n",
    "\n",
    "for a, b in combinations(miniloto, 2):\n",
    "    print(a, b)"
   ]
  },
  {
   "cell_type": "code",
   "execution_count": null,
   "metadata": {
    "run_control": {
     "frozen": false,
     "read_only": false
    },
    "slideshow": {
     "slide_type": "slide"
    }
   },
   "outputs": [],
   "source": [
    "# je n'ai pas trouvé pour les arrangements\n",
    "# une possibilité est de générer toutes les permutations\n",
    "# de chaque tirage dans les combinaisons\n",
    "for tuple in combinations(miniloto, 2):\n",
    "    for a, b in permutations(tuple):\n",
    "        print(a, b)"
   ]
  },
  {
   "cell_type": "markdown",
   "metadata": {
    "run_control": {
     "frozen": false,
     "read_only": false
    },
    "slideshow": {
     "slide_type": "slide"
    }
   },
   "source": [
    "#### module `itertools` - suite"
   ]
  },
  {
   "cell_type": "markdown",
   "metadata": {
    "run_control": {
     "frozen": false,
     "read_only": false
    },
    "slideshow": {
     "slide_type": ""
    }
   },
   "source": [
    "* parfois sans fin\n",
    "  * `count(10) --> 10 11 12 13 14 ...`\n",
    "  * `cycle('abcd') --> a b c d a b c d ...`\n",
    "* ou pas\n",
    "  * `repeat(10, 3) --> 10 10 10`\n",
    "  * `islice('abcdefg', 2, none) --> c d e f g`"
   ]
  },
  {
   "cell_type": "markdown",
   "metadata": {
    "run_control": {
     "frozen": false,
     "read_only": false
    },
    "slideshow": {
     "slide_type": "slide"
    }
   },
   "source": [
    "#### module `itertools` - suite"
   ]
  },
  {
   "cell_type": "markdown",
   "metadata": {
    "run_control": {
     "frozen": false,
     "read_only": false
    },
    "slideshow": {
     "slide_type": "slide"
    }
   },
   "source": [
    "* chainer plusieurs itérations\n",
    "  * `chain('ABC', 'DEF') --> A B C D E F`\n",
    "  * `chain.from_iterable(['ABC', 'DEF']) --> A B C D E F`\n",
    "\n",
    "* avec un peu de logique\n",
    "  * `takewhile(lambda x: x<5, [1,4,6,4,1]) --> 1 4`\n",
    "  * `dropwhile(lambda x: x<5, [1,4,6,4,1]) --> 6 4 1`\n",
    "  * `compress('ABCDEF', [1,0,1,0,1,1]) --> A C E F`\n",
    "  * `filterfalse(lambda x: x%2, range(10)) --> 0 2 4 6 8`"
   ]
  },
  {
   "cell_type": "code",
   "execution_count": null,
   "metadata": {
    "run_control": {
     "frozen": false,
     "read_only": false
    },
    "slideshow": {
     "slide_type": "slide"
    }
   },
   "outputs": [],
   "source": [
    "from itertools import filterfalse"
   ]
  },
  {
   "cell_type": "code",
   "execution_count": null,
   "metadata": {
    "run_control": {
     "frozen": false,
     "read_only": false
    },
    "slideshow": {
     "slide_type": "-"
    }
   },
   "outputs": [],
   "source": [
    "%timeit -n 100 for x in filterfalse(lambda x:x%2, range(10000)): pass"
   ]
  },
  {
   "cell_type": "code",
   "execution_count": null,
   "metadata": {
    "run_control": {
     "frozen": false,
     "read_only": false
    }
   },
   "outputs": [],
   "source": [
    "%timeit -n 100 for x in (y for y in range(10000) if not (y % 2)): pass"
   ]
  },
  {
   "cell_type": "markdown",
   "metadata": {
    "run_control": {
     "frozen": false,
     "read_only": false
    },
    "slideshow": {
     "slide_type": "slide"
    }
   },
   "source": [
    "### librairies très utiles"
   ]
  },
  {
   "cell_type": "markdown",
   "metadata": {
    "run_control": {
     "frozen": false,
     "read_only": false
    }
   },
   "source": [
    "## `operator`\n",
    "\n",
    "* en python tout est un objet, on peut donc tout passer à une fonction, mais comment passer un opérateur comme `+`, `in`, ou `>` \n",
    "* le module `operator` contient la version fonctionnelle d’un grand nombre d’opérateurs python\n",
    "* http://sametmax.com/le-module-operator-en-python/"
   ]
  },
  {
   "cell_type": "code",
   "execution_count": null,
   "metadata": {
    "run_control": {
     "frozen": false,
     "read_only": false
    },
    "slideshow": {
     "slide_type": "slide"
    }
   },
   "outputs": [],
   "source": [
    "import random\n",
    "l = [('a', random.randint(1, 1000)) for i in range(100)]\n",
    "l.sort(key=lambda x: x[1])\n",
    "l[-7:]"
   ]
  },
  {
   "cell_type": "code",
   "execution_count": null,
   "metadata": {
    "run_control": {
     "frozen": false,
     "read_only": false
    }
   },
   "outputs": [],
   "source": [
    "l = [('a', random.randint(1, 1000)) for i in range(100)]\n",
    "import operator\n",
    "l.sort(key=operator.itemgetter(1))\n",
    "l[-7:]"
   ]
  },
  {
   "cell_type": "markdown",
   "metadata": {
    "slideshow": {
     "slide_type": "slide"
    }
   },
   "source": [
    "# librairies tierces (non standard)"
   ]
  },
  {
   "cell_type": "markdown",
   "metadata": {
    "run_control": {
     "frozen": false,
     "read_only": false
    },
    "slideshow": {
     "slide_type": "slide"
    }
   },
   "source": [
    "### installer une librairie externe"
   ]
  },
  {
   "cell_type": "markdown",
   "metadata": {
    "run_control": {
     "frozen": false,
     "read_only": false
    }
   },
   "source": [
    "* toutes les librairies importantes se trouvent ici\n",
    "  * https://pypi.python.org/\n",
    "* **attention** n'importe qui peut publier\n",
    "  * présence sur pypi ⇎ code fiable, supporté\n",
    "\n",
    "* `pip` est le programme qui permet de les installer facilement\n",
    "  * fourni avec Python à partir de 3.4 (et de 2.7.9 pour 2.x)\n",
    "  * sinon suivre la documentation officielle de pip\n",
    "  * https://pip.pypa.io/en/latest/installing.html"
   ]
  },
  {
   "cell_type": "code",
   "execution_count": null,
   "metadata": {
    "run_control": {
     "frozen": false,
     "read_only": false
    }
   },
   "outputs": [],
   "source": [
    "!pip3 install numpy"
   ]
  },
  {
   "cell_type": "markdown",
   "metadata": {
    "run_control": {
     "frozen": false,
     "read_only": false
    },
    "slideshow": {
     "slide_type": "slide"
    }
   },
   "source": [
    "```\n",
    "$ pip3 help\n",
    "\n",
    "Usage:\n",
    "  pip <command> [options]\n",
    "\n",
    "Commands:\n",
    "  install                     Install packages.\n",
    "  download                    Download packages.\n",
    "  uninstall                   Uninstall packages.\n",
    "  freeze                      Output installed packages in requirements format.\n",
    "  list                        List installed packages.\n",
    "  show                        Show information about installed packages.\n",
    "  search                      Search PyPI for packages\n",
    "…\n",
    "```"
   ]
  },
  {
   "cell_type": "markdown",
   "metadata": {
    "run_control": {
     "frozen": false,
     "read_only": false
    },
    "slideshow": {
     "slide_type": "slide"
    }
   },
   "source": [
    "# comment installer une librairie externe"
   ]
  },
  {
   "cell_type": "markdown",
   "metadata": {
    "run_control": {
     "frozen": false,
     "read_only": false
    }
   },
   "source": [
    "* pour certaines librairies complexes, `pip` peut ne pas bien fonctionner\n",
    "  * notamment lorsque le code Python est un wrapping sur du code C\n",
    "* dans ce cas, on peut\n",
    "  * installer ces librairies par installeur système (`yum / apt-get / port`)\n",
    "  * utiliser une distribution plus large (`conda`)"
   ]
  }
 ],
 "metadata": {
  "jupytext": {
   "formats": "ipynb"
  },
  "kernelspec": {
   "display_name": "Python 3",
   "language": "python",
   "name": "python3"
  },
  "language_info": {
   "codemirror_mode": {
    "name": "ipython",
    "version": 3
   },
   "file_extension": ".py",
   "mimetype": "text/x-python",
   "name": "python",
   "nbconvert_exporter": "python",
   "pygments_lexer": "ipython3",
   "version": "3.7.0"
  },
  "notebookname": "librairies utiles",
  "rise": {
   "autolaunch": true,
   "slideNumber": "c/t",
   "start_slideshow_at": "selected",
   "theme": "sky",
   "transition": "cube"
  },
  "toc": {
   "colors": {
    "hover_highlight": "#DAA520",
    "running_highlight": "#FF0000",
    "selected_highlight": "#FFD700"
   },
   "moveMenuLeft": true,
   "nav_menu": {
    "height": "315px",
    "width": "252px"
   },
   "navigate_menu": true,
   "number_sections": true,
   "sideBar": true,
   "threshold": "2",
   "toc_cell": false,
   "toc_section_display": "block",
   "toc_window_display": false,
   "widenNotebook": false
  },
  "version": "1.0"
 },
 "nbformat": 4,
 "nbformat_minor": 2
}
