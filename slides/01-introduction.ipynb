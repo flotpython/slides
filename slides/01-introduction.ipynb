{
 "cells": [
  {
   "cell_type": "markdown",
   "metadata": {
    "run_control": {
     "frozen": false,
     "read_only": false
    },
    "slideshow": {
     "slide_type": "slide"
    }
   },
   "source": [
    "<div class=\"licence\">\n",
    "<span>Licence CC BY-NC-ND</span>\n",
    "<span>Thierry Parmentelat &amp; Arnaud Legout</span>\n",
    "</div>"
   ]
  },
  {
   "cell_type": "markdown",
   "metadata": {
    "run_control": {
     "frozen": false,
     "read_only": false
    }
   },
   "source": [
    "# Python \n",
    "\n",
    "##### *Des fondamentaux à l'utilisation du langage*"
   ]
  },
  {
   "cell_type": "markdown",
   "metadata": {
    "cell_style": "center",
    "run_control": {
     "frozen": false,
     "read_only": false
    }
   },
   "source": [
    "## version de référence: python-3.7"
   ]
  },
  {
   "cell_type": "markdown",
   "metadata": {
    "run_control": {
     "frozen": false,
     "read_only": false
    },
    "slideshow": {
     "slide_type": "slide"
    }
   },
   "source": [
    "# méthode pédagogique"
   ]
  },
  {
   "cell_type": "markdown",
   "metadata": {
    "run_control": {
     "frozen": false,
     "read_only": false
    }
   },
   "source": [
    "* présentations sur notebooks\n",
    "* apprendre par l’exemple et l’expérimentation"
   ]
  },
  {
   "cell_type": "code",
   "execution_count": null,
   "metadata": {
    "slideshow": {
     "slide_type": "slide"
    }
   },
   "outputs": [],
   "source": [
    "from plan import plan; plan(\"intro\")"
   ]
  },
  {
   "cell_type": "markdown",
   "metadata": {
    "run_control": {
     "frozen": false,
     "read_only": false
    },
    "slideshow": {
     "slide_type": "slide"
    }
   },
   "source": [
    "# comment lancer python ?"
   ]
  },
  {
   "cell_type": "markdown",
   "metadata": {
    "run_control": {
     "frozen": false,
     "read_only": false
    }
   },
   "source": [
    "## depuis un terminal ...\n",
    "\n",
    "* taper `python3` dans le terminal\n",
    "  * interpréteur en ligne de commande\n",
    "* en option, `ipython3` en remplacement\n",
    "  * nécessite une installation supplémentaire\n",
    "  * `pip3 install ipython`"
   ]
  },
  {
   "cell_type": "markdown",
   "metadata": {
    "slideshow": {
     "slide_type": "slide"
    }
   },
   "source": [
    "## ... ou dans un environnement graphique"
   ]
  },
  {
   "cell_type": "markdown",
   "metadata": {
    "cell_style": "center",
    "run_control": {
     "frozen": false,
     "read_only": false
    }
   },
   "source": [
    "* lancer IDLE\n",
    "  * environnement de développement intégré\n",
    "  * basique mais suffisant pour nos besoins\n",
    "* ou tout autre de votre choix"
   ]
  },
  {
   "cell_type": "markdown",
   "metadata": {},
   "source": [
    "dans tous les cas, faites un premier test:"
   ]
  },
  {
   "cell_type": "code",
   "execution_count": null,
   "metadata": {
    "cell_style": "center",
    "run_control": {
     "frozen": false,
     "read_only": false
    }
   },
   "outputs": [],
   "source": [
    "200 * 300"
   ]
  },
  {
   "cell_type": "markdown",
   "metadata": {
    "run_control": {
     "frozen": false,
     "read_only": false
    },
    "slideshow": {
     "slide_type": "slide"
    }
   },
   "source": [
    "# pourquoi Python ?"
   ]
  },
  {
   "cell_type": "markdown",
   "metadata": {
    "run_control": {
     "frozen": false,
     "read_only": false
    }
   },
   "source": [
    "* syntaxe simple\n",
    "  * pas de délimitations  `; {} () []`\n",
    "  * uniquement des indentations\n",
    "  * aucune ambiguïté\n",
    "  * une seule façon d’écrire\n",
    "* portable\n",
    "  * Windows, Linux, Mac OS, etc.\n",
    "* typage dynamique  "
   ]
  },
  {
   "cell_type": "markdown",
   "metadata": {
    "run_control": {
     "frozen": false,
     "read_only": false
    },
    "slideshow": {
     "slide_type": "slide"
    }
   },
   "source": [
    "### pourquoi Python ?"
   ]
  },
  {
   "cell_type": "code",
   "execution_count": null,
   "metadata": {
    "run_control": {
     "frozen": false,
     "read_only": false
    }
   },
   "outputs": [],
   "source": [
    "# le code est lisible\n",
    "def factorielle(n):\n",
    "    return 1 if n <= 1 else n * factorielle(n-1)"
   ]
  },
  {
   "cell_type": "code",
   "execution_count": null,
   "metadata": {
    "run_control": {
     "frozen": false,
     "read_only": false
    }
   },
   "outputs": [],
   "source": [
    "factorielle(0)"
   ]
  },
  {
   "cell_type": "code",
   "execution_count": null,
   "metadata": {
    "run_control": {
     "frozen": false,
     "read_only": false
    }
   },
   "outputs": [],
   "source": [
    "factorielle(8)"
   ]
  },
  {
   "cell_type": "markdown",
   "metadata": {
    "run_control": {
     "frozen": false,
     "read_only": false
    },
    "slideshow": {
     "slide_type": "slide"
    }
   },
   "source": [
    "### pourquoi Python ?"
   ]
  },
  {
   "cell_type": "markdown",
   "metadata": {
    "run_control": {
     "frozen": false,
     "read_only": false
    }
   },
   "source": [
    "* types disponibles très puissants et flexibles\n",
    "  * entiers non bornés, complexes\n",
    "  * listes, strings\n",
    "  * dictionnaires, ensembles \n",
    "* langage orienté objet\n",
    "  * définir ses propres types\n",
    "* énorme base de librairies \n",
    "* s’interface avec C et C++\n",
    "* gestion de la mémoire automatique\n",
    "  * GC"
   ]
  },
  {
   "cell_type": "markdown",
   "metadata": {
    "run_control": {
     "frozen": false,
     "read_only": false
    },
    "slideshow": {
     "slide_type": "slide"
    }
   },
   "source": [
    "### pourquoi Python ?"
   ]
  },
  {
   "cell_type": "markdown",
   "metadata": {
    "run_control": {
     "frozen": false,
     "read_only": false
    }
   },
   "source": [
    "##### pas de compilation"
   ]
  },
  {
   "cell_type": "markdown",
   "metadata": {
    "run_control": {
     "frozen": false,
     "read_only": false
    }
   },
   "source": [
    "* langage interprété\n",
    "* pré-compilation en byte-code des programmes (.pyc)\n",
    "  * portable\n",
    "  * interprété dans la Python Virtual Machine (PVM)\n",
    "  * mais pas optimisé comme du code machine  \n",
    "    compilé à partir de C\n",
    "\n",
    "* script direct en ligne de commande"
   ]
  },
  {
   "cell_type": "markdown",
   "metadata": {
    "run_control": {
     "frozen": false,
     "read_only": false
    },
    "slideshow": {
     "slide_type": "slide"
    }
   },
   "source": [
    "### pourquoi python ?"
   ]
  },
  {
   "cell_type": "markdown",
   "metadata": {
    "run_control": {
     "frozen": false,
     "read_only": false
    }
   },
   "source": [
    "## la Python Software Foundation (PSF)\n",
    "\n",
    "possède les droits sur Python et assure son développement\n",
    "\n",
    "* essentiellement aucune restriction sur le code Python et son usage, même commercial\n",
    "* https://docs.python.org/3.5/license.html"
   ]
  },
  {
   "cell_type": "markdown",
   "metadata": {
    "run_control": {
     "frozen": false,
     "read_only": false
    },
    "slideshow": {
     "slide_type": "slide"
    }
   },
   "source": [
    "### philosophie python"
   ]
  },
  {
   "cell_type": "code",
   "execution_count": null,
   "metadata": {
    "run_control": {
     "frozen": false,
     "read_only": false
    }
   },
   "outputs": [],
   "source": [
    "import this"
   ]
  },
  {
   "cell_type": "markdown",
   "metadata": {
    "run_control": {
     "frozen": false,
     "read_only": false
    },
    "slideshow": {
     "slide_type": "slide"
    }
   },
   "source": [
    "# quand utiliser python ?"
   ]
  },
  {
   "cell_type": "markdown",
   "metadata": {
    "run_control": {
     "frozen": false,
     "read_only": false
    }
   },
   "source": [
    "* scripts (mais pas **uniquement** ça!)\n",
    "* programmation système\n",
    "* internet\n",
    "* base de données\n",
    "* prototypage rapide\n",
    "* calcul scientifique\n",
    "* exploration dans les données"
   ]
  },
  {
   "cell_type": "markdown",
   "metadata": {
    "run_control": {
     "frozen": false,
     "read_only": false
    },
    "slideshow": {
     "slide_type": "slide"
    }
   },
   "source": [
    "### quand ne pas utiliser Python ?"
   ]
  },
  {
   "cell_type": "markdown",
   "metadata": {
    "run_control": {
     "frozen": false,
     "read_only": false
    }
   },
   "source": [
    "##### si l’unique besoin est la performance"
   ]
  },
  {
   "cell_type": "markdown",
   "metadata": {
    "run_control": {
     "frozen": false,
     "read_only": false
    }
   },
   "source": [
    "* Python est mauvais sur la taille des types de base\n",
    "  * tout est objet ➔ surcoût partout\n",
    "  * exemples sur une machine 64 bits\n",
    "\n",
    "|      objet     |   octets  | natif C |  \n",
    "|----------------|-----------|---------|\n",
    "| petit entier   | 28 octets |8 octets|\n",
    "| chaine 'a'     | 50 octets |1 octet|\n",
    "| chaine 'é'     | 74 octets |2 octets|\n",
    "\n",
    "* Python plutôt bon en termes de vitesse\n",
    "  * fonctions de base implémentées en C optimisé\n",
    "  * PyPy très rapide par rapport à CPython\n",
    "  * pensez à utiliser `numpy`"
   ]
  },
  {
   "cell_type": "markdown",
   "metadata": {
    "run_control": {
     "frozen": false,
     "read_only": false
    },
    "slideshow": {
     "slide_type": "slide"
    }
   },
   "source": [
    "### quand ne pas utiliser python ?"
   ]
  },
  {
   "cell_type": "markdown",
   "metadata": {
    "run_control": {
     "frozen": false,
     "read_only": false
    }
   },
   "source": [
    "##### comment prendre la décision d’utiliser Python?\n",
    "\n",
    "* balancer vitesse de développement avec performance\n",
    "* Python gagne presque toujours"
   ]
  },
  {
   "cell_type": "markdown",
   "metadata": {
    "run_control": {
     "frozen": false,
     "read_only": false
    },
    "slideshow": {
     "slide_type": "slide"
    }
   },
   "source": [
    "### comment tester la performance ?"
   ]
  },
  {
   "cell_type": "markdown",
   "metadata": {
    "run_control": {
     "frozen": false,
     "read_only": false
    }
   },
   "source": [
    "* taille\n",
    "  * `sys.getsizeof(object)`\n",
    "  * ne fonctionne pas toujours avec  \n",
    "    autre chose que les types de base\n",
    "\n",
    "* vitesse\n",
    "  * `cProfile.run('maFonction()')`\n",
    "  * `timeit.timeit(stmt='maFonction()', number=10000)`\n",
    "* on en reparlera"
   ]
  },
  {
   "cell_type": "markdown",
   "metadata": {
    "run_control": {
     "frozen": false,
     "read_only": false
    },
    "slideshow": {
     "slide_type": "slide"
    }
   },
   "source": [
    "# quelle version de python ?"
   ]
  },
  {
   "cell_type": "markdown",
   "metadata": {
    "run_control": {
     "frozen": false,
     "read_only": false
    }
   },
   "source": [
    "* version 3.x (actuellement 3.7)\n",
    "  * **toutes** les librairies usuelles supportent 3.x\n",
    "  * **recommandé** pour un nouveau projet\n",
    "  * compatible ascendant à partir de 3.0\n",
    "  \n",
    "* ~~version 2.7~~\n",
    "  * en fin de vie - supporté jusque 2020 \n",
    "  * initialement annoncé jusque 2015\n",
    "  * certains projets ont déjà cessé de le supporter"
   ]
  },
  {
   "cell_type": "markdown",
   "metadata": {
    "run_control": {
     "frozen": false,
     "read_only": false
    },
    "slideshow": {
     "slide_type": "slide"
    }
   },
   "source": [
    "### quelle version de python ?"
   ]
  },
  {
   "cell_type": "markdown",
   "metadata": {
    "run_control": {
     "frozen": false,
     "read_only": false
    }
   },
   "source": [
    "* 3.x corrige des inconsistances de 2.x\n",
    "  * caractère $\\neq$ octet (`bytes` et `str`)\n",
    "  * `print` et `exec` sont des **fonctions**\n",
    "  * **itérateurs** plutôt que listes (`range` etc.)\n",
    "  * `/` n'est plus la division entière\n",
    "  * etc.\n",
    "* **attention**\n",
    "  * 2.x et 3.x ne sont pas compatibles\n",
    "  * outil de conversion `2to3`"
   ]
  },
  {
   "cell_type": "markdown",
   "metadata": {
    "run_control": {
     "frozen": false,
     "read_only": false
    },
    "slideshow": {
     "slide_type": "slide"
    }
   },
   "source": [
    "# documentation"
   ]
  },
  {
   "cell_type": "markdown",
   "metadata": {
    "run_control": {
     "frozen": false,
     "read_only": false
    }
   },
   "source": [
    "### In english (un peu ancien à présent)\n",
    "\n",
    "* Learning Python, 5th Edition, Mark Lutz\n",
    "  * niveau débutant à confirmé\n",
    "* Programming Python, 4th Edition, Mark Lutz\n",
    "  * niveau confirmé\n",
    "\n",
    "<span style=\"float:left;\"><img src=\"pics/book-learning-python.png\"></span>\n",
    "<span style=\"float:right;\"><img src=\"pics/book-programming-python.png\"></span>"
   ]
  },
  {
   "cell_type": "markdown",
   "metadata": {
    "run_control": {
     "frozen": false,
     "read_only": false
    },
    "slideshow": {
     "slide_type": "slide"
    }
   },
   "source": [
    "# documentation"
   ]
  },
  {
   "cell_type": "markdown",
   "metadata": {
    "run_control": {
     "frozen": false,
     "read_only": false
    }
   },
   "source": [
    "### in english\n",
    "\n",
    "* Python tutorial, https://docs.python.org/3/tutorial/\n",
    "  * initialement Guido van Rossum\n",
    "  * niveau débutant à moyen\n",
    "  * fourni avec Python (donc gratuit)\n",
    "* Python Manuals\n",
    "  * google -> `python manuals`\n",
    "  * google -> `python argparse`\n",
    "  * (https://www.google.com/search?q=python+argparse)\n",
    "  * **vérifier** version (**3.7** plutôt que 2.7)"
   ]
  },
  {
   "cell_type": "markdown",
   "metadata": {
    "run_control": {
     "frozen": false,
     "read_only": false
    },
    "slideshow": {
     "slide_type": "slide"
    }
   },
   "source": [
    "# documentation"
   ]
  },
  {
   "cell_type": "markdown",
   "metadata": {
    "run_control": {
     "frozen": false,
     "read_only": false
    }
   },
   "source": [
    "### En français\n",
    "\n",
    "* MOOC Python : des fondamentaux à l'utilisation du langage\n",
    "  * A. Legout et T. Parmentelat\n",
    "* http://fr.openclassrooms.com/informatique/cours/apprenez-a-programmer-en-python\n",
    "* le site de sametmax http://sametmax.com/ \n",
    "  * couvre des sujets avancés, très bons articles\n",
    "  * avertissement: la devise du site est «du code, du cul»"
   ]
  },
  {
   "cell_type": "markdown",
   "metadata": {
    "run_control": {
     "frozen": false,
     "read_only": false
    },
    "slideshow": {
     "slide_type": "slide"
    }
   },
   "source": [
    "# documentation"
   ]
  },
  {
   "cell_type": "markdown",
   "metadata": {
    "run_control": {
     "frozen": false,
     "read_only": false
    }
   },
   "source": [
    "* documentation officielle Python\n",
    "  * très riche: du tutoriel à la description du langage\n",
    "  * http://docs.python.org/3.7/\t\n",
    "* FAQ Python\n",
    "  * https://docs.python.org/3.7/faq/\n",
    "* stackoverflow (SO)\n",
    "  * https://stackoverflow.com/questions/tagged/python-3.x\n",
    "  * on peut directement chercher sur Google"
   ]
  },
  {
   "cell_type": "markdown",
   "metadata": {
    "run_control": {
     "frozen": false,
     "read_only": false
    },
    "slideshow": {
     "slide_type": "slide"
    }
   },
   "source": [
    "# les concepts majeurs de python"
   ]
  },
  {
   "cell_type": "markdown",
   "metadata": {
    "run_control": {
     "frozen": false,
     "read_only": false
    }
   },
   "source": [
    "* **tout est un objet**\n",
    "* liaison statique"
   ]
  },
  {
   "cell_type": "markdown",
   "metadata": {
    "run_control": {
     "frozen": false,
     "read_only": false
    }
   },
   "source": [
    "* références partagées\n",
    "* itérateurs\n",
    "* espaces de nommage"
   ]
  },
  {
   "cell_type": "markdown",
   "metadata": {
    "slideshow": {
     "slide_type": "slide"
    }
   },
   "source": [
    "# modèle mental : tout est objet"
   ]
  },
  {
   "cell_type": "code",
   "execution_count": null,
   "metadata": {},
   "outputs": [],
   "source": [
    "%load_ext ipythontutor"
   ]
  },
  {
   "cell_type": "code",
   "execution_count": null,
   "metadata": {
    "slideshow": {
     "slide_type": "slide"
    }
   },
   "outputs": [],
   "source": [
    "%%ipythontutor heapPrimitives=true height=500 width=800 curInstr=2\n",
    "a = 1\n",
    "b = \"ma chaine\"\n",
    "\n",
    "liste = [1, 10., 10 + 10j]   \n",
    "\n",
    "import math\n",
    "\n",
    "def foo(x):\n",
    "    return 2 * x"
   ]
  },
  {
   "cell_type": "markdown",
   "metadata": {
    "slideshow": {
     "slide_type": "slide"
    }
   },
   "source": [
    "### modèle mental : tout objet est typé"
   ]
  },
  {
   "cell_type": "code",
   "execution_count": null,
   "metadata": {
    "cell_style": "split"
   },
   "outputs": [],
   "source": [
    "# tous les objets ont un type\n",
    "a = 1\n",
    "liste = [1, 10., 10 + 10j]"
   ]
  },
  {
   "cell_type": "code",
   "execution_count": null,
   "metadata": {
    "cell_style": "split"
   },
   "outputs": [],
   "source": [
    "def foo(x):\n",
    "    return x * 2\n",
    "import math"
   ]
  },
  {
   "cell_type": "code",
   "execution_count": null,
   "metadata": {
    "cell_style": "center"
   },
   "outputs": [],
   "source": [
    "type(a)"
   ]
  },
  {
   "cell_type": "code",
   "execution_count": null,
   "metadata": {
    "cell_style": "split"
   },
   "outputs": [],
   "source": [
    "type(liste)"
   ]
  },
  {
   "cell_type": "code",
   "execution_count": null,
   "metadata": {
    "cell_style": "split"
   },
   "outputs": [],
   "source": [
    "type(liste[2])"
   ]
  },
  {
   "cell_type": "code",
   "execution_count": null,
   "metadata": {
    "cell_style": "split"
   },
   "outputs": [],
   "source": [
    "type(math)"
   ]
  },
  {
   "cell_type": "code",
   "execution_count": null,
   "metadata": {
    "cell_style": "split",
    "slideshow": {
     "slide_type": ""
    }
   },
   "outputs": [],
   "source": [
    "type(foo)"
   ]
  },
  {
   "cell_type": "markdown",
   "metadata": {
    "slideshow": {
     "slide_type": "slide"
    }
   },
   "source": [
    "### modèle mental : objets mutables ou non"
   ]
  },
  {
   "cell_type": "markdown",
   "metadata": {},
   "source": [
    "selon leur type, les objets sont  \n",
    "modifiables (on dit **mutables**) ou non  \n",
    "par exemple une liste est **mutable**"
   ]
  },
  {
   "cell_type": "code",
   "execution_count": null,
   "metadata": {},
   "outputs": [],
   "source": [
    "%%ipythontutor heapPrimitives=true\n",
    "liste1 = [1, 2, 3]\n",
    "liste1[1] = 100"
   ]
  },
  {
   "cell_type": "markdown",
   "metadata": {
    "slideshow": {
     "slide_type": "slide"
    }
   },
   "source": [
    "### modèle mental : objets mutables ou non"
   ]
  },
  {
   "cell_type": "markdown",
   "metadata": {},
   "source": [
    "par contre, une chaine est non **mutable**"
   ]
  },
  {
   "cell_type": "code",
   "execution_count": null,
   "metadata": {},
   "outputs": [],
   "source": [
    "chaine = 'abc'\n",
    "try:\n",
    "    chaine[2] = 'z'\n",
    "except Exception as exc:\n",
    "    print(\"BOOM !\", exc)"
   ]
  },
  {
   "cell_type": "markdown",
   "metadata": {
    "run_control": {
     "frozen": false,
     "read_only": false
    },
    "slideshow": {
     "slide_type": "slide"
    }
   },
   "source": [
    "# comment avoir de l'aide: `dir` "
   ]
  },
  {
   "cell_type": "markdown",
   "metadata": {
    "run_control": {
     "frozen": false,
     "read_only": false
    }
   },
   "source": [
    "* `dir(objet)`\n",
    "  * retourne les attributs d'un objet\n",
    "  * utile notamment sur un module"
   ]
  },
  {
   "cell_type": "code",
   "execution_count": null,
   "metadata": {
    "cell_style": "center",
    "run_control": {
     "frozen": false,
     "read_only": false
    }
   },
   "outputs": [],
   "source": [
    "import math\n",
    "dir(math)"
   ]
  },
  {
   "cell_type": "markdown",
   "metadata": {
    "run_control": {
     "frozen": false,
     "read_only": false
    },
    "slideshow": {
     "slide_type": "slide"
    }
   },
   "source": [
    "### comment avoir de l’aide ?"
   ]
  },
  {
   "cell_type": "markdown",
   "metadata": {
    "run_control": {
     "frozen": false,
     "read_only": false
    },
    "slideshow": {
     "slide_type": "-"
    }
   },
   "source": [
    "* `help(objet)`\n",
    "  * retourne une aide en ligne sur l’objet\n",
    "  * utile sur fonctions, méthodes, classes, modules\n",
    "  * fonctionne dans tous les environnements"
   ]
  },
  {
   "cell_type": "code",
   "execution_count": null,
   "metadata": {
    "cell_style": "split",
    "run_control": {
     "frozen": false,
     "read_only": false
    }
   },
   "outputs": [],
   "source": [
    "help(math)"
   ]
  },
  {
   "cell_type": "code",
   "execution_count": null,
   "metadata": {
    "cell_style": "split",
    "run_control": {
     "frozen": false,
     "read_only": false
    }
   },
   "outputs": [],
   "source": [
    "help(math.factorial)"
   ]
  },
  {
   "cell_type": "markdown",
   "metadata": {
    "run_control": {
     "frozen": false,
     "read_only": false
    },
    "slideshow": {
     "slide_type": "slide"
    }
   },
   "source": [
    "# aide IPython (et notebooks)"
   ]
  },
  {
   "cell_type": "markdown",
   "metadata": {
    "run_control": {
     "frozen": false,
     "read_only": false
    }
   },
   "source": [
    "* pour obtenir de l'aide dans une fenêtre dédiée avec `?`\n",
    "* le symbole doit être connu de python\n",
    "* fonctionne aussi dans `ipython`"
   ]
  },
  {
   "cell_type": "code",
   "execution_count": null,
   "metadata": {
    "cell_style": "split",
    "run_control": {
     "frozen": false,
     "read_only": false
    }
   },
   "outputs": [],
   "source": [
    "math?"
   ]
  },
  {
   "cell_type": "code",
   "execution_count": null,
   "metadata": {
    "cell_style": "split",
    "run_control": {
     "frozen": false,
     "read_only": false
    }
   },
   "outputs": [],
   "source": [
    "math.factorial?"
   ]
  },
  {
   "cell_type": "markdown",
   "metadata": {
    "run_control": {
     "frozen": false,
     "read_only": false
    },
    "slideshow": {
     "slide_type": "slide"
    }
   },
   "source": [
    "### aide IPython (et notebooks) (2)"
   ]
  },
  {
   "cell_type": "markdown",
   "metadata": {
    "run_control": {
     "frozen": false,
     "read_only": false
    }
   },
   "source": [
    "avec un double `??` on peut avoir accès au code source"
   ]
  },
  {
   "cell_type": "code",
   "execution_count": null,
   "metadata": {
    "run_control": {
     "frozen": false,
     "read_only": false
    }
   },
   "outputs": [],
   "source": [
    "# bien sûr il faut avoir **évalué** l'import\n",
    "from argparse import ArgumentParser"
   ]
  },
  {
   "cell_type": "code",
   "execution_count": null,
   "metadata": {
    "run_control": {
     "frozen": false,
     "read_only": false
    }
   },
   "outputs": [],
   "source": [
    "# avant de pouvoir instrospecter l'objet ArgumentParser\n",
    "ArgumentParser??"
   ]
  },
  {
   "cell_type": "markdown",
   "metadata": {
    "run_control": {
     "frozen": false,
     "read_only": false
    },
    "slideshow": {
     "slide_type": "slide"
    }
   },
   "source": [
    "# aide IPython (et notebooks) (3)"
   ]
  },
  {
   "cell_type": "markdown",
   "metadata": {
    "run_control": {
     "frozen": false,
     "read_only": false
    }
   },
   "source": [
    "utiliser `TAB` pour la complétion "
   ]
  },
  {
   "cell_type": "code",
   "execution_count": null,
   "metadata": {
    "run_control": {
     "frozen": false,
     "read_only": false
    }
   },
   "outputs": [],
   "source": [
    "# ditto, il faut avoir chargé le module \n",
    "# **avant** de pouvoir utiliser la complétion\n",
    "from sklearn import tree"
   ]
  },
  {
   "cell_type": "markdown",
   "metadata": {
    "run_control": {
     "frozen": false,
     "read_only": false
    }
   },
   "source": [
    "utiliser le clavier pour sélectionner"
   ]
  },
  {
   "cell_type": "code",
   "execution_count": null,
   "metadata": {
    "run_control": {
     "frozen": false,
     "read_only": false
    }
   },
   "outputs": [],
   "source": [
    "# tree.<taper TAB>"
   ]
  },
  {
   "cell_type": "markdown",
   "metadata": {
    "run_control": {
     "frozen": false,
     "read_only": false
    },
    "slideshow": {
     "slide_type": "slide"
    }
   },
   "source": [
    "# les commentaires"
   ]
  },
  {
   "cell_type": "markdown",
   "metadata": {
    "run_control": {
     "frozen": false,
     "read_only": false
    }
   },
   "source": [
    "tout ce qu’il y a après un `#` est ignoré par l’interpréteur"
   ]
  },
  {
   "cell_type": "code",
   "execution_count": null,
   "metadata": {
    "run_control": {
     "frozen": false,
     "read_only": false
    }
   },
   "outputs": [],
   "source": [
    "# programme de test qui ne fait rien\n",
    "L = [1, 2]\n",
    "x = 5  \n",
    "if x > 3:   # teste la comparaison dans if \n",
    "    print(L)"
   ]
  },
  {
   "cell_type": "markdown",
   "metadata": {
    "slideshow": {
     "slide_type": "slide"
    }
   },
   "source": [
    "# indentation et syntaxe "
   ]
  },
  {
   "cell_type": "markdown",
   "metadata": {},
   "source": [
    "* contrairement à beaucoup d'autres langages\n",
    "  * la mise en page (sauts de ligne et indentations)\n",
    "  * **fait partie** de la syntaxe\n",
    "  * ce qui élimine le besoin de `{}` ou `begin`/`end`"
   ]
  },
  {
   "cell_type": "code",
   "execution_count": null,
   "metadata": {},
   "outputs": [],
   "source": [
    "if 2**5 == 32:\n",
    "    print(\"pas de sucre syntaxique\")\n",
    "else:\n",
    "    print(\"du genre if (exp) {do_this()} else {do_that()}\")"
   ]
  },
  {
   "cell_type": "markdown",
   "metadata": {
    "slideshow": {
     "slide_type": "slide"
    }
   },
   "source": [
    "# primer"
   ]
  },
  {
   "cell_type": "markdown",
   "metadata": {},
   "source": [
    "* survol du langage à 30.000 pieds\n",
    "* sur quelques exemples hyper simples\n",
    "* pour introduire les notions les plus importantes\n",
    "* fonctions, classes, modules\n",
    "* **sans approfondir**"
   ]
  },
  {
   "cell_type": "markdown",
   "metadata": {
    "slideshow": {
     "slide_type": "slide"
    }
   },
   "source": [
    "# primer : fonction"
   ]
  },
  {
   "cell_type": "code",
   "execution_count": null,
   "metadata": {
    "cell_style": "split"
   },
   "outputs": [],
   "source": [
    "def my_first_function(a, b):\n",
    "    if a <= b:\n",
    "        return a * b\n",
    "    else:\n",
    "        return a + b"
   ]
  },
  {
   "cell_type": "code",
   "execution_count": null,
   "metadata": {
    "cell_style": "split"
   },
   "outputs": [],
   "source": [
    "my_first_function(10, 2)"
   ]
  },
  {
   "cell_type": "code",
   "execution_count": null,
   "metadata": {
    "cell_style": "split"
   },
   "outputs": [],
   "source": [
    "my_first_function(2, 10)"
   ]
  },
  {
   "cell_type": "markdown",
   "metadata": {},
   "source": [
    "* brique de base de la réutilisabilité \n",
    "* remarquez la syntaxe orientée *bloc* "
   ]
  },
  {
   "cell_type": "markdown",
   "metadata": {
    "slideshow": {
     "slide_type": "slide"
    }
   },
   "source": [
    "# primer : classe"
   ]
  },
  {
   "cell_type": "code",
   "execution_count": null,
   "metadata": {
    "cell_style": "split"
   },
   "outputs": [],
   "source": [
    "class MyFirstClass:\n",
    "    \n",
    "    def __init__(self, nom, age):\n",
    "        self.nom = nom\n",
    "        self.age = age\n",
    "        \n",
    "    def __repr__(self):\n",
    "        return f\"{self.nom}, {self.age} ans\""
   ]
  },
  {
   "cell_type": "code",
   "execution_count": null,
   "metadata": {
    "cell_style": "split"
   },
   "outputs": [],
   "source": [
    "person = MyFirstClass(\n",
    "    \"Jean Dupont\", 25)\n",
    "person"
   ]
  },
  {
   "cell_type": "markdown",
   "metadata": {},
   "source": [
    "* étendre les types de base fournis par le langage\n",
    "* avec des types spécifiques à votre application\n",
    "* pour pouvoir passer des objets 'composites' (encapsulation)\n",
    "* et éventuellement réutiliser par héritage"
   ]
  },
  {
   "cell_type": "markdown",
   "metadata": {
    "slideshow": {
     "slide_type": "slide"
    }
   },
   "source": [
    "# primer : module"
   ]
  },
  {
   "cell_type": "code",
   "execution_count": null,
   "metadata": {
    "cell_style": "split"
   },
   "outputs": [],
   "source": [
    "import math\n",
    "type(math)"
   ]
  },
  {
   "cell_type": "code",
   "execution_count": null,
   "metadata": {
    "cell_style": "split"
   },
   "outputs": [],
   "source": [
    "pi = \"la tour de Pi\""
   ]
  },
  {
   "cell_type": "code",
   "execution_count": null,
   "metadata": {
    "cell_style": "split"
   },
   "outputs": [],
   "source": [
    "math.pi"
   ]
  },
  {
   "cell_type": "markdown",
   "metadata": {},
   "source": [
    "* correspond à un fichier (ou répertoire) de source \n",
    "* fonctionne comme un espace de noms\n",
    "* ma variable `pi` coexiste avec celle de `math`"
   ]
  },
  {
   "cell_type": "markdown",
   "metadata": {
    "slideshow": {
     "slide_type": "slide"
    }
   },
   "source": [
    "# primer : attributs"
   ]
  },
  {
   "cell_type": "markdown",
   "metadata": {
    "cell_style": "split"
   },
   "source": [
    "* programmation  \n",
    "  orientée objet\n",
    "\n",
    "* notation `objet.methode()`"
   ]
  },
  {
   "cell_type": "code",
   "execution_count": null,
   "metadata": {
    "cell_style": "split"
   },
   "outputs": [],
   "source": [
    "x = \"abc\"\n",
    "x.upper()"
   ]
  },
  {
   "cell_type": "markdown",
   "metadata": {},
   "source": [
    "en fait mécanisme plus général\n",
    "dit de recherche d'attributs\n",
    "comme par exemple `math.pi`"
   ]
  },
  {
   "cell_type": "markdown",
   "metadata": {
    "slideshow": {
     "slide_type": "slide"
    }
   },
   "source": [
    "# primer : itérations"
   ]
  },
  {
   "cell_type": "code",
   "execution_count": null,
   "metadata": {
    "cell_style": "split"
   },
   "outputs": [],
   "source": [
    "# on itére toujours comme ceci\n",
    "liste = [10, 20, 30]\n",
    "for item in liste:\n",
    "    print(item)"
   ]
  },
  {
   "cell_type": "code",
   "execution_count": null,
   "metadata": {
    "cell_style": "split"
   },
   "outputs": [],
   "source": [
    "# et jamais comme ceci\n",
    "for i in range(len(liste)):\n",
    "    print(liste[i])"
   ]
  },
  {
   "cell_type": "markdown",
   "metadata": {
    "slideshow": {
     "slide_type": "slide"
    }
   },
   "source": [
    "# primer : exceptions"
   ]
  },
  {
   "cell_type": "code",
   "execution_count": null,
   "metadata": {
    "cell_style": "split"
   },
   "outputs": [],
   "source": [
    "# une fonction qui fait boom\n",
    "# mais pas immédiatement\n",
    "def boom(n):\n",
    "    if n > 0:\n",
    "        return boom(n-1)\n",
    "    else:\n",
    "        return 1/n"
   ]
  },
  {
   "cell_type": "code",
   "execution_count": null,
   "metadata": {
    "cell_style": "split"
   },
   "outputs": [],
   "source": [
    "try:\n",
    "    boom(2)\n",
    "except Exception as exc:\n",
    "    print(\"BOOM\") \n",
    "\n",
    "print(\"la vie continue\")    "
   ]
  }
 ],
 "metadata": {
  "kernelspec": {
   "display_name": "Python 3",
   "language": "python",
   "name": "python3"
  },
  "language_info": {
   "codemirror_mode": {
    "name": "ipython",
    "version": 3
   },
   "file_extension": ".py",
   "mimetype": "text/x-python",
   "name": "python",
   "nbconvert_exporter": "python",
   "pygments_lexer": "ipython3",
   "version": "3.7.0"
  },
  "notebookname": "introduction & primer",
  "version": "1.0"
 },
 "nbformat": 4,
 "nbformat_minor": 2
}
