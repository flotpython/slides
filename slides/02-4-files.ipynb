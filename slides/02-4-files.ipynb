{
 "cells": [
  {
   "cell_type": "markdown",
   "metadata": {},
   "source": [
    "<div class=\"licence\">\n",
    "<span>Licence CC BY-NC-ND</span>\n",
    "<span>Thierry Parmentelat &amp; Arnaud Legout</span>\n",
    "</div>"
   ]
  },
  {
   "cell_type": "code",
   "execution_count": null,
   "metadata": {
    "slideshow": {
     "slide_type": "slide"
    }
   },
   "outputs": [],
   "source": [
    "from plan import plan; plan(\"type\", \"fichier\")"
   ]
  },
  {
   "cell_type": "markdown",
   "metadata": {
    "run_control": {
     "frozen": false,
     "read_only": false
    }
   },
   "source": [
    "* lire et écrire un fichier est très facile en Python\n",
    "* ouvrir un fichier pour créer un objet \"fichier\"\n",
    "* `open('mon_fichier.txt', 'r')`\n",
    "  * `'r'` ouvre le fichier en lecture (défaut),\n",
    "  * `‘w’` en écriture,\n",
    "  * `‘a’` en écriture à la suite (*append*),"
   ]
  },
  {
   "cell_type": "markdown",
   "metadata": {
    "run_control": {
     "frozen": false,
     "read_only": false
    },
    "slideshow": {
     "slide_type": "slide"
    }
   },
   "source": [
    "### utilisez un `with`"
   ]
  },
  {
   "cell_type": "markdown",
   "metadata": {
    "run_control": {
     "frozen": false,
     "read_only": false
    }
   },
   "source": [
    "* prenez l'habitude de **toujours utiliser un context manager** "
   ]
  },
  {
   "cell_type": "code",
   "execution_count": null,
   "metadata": {
    "run_control": {
     "frozen": false,
     "read_only": false
    }
   },
   "outputs": [],
   "source": [
    "# on n'a pas encore étudié l'instruction with\n",
    "# mais je vous conseille de toujours procéder comme ceci\n",
    "\n",
    "# avec with on n'a pas besoin de fermer e fichier\n",
    "with open('data/tmp.txt', 'w') as f:\n",
    "    for i in 10, 20, 30:\n",
    "        f.write('{} {}\\n'.format(i, i**2))"
   ]
  },
  {
   "cell_type": "code",
   "execution_count": null,
   "metadata": {},
   "outputs": [],
   "source": [
    "!cat data/tmp.txt"
   ]
  },
  {
   "cell_type": "markdown",
   "metadata": {
    "run_control": {
     "frozen": false,
     "read_only": false
    },
    "slideshow": {
     "slide_type": "slide"
    }
   },
   "source": [
    "### sans context manager"
   ]
  },
  {
   "cell_type": "code",
   "execution_count": null,
   "metadata": {
    "run_control": {
     "frozen": false,
     "read_only": false
    }
   },
   "outputs": [],
   "source": [
    "# dans du (très) vieux code, vous pourrez voir\n",
    "\n",
    "f = open('data/tmp.txt', 'w')\n",
    "for i in 10, 20, 30:\n",
    "    f.write('{} {}\\n'.format(i, i**2))\n",
    "f.close()"
   ]
  },
  {
   "cell_type": "markdown",
   "metadata": {},
   "source": [
    "avantage du `with`: \n",
    "\n",
    "* pas besoin de fermer\n",
    "* même en cas de gros souci (exception)"
   ]
  },
  {
   "cell_type": "markdown",
   "metadata": {
    "run_control": {
     "frozen": false,
     "read_only": false
    },
    "slideshow": {
     "slide_type": "slide"
    }
   },
   "source": [
    "# lecture"
   ]
  },
  {
   "cell_type": "markdown",
   "metadata": {
    "run_control": {
     "frozen": false,
     "read_only": false
    }
   },
   "source": [
    "* l'objet fichier est un **itérable** lui-même\n",
    "* on peut faire un `for` dessus"
   ]
  },
  {
   "cell_type": "code",
   "execution_count": null,
   "metadata": {
    "run_control": {
     "frozen": false,
     "read_only": false
    }
   },
   "outputs": [],
   "source": [
    "# lire un fichier texte ligne par ligne\n",
    "# on ne peut pas faire plus compact et lisible !\n",
    "\n",
    "# remarquez aussi:\n",
    "# open() sans le mode ⇔ open('r')\n",
    "\n",
    "with open('data/tmp.txt') as f:\n",
    "    for line in f:\n",
    "        print(f\"-- {line}\", end='')"
   ]
  },
  {
   "cell_type": "markdown",
   "metadata": {
    "slideshow": {
     "slide_type": "slide"
    }
   },
   "source": [
    "### lecture"
   ]
  },
  {
   "cell_type": "markdown",
   "metadata": {},
   "source": [
    "* pour anticiper un peu:\n",
    "  * si je voulais compter les lignes ?\n",
    "* (on en reparlera au sujet des itérations)"
   ]
  },
  {
   "cell_type": "code",
   "execution_count": null,
   "metadata": {
    "run_control": {
     "frozen": false,
     "read_only": false
    }
   },
   "outputs": [],
   "source": [
    "# ne défigurez pas votre code juste pour \n",
    "# avoir un indice de boucle, utilisez enumerate\n",
    "with open('data/tmp.txt') as f:\n",
    "    for lineno, line in enumerate(f):\n",
    "        print(f\"{lineno+1}: {line}\", end='')"
   ]
  },
  {
   "cell_type": "markdown",
   "metadata": {
    "run_control": {
     "frozen": false,
     "read_only": false
    },
    "slideshow": {
     "slide_type": "slide"
    }
   },
   "source": [
    "### lecture par ligne"
   ]
  },
  {
   "cell_type": "markdown",
   "metadata": {
    "run_control": {
     "frozen": false,
     "read_only": false
    }
   },
   "source": [
    "* `F.readlines()`\n",
    "  * retourne un itérateur sur les lignes\n",
    "  * équivalent  (mais moins performant) à itérer sur F directement"
   ]
  },
  {
   "cell_type": "code",
   "execution_count": null,
   "metadata": {
    "run_control": {
     "frozen": false,
     "read_only": false
    }
   },
   "outputs": [],
   "source": [
    "with open('data/tmp.txt', 'r') as in_file:\n",
    "    for line in in_file.readlines():\n",
    "        print(line, end='')"
   ]
  },
  {
   "cell_type": "markdown",
   "metadata": {
    "run_control": {
     "frozen": false,
     "read_only": false
    },
    "slideshow": {
     "slide_type": "slide"
    }
   },
   "source": [
    "### autres méthodes sur les fichiers"
   ]
  },
  {
   "cell_type": "markdown",
   "metadata": {
    "run_control": {
     "frozen": false,
     "read_only": false
    }
   },
   "source": [
    "* `F.read(size)` lit `size` octets\n",
    " * si `size` n’est pas spécifié, lit tout le fichier\n",
    " * retourne une chaîne de caractères `str` contenant ce qui a été lu\n",
    "* `F.readline()` lit une seule ligne\n",
    "  * la chaîne retournée contient `\\n` à la fin\n",
    "* `F.write('mon texte\\n')`\n",
    "  * écrit (ici une ligne) dans le fichier\n",
    "* `F.writelines(sequence)`\n",
    "  * écrit une séquence dans un fichier, le saut de ligne doit être explicite avec `\\n` "
   ]
  },
  {
   "cell_type": "markdown",
   "metadata": {
    "run_control": {
     "frozen": false,
     "read_only": false
    },
    "slideshow": {
     "slide_type": "slide"
    }
   },
   "source": [
    "### autres méthodes sur les fichiers"
   ]
  },
  {
   "cell_type": "markdown",
   "metadata": {
    "run_control": {
     "frozen": false,
     "read_only": false
    }
   },
   "source": [
    "* `F.flush()`\n",
    "  * force l’écriture dans le fichier en vidant le cache\n",
    "* `F.close()`\n",
    "  * vide le cache et ferme le fichier\n",
    "  * on utilise maintenant les context manager\n",
    "* [le module `io` : https://docs.python.org/3/library/io.html](https://docs.python.org/3/library/io.html)"
   ]
  },
  {
   "cell_type": "markdown",
   "metadata": {
    "run_control": {
     "frozen": false,
     "read_only": false
    },
    "slideshow": {
     "slide_type": "slide"
    }
   },
   "source": [
    "### fichiers texte - épilogue"
   ]
  },
  {
   "cell_type": "markdown",
   "metadata": {
    "run_control": {
     "frozen": false,
     "read_only": false
    },
    "slideshow": {
     "slide_type": ""
    }
   },
   "source": [
    "un fichier sera en mode texte si le mode ne contient pas `b`:\n",
    "\n",
    "* le décodage et l’encodage sont automatiques lorsqu’on lit ou écrit, resp, dans le fichier\n",
    "* on obtiendra toujours un objet `str` en lecture et on ne pourra écrire qu’un objet `str`\n",
    "* les fins de lignes sont automatiquement converties en '\\n' pour être indépendant de l’OS"
   ]
  },
  {
   "cell_type": "markdown",
   "metadata": {
    "slideshow": {
     "slide_type": "slide"
    }
   },
   "source": [
    "### Ies modes"
   ]
  },
  {
   "cell_type": "markdown",
   "metadata": {},
   "source": [
    "principalement:\n",
    "\n",
    "    * 'r' pour lire (read)\n",
    "    * 'w' pour écrire et écraser (write)\n",
    "    * 'a' pour écrire à la fin (append)\n",
    "    * '+' si on souhaite lire **et** écrire\n",
    "se reporter à la documentation    "
   ]
  },
  {
   "cell_type": "markdown",
   "metadata": {
    "run_control": {
     "frozen": false,
     "read_only": false
    },
    "slideshow": {
     "slide_type": "slide"
    }
   },
   "source": [
    "# fichiers texte ou binaire"
   ]
  },
  {
   "cell_type": "markdown",
   "metadata": {
    "run_control": {
     "frozen": false,
     "read_only": false
    }
   },
   "source": [
    "* ajouter `'b'` au mode pour ouvrir **en binaire**\n",
    "  * pas de décodage\n",
    "  * travaille alors à base de **`bytes`** et non de `str`"
   ]
  },
  {
   "cell_type": "code",
   "execution_count": null,
   "metadata": {
    "cell_style": "center",
    "slideshow": {
     "slide_type": "slide"
    }
   },
   "outputs": [],
   "source": [
    "# j'ai besoin d'un objet bytes\n",
    "# rappelez vous la section sur Unicode\n",
    "text = \"noël en été\\n\"\n",
    "binaire = text.encode(encoding=\"utf-8\")\n",
    "\n",
    "binaire"
   ]
  },
  {
   "cell_type": "code",
   "execution_count": null,
   "metadata": {
    "cell_style": "center"
   },
   "outputs": [],
   "source": [
    "# remarquez le 'b' dans le mode d'ouverture\n",
    "\n",
    "with open('data/tmp2.txt', 'wb') as out_file:\n",
    "    # je peux du coup écrire un objet bytes\n",
    "    out_file.write(binaire)"
   ]
  },
  {
   "cell_type": "code",
   "execution_count": null,
   "metadata": {},
   "outputs": [],
   "source": [
    "!cat data/tmp2.txt"
   ]
  },
  {
   "cell_type": "code",
   "execution_count": null,
   "metadata": {
    "slideshow": {
     "slide_type": "slide"
    }
   },
   "outputs": [],
   "source": [
    "# pareil en lecture, le mode avec un 'b'\n",
    "# va faire que read() retourne un objet bytes\n",
    "\n",
    "with open('data/tmp2.txt', 'rb') as in_file:\n",
    "    binaire2 = in_file.read()"
   ]
  },
  {
   "cell_type": "code",
   "execution_count": null,
   "metadata": {
    "slideshow": {
     "slide_type": ""
    }
   },
   "outputs": [],
   "source": [
    "# et donc on retombe bien sur nos pieds\n",
    "binaire2 == binaire"
   ]
  },
  {
   "cell_type": "markdown",
   "metadata": {
    "run_control": {
     "frozen": false,
     "read_only": false
    },
    "slideshow": {
     "slide_type": "slide"
    }
   },
   "source": [
    "# fichiers binaires - épilogue"
   ]
  },
  {
   "cell_type": "markdown",
   "metadata": {
    "run_control": {
     "frozen": false,
     "read_only": false
    }
   },
   "source": [
    "on peut ouvrir un fichier Python en mode binaire \n",
    "\n",
    "* en utilisant les modes `'rb'`, `'wb'`, `'ab'`, `'r+b'`, `'w+b'`, `'a+b'`\n",
    "* on obtiendra toujours un objet `bytes` en lecture et on ne pourra écrire qu’un objet `bytes`\n",
    "* il n’y aura aucun encodage ni aucune conversion de fin de ligne (auberge espagnole)"
   ]
  },
  {
   "cell_type": "code",
   "execution_count": null,
   "metadata": {
    "run_control": {
     "frozen": false,
     "read_only": false
    }
   },
   "outputs": [],
   "source": [
    "with open('data/une-charogne.txt') as texte:\n",
    "   x = texte.read()\n",
    "type (x), len(x)"
   ]
  },
  {
   "cell_type": "code",
   "execution_count": null,
   "metadata": {
    "run_control": {
     "frozen": false,
     "read_only": false
    }
   },
   "outputs": [],
   "source": [
    "with open('data/une-charogne.txt', 'rb') as binaire:\n",
    "   y = binaire.read()\n",
    "type (y), len(y)"
   ]
  },
  {
   "cell_type": "markdown",
   "metadata": {
    "run_control": {
     "frozen": false,
     "read_only": false
    },
    "slideshow": {
     "slide_type": "slide"
    }
   },
   "source": [
    "# encodages"
   ]
  },
  {
   "cell_type": "markdown",
   "metadata": {
    "run_control": {
     "frozen": false,
     "read_only": false
    }
   },
   "source": [
    "* vous remarquez qu'on a souvent appelé `open()` sans préciser l'encodage\n",
    "* l’encodage par défaut pour un fichier ouvert en mode texte est celui retourné par: "
   ]
  },
  {
   "cell_type": "code",
   "execution_count": null,
   "metadata": {
    "run_control": {
     "frozen": false,
     "read_only": false
    }
   },
   "outputs": [],
   "source": [
    "import locale \n",
    "locale.getpreferredencoding(False)"
   ]
  },
  {
   "cell_type": "markdown",
   "metadata": {
    "run_control": {
     "frozen": false,
     "read_only": false
    },
    "slideshow": {
     "slide_type": "slide"
    }
   },
   "source": [
    "* appeler `open()` sans préciser l'encodage peut être risqué\n",
    "  * dépend des réglages sur la machine cible\n",
    "* il vaut mieux toujours être **explicite** et préciser l'encodage"
   ]
  },
  {
   "cell_type": "code",
   "execution_count": null,
   "metadata": {
    "run_control": {
     "frozen": false,
     "read_only": false
    }
   },
   "outputs": [],
   "source": [
    "with open('data/tmp.txt', 'r', encoding='utf8') as in_file:\n",
    "    print(in_file.read())"
   ]
  },
  {
   "cell_type": "markdown",
   "metadata": {},
   "source": [
    "* le problème est toutefois de moins en moins aigü\n",
    "  * Windows, MacOS et Linux à présent configurés par défaut pour UTF-8\n",
    "* si vous avez encore du `cp1252` (vieux Windows) ou des ISO-latin15 (Unix)\n",
    "  * je vous recommande de transcoder tout ça !"
   ]
  },
  {
   "cell_type": "markdown",
   "metadata": {
    "run_control": {
     "frozen": false,
     "read_only": false
    },
    "slideshow": {
     "slide_type": "slide"
    }
   },
   "source": [
    "# fichiers spéciaux"
   ]
  },
  {
   "cell_type": "markdown",
   "metadata": {
    "run_control": {
     "frozen": false,
     "read_only": false
    }
   },
   "source": [
    "* `sys.stdout`, `sys.stdin`, ",
    "`sys.stderr`\n",
    "  * sortie, entrée et erreur standard \n",
    "  * accessibles donc au travers du module `sys`"
   ]
  },
  {
   "cell_type": "code",
   "execution_count": null,
   "metadata": {},
   "outputs": [],
   "source": [
    "import sys\n",
    "sys.stdout"
   ]
  },
  {
   "cell_type": "markdown",
   "metadata": {
    "run_control": {
     "frozen": false,
     "read_only": false
    },
    "slideshow": {
     "slide_type": ""
    }
   },
   "source": [
    "# le module `pathlib`"
   ]
  },
  {
   "cell_type": "markdown",
   "metadata": {
    "run_control": {
     "frozen": false,
     "read_only": false
    },
    "slideshow": {
     "slide_type": "slide"
    }
   },
   "source": [
    "## objectifs\n",
    "\n",
    "* simplifier la gestion des noms de fichier \n",
    "* pour rendre le code plus concis\n",
    "* et donc plus lisible\n",
    "* sous-titre: *object-oriented filesystem paths*"
   ]
  },
  {
   "cell_type": "markdown",
   "metadata": {
    "run_control": {
     "frozen": false,
     "read_only": false
    },
    "slideshow": {
     "slide_type": "slide"
    }
   },
   "source": [
    "## présentation du module\n",
    "\n",
    "* voir [documentation complète](https://docs.python.org/3/library/pathlib.html)\n",
    "* et notamment un diagramme des classes \n",
    "  * `purepath` : manipulation sans le filesystem\n",
    "  * `path` : par exemple pour globbing (résoudre '*')\n",
    "* dispo dans librairie standard depuis python-3.4\n",
    "  * et aussi dans pypi, donc pour 2.7\n",
    "* ne gère pas\n",
    "  * les objets fichier (s'arrête à `open`)\n",
    "  * les urls"
   ]
  },
  {
   "cell_type": "markdown",
   "metadata": {
    "run_control": {
     "frozen": false,
     "read_only": false
    },
    "slideshow": {
     "slide_type": "slide"
    }
   },
   "source": [
    "## un exemple\n",
    "\n",
    "* orienté objet\n",
    "* le sujet devient plus visible\n",
    "* **NB**: un objet `Path` est immutable"
   ]
  },
  {
   "cell_type": "code",
   "execution_count": null,
   "metadata": {
    "run_control": {
     "frozen": false,
     "read_only": false
    }
   },
   "outputs": [],
   "source": [
    "# avec os.path\n",
    "import os.path\n",
    "\n",
    "config_dir = \"/etc/apache2\"\n",
    "if os.path.isdir(config_dir):\n",
    "    print(\"OUI\")"
   ]
  },
  {
   "cell_type": "code",
   "execution_count": null,
   "metadata": {
    "run_control": {
     "frozen": false,
     "read_only": false
    }
   },
   "outputs": [],
   "source": [
    "# avec pathlib\n",
    "from pathlib import Path\n",
    "\n",
    "config_path = Path(\"/etc/apache2\")\n",
    "if config_path.is_dir():\n",
    "    print(\"OUI\")"
   ]
  },
  {
   "cell_type": "markdown",
   "metadata": {
    "run_control": {
     "frozen": false,
     "read_only": false
    },
    "slideshow": {
     "slide_type": "slide"
    }
   },
   "source": [
    "## l'opérateur `/`"
   ]
  },
  {
   "cell_type": "markdown",
   "metadata": {
    "run_control": {
     "frozen": false,
     "read_only": false
    }
   },
   "source": [
    "* la fin de `os.path.join`"
   ]
  },
  {
   "cell_type": "code",
   "execution_count": null,
   "metadata": {
    "run_control": {
     "frozen": false,
     "read_only": false
    }
   },
   "outputs": [],
   "source": [
    "# un chemin absolu\n",
    "prefix = Path(\"/etc\")\n",
    "# le chemin absolu du directory courant\n",
    "dot = Path.cwd()\n",
    "# ou du homedir\n",
    "home = Path.home()\n",
    "# un nom de ficher\n",
    "filename = Path(\"apache\")\n",
    "\n",
    "# Path / Path -> Path bien sûr\n",
    "type(prefix / filename)"
   ]
  },
  {
   "cell_type": "code",
   "execution_count": null,
   "metadata": {
    "run_control": {
     "frozen": false,
     "read_only": false
    },
    "slideshow": {
     "slide_type": "slide"
    }
   },
   "outputs": [],
   "source": [
    "# Path / str -> Path\n",
    "type(prefix / \"apache2\")"
   ]
  },
  {
   "cell_type": "code",
   "execution_count": null,
   "metadata": {
    "run_control": {
     "frozen": false,
     "read_only": false
    }
   },
   "outputs": [],
   "source": [
    "# str / Path -> Path\n",
    "type(\"/etc\" / Path(\"apache2\"))"
   ]
  },
  {
   "cell_type": "code",
   "execution_count": null,
   "metadata": {
    "run_control": {
     "frozen": false,
     "read_only": false
    }
   },
   "outputs": [],
   "source": [
    "# On peut chainer le tout sans parenthèse \n",
    "# si le premier (à gauche) est un Path\n",
    "\n",
    "type(prefix / \"apache2\" / \"modules.d\")"
   ]
  },
  {
   "cell_type": "code",
   "execution_count": null,
   "metadata": {
    "run_control": {
     "frozen": false,
     "read_only": false
    }
   },
   "outputs": [],
   "source": [
    "# mais bien sûr str / str -> TypeError\n",
    "try:\n",
    "    \"/etc\" / \"apache2\"\n",
    "except Exception as e:\n",
    "    print(\"OOPS\", e)"
   ]
  },
  {
   "cell_type": "markdown",
   "metadata": {
    "run_control": {
     "frozen": false,
     "read_only": false
    },
    "slideshow": {
     "slide_type": "slide"
    }
   },
   "source": [
    "## décorticage"
   ]
  },
  {
   "cell_type": "markdown",
   "metadata": {
    "run_control": {
     "frozen": false,
     "read_only": false
    }
   },
   "source": [
    "* remplacement de `basename` et `dirname` et similaires"
   ]
  },
  {
   "cell_type": "code",
   "execution_count": null,
   "metadata": {
    "run_control": {
     "frozen": false,
     "read_only": false
    }
   },
   "outputs": [],
   "source": [
    "# un chemin vers le directory 'filepath-globbing' dans ce répertoire\n",
    "\n",
    "absolute = Path.cwd()\n",
    "relative = Path(\".\")\n",
    "\n",
    "globbing = absolute / \"filepath-globbing\"\n",
    "\n",
    "# retrouver le string\n",
    "str(globbing)"
   ]
  },
  {
   "cell_type": "code",
   "execution_count": null,
   "metadata": {
    "run_control": {
     "frozen": false,
     "read_only": false
    }
   },
   "outputs": [],
   "source": [
    "globbing.parts"
   ]
  },
  {
   "cell_type": "code",
   "execution_count": null,
   "metadata": {
    "run_control": {
     "frozen": false,
     "read_only": false
    }
   },
   "outputs": [],
   "source": [
    "# basename\n",
    "globbing.name"
   ]
  },
  {
   "cell_type": "code",
   "execution_count": null,
   "metadata": {
    "run_control": {
     "frozen": false,
     "read_only": false
    }
   },
   "outputs": [],
   "source": [
    "# dirname\n",
    "globbing.parent"
   ]
  },
  {
   "cell_type": "code",
   "execution_count": null,
   "metadata": {
    "run_control": {
     "frozen": false,
     "read_only": false
    }
   },
   "outputs": [],
   "source": [
    "list(globbing.parents)"
   ]
  },
  {
   "cell_type": "code",
   "execution_count": null,
   "metadata": {
    "run_control": {
     "frozen": false,
     "read_only": false
    },
    "slideshow": {
     "slide_type": "slide"
    }
   },
   "outputs": [],
   "source": [
    "# parce qu'on l'a construit à partir de cwd() qui est absolu\n",
    "globbing.is_absolute()"
   ]
  },
  {
   "cell_type": "code",
   "execution_count": null,
   "metadata": {
    "run_control": {
     "frozen": false,
     "read_only": false
    }
   },
   "outputs": [],
   "source": [
    "Path(\"globbing\").is_absolute()"
   ]
  },
  {
   "cell_type": "code",
   "execution_count": null,
   "metadata": {
    "run_control": {
     "frozen": false,
     "read_only": false
    }
   },
   "outputs": [],
   "source": [
    "# ancien abspath()\n",
    "globbing.resolve()"
   ]
  },
  {
   "cell_type": "code",
   "execution_count": null,
   "metadata": {
    "run_control": {
     "frozen": false,
     "read_only": false
    }
   },
   "outputs": [],
   "source": [
    "list(globbing.parents)[-2]"
   ]
  },
  {
   "cell_type": "code",
   "execution_count": null,
   "metadata": {
    "run_control": {
     "frozen": false,
     "read_only": false
    }
   },
   "outputs": [],
   "source": [
    "# ancien relpath()\n",
    "# juste pour rendre le notebook utilisable partout (windows?)\n",
    "level1 = list(globbing.parents)[-2]\n",
    "print(\"level1\", level1)\n",
    "# chez moi level1 vaut \"/Users\"\n",
    "globbing.relative_to(level1)"
   ]
  },
  {
   "cell_type": "markdown",
   "metadata": {
    "run_control": {
     "frozen": false,
     "read_only": false
    },
    "slideshow": {
     "slide_type": "slide"
    }
   },
   "source": [
    "## pattern-matching"
   ]
  },
  {
   "cell_type": "code",
   "execution_count": null,
   "metadata": {
    "cell_style": "center",
    "run_control": {
     "frozen": false,
     "read_only": false
    },
    "slideshow": {
     "slide_type": ""
    }
   },
   "outputs": [],
   "source": [
    "# est-ce que le nom de mon objet Path \n",
    "# a une certaine forme ?\n",
    "\n",
    "globbing.match(\"**/slides/*\")"
   ]
  },
  {
   "cell_type": "code",
   "execution_count": null,
   "metadata": {
    "run_control": {
     "frozen": false,
     "read_only": false
    }
   },
   "outputs": [],
   "source": [
    "globbing.match(\"**/*globbing*\")"
   ]
  },
  {
   "cell_type": "markdown",
   "metadata": {
    "run_control": {
     "frozen": false,
     "read_only": false
    },
    "slideshow": {
     "slide_type": "slide"
    }
   },
   "source": [
    "## pattern-matching"
   ]
  },
  {
   "cell_type": "markdown",
   "metadata": {
    "cell_style": "split"
   },
   "source": [
    "recherche dans un répertoire"
   ]
  },
  {
   "cell_type": "code",
   "execution_count": null,
   "metadata": {
    "cell_style": "split",
    "run_control": {
     "frozen": false,
     "read_only": false
    }
   },
   "outputs": [],
   "source": [
    "# un répertoire qui contient quelques fichiers\n",
    "!ls filepath-globbing/**"
   ]
  },
  {
   "cell_type": "code",
   "execution_count": null,
   "metadata": {
    "run_control": {
     "frozen": false,
     "read_only": false
    },
    "slideshow": {
     "slide_type": "slide"
    }
   },
   "outputs": [],
   "source": [
    "# à présent c'est plus intéressant\n",
    "# avec des chemins relatifs\n",
    "globbing = Path(\".\") / \"filepath-globbing\"\n",
    "\n",
    "list(globbing.glob(\"*\"))"
   ]
  },
  {
   "cell_type": "code",
   "execution_count": null,
   "metadata": {
    "run_control": {
     "frozen": false,
     "read_only": false
    }
   },
   "outputs": [],
   "source": [
    "list(globbing.glob(\"*[0-9]\"))"
   ]
  },
  {
   "cell_type": "code",
   "execution_count": null,
   "metadata": {
    "run_control": {
     "frozen": false,
     "read_only": false
    }
   },
   "outputs": [],
   "source": [
    "list(globbing.glob(\"**\"))"
   ]
  },
  {
   "cell_type": "code",
   "execution_count": null,
   "metadata": {
    "run_control": {
     "frozen": false,
     "read_only": false
    }
   },
   "outputs": [],
   "source": [
    "list(globbing.glob(\"**/*[0-9]\"))"
   ]
  },
  {
   "cell_type": "code",
   "execution_count": null,
   "metadata": {
    "run_control": {
     "frozen": false,
     "read_only": false
    }
   },
   "outputs": [],
   "source": [
    "str(globbing)"
   ]
  },
  {
   "cell_type": "markdown",
   "metadata": {
    "run_control": {
     "frozen": false,
     "read_only": false
    },
    "slideshow": {
     "slide_type": "slide"
    }
   },
   "source": [
    "## voir aussi\n",
    "\n",
    "* `exists`, `is_dir`, `is_file` ...\n",
    "* `stat` / `lstat` / `owner` pour les détails comme taille, permissions...\n",
    "* `rename`, `unlink`, `rmdir` \n",
    "* `iterdir` (`os.listdir`, mais pas `os.walk`)\n",
    "* `glob` - `rglob` \n",
    "* `open` / `{read,write}_{text_bytes}` / : wrappers \n",
    "* à nouveau: [documentation complète](https://docs.python.org/3/library/pathlib.html)"
   ]
  },
  {
   "cell_type": "markdown",
   "metadata": {
    "run_control": {
     "frozen": false,
     "read_only": false
    },
    "slideshow": {
     "slide_type": "slide"
    }
   },
   "source": [
    "## remplacement pour\n",
    "\n",
    "* le plus gros de `os.path`\n",
    "* certaines choses de `os`\n",
    "* `glob.glob`\n",
    "* `fnmatch`\n",
    "* contient un wrapper pour `open`"
   ]
  }
 ],
 "metadata": {
  "kernelspec": {
   "display_name": "Python 3",
   "language": "python",
   "name": "python3"
  },
  "language_info": {
   "codemirror_mode": {
    "name": "ipython",
    "version": 3
   },
   "file_extension": ".py",
   "mimetype": "text/x-python",
   "name": "python",
   "nbconvert_exporter": "python",
   "pygments_lexer": "ipython3",
   "version": "3.7.0"
  },
  "notebookname": "fichiers",
  "rise": {
   "autolaunch": true,
   "slideNumber": "c/t",
   "start_slideshow_at": "selected",
   "theme": "sky",
   "transition": "cube"
  },
  "toc": {
   "colors": {
    "hover_highlight": "#DAA520",
    "running_highlight": "#FF0000",
    "selected_highlight": "#FFD700"
   },
   "moveMenuLeft": true,
   "nav_menu": {
    "height": "512px",
    "width": "252px"
   },
   "navigate_menu": true,
   "number_sections": true,
   "sideBar": true,
   "threshold": "2",
   "toc_cell": false,
   "toc_section_display": "block",
   "toc_window_display": false,
   "widenNotebook": false
  },
  "version": "1.0"
 },
 "nbformat": 4,
 "nbformat_minor": 2
}
