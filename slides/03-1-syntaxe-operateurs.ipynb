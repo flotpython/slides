{
 "cells": [
  {
   "cell_type": "markdown",
   "metadata": {
    "cell_style": "center",
    "run_control": {
     "frozen": false,
     "read_only": false
    }
   },
   "source": [
    "<div class=\"licence\">\n",
    "<span>Licence CC BY-NC-ND</span>\n",
    "<span>Thierry Parmentelat &amp; Arnaud Legout</span>\n",
    "</div>"
   ]
  },
  {
   "cell_type": "code",
   "execution_count": null,
   "metadata": {
    "run_control": {
     "frozen": false,
     "read_only": false
    },
    "slideshow": {
     "slide_type": "slide"
    }
   },
   "outputs": [],
   "source": [
    "from plan import plan; plan(\"syntaxe\", \"syntaxe\")"
   ]
  },
  {
   "cell_type": "markdown",
   "metadata": {
    "run_control": {
     "frozen": false,
     "read_only": false
    },
    "slideshow": {
     "slide_type": "slide"
    }
   },
   "source": [
    "### mots réservés"
   ]
  },
  {
   "cell_type": "markdown",
   "metadata": {
    "run_control": {
     "frozen": false,
     "read_only": false
    }
   },
   "source": [
    "* ne **peuvent pas être utilisés** comme un nom de variable\n",
    "* en gras : les nouveautés par rapport à python2\n",
    "\n",
    "\n",
    "| &nbsp;    |   &nbsp; | &nbsp;  | &nbsp;       | &nbsp; |\n",
    "|----------:|---------:|--------:|-------------:|-------:|\n",
    "| **False** | **await**    | else    | import       | pass   |\n",
    "| **None**  | break    | except  | in           | raise  |\n",
    "| **True**  | class    | finally | is           | return |\n",
    "| and       | continue | for     | lambda       | try    |\n",
    "| as        | def      | from    | **nonlocal** | while  |\n",
    "| assert    | del      | global  | not          | with   |\n",
    "| **async**     | elif     | if      | or           | yield  |"
   ]
  },
  {
   "cell_type": "markdown",
   "metadata": {
    "run_control": {
     "frozen": false,
     "read_only": false
    },
    "slideshow": {
     "slide_type": "slide"
    }
   },
   "source": [
    "### l’indentation comme base de la syntaxe"
   ]
  },
  {
   "cell_type": "markdown",
   "metadata": {
    "run_control": {
     "frozen": false,
     "read_only": false
    }
   },
   "source": [
    "* la fin d’une ligne est significative\n",
    "  * pas de `;` nécessaire à la fin de la ligne\n",
    "* un **bloc** d’instructions doit avoir  \n",
    "  la **même indentation**  \n",
    "  en partant de la gauche\n",
    "\n",
    "  * pas de `{}` délimitant un bloc\n",
    "  * l’indentation peut être un ou plusieurs espaces  \n",
    "    (recommandation : 4 espaces)"
   ]
  },
  {
   "cell_type": "markdown",
   "metadata": {
    "run_control": {
     "frozen": false,
     "read_only": false
    },
    "slideshow": {
     "slide_type": "slide"
    }
   },
   "source": [
    "### l’indentation comme base de la syntaxe"
   ]
  },
  {
   "cell_type": "markdown",
   "metadata": {
    "run_control": {
     "frozen": false,
     "read_only": false
    }
   },
   "source": [
    "les principaux pièges pour les débutants\n",
    "\n",
    "* évitez d'utiliser des `Tab`\n",
    "  * le plus simple c'est de ne **jamais** mettre de Tab \n",
    "  * python3 est d'ailleurs plus exigeant\n",
    "* et attention aux copier/coller\n",
    "  * qui peuvent décaler des lignes"
   ]
  },
  {
   "cell_type": "markdown",
   "metadata": {
    "run_control": {
     "frozen": false,
     "read_only": false
    },
    "slideshow": {
     "slide_type": "slide"
    }
   },
   "source": [
    "# if elif else"
   ]
  },
  {
   "cell_type": "markdown",
   "metadata": {
    "cell_style": "split",
    "run_control": {
     "frozen": false,
     "read_only": false
    }
   },
   "source": [
    "L'instruction conditionnelle en Python:\n",
    "\n",
    "```\n",
    "if <test1>:\n",
    "    <statement1>\n",
    "elif <test2>:\n",
    "    <statement2>\n",
    "elif <test3>:\n",
    "    <statement3>\n",
    "else:\n",
    "    <statement4>\n",
    "```"
   ]
  },
  {
   "cell_type": "markdown",
   "metadata": {
    "cell_style": "split",
    "run_control": {
     "frozen": false,
     "read_only": false
    }
   },
   "source": [
    "* si un test est vrai, \n",
    "  * l'instruction est exécutée\n",
    "  * le `if` est terminé\n",
    "* `else` est exécuté\n",
    "  * ssi tous les tests sont faux"
   ]
  },
  {
   "cell_type": "markdown",
   "metadata": {
    "run_control": {
     "frozen": false,
     "read_only": false
    },
    "slideshow": {
     "slide_type": "slide"
    }
   },
   "source": [
    "## if elif else"
   ]
  },
  {
   "cell_type": "code",
   "execution_count": null,
   "metadata": {
    "cell_style": "split",
    "run_control": {
     "frozen": false,
     "read_only": false
    }
   },
   "outputs": [],
   "source": [
    "def appreciation(note):\n",
    "    if note >= 16:\n",
    "        return \"félicitations\"\n",
    "    elif note >= 14:\n",
    "        return \"compliments\"\n",
    "    elif note >= 12:\n",
    "        return \"encouragements\"\n",
    "    elif note >= 10:\n",
    "        return \"passable\"\n",
    "    else:\n",
    "        return \"insuffisant\" "
   ]
  },
  {
   "cell_type": "code",
   "execution_count": null,
   "metadata": {
    "cell_style": "split"
   },
   "outputs": [],
   "source": [
    "print(appreciation(15.5))"
   ]
  },
  {
   "cell_type": "code",
   "execution_count": null,
   "metadata": {
    "cell_style": "split"
   },
   "outputs": [],
   "source": [
    "print(appreciation(11.5))"
   ]
  },
  {
   "cell_type": "markdown",
   "metadata": {},
   "source": [
    "**Note**: pas de *switch* ou autres *case* en Python."
   ]
  },
  {
   "cell_type": "markdown",
   "metadata": {
    "run_control": {
     "frozen": false,
     "read_only": false
    },
    "slideshow": {
     "slide_type": "slide"
    }
   },
   "source": [
    "# Instructions *vs* expressions"
   ]
  },
  {
   "cell_type": "markdown",
   "metadata": {
    "cell_style": "split"
   },
   "source": [
    "* `if .. elif .. else` est une **instruction**\n",
    "* une instruction est **exécutée**\n",
    "* et ne retourne rien"
   ]
  },
  {
   "cell_type": "markdown",
   "metadata": {
    "cell_style": "split"
   },
   "source": [
    "* `note >= 16` est une **expression**\n",
    "* une expression **retourne** un résultat \n",
    "  * lorsqu'elle est **évaluée**\n",
    "* peuvent être combinées\n",
    "  * ex: `fonction(a == b)`\n"
   ]
  },
  {
   "cell_type": "markdown",
   "metadata": {
    "cell_style": "split",
    "slideshow": {
     "slide_type": "fragment"
    }
   },
   "source": [
    "Instructions:\n",
    "\n",
    "* `variable = ...`\n",
    "* `if ...`\n",
    "* `for i in iterable ...`\n",
    "* `def ...`\n",
    "* `import ...`\n"
   ]
  },
  {
   "cell_type": "markdown",
   "metadata": {
    "cell_style": "split",
    "slideshow": {
     "slide_type": "fragment"
    }
   },
   "source": [
    "Expressions:\n",
    "\n",
    "* `variable`\n",
    "* `variable.attribut`\n",
    "* `(a is b) and (c**2 == 25))`\n",
    "* `fonction(arg1, ...)` "
   ]
  },
  {
   "cell_type": "markdown",
   "metadata": {
    "run_control": {
     "frozen": false,
     "read_only": false
    },
    "slideshow": {
     "slide_type": "slide"
    }
   },
   "source": [
    "## if elif else"
   ]
  },
  {
   "cell_type": "markdown",
   "metadata": {},
   "source": [
    "* les `<test>` sont bien entendu des **expressions**\n",
    "* qui peuvent retourner autre chose qu'un booléen\n",
    "  * nombres: seul **zéro** (`0` ou `0.`) est considéré comme `False`\n",
    "  * chaines, containers: seul l'**objet vide** est considéré comme `False`\n",
    "  * autres cas: voir `bool()`"
   ]
  },
  {
   "cell_type": "code",
   "execution_count": null,
   "metadata": {
    "cell_style": "split",
    "slideshow": {
     "slide_type": "slide"
    }
   },
   "outputs": [],
   "source": [
    "liste = []\n",
    "if liste:\n",
    "    print(\"bingo\")"
   ]
  },
  {
   "cell_type": "code",
   "execution_count": null,
   "metadata": {
    "cell_style": "split"
   },
   "outputs": [],
   "source": [
    "liste.append(12)\n",
    "if liste:\n",
    "    print(\"bingo\")"
   ]
  },
  {
   "cell_type": "code",
   "execution_count": null,
   "metadata": {
    "cell_style": "split",
    "slideshow": {
     "slide_type": "fragment"
    }
   },
   "outputs": [],
   "source": [
    "entier = 0\n",
    "if entier:\n",
    "    print(\"bingo\")"
   ]
  },
  {
   "cell_type": "code",
   "execution_count": null,
   "metadata": {
    "cell_style": "split"
   },
   "outputs": [],
   "source": [
    "entier = -3\n",
    "if entier:\n",
    "    print(\"bingo\")"
   ]
  },
  {
   "cell_type": "code",
   "execution_count": null,
   "metadata": {
    "cell_style": "split",
    "slideshow": {
     "slide_type": "fragment"
    }
   },
   "outputs": [],
   "source": [
    "bool([])"
   ]
  },
  {
   "cell_type": "code",
   "execution_count": null,
   "metadata": {
    "cell_style": "split"
   },
   "outputs": [],
   "source": [
    "bool([1])"
   ]
  },
  {
   "cell_type": "code",
   "execution_count": null,
   "metadata": {
    "cell_style": "split",
    "slideshow": {
     "slide_type": "fragment"
    }
   },
   "outputs": [],
   "source": [
    "bool(0)"
   ]
  },
  {
   "cell_type": "code",
   "execution_count": null,
   "metadata": {
    "cell_style": "split"
   },
   "outputs": [],
   "source": [
    "bool(1)"
   ]
  },
  {
   "cell_type": "markdown",
   "metadata": {
    "run_control": {
     "frozen": false,
     "read_only": false
    },
    "slideshow": {
     "slide_type": "slide"
    }
   },
   "source": [
    "## if elif else"
   ]
  },
  {
   "cell_type": "markdown",
   "metadata": {},
   "source": [
    "* lors de l'exécution du `if`, seuls les tests nécessaires sont évalués\n",
    "* important, car une expression peut faire un **effet de bord**"
   ]
  },
  {
   "cell_type": "code",
   "execution_count": null,
   "metadata": {
    "cell_style": "split",
    "slideshow": {
     "slide_type": ""
    }
   },
   "outputs": [],
   "source": [
    "# une fonction avec side-effect\n",
    "counter = 0\n",
    "\n",
    "def greater(a, b):\n",
    "    global counter\n",
    "    counter += 1 \n",
    "    return a >= b"
   ]
  },
  {
   "cell_type": "code",
   "execution_count": null,
   "metadata": {
    "cell_style": "split",
    "run_control": {
     "frozen": false,
     "read_only": false
    }
   },
   "outputs": [],
   "source": [
    "def appreciation(note):\n",
    "    if greater(note, 16):\n",
    "        return \"félicitations\"\n",
    "    elif greater(note, 14):\n",
    "        return \"compliments\"\n",
    "    elif greater(note, 12):\n",
    "        return \"encouragements\"\n",
    "    elif greater(note, 10):\n",
    "        return \"passable\"\n",
    "    else:\n",
    "        return \"insuffisant\""
   ]
  },
  {
   "cell_type": "code",
   "execution_count": null,
   "metadata": {},
   "outputs": [],
   "source": [
    "print(f\"avant: counter={counter}\")\n",
    "print(appreciation(13.5))\n",
    "print(f\"après: counter={counter}\")"
   ]
  },
  {
   "cell_type": "markdown",
   "metadata": {
    "slideshow": {
     "slide_type": "slide"
    }
   },
   "source": [
    "# expression conditionnelle"
   ]
  },
  {
   "cell_type": "markdown",
   "metadata": {},
   "source": [
    "* il existe aussi une **expression**   \n",
    "  permettant de faire quelque chose comme *if .. then .. else ..*\n",
    "\n",
    "```\n",
    "   <exp_1> if <test> else <exp_2>\n",
    "```\n",
    "\n",
    "* se rapproche de `<test> ? <exp_1> : <exp_2>` en C ou JavaScript.."
   ]
  },
  {
   "cell_type": "code",
   "execution_count": null,
   "metadata": {},
   "outputs": [],
   "source": [
    "note = 8\n",
    "appreciation = \"suffisant\" if note >= 10 else \"insuffisant\"\n",
    "appreciation"
   ]
  },
  {
   "cell_type": "markdown",
   "metadata": {
    "run_control": {
     "frozen": false,
     "read_only": false
    },
    "slideshow": {
     "slide_type": "slide"
    }
   },
   "source": [
    "# norme de présentation"
   ]
  },
  {
   "cell_type": "markdown",
   "metadata": {},
   "source": [
    "[la note dite *PEP-008*](https://www.python.org/dev/peps/pep-0008/) donne une norme pour la présentation"
   ]
  },
  {
   "cell_type": "markdown",
   "metadata": {
    "cell_style": "split"
   },
   "source": [
    "OUI:\n",
    "\n",
    "* `fonction(a, b, c)`\n",
    "* `GLOBALE = 1000`\n",
    "* lignes de longueur <= 80 caractères"
   ]
  },
  {
   "cell_type": "markdown",
   "metadata": {
    "cell_style": "split"
   },
   "source": [
    "NON:\n",
    "\n",
    "* `fonction (a,b,c)`\n",
    "* `globale=1000`\n",
    "* lignes très longues"
   ]
  },
  {
   "cell_type": "markdown",
   "metadata": {},
   "source": [
    "de nombreux outils sont disponibles, il est très utile d'avoir:\n",
    "\n",
    "* un vérificateur permanent dans l'éditeur\n",
    "* un outil de modification automatique "
   ]
  },
  {
   "cell_type": "markdown",
   "metadata": {
    "run_control": {
     "frozen": false,
     "read_only": false
    },
    "slideshow": {
     "slide_type": "slide"
    }
   },
   "source": [
    "# longueur des lignes"
   ]
  },
  {
   "cell_type": "markdown",
   "metadata": {},
   "source": [
    "Plusieurs astuces pour respecter une largeur fixe:"
   ]
  },
  {
   "cell_type": "code",
   "execution_count": null,
   "metadata": {},
   "outputs": [],
   "source": [
    "# 1. utiliser les parenthèses\n",
    "\n",
    "def foo():\n",
    "    if expression(args):\n",
    "        return (le_resultat() and de_l_expression() \n",
    "                and est_susceptible() and de_prendre()\n",
    "                and beaucoup_de_place())"
   ]
  },
  {
   "cell_type": "markdown",
   "metadata": {
    "run_control": {
     "frozen": false,
     "read_only": false
    },
    "slideshow": {
     "slide_type": "slide"
    }
   },
   "source": [
    "## longueur des lignes"
   ]
  },
  {
   "cell_type": "code",
   "execution_count": null,
   "metadata": {},
   "outputs": [],
   "source": [
    "# 2. ça marche aussi avec les {} et [] \n",
    "\n",
    "GLOBAL_MAP = [\n",
    "    {'shortcut': 'ctrl-w', 'function': 'RISE:render-all-cells'},\n",
    "    {'shortcut': 'ctrl-q', 'function': 'RISE:edit-all-cells'},\n",
    "]"
   ]
  },
  {
   "cell_type": "markdown",
   "metadata": {
    "run_control": {
     "frozen": false,
     "read_only": false
    },
    "slideshow": {
     "slide_type": "slide"
    }
   },
   "source": [
    "## longueur des lignes"
   ]
  },
  {
   "cell_type": "code",
   "execution_count": null,
   "metadata": {},
   "outputs": [],
   "source": [
    "# 3. lorsqu'on a besoin de retourner des chaines de caractères très longues\n",
    "# on peut utiliser un conjonction de\n",
    "# * parenthèses\n",
    "# * concaténation des chaines dans le source\n",
    "\n",
    "def longue_chaine(nom, prenom):\n",
    "    return (\n",
    "        f\"<table><thead><tr><th>Nom</th><th>Prénom</th></tr></thead>\"\n",
    "        f\"<tbody><tr><td>{nom}</td><td>{prenom}</td></tr></tbody>\"\n",
    "        f\"</table>\"\n",
    "    )"
   ]
  },
  {
   "cell_type": "code",
   "execution_count": null,
   "metadata": {
    "cell_style": "split"
   },
   "outputs": [],
   "source": [
    "from IPython.display import HTML\n",
    "HTML(longue_chaine(\"Jean\", \"Dupont\"))"
   ]
  },
  {
   "cell_type": "markdown",
   "metadata": {
    "cell_style": "split"
   },
   "source": [
    "**NOTE**: pour ce genre d'application, utiliser plutôt une bibliothèque de *templating*."
   ]
  },
  {
   "cell_type": "markdown",
   "metadata": {
    "run_control": {
     "frozen": false,
     "read_only": false
    },
    "slideshow": {
     "slide_type": "slide"
    }
   },
   "source": [
    "## longueur des lignes"
   ]
  },
  {
   "cell_type": "markdown",
   "metadata": {},
   "source": [
    "enfin il peut être utile de savoir qu'on peut 'échapper' les fins de ligne\n"
   ]
  },
  {
   "cell_type": "code",
   "execution_count": null,
   "metadata": {},
   "outputs": [],
   "source": [
    "# il est sans doute préférable d'utiliser des parenthèses\n",
    "# mais sachez qu'on peut aussi utiliser un \\ avant la fin de ligne\n",
    "\n",
    "def foo():\n",
    "    if expression(args):\n",
    "        return le_resultat() and de_l_expression() \\\n",
    "                and est_susceptible() and de_prendre() \\\n",
    "                and beaucoup_de_place()"
   ]
  },
  {
   "cell_type": "markdown",
   "metadata": {
    "run_control": {
     "frozen": false,
     "read_only": false
    },
    "slideshow": {
     "slide_type": "slide"
    }
   },
   "source": [
    "## longueur des lignes"
   ]
  },
  {
   "cell_type": "markdown",
   "metadata": {
    "slideshow": {
     "slide_type": ""
    }
   },
   "source": [
    "je déconseille toutefois cet usage; un espace après le \\ ne se voit pas !"
   ]
  },
  {
   "cell_type": "code",
   "execution_count": null,
   "metadata": {},
   "outputs": [],
   "source": [
    "# on ne voit pas où est l'erreur de syntaxe !\n",
    "def foo():\n",
    "    if expression(args):\n",
    "        return le_resultat() and de_l_expression() \\ \n",
    "                and est_susceptible() and de_prendre() \\\n",
    "                and beaucoup_de_place()"
   ]
  },
  {
   "cell_type": "markdown",
   "metadata": {
    "slideshow": {
     "slide_type": "slide"
    }
   },
   "source": [
    "# opérateurs"
   ]
  },
  {
   "cell_type": "markdown",
   "metadata": {},
   "source": [
    "* arithmétiques:  `+` | `-` | `*` | `/`\n",
    "  * pas que sur les nombres"
   ]
  },
  {
   "cell_type": "code",
   "execution_count": null,
   "metadata": {
    "cell_style": "split"
   },
   "outputs": [],
   "source": [
    "'on peut ajouter' ' deux chaines'"
   ]
  },
  {
   "cell_type": "code",
   "execution_count": null,
   "metadata": {
    "cell_style": "split"
   },
   "outputs": [],
   "source": [
    "['et', 'les'] + ['listes', 'aussi']"
   ]
  },
  {
   "cell_type": "code",
   "execution_count": null,
   "metadata": {
    "cell_style": "split"
   },
   "outputs": [],
   "source": [
    "4 * '-00-'"
   ]
  },
  {
   "cell_type": "code",
   "execution_count": null,
   "metadata": {
    "cell_style": "split"
   },
   "outputs": [],
   "source": [
    "4 * [1, 2]"
   ]
  },
  {
   "cell_type": "markdown",
   "metadata": {
    "slideshow": {
     "slide_type": "slide"
    }
   },
   "source": [
    "### opérateurs"
   ]
  },
  {
   "cell_type": "markdown",
   "metadata": {},
   "source": [
    "* division entière: quotient et reste: `//`  et `%`"
   ]
  },
  {
   "cell_type": "code",
   "execution_count": null,
   "metadata": {
    "cell_style": "split"
   },
   "outputs": [],
   "source": [
    "# avec des entiers\n",
    "19 // 3"
   ]
  },
  {
   "cell_type": "code",
   "execution_count": null,
   "metadata": {
    "cell_style": "split"
   },
   "outputs": [],
   "source": [
    "\n",
    "19 % 3"
   ]
  },
  {
   "cell_type": "code",
   "execution_count": null,
   "metadata": {
    "cell_style": "split"
   },
   "outputs": [],
   "source": [
    "# ou des flottants\n",
    "from math import pi, e\n",
    "\n",
    "pi // e\n"
   ]
  },
  {
   "cell_type": "code",
   "execution_count": null,
   "metadata": {
    "cell_style": "split"
   },
   "outputs": [],
   "source": [
    "from math import pi\n",
    "\n",
    "pi % e\n"
   ]
  },
  {
   "cell_type": "markdown",
   "metadata": {
    "slideshow": {
     "slide_type": "slide"
    }
   },
   "source": [
    "### opérateurs"
   ]
  },
  {
   "cell_type": "markdown",
   "metadata": {},
   "source": [
    "* $x^y$ : `x ** y` "
   ]
  },
  {
   "cell_type": "code",
   "execution_count": null,
   "metadata": {
    "cell_style": "split"
   },
   "outputs": [],
   "source": [
    "2 ** 10"
   ]
  },
  {
   "cell_type": "code",
   "execution_count": null,
   "metadata": {
    "cell_style": "split"
   },
   "outputs": [],
   "source": [
    "pi ** e"
   ]
  },
  {
   "cell_type": "markdown",
   "metadata": {
    "slideshow": {
     "slide_type": "slide"
    }
   },
   "source": [
    "### opérateurs"
   ]
  },
  {
   "cell_type": "markdown",
   "metadata": {},
   "source": [
    "* comparaison: `==` et `is`  - déjà mentionnés\n",
    "* négation: `!=` et `is not` respectivement"
   ]
  },
  {
   "cell_type": "markdown",
   "metadata": {},
   "source": [
    "* comparaisons dans espaces ordonnés:\n",
    "  * `>=`, `>`, `<=`, `<`\n",
    "  * curiosité: on peut les chainer"
   ]
  },
  {
   "cell_type": "code",
   "execution_count": null,
   "metadata": {
    "cell_style": "split"
   },
   "outputs": [],
   "source": [
    "def est_moyenne(note):\n",
    "    return 10 <= note <= 12"
   ]
  },
  {
   "cell_type": "code",
   "execution_count": null,
   "metadata": {
    "cell_style": "split"
   },
   "outputs": [],
   "source": [
    "est_moyenne(11)"
   ]
  },
  {
   "cell_type": "markdown",
   "metadata": {
    "slideshow": {
     "slide_type": "slide"
    }
   },
   "source": [
    "### opérateurs"
   ]
  },
  {
   "cell_type": "markdown",
   "metadata": {},
   "source": [
    "* opérateurs dits *bitwise*:\n",
    "  * `&` - `|` : **et** et **ou** logique, respectivement\n",
    "  * `^` : **xor**\n",
    "  * `~` : **not** \n",
    "* on les aussi déjà rencontrés avec les ensembles"
   ]
  },
  {
   "cell_type": "code",
   "execution_count": null,
   "metadata": {
    "cell_style": "split"
   },
   "outputs": [],
   "source": [
    "a = 0b111100 \n",
    "b = 0b110011"
   ]
  },
  {
   "cell_type": "code",
   "execution_count": null,
   "metadata": {
    "cell_style": "split"
   },
   "outputs": [],
   "source": [
    "bin(a | b)"
   ]
  },
  {
   "cell_type": "code",
   "execution_count": null,
   "metadata": {
    "cell_style": "split"
   },
   "outputs": [],
   "source": [
    "bin(a & b)"
   ]
  },
  {
   "cell_type": "code",
   "execution_count": null,
   "metadata": {
    "cell_style": "split"
   },
   "outputs": [],
   "source": [
    "bin(a ^ b)"
   ]
  },
  {
   "cell_type": "markdown",
   "metadata": {
    "slideshow": {
     "slide_type": "slide"
    }
   },
   "source": [
    "### opérateurs"
   ]
  },
  {
   "cell_type": "markdown",
   "metadata": {},
   "source": [
    "* opérateurs logiques: `and` - `or` - `not`\n",
    "* opérateurs d'appartenance: `in` et `not in`"
   ]
  },
  {
   "cell_type": "markdown",
   "metadata": {
    "slideshow": {
     "slide_type": "slide"
    }
   },
   "source": [
    "### opérateurs"
   ]
  },
  {
   "cell_type": "markdown",
   "metadata": {},
   "source": [
    "* comme pour tous les langages\n",
    "  * précédence des opérateurs\n",
    "  * dans le doute: mettez des parenthèses !"
   ]
  },
  {
   "cell_type": "markdown",
   "metadata": {},
   "source": [
    "* tous ces opérateurs peuvent être **redéfinis**\n",
    "  * c'est le propos des 'méthodes magiques' \n",
    "  * que l'on verra à propos des classes\n",
    "  \n",
    "* exemple intéressant, la classe `Path`"
   ]
  },
  {
   "cell_type": "markdown",
   "metadata": {
    "slideshow": {
     "slide_type": "slide"
    }
   },
   "source": [
    "### ex: l'opérateur redéfini : `/` sur la classe `Path`"
   ]
  },
  {
   "cell_type": "code",
   "execution_count": null,
   "metadata": {},
   "outputs": [],
   "source": [
    "from pathlib import Path"
   ]
  },
  {
   "cell_type": "code",
   "execution_count": null,
   "metadata": {},
   "outputs": [],
   "source": [
    "home = Path.home()\n",
    "# l'opérateur / est défini sur Path\n",
    "subdir = home / \"git\"\n",
    "if subdir.exists():\n",
    "    print(f\"le répertoire {subdir} existe\")"
   ]
  },
  {
   "cell_type": "markdown",
   "metadata": {
    "slideshow": {
     "slide_type": "slide"
    }
   },
   "source": [
    "### redéfinir `bool()`"
   ]
  },
  {
   "cell_type": "code",
   "execution_count": null,
   "metadata": {
    "run_control": {
     "frozen": false,
     "read_only": false
    },
    "slideshow": {
     "slide_type": ""
    }
   },
   "outputs": [],
   "source": [
    "# pour anticiper un peu, voici par exemple\n",
    "# comment faire en sorte qu'un objet \n",
    "# agisse comme False\n",
    "class Fool:\n",
    "    def __bool__(self):\n",
    "        return False\n",
    "\n",
    "fool = Fool()\n",
    "if not fool:\n",
    "    print(\"bingo\")"
   ]
  },
  {
   "cell_type": "markdown",
   "metadata": {
    "run_control": {
     "frozen": false,
     "read_only": false
    },
    "slideshow": {
     "slide_type": "slide"
    }
   },
   "source": [
    "### opérateurs logiques"
   ]
  },
  {
   "cell_type": "markdown",
   "metadata": {
    "cell_style": "split",
    "run_control": {
     "frozen": false,
     "read_only": false
    }
   },
   "source": [
    "* `and` et `or` sont opérateurs *short-circuit*\n",
    "  * on évalue les opérandes de gauche à droite\n",
    "  * et on s'arrête dès que le résultat est connu"
   ]
  },
  {
   "cell_type": "markdown",
   "metadata": {
    "cell_style": "split",
    "run_control": {
     "frozen": false,
     "read_only": false
    }
   },
   "source": [
    "* A `and` B\n",
    "  * Si A est `False`,  \n",
    "    B ne sera pas évalué\n",
    "\n",
    "* A `or` B\n",
    "  * Si A est `True`,  \n",
    "    B ne sera pas évalué"
   ]
  },
  {
   "cell_type": "code",
   "execution_count": null,
   "metadata": {
    "cell_style": "split",
    "slideshow": {
     "slide_type": ""
    }
   },
   "outputs": [],
   "source": [
    "# une fonction avec side-effect\n",
    "counter = 0\n",
    "\n",
    "def greater(a, b):\n",
    "    global counter\n",
    "    counter += 1 \n",
    "    return a >= b"
   ]
  },
  {
   "cell_type": "code",
   "execution_count": null,
   "metadata": {
    "cell_style": "split"
   },
   "outputs": [],
   "source": [
    "# ceci n'imprime rien\n",
    "note = 11.5\n",
    "if (greater(note, 10) and greater(note, 12)\n",
    "    and greater(note, 14) and greater(note, 16)):\n",
    "    print(\"excellent\")"
   ]
  },
  {
   "cell_type": "code",
   "execution_count": null,
   "metadata": {
    "cell_style": "split"
   },
   "outputs": [],
   "source": [
    "# ce qui intéressant, c'est \n",
    "# combien de fois on a appelé greater\n",
    "counter"
   ]
  }
 ],
 "metadata": {
  "kernelspec": {
   "display_name": "Python 3",
   "language": "python",
   "name": "python3"
  },
  "language_info": {
   "codemirror_mode": {
    "name": "ipython",
    "version": 3
   },
   "file_extension": ".py",
   "mimetype": "text/x-python",
   "name": "python",
   "nbconvert_exporter": "python",
   "pygments_lexer": "ipython3",
   "version": "3.7.0"
  },
  "notebookname": "syntaxe & opérateurs",
  "rise": {
   "autolaunch": true,
   "slideNumber": "c/t",
   "start_slideshow_at": "selected",
   "theme": "sky",
   "transition": "cube"
  },
  "version": "1.0"
 },
 "nbformat": 4,
 "nbformat_minor": 2
}
