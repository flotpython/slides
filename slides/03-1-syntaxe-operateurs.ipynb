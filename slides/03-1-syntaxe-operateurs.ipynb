{
 "cells": [
  {
   "cell_type": "markdown",
   "metadata": {
    "cell_style": "center",
    "run_control": {
     "frozen": false,
     "read_only": false
    }
   },
   "source": [
    "<div class=\"licence\">\n",
    "<span>Licence CC BY-NC-ND</span>\n",
    "<span>Thierry Parmentelat &amp; Arnaud Legout</span>\n",
    "</div>"
   ]
  },
  {
   "cell_type": "code",
   "execution_count": null,
   "metadata": {
    "run_control": {
     "frozen": false,
     "read_only": false
    },
    "slideshow": {
     "slide_type": "slide"
    }
   },
   "outputs": [],
   "source": [
    "from plan import plan; plan(\"syntaxe\", \"syntaxe\")"
   ]
  },
  {
   "cell_type": "markdown",
   "metadata": {},
   "source": [
    "# syntaxe et opérateurs"
   ]
  },
  {
   "cell_type": "markdown",
   "metadata": {
    "run_control": {
     "frozen": false,
     "read_only": false
    },
    "slideshow": {
     "slide_type": "slide"
    }
   },
   "source": [
    "## syntaxe"
   ]
  },
  {
   "cell_type": "markdown",
   "metadata": {
    "run_control": {
     "frozen": false,
     "read_only": false
    },
    "slideshow": {
     "slide_type": ""
    }
   },
   "source": [
    "### mots réservés"
   ]
  },
  {
   "cell_type": "markdown",
   "metadata": {
    "run_control": {
     "frozen": false,
     "read_only": false
    }
   },
   "source": [
    "* ne **peuvent pas être utilisés** comme un nom de variable\n",
    "* en gras : les nouveautés par rapport à python2\n",
    "\n",
    "\n",
    "| &nbsp;    |   &nbsp; | &nbsp;  | &nbsp;       | &nbsp; |\n",
    "|----------:|---------:|--------:|-------------:|-------:|\n",
    "| **False** | **await**    | else    | import       | pass   |\n",
    "| **None**  | break    | except  | in           | raise  |\n",
    "| **True**  | class    | finally | is           | return |\n",
    "| and       | continue | for     | lambda       | try    |\n",
    "| as        | def      | from    | **nonlocal** | while  |\n",
    "| assert    | del      | global  | not          | with   |\n",
    "| **async**     | elif     | if      | or           | yield  |"
   ]
  },
  {
   "cell_type": "markdown",
   "metadata": {
    "run_control": {
     "frozen": false,
     "read_only": false
    },
    "slideshow": {
     "slide_type": "slide"
    }
   },
   "source": [
    "### l’indentation comme base de la syntaxe"
   ]
  },
  {
   "cell_type": "markdown",
   "metadata": {
    "run_control": {
     "frozen": false,
     "read_only": false
    }
   },
   "source": [
    "* la fin d’une ligne est significative\n",
    "  * pas de `;` nécessaire à la fin de la ligne\n",
    "* un **bloc** d’instructions doit avoir  \n",
    "  la **même indentation**  \n",
    "  en partant de la gauche\n",
    "\n",
    "  * pas de `{}` délimitant un bloc\n",
    "  * l’indentation peut être un ou plusieurs espaces  \n",
    "    (recommandation : 4 espaces)"
   ]
  },
  {
   "cell_type": "markdown",
   "metadata": {
    "run_control": {
     "frozen": false,
     "read_only": false
    },
    "slideshow": {
     "slide_type": "slide"
    }
   },
   "source": [
    "#### l’indentation comme base de la syntaxe"
   ]
  },
  {
   "cell_type": "markdown",
   "metadata": {
    "run_control": {
     "frozen": false,
     "read_only": false
    }
   },
   "source": [
    "les principaux pièges pour les débutants\n",
    "\n",
    "* évitez d'utiliser des `Tab`\n",
    "  * le plus simple c'est de ne **jamais** mettre de Tab \n",
    "  * python3 est d'ailleurs plus exigeant\n",
    "* et attention aux copier/coller\n",
    "  * qui peuvent décaler des lignes"
   ]
  },
  {
   "cell_type": "markdown",
   "metadata": {
    "run_control": {
     "frozen": false,
     "read_only": false
    },
    "slideshow": {
     "slide_type": "slide"
    }
   },
   "source": [
    "## if elif else (l'instruction)"
   ]
  },
  {
   "cell_type": "markdown",
   "metadata": {
    "cell_style": "split",
    "run_control": {
     "frozen": false,
     "read_only": false
    }
   },
   "source": [
    "L'instruction conditionnelle en Python:\n",
    "\n",
    "```\n",
    "if <test1>:\n",
    "    <statement1>\n",
    "elif <test2>:\n",
    "    <statement2>\n",
    "elif <test3>:\n",
    "    <statement3>\n",
    "else:\n",
    "    <statement4>\n",
    "```"
   ]
  },
  {
   "cell_type": "markdown",
   "metadata": {
    "cell_style": "split",
    "run_control": {
     "frozen": false,
     "read_only": false
    }
   },
   "source": [
    "* si un test est vrai, \n",
    "  * l'instruction est exécutée\n",
    "  * le `if` est terminé\n",
    "* `else` est exécuté\n",
    "  * ssi tous les tests sont faux"
   ]
  },
  {
   "cell_type": "markdown",
   "metadata": {
    "run_control": {
     "frozen": false,
     "read_only": false
    },
    "slideshow": {
     "slide_type": "slide"
    }
   },
   "source": [
    "### if elif else"
   ]
  },
  {
   "cell_type": "code",
   "execution_count": null,
   "metadata": {
    "cell_style": "split",
    "run_control": {
     "frozen": false,
     "read_only": false
    }
   },
   "outputs": [],
   "source": [
    "def appreciation(note):\n",
    "    if note >= 16:\n",
    "        return \"félicitations\"\n",
    "    elif note >= 14:\n",
    "        return \"compliments\"\n",
    "    elif note >= 12:\n",
    "        return \"encouragements\"\n",
    "    elif note >= 10:\n",
    "        return \"passable\"\n",
    "    else:\n",
    "        return \"insuffisant\" "
   ]
  },
  {
   "cell_type": "code",
   "execution_count": null,
   "metadata": {
    "cell_style": "split"
   },
   "outputs": [],
   "source": [
    "print(appreciation(15.5))"
   ]
  },
  {
   "cell_type": "code",
   "execution_count": null,
   "metadata": {
    "cell_style": "split"
   },
   "outputs": [],
   "source": [
    "print(appreciation(11.5))"
   ]
  },
  {
   "cell_type": "markdown",
   "metadata": {},
   "source": [
    "**Note**: pas de *switch* ou autres *case* en Python."
   ]
  },
  {
   "cell_type": "markdown",
   "metadata": {
    "run_control": {
     "frozen": false,
     "read_only": false
    },
    "slideshow": {
     "slide_type": "slide"
    }
   },
   "source": [
    "### digression : instructions *vs* expressions"
   ]
  },
  {
   "cell_type": "markdown",
   "metadata": {
    "cell_style": "split"
   },
   "source": [
    "* `if .. elif .. else` est une **instruction**\n",
    "* une instruction est **exécutée**\n",
    "* et ne retourne rien"
   ]
  },
  {
   "cell_type": "markdown",
   "metadata": {
    "cell_style": "split"
   },
   "source": [
    "* `note >= 16` est une **expression**\n",
    "* une expression **retourne** un résultat \n",
    "  * lorsqu'elle est **évaluée**\n",
    "* peuvent être combinées\n",
    "  * ex: `fonction(a == b)`\n"
   ]
  },
  {
   "cell_type": "markdown",
   "metadata": {
    "cell_style": "split",
    "slideshow": {
     "slide_type": "fragment"
    }
   },
   "source": [
    "Instructions:\n",
    "\n",
    "* `variable = ...`\n",
    "* `if ...`\n",
    "* `for i in iterable ...`\n",
    "* `def ...`\n",
    "* `import ...`\n"
   ]
  },
  {
   "cell_type": "markdown",
   "metadata": {
    "cell_style": "split",
    "slideshow": {
     "slide_type": "fragment"
    }
   },
   "source": [
    "Expressions:\n",
    "\n",
    "* `variable`\n",
    "* `variable.attribut`\n",
    "* `(a is b) and (c**2 == 25))`\n",
    "* `fonction(arg1, ...)` "
   ]
  },
  {
   "cell_type": "markdown",
   "metadata": {
    "run_control": {
     "frozen": false,
     "read_only": false
    },
    "slideshow": {
     "slide_type": "slide"
    }
   },
   "source": [
    "### évaluation du test"
   ]
  },
  {
   "cell_type": "markdown",
   "metadata": {},
   "source": [
    "* les `<test>` sont bien entendu des **expressions**\n",
    "* qui peuvent retourner autre chose qu'un booléen\n",
    "  * nombres: seul **zéro** (`0` ou `0.`) est considéré comme `False`\n",
    "  * chaines, containers: seul l'**objet vide** est considéré comme `False`\n",
    "  * autres cas: voir `bool()`"
   ]
  },
  {
   "cell_type": "code",
   "execution_count": null,
   "metadata": {
    "cell_style": "split",
    "slideshow": {
     "slide_type": "slide"
    }
   },
   "outputs": [],
   "source": [
    "liste = []\n",
    "if liste:\n",
    "    print(\"bingo\")"
   ]
  },
  {
   "cell_type": "code",
   "execution_count": null,
   "metadata": {
    "cell_style": "split"
   },
   "outputs": [],
   "source": [
    "liste.append(12)\n",
    "if liste:\n",
    "    print(\"bingo\")"
   ]
  },
  {
   "cell_type": "code",
   "execution_count": null,
   "metadata": {
    "cell_style": "split",
    "slideshow": {
     "slide_type": "fragment"
    }
   },
   "outputs": [],
   "source": [
    "entier = 0\n",
    "if entier:\n",
    "    print(\"bingo\")"
   ]
  },
  {
   "cell_type": "code",
   "execution_count": null,
   "metadata": {
    "cell_style": "split"
   },
   "outputs": [],
   "source": [
    "entier = -3\n",
    "if entier:\n",
    "    print(\"bingo\")"
   ]
  },
  {
   "cell_type": "code",
   "execution_count": null,
   "metadata": {
    "cell_style": "split",
    "slideshow": {
     "slide_type": "fragment"
    }
   },
   "outputs": [],
   "source": [
    "bool([])"
   ]
  },
  {
   "cell_type": "code",
   "execution_count": null,
   "metadata": {
    "cell_style": "split"
   },
   "outputs": [],
   "source": [
    "bool([1])"
   ]
  },
  {
   "cell_type": "code",
   "execution_count": null,
   "metadata": {
    "cell_style": "split",
    "slideshow": {
     "slide_type": "fragment"
    }
   },
   "outputs": [],
   "source": [
    "bool(0)"
   ]
  },
  {
   "cell_type": "code",
   "execution_count": null,
   "metadata": {
    "cell_style": "split"
   },
   "outputs": [],
   "source": [
    "bool(1)"
   ]
  },
  {
   "cell_type": "markdown",
   "metadata": {
    "run_control": {
     "frozen": false,
     "read_only": false
    },
    "slideshow": {
     "slide_type": "slide"
    }
   },
   "source": [
    "### évaluation paresseuse"
   ]
  },
  {
   "cell_type": "markdown",
   "metadata": {},
   "source": [
    "* lors de l'exécution du `if`, seuls les tests nécessaires sont évalués\n",
    "* important, car une expression peut faire un **effet de bord**"
   ]
  },
  {
   "cell_type": "code",
   "execution_count": null,
   "metadata": {
    "cell_style": "split",
    "slideshow": {
     "slide_type": ""
    }
   },
   "outputs": [],
   "source": [
    "# une fonction avec side-effect\n",
    "counter = 0\n",
    "\n",
    "def greater(a, b):\n",
    "    global counter\n",
    "    counter += 1 \n",
    "    return a >= b"
   ]
  },
  {
   "cell_type": "code",
   "execution_count": null,
   "metadata": {
    "cell_style": "split",
    "run_control": {
     "frozen": false,
     "read_only": false
    }
   },
   "outputs": [],
   "source": [
    "def appreciation(note):\n",
    "    if greater(note, 16):\n",
    "        return \"félicitations\"\n",
    "    elif greater(note, 14):\n",
    "        return \"compliments\"\n",
    "    elif greater(note, 12):\n",
    "        return \"encouragements\"\n",
    "    elif greater(note, 10):\n",
    "        return \"passable\"\n",
    "    else:\n",
    "        return \"insuffisant\""
   ]
  },
  {
   "cell_type": "code",
   "execution_count": null,
   "metadata": {},
   "outputs": [],
   "source": [
    "print(f\"avant: counter={counter}\")\n",
    "print(appreciation(13.5))\n",
    "print(f\"après: counter={counter}\")"
   ]
  },
  {
   "cell_type": "markdown",
   "metadata": {
    "slideshow": {
     "slide_type": "slide"
    }
   },
   "source": [
    "## `if` (l'expression) "
   ]
  },
  {
   "cell_type": "markdown",
   "metadata": {},
   "source": [
    "* il existe aussi une **expression**   \n",
    "  permettant de faire quelque chose comme *if .. then .. else ..*\n",
    "\n",
    "```\n",
    "   <exp_1> if <test> else <exp_2>\n",
    "```\n",
    "\n",
    "* se rapproche de `<test> ? <exp_1> : <exp_2>` en C ou JavaScript.."
   ]
  },
  {
   "cell_type": "code",
   "execution_count": null,
   "metadata": {},
   "outputs": [],
   "source": [
    "note = 8\n",
    "appreciation = \"suffisant\" if note >= 10 else \"insuffisant\"\n",
    "appreciation"
   ]
  },
  {
   "cell_type": "markdown",
   "metadata": {
    "slideshow": {
     "slide_type": "slide"
    }
   },
   "source": [
    "## opérateurs\n",
    "\n",
    "### arithmétiques"
   ]
  },
  {
   "cell_type": "markdown",
   "metadata": {},
   "source": [
    "* arithmétiques:  `+` | `-` | `*` | `/`\n",
    "  * pas que sur les nombres"
   ]
  },
  {
   "cell_type": "code",
   "execution_count": null,
   "metadata": {
    "cell_style": "split"
   },
   "outputs": [],
   "source": [
    "'on peut ajouter' ' deux chaines'"
   ]
  },
  {
   "cell_type": "code",
   "execution_count": null,
   "metadata": {
    "cell_style": "split"
   },
   "outputs": [],
   "source": [
    "['et', 'les'] + ['listes', 'aussi']"
   ]
  },
  {
   "cell_type": "code",
   "execution_count": null,
   "metadata": {
    "cell_style": "split"
   },
   "outputs": [],
   "source": [
    "4 * '-00-'"
   ]
  },
  {
   "cell_type": "code",
   "execution_count": null,
   "metadata": {
    "cell_style": "split"
   },
   "outputs": [],
   "source": [
    "4 * [1, 2]"
   ]
  },
  {
   "cell_type": "markdown",
   "metadata": {
    "slideshow": {
     "slide_type": "slide"
    }
   },
   "source": [
    "### quotient et reste `//` et `%`"
   ]
  },
  {
   "cell_type": "markdown",
   "metadata": {},
   "source": [
    "* division entière: quotient et reste: `//`  et `%`"
   ]
  },
  {
   "cell_type": "code",
   "execution_count": null,
   "metadata": {
    "cell_style": "split"
   },
   "outputs": [],
   "source": [
    "# avec des entiers\n",
    "19 // 3"
   ]
  },
  {
   "cell_type": "code",
   "execution_count": null,
   "metadata": {
    "cell_style": "split"
   },
   "outputs": [],
   "source": [
    "\n",
    "19 % 3"
   ]
  },
  {
   "cell_type": "code",
   "execution_count": null,
   "metadata": {
    "cell_style": "split"
   },
   "outputs": [],
   "source": [
    "# ou des flottants\n",
    "from math import pi, e\n",
    "\n",
    "pi // e\n"
   ]
  },
  {
   "cell_type": "code",
   "execution_count": null,
   "metadata": {
    "cell_style": "split"
   },
   "outputs": [],
   "source": [
    "from math import pi\n",
    "\n",
    "pi % e\n"
   ]
  },
  {
   "cell_type": "markdown",
   "metadata": {
    "slideshow": {
     "slide_type": "slide"
    }
   },
   "source": [
    "### puissance `**`"
   ]
  },
  {
   "cell_type": "markdown",
   "metadata": {},
   "source": [
    "* $x^y$ : `x ** y` "
   ]
  },
  {
   "cell_type": "code",
   "execution_count": null,
   "metadata": {
    "cell_style": "split"
   },
   "outputs": [],
   "source": [
    "2 ** 10"
   ]
  },
  {
   "cell_type": "code",
   "execution_count": null,
   "metadata": {
    "cell_style": "split"
   },
   "outputs": [],
   "source": [
    "pi ** e"
   ]
  },
  {
   "cell_type": "markdown",
   "metadata": {
    "slideshow": {
     "slide_type": "slide"
    }
   },
   "source": [
    "### comparaison - négation"
   ]
  },
  {
   "cell_type": "markdown",
   "metadata": {},
   "source": [
    "* comparaison: `==` et `is`  - déjà mentionnés\n",
    "* négation: `!=` et `is not` respectivement"
   ]
  },
  {
   "cell_type": "markdown",
   "metadata": {},
   "source": [
    "* comparaisons dans espaces ordonnés:\n",
    "  * `>=`, `>`, `<=`, `<`\n",
    "  * curiosité: on peut les chainer"
   ]
  },
  {
   "cell_type": "code",
   "execution_count": null,
   "metadata": {
    "cell_style": "split"
   },
   "outputs": [],
   "source": [
    "def est_moyenne(note):\n",
    "    return 10 <= note <= 12"
   ]
  },
  {
   "cell_type": "code",
   "execution_count": null,
   "metadata": {
    "cell_style": "split"
   },
   "outputs": [],
   "source": [
    "est_moyenne(11)"
   ]
  },
  {
   "cell_type": "markdown",
   "metadata": {
    "slideshow": {
     "slide_type": "slide"
    }
   },
   "source": [
    "### opérateurs bitwise"
   ]
  },
  {
   "cell_type": "markdown",
   "metadata": {},
   "source": [
    "* opérateurs dits *bitwise*:\n",
    "  * `&` - `|` : **et** et **ou** logique, respectivement\n",
    "  * `^` : **xor**\n",
    "  * `~` : **not** \n",
    "* on les aussi déjà rencontrés avec les ensembles"
   ]
  },
  {
   "cell_type": "code",
   "execution_count": null,
   "metadata": {
    "cell_style": "split"
   },
   "outputs": [],
   "source": [
    "a = 0b111100 \n",
    "b = 0b110011"
   ]
  },
  {
   "cell_type": "code",
   "execution_count": null,
   "metadata": {
    "cell_style": "split"
   },
   "outputs": [],
   "source": [
    "bin(a | b)"
   ]
  },
  {
   "cell_type": "code",
   "execution_count": null,
   "metadata": {
    "cell_style": "split"
   },
   "outputs": [],
   "source": [
    "bin(a & b)"
   ]
  },
  {
   "cell_type": "code",
   "execution_count": null,
   "metadata": {
    "cell_style": "split"
   },
   "outputs": [],
   "source": [
    "bin(a ^ b)"
   ]
  },
  {
   "cell_type": "markdown",
   "metadata": {
    "slideshow": {
     "slide_type": "slide"
    }
   },
   "source": [
    "### opérateurs logiques"
   ]
  },
  {
   "cell_type": "markdown",
   "metadata": {},
   "source": [
    "* opérateurs logiques: `and` - `or` - `not`\n",
    "* opérateurs d'appartenance: `in` et `not in`"
   ]
  },
  {
   "cell_type": "markdown",
   "metadata": {
    "slideshow": {
     "slide_type": "slide"
    }
   },
   "source": [
    "### précédence des opérateurs"
   ]
  },
  {
   "cell_type": "markdown",
   "metadata": {},
   "source": [
    "* comme pour tous les langages\n",
    "  * précédence des opérateurs\n",
    "  * dans le doute: mettez des parenthèses !"
   ]
  },
  {
   "cell_type": "markdown",
   "metadata": {
    "slideshow": {
     "slide_type": "slide"
    }
   },
   "source": [
    "### POO : opérateurs redéfinis "
   ]
  },
  {
   "cell_type": "markdown",
   "metadata": {},
   "source": [
    "* tous ces opérateurs peuvent être **redéfinis**\n",
    "  * c'est le propos des 'méthodes magiques' \n",
    "  * que l'on verra à propos des classes\n",
    "  \n",
    "* exemple intéressant, la classe `Path`"
   ]
  },
  {
   "cell_type": "markdown",
   "metadata": {
    "slideshow": {
     "slide_type": "slide"
    }
   },
   "source": [
    "### ex:  `/` sur la classe `Path`"
   ]
  },
  {
   "cell_type": "code",
   "execution_count": null,
   "metadata": {},
   "outputs": [],
   "source": [
    "# la classe Path nous a montré \n",
    "# un bel exemple d'opérateur redéfini \n",
    "\n",
    "from pathlib import Path"
   ]
  },
  {
   "cell_type": "code",
   "execution_count": null,
   "metadata": {},
   "outputs": [],
   "source": [
    "home = Path.home()\n",
    "\n",
    "# l'opérateur / est défini sur Path\n",
    "subdir = home / \"git\"\n",
    "\n",
    "if subdir.exists():\n",
    "    print(f\"le répertoire {subdir} existe\")"
   ]
  },
  {
   "cell_type": "markdown",
   "metadata": {
    "slideshow": {
     "slide_type": "slide"
    }
   },
   "source": [
    "### redéfinir `bool()`"
   ]
  },
  {
   "cell_type": "code",
   "execution_count": null,
   "metadata": {
    "run_control": {
     "frozen": false,
     "read_only": false
    },
    "slideshow": {
     "slide_type": ""
    }
   },
   "outputs": [],
   "source": [
    "# pour anticiper un peu, voici par exemple\n",
    "# comment faire en sorte qu'un objet \n",
    "# agisse comme False\n",
    "class Fool:\n",
    "    def __bool__(self):\n",
    "        return False\n",
    "\n",
    "fool = Fool()\n",
    "if not fool:\n",
    "    print(\"bingo\")"
   ]
  },
  {
   "cell_type": "markdown",
   "metadata": {
    "run_control": {
     "frozen": false,
     "read_only": false
    },
    "slideshow": {
     "slide_type": "slide"
    }
   },
   "source": [
    "### évaluation paresseuse des opérateurs logiques"
   ]
  },
  {
   "cell_type": "markdown",
   "metadata": {
    "cell_style": "split",
    "run_control": {
     "frozen": false,
     "read_only": false
    }
   },
   "source": [
    "* `and` et `or` sont opérateurs *short-circuit*\n",
    "  * on évalue les opérandes de gauche à droite\n",
    "  * et on s'arrête dès que le résultat est connu"
   ]
  },
  {
   "cell_type": "markdown",
   "metadata": {
    "cell_style": "split",
    "run_control": {
     "frozen": false,
     "read_only": false
    }
   },
   "source": [
    "* A `and` B\n",
    "  * Si A est `False`,  \n",
    "    B ne sera pas évalué\n",
    "\n",
    "* A `or` B\n",
    "  * Si A est `True`,  \n",
    "    B ne sera pas évalué"
   ]
  },
  {
   "cell_type": "code",
   "execution_count": null,
   "metadata": {
    "cell_style": "split",
    "slideshow": {
     "slide_type": ""
    }
   },
   "outputs": [],
   "source": [
    "# une fonction avec side-effect\n",
    "counter = 0\n",
    "\n",
    "def greater(a, b):\n",
    "    global counter\n",
    "    counter += 1 \n",
    "    return a >= b"
   ]
  },
  {
   "cell_type": "code",
   "execution_count": null,
   "metadata": {
    "cell_style": "split"
   },
   "outputs": [],
   "source": [
    "# ceci n'imprime rien\n",
    "note = 11.5\n",
    "if (greater(note, 10) and greater(note, 12)\n",
    "    and greater(note, 14) and greater(note, 16)):\n",
    "    print(\"excellent\")"
   ]
  },
  {
   "cell_type": "code",
   "execution_count": null,
   "metadata": {
    "cell_style": "split"
   },
   "outputs": [],
   "source": [
    "# ce qui intéressant, c'est \n",
    "# combien de fois on a appelé greater\n",
    "counter"
   ]
  }
 ],
 "metadata": {
  "celltoolbar": "Slideshow",
  "jupytext": {
   "cell_metadata_filter": "all",
   "formats": "ipynb",
   "notebook_metadata_filter": "all,-language_info,-toc,-jupytext.text_representation.jupytext_version"
  },
  "kernelspec": {
   "display_name": "Python 3",
   "language": "python",
   "name": "python3"
  },
  "language_info": {
   "codemirror_mode": {
    "name": "ipython",
    "version": 3
   },
   "file_extension": ".py",
   "mimetype": "text/x-python",
   "name": "python",
   "nbconvert_exporter": "python",
   "pygments_lexer": "ipython3",
   "version": "3.7.4"
  },
  "notebookname": "syntaxe & opérateurs",
  "rise": {
   "autolaunch": true,
   "slideNumber": "c/t",
   "start_slideshow_at": "selected",
   "theme": "sky",
   "transition": "cube"
  },
  "toc": {
   "base_numbering": 1,
   "nav_menu": {},
   "number_sections": true,
   "sideBar": true,
   "skip_h1_title": false,
   "title_cell": "Table of Contents",
   "title_sidebar": "Contents",
   "toc_cell": false,
   "toc_position": {
    "height": "calc(100% - 180px)",
    "left": "10px",
    "top": "150px",
    "width": "300.594px"
   },
   "toc_section_display": true,
   "toc_window_display": true
  },
  "version": "1.0"
 },
 "nbformat": 4,
 "nbformat_minor": 4
}
