{
 "cells": [
  {
   "cell_type": "markdown",
   "metadata": {
    "slideshow": {
     "slide_type": "slide"
    }
   },
   "source": [
    "<div class=\"licence\">\n",
    "<span>Licence CC BY-NC-ND</span>\n",
    "<span>Thierry Parmentelat &amp; Arnaud Legout</span>\n",
    "</div>"
   ]
  },
  {
   "cell_type": "code",
   "execution_count": null,
   "metadata": {
    "slideshow": {
     "slide_type": "slide"
    }
   },
   "outputs": [],
   "source": [
    "from plan import plan; plan(\"syntaxe\", \"itération\")"
   ]
  },
  {
   "cell_type": "markdown",
   "metadata": {
    "run_control": {
     "frozen": false,
     "read_only": false
    },
    "slideshow": {
     "slide_type": "slide"
    }
   },
   "source": [
    "# les itérations en Python"
   ]
  },
  {
   "cell_type": "markdown",
   "metadata": {},
   "source": [
    "* la boucle `for` est la méthode **préférée**   \n",
    "  pour itérer sur un ensemble de valeurs\n",
    "\n",
    "* en général préférable au `while` en Python\n",
    "  * on peut faire un `for` sur n'importe quel itérable\n",
    "  * ce n'est pas le cas pour le `while`\n",
    "  * dans ce cas c'est l'itérable qui se charge de la logique\n",
    "* de nombreuses techniques pour itérer de manière optimisée\n",
    "  * compréhensions\n",
    "  * itérateurs\n",
    "  * générateurs"
   ]
  },
  {
   "cell_type": "markdown",
   "metadata": {
    "run_control": {
     "frozen": false,
     "read_only": false
    },
    "slideshow": {
     "slide_type": "slide"
    }
   },
   "source": [
    "## la boucle `for`"
   ]
  },
  {
   "cell_type": "markdown",
   "metadata": {
    "slideshow": {
     "slide_type": ""
    }
   },
   "source": [
    "```python\n",
    "for item in iterable:\n",
    "    bloc\n",
    "    aligné\n",
    "else:\n",
    "    bloc     # exécuté lorsque la boucle sort \"proprement\"\n",
    "    aligné   # c'est-à-dire pas avec un break\n",
    "```"
   ]
  },
  {
   "cell_type": "code",
   "execution_count": null,
   "metadata": {
    "cell_style": "split",
    "run_control": {
     "frozen": false,
     "read_only": false
    },
    "slideshow": {
     "slide_type": "slide"
    }
   },
   "outputs": [],
   "source": [
    "liste = [10, 20, 40, 80, 120]\n",
    "for item in liste:\n",
    "    print(item, end=\" \")"
   ]
  },
  {
   "cell_type": "code",
   "execution_count": null,
   "metadata": {
    "cell_style": "split",
    "run_control": {
     "frozen": false,
     "read_only": false
    }
   },
   "outputs": [],
   "source": [
    "# et **non pas** d'ailleurs:\n",
    "for i in range(len(liste)):\n",
    "    item = liste[i]\n",
    "    print(item, end=\" \")    "
   ]
  },
  {
   "cell_type": "markdown",
   "metadata": {
    "run_control": {
     "frozen": false,
     "read_only": false
    },
    "slideshow": {
     "slide_type": "slide"
    }
   },
   "source": [
    "### boucle `for`"
   ]
  },
  {
   "cell_type": "markdown",
   "metadata": {
    "run_control": {
     "frozen": false,
     "read_only": false
    }
   },
   "source": [
    "C'est quoi un itérable ?\n",
    "\n",
    "* par définition, c'est un objet .. sur lequel on peut faire un `for`\n",
    "* notamment avec les séquences natives : chaînes, listes, tuples, ensembles\n",
    "* et aussi dictionnaires, et des tas d'autres objets, mais patience"
   ]
  },
  {
   "cell_type": "code",
   "execution_count": null,
   "metadata": {
    "cell_style": "split",
    "run_control": {
     "frozen": false,
     "read_only": false
    }
   },
   "outputs": [],
   "source": [
    "chaine = \"un été\"\n",
    "for char in chaine:\n",
    "    print(char, end=\" \")"
   ]
  },
  {
   "cell_type": "code",
   "execution_count": null,
   "metadata": {
    "cell_style": "split"
   },
   "outputs": [],
   "source": [
    "# attention, ordre pas garanti\n",
    "ensemble = {10, 40, 80} \n",
    "for element in ensemble:\n",
    "    print(element, end=\" \")"
   ]
  },
  {
   "cell_type": "markdown",
   "metadata": {
    "run_control": {
     "frozen": false,
     "read_only": false
    },
    "slideshow": {
     "slide_type": "slide"
    }
   },
   "source": [
    "### boucle `for` sur un dictionnaire"
   ]
  },
  {
   "cell_type": "markdown",
   "metadata": {
    "run_control": {
     "frozen": false,
     "read_only": false
    }
   },
   "source": [
    "* on peut facilement itérer sur un dictionnaire\n",
    "* mais il faut choisir si on veut le faire \n",
    "  * sur les clés,\n",
    "  * sur les valeurs,\n",
    "  * ou sur les deux\n",
    "* c'est à ça que servent les méthodes\n",
    "  * `keys()`\n",
    "  * `values()`\n",
    "  * `items()`"
   ]
  },
  {
   "cell_type": "markdown",
   "metadata": {
    "run_control": {
     "frozen": false,
     "read_only": false
    },
    "slideshow": {
     "slide_type": "slide"
    }
   },
   "source": [
    "### boucle `for` sur un dictionnaire"
   ]
  },
  {
   "cell_type": "code",
   "execution_count": null,
   "metadata": {
    "cell_style": "split"
   },
   "outputs": [],
   "source": [
    "agenda = {\n",
    "    'paul': 12, \n",
    "    'pierre': 14,\n",
    "    'jean': 16,\n",
    "}"
   ]
  },
  {
   "cell_type": "code",
   "execution_count": null,
   "metadata": {
    "cell_style": "split"
   },
   "outputs": [],
   "source": [
    "# l'unpacking permet d'écrire \n",
    "# un code élégant\n",
    "for key, value in agenda.items():\n",
    "    print(f\"{key} → {value}\")"
   ]
  },
  {
   "cell_type": "markdown",
   "metadata": {},
   "source": [
    "---"
   ]
  },
  {
   "cell_type": "code",
   "execution_count": null,
   "metadata": {
    "cell_style": "split"
   },
   "outputs": [],
   "source": [
    "# un raccourci\n",
    "for key in agenda:      # ou agenda.keys()\n",
    "    print(key, end=\" \")"
   ]
  },
  {
   "cell_type": "code",
   "execution_count": null,
   "metadata": {
    "cell_style": "split"
   },
   "outputs": [],
   "source": [
    "for value in agenda.values():\n",
    "    print(value, end=\" \")"
   ]
  },
  {
   "cell_type": "markdown",
   "metadata": {
    "slideshow": {
     "slide_type": "slide"
    }
   },
   "source": [
    "### opérations sur les itérables"
   ]
  },
  {
   "cell_type": "markdown",
   "metadata": {},
   "source": [
    "Python propose des outils pour **créer** et **combiner** les itérables:\n",
    "\n",
    "* fonctions natives *builtin* :\n",
    "  * `range`, `enumerate`, et `zip`\n",
    "* dans un module dédié `itertools`:\n",
    "  * `chain`, `cycle`, ..."
   ]
  },
  {
   "cell_type": "markdown",
   "metadata": {
    "slideshow": {
     "slide_type": "slide"
    }
   },
   "source": [
    "### `range`"
   ]
  },
  {
   "cell_type": "markdown",
   "metadata": {},
   "source": [
    "* `range` crée un itérable qui itère sur des nombres entiers\n",
    "* arguments: même logique que le slicing\n",
    "  * début (inclus), fin (exclus), pas\n",
    "* curiosité:\n",
    "  * si un seul argument, c'est **la fin**"
   ]
  },
  {
   "cell_type": "code",
   "execution_count": null,
   "metadata": {
    "cell_style": "split"
   },
   "outputs": [],
   "source": [
    "# les nombres pairs de 10 à 20\n",
    "for i in range(10, 21, 2):\n",
    "    print(i, end=\" \")"
   ]
  },
  {
   "cell_type": "code",
   "execution_count": null,
   "metadata": {
    "cell_style": "split"
   },
   "outputs": [],
   "source": [
    "# le début par défaut est 0\n",
    "for i in range(5):\n",
    "    print(i, end=\" \")"
   ]
  },
  {
   "cell_type": "markdown",
   "metadata": {
    "slideshow": {
     "slide_type": "slide"
    }
   },
   "source": [
    "### un itérateur n'est **pas une liste**"
   ]
  },
  {
   "cell_type": "markdown",
   "metadata": {},
   "source": [
    "* l'objet retourné par `range` **n'est pas une liste**\n",
    "* au contraire il crée un objet tout petit\n",
    "* qui contient seulement la logique de l'itération\n",
    "* la preuve:"
   ]
  },
  {
   "cell_type": "code",
   "execution_count": null,
   "metadata": {
    "cell_style": "split"
   },
   "outputs": [],
   "source": [
    "iterateur = range(10**20)\n",
    "iterateur"
   ]
  },
  {
   "cell_type": "code",
   "execution_count": null,
   "metadata": {
    "cell_style": "split"
   },
   "outputs": [],
   "source": [
    "for item in iterateur:\n",
    "    if item >= 5:\n",
    "        break\n",
    "    print(item, end=\" \")"
   ]
  },
  {
   "cell_type": "markdown",
   "metadata": {
    "slideshow": {
     "slide_type": "slide"
    }
   },
   "source": [
    "### un itérateur n'est **pas une liste**"
   ]
  },
  {
   "cell_type": "markdown",
   "metadata": {
    "slideshow": {
     "slide_type": ""
    }
   },
   "source": [
    "Du coup un itérateur peut même .. ne jamais terminer:"
   ]
  },
  {
   "cell_type": "code",
   "execution_count": null,
   "metadata": {},
   "outputs": [],
   "source": [
    "from itertools import count"
   ]
  },
  {
   "cell_type": "code",
   "execution_count": null,
   "metadata": {},
   "outputs": [],
   "source": [
    "for i in count():\n",
    "    print(i, end=\" \")\n",
    "    if i >= 5:\n",
    "        break"
   ]
  },
  {
   "cell_type": "markdown",
   "metadata": {
    "slideshow": {
     "slide_type": "slide"
    }
   },
   "source": [
    "### quand **ne pas** utiliser `range` "
   ]
  },
  {
   "cell_type": "markdown",
   "metadata": {},
   "source": [
    "C'est un rappel, mais:\n"
   ]
  },
  {
   "cell_type": "code",
   "execution_count": null,
   "metadata": {
    "cell_style": "split",
    "run_control": {
     "frozen": false,
     "read_only": false
    }
   },
   "outputs": [],
   "source": [
    "# les débutants ont parfois \n",
    "# tendance à faire ceci qui\n",
    "# est **très vilain !!**\n",
    "\n",
    "for i in range(len(L)):\n",
    "    print(L[i])"
   ]
  },
  {
   "cell_type": "code",
   "execution_count": null,
   "metadata": {
    "cell_style": "split",
    "run_control": {
     "frozen": false,
     "read_only": false
    }
   },
   "outputs": [],
   "source": [
    "# au lieu de tout simplement\n",
    "for item in L:\n",
    "    print(item)"
   ]
  },
  {
   "cell_type": "markdown",
   "metadata": {
    "cell_style": "center",
    "run_control": {
     "frozen": false,
     "read_only": false
    }
   },
   "source": [
    "* voir [une revue de code intéressante ici](http://sametmax.com/revue-de-code-publique/)"
   ]
  },
  {
   "cell_type": "markdown",
   "metadata": {
    "run_control": {
     "frozen": false,
     "read_only": false
    },
    "slideshow": {
     "slide_type": "slide"
    }
   },
   "source": [
    "### `enumerate`"
   ]
  },
  {
   "cell_type": "markdown",
   "metadata": {
    "cell_style": "center",
    "run_control": {
     "frozen": false,
     "read_only": false
    }
   },
   "source": [
    "* si on a vraiment besoin de l'index, il suffit d'utiliser la *builtin* `enumerate`"
   ]
  },
  {
   "cell_type": "code",
   "execution_count": null,
   "metadata": {
    "cell_style": "split",
    "run_control": {
     "frozen": false,
     "read_only": false
    }
   },
   "outputs": [],
   "source": [
    "L = [1, 10, 100, 1000]\n",
    "# quand on a besoin de l'indice dans la boucle\n",
    "for i in range(len(L)):\n",
    "    print(\"{}: {}\".format(i, L[i]))"
   ]
  },
  {
   "cell_type": "code",
   "execution_count": null,
   "metadata": {
    "cell_style": "split",
    "run_control": {
     "frozen": false,
     "read_only": false
    }
   },
   "outputs": [],
   "source": [
    "# on utiliser enumerate\n",
    "for i, item in enumerate(L):\n",
    "    print(\"{}: {}\".format(i, item))"
   ]
  },
  {
   "cell_type": "markdown",
   "metadata": {
    "slideshow": {
     "slide_type": "slide"
    }
   },
   "source": [
    "![](pictures/iter-enumerate.png)"
   ]
  },
  {
   "cell_type": "markdown",
   "metadata": {
    "run_control": {
     "frozen": false,
     "read_only": false
    },
    "slideshow": {
     "slide_type": "slide"
    }
   },
   "source": [
    "### `enumerate`"
   ]
  },
  {
   "cell_type": "markdown",
   "metadata": {},
   "source": [
    "* typiquement utile sur un fichier\n",
    "* pour avoir le numéro de ligne \n",
    "* remarquez le deuxième argument de `enumerate` pour commencer à 1 "
   ]
  },
  {
   "cell_type": "code",
   "execution_count": null,
   "metadata": {},
   "outputs": [],
   "source": [
    "with open(\"data/une-charogne2.txt\") as feed:\n",
    "    for lineno, line in enumerate(feed, 1):\n",
    "        print(f\"{lineno}:{line}\", end=\"\")"
   ]
  },
  {
   "cell_type": "markdown",
   "metadata": {
    "slideshow": {
     "slide_type": "slide"
    }
   },
   "source": [
    "# `zip`"
   ]
  },
  {
   "cell_type": "markdown",
   "metadata": {},
   "source": [
    "`zip` fonctionne un peu comme `enumerate` mais entre deux itérables:\n",
    "\n",
    "![](pictures/iter-zip.png)"
   ]
  },
  {
   "cell_type": "markdown",
   "metadata": {
    "slideshow": {
     "slide_type": "slide"
    }
   },
   "source": [
    "### `zip`"
   ]
  },
  {
   "cell_type": "code",
   "execution_count": null,
   "metadata": {
    "cell_style": "split"
   },
   "outputs": [],
   "source": [
    "liste1 = [10, 20, 30]\n",
    "liste2 = [100, 200, 300]"
   ]
  },
  {
   "cell_type": "code",
   "execution_count": null,
   "metadata": {
    "cell_style": "split"
   },
   "outputs": [],
   "source": [
    "for a, b in zip(liste1, liste2):\n",
    "    print(f\"{a}x{b}\", end=\" \")"
   ]
  },
  {
   "cell_type": "markdown",
   "metadata": {},
   "source": [
    "**NOTES**: \n",
    "\n",
    "* `zip` fonctionne avec autant d'argument qu'on veut\n",
    "* elle s'arrête dès que l'entrée la plus courte est épuisée\n",
    "* du coup on pourrait voir `enumerate` comme: \n",
    "  * `enumerate(iterable)` $\\Leftrightarrow$ `zip(count(), iterable)`"
   ]
  },
  {
   "cell_type": "markdown",
   "metadata": {
    "slideshow": {
     "slide_type": "slide"
    }
   },
   "source": [
    "# le module `itertools`"
   ]
  },
  {
   "cell_type": "markdown",
   "metadata": {},
   "source": [
    "On trouve dans le module `itertools` plusieurs utilitaires très pratiques:\n",
    "\n",
    "* `chain` pour chainer plusieurs itérables\n",
    "* `cycle` pour rejouer un itérable en boucle"
   ]
  },
  {
   "cell_type": "code",
   "execution_count": null,
   "metadata": {
    "cell_style": "split"
   },
   "outputs": [],
   "source": [
    "from itertools import chain, cycle\n",
    "data1 = (10, 20, 30)\n",
    "data2 = (100, 200, 300)"
   ]
  },
  {
   "cell_type": "code",
   "execution_count": null,
   "metadata": {
    "cell_style": "split"
   },
   "outputs": [],
   "source": [
    "for i, d in enumerate(chain(data1, data2)):\n",
    "    print(f\"{i}x{d}\", end=\" \")"
   ]
  },
  {
   "cell_type": "code",
   "execution_count": null,
   "metadata": {},
   "outputs": [],
   "source": [
    "for i, d in enumerate(cycle(data1)):\n",
    "    print(f\"{i}x{d}\", end=\" \")\n",
    "    if i >= 8:\n",
    "        break"
   ]
  },
  {
   "cell_type": "markdown",
   "metadata": {
    "slideshow": {
     "slide_type": "slide"
    }
   },
   "source": [
    "### le module `itertools`"
   ]
  },
  {
   "cell_type": "markdown",
   "metadata": {},
   "source": [
    "Le module `itertools` propose aussi quelques combinatoires usuelles:\n",
    "\n",
    "* `product`: produit cartésien de deux itérables\n",
    "* `permutations`: les permutations ($n!$)\n",
    "* `combinations`: *p parmi n*\n",
    "* et d'autres... \n",
    "* https://docs.python.org/3/library/itertools.html"
   ]
  },
  {
   "cell_type": "markdown",
   "metadata": {
    "slideshow": {
     "slide_type": "slide"
    }
   },
   "source": [
    "### le module `itertools`"
   ]
  },
  {
   "cell_type": "code",
   "execution_count": null,
   "metadata": {},
   "outputs": [],
   "source": [
    "from itertools import product\n",
    "\n",
    "dim1 = (1, 2, 3)\n",
    "dim2 = (10, 20, 30)\n",
    "\n",
    "for i, (d1, d2) in enumerate(product(dim1, dim2)):\n",
    "    print(f\"i={i}, d1={d1} d2={d2}\")"
   ]
  },
  {
   "cell_type": "markdown",
   "metadata": {
    "slideshow": {
     "slide_type": "slide"
    }
   },
   "source": [
    "### exercice: code de Vigenère"
   ]
  },
  {
   "cell_type": "markdown",
   "metadata": {},
   "source": [
    "Voir [sur wikipedia](https://fr.wikipedia.org/wiki/Chiffre_de_Vigen%C3%A8re)"
   ]
  },
  {
   "cell_type": "code",
   "execution_count": null,
   "metadata": {
    "cell_style": "split"
   },
   "outputs": [],
   "source": [
    "from string import ascii_lowercase\n",
    "ascii_lowercase"
   ]
  },
  {
   "cell_type": "code",
   "execution_count": null,
   "metadata": {
    "cell_style": "split"
   },
   "outputs": [],
   "source": [
    "from string import ascii_letters\n",
    "ascii_letters"
   ]
  },
  {
   "cell_type": "code",
   "execution_count": null,
   "metadata": {
    "cell_style": "split"
   },
   "outputs": [],
   "source": [
    "ord('a')"
   ]
  },
  {
   "cell_type": "code",
   "execution_count": null,
   "metadata": {
    "cell_style": "split"
   },
   "outputs": [],
   "source": [
    "chr(97)"
   ]
  },
  {
   "cell_type": "markdown",
   "metadata": {
    "run_control": {
     "frozen": false,
     "read_only": false
    },
    "slideshow": {
     "slide_type": "slide"
    }
   },
   "source": [
    "# boucles `for` : limite importante"
   ]
  },
  {
   "cell_type": "markdown",
   "metadata": {
    "run_control": {
     "frozen": false,
     "read_only": false
    }
   },
   "source": [
    "* **règle très importante:** à l'intérieur d'une boucle\n",
    "* il ne faut **pas modifier l’objet** sur lequel on itère\n",
    "* on peut, par contre, en faire une copie"
   ]
  },
  {
   "cell_type": "markdown",
   "metadata": {
    "cell_style": "split",
    "run_control": {
     "frozen": false,
     "read_only": false
    }
   },
   "source": [
    "ce code-ci provoque une boucle infinie\n",
    "```\n",
    "L = ['a', 'b', 'c']\n",
    "for i in L:\n",
    "    if i == 'c':\n",
    "        L.append(i)\n",
    "```"
   ]
  },
  {
   "cell_type": "code",
   "execution_count": null,
   "metadata": {
    "cell_style": "split",
    "run_control": {
     "frozen": false,
     "read_only": false
    }
   },
   "outputs": [],
   "source": [
    "# il suffit de prendre la précaution\n",
    "# de faire une shallow copie\n",
    "L = ['a', 'b' , 'c']\n",
    "for i in L[:]:\n",
    "    if i == 'c':\n",
    "        L.append(i)\n",
    "L"
   ]
  },
  {
   "cell_type": "markdown",
   "metadata": {
    "run_control": {
     "frozen": false,
     "read_only": false
    },
    "slideshow": {
     "slide_type": "slide"
    }
   },
   "source": [
    "# exemple de boucles"
   ]
  },
  {
   "cell_type": "code",
   "execution_count": null,
   "metadata": {
    "run_control": {
     "frozen": false,
     "read_only": false
    }
   },
   "outputs": [],
   "source": [
    "# boucle (1)\n",
    "for n in range(2, 10):\n",
    "    # boucle (2)\n",
    "    for x in range(2, n):\n",
    "        if n % x == 0:\n",
    "            print(n, ' = ' , x , '*', n//x)\n",
    "            # on sort de la boucle (2)\n",
    "            break\n",
    "    else:\n",
    "        print(n, 'est un nombre premier')"
   ]
  },
  {
   "cell_type": "markdown",
   "metadata": {
    "slideshow": {
     "slide_type": "slide"
    }
   },
   "source": [
    "# compréhensions"
   ]
  },
  {
   "cell_type": "markdown",
   "metadata": {},
   "source": [
    "très fréquemment on veut construire un mapping"
   ]
  },
  {
   "cell_type": "markdown",
   "metadata": {
    "cell_style": "split"
   },
   "source": [
    "* appliquer une fonction à un ensemble de valeurs: `map`\n",
    "\n",
    "![](pictures/iter-map.png)"
   ]
  },
  {
   "cell_type": "markdown",
   "metadata": {
    "cell_style": "split"
   },
   "source": [
    "* idem en excluant certaines entrées: `map` + `filter`\n",
    "\n",
    "![](pictures/iter-map-filter.png)"
   ]
  },
  {
   "cell_type": "markdown",
   "metadata": {
    "slideshow": {
     "slide_type": "slide"
    }
   },
   "source": [
    "### compréhension de liste"
   ]
  },
  {
   "cell_type": "markdown",
   "metadata": {
    "cell_style": "split"
   },
   "source": [
    "c'est le propos de la compréhension (de liste):\n",
    "\n",
    "```python\n",
    "[expression(x) for x in iterable\n",
    "                 if condition(x)]\n",
    "```"
   ]
  },
  {
   "cell_type": "markdown",
   "metadata": {
    "cell_style": "split"
   },
   "source": [
    "Équivalent à \n",
    "\n",
    "```python\n",
    "result = []\n",
    "for x in iterable:\n",
    "    if condition(x):\n",
    "        result.append(expression(x))\n",
    "```"
   ]
  },
  {
   "cell_type": "markdown",
   "metadata": {
    "slideshow": {
     "slide_type": "slide"
    }
   },
   "source": [
    "### compréhensions de liste"
   ]
  },
  {
   "cell_type": "code",
   "execution_count": null,
   "metadata": {
    "cell_style": "split"
   },
   "outputs": [],
   "source": [
    "[x**3 for x in range(6) if x % 2 == 0]"
   ]
  },
  {
   "cell_type": "code",
   "execution_count": null,
   "metadata": {
    "cell_style": "split"
   },
   "outputs": [],
   "source": [
    "result = []\n",
    "for x in range(6):\n",
    "    if x % 2 == 0:\n",
    "        result.append(x**3)\n",
    "result"
   ]
  },
  {
   "cell_type": "markdown",
   "metadata": {
    "slideshow": {
     "slide_type": "slide"
    }
   },
   "source": [
    "### compréhension de liste"
   ]
  },
  {
   "cell_type": "markdown",
   "metadata": {},
   "source": [
    "* la clause `if condition` est bien entendu optionnelle\n",
    "* on peut imbriquer plusieurs niveaux de boucle\n",
    "  * la profondeur du résultat dépend du nombre de `[`"
   ]
  },
  {
   "cell_type": "code",
   "execution_count": null,
   "metadata": {},
   "outputs": [],
   "source": [
    "# une liste toute plate comme résultat\n",
    "# malgré deux boucles for imbriquées\n",
    "[x+y for x in (1, 2) for y in (3, 4)]"
   ]
  },
  {
   "cell_type": "markdown",
   "metadata": {
    "slideshow": {
     "slide_type": "slide"
    }
   },
   "source": [
    "### compréhensions imbriquées"
   ]
  },
  {
   "cell_type": "markdown",
   "metadata": {
    "cell_style": "center"
   },
   "source": [
    "l'ordre dans lequel se lisent les compréhensions imbriquées:"
   ]
  },
  {
   "cell_type": "code",
   "execution_count": null,
   "metadata": {
    "cell_style": "split"
   },
   "outputs": [],
   "source": [
    "[(x, y) for x in range(7) \n",
    "        if x % 2 == 0 \n",
    "            for y in range(x) \n",
    "                if y % 2 == 1]"
   ]
  },
  {
   "cell_type": "code",
   "execution_count": null,
   "metadata": {
    "cell_style": "split"
   },
   "outputs": [],
   "source": [
    "# est équivalent à\n",
    "L = []\n",
    "for x in range(7):\n",
    "    if x % 2 == 0:\n",
    "        for y in range(x):\n",
    "            if y % 2 == 1:\n",
    "                L.append((x, y))\n",
    "L"
   ]
  },
  {
   "cell_type": "markdown",
   "metadata": {
    "slideshow": {
     "slide_type": "slide"
    }
   },
   "source": [
    "### compréhension d'ensemble"
   ]
  },
  {
   "cell_type": "markdown",
   "metadata": {},
   "source": [
    "même principe exactement, mais avec des `{}` au lieu des `[]`"
   ]
  },
  {
   "cell_type": "code",
   "execution_count": null,
   "metadata": {
    "cell_style": "split"
   },
   "outputs": [],
   "source": [
    "# en délimitant avec des {} on construit \n",
    "# compréhension d'ensemble\n",
    "{x**2 for x in range(-4, 5) if x % 2 == 0}"
   ]
  },
  {
   "cell_type": "code",
   "execution_count": null,
   "metadata": {
    "cell_style": "split"
   },
   "outputs": [],
   "source": [
    "# attention, {} est un dict\n",
    "result = set()\n",
    "\n",
    "for x in range(-4, 5):\n",
    "    if x % 2 == 0:\n",
    "        result.add(x**2)\n",
    "        \n",
    "result\n",
    "        "
   ]
  },
  {
   "cell_type": "markdown",
   "metadata": {
    "slideshow": {
     "slide_type": "slide"
    }
   },
   "source": [
    "### compréhension de dictionnaire"
   ]
  },
  {
   "cell_type": "markdown",
   "metadata": {},
   "source": [
    "syntaxe voisine, avec un `:` pour associer clé et valeur"
   ]
  },
  {
   "cell_type": "code",
   "execution_count": null,
   "metadata": {},
   "outputs": [],
   "source": [
    "# créer une table qui permet un accès direct à partir du nom\n",
    "personnes = [\n",
    "    {'nom': 'Martin', 'prenom': 'Julie', 'age': 18},\n",
    "    {'nom': 'Dupont', 'prenom': 'Jean', 'age': 32},\n",
    "    {'nom': 'Durand', 'prenom': 'Pierre', 'age': 25},  \n",
    "]\n",
    "\n",
    "hash = {personne['nom']: personne for personne in personnes}\n",
    "hash"
   ]
  },
  {
   "cell_type": "code",
   "execution_count": null,
   "metadata": {},
   "outputs": [],
   "source": [
    "hash['Martin']"
   ]
  },
  {
   "cell_type": "markdown",
   "metadata": {
    "slideshow": {
     "slide_type": "slide"
    }
   },
   "source": [
    "### performance des compréhensions"
   ]
  },
  {
   "cell_type": "code",
   "execution_count": null,
   "metadata": {
    "cell_style": "center",
    "run_control": {
     "frozen": false,
     "read_only": false
    },
    "slideshow": {
     "slide_type": ""
    }
   },
   "outputs": [],
   "source": [
    "# une fonction qui ne parcourt pas\n",
    "# entièrement son entrée\n",
    "def search_100(iterable):\n",
    "    for i in iterable:\n",
    "        if i == 100:\n",
    "            return True"
   ]
  },
  {
   "cell_type": "code",
   "execution_count": null,
   "metadata": {
    "cell_style": "split",
    "run_control": {
     "frozen": false,
     "read_only": false
    }
   },
   "outputs": [],
   "source": [
    "# cherchons 100 parmi les <n> premiers carrés\n",
    "n = 10**6\n",
    "\n",
    "# avec une compréhension \n",
    "# on fait beaucoup de travail\n",
    "# pour rien\n",
    "%timeit search_100([x**2 for x in range(n)])"
   ]
  },
  {
   "cell_type": "code",
   "execution_count": null,
   "metadata": {
    "cell_style": "split",
    "run_control": {
     "frozen": false,
     "read_only": false
    }
   },
   "outputs": [],
   "source": [
    "# avec un générateur ...\n",
    "# 100.000 fois plus rapide, c'est normal \n",
    "# on n'a pas eu besoin de créer\n",
    "# la liste des carrés \n",
    "%timeit search_100(x**2 for x in range(n))"
   ]
  },
  {
   "cell_type": "markdown",
   "metadata": {
    "slideshow": {
     "slide_type": "slide"
    }
   },
   "source": [
    "# expression génératrice"
   ]
  },
  {
   "cell_type": "markdown",
   "metadata": {},
   "source": [
    "* les compréhensions de dictionnaire et d'ensemble sont souvent justifiées\n",
    "* par contre, pour les listes: **toujours bien se demander**  \n",
    "  si on a vraiment besoin de **construire la liste**\n",
    "\n",
    "* ou si au contraire on a juste **besoin d'itérer** dessus  \n",
    "  souvent une seule fois d'ailleurs"
   ]
  },
  {
   "cell_type": "markdown",
   "metadata": {},
   "source": [
    "* si on a vraiment besoin de cette liste  \n",
    "  alors la compréhension est OK\n",
    "\n",
    "* mais dans le cas contraire  \n",
    "  utiliser une **expression génératrice**\n",
    "\n",
    "* qui souvent revient à simplement enlever les `[]`  \n",
    "  ou les remplacer par des `()`\n",
    "\n",
    "* exemple..."
   ]
  },
  {
   "cell_type": "markdown",
   "metadata": {
    "slideshow": {
     "slide_type": "slide"
    }
   },
   "source": [
    "### expression génératrice"
   ]
  },
  {
   "cell_type": "code",
   "execution_count": null,
   "metadata": {},
   "outputs": [],
   "source": [
    "# j'ai un ensemble de valeurs\n",
    "# je cherche à trouver la somme des carrés de ces valeurs\n",
    "data = [-10, 5, -9, 15, -21, 7, 12]"
   ]
  },
  {
   "cell_type": "code",
   "execution_count": null,
   "metadata": {
    "cell_style": "split"
   },
   "outputs": [],
   "source": [
    "# je peux faire ceci\n",
    "# je calcule la liste des carrés\n",
    "carres = [x**2 for x in data]\n",
    "carres"
   ]
  },
  {
   "cell_type": "code",
   "execution_count": null,
   "metadata": {
    "cell_style": "split"
   },
   "outputs": [],
   "source": [
    "# j'utilise ensuite la builtin `max` \n",
    "sum(carres)"
   ]
  },
  {
   "cell_type": "code",
   "execution_count": null,
   "metadata": {},
   "outputs": [],
   "source": [
    "# mais en fait je peux remplacer ceci\n",
    "sum([x**2 for x in data])"
   ]
  },
  {
   "cell_type": "code",
   "execution_count": null,
   "metadata": {},
   "outputs": [],
   "source": [
    "# par juste ceci - remarquez l'absence des []\n",
    "sum(x**2 for x in data)"
   ]
  },
  {
   "cell_type": "markdown",
   "metadata": {
    "slideshow": {
     "slide_type": "slide"
    }
   },
   "source": [
    "### expression génératrice"
   ]
  },
  {
   "cell_type": "code",
   "execution_count": null,
   "metadata": {
    "cell_style": "split"
   },
   "outputs": [],
   "source": [
    "# on peut examiner ces deux objets\n",
    "[x**2 for x in data]"
   ]
  },
  {
   "cell_type": "code",
   "execution_count": null,
   "metadata": {
    "cell_style": "split"
   },
   "outputs": [],
   "source": [
    "# attention ici il faut les parenthèses\n",
    "(x**2 for x in data)"
   ]
  },
  {
   "cell_type": "code",
   "execution_count": null,
   "metadata": {},
   "outputs": [],
   "source": [
    "# c'est un itérateur !\n",
    "generator1 = (x**2 for x in data)"
   ]
  },
  {
   "cell_type": "code",
   "execution_count": null,
   "metadata": {
    "cell_style": "split"
   },
   "outputs": [],
   "source": [
    "next(generator1)"
   ]
  },
  {
   "cell_type": "code",
   "execution_count": null,
   "metadata": {
    "cell_style": "split"
   },
   "outputs": [],
   "source": [
    "next(generator1)"
   ]
  },
  {
   "cell_type": "markdown",
   "metadata": {
    "slideshow": {
     "slide_type": "slide"
    }
   },
   "source": [
    "### expression génératrice"
   ]
  },
  {
   "cell_type": "code",
   "execution_count": null,
   "metadata": {},
   "outputs": [],
   "source": [
    "# remplissons une classe imaginaire\n",
    "from random import randint\n",
    "\n",
    "matieres = ('maths', 'français', 'philo')\n",
    "eleves = ('jean', 'julie', 'marie', \n",
    "          'apolline', 'mathilde', 'adrien')\n",
    "\n",
    "def eleve_alea():\n",
    "    return [randint(0, 20) f "
   ]
  },
  {
   "cell_type": "code",
   "execution_count": null,
   "metadata": {},
   "outputs": [],
   "source": [
    "# la moyenne de la classe en maths\n",
    "notes_maths = [maths for maths, *_ in classe]\n",
    "notes_maths"
   ]
  },
  {
   "cell_type": "code",
   "execution_count": null,
   "metadata": {},
   "outputs": [],
   "source": [
    "moyenne = sum(notes_maths) / len(notes_maths)\n",
    "moyenne"
   ]
  },
  {
   "cell_type": "code",
   "execution_count": null,
   "metadata": {},
   "outputs": [],
   "source": [
    "# observez l'absence des []\n",
    "sum(maths for maths, *_ in classe) / len(eleves)"
   ]
  },
  {
   "cell_type": "markdown",
   "metadata": {
    "slideshow": {
     "slide_type": "slide"
    }
   },
   "source": [
    "# fonction génératrice"
   ]
  },
  {
   "cell_type": "markdown",
   "metadata": {},
   "source": [
    "* une dernière forme très commune d'itérateurs\n",
    "* décrite sous la forme d'une fonction  \n",
    "  qui fait `yield` au lieu de `return`\n",
    "\n",
    "* c'est plus clair avec un exemple"
   ]
  },
  {
   "cell_type": "code",
   "execution_count": null,
   "metadata": {
    "cell_style": "split"
   },
   "outputs": [],
   "source": [
    "def squares(n):\n",
    "    for i in range(n):\n",
    "        yield i**2"
   ]
  },
  {
   "cell_type": "code",
   "execution_count": null,
   "metadata": {
    "cell_style": "split"
   },
   "outputs": [],
   "source": [
    "for square in squares(3):\n",
    "    print(square, end=\" \")"
   ]
  },
  {
   "cell_type": "markdown",
   "metadata": {
    "slideshow": {
     "slide_type": "slide"
    }
   },
   "source": [
    "### fonction génératrice"
   ]
  },
  {
   "cell_type": "code",
   "execution_count": null,
   "metadata": {
    "cell_style": "split"
   },
   "outputs": [],
   "source": [
    "# voyons un peu cet objet\n",
    "generator2 = squares(4)\n",
    "generator2"
   ]
  },
  {
   "cell_type": "code",
   "execution_count": null,
   "metadata": {
    "cell_style": "split"
   },
   "outputs": [],
   "source": [
    "# ça ressemble beaucoup \n",
    "# à une expression génératrice\n",
    "next(generator2)"
   ]
  },
  {
   "cell_type": "code",
   "execution_count": null,
   "metadata": {},
   "outputs": [],
   "source": [
    "# c'est en effet un iterateur\n",
    "iter(generator2) is generator2"
   ]
  },
  {
   "cell_type": "markdown",
   "metadata": {
    "slideshow": {
     "slide_type": "slide"
    }
   },
   "source": [
    "### expression génératrice *vs* fonction génératrice"
   ]
  },
  {
   "cell_type": "code",
   "execution_count": null,
   "metadata": {},
   "outputs": [],
   "source": [
    "# generator1 provient d'une expression génératrice\n",
    "# generator2 provient d'une fonction génératrice"
   ]
  },
  {
   "cell_type": "code",
   "execution_count": null,
   "metadata": {
    "cell_style": "split"
   },
   "outputs": [],
   "source": [
    "type(generator1)"
   ]
  },
  {
   "cell_type": "code",
   "execution_count": null,
   "metadata": {
    "cell_style": "split"
   },
   "outputs": [],
   "source": [
    "type(generator2)"
   ]
  },
  {
   "cell_type": "markdown",
   "metadata": {},
   "source": [
    "* les deux formes de générateur sont de même type\n",
    "* la fonction a une puissance d'expression supérieure\n",
    "* notamment elle permet de conserver l'état  \n",
    "  sous la forme de variables locales\n",
    "\n",
    "* et même en fait c'est plus fort que ça  \n",
    "  car la fonction génératrice peut en appeler d'autres"
   ]
  },
  {
   "cell_type": "markdown",
   "metadata": {
    "slideshow": {
     "slide_type": "slide"
    }
   },
   "source": [
    "# `yield from`"
   ]
  },
  {
   "cell_type": "markdown",
   "metadata": {},
   "source": [
    "partant d'une fonction génératrice qui énumère  \n",
    "tous les diviseurs d'un entier (1 et lui-même exclus)\n"
   ]
  },
  {
   "cell_type": "code",
   "execution_count": null,
   "metadata": {
    "cell_style": "split"
   },
   "outputs": [],
   "source": [
    "def divs(n):\n",
    "    for i in range(2, n):\n",
    "        if n % i == 0:\n",
    "            yield i"
   ]
  },
  {
   "cell_type": "code",
   "execution_count": null,
   "metadata": {
    "cell_style": "split"
   },
   "outputs": [],
   "source": [
    "\n",
    "\n",
    "for div in divs(30):\n",
    "    print(div, end=\" \")"
   ]
  },
  {
   "cell_type": "markdown",
   "metadata": {},
   "source": [
    "* maintenant si je veux écrire une fonction génératrice  \n",
    "  qui énumère tous les diviseurs des diviseurs de `n`\n",
    "\n",
    "* il s'agit donc d'une fonction génératrice qui en appelle une autre\n",
    "* il y a nécessité pour une syntaxe spéciale: `yield from`"
   ]
  },
  {
   "cell_type": "markdown",
   "metadata": {
    "slideshow": {
     "slide_type": "slide"
    }
   },
   "source": [
    "### `yield from`"
   ]
  },
  {
   "cell_type": "code",
   "execution_count": null,
   "metadata": {
    "cell_style": "split"
   },
   "outputs": [],
   "source": [
    "def divdivs(n):\n",
    "    for i in divs(n):\n",
    "        yield from divs(i)"
   ]
  },
  {
   "cell_type": "code",
   "execution_count": null,
   "metadata": {
    "cell_style": "split"
   },
   "outputs": [],
   "source": [
    "for div in divdivs(30):\n",
    "    print(div, end=\" \")"
   ]
  },
  {
   "cell_type": "markdown",
   "metadata": {
    "slideshow": {
     "slide_type": "slide"
    }
   },
   "source": [
    "### fonctions génératrices - epilogue"
   ]
  },
  {
   "cell_type": "markdown",
   "metadata": {},
   "source": [
    "pour évaluer la boucle `for` dans ce dernier cas:\n",
    "\n",
    "* la **pile** principale (de la fonction qui fait `for`)\n",
    "* **et** une **pile** annexe qui évalue la fonction génératrice\n",
    "* et qui se fait \"mettre au congélateur\" à chaque itération de la boucle\n",
    "* l'état de l'itération: toutes les variables locales de la pile annexe\n",
    "  * les deux `i` dans l'exemple précédent\n",
    "\n",
    "c'est cette propriété qui est utilisée pour implémenter la librairie asynchrone `asyncio` "
   ]
  },
  {
   "cell_type": "markdown",
   "metadata": {
    "run_control": {
     "frozen": false,
     "read_only": false
    },
    "slideshow": {
     "slide_type": "slide"
    }
   },
   "source": [
    "# objets itérables"
   ]
  },
  {
   "cell_type": "markdown",
   "metadata": {
    "run_control": {
     "frozen": false,
     "read_only": false
    }
   },
   "source": [
    "* en python, avec les classes, on peut \n",
    "  * se définir des types utilisateur\n",
    "  * et bien les intégrer dans le langage \n",
    "* par exemple, il existe un *protocole* \n",
    "  * pour rendre un objet itérable\n",
    "  * i.e. pour pouvoir l'utiliser dans un for\n",
    "* deux moyens\n",
    "  * via `__getitem__` (une séquence - accès direct)\n",
    "  * via `__iter__()` qui doit retourner un itérateur"
   ]
  },
  {
   "cell_type": "markdown",
   "metadata": {
    "run_control": {
     "frozen": false,
     "read_only": false
    },
    "slideshow": {
     "slide_type": "slide"
    }
   },
   "source": [
    "# itérable avec `__getitem__`"
   ]
  },
  {
   "cell_type": "markdown",
   "metadata": {
    "run_control": {
     "frozen": false,
     "read_only": false
    }
   },
   "source": [
    "* si votre objet est une séquence\n",
    "* vous pouvez définir la méthode `__getitem__()`\n",
    "  * qui sera alors appelée par le `for` \n",
    "  * avec en argument `0`, `1`, ...\n",
    "  * jusqu'à ce que `__getitem__` lève `StopIteration`\n",
    "* c'est adapté pour des objets qui ont un accès direct \n",
    "  * à leurs sous-composants\n",
    "* technique assez *old-school* \n",
    "  * conservé pour compatibilité\n",
    "  * mais on n'en parle plus dans la suite du cours"
   ]
  },
  {
   "cell_type": "code",
   "execution_count": null,
   "metadata": {
    "cell_style": "split",
    "run_control": {
     "frozen": false,
     "read_only": false
    },
    "slideshow": {
     "slide_type": "slide"
    }
   },
   "outputs": [],
   "source": [
    "# un itérable implémenté avec __getitem__\n",
    "\n",
    "class PseudoSequence:\n",
    "    \n",
    "    def __init__(self, top):\n",
    "        self.top = top\n",
    "        \n",
    "    def __getitem__(self, index):\n",
    "        if not isinstance(index, int):\n",
    "            raise TypeError\n",
    "        if 0 <= index < self.top: \n",
    "            return 2 ** index\n",
    "        else:\n",
    "            raise IndexError"
   ]
  },
  {
   "cell_type": "code",
   "execution_count": null,
   "metadata": {
    "cell_style": "split",
    "run_control": {
     "frozen": false,
     "read_only": false
    }
   },
   "outputs": [],
   "source": [
    "seq = PseudoSequence(4)\n",
    "for i in seq:\n",
    "    print(i)"
   ]
  },
  {
   "cell_type": "code",
   "execution_count": null,
   "metadata": {
    "cell_style": "split",
    "run_control": {
     "frozen": false,
     "read_only": false
    }
   },
   "outputs": [],
   "source": [
    "seq[0], seq[2]"
   ]
  },
  {
   "cell_type": "markdown",
   "metadata": {
    "run_control": {
     "frozen": false,
     "read_only": false
    },
    "slideshow": {
     "slide_type": "slide"
    }
   },
   "source": [
    "# itérable avec itérateur"
   ]
  },
  {
   "cell_type": "markdown",
   "metadata": {
    "run_control": {
     "frozen": false,
     "read_only": false
    }
   },
   "source": [
    "* on peut rendre un objet **itérable**\n",
    "  * en écrivant la méthode magique `__iter__()`  \n",
    "    qui doit retourner un itérateur\n",
    "\n",
    "* Q: d'accord, mais alors c'est quoi un itérateur ?  \n",
    "  A: ici à nouveau il y a un *protocole*"
   ]
  },
  {
   "cell_type": "markdown",
   "metadata": {
    "run_control": {
     "frozen": false,
     "read_only": false
    }
   },
   "source": [
    "* protocole **itérateur**\n",
    "  * une méthode `__next__()`  \n",
    "    qui à chaque appel retourne l’élément suivant\n",
    "    ou qui lève une exception `StopIteration`  \n",
    "    lorsqu’il n’y a plus d’élément à retourner\n",
    "\n",
    "  * une méthode `__iter__()` qui retourne l’itérateur lui-même\n",
    "    * et donc un itérateur est lui-même itérable"
   ]
  },
  {
   "cell_type": "markdown",
   "metadata": {
    "slideshow": {
     "slide_type": "slide"
    }
   },
   "source": [
    "# sous le capot de la boucle `for`"
   ]
  },
  {
   "cell_type": "markdown",
   "metadata": {
    "cell_style": "split"
   },
   "source": [
    "lorsqu'on itère sur un itérable avec itérateur"
   ]
  },
  {
   "cell_type": "code",
   "execution_count": null,
   "metadata": {
    "cell_style": "split"
   },
   "outputs": [],
   "source": [
    "iterable = [10, 20, 30]"
   ]
  },
  {
   "cell_type": "markdown",
   "metadata": {},
   "source": [
    "sous le capot, la boucle `for` va faire:\n",
    "\n",
    "  * créer l'itérateur en appelant `iter()`\n",
    "  * appeler `next()` sur cet itérateur\n",
    "  * jusqu'à obtenir l'exception `StopIteration`"
   ]
  },
  {
   "cell_type": "code",
   "execution_count": null,
   "metadata": {
    "cell_style": "split",
    "slideshow": {
     "slide_type": "slide"
    }
   },
   "outputs": [],
   "source": [
    "for item in iterable:\n",
    "    print(item)"
   ]
  },
  {
   "cell_type": "code",
   "execution_count": null,
   "metadata": {
    "cell_style": "split",
    "slideshow": {
     "slide_type": ""
    }
   },
   "outputs": [],
   "source": [
    "iterateur = iter(iterable)\n",
    "while True:\n",
    "    try:\n",
    "        item = next(iterateur)\n",
    "        print(item)\n",
    "    except StopIteration:\n",
    "        # print(\"fin\")\n",
    "        break"
   ]
  },
  {
   "cell_type": "markdown",
   "metadata": {
    "slideshow": {
     "slide_type": "slide"
    }
   },
   "source": [
    "### sous le capot de la boucle `for`"
   ]
  },
  {
   "cell_type": "markdown",
   "metadata": {
    "run_control": {
     "frozen": false,
     "read_only": false
    }
   },
   "source": [
    "* `next()` et `iter()` sont des fonctions natives\n",
    "* et naturellement:\n",
    "  * `iter(obj)` appelle `obj.__iter__()`\n",
    "  * `next(obj)` appelle `obj.__next__()`"
   ]
  },
  {
   "cell_type": "markdown",
   "metadata": {
    "slideshow": {
     "slide_type": "slide"
    }
   },
   "source": [
    "# séparer itérateur et itérable"
   ]
  },
  {
   "cell_type": "markdown",
   "metadata": {
    "run_control": {
     "frozen": false,
     "read_only": false
    }
   },
   "source": [
    "* le plus souvent possible\n",
    "  * on définit les itérateurs \"sans donnée\"\n",
    "  * comme `range()` ou `count()`\n",
    "  * ou comme des générateurs\n",
    "* lorsqu'on définit un itérateur sur une \"vraie\" structure de données\n",
    "  * l'itérable contient les données\n",
    "  * l'iterateur ne contient **que** la logique/état d'itération\n",
    "  * il est important alors **séparer** les deux objets\n",
    "  * ne serait-ce que pour pouvoir faire des boucles imbriquées"
   ]
  },
  {
   "cell_type": "markdown",
   "metadata": {
    "slideshow": {
     "slide_type": "slide"
    }
   },
   "source": [
    "### séparer itérateur et itérable"
   ]
  },
  {
   "cell_type": "code",
   "execution_count": null,
   "metadata": {
    "cell_style": "center"
   },
   "outputs": [],
   "source": [
    "liste = [0, 10, 100]"
   ]
  },
  {
   "cell_type": "code",
   "execution_count": null,
   "metadata": {
    "cell_style": "split"
   },
   "outputs": [],
   "source": [
    "for item in liste:\n",
    "    print(item, end=\" \")"
   ]
  },
  {
   "cell_type": "code",
   "execution_count": null,
   "metadata": {
    "cell_style": "split"
   },
   "outputs": [],
   "source": [
    "# avec une seule boucle, \n",
    "# on peut itérer sur l'itérateur\n",
    "iterator = iter(liste)\n",
    "\n",
    "for item in iterator:\n",
    "    print(item, end=\" \")"
   ]
  },
  {
   "cell_type": "code",
   "execution_count": null,
   "metadata": {
    "cell_style": "split"
   },
   "outputs": [],
   "source": [
    "# avec deux boucles par contre\n",
    "for item1 in liste:\n",
    "    for item2 in liste:\n",
    "        print(f\"{item1}x{item2}\")"
   ]
  },
  {
   "cell_type": "code",
   "execution_count": null,
   "metadata": {
    "cell_style": "split"
   },
   "outputs": [],
   "source": [
    "# ça ne fonctionne plus du tout !\n",
    "iterator = iter(liste)\n",
    "\n",
    "for item1 in iterator:\n",
    "    for item2 in iterator:\n",
    "        print(f\"{item1}x{item2}\")"
   ]
  },
  {
   "cell_type": "markdown",
   "metadata": {
    "run_control": {
     "frozen": false,
     "read_only": false
    },
    "slideshow": {
     "slide_type": "slide"
    }
   },
   "source": [
    "# utilisation des itérables"
   ]
  },
  {
   "cell_type": "markdown",
   "metadata": {
    "run_control": {
     "frozen": false,
     "read_only": false
    }
   },
   "source": [
    "\n",
    "* on a défini les itérables par rapport à la boucle `for` \n",
    "* mais plusieurs fonctions acceptent en argument des itérables\n",
    "* `sum`, `max`, `min`\n",
    "* `map`, `filter`\n",
    "* etc..."
   ]
  },
  {
   "cell_type": "markdown",
   "metadata": {
    "run_control": {
     "frozen": false,
     "read_only": false
    },
    "slideshow": {
     "slide_type": "slide"
    }
   },
   "source": [
    "# exemple de la puissance des itérateurs"
   ]
  },
  {
   "cell_type": "markdown",
   "metadata": {
    "run_control": {
     "frozen": false,
     "read_only": false
    }
   },
   "source": [
    "* imaginons que je veuille afficher toutes les lignes d’un fichier qui contienne le mot 'matin'\n",
    "* est-ce possible de le faire en seulement 4 lignes ?\n",
    "* sans notation cryptique et incompréhensible"
   ]
  },
  {
   "cell_type": "code",
   "execution_count": null,
   "metadata": {
    "run_control": {
     "frozen": false,
     "read_only": false
    }
   },
   "outputs": [],
   "source": [
    "with open('data/une-charogne.txt') as feed:\n",
    "    for lineno, line in enumerate(feed, 1):\n",
    "        if 'matin' in line:\n",
    "            print(f\"{lineno}:{line}\", end=\"\")"
   ]
  },
  {
   "cell_type": "markdown",
   "metadata": {
    "run_control": {
     "frozen": false,
     "read_only": false
    },
    "slideshow": {
     "slide_type": "slide"
    }
   },
   "source": [
    "# quel objet est itérable ?"
   ]
  },
  {
   "cell_type": "markdown",
   "metadata": {
    "run_control": {
     "frozen": false,
     "read_only": false
    }
   },
   "source": [
    "* il existe beaucoup d’objets itérables en python\n",
    "  * tous les objets séquence: listes, tuples, chaînes, etc.\n",
    "  * les sets, les dictionnaires\n",
    "  * les vues (dict.keys(), dict.values()), etc.\n",
    "  * les fichiers\n",
    "  * les générateurs\n",
    "* il faut les utiliser, c’est le plus rapide et le plus lisible"
   ]
  },
  {
   "cell_type": "markdown",
   "metadata": {
    "slideshow": {
     "slide_type": "slide"
    }
   },
   "source": [
    "# quel objet est un itérateur ?"
   ]
  },
  {
   "cell_type": "markdown",
   "metadata": {
    "cell_style": "split"
   },
   "source": [
    "* on peut voir si  \n",
    "  `iter(obj) is obj`\n"
   ]
  },
  {
   "cell_type": "code",
   "execution_count": null,
   "metadata": {
    "cell_style": "split"
   },
   "outputs": [],
   "source": [
    "def is_iterator(obj):\n",
    "    return iter(obj) is obj"
   ]
  },
  {
   "cell_type": "markdown",
   "metadata": {},
   "source": [
    "* à la lumière de ce qu'on a vu\n",
    "  * une liste **n'est pas** son propre itérateur\n",
    "  * un fichier **est** son propre itérateur"
   ]
  },
  {
   "cell_type": "code",
   "execution_count": null,
   "metadata": {
    "cell_style": "split",
    "run_control": {
     "frozen": false,
     "read_only": false
    },
    "slideshow": {
     "slide_type": "slide"
    }
   },
   "outputs": [],
   "source": [
    "# un fichier est son propre itérateur\n",
    "with open(\"data/une-charogne.txt\") as F:\n",
    "    print(\"propre itérateur ? \",\n",
    "          is_iterator(F))"
   ]
  },
  {
   "cell_type": "code",
   "execution_count": null,
   "metadata": {
    "cell_style": "split"
   },
   "outputs": [],
   "source": [
    "# la liste non\n",
    "L = list(range(5))\n",
    "print(\"propre itérateur ? \",\n",
    "      is_iterator(L))"
   ]
  },
  {
   "cell_type": "code",
   "execution_count": null,
   "metadata": {
    "cell_style": "split"
   },
   "outputs": [],
   "source": [
    "# range() non plus \n",
    "R = range(5)\n",
    "print(\"propre itérateur ? \",\n",
    "      is_iterator(R))"
   ]
  },
  {
   "cell_type": "code",
   "execution_count": null,
   "metadata": {
    "cell_style": "split"
   },
   "outputs": [],
   "source": [
    "# range() non plus \n",
    "Z = zip(L, L)\n",
    "print(\"propre itérateur ? \",\n",
    "      is_iterator(Z))"
   ]
  },
  {
   "cell_type": "markdown",
   "metadata": {},
   "source": [
    "* de manière générale, un objet qui est un itérateur  \n",
    "  ne peut être itéré qu'une seule fois\n",
    "\n",
    "* attention donc par exemple à ne pas essayer  \n",
    "  d'itérer plusieurs fois sur le même objet `zip` "
   ]
  },
  {
   "cell_type": "markdown",
   "metadata": {
    "run_control": {
     "frozen": false,
     "read_only": false
    },
    "slideshow": {
     "slide_type": "slide"
    }
   },
   "source": [
    "# boucles pythoniques"
   ]
  },
  {
   "cell_type": "code",
   "execution_count": null,
   "metadata": {
    "cell_style": "split",
    "run_control": {
     "frozen": false,
     "read_only": false
    }
   },
   "outputs": [],
   "source": [
    "D = {\n",
    "    'alice': 35,\n",
    "    'bob': 9,\n",
    "    'charlie': 6,\n",
    "}\n",
    "\n",
    "# pas pythonique (implicite)\n",
    "for t in D.items():         \n",
    "    print(t[0], t[1])"
   ]
  },
  {
   "cell_type": "code",
   "execution_count": null,
   "metadata": {
    "cell_style": "split",
    "run_control": {
     "frozen": false,
     "read_only": false
    }
   },
   "outputs": [],
   "source": [
    "# pythonique (explicite)\n",
    "\n",
    "for nom, age in D.items():\n",
    "    print(nom, age)"
   ]
  }
 ],
 "metadata": {
  "kernelspec": {
   "display_name": "Python 3",
   "language": "python",
   "name": "python3"
  },
  "language_info": {
   "codemirror_mode": {
    "name": "ipython",
    "version": 3
   },
   "file_extension": ".py",
   "mimetype": "text/x-python",
   "name": "python",
   "nbconvert_exporter": "python",
   "pygments_lexer": "ipython3",
   "version": "3.7.0"
  },
  "notebookname": "les itérations en Python",
  "rise": {
   "autolaunch": true,
   "slideNumber": "c/t",
   "start_slideshow_at": "selected",
   "theme": "sky",
   "transition": "cube"
  },
  "version": "1.0"
 },
 "nbformat": 4,
 "nbformat_minor": 2
}
