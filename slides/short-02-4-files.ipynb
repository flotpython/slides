{
 "cells": [
  {
   "cell_type": "markdown",
   "metadata": {},
   "source": [
    "<div class=\"licence\">\n",
    "<span>Licence CC BY-NC-ND</span>\n",
    "<span>Thierry Parmentelat &amp; Arnaud Legout</span>\n",
    "</div>"
   ]
  },
  {
   "cell_type": "markdown",
   "metadata": {
    "run_control": {
     "frozen": false,
     "read_only": false
    },
    "slideshow": {
     "slide_type": "slide"
    }
   },
   "source": [
    "* lire et écrire un fichier est très facile en Python\n",
    "* ouvrir un fichier pour créer un objet \"fichier\"\n",
    "* `open('mon_fichier.txt', 'r')`\n",
    "  * `'r'` ouvre le fichier en lecture (défaut),\n",
    "  * `‘w’` en écriture,\n",
    "  * `‘a’` en écriture à la suite (*append*),"
   ]
  },
  {
   "cell_type": "markdown",
   "metadata": {
    "run_control": {
     "frozen": false,
     "read_only": false
    },
    "slideshow": {
     "slide_type": "slide"
    }
   },
   "source": [
    "### utilisez un `with`"
   ]
  },
  {
   "cell_type": "markdown",
   "metadata": {
    "run_control": {
     "frozen": false,
     "read_only": false
    }
   },
   "source": [
    "* prenez l'habitude de **toujours utiliser un context manager** "
   ]
  },
  {
   "cell_type": "code",
   "execution_count": null,
   "metadata": {
    "run_control": {
     "frozen": false,
     "read_only": false
    }
   },
   "outputs": [],
   "source": [
    "# on n'a pas encore étudié l'instruction with\n",
    "# mais je vous conseille de toujours procéder comme ceci\n",
    "\n",
    "# avec with on n'a pas besoin de fermer e fichier\n",
    "with open('temporaire.txt', 'w') as f:\n",
    "    for i in 10, 20, 30:\n",
    "        f.write(f'{i} {i**2}\\n')"
   ]
  },
  {
   "cell_type": "code",
   "execution_count": null,
   "metadata": {},
   "outputs": [],
   "source": [
    "!cat temporaire.txt"
   ]
  },
  {
   "cell_type": "markdown",
   "metadata": {
    "run_control": {
     "frozen": false,
     "read_only": false
    },
    "slideshow": {
     "slide_type": "slide"
    }
   },
   "source": [
    "# lecture"
   ]
  },
  {
   "cell_type": "markdown",
   "metadata": {
    "run_control": {
     "frozen": false,
     "read_only": false
    }
   },
   "source": [
    "* l'objet fichier est un **itérable** lui-même\n",
    "* on peut faire un `for` dessus"
   ]
  },
  {
   "cell_type": "code",
   "execution_count": null,
   "metadata": {
    "run_control": {
     "frozen": false,
     "read_only": false
    }
   },
   "outputs": [],
   "source": [
    "# lire un fichier texte ligne par ligne\n",
    "# on ne peut pas faire plus compact et lisible !\n",
    "\n",
    "# remarquez aussi:\n",
    "# open() sans le mode ⇔ open('r')\n",
    "\n",
    "with open('temporaire.txt') as f:\n",
    "    for line in f:\n",
    "        print(f\"-- {line}\", end='') "
   ]
  },
  {
   "cell_type": "markdown",
   "metadata": {
    "run_control": {
     "frozen": false,
     "read_only": false
    },
    "slideshow": {
     "slide_type": "slide"
    }
   },
   "source": [
    "# fichiers texte ou binaire"
   ]
  },
  {
   "cell_type": "markdown",
   "metadata": {
    "run_control": {
     "frozen": false,
     "read_only": false
    }
   },
   "source": [
    "* ajouter `'b'` au mode pour ouvrir **en binaire**\n",
    "  * pas de décodage\n",
    "  * travaille alors à base de **`bytes`** et non de `str`"
   ]
  },
  {
   "cell_type": "code",
   "execution_count": null,
   "metadata": {
    "cell_style": "center",
    "slideshow": {
     "slide_type": "slide"
    }
   },
   "outputs": [],
   "source": [
    "# j'ai besoin d'un objet bytes\n",
    "# rappelez vous la section sur Unicode\n",
    "text = \"noël en été\\n\"\n",
    "binaire = text.encode(encoding=\"utf-8\")\n",
    "\n",
    "binaire"
   ]
  },
  {
   "cell_type": "code",
   "execution_count": null,
   "metadata": {
    "cell_style": "center"
   },
   "outputs": [],
   "source": [
    "# remarquez le 'b' dans le mode d'ouverture\n",
    "\n",
    "with open('temporaire.bin', 'wb') as out_file:\n",
    "    # je peux du coup écrire un objet bytes\n",
    "    out_file.write(binaire)"
   ]
  },
  {
   "cell_type": "code",
   "execution_count": null,
   "metadata": {},
   "outputs": [],
   "source": [
    "!cat temporaire.bin"
   ]
  },
  {
   "cell_type": "code",
   "execution_count": null,
   "metadata": {
    "slideshow": {
     "slide_type": "slide"
    }
   },
   "outputs": [],
   "source": [
    "# pareil en lecture, le mode avec un 'b'\n",
    "# va faire que read() retourne un objet bytes\n",
    "\n",
    "with open('temporaire.bin', 'rb') as in_file:\n",
    "    binaire2 = in_file.read()"
   ]
  },
  {
   "cell_type": "code",
   "execution_count": null,
   "metadata": {
    "slideshow": {
     "slide_type": ""
    }
   },
   "outputs": [],
   "source": [
    "# et donc on retombe bien sur nos pieds\n",
    "binaire2 == binaire"
   ]
  },
  {
   "cell_type": "markdown",
   "metadata": {
    "run_control": {
     "frozen": false,
     "read_only": false
    },
    "slideshow": {
     "slide_type": "slide"
    }
   },
   "source": [
    "# le module `pathlib`"
   ]
  },
  {
   "cell_type": "markdown",
   "metadata": {
    "run_control": {
     "frozen": false,
     "read_only": false
    },
    "slideshow": {
     "slide_type": "-"
    }
   },
   "source": [
    "## objectifs\n",
    "\n",
    "* simplifier la gestion des noms de fichier \n",
    "* pour rendre le code plus concis\n",
    "* et donc plus lisible\n",
    "* sous-titre: *object-oriented filesystem paths*"
   ]
  },
  {
   "cell_type": "markdown",
   "metadata": {
    "run_control": {
     "frozen": false,
     "read_only": false
    },
    "slideshow": {
     "slide_type": "slide"
    }
   },
   "source": [
    "## présentation du module\n",
    "\n",
    "* voir [documentation complète](https://docs.python.org/3/library/pathlib.html)\n",
    "* et notamment un diagramme des classes \n",
    "  * `purepath` : manipulation sans le filesystem\n",
    "  * `path` : par exemple pour globbing (résoudre '*')\n",
    "* dispo dans librairie standard depuis python-3.4\n",
    "  * et aussi dans pypi, donc pour 2.7\n",
    "* ne gère pas\n",
    "  * les objets fichier (s'arrête à `open`)\n",
    "  * les urls"
   ]
  },
  {
   "cell_type": "markdown",
   "metadata": {
    "run_control": {
     "frozen": false,
     "read_only": false
    },
    "slideshow": {
     "slide_type": "slide"
    }
   },
   "source": [
    "## un exemple\n",
    "\n",
    "* orienté objet\n",
    "* le sujet devient plus visible\n",
    "* **NB**: un objet `Path` est immutable"
   ]
  },
  {
   "cell_type": "code",
   "execution_count": null,
   "metadata": {
    "run_control": {
     "frozen": false,
     "read_only": false
    }
   },
   "outputs": [],
   "source": [
    "# avec os.path\n",
    "import os.path\n",
    "\n",
    "config_dir = \"/etc/apache2\"\n",
    "if os.path.isdir(config_dir):\n",
    "    print(\"OUI\")"
   ]
  },
  {
   "cell_type": "code",
   "execution_count": null,
   "metadata": {
    "run_control": {
     "frozen": false,
     "read_only": false
    }
   },
   "outputs": [],
   "source": [
    "# avec pathlib\n",
    "from pathlib import Path\n",
    "\n",
    "config_path = Path(\"/etc/apache2\")\n",
    "if config_path.is_dir():\n",
    "    print(\"OUI\")"
   ]
  },
  {
   "cell_type": "markdown",
   "metadata": {
    "run_control": {
     "frozen": false,
     "read_only": false
    },
    "slideshow": {
     "slide_type": "slide"
    }
   },
   "source": [
    "## l'opérateur `/`"
   ]
  },
  {
   "cell_type": "markdown",
   "metadata": {
    "run_control": {
     "frozen": false,
     "read_only": false
    }
   },
   "source": [
    "* la fin de `os.path.join`"
   ]
  },
  {
   "cell_type": "code",
   "execution_count": null,
   "metadata": {
    "run_control": {
     "frozen": false,
     "read_only": false
    }
   },
   "outputs": [],
   "source": [
    "# un chemin absolu\n",
    "prefix = Path(\"/etc\")\n",
    "# le chemin absolu du directory courant\n",
    "dot = Path.cwd()\n",
    "# ou du homedir\n",
    "home = Path.home()\n",
    "# un nom de ficher\n",
    "filename = Path(\"apache\")\n",
    "\n",
    "# Path / Path -> Path bien sûr\n",
    "type(prefix / filename)"
   ]
  },
  {
   "cell_type": "code",
   "execution_count": null,
   "metadata": {
    "run_control": {
     "frozen": false,
     "read_only": false
    },
    "slideshow": {
     "slide_type": "slide"
    }
   },
   "outputs": [],
   "source": [
    "# Path / str -> Path\n",
    "type(prefix / \"apache2\")"
   ]
  },
  {
   "cell_type": "code",
   "execution_count": null,
   "metadata": {
    "run_control": {
     "frozen": false,
     "read_only": false
    }
   },
   "outputs": [],
   "source": [
    "# str / Path -> Path\n",
    "type(\"/etc\" / Path(\"apache2\"))"
   ]
  },
  {
   "cell_type": "code",
   "execution_count": null,
   "metadata": {
    "run_control": {
     "frozen": false,
     "read_only": false
    }
   },
   "outputs": [],
   "source": [
    "# On peut chainer le tout sans parenthèse \n",
    "# si le premier (à gauche) est un Path\n",
    "\n",
    "type(prefix / \"apache2\" / \"modules.d\")"
   ]
  },
  {
   "cell_type": "code",
   "execution_count": null,
   "metadata": {
    "run_control": {
     "frozen": false,
     "read_only": false
    }
   },
   "outputs": [],
   "source": [
    "# mais bien sûr str / str -> TypeError\n",
    "try:\n",
    "    \"/etc\" / \"apache2\"\n",
    "except Exception as e:\n",
    "    print(\"OOPS\", e)"
   ]
  },
  {
   "cell_type": "markdown",
   "metadata": {
    "run_control": {
     "frozen": false,
     "read_only": false
    },
    "slideshow": {
     "slide_type": "slide"
    }
   },
   "source": [
    "## décorticage"
   ]
  },
  {
   "cell_type": "markdown",
   "metadata": {
    "run_control": {
     "frozen": false,
     "read_only": false
    }
   },
   "source": [
    "* remplacement de `basename` et `dirname` et similaires"
   ]
  },
  {
   "cell_type": "code",
   "execution_count": null,
   "metadata": {
    "run_control": {
     "frozen": false,
     "read_only": false
    }
   },
   "outputs": [],
   "source": [
    "# un chemin vers le directory 'filepath-globbing' dans ce répertoire\n",
    "\n",
    "absolute = Path.cwd()\n",
    "relative = Path(\".\")\n",
    "\n",
    "globbing = absolute / \"filepath-globbing\"\n",
    "\n",
    "# retrouver le string\n",
    "str(globbing)"
   ]
  },
  {
   "cell_type": "code",
   "execution_count": null,
   "metadata": {
    "run_control": {
     "frozen": false,
     "read_only": false
    }
   },
   "outputs": [],
   "source": [
    "globbing.parts"
   ]
  },
  {
   "cell_type": "code",
   "execution_count": null,
   "metadata": {
    "run_control": {
     "frozen": false,
     "read_only": false
    }
   },
   "outputs": [],
   "source": [
    "# basename\n",
    "globbing.name"
   ]
  },
  {
   "cell_type": "code",
   "execution_count": null,
   "metadata": {
    "run_control": {
     "frozen": false,
     "read_only": false
    }
   },
   "outputs": [],
   "source": [
    "# dirname\n",
    "globbing.parent"
   ]
  },
  {
   "cell_type": "code",
   "execution_count": null,
   "metadata": {
    "run_control": {
     "frozen": false,
     "read_only": false
    }
   },
   "outputs": [],
   "source": [
    "list(globbing.parents)"
   ]
  },
  {
   "cell_type": "code",
   "execution_count": null,
   "metadata": {
    "run_control": {
     "frozen": false,
     "read_only": false
    },
    "slideshow": {
     "slide_type": "slide"
    }
   },
   "outputs": [],
   "source": [
    "# parce qu'on l'a construit à partir de cwd() qui est absolu\n",
    "globbing.is_absolute()"
   ]
  },
  {
   "cell_type": "code",
   "execution_count": null,
   "metadata": {
    "run_control": {
     "frozen": false,
     "read_only": false
    }
   },
   "outputs": [],
   "source": [
    "Path(\"globbing\").is_absolute()"
   ]
  },
  {
   "cell_type": "code",
   "execution_count": null,
   "metadata": {
    "run_control": {
     "frozen": false,
     "read_only": false
    }
   },
   "outputs": [],
   "source": [
    "# ancien abspath()\n",
    "globbing.resolve()"
   ]
  },
  {
   "cell_type": "code",
   "execution_count": null,
   "metadata": {
    "run_control": {
     "frozen": false,
     "read_only": false
    }
   },
   "outputs": [],
   "source": [
    "list(globbing.parents)[-2]"
   ]
  },
  {
   "cell_type": "code",
   "execution_count": null,
   "metadata": {
    "run_control": {
     "frozen": false,
     "read_only": false
    }
   },
   "outputs": [],
   "source": [
    "# ancien relpath()\n",
    "# juste pour rendre le notebook utilisable partout (windows?)\n",
    "level1 = list(globbing.parents)[-2]\n",
    "print(\"level1\", level1)\n",
    "# chez moi level1 vaut \"/Users\"\n",
    "globbing.relative_to(level1)"
   ]
  },
  {
   "cell_type": "markdown",
   "metadata": {
    "run_control": {
     "frozen": false,
     "read_only": false
    },
    "slideshow": {
     "slide_type": "slide"
    }
   },
   "source": [
    "## pattern-matching"
   ]
  },
  {
   "cell_type": "code",
   "execution_count": null,
   "metadata": {
    "cell_style": "center",
    "run_control": {
     "frozen": false,
     "read_only": false
    },
    "slideshow": {
     "slide_type": ""
    }
   },
   "outputs": [],
   "source": [
    "# est-ce que le nom de mon objet Path \n",
    "# a une certaine forme ?\n",
    "\n",
    "globbing.match(\"**/slides/*\")"
   ]
  },
  {
   "cell_type": "code",
   "execution_count": null,
   "metadata": {
    "run_control": {
     "frozen": false,
     "read_only": false
    }
   },
   "outputs": [],
   "source": [
    "globbing.match(\"**/*globbing*\")"
   ]
  },
  {
   "cell_type": "markdown",
   "metadata": {
    "run_control": {
     "frozen": false,
     "read_only": false
    },
    "slideshow": {
     "slide_type": "slide"
    }
   },
   "source": [
    "## pattern-matching"
   ]
  },
  {
   "cell_type": "markdown",
   "metadata": {
    "cell_style": "split"
   },
   "source": [
    "recherche dans un répertoire"
   ]
  },
  {
   "cell_type": "code",
   "execution_count": null,
   "metadata": {
    "cell_style": "split",
    "run_control": {
     "frozen": false,
     "read_only": false
    }
   },
   "outputs": [],
   "source": [
    "# un répertoire qui contient quelques fichiers\n",
    "!ls filepath-globbing/**"
   ]
  },
  {
   "cell_type": "code",
   "execution_count": null,
   "metadata": {
    "run_control": {
     "frozen": false,
     "read_only": false
    },
    "slideshow": {
     "slide_type": "slide"
    }
   },
   "outputs": [],
   "source": [
    "# à présent c'est plus intéressant\n",
    "# avec des chemins relatifs\n",
    "globbing = Path(\".\") / \"filepath-globbing\"\n",
    "\n",
    "list(globbing.glob(\"*\"))"
   ]
  },
  {
   "cell_type": "code",
   "execution_count": null,
   "metadata": {
    "run_control": {
     "frozen": false,
     "read_only": false
    }
   },
   "outputs": [],
   "source": [
    "list(globbing.glob(\"*[0-9]\"))"
   ]
  },
  {
   "cell_type": "code",
   "execution_count": null,
   "metadata": {
    "run_control": {
     "frozen": false,
     "read_only": false
    }
   },
   "outputs": [],
   "source": [
    "list(globbing.glob(\"**\"))"
   ]
  },
  {
   "cell_type": "code",
   "execution_count": null,
   "metadata": {
    "run_control": {
     "frozen": false,
     "read_only": false
    }
   },
   "outputs": [],
   "source": [
    "list(globbing.glob(\"**/*[0-9]\"))"
   ]
  },
  {
   "cell_type": "code",
   "execution_count": null,
   "metadata": {
    "run_control": {
     "frozen": false,
     "read_only": false
    }
   },
   "outputs": [],
   "source": [
    "str(globbing)"
   ]
  },
  {
   "cell_type": "markdown",
   "metadata": {
    "run_control": {
     "frozen": false,
     "read_only": false
    },
    "slideshow": {
     "slide_type": "slide"
    }
   },
   "source": [
    "## voir aussi\n",
    "\n",
    "* `exists`, `is_dir`, `is_file` ...\n",
    "* `stat` / `lstat` / `owner` pour les détails comme taille, permissions...\n",
    "* `rename`, `unlink`, `rmdir` \n",
    "* `iterdir` (`os.listdir`, mais pas `os.walk`)\n",
    "* `glob` - `rglob` \n",
    "* `open` / `{read,write}_{text_bytes}` / : wrappers \n",
    "* à nouveau: [documentation complète](https://docs.python.org/3/library/pathlib.html)"
   ]
  },
  {
   "cell_type": "markdown",
   "metadata": {
    "run_control": {
     "frozen": false,
     "read_only": false
    },
    "slideshow": {
     "slide_type": "slide"
    }
   },
   "source": [
    "## remplacement pour\n",
    "\n",
    "* le plus gros de `os.path`\n",
    "* certaines choses de `os`\n",
    "* `glob.glob`\n",
    "* `fnmatch`\n",
    "* contient un wrapper pour `open`"
   ]
  }
 ],
 "metadata": {
  "celltoolbar": "Slideshow",
  "jupytext": {
   "formats": "ipynb"
  },
  "kernelspec": {
   "display_name": "Python 3",
   "language": "python",
   "name": "python3"
  },
  "language_info": {
   "codemirror_mode": {
    "name": "ipython",
    "version": 3
   },
   "file_extension": ".py",
   "mimetype": "text/x-python",
   "name": "python",
   "nbconvert_exporter": "python",
   "pygments_lexer": "ipython3",
   "version": "3.7.4"
  },
  "notebookname": "fichiers",
  "rise": {
   "autolaunch": true,
   "slideNumber": "c/t",
   "start_slideshow_at": "selected",
   "theme": "sky",
   "transition": "cube"
  },
  "toc": {
   "colors": {
    "hover_highlight": "#DAA520",
    "running_highlight": "#FF0000",
    "selected_highlight": "#FFD700"
   },
   "moveMenuLeft": true,
   "nav_menu": {
    "height": "512px",
    "width": "252px"
   },
   "navigate_menu": true,
   "number_sections": true,
   "sideBar": true,
   "threshold": "2",
   "toc_cell": false,
   "toc_section_display": "block",
   "toc_window_display": false,
   "widenNotebook": false
  },
  "version": "1.0"
 },
 "nbformat": 4,
 "nbformat_minor": 2
}
