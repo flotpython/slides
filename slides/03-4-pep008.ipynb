{
 "cells": [
  {
   "cell_type": "markdown",
   "metadata": {},
   "source": [
    "<div class=\"licence\">\n",
    "<span>Licence CC BY-NC-ND</span>\n",
    "<span>Thierry Parmentelat &amp; Arnaud Legout</span>\n",
    "</div>"
   ]
  },
  {
   "cell_type": "markdown",
   "metadata": {},
   "source": [
    "# présentation du code"
   ]
  },
  {
   "cell_type": "markdown",
   "metadata": {
    "slideshow": {
     "slide_type": "slide"
    }
   },
   "source": [
    "## style de présentation du code\n",
    "\n",
    "* tout le code de la librairie standard obéit à des règles de présentation\n",
    "* elles ne sont pas imposées par le langage, **MAIS**\n",
    "* elles sont très largement appliquées\n",
    "* autant prendre de bonnes habitudes\n",
    "* survol rapide ici des traits les plus marquants"
   ]
  },
  {
   "cell_type": "markdown",
   "metadata": {
    "run_control": {
     "frozen": false,
     "read_only": false
    },
    "slideshow": {
     "slide_type": "slide"
    }
   },
   "source": [
    "## PEP-008"
   ]
  },
  {
   "cell_type": "markdown",
   "metadata": {},
   "source": [
    "[la note dite *PEP-008*](https://www.python.org/dev/peps/pep-0008/) donne une norme pour la présentation"
   ]
  },
  {
   "cell_type": "markdown",
   "metadata": {
    "cell_style": "split"
   },
   "source": [
    "OUI:\n",
    "\n",
    "* `fonction(a, b, c)`\n",
    "* `GLOBALE = 1000`\n",
    "* lignes de longueur <= 80 caractères"
   ]
  },
  {
   "cell_type": "markdown",
   "metadata": {
    "cell_style": "split"
   },
   "source": [
    "NON:\n",
    "\n",
    "* `fonction (a,b,c)`\n",
    "* `globale=1000`\n",
    "* lignes très longues"
   ]
  },
  {
   "cell_type": "markdown",
   "metadata": {},
   "source": [
    "on va voir tout ça un peu plus en détail"
   ]
  },
  {
   "cell_type": "markdown",
   "metadata": {
    "slideshow": {
     "slide_type": "slide"
    }
   },
   "source": [
    "## les espaces"
   ]
  },
  {
   "cell_type": "markdown",
   "metadata": {},
   "source": [
    "|  OUI  |  NON  |\n",
    "|------------------|---------------|\n",
    "| `a = 10` | ~~`a=10`~~ |\n",
    "| `L = [1, 2, 3, 4]` | ~~`L = [1,2,3,4]`~~ |\n",
    "| `D = ['k1': 'v1', 'k2': 'v2'}` | ~~`D = ['k1':'v1', 'k2' : 'v2'}`~~ | "
   ]
  },
  {
   "cell_type": "markdown",
   "metadata": {},
   "source": [
    "|  OUI  |  NON  |\n",
    "|------------------|---------------|\n",
    "| `def foo(a, b, c):` | ~~`def foo (a, b, c):`~~ | \n",
    "|                     | ~~`def foo(a,b,c):`~~ | \n",
    "| `res = foo(a, b, c)` | ~~`res = foo (a, b, c)`~~ |"
   ]
  },
  {
   "cell_type": "markdown",
   "metadata": {
    "slideshow": {
     "slide_type": "slide"
    }
   },
   "source": [
    "## les noms de variables"
   ]
  },
  {
   "cell_type": "markdown",
   "metadata": {
    "cell_style": "split"
   },
   "source": [
    "| type d'objet | catégorie |\n",
    "|------------------|---------------|\n",
    "| variable usuelle | 1 | \n",
    "| fonction | 1 |\n",
    "| module | 1 | \n",
    "| classe | 2 |"
   ]
  },
  {
   "cell_type": "markdown",
   "metadata": {
    "cell_style": "split"
   },
   "source": [
    "| catégorie |  OUI  |  NON  |\n",
    "|------|------------------|---------------|\n",
    "| 1    | `minuscule` | ~~`MAJUSCULE`~~ |\n",
    "| 1    | `deux_mots` | ~~`DeuxMots`~~  |\n",
    "| 2    | `Mixte`     | ~~`minuscule`~~ (sauf types prédéfinis) |\n",
    "| 2    | `DeuxMots`  | ~~`MAJUSCULE`~~ | "
   ]
  },
  {
   "cell_type": "markdown",
   "metadata": {
    "slideshow": {
     "slide_type": "slide"
    }
   },
   "source": [
    "## largeur de la page\n",
    "\n",
    "* dans sa version orthodoxe, la largeur de la page est limitée à 80 caractères\n",
    "* l'idée est de pouvoir juxtaposer plusieurs codes (3 voire 4 ) dans la largeur d'un écran moderne\n",
    "* on a parfois besoin de recourir à des astuces pour y arriver"
   ]
  },
  {
   "cell_type": "markdown",
   "metadata": {
    "run_control": {
     "frozen": false,
     "read_only": false
    },
    "slideshow": {
     "slide_type": "slide"
    }
   },
   "source": [
    "### longueur des lignes"
   ]
  },
  {
   "cell_type": "markdown",
   "metadata": {},
   "source": [
    "plusieurs astuces pour respecter une largeur fixe :"
   ]
  },
  {
   "cell_type": "code",
   "execution_count": null,
   "metadata": {},
   "outputs": [],
   "source": [
    "# 1. utiliser les parenthèses\n",
    "\n",
    "def foo():\n",
    "    if expression(args):\n",
    "        return (le_resultat() and de_l_expression() \n",
    "                and est_susceptible() and de_prendre()\n",
    "                and beaucoup_de_place())"
   ]
  },
  {
   "cell_type": "markdown",
   "metadata": {
    "run_control": {
     "frozen": false,
     "read_only": false
    },
    "slideshow": {
     "slide_type": "slide"
    }
   },
   "source": [
    "### longueur des lignes et parenthèses"
   ]
  },
  {
   "cell_type": "code",
   "execution_count": null,
   "metadata": {},
   "outputs": [],
   "source": [
    "# 2. ça marche aussi avec les {} et [] \n",
    "\n",
    "GLOBAL_MAP = [\n",
    "    {'shortcut': 'ctrl-w', 'function': 'RISE:render-all-cells'},\n",
    "    {'shortcut': 'ctrl-q', 'function': 'RISE:edit-all-cells'},\n",
    "]"
   ]
  },
  {
   "cell_type": "markdown",
   "metadata": {
    "run_control": {
     "frozen": false,
     "read_only": false
    },
    "slideshow": {
     "slide_type": "slide"
    }
   },
   "source": [
    "### longueur des lignes et chaines littérales"
   ]
  },
  {
   "cell_type": "code",
   "execution_count": null,
   "metadata": {},
   "outputs": [],
   "source": [
    "# 3. lorsqu'on a besoin de retourner des chaines de caractères très longues\n",
    "# on peut utiliser un conjonction de\n",
    "# * parenthèses\n",
    "# * concaténation des chaines dans le source\n",
    "\n",
    "def longue_chaine(nom, prenom):\n",
    "    return (\n",
    "        f\"<table><thead><tr><th>Nom</th><th>Prénom</th></tr></thead>\"\n",
    "        f\"<tbody><tr><td>{nom}</td><td>{prenom}</td></tr></tbody>\"\n",
    "        f\"</table>\"\n",
    "    )"
   ]
  },
  {
   "cell_type": "code",
   "execution_count": null,
   "metadata": {
    "cell_style": "split"
   },
   "outputs": [],
   "source": [
    "from IPython.display import HTML\n",
    "HTML(longue_chaine(\"Jean\", \"Dupont\"))"
   ]
  },
  {
   "cell_type": "markdown",
   "metadata": {
    "cell_style": "split"
   },
   "source": [
    "**NOTE**: pour ce genre d'application, utiliser plutôt une bibliothèque de *templating*."
   ]
  },
  {
   "cell_type": "markdown",
   "metadata": {
    "run_control": {
     "frozen": false,
     "read_only": false
    },
    "slideshow": {
     "slide_type": "slide"
    }
   },
   "source": [
    "### longueur des lignes : éviter le `\\`"
   ]
  },
  {
   "cell_type": "markdown",
   "metadata": {},
   "source": [
    "enfin il peut être utile de savoir qu'on peut 'échapper' les fins de ligne"
   ]
  },
  {
   "cell_type": "code",
   "execution_count": null,
   "metadata": {},
   "outputs": [],
   "source": [
    "# on **pourrait** écrire ça (sachez le lire) \n",
    "# mais je vous recommande de **ne pas faire comme ça**\n",
    "# essayez par exemple d'ajouter un espace juste après un \\ \n",
    "# ça ne se voit pas et pourtant ça fait tout planter\n",
    "\n",
    "def foo():\n",
    "    if expression(args):\n",
    "        return le_resultat() and de_l_expression() \\\n",
    "                and est_susceptible() and de_prendre() \\\n",
    "                and beaucoup_de_place()"
   ]
  },
  {
   "cell_type": "markdown",
   "metadata": {
    "run_control": {
     "frozen": false,
     "read_only": false
    },
    "slideshow": {
     "slide_type": "slide"
    }
   },
   "source": [
    "### longueur des lignes : les parenthèses c'est mieux"
   ]
  },
  {
   "cell_type": "code",
   "execution_count": null,
   "metadata": {
    "tags": [
     "raises-exception"
    ]
   },
   "outputs": [],
   "source": [
    "# faites plutôt comme ça: ajoutez une \n",
    "# paire de parenhèses, et bye bye les \\\n",
    "\n",
    "def foo():\n",
    "    if expression(args):\n",
    "        return (le_resultat() and de_l_expression()  \n",
    "                and est_susceptible() and de_prendre() \n",
    "                and beaucoup_de_place())"
   ]
  },
  {
   "cell_type": "markdown",
   "metadata": {
    "slideshow": {
     "slide_type": "slide"
    }
   },
   "source": [
    "## de nombreux outils"
   ]
  },
  {
   "cell_type": "markdown",
   "metadata": {
    "cell_style": "center"
   },
   "source": [
    "* il existe un très grand nombre d'outils de vérification de code Python\n",
    "* du plus simple qui vérifie seulement *PEP008* - par exemple `autopep8`\n",
    "* au plus compliqué - genre `pylint` - qui peut trouver \n",
    "  * les erreurs de frappe dans les noms de variable\n",
    "  * les imports inutiles"
   ]
  },
  {
   "cell_type": "markdown",
   "metadata": {
    "slideshow": {
     "slide_type": "slide"
    }
   },
   "source": [
    "### `autopep8`"
   ]
  },
  {
   "cell_type": "markdown",
   "metadata": {
    "cell_style": "split"
   },
   "source": [
    "pour rendre un code compatible, par exemple avec `autopep8`\n",
    "\n",
    "```bash\n",
    "# dans le terminal\n",
    "\n",
    "# installation (une bonne fois)\n",
    "pip install autopep8 \n",
    "```"
   ]
  },
  {
   "cell_type": "markdown",
   "metadata": {
    "cell_style": "split"
   },
   "source": [
    "avant de modifier votre fichier assurez-vous d'avoir un backup - par exemple un commit\n",
    "\n",
    "```bash\n",
    "# commiter foo.py\n",
    "git add foo.py\n",
    "git commit -m 'avant autopep8'\n",
    "\n",
    "# appliquer autopep8\n",
    "autopep8 -i foo.py\n",
    "\n",
    "# évaluer les dégâts\n",
    "git diff foo.py\n",
    "\n",
    "# revenir en arrière\n",
    "git checkout -- foo.py\n",
    "```"
   ]
  },
  {
   "cell_type": "markdown",
   "metadata": {
    "slideshow": {
     "slide_type": "slide"
    }
   },
   "source": [
    "### pour aller plus loin\n",
    "\n",
    "<https://www.python.org/dev/peps/pep-0008/>"
   ]
  }
 ],
 "metadata": {
  "celltoolbar": "Slideshow",
  "jupytext": {
   "cell_metadata_filter": "all",
   "formats": "ipynb",
   "notebook_metadata_filter": "all,-language_info,-toc,-jupytext.text_representation.jupytext_version"
  },
  "kernelspec": {
   "display_name": "Python 3",
   "language": "python",
   "name": "python3"
  },
  "language_info": {
   "codemirror_mode": {
    "name": "ipython",
    "version": 3
   },
   "file_extension": ".py",
   "mimetype": "text/x-python",
   "name": "python",
   "nbconvert_exporter": "python",
   "pygments_lexer": "ipython3",
   "version": "3.7.4"
  },
  "notebookname": "Présentation du code",
  "rise": {
   "autolaunch": true,
   "slideNumber": "c/t",
   "start_slideshow_at": "selected",
   "theme": "sky",
   "transition": "cube"
  },
  "toc": {
   "base_numbering": 1,
   "nav_menu": {},
   "number_sections": true,
   "sideBar": true,
   "skip_h1_title": false,
   "title_cell": "Table of Contents",
   "title_sidebar": "Contents",
   "toc_cell": false,
   "toc_position": {},
   "toc_section_display": true,
   "toc_window_display": false
  },
  "version": "1.0"
 },
 "nbformat": 4,
 "nbformat_minor": 4
}
