{
 "cells": [
  {
   "cell_type": "markdown",
   "metadata": {},
   "source": [
    "<div class=\"licence\">\n",
    "<span>Licence CC BY-NC-ND</span>\n",
    "<span>Thierry Parmentelat &amp; Arnaud Legout</span>\n",
    "</div>"
   ]
  },
  {
   "cell_type": "markdown",
   "metadata": {},
   "source": [
    "# présentation du code"
   ]
  },
  {
   "cell_type": "markdown",
   "metadata": {
    "slideshow": {
     "slide_type": "slide"
    }
   },
   "source": [
    "## style de présentation du code\n",
    "\n",
    "* tout le code de la librairie standard obéit à des règles de présentation\n",
    "* elles ne sont pas imposées par le langage, **MAIS**\n",
    "* elles sont très largement appliquées\n",
    "* autant prendre de bonnes habitudes\n",
    "* survol rapide ici des traits les plus marquants"
   ]
  },
  {
   "cell_type": "markdown",
   "metadata": {
    "slideshow": {
     "slide_type": "slide"
    }
   },
   "source": [
    "## les espaces"
   ]
  },
  {
   "cell_type": "markdown",
   "metadata": {},
   "source": [
    "|  OUI  |  NON  |\n",
    "|------------------|---------------|\n",
    "| `a = 10` | ~~`a=10`~~ |\n",
    "| `L = [1, 2, 3, 4]` | ~~`L = [1,2,3,4]`~~ |\n",
    "| `D = ['k1': 'v1', 'k2': 'v2'}` | ~~`D = ['k1':'v1', 'k2' : 'v2'}`~~ | "
   ]
  },
  {
   "cell_type": "markdown",
   "metadata": {},
   "source": [
    "|  OUI  |  NON  |\n",
    "|------------------|---------------|\n",
    "| `def foo(a, b, c):` | ~~`def foo (a, b, c):`~~ | \n",
    "|                     | ~~`def foo(a,b,c):`~~ | \n",
    "| `res = foo(a, b, c)` | ~~`res = foo (a, b, c)`~~ |"
   ]
  },
  {
   "cell_type": "markdown",
   "metadata": {
    "slideshow": {
     "slide_type": "slide"
    }
   },
   "source": [
    "## les noms de variables"
   ]
  },
  {
   "cell_type": "markdown",
   "metadata": {
    "cell_style": "split"
   },
   "source": [
    "| type d'objet | catégorie |\n",
    "|------------------|---------------|\n",
    "| variable usuelle | 1 | \n",
    "| fonction | 1 |\n",
    "| module | 1 | \n",
    "| classe | 2 |"
   ]
  },
  {
   "cell_type": "markdown",
   "metadata": {
    "cell_style": "split"
   },
   "source": [
    "| catégorie |  OUI  |  NON  |\n",
    "|------|------------------|---------------|\n",
    "| 1    | `minuscule` | ~~`MAJUSCULE`~~ |\n",
    "| 1    | `deux_mots` | ~~`DeuxMots`~~  |\n",
    "| 2    | `Mixte`     | ~~`minuscule`~~ (sauf types prédéfinis) |\n",
    "| 2    | `DeuxMots`  | ~~`MAJUSCULE`~~ | "
   ]
  },
  {
   "cell_type": "markdown",
   "metadata": {
    "slideshow": {
     "slide_type": "slide"
    }
   },
   "source": [
    "## largeur de la page\n",
    "\n",
    "* dans sa version orthodoxe, la largeur de la ge est limitée à 80 caractères\n",
    "* l'idée est de pouvoir juxtaposer plusieurs codes (3 voire 4 ) dans la largeur d'un écran moderne\n",
    "* on a parfois besoin de recourir à des astuces pour y arriver\n"
   ]
  },
  {
   "cell_type": "markdown",
   "metadata": {
    "slideshow": {
     "slide_type": "slide"
    }
   },
   "source": [
    "## de nombreux outils"
   ]
  },
  {
   "cell_type": "markdown",
   "metadata": {
    "cell_style": "center"
   },
   "source": [
    "* il existe un très grand nombre d'outils de vérification de code Python\n",
    "* du plus simple qui vérifie seulement *PEP008* - par exemple `autopep8`\n",
    "* au plus compliqué - genre `pylint` - qui peut trouver \n",
    "  * les erreurs de frappe dans les noms de variable\n",
    "  * les imports inutiles"
   ]
  },
  {
   "cell_type": "markdown",
   "metadata": {
    "slideshow": {
     "slide_type": "slide"
    }
   },
   "source": [
    "## `autopep8`"
   ]
  },
  {
   "cell_type": "markdown",
   "metadata": {
    "cell_style": "split"
   },
   "source": [
    "pour rendre un code compatible, par exemple avec `autopep8`\n",
    "\n",
    "```bash\n",
    "# dans le terminal\n",
    "\n",
    "# installation (une bonne fois)\n",
    "pip install autopep8 \n",
    "```"
   ]
  },
  {
   "cell_type": "markdown",
   "metadata": {
    "cell_style": "split"
   },
   "source": [
    "avant de modifier votre fichier assurez-vous d'avoir un backup - par exemple un commit\n",
    "\n",
    "```bash\n",
    "# commiter foo.py\n",
    "git add foo.py\n",
    "git commit -m 'avant autopep8'\n",
    "\n",
    "# appliquer autopep8\n",
    "autopep8 -i foo.py\n",
    "\n",
    "# évaluer les dégâts\n",
    "git diff foo.py\n",
    "\n",
    "# revenir en arrière\n",
    "git checkout -- foo.py\n",
    "```"
   ]
  },
  {
   "cell_type": "markdown",
   "metadata": {
    "slideshow": {
     "slide_type": "slide"
    }
   },
   "source": [
    "### pour aller plus loin\n",
    "\n",
    "<https://www.python.org/dev/peps/pep-0008/>"
   ]
  }
 ],
 "metadata": {
  "celltoolbar": "Slideshow",
  "kernelspec": {
   "display_name": "Python 3",
   "language": "python",
   "name": "python3"
  },
  "language_info": {
   "codemirror_mode": {
    "name": "ipython",
    "version": 3
   },
   "file_extension": ".py",
   "mimetype": "text/x-python",
   "name": "python",
   "nbconvert_exporter": "python",
   "pygments_lexer": "ipython3",
   "version": "3.7.4"
  },
  "notebookname": "Présentation du code",
  "rise": {
   "autolaunch": true,
   "slideNumber": "c/t",
   "start_slideshow_at": "selected",
   "theme": "sky",
   "transition": "cube"
  },
  "version": "1.0"
 },
 "nbformat": 4,
 "nbformat_minor": 2
}
