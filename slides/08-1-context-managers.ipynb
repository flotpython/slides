{
 "cells": [
  {
   "cell_type": "markdown",
   "metadata": {
    "run_control": {
     "frozen": false,
     "read_only": false
    }
   },
   "source": [
    "<div class=\"licence\">\n",
    "<span>Licence CC BY-NC-ND</span>\n",
    "<span>Thierry Parmentelat &amp; Arnaud Legout</span>\n",
    "</div>"
   ]
  },
  {
   "cell_type": "code",
   "execution_count": null,
   "metadata": {},
   "outputs": [],
   "source": [
    "from plan import plan; plan(\"avancé\", \"context\")"
   ]
  },
  {
   "cell_type": "markdown",
   "metadata": {
    "run_control": {
     "frozen": false,
     "read_only": false
    },
    "slideshow": {
     "slide_type": "slide"
    }
   },
   "source": [
    "# `with as` et *context manager*"
   ]
  },
  {
   "cell_type": "markdown",
   "metadata": {
    "run_control": {
     "frozen": false,
     "read_only": false
    }
   },
   "source": [
    "```\n",
    "with expression [as variable]:\n",
    "\twith-block\n",
    "```\n",
    "\n",
    "* redondant fonctionnellement à la clause `try` .. `finally`\n",
    "* évalue l'expression\n",
    "* applique sur le résutat le protocole de *context manager*\n",
    "  * similaire dans le principe au protocole d’itération\n",
    "  * permet d’avoir du code compact au détriment de la lisibilité"
   ]
  },
  {
   "cell_type": "markdown",
   "metadata": {
    "run_control": {
     "frozen": false,
     "read_only": false
    },
    "slideshow": {
     "slide_type": "slide"
    }
   },
   "source": [
    "# où on trouve des context managers"
   ]
  },
  {
   "cell_type": "markdown",
   "metadata": {
    "run_control": {
     "frozen": false,
     "read_only": false
    }
   },
   "source": [
    "* un objet fichier est un *context manager*\n",
    "* le fichier OS est fermé automatiquement à la fin du `with`\n",
    "```\n",
    "with open(\"../data/une-charogne.txt\") as mon_fichier:\n",
    "    for l in mon_fichier:\n",
    "        print(l)\n",
    "```\n",
    "\n",
    "* équivalent à\n",
    "```\n",
    "mon_fichier = open(\"../data/une-charogne.txt\")\n",
    "try:\n",
    "    for l in mon_fichier:\n",
    "        print(line)\n",
    "finally:\n",
    "    mon_fichier.close()\n",
    "```"
   ]
  },
  {
   "cell_type": "markdown",
   "metadata": {
    "run_control": {
     "frozen": false,
     "read_only": false
    },
    "slideshow": {
     "slide_type": "slide"
    }
   },
   "source": [
    "### protocole *context manager* (1)"
   ]
  },
  {
   "cell_type": "markdown",
   "metadata": {
    "run_control": {
     "frozen": false,
     "read_only": false
    }
   },
   "source": [
    "* l’objet résultat de l'expression doit avoir deux méthodes `__enter__` et `__exit__`\n",
    "* à l’entrée du contexte, `__enter__(self)` est exécuté;\n",
    "* le retour de `__enter__` est assigné à la variable mentionnée dans le `.. as var`\n",
    "* le code *with-block* est executé"
   ]
  },
  {
   "cell_type": "markdown",
   "metadata": {
    "run_control": {
     "frozen": false,
     "read_only": false
    },
    "slideshow": {
     "slide_type": "slide"
    }
   },
   "source": [
    "### protocole *context manager* (2)"
   ]
  },
  {
   "cell_type": "markdown",
   "metadata": {
    "run_control": {
     "frozen": false,
     "read_only": false
    }
   },
   "source": [
    "* s’il n’y a pas d’exception\n",
    "  * `__exit__(self, none, none, none)` est appelée, toujours sur le c.m.\n",
    "* s’il y a une exception\n",
    "  * `__exit__(self, exc_type, exc_value, exc_traceback)` est appelé\n",
    "  * `exc_type`, `exc_value`, `exc_traceback` sont les type, valeur et *traceback* de l’exception\n",
    "* le retour de `__exit__` est utilisé:  \n",
    "  si `False` ➔ l’exception est relancée  \n",
    "  si `True` ➔ l’exception est supprimée (étouffée)"
   ]
  },
  {
   "cell_type": "markdown",
   "metadata": {
    "run_control": {
     "frozen": false,
     "read_only": false
    },
    "slideshow": {
     "slide_type": "slide"
    }
   },
   "source": [
    "### exemple avec relance d’exception"
   ]
  },
  {
   "cell_type": "code",
   "execution_count": null,
   "metadata": {
    "run_control": {
     "frozen": false,
     "read_only": false
    }
   },
   "outputs": [],
   "source": [
    "# les instances de C peuvent être utilisées\n",
    "# dans un `with` \n",
    "class C():\n",
    "    \n",
    "    def __enter__(self):\n",
    "        print(\"dans enter()\")\n",
    "        return self\n",
    "\n",
    "    def __exit__(self, *args):\n",
    "        print(f\"__exit__: args={args}\")\n",
    "        return False   # relance l'exception\n",
    "\n",
    "    def div(self, a, b):\n",
    "        print(a/b)"
   ]
  },
  {
   "cell_type": "markdown",
   "metadata": {
    "run_control": {
     "frozen": false,
     "read_only": false
    },
    "slideshow": {
     "slide_type": "slide"
    }
   },
   "source": [
    "### exemple avec relance d’exception"
   ]
  },
  {
   "cell_type": "code",
   "execution_count": null,
   "metadata": {
    "run_control": {
     "frozen": false,
     "read_only": false
    }
   },
   "outputs": [],
   "source": [
    "import traceback\n",
    "\n",
    "try:\n",
    "    with C() as c:\n",
    "        c.div(1, 0)\n",
    "except:\n",
    "    traceback.print_exc()"
   ]
  },
  {
   "cell_type": "markdown",
   "metadata": {
    "run_control": {
     "frozen": false,
     "read_only": false
    },
    "slideshow": {
     "slide_type": "slide"
    }
   },
   "source": [
    "### exemple sans relance d’exception"
   ]
  },
  {
   "cell_type": "code",
   "execution_count": null,
   "metadata": {
    "run_control": {
     "frozen": false,
     "read_only": false
    }
   },
   "outputs": [],
   "source": [
    "class C():\n",
    "\n",
    "    def __enter__(self):\n",
    "        print(\"dans enter()\")\n",
    "        return self\n",
    "\n",
    "    def __exit__(self, *args):\n",
    "        print(f\"__exit__: args={args}\")\n",
    "        return True  # étouffe l'exception\n",
    "\n",
    "    def div(self, a, b):\n",
    "        print(a/b)"
   ]
  },
  {
   "cell_type": "markdown",
   "metadata": {
    "run_control": {
     "frozen": false,
     "read_only": false
    },
    "slideshow": {
     "slide_type": "slide"
    }
   },
   "source": [
    "# exemple sans relance d’exception"
   ]
  },
  {
   "cell_type": "code",
   "execution_count": null,
   "metadata": {
    "run_control": {
     "frozen": false,
     "read_only": false
    }
   },
   "outputs": [],
   "source": [
    "with C() as c:\n",
    "    c.div(1, 0)\n",
    "print(\"life goes on\")    "
   ]
  },
  {
   "cell_type": "markdown",
   "metadata": {
    "run_control": {
     "frozen": false,
     "read_only": false
    },
    "slideshow": {
     "slide_type": "slide"
    }
   },
   "source": [
    "### utilisation originale"
   ]
  },
  {
   "cell_type": "markdown",
   "metadata": {
    "run_control": {
     "frozen": false,
     "read_only": false
    }
   },
   "source": [
    "* on peut utiliser un *context manager* pour exécuter du code avant et après une opération\n",
    "  * par exemple, pour mesurer le temps d’exécution, même en cas d’exception\n",
    "  * c’est proche d’un décorateur"
   ]
  },
  {
   "cell_type": "markdown",
   "metadata": {
    "run_control": {
     "frozen": false,
     "read_only": false
    },
    "slideshow": {
     "slide_type": "slide"
    }
   },
   "source": [
    "# utilisation originale"
   ]
  },
  {
   "cell_type": "code",
   "execution_count": null,
   "metadata": {
    "run_control": {
     "frozen": false,
     "read_only": false
    }
   },
   "outputs": [],
   "source": [
    "import time\n",
    "\n",
    "class Timer():    \n",
    "\n",
    "    def __enter__(self):\n",
    "        self.start = time.time()\n",
    "        return self\n",
    "\n",
    "    def __exit__(self, *args):\n",
    "        self.end = time.time()\n",
    "        print(f\"durée d'exécution = {self.end - self.start:2f}\")\n",
    "        return False"
   ]
  },
  {
   "cell_type": "markdown",
   "metadata": {
    "run_control": {
     "frozen": false,
     "read_only": false
    },
    "slideshow": {
     "slide_type": "slide"
    }
   },
   "source": [
    "# utilisation originale"
   ]
  },
  {
   "cell_type": "code",
   "execution_count": null,
   "metadata": {
    "run_control": {
     "frozen": false,
     "read_only": false
    }
   },
   "outputs": [],
   "source": [
    "try:\n",
    "    with Timer() as t:\n",
    "        [x ** 3 for x in range(1000000)]\n",
    "        print(1/0)\n",
    "except:\n",
    "    traceback.print_exc()"
   ]
  },
  {
   "cell_type": "markdown",
   "metadata": {
    "run_control": {
     "frozen": false,
     "read_only": false
    },
    "slideshow": {
     "slide_type": "slide"
    }
   },
   "source": [
    "# pour aller plus loin"
   ]
  },
  {
   "cell_type": "markdown",
   "metadata": {
    "run_control": {
     "frozen": false,
     "read_only": false
    }
   },
   "source": [
    "* http://sametmax.com/gestion-des-erreurs-en-python/"
   ]
  }
 ],
 "metadata": {
  "jupytext": {
   "cell_metadata_filter": "all",
   "formats": "ipynb",
   "notebook_metadata_filter": "all,-language_info,-jupytext.text_representation.jupytext_version"
  },
  "kernelspec": {
   "display_name": "Python 3",
   "language": "python",
   "name": "python3"
  },
  "language_info": {
   "codemirror_mode": {
    "name": "ipython",
    "version": 3
   },
   "file_extension": ".py",
   "mimetype": "text/x-python",
   "name": "python",
   "nbconvert_exporter": "python",
   "pygments_lexer": "ipython3",
   "version": "3.7.4"
  },
  "notebookname": "context managers",
  "rise": {
   "autolaunch": true,
   "slideNumber": "c/t",
   "start_slideshow_at": "selected",
   "theme": "sky",
   "transition": "cube"
  },
  "toc": {
   "base_numbering": 1,
   "nav_menu": {
    "height": "512px",
    "width": "252px"
   },
   "number_sections": true,
   "sideBar": true,
   "skip_h1_title": false,
   "title_cell": "Table of Contents",
   "title_sidebar": "Contents",
   "toc_cell": false,
   "toc_position": {},
   "toc_section_display": "block",
   "toc_window_display": false
  },
  "version": "1.0"
 },
 "nbformat": 4,
 "nbformat_minor": 2
}
