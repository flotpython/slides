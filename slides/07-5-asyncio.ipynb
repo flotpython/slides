{
 "cells": [
  {
   "cell_type": "markdown",
   "metadata": {
    "run_control": {
     "frozen": false,
     "read_only": false
    },
    "slideshow": {
     "slide_type": "slide"
    }
   },
   "source": [
    "<div class=\"licence\">\n",
    "<span>Licence CC BY-NC-ND</span>\n",
    "<span>Thierry Parmentelat &amp; Arnaud Legout</span>\n",
    "</div>"
   ]
  },
  {
   "cell_type": "code",
   "execution_count": null,
   "metadata": {},
   "outputs": [],
   "source": [
    "from plan import plan; plan(\"compléments\", \"asyncio\")"
   ]
  },
  {
   "cell_type": "markdown",
   "metadata": {
    "run_control": {
     "frozen": false,
     "read_only": false
    },
    "slideshow": {
     "slide_type": "slide"
    }
   },
   "source": [
    "# `asyncio`"
   ]
  },
  {
   "cell_type": "markdown",
   "metadata": {
    "run_control": {
     "frozen": false,
     "read_only": false
    }
   },
   "source": [
    "### objectifs\n",
    "\n",
    "* faciliter l'écriture \"de code parallèle de manière séquentielle\"\n",
    "* parallèle: on fait **plusieurs choses** en même temps\n",
    "* séquentielle: ça se passe dans **un seul thread**\n",
    "* défini dans [pep3156](https://www.python.org/dev/peps/pep-3156/)"
   ]
  },
  {
   "cell_type": "markdown",
   "metadata": {
    "run_control": {
     "frozen": false,
     "read_only": false
    },
    "slideshow": {
     "slide_type": "slide"
    }
   },
   "source": [
    "## historique"
   ]
  },
  {
   "cell_type": "markdown",
   "metadata": {
    "run_control": {
     "frozen": false,
     "read_only": false
    },
    "slideshow": {
     "slide_type": ""
    }
   },
   "source": [
    "* défini comme une convergence \n",
    "* de différentes approches similaires\n",
    "* développées dans les frameworks web (tornado notamment)\n",
    "* dispo sous cette forme depuis python-3.5\n",
    "* et aussi en 3.4 avec une syntaxe différente"
   ]
  },
  {
   "cell_type": "markdown",
   "metadata": {
    "run_control": {
     "frozen": false,
     "read_only": false
    },
    "slideshow": {
     "slide_type": "slide"
    }
   },
   "source": [
    "# un exemple\n",
    "\n",
    "* récupérer plusieurs urls en parallèle"
   ]
  },
  {
   "cell_type": "code",
   "execution_count": null,
   "metadata": {
    "run_control": {
     "frozen": false,
     "read_only": false
    }
   },
   "outputs": [],
   "source": [
    "import asyncio\n",
    "import aiohttp\n",
    " \n",
    "async def asynchroneous(url):\n",
    "    async with aiohttp.ClientSession() as session:\n",
    "        print(f\"fetching {url}\")\n",
    "        async with session.get(url) as response:\n",
    "            print(f\"{url} returned status {response.status}\")\n",
    "            raw = await response.read()\n",
    "            print(f\"{url} returned {len(raw)} bytes\")"
   ]
  },
  {
   "cell_type": "code",
   "execution_count": null,
   "metadata": {
    "run_control": {
     "frozen": false,
     "read_only": false
    },
    "slideshow": {
     "slide_type": "slide"
    }
   },
   "outputs": [],
   "source": [
    "async def main(urls):\n",
    "    \"\"\"\n",
    "    Creates a group of coroutines and waits for them to finish\n",
    "    \"\"\"\n",
    "    return await asyncio.gather(* (asynchroneous(url) for url in urls))"
   ]
  },
  {
   "cell_type": "code",
   "execution_count": null,
   "metadata": {
    "run_control": {
     "frozen": false,
     "read_only": false
    }
   },
   "outputs": [],
   "source": [
    "urls = [\"http://www.irs.gov/pub/irs-pdf/f1040.pdf\",\n",
    "        \"http://www.irs.gov/pub/irs-pdf/f1040ez.pdf\",\n",
    "        \"http://www.irs.gov/pub/irs-pdf/f1040es.pdf\",\n",
    "        \"http://www.irs.gov/pub/irs-pdf/f1040sb.pdf\"]"
   ]
  },
  {
   "cell_type": "code",
   "execution_count": null,
   "metadata": {
    "run_control": {
     "frozen": false,
     "read_only": false
    },
    "slideshow": {
     "slide_type": "slide"
    }
   },
   "outputs": [],
   "source": [
    "import time\n",
    "begin = time.time()\n",
    "event_loop = asyncio.get_event_loop()\n",
    "event_loop.run_until_complete(main(urls))\n",
    "print(\"Durée totale {}s\".format(time.time() - begin))"
   ]
  },
  {
   "cell_type": "markdown",
   "metadata": {
    "run_control": {
     "frozen": false,
     "read_only": false
    },
    "slideshow": {
     "slide_type": "slide"
    }
   },
   "source": [
    "## pour comparer"
   ]
  },
  {
   "cell_type": "code",
   "execution_count": null,
   "metadata": {},
   "outputs": [],
   "source": [
    "# en version purement séquentielle\n",
    "import requests\n",
    "\n",
    "def synchroneous(url):\n",
    "    print(f\"fetching {url} synchroneously (blocking)\")\n",
    "    response = requests.get(url)\n",
    "    print(f\"{url} returned status {response.status_code}\")\n",
    "    print(f\"{url} returned {len(response.text)} chars\")"
   ]
  },
  {
   "cell_type": "code",
   "execution_count": null,
   "metadata": {
    "run_control": {
     "frozen": false,
     "read_only": false
    },
    "slideshow": {
     "slide_type": "slide"
    }
   },
   "outputs": [],
   "source": [
    "import time\n",
    "begin = time.time()\n",
    "for url in urls:\n",
    "    synchroneous(url)\n",
    "print(\"Durée totale {}s\".format(time.time() - begin))"
   ]
  },
  {
   "cell_type": "markdown",
   "metadata": {
    "run_control": {
     "frozen": false,
     "read_only": false
    },
    "slideshow": {
     "slide_type": "slide"
    }
   },
   "source": [
    "# bien remarquer"
   ]
  },
  {
   "cell_type": "markdown",
   "metadata": {
    "run_control": {
     "frozen": false,
     "read_only": false
    },
    "slideshow": {
     "slide_type": ""
    }
   },
   "source": [
    "* dans notre exemple nous n'avons défini aucune callback\n",
    "* ni aucun *thread*\n",
    "* le code de la version `asyncio` \n",
    "  * a un flux de contrôle 'normal'\n",
    "  * même si on découpe un peu plus finement l'algorithme\n",
    "* on pourrait faire tourner en parallèle n'importe quelle tâche réactive\n",
    "  * comme réagir à une entrée clavier\n",
    "  * faire tourner un processus séparé\n",
    "  * lire un fichier local..."
   ]
  },
  {
   "cell_type": "markdown",
   "metadata": {
    "run_control": {
     "frozen": false,
     "read_only": false
    },
    "slideshow": {
     "slide_type": "slide"
    }
   },
   "source": [
    "# les morceaux"
   ]
  },
  {
   "cell_type": "markdown",
   "metadata": {
    "run_control": {
     "frozen": false,
     "read_only": false
    },
    "slideshow": {
     "slide_type": ""
    }
   },
   "source": [
    "##### syntaxe:\n",
    "\n",
    "* `async def` pour définir une fonction asynchrone\n",
    "* `await <expr>` pour attendre un résultat asynchrone\n",
    "* `await for` pour un itérateur qui attend à chaque tour\n",
    "* `await with` ditto pour un context manager\n",
    "\n",
    "##### librairie `asyncio`\n",
    "\n",
    "* une boucle d'événement, par exemple `asyncio.get_event_loop()`\n",
    "* le coeur de la librairie est collé à l'OS et tire parti du framework"
   ]
  },
  {
   "cell_type": "markdown",
   "metadata": {
    "run_control": {
     "frozen": false,
     "read_only": false
    },
    "slideshow": {
     "slide_type": "slide"
    }
   },
   "source": [
    "# pourquoi c'est mieux que des threads"
   ]
  },
  {
   "cell_type": "markdown",
   "metadata": {
    "run_control": {
     "frozen": false,
     "read_only": false
    },
    "slideshow": {
     "slide_type": ""
    }
   },
   "source": [
    "* l'instruction `await`\n",
    "  * pour indiquer les points où on peut changer de contexte\n",
    "* contrairement à ce qui se passe en multi-thread\n",
    "  * où on passe d'un thread à l'autre de manière non controlée\n",
    "* pas (beaucoup moins) de **section critiques**\n",
    "  * moins de charge sur le programmeur\n",
    "* globalement plus efficace"
   ]
  },
  {
   "cell_type": "markdown",
   "metadata": {
    "run_control": {
     "frozen": false,
     "read_only": false
    },
    "slideshow": {
     "slide_type": "slide"
    }
   },
   "source": [
    "# un autre exemple"
   ]
  },
  {
   "cell_type": "code",
   "execution_count": null,
   "metadata": {
    "run_control": {
     "frozen": false,
     "read_only": false
    }
   },
   "outputs": [],
   "source": [
    "import asyncio\n",
    "# quelque chose de plus basique\n",
    "\n",
    "async def mysleep(duration):\n",
    "    print(\"Entrée dans {duration}\".format(**locals()))\n",
    "    await asyncio.sleep(duration)\n",
    "    print(\"Sortie de {duration}\".format(**locals()))"
   ]
  },
  {
   "cell_type": "code",
   "execution_count": null,
   "metadata": {
    "run_control": {
     "frozen": false,
     "read_only": false
    }
   },
   "outputs": [],
   "source": [
    "loop = asyncio.get_event_loop()\n",
    "loop.run_until_complete(\n",
    "    asyncio.gather(mysleep(1), mysleep(0.5), mysleep(1.5)))"
   ]
  },
  {
   "cell_type": "markdown",
   "metadata": {
    "run_control": {
     "frozen": false,
     "read_only": false
    },
    "slideshow": {
     "slide_type": "slide"
    }
   },
   "source": [
    "# ce qu'il faut retenir"
   ]
  },
  {
   "cell_type": "markdown",
   "metadata": {
    "run_control": {
     "frozen": false,
     "read_only": false
    },
    "slideshow": {
     "slide_type": ""
    }
   },
   "source": [
    "* quasi totalité des librairies réseau disponibles\n",
    "  * http, telnet, ssh, ...\n",
    "* et pour subprocess (natif dans `asyncio`)\n",
    "* préférez cette solution \n",
    "  * dès que vous devez faire quelque chose de réactif\n",
    "  * de préférence aux threads"
   ]
  },
  {
   "cell_type": "markdown",
   "metadata": {
    "run_control": {
     "frozen": false,
     "read_only": false
    },
    "slideshow": {
     "slide_type": "slide"
    }
   },
   "source": [
    "# comment ça marche\n",
    "\n",
    "* à l'origine il y a les fonctions génératrices"
   ]
  },
  {
   "cell_type": "code",
   "execution_count": null,
   "metadata": {
    "run_control": {
     "frozen": false,
     "read_only": false
    }
   },
   "outputs": [],
   "source": [
    "def gen_range(n):\n",
    "    i = 0\n",
    "    while i <= n:\n",
    "        yield i\n",
    "        i += 1"
   ]
  },
  {
   "cell_type": "code",
   "execution_count": null,
   "metadata": {
    "run_control": {
     "frozen": false,
     "read_only": false
    }
   },
   "outputs": [],
   "source": [
    "def enumerer():\n",
    "    for x in gen_range(2):\n",
    "        print(x)\n",
    "\n",
    "enumerer()"
   ]
  },
  {
   "cell_type": "markdown",
   "metadata": {
    "run_control": {
     "frozen": false,
     "read_only": false
    },
    "slideshow": {
     "slide_type": "slide"
    }
   },
   "source": [
    "# fonctions génératrices "
   ]
  },
  {
   "cell_type": "markdown",
   "metadata": {
    "run_control": {
     "frozen": false,
     "read_only": false
    },
    "slideshow": {
     "slide_type": ""
    }
   },
   "source": [
    "* déjà à ce stade il se passe quelque chose de *magique*\n",
    "* ou en tous cas de pas simple à implémenter avec un pc et une pile\n",
    "* python 'séquentiel' a déjà un mécanisme \n",
    "  * pour mettre au freezer une fonction et son contexte"
   ]
  },
  {
   "cell_type": "markdown",
   "metadata": {
    "run_control": {
     "frozen": false,
     "read_only": false
    },
    "slideshow": {
     "slide_type": "slide"
    }
   },
   "source": [
    "# coroutine"
   ]
  },
  {
   "cell_type": "markdown",
   "metadata": {
    "run_control": {
     "frozen": false,
     "read_only": false
    },
    "slideshow": {
     "slide_type": ""
    }
   },
   "source": [
    "* une coroutine (`async def`) est une généralisation de fonction génératrice\n",
    "* historiquement `await` s'appelait `yield from`"
   ]
  }
 ],
 "metadata": {
  "kernelspec": {
   "display_name": "Python 3",
   "language": "python",
   "name": "python3"
  },
  "language_info": {
   "codemirror_mode": {
    "name": "ipython",
    "version": 3
   },
   "file_extension": ".py",
   "mimetype": "text/x-python",
   "name": "python",
   "nbconvert_exporter": "python",
   "pygments_lexer": "ipython3",
   "version": "3.7.0"
  },
  "notebookname": "NO HEADING 1 found",
  "rise": {
   "autolaunch": true,
   "backimage": "media/nologo.png",
   "slideNumber": "c/t",
   "start_slideshow_at": "selected",
   "theme": "sky",
   "transition": "cube"
  },
  "toc": {
   "colors": {
    "hover_highlight": "#DAA520",
    "running_highlight": "#FF0000",
    "selected_highlight": "#FFD700"
   },
   "moveMenuLeft": true,
   "nav_menu": {
    "height": "12px",
    "width": "252px"
   },
   "navigate_menu": true,
   "number_sections": true,
   "sideBar": true,
   "threshold": "2",
   "toc_cell": false,
   "toc_section_display": "block",
   "toc_window_display": false,
   "widenNotebook": false
  },
  "version": "1.0"
 },
 "nbformat": 4,
 "nbformat_minor": 2
}
