{
 "cells": [
  {
   "cell_type": "markdown",
   "metadata": {
    "run_control": {
     "frozen": false,
     "read_only": false
    },
    "slideshow": {
     "slide_type": "slide"
    }
   },
   "source": [
    "<div class=\"licence\">\n",
    "<span>Licence CC BY-NC-ND</span>\n",
    "<span>Thierry Parmentelat &amp; Arnaud Legout</span>\n",
    "</div>"
   ]
  },
  {
   "cell_type": "code",
   "execution_count": null,
   "metadata": {
    "run_control": {
     "frozen": false,
     "read_only": false
    },
    "slideshow": {
     "slide_type": ""
    }
   },
   "outputs": [],
   "source": [
    "from plan import plan; plan(\"modules\", \"modules\")"
   ]
  },
  {
   "cell_type": "markdown",
   "metadata": {
    "run_control": {
     "frozen": false,
     "read_only": false
    },
    "slideshow": {
     "slide_type": "slide"
    }
   },
   "source": [
    "# pour réutiliser du code en Python"
   ]
  },
  {
   "cell_type": "markdown",
   "metadata": {
    "run_control": {
     "frozen": false,
     "read_only": false
    }
   },
   "source": [
    "* fonctions\n",
    "  * pas d'état après exécution\n",
    "* **modules**\n",
    "  * **garde l'état**\n",
    "  * **une seule instance par programme**\n",
    "* classes\n",
    "  * instances multiples\n",
    "  * chacune garde l'état\n",
    "  * héritage"
   ]
  },
  {
   "cell_type": "markdown",
   "metadata": {
    "run_control": {
     "frozen": false,
     "read_only": false
    },
    "slideshow": {
     "slide_type": "slide"
    }
   },
   "source": [
    "# à quoi sert un module ?"
   ]
  },
  {
   "cell_type": "markdown",
   "metadata": {
    "run_control": {
     "frozen": false,
     "read_only": false
    }
   },
   "source": [
    "* réutilisation du code\n",
    "  * un module peut être importé n’importe où\n",
    "* séparation de l’espace de nommage\n",
    "  * un module définit essentiellement un espace de nommage\n",
    "* utilisation des modules\n",
    "  * un fichier top-level (celui qui est exécuté)  \n",
    "    importe des modules\n",
    "\n",
    "  * chaque module peut également importer d’autres modules"
   ]
  },
  {
   "cell_type": "markdown",
   "metadata": {
    "run_control": {
     "frozen": false,
     "read_only": false
    },
    "slideshow": {
     "slide_type": "slide"
    }
   },
   "source": [
    "# à quoi sert un module ?"
   ]
  },
  {
   "cell_type": "markdown",
   "metadata": {
    "run_control": {
     "frozen": false,
     "read_only": false
    }
   },
   "source": [
    "* on peut voir les modules comme des boîtes à outils\n",
    "  * que `import` permet de charger dans son espace de travail\n",
    "* des centaines de modules sont livrés avec Python\n",
    "  * c’est la librairie standard \n",
    "* des milliers de librairies tierces sont disponibles\n",
    "  * voir PyPI - the Python Package Index  \n",
    "    https://pypi.org/"
   ]
  },
  {
   "cell_type": "markdown",
   "metadata": {
    "run_control": {
     "frozen": false,
     "read_only": false
    },
    "slideshow": {
     "slide_type": "slide"
    }
   },
   "source": [
    "# création d’un module"
   ]
  },
  {
   "cell_type": "markdown",
   "metadata": {
    "run_control": {
     "frozen": false,
     "read_only": false
    }
   },
   "source": [
    "* un module est un objet python \n",
    "  * correspondant au chargement \n",
    "  * d'un fichier ou répertoire source\n",
    "* dans le cas d'un répertoire on parle alors d'un *package*\n",
    "* le nom d'un fichier doit finir par `.py`\n",
    "* le préfixe suit les règles des variables\n",
    "  * i.e. pas de `-` mais des `_`"
   ]
  },
  {
   "cell_type": "markdown",
   "metadata": {
    "run_control": {
     "frozen": false,
     "read_only": false
    },
    "slideshow": {
     "slide_type": "slide"
    }
   },
   "source": [
    "# importation d’un module"
   ]
  },
  {
   "cell_type": "code",
   "execution_count": null,
   "metadata": {
    "cell_style": "split",
    "run_control": {
     "frozen": false,
     "read_only": false
    }
   },
   "outputs": [],
   "source": [
    "!cat mod.py"
   ]
  },
  {
   "cell_type": "code",
   "execution_count": null,
   "metadata": {
    "cell_style": "split",
    "run_control": {
     "frozen": false,
     "read_only": false
    }
   },
   "outputs": [],
   "source": [
    "# je peux l'importer\n",
    "import mod"
   ]
  },
  {
   "cell_type": "code",
   "execution_count": null,
   "metadata": {},
   "outputs": [],
   "source": [
    "mod"
   ]
  },
  {
   "cell_type": "code",
   "execution_count": null,
   "metadata": {
    "cell_style": "split",
    "run_control": {
     "frozen": false,
     "read_only": false
    }
   },
   "outputs": [],
   "source": [
    "mod.spam('good')"
   ]
  },
  {
   "cell_type": "markdown",
   "metadata": {
    "run_control": {
     "frozen": false,
     "read_only": false
    }
   },
   "source": [
    "* le nom `mod` dans `import mod` sert à trouver le fichier `mod.py`, \n",
    "* mais **aussi à nommer** l’objet représentant le module importé\n",
    "* la syntaxe `mod.` donne accès aux **attributs** du module"
   ]
  },
  {
   "cell_type": "markdown",
   "metadata": {
    "run_control": {
     "frozen": false,
     "read_only": false
    },
    "slideshow": {
     "slide_type": "slide"
    }
   },
   "source": [
    "# définition de la notion d’attribut"
   ]
  },
  {
   "cell_type": "markdown",
   "metadata": {
    "run_control": {
     "frozen": false,
     "read_only": false
    }
   },
   "source": [
    "* un attribut est une annotation sur un objet (ici le module `mod`)\n",
    "  * qui associe un nom (ici `spam`) à un autre objet (la fonction)\n",
    "  * on référence un attribut par `obj.attribute`\n",
    "* un attribut n'est **pas une variable**\n",
    "  * les variables sont résolues par liaison lexicale\n",
    "  * les attributs sont résolus à run-time\n",
    "  * on en reparlera longuement"
   ]
  },
  {
   "cell_type": "markdown",
   "metadata": {
    "run_control": {
     "frozen": false,
     "read_only": false
    },
    "slideshow": {
     "slide_type": "slide"
    }
   },
   "source": [
    "### définition de la notion d’attribut"
   ]
  },
  {
   "cell_type": "markdown",
   "metadata": {
    "run_control": {
     "frozen": false,
     "read_only": false
    }
   },
   "source": [
    "* on peut attacher un attribut à une grande variété d'objets\n",
    "  * modules, packages, classes, instances, fonctions, ..\n",
    "* mais pas attacher aux classes ni instances de classes natives"
   ]
  },
  {
   "cell_type": "code",
   "execution_count": null,
   "metadata": {
    "run_control": {
     "frozen": false,
     "read_only": false
    }
   },
   "outputs": [],
   "source": [
    "# on ne peut pas attacher d'attribut aux classes natives \n",
    "x = 3\n",
    "try:\n",
    "    x.foo = 12\n",
    "except AttributeError as e:\n",
    "    print(\"OOPS\", e)"
   ]
  },
  {
   "cell_type": "markdown",
   "metadata": {
    "run_control": {
     "frozen": false,
     "read_only": false
    },
    "slideshow": {
     "slide_type": "slide"
    }
   },
   "source": [
    "### définition de la notion d’attribut"
   ]
  },
  {
   "cell_type": "markdown",
   "metadata": {
    "run_control": {
     "frozen": false,
     "read_only": false
    }
   },
   "source": [
    "* les familles d'objets où les attributs sont les plus utilisés\n",
    "  * modules et packages - on va le voir tout de suite\n",
    "  * instances et classes - pour la POO\n",
    "  * fonctions - cf. introspection"
   ]
  },
  {
   "cell_type": "markdown",
   "metadata": {
    "run_control": {
     "frozen": false,
     "read_only": false
    },
    "slideshow": {
     "slide_type": "slide"
    }
   },
   "source": [
    "### définition de la notion d’attribut"
   ]
  },
  {
   "cell_type": "markdown",
   "metadata": {
    "run_control": {
     "frozen": false,
     "read_only": false
    }
   },
   "source": [
    "on verra que c'est le coeur de la POO"
   ]
  },
  {
   "cell_type": "code",
   "execution_count": null,
   "metadata": {
    "run_control": {
     "frozen": false,
     "read_only": false
    }
   },
   "outputs": [],
   "source": [
    "# en anticipant un peu\n",
    "# je crée un classe vide\n",
    "class Foo: \n",
    "    pass\n",
    "# et une instance de cette classe\n",
    "foo = Foo()\n",
    "# je peux créer l'attribut 'name'\n",
    "foo.name = 'Jean'"
   ]
  },
  {
   "cell_type": "markdown",
   "metadata": {
    "run_control": {
     "frozen": false,
     "read_only": false
    },
    "slideshow": {
     "slide_type": "slide"
    }
   },
   "source": [
    "# espace de nommage"
   ]
  },
  {
   "cell_type": "markdown",
   "metadata": {
    "run_control": {
     "frozen": false,
     "read_only": false
    }
   },
   "source": [
    "* un espace de nommage est une association entre attributs et objets\n",
    "* souvent implémenté par un dictionnaire appelé `__dict__`\n",
    "* deux espaces de nom sont étanches\n",
    "  * peuvent avoir tous les deux un attribut disons `name`"
   ]
  },
  {
   "cell_type": "markdown",
   "metadata": {
    "run_control": {
     "frozen": false,
     "read_only": false
    },
    "slideshow": {
     "slide_type": "slide"
    }
   },
   "source": [
    "### espace de nommage"
   ]
  },
  {
   "cell_type": "markdown",
   "metadata": {
    "run_control": {
     "frozen": false,
     "read_only": false
    },
    "slideshow": {
     "slide_type": ""
    }
   },
   "source": [
    "* un module est un bon exemple d'espace de nommage\n",
    "* les symboles (fonctions, variables, classes) \n",
    "  * définis au top-level dans le module, e.g. globales\n",
    "  * sont ajoutés dans l'espace de nommage attaché au module\n",
    "* ex: `mod.spam`\n",
    "  * correspond à la clé `spam` dans `mod.__dict__`"
   ]
  },
  {
   "cell_type": "code",
   "execution_count": null,
   "metadata": {
    "run_control": {
     "frozen": false,
     "read_only": false
    }
   },
   "outputs": [],
   "source": [
    "mod.spam is mod.__dict__['spam']"
   ]
  },
  {
   "cell_type": "markdown",
   "metadata": {
    "run_control": {
     "frozen": false,
     "read_only": false
    },
    "slideshow": {
     "slide_type": "slide"
    }
   },
   "source": [
    "### `from module import name`"
   ]
  },
  {
   "cell_type": "code",
   "execution_count": null,
   "metadata": {
    "cell_style": "split",
    "run_control": {
     "frozen": false,
     "read_only": false
    }
   },
   "outputs": [],
   "source": [
    "from mod import spam\n",
    "spam('direct') "
   ]
  },
  {
   "cell_type": "code",
   "execution_count": null,
   "metadata": {
    "cell_style": "split"
   },
   "outputs": [],
   "source": [
    "# un peu comme\n",
    "# spam = mod.spam"
   ]
  },
  {
   "cell_type": "markdown",
   "metadata": {
    "run_control": {
     "frozen": false,
     "read_only": false
    }
   },
   "source": [
    "* `from mod import spam`\n",
    "  * copie le nom d’attribut `spam`\n",
    "  * du module `mod`\n",
    "  * dans l’espace de nommage local\n",
    "  * plus besoin de la référence au nom du module"
   ]
  },
  {
   "cell_type": "markdown",
   "metadata": {
    "run_control": {
     "frozen": false,
     "read_only": false
    },
    "slideshow": {
     "slide_type": "slide"
    }
   },
   "source": [
    "### `import modulename as name`"
   ]
  },
  {
   "cell_type": "code",
   "execution_count": null,
   "metadata": {
    "cell_style": "split"
   },
   "outputs": [],
   "source": [
    "import mod as mymod\n",
    "mymod.spam(\"module renamed\")"
   ]
  },
  {
   "cell_type": "code",
   "execution_count": null,
   "metadata": {
    "cell_style": "split"
   },
   "outputs": [],
   "source": [
    "# un peu comme\n",
    "# import mod\n",
    "# mymod = mod\n",
    "# del mod"
   ]
  },
  {
   "cell_type": "markdown",
   "metadata": {
    "run_control": {
     "frozen": false,
     "read_only": false
    },
    "slideshow": {
     "slide_type": "slide"
    }
   },
   "source": [
    "### `from modulename import name as newname`"
   ]
  },
  {
   "cell_type": "code",
   "execution_count": null,
   "metadata": {
    "cell_style": "split",
    "run_control": {
     "frozen": false,
     "read_only": false
    }
   },
   "outputs": [],
   "source": [
    "from mod import spam as myspam\n",
    "myspam('renamed function')"
   ]
  },
  {
   "cell_type": "code",
   "execution_count": null,
   "metadata": {
    "cell_style": "split"
   },
   "outputs": [],
   "source": [
    "# un peu comme\n",
    "# import mod\n",
    "# myspam = mod.spam\n",
    "# del mod"
   ]
  },
  {
   "cell_type": "markdown",
   "metadata": {
    "run_control": {
     "frozen": false,
     "read_only": false
    },
    "slideshow": {
     "slide_type": "slide"
    }
   },
   "source": [
    "### `import dir.dir2.modulename`"
   ]
  },
  {
   "cell_type": "code",
   "execution_count": null,
   "metadata": {
    "cell_style": "split",
    "run_control": {
     "frozen": false,
     "read_only": false
    }
   },
   "outputs": [],
   "source": [
    "!cat pack1/pack2/mod.py"
   ]
  },
  {
   "cell_type": "code",
   "execution_count": null,
   "metadata": {
    "cell_style": "split"
   },
   "outputs": [],
   "source": [
    "import pack1.pack2.mod\n",
    "pack1.pack2.mod.FOO"
   ]
  },
  {
   "cell_type": "markdown",
   "metadata": {
    "cell_style": "center"
   },
   "source": [
    "* on peut donc importer un sous-module dans un package  \n",
    "  on reparlera plus longuement des packages\n",
    "\n",
    "* on peut aussi utiliser `as`:"
   ]
  },
  {
   "cell_type": "code",
   "execution_count": null,
   "metadata": {
    "cell_style": "center"
   },
   "outputs": [],
   "source": [
    "import pack1.pack2.mod as submod\n",
    "submod.eggs()"
   ]
  },
  {
   "cell_type": "markdown",
   "metadata": {
    "run_control": {
     "frozen": false,
     "read_only": false
    },
    "slideshow": {
     "slide_type": "slide"
    }
   },
   "source": [
    "### autres importations"
   ]
  },
  {
   "cell_type": "code",
   "execution_count": null,
   "metadata": {
    "cell_style": "split",
    "run_control": {
     "frozen": false,
     "read_only": false
    }
   },
   "outputs": [],
   "source": [
    "from mod import *\n",
    "spam('star')"
   ]
  },
  {
   "cell_type": "code",
   "execution_count": null,
   "metadata": {
    "cell_style": "split"
   },
   "outputs": [],
   "source": [
    "# un peu comme\n",
    "# mod.spam = spam\n",
    "# mod.GLOBALE = GLOBALE"
   ]
  },
  {
   "cell_type": "markdown",
   "metadata": {
    "run_control": {
     "frozen": false,
     "read_only": false
    }
   },
   "source": [
    "* `from mod import *` \n",
    "  * copie le nom de **tous** les attributs du module\n",
    "  * dans l’espace de nommage local\n",
    "  * plus besoin donc non plus de la référence au nom du module\n",
    "* remarque: je **déconseille d'éviter** cette directive dans du code de production\n",
    "  * on perd la traçabilité des symboles importés"
   ]
  },
  {
   "cell_type": "markdown",
   "metadata": {
    "run_control": {
     "frozen": false,
     "read_only": false
    },
    "slideshow": {
     "slide_type": "slide"
    }
   },
   "source": [
    "# que fait une importation ?"
   ]
  },
  {
   "cell_type": "markdown",
   "metadata": {
    "run_control": {
     "frozen": false,
     "read_only": false
    }
   },
   "source": [
    "* trouver le fichier correspondant au module \n",
    "  * on ne met pas le `.py` du fichier lors d’un import\n",
    "* compiler (si besoin) le module en byte-code\n",
    "* charger le module pour construire les objets qu’il définit\n",
    "  * et les ranger dans les attributs du module\n",
    "* affecter la variable locale à l'objet module"
   ]
  },
  {
   "cell_type": "markdown",
   "metadata": {
    "slideshow": {
     "slide_type": "slide"
    }
   },
   "source": [
    "### byte-code"
   ]
  },
  {
   "cell_type": "markdown",
   "metadata": {},
   "source": [
    "* en première approximation,   \n",
    "  vous pouvez ignorer totalement les `.pyc`\n",
    "\n",
    "* Python se débrouille pour les recompiler au besoin\n",
    "* les `.pyc` ne sont générés que par les imports,  \n",
    "  et **pas** pour le point d'entrée\n",
    "\n",
    "* les `.pyc` sont dans un répertoire `__pycache__`"
   ]
  },
  {
   "cell_type": "markdown",
   "metadata": {
    "run_control": {
     "frozen": false,
     "read_only": false
    },
    "slideshow": {
     "slide_type": "slide"
    }
   },
   "source": [
    "### localisation du fichier du module"
   ]
  },
  {
   "cell_type": "markdown",
   "metadata": {
    "run_control": {
     "frozen": false,
     "read_only": false
    }
   },
   "source": [
    "* localisation en parcourant dans l’ordre\n",
    "  * répertoire où se trouve le point d'entrée \n",
    "  * `PYTHONPATH` : variable d’environnement de l’OS\n",
    "  * répertoires des librairies standards\n",
    "* `sys.path` contient la liste des répertoires parcourus\n",
    "  * on peut modifier `sys.path` à l’exécution"
   ]
  },
  {
   "cell_type": "markdown",
   "metadata": {
    "run_control": {
     "frozen": false,
     "read_only": false
    },
    "slideshow": {
     "slide_type": "slide"
    }
   },
   "source": [
    "### importation d’un module"
   ]
  },
  {
   "cell_type": "markdown",
   "metadata": {
    "run_control": {
     "frozen": false,
     "read_only": false
    }
   },
   "source": [
    "* comme l’importation est une opération lourde, un module n’est chargé qu’**une seule fois** \n",
    "  * les imports suivants réutilisent le module déjà présent en mémoire\n",
    "* pour importer de nouveau un module (avec une réexécution du code) il faut utiliser la fonction `imp.reload()`\n",
    "  * utile principalement lors de la mise au point"
   ]
  },
  {
   "cell_type": "markdown",
   "metadata": {
    "run_control": {
     "frozen": false,
     "read_only": false
    },
    "slideshow": {
     "slide_type": "slide"
    }
   },
   "source": [
    "### importation d’un module"
   ]
  },
  {
   "cell_type": "markdown",
   "metadata": {
    "run_control": {
     "frozen": false,
     "read_only": false
    }
   },
   "source": [
    "* sous IPython, il existe une extension qui simplifie la vie\n",
    "  * pour recharger les modules modifiés\n",
    "  * logique en développement\n",
    "  * pas utile en production"
   ]
  },
  {
   "cell_type": "code",
   "execution_count": null,
   "metadata": {},
   "outputs": [],
   "source": [
    "%load_ext autoreload\n",
    "%autoreload 2"
   ]
  },
  {
   "cell_type": "markdown",
   "metadata": {
    "run_control": {
     "frozen": false,
     "read_only": false
    },
    "slideshow": {
     "slide_type": "slide"
    }
   },
   "source": [
    "### importation d’un module"
   ]
  },
  {
   "cell_type": "code",
   "execution_count": null,
   "metadata": {
    "cell_style": "split",
    "run_control": {
     "frozen": false,
     "read_only": false
    }
   },
   "outputs": [],
   "source": [
    "!cat toplevel.py"
   ]
  },
  {
   "cell_type": "code",
   "execution_count": null,
   "metadata": {
    "cell_style": "split",
    "run_control": {
     "frozen": false,
     "read_only": false
    }
   },
   "outputs": [],
   "source": [
    "import toplevel\n",
    "toplevel.eggs"
   ]
  },
  {
   "cell_type": "code",
   "execution_count": null,
   "metadata": {
    "cell_style": "split",
    "run_control": {
     "frozen": false,
     "read_only": false
    }
   },
   "outputs": [],
   "source": [
    "toplevel.eggs = 2\n",
    "import toplevel\n",
    "toplevel.eggs"
   ]
  },
  {
   "cell_type": "markdown",
   "metadata": {
    "run_control": {
     "frozen": false,
     "read_only": false
    },
    "slideshow": {
     "slide_type": "slide"
    }
   },
   "source": [
    "# importation d’un module"
   ]
  },
  {
   "cell_type": "code",
   "execution_count": null,
   "metadata": {
    "run_control": {
     "frozen": false,
     "read_only": false
    }
   },
   "outputs": [],
   "source": [
    "# pour recharger un fichier \n",
    "import importlib\n",
    "importlib.reload(toplevel);"
   ]
  },
  {
   "cell_type": "code",
   "execution_count": null,
   "metadata": {
    "run_control": {
     "frozen": false,
     "read_only": false
    }
   },
   "outputs": [],
   "source": [
    "toplevel.eggs"
   ]
  },
  {
   "cell_type": "markdown",
   "metadata": {},
   "source": [
    "**Note** l'ancien module `imp` est obsolète"
   ]
  },
  {
   "cell_type": "markdown",
   "metadata": {
    "run_control": {
     "frozen": false,
     "read_only": false
    },
    "slideshow": {
     "slide_type": "slide"
    }
   },
   "source": [
    "# pièges de l’importation"
   ]
  },
  {
   "cell_type": "markdown",
   "metadata": {
    "run_control": {
     "frozen": false,
     "read_only": false
    }
   },
   "source": [
    "* les instructions `import` et `from` sont des affectations implicites de variables\n",
    "  * on a donc le problème des références partagées sur des mutables"
   ]
  },
  {
   "cell_type": "markdown",
   "metadata": {
    "run_control": {
     "frozen": false,
     "read_only": false
    },
    "slideshow": {
     "slide_type": "slide"
    }
   },
   "source": [
    "# pièges de l’importation"
   ]
  },
  {
   "cell_type": "code",
   "execution_count": null,
   "metadata": {
    "run_control": {
     "frozen": false,
     "read_only": false
    }
   },
   "outputs": [],
   "source": [
    "import math\n",
    "math.pi = 10."
   ]
  },
  {
   "cell_type": "markdown",
   "metadata": {
    "run_control": {
     "frozen": false,
     "read_only": false
    }
   },
   "source": [
    "* en fait je viens de modifier `math.pi` **pour tout mon programme !!**\n",
    "* on n’a pas le problème avec `from` parce que ça crée une copie locale du nom"
   ]
  },
  {
   "cell_type": "code",
   "execution_count": null,
   "metadata": {
    "run_control": {
     "frozen": false,
     "read_only": false
    }
   },
   "outputs": [],
   "source": [
    "from math import pi\n",
    "pi = 10\n",
    "# les autres modules ne sont pas impactés"
   ]
  },
  {
   "cell_type": "code",
   "execution_count": null,
   "metadata": {
    "cell_style": "split",
    "slideshow": {
     "slide_type": "slide"
    }
   },
   "outputs": [],
   "source": [
    "!cat spam.py"
   ]
  },
  {
   "cell_type": "code",
   "execution_count": null,
   "metadata": {
    "cell_style": "split"
   },
   "outputs": [],
   "source": [
    "!cat egg.py"
   ]
  },
  {
   "cell_type": "code",
   "execution_count": null,
   "metadata": {},
   "outputs": [],
   "source": [
    "!python3 egg.py"
   ]
  },
  {
   "cell_type": "markdown",
   "metadata": {
    "run_control": {
     "frozen": false,
     "read_only": false
    },
    "slideshow": {
     "slide_type": "slide"
    }
   },
   "source": [
    "### exécuter un module comme un script"
   ]
  },
  {
   "cell_type": "markdown",
   "metadata": {
    "run_control": {
     "frozen": false,
     "read_only": false
    }
   },
   "source": [
    "* un module peut avoir deux rôles\n",
    "  * un module classique qui doit être importé\n",
    "  * un script exécutable\n",
    "* tous les modules ont un nom qui est défini par la variable `__name__`\n",
    "* le nom d’un module est défini par l’import"
   ]
  },
  {
   "cell_type": "code",
   "execution_count": null,
   "metadata": {
    "cell_style": "split"
   },
   "outputs": [],
   "source": [
    "!cat toplevel.py"
   ]
  },
  {
   "cell_type": "code",
   "execution_count": null,
   "metadata": {
    "cell_style": "split",
    "run_control": {
     "frozen": false,
     "read_only": false
    }
   },
   "outputs": [],
   "source": [
    "import toplevel\n",
    "print(toplevel.__name__) "
   ]
  },
  {
   "cell_type": "markdown",
   "metadata": {
    "run_control": {
     "frozen": false,
     "read_only": false
    },
    "slideshow": {
     "slide_type": "slide"
    }
   },
   "source": [
    "### exécuter un module comme un script"
   ]
  },
  {
   "cell_type": "markdown",
   "metadata": {},
   "source": [
    "* si le module est le point d'entrée, (`python3 foo.py`)  \n",
    "  son exécution n’est pas le résultat d’un import\n",
    "\n",
    "* alors `__name__` est mis à la chaîne  `__main__`\n",
    "* en faisant un test sur `__name__` dans le module,  \n",
    "  on peut écrire un code qui ne s’exécute  \n",
    "  que lorsque le module est le point d'entrée\n",
    "\n",
    "```python\n",
    "# voici un idiome fréquent à la fin d'un source Python\n",
    "if __name__ == '__main__':\n",
    "    test_module()\n",
    "```"
   ]
  },
  {
   "cell_type": "markdown",
   "metadata": {
    "run_control": {
     "frozen": false,
     "read_only": false
    },
    "slideshow": {
     "slide_type": "slide"
    }
   },
   "source": [
    "### exécuter un module comme un script"
   ]
  },
  {
   "cell_type": "code",
   "execution_count": null,
   "metadata": {
    "cell_style": "split",
    "run_control": {
     "frozen": false,
     "read_only": false
    }
   },
   "outputs": [],
   "source": [
    "!cat samples/fib.py"
   ]
  },
  {
   "cell_type": "code",
   "execution_count": null,
   "metadata": {
    "cell_style": "split",
    "run_control": {
     "frozen": false,
     "read_only": false
    }
   },
   "outputs": [],
   "source": [
    "# À la ligne de commande on a\n",
    "!python3 samples/fib.py"
   ]
  },
  {
   "cell_type": "code",
   "execution_count": null,
   "metadata": {
    "cell_style": "split"
   },
   "outputs": [],
   "source": [
    "# mais à l'import il ne se passe rien\n",
    "from samples.fib import fib"
   ]
  },
  {
   "cell_type": "markdown",
   "metadata": {
    "run_control": {
     "frozen": false,
     "read_only": false
    }
   },
   "source": [
    "* on peut utiliser cette fonctionnalité pour faire des tests unitaires\n",
    "* mais ce n'est guère utilisé en production (trop limité)"
   ]
  },
  {
   "cell_type": "markdown",
   "metadata": {
    "run_control": {
     "frozen": false,
     "read_only": false
    },
    "slideshow": {
     "slide_type": "slide"
    }
   },
   "source": [
    "### exécuter un module comme un script"
   ]
  },
  {
   "cell_type": "markdown",
   "metadata": {
    "run_control": {
     "frozen": false,
     "read_only": false
    }
   },
   "source": [
    "* on peut aussi lancer Python en mode **interactif**\n",
    "\n",
    "```\n",
    "$ python3 -i fib.py\n",
    "1 1 2 3 5 8 13 21 34 \n",
    ">>>\n",
    "```"
   ]
  },
  {
   "cell_type": "markdown",
   "metadata": {
    "run_control": {
     "frozen": false,
     "read_only": false
    },
    "slideshow": {
     "slide_type": "slide"
    }
   },
   "source": [
    "### attributs d’un module"
   ]
  },
  {
   "cell_type": "markdown",
   "metadata": {
    "run_control": {
     "frozen": false,
     "read_only": false
    }
   },
   "source": [
    "* on accède à tous les attributs d’un module en utilisant\n",
    "  * `globals()` retourne l’espace de nommage du module courant\n",
    "  * `locals()` retourne l’espace de nommage à l’endroit de l’appel\n",
    "  * `vars(module)` retourne l’espace de nommage de module (équivalent à `module.__dict__`)\n",
    "  * `dir(module)` liste les attributs"
   ]
  },
  {
   "cell_type": "markdown",
   "metadata": {
    "run_control": {
     "frozen": false,
     "read_only": false
    },
    "slideshow": {
     "slide_type": "slide"
    }
   },
   "source": [
    "### attributs d’un module"
   ]
  },
  {
   "cell_type": "code",
   "execution_count": null,
   "metadata": {
    "cell_style": "split",
    "run_control": {
     "frozen": false,
     "read_only": false
    }
   },
   "outputs": [],
   "source": [
    "foo = 10\n",
    "g = globals()\n",
    "type(g)\n",
    "list(g.keys())[-10:]"
   ]
  },
  {
   "cell_type": "code",
   "execution_count": null,
   "metadata": {
    "cell_style": "split",
    "run_control": {
     "frozen": false,
     "read_only": false
    }
   },
   "outputs": [],
   "source": [
    "##\n",
    "##\n",
    "'foo' in g"
   ]
  },
  {
   "cell_type": "code",
   "execution_count": null,
   "metadata": {
    "cell_style": "split",
    "run_control": {
     "frozen": false,
     "read_only": false
    }
   },
   "outputs": [],
   "source": [
    "g['foo']"
   ]
  },
  {
   "cell_type": "code",
   "execution_count": null,
   "metadata": {
    "cell_style": "split",
    "run_control": {
     "frozen": false,
     "read_only": false
    }
   },
   "outputs": [],
   "source": [
    "# pour les geeks\n",
    "import sys\n",
    "(sys.modules[__name__]\n",
    "  .__dict__['foo'] is foo)"
   ]
  },
  {
   "cell_type": "code",
   "execution_count": null,
   "metadata": {
    "cell_style": "center",
    "run_control": {
     "frozen": false,
     "read_only": false
    }
   },
   "outputs": [],
   "source": [
    "# si on n'est pas dans une fonction ou une classe,\n",
    "# locals() et globals() retournent la même chose\n",
    "locals() == globals()"
   ]
  },
  {
   "cell_type": "markdown",
   "metadata": {
    "run_control": {
     "frozen": false,
     "read_only": false
    },
    "slideshow": {
     "slide_type": "slide"
    }
   },
   "source": [
    "### attributs d’un module"
   ]
  },
  {
   "cell_type": "code",
   "execution_count": null,
   "metadata": {
    "run_control": {
     "frozen": false,
     "read_only": false
    }
   },
   "outputs": [],
   "source": [
    "# par contre dans une fonction c'est différent\n",
    "def f():\n",
    "    tutu = 12\n",
    "    print(f\"tutu dans globals ? : {'tutu' in globals()}\")\n",
    "    print(f\"tutu dans locals ? : {'tutu' in locals()}\")\n",
    "    print(f\"foo dans globals ? : {'foo' in globals()}\")\n",
    "    print(f\"foo dans locals ? : {'foo' in locals()}\")\n",
    "f()"
   ]
  },
  {
   "cell_type": "markdown",
   "metadata": {
    "run_control": {
     "frozen": false,
     "read_only": false
    },
    "slideshow": {
     "slide_type": "slide"
    }
   },
   "source": [
    "### attributs d’un module"
   ]
  },
  {
   "cell_type": "code",
   "execution_count": null,
   "metadata": {
    "run_control": {
     "frozen": false,
     "read_only": false
    }
   },
   "outputs": [],
   "source": [
    "try:\n",
    "    print(__dict__)\n",
    "except NameError as e:\n",
    "    print(\"OOPS\", e)"
   ]
  },
  {
   "cell_type": "markdown",
   "metadata": {
    "run_control": {
     "frozen": false,
     "read_only": false
    }
   },
   "source": [
    "* l’attribute `__dict__` est  un attribut spécial pour un module, il n’est pas un nom global\n",
    "* on ne peut donc pas y accéder sans utiliser un nom qualifié `module.__dict__`."
   ]
  },
  {
   "cell_type": "markdown",
   "metadata": {
    "run_control": {
     "frozen": false,
     "read_only": false
    },
    "slideshow": {
     "slide_type": "slide"
    }
   },
   "source": [
    "### attributs d’un module"
   ]
  },
  {
   "cell_type": "markdown",
   "metadata": {
    "run_control": {
     "frozen": false,
     "read_only": false
    }
   },
   "source": [
    "* `sys.modules` est un dictionnaire de tous les modules chargés\n",
    "  nom → *objet module*\n",
    "\n",
    "* `sys.modules[__name__]` \n",
    "  permet de retrouver l'objet module  courant\n",
    "\n",
    "* `sys.modules[__name__].__dict__` \n",
    "  est l’espace de nommage du module courant"
   ]
  },
  {
   "cell_type": "code",
   "execution_count": null,
   "metadata": {},
   "outputs": [],
   "source": [
    "sys.modules[__name__].__dict__ == globals()"
   ]
  },
  {
   "cell_type": "markdown",
   "metadata": {
    "run_control": {
     "frozen": false,
     "read_only": false
    },
    "slideshow": {
     "slide_type": "slide"
    }
   },
   "source": [
    "# notions avancées"
   ]
  },
  {
   "cell_type": "markdown",
   "metadata": {
    "run_control": {
     "frozen": false,
     "read_only": false
    }
   },
   "source": [
    "* un import importe tous les noms d’un module\n",
    "* donc un client peut les modifier \n",
    "* il existe un convention de nommage\n",
    "* tous les noms qui commencent par un underscore (`_`) \n",
    "  sont privés au module, ne font pas partie de l'API\n",
    "\n",
    "* ça n’est qu’une convention, mais c’est généralement suffisant"
   ]
  },
  {
   "cell_type": "markdown",
   "metadata": {
    "run_control": {
     "frozen": false,
     "read_only": false
    },
    "slideshow": {
     "slide_type": "slide"
    }
   },
   "source": [
    "### ordre dans un module"
   ]
  },
  {
   "cell_type": "markdown",
   "metadata": {
    "run_control": {
     "frozen": false,
     "read_only": false
    }
   },
   "source": [
    "* l’ordre des déclarations dans un module à de l’importance\n",
    "* le code en dehors des fonctions est exécuté à l’import\n",
    "* le code dans les fonctions n’est exécuté que lors de l’appel des fonctions"
   ]
  },
  {
   "cell_type": "markdown",
   "metadata": {
    "run_control": {
     "frozen": false,
     "read_only": false
    },
    "slideshow": {
     "slide_type": "slide"
    }
   },
   "source": [
    "### ordre dans un module"
   ]
  },
  {
   "cell_type": "code",
   "execution_count": null,
   "metadata": {
    "run_control": {
     "frozen": false,
     "read_only": false
    }
   },
   "outputs": [],
   "source": [
    "try:\n",
    "    func1()    # erreur pas encore déclarée\n",
    "except:\n",
    "    import traceback\n",
    "    traceback.print_exc()"
   ]
  },
  {
   "cell_type": "code",
   "execution_count": null,
   "metadata": {
    "run_control": {
     "frozen": false,
     "read_only": false
    }
   },
   "outputs": [],
   "source": [
    "def func1():\n",
    "    func2()    # OK, func2() est déclarée après"
   ]
  },
  {
   "cell_type": "code",
   "execution_count": null,
   "metadata": {
    "run_control": {
     "frozen": false,
     "read_only": false
    }
   },
   "outputs": [],
   "source": [
    "try:\n",
    "    func1()    # erreur func2() pas encore déclarée\n",
    "except:\n",
    "    import traceback; traceback.print_exc()"
   ]
  },
  {
   "cell_type": "code",
   "execution_count": null,
   "metadata": {
    "run_control": {
     "frozen": false,
     "read_only": false
    }
   },
   "outputs": [],
   "source": [
    "def func2():\n",
    "    print(\"in func2\")"
   ]
  },
  {
   "cell_type": "code",
   "execution_count": null,
   "metadata": {
    "run_control": {
     "frozen": false,
     "read_only": false
    }
   },
   "outputs": [],
   "source": [
    "func1()            # OK func1() et func2() sont\n",
    "                   # déclarées"
   ]
  },
  {
   "cell_type": "markdown",
   "metadata": {
    "run_control": {
     "frozen": false,
     "read_only": false
    },
    "slideshow": {
     "slide_type": "slide"
    }
   },
   "source": [
    "### notions avancées"
   ]
  },
  {
   "cell_type": "markdown",
   "metadata": {
    "run_control": {
     "frozen": false,
     "read_only": false
    }
   },
   "source": [
    "* pour importer un module si on a son nom dans une chaîne\n",
    "  * voir la fonction `importlib.import_module`"
   ]
  },
  {
   "cell_type": "code",
   "execution_count": null,
   "metadata": {
    "cell_style": "center"
   },
   "outputs": [],
   "source": [
    "import importlib\n",
    "nom_module = \"math\"\n",
    "math2 = importlib.import_module(nom_module)\n",
    "math2.e"
   ]
  },
  {
   "cell_type": "code",
   "execution_count": null,
   "metadata": {},
   "outputs": [],
   "source": [
    "# souvenez vous que celui-là, on l'a modifié sauvagement\n",
    "math2.pi"
   ]
  },
  {
   "cell_type": "markdown",
   "metadata": {
    "run_control": {
     "frozen": false,
     "read_only": false
    }
   },
   "source": [
    "* `exec` est déconseillé pour ce genre d'usages"
   ]
  }
 ],
 "metadata": {
  "jupytext": {
   "formats": "ipynb"
  },
  "kernelspec": {
   "display_name": "Python 3",
   "language": "python",
   "name": "python3"
  },
  "language_info": {
   "codemirror_mode": {
    "name": "ipython",
    "version": 3
   },
   "file_extension": ".py",
   "mimetype": "text/x-python",
   "name": "python",
   "nbconvert_exporter": "python",
   "pygments_lexer": "ipython3",
   "version": "3.7.0"
  },
  "notebookname": "modules",
  "rise": {
   "autolaunch": true,
   "slideNumber": "c/t",
   "start_slideshow_at": "selected",
   "theme": "sky",
   "transition": "cube"
  },
  "version": "1.0"
 },
 "nbformat": 4,
 "nbformat_minor": 2
}
