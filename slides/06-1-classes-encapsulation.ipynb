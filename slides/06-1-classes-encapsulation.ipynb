{
 "cells": [
  {
   "cell_type": "markdown",
   "metadata": {
    "run_control": {
     "frozen": false,
     "read_only": false
    },
    "slideshow": {
     "slide_type": "slide"
    }
   },
   "source": [
    "<div class=\"licence\">\n",
    "<span>Licence CC BY-NC-ND</span>\n",
    "<span>Thierry Parmentelat &amp; Arnaud Legout</span>\n",
    "</div>"
   ]
  },
  {
   "cell_type": "code",
   "execution_count": null,
   "metadata": {
    "slideshow": {
     "slide_type": "slide"
    }
   },
   "outputs": [],
   "source": [
    "from plan import plan; plan(\"classes\", \"encapsulation\")"
   ]
  },
  {
   "cell_type": "markdown",
   "metadata": {
    "run_control": {
     "frozen": false,
     "read_only": false
    },
    "slideshow": {
     "slide_type": "slide"
    }
   },
   "source": [
    "# pour réutiliser du code en python"
   ]
  },
  {
   "cell_type": "markdown",
   "metadata": {
    "run_control": {
     "frozen": false,
     "read_only": false
    }
   },
   "source": [
    "* fonctions\n",
    "  * pas d'état après exécution\n",
    "* modules\n",
    "  * garde l'état\n",
    "  * une seule instance par programme\n",
    "* **classes**\n",
    "  * **instances multiples**\n",
    "  * **chacune garde l'état**\n",
    "  * **héritage**"
   ]
  },
  {
   "cell_type": "markdown",
   "metadata": {
    "slideshow": {
     "slide_type": "slide"
    }
   },
   "source": [
    "### rappel: primer"
   ]
  },
  {
   "cell_type": "code",
   "execution_count": null,
   "metadata": {
    "cell_style": "split"
   },
   "outputs": [],
   "source": [
    "class MyFirstClass:\n",
    "    \n",
    "    def __init__(self, nom, age):\n",
    "        self.nom = nom\n",
    "        self.age = age\n",
    "        \n",
    "    def __repr__(self):\n",
    "        return (f\"je suis {self.nom}, \"\n",
    "                f\"j'ai {self.age} ans\")"
   ]
  },
  {
   "cell_type": "code",
   "execution_count": null,
   "metadata": {
    "cell_style": "split"
   },
   "outputs": [],
   "source": [
    "person = MyFirstClass(\n",
    "    \"Jean Dupont\", 25)\n",
    "person"
   ]
  },
  {
   "cell_type": "markdown",
   "metadata": {
    "run_control": {
     "frozen": false,
     "read_only": false
    },
    "slideshow": {
     "slide_type": "slide"
    }
   },
   "source": [
    "### programmation orientée objet  \n",
    "  pourquoi et comment ?"
   ]
  },
  {
   "cell_type": "markdown",
   "metadata": {
    "cell_style": "split",
    "run_control": {
     "frozen": false,
     "read_only": false
    }
   },
   "source": [
    "####  deux objectifs \n",
    "\n",
    "* modularité\n",
    "* réutilisabilité"
   ]
  },
  {
   "cell_type": "markdown",
   "metadata": {
    "cell_style": "split",
    "run_control": {
     "frozen": false,
     "read_only": false
    }
   },
   "source": [
    "#### deux moyens \n",
    "\n",
    "* espaces de nom\n",
    "* héritage"
   ]
  },
  {
   "cell_type": "markdown",
   "metadata": {
    "run_control": {
     "frozen": false,
     "read_only": false
    },
    "slideshow": {
     "slide_type": "slide"
    }
   },
   "source": [
    "# avertissement"
   ]
  },
  {
   "cell_type": "markdown",
   "metadata": {
    "run_control": {
     "frozen": false,
     "read_only": false
    }
   },
   "source": [
    "* la POO est présente dans tous les langages modernes\n",
    "* cependant l'implémentation *a un impact*\n",
    "* sur le paradigme présenté au programmeur\n",
    "* se méfier des habitudes héritées d'autres langages"
   ]
  },
  {
   "cell_type": "markdown",
   "metadata": {
    "run_control": {
     "frozen": false,
     "read_only": false
    },
    "slideshow": {
     "slide_type": "slide"
    }
   },
   "source": [
    "* C++/Java\n",
    "  * fort typage statique\n",
    "  * **impose** l'existence d'une classe *chapeau* \n",
    "  * par exemple la classe `Simulable`\n",
    "* Python\n",
    "  * on peut parfaitement se passer de la classe `Simulable`\n",
    "  * pourvu que les classes concrètes\n",
    "  * disposent des méthodes à run-time\n",
    "  * c'est le *duck typing*"
   ]
  },
  {
   "cell_type": "markdown",
   "metadata": {
    "run_control": {
     "frozen": false,
     "read_only": false
    },
    "slideshow": {
     "slide_type": "slide"
    }
   },
   "source": [
    "# modularité"
   ]
  },
  {
   "cell_type": "markdown",
   "metadata": {
    "run_control": {
     "frozen": false,
     "read_only": false
    }
   },
   "source": [
    "* du code modulaire\n",
    "  * grouper le code dans une classe\n",
    "  * grouper les données dans un objet\n",
    "* c'est là qu'interviennent les espaces de nom\n",
    "* (comme avec les notions de module et de package)  "
   ]
  },
  {
   "cell_type": "markdown",
   "metadata": {
    "run_control": {
     "frozen": false,
     "read_only": false
    },
    "slideshow": {
     "slide_type": "slide"
    }
   },
   "source": [
    "# réutilisabilité"
   ]
  },
  {
   "cell_type": "markdown",
   "metadata": {
    "run_control": {
     "frozen": false,
     "read_only": false
    }
   },
   "source": [
    "* DRY: chaque fonctionnalité écrite une seule fois\n",
    "* maintenance plus simple\n",
    "* du code générique\n",
    "  * ex: un simulateur fait \"avancer\" une liste d'objets\n",
    "  * dès qu'un objet explique comment il avance\n",
    "  * il peut faire partie de la simulation\n",
    "* c'est là qu'intervient l'héritage"
   ]
  },
  {
   "cell_type": "markdown",
   "metadata": {
    "run_control": {
     "frozen": false,
     "read_only": false
    },
    "slideshow": {
     "slide_type": "slide"
    }
   },
   "source": [
    "# espaces de nom"
   ]
  },
  {
   "cell_type": "markdown",
   "metadata": {
    "run_control": {
     "frozen": false,
     "read_only": false
    }
   },
   "source": [
    "* tous les objets qui sont\n",
    "  * un package\n",
    "  * un module\n",
    "  * une classe\n",
    "  * une instance\n",
    "* constituent chacun un espace de nom\n",
    "  * i.e. une association *attribut* → *objet*"
   ]
  },
  {
   "cell_type": "markdown",
   "metadata": {
    "run_control": {
     "frozen": false,
     "read_only": false
    },
    "slideshow": {
     "slide_type": "slide"
    }
   },
   "source": [
    "# espaces de nom - suite"
   ]
  },
  {
   "cell_type": "markdown",
   "metadata": {
    "run_control": {
     "frozen": false,
     "read_only": false
    }
   },
   "source": [
    "* permet de lever l'ambigüité en cas d'homonymie\n",
    "* cf. exemple du C *old-school*\n",
    "* les espaces de nom sont imbriqués (*nested*)\n",
    "  * ex. `package.module.classe.methode`\n",
    "* on peut accéder à tous les objets\n",
    "  * dès qu'on sait partir d'une variable\n",
    "  * par exemple un module importé\n",
    "* l'héritage rend cela dynamique\n",
    "  * i.e. la résolution est faite à *runtime*"
   ]
  },
  {
   "cell_type": "markdown",
   "metadata": {
    "run_control": {
     "frozen": false,
     "read_only": false
    },
    "slideshow": {
     "slide_type": "slide"
    }
   },
   "source": [
    "# digression"
   ]
  },
  {
   "cell_type": "markdown",
   "metadata": {
    "cell_style": "split",
    "run_control": {
     "frozen": false,
     "read_only": false
    }
   },
   "source": [
    "### deux mondes étanches\n",
    "\n",
    "* variables \n",
    "* attributs"
   ]
  },
  {
   "cell_type": "markdown",
   "metadata": {
    "cell_style": "split",
    "run_control": {
     "frozen": false,
     "read_only": false
    }
   },
   "source": [
    "### se mélangent "
   ]
  },
  {
   "cell_type": "markdown",
   "metadata": {
    "run_control": {
     "frozen": false,
     "read_only": false
    }
   },
   "source": [
    "* typiquement dans une expression comme `a.b.c.d`"
   ]
  },
  {
   "cell_type": "markdown",
   "metadata": {
    "cell_style": "split",
    "run_control": {
     "frozen": false,
     "read_only": false
    }
   },
   "source": [
    "* `a` est une **variable**"
   ]
  },
  {
   "cell_type": "markdown",
   "metadata": {
    "cell_style": "split",
    "run_control": {
     "frozen": false,
     "read_only": false
    }
   },
   "source": [
    "* `b`, `c` et `d` sont des **attributs**"
   ]
  },
  {
   "cell_type": "markdown",
   "metadata": {
    "run_control": {
     "frozen": false,
     "read_only": false
    },
    "slideshow": {
     "slide_type": "slide"
    }
   },
   "source": [
    "## deux mécaniques totalement différentes"
   ]
  },
  {
   "cell_type": "markdown",
   "metadata": {
    "cell_style": "split",
    "run_control": {
     "frozen": false,
     "read_only": false
    },
    "slideshow": {
     "slide_type": ""
    }
   },
   "source": [
    "### résolution des **variables**\n",
    "\n",
    "* entièrement **lexical**\n",
    "* en remontant dans le code\n",
    "* avec les règles LEGB  \n",
    "  local, englobant, global, *builtin*"
   ]
  },
  {
   "cell_type": "markdown",
   "metadata": {
    "cell_style": "split",
    "run_control": {
     "frozen": false,
     "read_only": false
    },
    "slideshow": {
     "slide_type": ""
    }
   },
   "source": [
    "### résolution des **attributs**\n",
    "\n",
    "* dans le monde des **objets**\n",
    "* en remontant les espaces de nom\n",
    "* essentiellement **dynamique**  \n",
    "  *i.e.* à *runtime*"
   ]
  },
  {
   "cell_type": "markdown",
   "metadata": {
    "run_control": {
     "frozen": false,
     "read_only": false
    },
    "slideshow": {
     "slide_type": "slide"
    }
   },
   "source": [
    "# héritage"
   ]
  },
  {
   "cell_type": "markdown",
   "metadata": {
    "run_control": {
     "frozen": false,
     "read_only": false
    },
    "slideshow": {
     "slide_type": ""
    }
   },
   "source": [
    "* la **résolution des attributs**\n",
    "* fournit la **mécanique de base**\n",
    "  * sur laquelle on a - très peu - élaboré\n",
    "* pour implémenter l'héritage\n",
    "* on verra ça en détails plus tard"
   ]
  },
  {
   "cell_type": "markdown",
   "metadata": {
    "run_control": {
     "frozen": false,
     "read_only": false
    },
    "slideshow": {
     "slide_type": "slide"
    }
   },
   "source": [
    "# ex: une classe et une instance"
   ]
  },
  {
   "cell_type": "code",
   "execution_count": null,
   "metadata": {
    "cell_style": "split",
    "run_control": {
     "frozen": false,
     "read_only": false
    }
   },
   "outputs": [],
   "source": [
    "# une classe sans heritage\n",
    "# et juste un constructeur\n",
    "class Point:\n",
    "    def __init__(self, x, y):\n",
    "        self.x = x\n",
    "        self.y = y"
   ]
  },
  {
   "cell_type": "code",
   "execution_count": null,
   "metadata": {
    "cell_style": "split",
    "run_control": {
     "frozen": false,
     "read_only": false
    }
   },
   "outputs": [],
   "source": [
    "point = Point(2, 3)\n",
    "point.x"
   ]
  },
  {
   "cell_type": "markdown",
   "metadata": {
    "run_control": {
     "frozen": false,
     "read_only": false
    },
    "slideshow": {
     "slide_type": "slide"
    }
   },
   "source": [
    "## à noter"
   ]
  },
  {
   "cell_type": "markdown",
   "metadata": {
    "run_control": {
     "frozen": false,
     "read_only": false
    },
    "slideshow": {
     "slide_type": ""
    }
   },
   "source": [
    "* comme tous les types, `Point` est une usine à objets\n",
    "  * cf. `list({1, 2, 3})`\n",
    "* donc pour créer une instance, on *appelle* cet objet *classe*\n",
    "* la méthode `__init__` nous permet de définir\n",
    "  * ce qui est fait lors de la construction de l'objet\n",
    "  * c'est-à-dire à l'appel de `Point(2, 3)`\n",
    "* remarquez le premier paramètre `self`"
   ]
  },
  {
   "cell_type": "markdown",
   "metadata": {
    "run_control": {
     "frozen": false,
     "read_only": false
    },
    "slideshow": {
     "slide_type": "slide"
    }
   },
   "source": [
    "## espaces de nommage"
   ]
  },
  {
   "cell_type": "markdown",
   "metadata": {
    "cell_style": "split",
    "run_control": {
     "frozen": false,
     "read_only": false
    }
   },
   "source": [
    "### à ce stade nous avons deux espaces de nom\n",
    "\n",
    "* la classe `Point`\n",
    "  * `Point.__init__` : la méthode\n",
    "* l'instance\n",
    "  * `point.x` : 2 pour cette instance\n",
    "  * `point.y`"
   ]
  },
  {
   "cell_type": "code",
   "execution_count": null,
   "metadata": {
    "cell_style": "split"
   },
   "outputs": [],
   "source": [
    "%load_ext ipythontutor"
   ]
  },
  {
   "cell_type": "markdown",
   "metadata": {
    "slideshow": {
     "slide_type": "slide"
    }
   },
   "source": [
    "### la classe et l'instance: deux espaces de nom distinct"
   ]
  },
  {
   "cell_type": "code",
   "execution_count": null,
   "metadata": {},
   "outputs": [],
   "source": [
    "%%ipythontutor width=1000\n",
    "class Point:\n",
    "    def __init__(self, x, y):\n",
    "        self.x = x\n",
    "        self.y = y\n",
    "        \n",
    "point = Point(2, 3)"
   ]
  },
  {
   "cell_type": "code",
   "execution_count": null,
   "metadata": {
    "cell_style": "split",
    "run_control": {
     "frozen": false,
     "read_only": false
    },
    "slideshow": {
     "slide_type": "slide"
    }
   },
   "outputs": [],
   "source": [
    "# la classe possède \n",
    "# l'attribut '__init__' \n",
    "'__init__' in Point.__dict__"
   ]
  },
  {
   "cell_type": "code",
   "execution_count": null,
   "metadata": {
    "cell_style": "split",
    "run_control": {
     "frozen": false,
     "read_only": false
    }
   },
   "outputs": [],
   "source": [
    "# c'est la méthode \n",
    "# qu'on a définie\n",
    "type(Point.__init__)"
   ]
  },
  {
   "cell_type": "code",
   "execution_count": null,
   "metadata": {
    "cell_style": "split",
    "run_control": {
     "frozen": false,
     "read_only": false
    }
   },
   "outputs": [],
   "source": [
    "# par contre elle ne possède\n",
    "# pas d'attribut x\n",
    "'x' in Point.__dict__"
   ]
  },
  {
   "cell_type": "code",
   "execution_count": null,
   "metadata": {
    "cell_style": "split",
    "run_control": {
     "frozen": false,
     "read_only": false
    }
   },
   "outputs": [],
   "source": [
    "# l'attribut x se trouve\n",
    "# bien dans l'instance\n",
    "'x' in point.__dict__"
   ]
  },
  {
   "cell_type": "markdown",
   "metadata": {
    "run_control": {
     "frozen": false,
     "read_only": false
    },
    "slideshow": {
     "slide_type": "slide"
    }
   },
   "source": [
    "# ex. de résolution d'attribut"
   ]
  },
  {
   "cell_type": "code",
   "execution_count": null,
   "metadata": {
    "run_control": {
     "frozen": false,
     "read_only": false
    }
   },
   "outputs": [],
   "source": [
    "# cas simple sans héritage\n",
    "# appel d'une méthode\n",
    "import math\n",
    "\n",
    "class Vector:\n",
    "    def __init__(self, x, y):\n",
    "        self.x = x\n",
    "        self.y = y\n",
    "       \n",
    "    def length(self):\n",
    "        return math.sqrt(self.x**2 + self.y**2)"
   ]
  },
  {
   "cell_type": "code",
   "execution_count": null,
   "metadata": {
    "run_control": {
     "frozen": false,
     "read_only": false
    }
   },
   "outputs": [],
   "source": [
    "vector = Vector(3, 4)\n",
    "vector.length()"
   ]
  },
  {
   "cell_type": "markdown",
   "metadata": {
    "run_control": {
     "frozen": false,
     "read_only": false
    },
    "slideshow": {
     "slide_type": "slide"
    }
   },
   "source": [
    "## espaces de nom"
   ]
  },
  {
   "cell_type": "markdown",
   "metadata": {
    "cell_style": "split",
    "run_control": {
     "frozen": false,
     "read_only": false
    },
    "slideshow": {
     "slide_type": ""
    }
   },
   "source": [
    "* la classe `Vector` a les attributs\n",
    "  * `__init__`\n",
    "  * `length`"
   ]
  },
  {
   "cell_type": "markdown",
   "metadata": {
    "cell_style": "split",
    "run_control": {
     "frozen": false,
     "read_only": false
    },
    "slideshow": {
     "slide_type": ""
    }
   },
   "source": [
    "* l'objet `vector` a les attributs\n",
    "  * `x` et `y`,\n",
    "  * mais pas `length` !"
   ]
  },
  {
   "cell_type": "code",
   "execution_count": null,
   "metadata": {
    "slideshow": {
     "slide_type": "slide"
    }
   },
   "outputs": [],
   "source": [
    "%%ipythontutor width=1000 height=400 curInstr=7\n",
    "import math\n",
    "class Vector:\n",
    "    def __init__(self, x, y):\n",
    "        self.x = x\n",
    "        self.y = y\n",
    "    def length(self):\n",
    "        return math.sqrt(self.x**2 + self.y**2)\n",
    "   \n",
    "vector = Vector(2, 2)"
   ]
  },
  {
   "cell_type": "markdown",
   "metadata": {
    "slideshow": {
     "slide_type": "slide"
    }
   },
   "source": [
    "pour visualiser la même chose à base d'introspection dans le code\n",
    "\n",
    "tous les objets ont un attribut `__dict__`"
   ]
  },
  {
   "cell_type": "code",
   "execution_count": null,
   "metadata": {
    "run_control": {
     "frozen": false,
     "read_only": false
    },
    "slideshow": {
     "slide_type": ""
    }
   },
   "outputs": [],
   "source": [
    "# les attributs 'intéressants' de Vector\n",
    "[att for att in Vector.__dict__ if '__' not in att or att == '__init__']"
   ]
  },
  {
   "cell_type": "code",
   "execution_count": null,
   "metadata": {
    "run_control": {
     "frozen": false,
     "read_only": false
    }
   },
   "outputs": [],
   "source": [
    "# et dans l'instance\n",
    "list(vector.__dict__)"
   ]
  },
  {
   "cell_type": "markdown",
   "metadata": {
    "run_control": {
     "frozen": false,
     "read_only": false
    },
    "slideshow": {
     "slide_type": "slide"
    }
   },
   "source": [
    "## résolution d'attribut"
   ]
  },
  {
   "cell_type": "markdown",
   "metadata": {
    "run_control": {
     "frozen": false,
     "read_only": false
    },
    "slideshow": {
     "slide_type": ""
    }
   },
   "source": [
    "* l'objet `vector` ne possède pas en propre l'attribut `length`\n",
    "* et pourtant on peut écrire `vector.length()` "
   ]
  },
  {
   "cell_type": "markdown",
   "metadata": {
    "run_control": {
     "frozen": false,
     "read_only": false
    },
    "slideshow": {
     "slide_type": ""
    }
   },
   "source": [
    "* pour évaluer `vector.length()`\n",
    "* on fait de la résolution d'attributs\n",
    "  * cherché dans l'instance: pas trouvé\n",
    "  * cherché dans la classe: oui, on prend ça"
   ]
  },
  {
   "cell_type": "markdown",
   "metadata": {
    "slideshow": {
     "slide_type": "slide"
    }
   },
   "source": [
    "## héritage ?"
   ]
  },
  {
   "cell_type": "markdown",
   "metadata": {
    "run_control": {
     "frozen": false,
     "read_only": false
    },
    "slideshow": {
     "slide_type": ""
    }
   },
   "source": [
    "* ce n'est pas encore de l'héritage  \n",
    "  puisque pour l'instant on n'a qu'une classe\n",
    "* mais on verra que l'héritage  \n",
    "  est une simple prolongation de cette logique"
   ]
  },
  {
   "cell_type": "markdown",
   "metadata": {
    "run_control": {
     "frozen": false,
     "read_only": false
    },
    "slideshow": {
     "slide_type": "slide"
    }
   },
   "source": [
    "# exemple avec héritage"
   ]
  },
  {
   "cell_type": "code",
   "execution_count": null,
   "metadata": {
    "run_control": {
     "frozen": false,
     "read_only": false
    }
   },
   "outputs": [],
   "source": [
    "# une classe fille sans aucun contenu\n",
    "class SubVector(Vector): \n",
    "    pass\n",
    "\n",
    "subvector = SubVector(6, 8)\n",
    "\n",
    "subvector.length()"
   ]
  },
  {
   "cell_type": "code",
   "execution_count": null,
   "metadata": {
    "slideshow": {
     "slide_type": "slide"
    }
   },
   "outputs": [],
   "source": [
    "%%ipythontutor width=1000 height=400 curInstr=8\n",
    "import math\n",
    "class Vector:\n",
    "    def __init__(self, x, y):\n",
    "        self.x = x\n",
    "        self.y = y\n",
    "    def length(self):\n",
    "        return math.sqrt(self.x**2 + self.y**2)\n",
    "class SubVector(Vector):\n",
    "    pass\n",
    "\n",
    "subvector = SubVector(6, 8)"
   ]
  },
  {
   "cell_type": "markdown",
   "metadata": {
    "run_control": {
     "frozen": false,
     "read_only": false
    }
   },
   "source": [
    "* c'est exactement le même mécanisme qui est à l'oeuvre :\n",
    "* on cherche `length`\n",
    "  * dans l'instance : non\n",
    "  * dans la classe : non\n",
    "  * dans la super-classe : ok, on prend ça"
   ]
  },
  {
   "cell_type": "markdown",
   "metadata": {
    "run_control": {
     "frozen": false,
     "read_only": false
    },
    "slideshow": {
     "slide_type": "slide"
    }
   },
   "source": [
    "## *Method Resolution Order*"
   ]
  },
  {
   "cell_type": "markdown",
   "metadata": {
    "run_control": {
     "frozen": false,
     "read_only": false
    }
   },
   "source": [
    "* l'héritage entre les classes\n",
    "* détermine l'ordre dans lequel sont cherchés les attributs\n",
    "* en sus de l'instance elle-même\n",
    "* en anglais *method resolution order*\n",
    "* ou `mro()` (une méthode de la classe)\n",
    "* concept surtout utile avec l'héritage multiple\n",
    "* mais qui me semble pertinent pour illustrer notre propos"
   ]
  },
  {
   "cell_type": "code",
   "execution_count": null,
   "metadata": {
    "run_control": {
     "frozen": false,
     "read_only": false
    }
   },
   "outputs": [],
   "source": [
    "SubVector.mro()"
   ]
  },
  {
   "cell_type": "markdown",
   "metadata": {
    "run_control": {
     "frozen": false,
     "read_only": false
    },
    "slideshow": {
     "slide_type": "slide"
    }
   },
   "source": [
    "### attributs non fonctionnels (≠ méthode)"
   ]
  },
  {
   "cell_type": "markdown",
   "metadata": {
    "run_control": {
     "frozen": false,
     "read_only": false
    }
   },
   "source": [
    "* on peut utiliser les même concepts\n",
    "* pour gérer des attributs de donnée (i.e. ≠ méthode)"
   ]
  },
  {
   "cell_type": "code",
   "execution_count": null,
   "metadata": {
    "run_control": {
     "frozen": false,
     "read_only": false
    },
    "slideshow": {
     "slide_type": "slide"
    }
   },
   "outputs": [],
   "source": [
    "class Factory:\n",
    "    # un compteur global à la classe\n",
    "    all_labels = []\n",
    "\n",
    "    def __init__(self, label):\n",
    "        self.label = label\n",
    "        # ici je pourrais aussi bien écrire \n",
    "        # Factory.all_labels.append(label)\n",
    "        self.all_labels.append(label)\n",
    "\n",
    "Factory.all_labels"
   ]
  },
  {
   "cell_type": "code",
   "execution_count": null,
   "metadata": {
    "cell_style": "split",
    "run_control": {
     "frozen": false,
     "read_only": false
    },
    "slideshow": {
     "slide_type": ""
    }
   },
   "outputs": [],
   "source": [
    "f1 = Factory('premier')\n",
    "Factory.all_labels"
   ]
  },
  {
   "cell_type": "code",
   "execution_count": null,
   "metadata": {
    "cell_style": "split",
    "run_control": {
     "frozen": false,
     "read_only": false
    },
    "slideshow": {
     "slide_type": ""
    }
   },
   "outputs": [],
   "source": [
    "f2 = Factory('second')\n",
    "Factory.all_labels"
   ]
  },
  {
   "cell_type": "code",
   "execution_count": null,
   "metadata": {
    "cell_style": "center",
    "run_control": {
     "frozen": false,
     "read_only": false
    },
    "slideshow": {
     "slide_type": "slide"
    }
   },
   "outputs": [],
   "source": [
    "%%ipythontutor width=1000 height=400\n",
    "class Factory:\n",
    "    all_labels = []\n",
    "    def __init__(self, label):\n",
    "        self.label = label\n",
    "        # ici je pourrais aussi bien écrire \n",
    "        # Factory.all_labels.append(label)\n",
    "        self.all_labels.append(label)\n",
    "f1 = Factory('premier')\n",
    "f2 = Factory('second')"
   ]
  },
  {
   "cell_type": "markdown",
   "metadata": {
    "run_control": {
     "frozen": false,
     "read_only": false
    },
    "slideshow": {
     "slide_type": "slide"
    }
   },
   "source": [
    "## **remarque importante** : lecture ≠ écriture"
   ]
  },
  {
   "cell_type": "markdown",
   "metadata": {
    "run_control": {
     "frozen": false,
     "read_only": false
    },
    "slideshow": {
     "slide_type": ""
    }
   },
   "source": [
    "* le mécanisme de recherche d'attribut qu'on vient de voir \n",
    "* ne fonctionne que **pour la lecture des attributs**\n",
    "* donc ici en partant de l'instance\n",
    "* on trouve bien l'attribut de la classe"
   ]
  },
  {
   "cell_type": "code",
   "execution_count": null,
   "metadata": {
    "cell_style": "split",
    "run_control": {
     "frozen": false,
     "read_only": false
    }
   },
   "outputs": [],
   "source": [
    "Factory.all_labels is f1.all_labels"
   ]
  },
  {
   "cell_type": "code",
   "execution_count": null,
   "metadata": {
    "cell_style": "split",
    "run_control": {
     "frozen": false,
     "read_only": false
    }
   },
   "outputs": [],
   "source": [
    "f1.all_labels"
   ]
  },
  {
   "cell_type": "markdown",
   "metadata": {
    "cell_style": "center",
    "run_control": {
     "frozen": false,
     "read_only": false
    },
    "slideshow": {
     "slide_type": "slide"
    }
   },
   "source": [
    "## **remarque importante** : lecture ≠ écriture"
   ]
  },
  {
   "cell_type": "markdown",
   "metadata": {
    "cell_style": "center",
    "run_control": {
     "frozen": false,
     "read_only": false
    },
    "slideshow": {
     "slide_type": ""
    }
   },
   "source": [
    "* mais attention lorsqu'on **écrit** un attribut \n",
    "  * *i.e.* si l'expression `foo.bar` est à gauche d'une affectation\n",
    "* alors l'attribut `bar` est créé/écrit **dans l'objet `foo`**\n",
    "* il n'y a **pas de recherche** dans ce cas !"
   ]
  },
  {
   "cell_type": "code",
   "execution_count": null,
   "metadata": {
    "cell_style": "split",
    "run_control": {
     "frozen": false,
     "read_only": false
    }
   },
   "outputs": [],
   "source": [
    "# ici on va créer un nouvel attribut\n",
    "# directement dans l'instance\n",
    "f1.all_labels = 'overridden'\n",
    "f1.all_labels"
   ]
  },
  {
   "cell_type": "code",
   "execution_count": null,
   "metadata": {
    "cell_style": "split",
    "run_control": {
     "frozen": false,
     "read_only": false
    }
   },
   "outputs": [],
   "source": [
    "f2.all_labels"
   ]
  },
  {
   "cell_type": "code",
   "execution_count": null,
   "metadata": {
    "cell_style": "split",
    "run_control": {
     "frozen": false,
     "read_only": false
    }
   },
   "outputs": [],
   "source": [
    "f1.all_labels"
   ]
  },
  {
   "cell_type": "code",
   "execution_count": null,
   "metadata": {
    "slideshow": {
     "slide_type": "slide"
    }
   },
   "outputs": [],
   "source": [
    "%%ipythontutor width=1000 height=400 curInstr=11\n",
    "class Factory:\n",
    "    # un compteur global à la classe\n",
    "    all_labels = []\n",
    "\n",
    "    def __init__(self, label):\n",
    "        self.label = label\n",
    "        Factory.all_labels.append(label)\n",
    "\n",
    "f1 = Factory('premier')\n",
    "f2 = Factory('second')\n",
    "\n",
    "f1.all_labels = 'overridden'"
   ]
  },
  {
   "cell_type": "markdown",
   "metadata": {
    "slideshow": {
     "slide_type": "slide"
    }
   },
   "source": [
    "### lecture ≠ écriture - discussion\n",
    "\n",
    "* cela ne se remarque pas avec les méthodes \n",
    "  * car c'est très rare d'écrire `instance.methode = ...`\n",
    "* mais du coup, lire et écrire un attribut ne **sont pas symétriques**"
   ]
  },
  {
   "cell_type": "markdown",
   "metadata": {
    "run_control": {
     "frozen": false,
     "read_only": false
    },
    "slideshow": {
     "slide_type": "slide"
    }
   },
   "source": [
    "ce phénomène exhibe un très lointain rapport\n",
    "* avec le scope lexical des variables\n",
    "* et le `UnboundLocalError`"
   ]
  },
  {
   "cell_type": "code",
   "execution_count": null,
   "metadata": {
    "cell_style": "split",
    "run_control": {
     "frozen": false,
     "read_only": false
    }
   },
   "outputs": [],
   "source": [
    "foo = 12\n",
    "\n",
    "def fun():\n",
    "    # on peut lire la variable\n",
    "    # de scope englobant\n",
    "    print(foo)\n",
    "fun()"
   ]
  },
  {
   "cell_type": "code",
   "execution_count": null,
   "metadata": {
    "cell_style": "split",
    "run_control": {
     "frozen": false,
     "read_only": false
    }
   },
   "outputs": [],
   "source": [
    "def bar():\n",
    "    # ou créer une variable\n",
    "    # dans ce scope\n",
    "    foo = 13\n",
    "bar()\n",
    "print(foo)"
   ]
  },
  {
   "cell_type": "code",
   "execution_count": null,
   "metadata": {
    "run_control": {
     "frozen": false,
     "read_only": false
    }
   },
   "outputs": [],
   "source": [
    "def tutu():\n",
    "    # mais pas les deux\n",
    "    try:\n",
    "        print(foo)\n",
    "        foo = 13\n",
    "    except UnboundLocalError as e:\n",
    "        print(\"OOPS\", e)\n",
    "tutu()"
   ]
  },
  {
   "cell_type": "markdown",
   "metadata": {
    "run_control": {
     "frozen": false,
     "read_only": false
    },
    "slideshow": {
     "slide_type": "slide"
    }
   },
   "source": [
    "# résumé"
   ]
  },
  {
   "cell_type": "markdown",
   "metadata": {
    "run_control": {
     "frozen": false,
     "read_only": false
    },
    "slideshow": {
     "slide_type": ""
    }
   },
   "source": [
    "* le mécanisme d'annotation des objets par les attributs  \n",
    "  et de recherche le long d'un chemin\n",
    "* constitue le coeur de ce qui est à l'oeuvre  \n",
    "  lorsqu'on fait de la Programmation Objet\n",
    "* on va le voir sur des exemples plus pratiques\n",
    "* avec comme avantages\n",
    "  * la modularité / encapsulation\n",
    "  * la factorisation de code / réutilisabilité"
   ]
  },
  {
   "cell_type": "markdown",
   "metadata": {
    "run_control": {
     "frozen": false,
     "read_only": false
    },
    "slideshow": {
     "slide_type": "slide"
    }
   },
   "source": [
    "# encapsulation"
   ]
  },
  {
   "cell_type": "markdown",
   "metadata": {
    "run_control": {
     "frozen": false,
     "read_only": false
    }
   },
   "source": [
    "* consiste à définir un **ensemble d'opérations**\n",
    "* qui sont **les seules à travers lesquelles**  \n",
    "  on peut manipule ces objets\n",
    "* en préservant de bonnes propriétés / invariants\n",
    "* (que idéalement on peut prouver)"
   ]
  },
  {
   "cell_type": "markdown",
   "metadata": {
    "cell_style": "split",
    "run_control": {
     "frozen": false,
     "read_only": false
    },
    "slideshow": {
     "slide_type": "slide"
    }
   },
   "source": [
    "### dans d'autres langages\n",
    "\n",
    "* on trouve des mécanismes de protection\n",
    "* notamment attributs privés ou publics\n",
    "* visant à éviter les erreurs"
   ]
  },
  {
   "cell_type": "markdown",
   "metadata": {
    "cell_style": "split",
    "run_control": {
     "frozen": false,
     "read_only": false
    },
    "slideshow": {
     "slide_type": ""
    }
   },
   "source": [
    "### moins le cas en python\n",
    "\n",
    "* tradition  \n",
    "  \"*we're all consenting adults here*\"\n",
    "* quelques mécanismes *best-effort*  \n",
    "  notamment noms commençant par `_`\n",
    "* l'idée reste néanmoins très utile\n",
    "* on peut arriver à un résultat convaincant"
   ]
  },
  {
   "cell_type": "markdown",
   "metadata": {
    "run_control": {
     "frozen": false,
     "read_only": false
    },
    "slideshow": {
     "slide_type": "slide"
    }
   },
   "source": [
    "### applications"
   ]
  },
  {
   "cell_type": "markdown",
   "metadata": {
    "run_control": {
     "frozen": false,
     "read_only": false
    },
    "slideshow": {
     "slide_type": ""
    }
   },
   "source": [
    "* par exemple `numpy.ndarray`\n",
    "  * qui enforce le type des différents composants\n",
    "* classe d'utilitaires réseau\n",
    "  * qui conservent l'état de la connexion\n",
    "  * pour faire ce qu'il faut au bon moment\n",
    "* ..."
   ]
  },
  {
   "cell_type": "markdown",
   "metadata": {
    "run_control": {
     "frozen": false,
     "read_only": false
    },
    "slideshow": {
     "slide_type": "slide"
    }
   },
   "source": [
    "### bénéfices"
   ]
  },
  {
   "cell_type": "markdown",
   "metadata": {
    "cell_style": "center",
    "run_control": {
     "frozen": false,
     "read_only": false
    },
    "slideshow": {
     "slide_type": ""
    }
   },
   "source": [
    "c'est un des premiers bénéfices de la POO\n",
    "\n",
    "* que de pouvoir grouper les données\n",
    "* avec les traitements\n",
    "* dans une unité de programmation\n",
    "* facilement réutilisable\n",
    "* pas besoin d'héritage pour tout ça"
   ]
  },
  {
   "cell_type": "markdown",
   "metadata": {
    "run_control": {
     "frozen": false,
     "read_only": false
    },
    "slideshow": {
     "slide_type": "slide"
    }
   },
   "source": [
    "# code réel"
   ]
  },
  {
   "cell_type": "markdown",
   "metadata": {
    "run_control": {
     "frozen": false,
     "read_only": false
    },
    "slideshow": {
     "slide_type": ""
    }
   },
   "source": [
    "* très souvent, pas de protection particulière\n",
    "* \"we're all consenting adults here\"\n",
    "* l'idée étant de pouvoir remplacer plus tard, si nécessaire,  \n",
    "  l'attribut par une `property` qui fasse les contrôles"
   ]
  },
  {
   "cell_type": "code",
   "execution_count": null,
   "metadata": {
    "cell_style": "split",
    "run_control": {
     "frozen": false,
     "read_only": false
    }
   },
   "outputs": [],
   "source": [
    "# une jauge a une valeur forcément \n",
    "# dans un intervalle fixe\n",
    "# \n",
    "# toutefois en Python on expose typiquement\n",
    "# un attribut `value` en lecture / écriture\n",
    "# \n",
    "class Gauge:\n",
    "    def __init__(self, value):\n",
    "        self.value = value\n",
    "\n",
    "# le code utilisateur peut lire\n",
    "# et écrire librement l'objet"
   ]
  },
  {
   "cell_type": "markdown",
   "metadata": {
    "cell_style": "split"
   },
   "source": [
    "En C++ / Java typiquement, on définirait ici \n",
    "* un attribut privé `_value`\n",
    "* deux méthodes *getter/setter*\n",
    "\n",
    "le code utilisateur accède l'objet uniquement\n",
    "au travers de ces deux méthodes\n"
   ]
  },
  {
   "cell_type": "markdown",
   "metadata": {
    "run_control": {
     "frozen": false,
     "read_only": false
    },
    "slideshow": {
     "slide_type": "slide"
    }
   },
   "source": [
    "# mécanismes Python pour l'encapsulation"
   ]
  },
  {
   "cell_type": "markdown",
   "metadata": {
    "run_control": {
     "frozen": false,
     "read_only": false
    },
    "slideshow": {
     "slide_type": ""
    }
   },
   "source": [
    "* les mécanismes offerts par Python \n",
    "  * visibilité des attributs\n",
    "  * properties"
   ]
  },
  {
   "cell_type": "markdown",
   "metadata": {
    "run_control": {
     "frozen": false,
     "read_only": false
    },
    "slideshow": {
     "slide_type": "slide"
    }
   },
   "source": [
    "## visibilité des attributs"
   ]
  },
  {
   "cell_type": "markdown",
   "metadata": {
    "run_control": {
     "frozen": false,
     "read_only": false
    }
   },
   "source": [
    "* pas de vraie notion d'attributs privé/public \n",
    "* **toutefois** des conventions de nommage"
   ]
  },
  {
   "cell_type": "markdown",
   "metadata": {
    "run_control": {
     "frozen": false,
     "read_only": false
    },
    "slideshow": {
     "slide_type": "slide"
    }
   },
   "source": [
    "### PEP8\n",
    "\n",
    "* `_single_leading_underscore` : \n",
    "  * weak \"internal use\" indicator. E.g. `from M import *` does not import objects whose name starts with an underscore.\n",
    "  * correspond *en gros* aux champs protégés\n",
    "  * **enforcé** seulement pour les **modules**\n",
    "  * dans les classes, cela est juste une indication"
   ]
  },
  {
   "cell_type": "markdown",
   "metadata": {
    "run_control": {
     "frozen": false,
     "read_only": false
    },
    "slideshow": {
     "slide_type": "slide"
    }
   },
   "source": [
    "### PEP8\n",
    "\n",
    "* `__double_leading_underscore` : \n",
    "  * when naming a class attribute, invokes name mangling  \n",
    "    (inside class `FooBar`, `__boo` becomes `_FooBar__boo` ; see below).\n",
    "\n",
    "  * correspond *en gros* aux champs privés"
   ]
  },
  {
   "cell_type": "markdown",
   "metadata": {
    "run_control": {
     "frozen": false,
     "read_only": false
    },
    "slideshow": {
     "slide_type": "slide"
    }
   },
   "source": [
    "### PEP8 ...\n",
    "\n",
    "* `__double_leading_and_trailing_underscore__`\n",
    "  *  \"magic\" objects or attributes that live in user-controlled namespaces. E.g. `__init__` , `__import__` or `__file__` . \n",
    "  * **never invent such names**; only use them as documented.\n",
    "\n",
    "* `single_trailing_underscore_` : \n",
    "  * used by convention to avoid conflicts with Python keyword, e.g.\n",
    "  * `Tkinter.Toplevel(master, class_='ClassName')`"
   ]
  },
  {
   "cell_type": "code",
   "execution_count": null,
   "metadata": {
    "cell_style": "split",
    "run_control": {
     "frozen": false,
     "read_only": false
    },
    "slideshow": {
     "slide_type": "slide"
    }
   },
   "outputs": [],
   "source": [
    "class Underscore:\n",
    "    def __init__(self, x): \n",
    "        self.x = x\n",
    "        self._x = x ** 2\n",
    "        self.__x = x ** 3\n",
    "u = Underscore(10)"
   ]
  },
  {
   "cell_type": "code",
   "execution_count": null,
   "metadata": {
    "cell_style": "split",
    "run_control": {
     "frozen": false,
     "read_only": false
    }
   },
   "outputs": [],
   "source": [
    "# on peut lire et écrire x\n",
    "u.x = 2 * u.x\n",
    "\n",
    "# on peut lire et écrire _x !\n",
    "u._x = 2 * u._x"
   ]
  },
  {
   "cell_type": "code",
   "execution_count": null,
   "metadata": {
    "run_control": {
     "frozen": false,
     "read_only": false
    }
   },
   "outputs": [],
   "source": [
    "# mais même pas lire __x\n",
    "try:       \n",
    "    u.__x\n",
    "except AttributeError as e:\n",
    "    print(f\"OOPS {type(e)}: {e}\")"
   ]
  },
  {
   "cell_type": "markdown",
   "metadata": {
    "run_control": {
     "frozen": false,
     "read_only": false
    },
    "slideshow": {
     "slide_type": "slide"
    }
   },
   "source": [
    "### nommage des attributs et underscores"
   ]
  },
  {
   "cell_type": "markdown",
   "metadata": {
    "run_control": {
     "frozen": false,
     "read_only": false
    },
    "slideshow": {
     "slide_type": "slide"
    }
   },
   "source": [
    "* le fait de préfixer les attributs d'une classe\n",
    "  * avec un ou deux underscores\n",
    "* n'est donc pas très significatif pour le langage\n",
    "* mais fait passer aux humains\n",
    "  * le message selon lequel\n",
    "  * il vaut mieux ne pas y accéder directement"
   ]
  },
  {
   "cell_type": "markdown",
   "metadata": {
    "run_control": {
     "frozen": false,
     "read_only": false
    },
    "slideshow": {
     "slide_type": "slide"
    }
   },
   "source": [
    "## properties"
   ]
  },
  {
   "cell_type": "markdown",
   "metadata": {
    "run_control": {
     "frozen": false,
     "read_only": false
    },
    "slideshow": {
     "slide_type": ""
    }
   },
   "source": [
    "* on a vu avec la classe Gauge\n",
    "* la dualité attribut/méthodes d'accès\n",
    "  * un attribut privé\n",
    "  * des méthodes pour lire/écrire\n",
    "* avec les *properties* on a le beurre et l'argent du beurre\n",
    "  * le code utilisateur a l'impression d'accéder directement aux attributs\n",
    "  * sauf qu'en fait grâce à la property on peut insérer une couche de logique\n",
    "  * pour vérifier le bon usage, exactement comme avec des get/set"
   ]
  },
  {
   "cell_type": "markdown",
   "metadata": {
    "slideshow": {
     "slide_type": "slide"
    }
   },
   "source": [
    "### properties *vs* getter/setter"
   ]
  },
  {
   "cell_type": "markdown",
   "metadata": {},
   "source": [
    "dans un langage avec protection \"dure\" comme C++ ou Java:\n",
    "\n",
    "* on expose très souvent une API à base de `get/set` "
   ]
  },
  {
   "cell_type": "markdown",
   "metadata": {},
   "source": [
    "ce n'est pas du tout le cas en Python:\n",
    "\n",
    "* on commence avec un attribut 'nu'\n",
    "* lorsqu'il faut implémenter des contrôles  \n",
    "  on remplace l'attribut par une property\n",
    "\n",
    "* tout en préservant l'API"
   ]
  },
  {
   "cell_type": "markdown",
   "metadata": {
    "slideshow": {
     "slide_type": "slide"
    }
   },
   "source": [
    "### deux formes pour la même construction"
   ]
  },
  {
   "cell_type": "markdown",
   "metadata": {},
   "source": [
    "il existe deux syntaxes différentes pour créer une property dans une classe\n",
    "\n",
    "* **sans décorateur**\n",
    "  * on écrit le getter et le setter\n",
    "  * l'attribut est créé comme une `property` à partir des deux\n",
    "* **avec décorateur**\n",
    "  * on définit la property avec le décorateur `@property`   \n",
    "    à partir du getter\n",
    "  * puis on peut ensuite ajouter le `setter`\n",
    "  \n",
    "*NB :* dans les deux cas on peut aussi fournir un *deletter*"
   ]
  },
  {
   "cell_type": "markdown",
   "metadata": {
    "slideshow": {
     "slide_type": "slide"
    }
   },
   "source": [
    "### syntaxe sans décorateur"
   ]
  },
  {
   "cell_type": "code",
   "execution_count": null,
   "metadata": {
    "run_control": {
     "frozen": false,
     "read_only": false
    },
    "slideshow": {
     "slide_type": ""
    }
   },
   "outputs": [],
   "source": [
    "# une classe qui implémente une valeur\n",
    "# garantie de rester entre 0 et 1000\n",
    "\n",
    "class Constrained:\n",
    "    \"\"\"\n",
    "    Une jauge qui contraint sa valeur dans un intervalle\n",
    "    \"\"\"\n",
    "    def __init__(self, value):\n",
    "        # on appelle déjà le setter ici\n",
    "        self.value = value\n",
    "\n",
    "    # le getter\n",
    "    def _get_value(self):\n",
    "        # la vraie valeur est dans l'attribut _value\n",
    "        return self._value\n",
    "\n",
    "    # le setter\n",
    "    def _set_value(self, value):\n",
    "        # on vérifie la contrainte\n",
    "        self._value = min(1000, max(0, value))\n",
    "\n",
    "    # c'est ici qu'on définit la property `value`\n",
    "    value = property(fget=_get_value, fset=_set_value, \n",
    "                     doc=\"a constrained value between 0 and 1000\")"
   ]
  },
  {
   "cell_type": "code",
   "execution_count": null,
   "metadata": {
    "run_control": {
     "frozen": false,
     "read_only": false
    },
    "slideshow": {
     "slide_type": "slide"
    }
   },
   "outputs": [],
   "source": [
    "c1, c2, c3 = Constrained(-12), Constrained(500), Constrained(2000)\n",
    "c1.value, c2.value, c3.value"
   ]
  },
  {
   "cell_type": "code",
   "execution_count": null,
   "metadata": {
    "cell_style": "center",
    "run_control": {
     "frozen": false,
     "read_only": false
    }
   },
   "outputs": [],
   "source": [
    "# l'API ressemble toujours à une \n",
    "# simple utilisation d'attribut\n",
    "c2.value = 10**6\n",
    "c2.value"
   ]
  },
  {
   "cell_type": "markdown",
   "metadata": {
    "slideshow": {
     "slide_type": "slide"
    }
   },
   "source": [
    "### syntaxe avec décorateur"
   ]
  },
  {
   "cell_type": "code",
   "execution_count": null,
   "metadata": {
    "run_control": {
     "frozen": false,
     "read_only": false
    },
    "slideshow": {
     "slide_type": ""
    }
   },
   "outputs": [],
   "source": [
    "# pareil avec un décorateur - syntaxe moins agréable IMHO\n",
    "\n",
    "class ConstrainedDeco:\n",
    "    \"\"\"\n",
    "    Une jauge qui contraint sa valeur dans un intervalle\n",
    "    \"\"\"\n",
    "\n",
    "    def __init__(self, value):\n",
    "        # on appelle le setter déjà ici\n",
    "        self.value = value\n",
    "\n",
    "    # le getter - qui définit la property\n",
    "    @property\n",
    "    def value(self):\n",
    "        \"\"\"a constrained value between 0 and 1000\"\"\"\n",
    "        return self._value\n",
    "\n",
    "    # le setter\n",
    "    @value.setter\n",
    "    def value(self, value):\n",
    "        self._value = min(1000, max(0, value))"
   ]
  },
  {
   "cell_type": "code",
   "execution_count": null,
   "metadata": {
    "cell_style": "center",
    "run_control": {
     "frozen": false,
     "read_only": false
    },
    "slideshow": {
     "slide_type": "slide"
    }
   },
   "outputs": [],
   "source": [
    "d1, d2, d3 = ConstrainedDeco(-12), ConstrainedDeco(500), ConstrainedDeco(2000)\n",
    "d1.value, d2.value, d3.value"
   ]
  },
  {
   "cell_type": "code",
   "execution_count": null,
   "metadata": {
    "run_control": {
     "frozen": false,
     "read_only": false
    }
   },
   "outputs": [],
   "source": [
    "d2.value = 10**6\n",
    "d2.value"
   ]
  },
  {
   "cell_type": "markdown",
   "metadata": {
    "run_control": {
     "frozen": false,
     "read_only": false
    },
    "slideshow": {
     "slide_type": "slide"
    }
   },
   "source": [
    "## résumé properties"
   ]
  },
  {
   "cell_type": "markdown",
   "metadata": {
    "run_control": {
     "frozen": false,
     "read_only": false
    },
    "slideshow": {
     "slide_type": ""
    }
   },
   "source": [
    "grâce aux *properties*, on peut\n",
    "\n",
    "* exposer une API simple  \n",
    "  accès direct aux attributs  \n",
    "  sans imposer à l'appelant de vilaines périphrases\n",
    "\n",
    "* en se réservant la possibilité  \n",
    "  de créer des getters/setters (et deleters)  \n",
    "  ultérieurement si/lorsque nécessaire\n"
   ]
  },
  {
   "cell_type": "markdown",
   "metadata": {
    "run_control": {
     "frozen": false,
     "read_only": false
    },
    "slideshow": {
     "slide_type": "slide"
    }
   },
   "source": [
    "## exercice"
   ]
  },
  {
   "cell_type": "markdown",
   "metadata": {
    "run_control": {
     "frozen": false,
     "read_only": false
    },
    "slideshow": {
     "slide_type": ""
    }
   },
   "source": [
    "* écrire une variante de `Constrained` \n",
    "* avec des bornes variables\n",
    "* passées au constructeur\n",
    "\n",
    "```\n",
    ">>> ma_jauge = ConstrainedMinMax(500, min=100, max=200)\n",
    ">>> ma_jauge.value\n",
    "    200\n",
    "```"
   ]
  },
  {
   "cell_type": "markdown",
   "metadata": {
    "slideshow": {
     "slide_type": "slide"
    }
   },
   "source": [
    "# dataclasses"
   ]
  },
  {
   "cell_type": "markdown",
   "metadata": {},
   "source": [
    "depuis Python-3.7, ce mécanisme permet \n",
    "\n",
    "* de définir plus rapidement\n",
    "* une classe comme une simple juxtaposition de données"
   ]
  },
  {
   "cell_type": "markdown",
   "metadata": {},
   "source": [
    "par contre\n",
    "\n",
    "* nécessite les *type hints*\n",
    "* et parce que dispo depuis 3.7, encore assez peu répandu"
   ]
  },
  {
   "cell_type": "code",
   "execution_count": null,
   "metadata": {
    "slideshow": {
     "slide_type": "slide"
    }
   },
   "outputs": [],
   "source": [
    "from dataclasses import dataclass"
   ]
  },
  {
   "cell_type": "code",
   "execution_count": null,
   "metadata": {
    "cell_style": "split"
   },
   "outputs": [],
   "source": [
    "@dataclass\n",
    "class Airport:\n",
    "    airport_id: int\n",
    "    iata: str\n",
    "    latitude: float\n",
    "    longitude: float"
   ]
  },
  {
   "cell_type": "code",
   "execution_count": null,
   "metadata": {
    "cell_style": "split"
   },
   "outputs": [],
   "source": [
    "nice = Airport(5879, \"NCE\", 7, 43)"
   ]
  },
  {
   "cell_type": "code",
   "execution_count": null,
   "metadata": {
    "cell_style": "split"
   },
   "outputs": [],
   "source": [
    "nice"
   ]
  },
  {
   "cell_type": "markdown",
   "metadata": {
    "run_control": {
     "frozen": false,
     "read_only": false
    },
    "slideshow": {
     "slide_type": "slide"
    }
   },
   "source": [
    "# résumé encapsulation"
   ]
  },
  {
   "cell_type": "markdown",
   "metadata": {
    "run_control": {
     "frozen": false,
     "read_only": false
    },
    "slideshow": {
     "slide_type": ""
    }
   },
   "source": [
    "* deux techniques pour aider à l'encapsulation\n",
    "  * sous-titrer le rôle des attributs de données\n",
    "  * utiliser les properies pour contrôler les accès\n",
    "* en pratique\n",
    "  * Python est un langage pragmatique\n",
    "  * on commence presque toujours par la version 'simple'\n",
    "  * et on ajoute des properties au besoin par la suite"
   ]
  }
 ],
 "metadata": {
  "celltoolbar": "Slideshow",
  "jupytext": {
   "cell_metadata_filter": "all",
   "notebook_metadata_filter": "all,-language_info"
  },
  "kernelspec": {
   "display_name": "Python 3",
   "language": "python",
   "name": "python3"
  },
  "language_info": {
   "codemirror_mode": {
    "name": "ipython",
    "version": 3
   },
   "file_extension": ".py",
   "mimetype": "text/x-python",
   "name": "python",
   "nbconvert_exporter": "python",
   "pygments_lexer": "ipython3",
   "version": "3.7.4"
  },
  "notebookname": "encapsulation",
  "rise": {
   "autolaunch": true,
   "slideNumber": "c/t",
   "start_slideshow_at": "selected",
   "theme": "sky",
   "transition": "cube"
  },
  "toc": {
   "colors": {
    "hover_highlight": "#DAA520",
    "running_highlight": "#FF0000",
    "selected_highlight": "#FFD700"
   },
   "moveMenuLeft": true,
   "nav_menu": {
    "height": "513px",
    "width": "253px"
   },
   "navigate_menu": true,
   "number_sections": true,
   "sideBar": true,
   "threshold": "2",
   "toc_cell": false,
   "toc_section_display": "block",
   "toc_window_display": false,
   "widenNotebook": false
  },
  "version": "1.0"
 },
 "nbformat": 4,
 "nbformat_minor": 2
}
