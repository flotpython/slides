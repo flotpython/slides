{
 "cells": [
  {
   "cell_type": "markdown",
   "metadata": {
    "run_control": {
     "frozen": false,
     "read_only": false
    },
    "slideshow": {
     "slide_type": "slide"
    }
   },
   "source": [
    "<div class=\"licence\">\n",
    "<span>Licence CC BY-NC-ND</span>\n",
    "<span>Thierry Parmentelat &amp; Arnaud Legout</span>\n",
    "</div>"
   ]
  },
  {
   "cell_type": "code",
   "execution_count": null,
   "metadata": {
    "slideshow": {
     "slide_type": "slide"
    }
   },
   "outputs": [],
   "source": [
    "from plan import plan; plan(\"classes\", \"encapsulation\")"
   ]
  },
  {
   "cell_type": "markdown",
   "metadata": {
    "run_control": {
     "frozen": false,
     "read_only": false
    },
    "slideshow": {
     "slide_type": "slide"
    }
   },
   "source": [
    "# pour réutiliser du code en python"
   ]
  },
  {
   "cell_type": "markdown",
   "metadata": {
    "run_control": {
     "frozen": false,
     "read_only": false
    }
   },
   "source": [
    "* fonctions\n",
    "  * pas d'état après exécution\n",
    "* modules\n",
    "  * garde l'état\n",
    "  * une seule instance par programme\n",
    "* **classes**\n",
    "  * **instances multiples**\n",
    "  * **chacune garde l'état**\n",
    "  * **héritage**"
   ]
  },
  {
   "cell_type": "markdown",
   "metadata": {
    "slideshow": {
     "slide_type": "slide"
    }
   },
   "source": [
    "### rappel: primer"
   ]
  },
  {
   "cell_type": "code",
   "execution_count": null,
   "metadata": {
    "cell_style": "split"
   },
   "outputs": [],
   "source": [
    "class MyFirstClass:\n",
    "    \n",
    "    def __init__(self, nom, age):\n",
    "        self.nom = nom\n",
    "        self.age = age\n",
    "        \n",
    "    def __repr__(self):\n",
    "        return (f\"je suis {self.nom}, \"\n",
    "                f\"j'ai {self.age} ans\")"
   ]
  },
  {
   "cell_type": "code",
   "execution_count": null,
   "metadata": {
    "cell_style": "split"
   },
   "outputs": [],
   "source": [
    "person = MyFirstClass(\n",
    "    \"Jean Dupont\", 25)\n",
    "person"
   ]
  },
  {
   "cell_type": "markdown",
   "metadata": {
    "run_control": {
     "frozen": false,
     "read_only": false
    },
    "slideshow": {
     "slide_type": "slide"
    }
   },
   "source": [
    "### programmation orientée objet - pourquoi et comment ?"
   ]
  },
  {
   "cell_type": "markdown",
   "metadata": {
    "run_control": {
     "frozen": false,
     "read_only": false
    }
   },
   "source": [
    "##  deux objectifs \n",
    "\n",
    "* modularité\n",
    "* réutilisabilité"
   ]
  },
  {
   "cell_type": "markdown",
   "metadata": {
    "run_control": {
     "frozen": false,
     "read_only": false
    }
   },
   "source": [
    "## deux moyens \n",
    "\n",
    "* espaces de nom\n",
    "* héritage"
   ]
  },
  {
   "cell_type": "markdown",
   "metadata": {
    "run_control": {
     "frozen": false,
     "read_only": false
    },
    "slideshow": {
     "slide_type": "slide"
    }
   },
   "source": [
    "# avertissement"
   ]
  },
  {
   "cell_type": "markdown",
   "metadata": {
    "run_control": {
     "frozen": false,
     "read_only": false
    }
   },
   "source": [
    "* la POO est présente dans tous les langages modernes\n",
    "* cependant l'implémentation *a un impact*\n",
    "* sur le paradigme présenté au programmeur\n",
    "* se méfier des habitudes héritées d'autres langages"
   ]
  },
  {
   "cell_type": "markdown",
   "metadata": {
    "run_control": {
     "frozen": false,
     "read_only": false
    },
    "slideshow": {
     "slide_type": "slide"
    }
   },
   "source": [
    "* C++/Java\n",
    "  * fort typage statique\n",
    "  * **impose** l'existence d'une classe *chapeau* \n",
    "  * par exemple la classe `Simulable`\n",
    "* Python\n",
    "  * on peut parfaitement se passer de la classe `Simulable`\n",
    "  * pourvu que les classes concrètes\n",
    "  * disposent des méthodes à run-time\n",
    "  * c'est le *duck typing*"
   ]
  },
  {
   "cell_type": "markdown",
   "metadata": {
    "run_control": {
     "frozen": false,
     "read_only": false
    },
    "slideshow": {
     "slide_type": "slide"
    }
   },
   "source": [
    "# modularité"
   ]
  },
  {
   "cell_type": "markdown",
   "metadata": {
    "run_control": {
     "frozen": false,
     "read_only": false
    }
   },
   "source": [
    "* du code modulaire\n",
    "  * grouper le code dans une classe\n",
    "  * grouper les données dans un objet\n",
    "* complémentaire avec\n",
    "  * les notions de module\n",
    "  * et de package\n",
    "* c'est là qu'interviennent les espaces de nom"
   ]
  },
  {
   "cell_type": "markdown",
   "metadata": {
    "run_control": {
     "frozen": false,
     "read_only": false
    },
    "slideshow": {
     "slide_type": "slide"
    }
   },
   "source": [
    "# réutilisabilité"
   ]
  },
  {
   "cell_type": "markdown",
   "metadata": {
    "run_control": {
     "frozen": false,
     "read_only": false
    }
   },
   "source": [
    "* DRY: chaque fonctionnalité écrite une seule fois\n",
    "* maintenance plus simple\n",
    "* du code générique\n",
    "  * ex: un simulateur fait \"avancer\" une liste d'objets\n",
    "  * dès qu'un objet explique comment il avance\n",
    "  * il peut faire partie de la simulation\n",
    "* c'est là qu'intervient l'héritage"
   ]
  },
  {
   "cell_type": "markdown",
   "metadata": {
    "run_control": {
     "frozen": false,
     "read_only": false
    },
    "slideshow": {
     "slide_type": "slide"
    }
   },
   "source": [
    "# espaces de nom"
   ]
  },
  {
   "cell_type": "markdown",
   "metadata": {
    "run_control": {
     "frozen": false,
     "read_only": false
    }
   },
   "source": [
    "* tous les objets qui sont\n",
    "  * un package\n",
    "  * un module\n",
    "  * une classe\n",
    "  * une instance\n",
    "* constituent chacun un espace de nom\n",
    "  * i.e. une association *attribut* → *objet*"
   ]
  },
  {
   "cell_type": "markdown",
   "metadata": {
    "run_control": {
     "frozen": false,
     "read_only": false
    },
    "slideshow": {
     "slide_type": "slide"
    }
   },
   "source": [
    "# espaces de nom - suite"
   ]
  },
  {
   "cell_type": "markdown",
   "metadata": {
    "run_control": {
     "frozen": false,
     "read_only": false
    }
   },
   "source": [
    "* permet de lever l'ambigüité en cas d'homonymie\n",
    "* cf. exemple du C *old-school*\n",
    "* les espaces de nom sont imbriqués (*nested*)\n",
    "  * ex. `package.module.classe.methode`\n",
    "* on peut accéder à tous les objets\n",
    "  * dès qu'on sait partir d'une variable\n",
    "  * par exemple un module importé\n",
    "* l'héritage rend cela dynamique"
   ]
  },
  {
   "cell_type": "markdown",
   "metadata": {
    "run_control": {
     "frozen": false,
     "read_only": false
    },
    "slideshow": {
     "slide_type": "slide"
    }
   },
   "source": [
    "# digression"
   ]
  },
  {
   "cell_type": "markdown",
   "metadata": {
    "cell_style": "split",
    "run_control": {
     "frozen": false,
     "read_only": false
    }
   },
   "source": [
    "### deux mondes étanches\n",
    "\n",
    "* variables \n",
    "* objets"
   ]
  },
  {
   "cell_type": "markdown",
   "metadata": {
    "cell_style": "split",
    "run_control": {
     "frozen": false,
     "read_only": false
    }
   },
   "source": [
    "### se mélangent "
   ]
  },
  {
   "cell_type": "markdown",
   "metadata": {
    "run_control": {
     "frozen": false,
     "read_only": false
    }
   },
   "source": [
    "* typiquement dans une expression comme `a.b.c.d`"
   ]
  },
  {
   "cell_type": "markdown",
   "metadata": {
    "cell_style": "split",
    "run_control": {
     "frozen": false,
     "read_only": false
    }
   },
   "source": [
    "* `a` est une **variable**"
   ]
  },
  {
   "cell_type": "markdown",
   "metadata": {
    "cell_style": "split",
    "run_control": {
     "frozen": false,
     "read_only": false
    }
   },
   "source": [
    "* `b`, `c` et `d` sont des **attributs**"
   ]
  },
  {
   "cell_type": "markdown",
   "metadata": {
    "run_control": {
     "frozen": false,
     "read_only": false
    },
    "slideshow": {
     "slide_type": "slide"
    }
   },
   "source": [
    "## deux mécaniques totalement différentes"
   ]
  },
  {
   "cell_type": "markdown",
   "metadata": {
    "cell_style": "split",
    "run_control": {
     "frozen": false,
     "read_only": false
    },
    "slideshow": {
     "slide_type": "slide"
    }
   },
   "source": [
    "### résolution des **variables**\n",
    "\n",
    "* entièrement **lexical**\n",
    "* en remontant dans le code\n",
    "* avec les règles LEGB"
   ]
  },
  {
   "cell_type": "markdown",
   "metadata": {
    "cell_style": "split",
    "run_control": {
     "frozen": false,
     "read_only": false
    },
    "slideshow": {
     "slide_type": "slide"
    }
   },
   "source": [
    "### résolution des **attributs**\n",
    "\n",
    "* dans le monde des **objets**\n",
    "* essentiellement **dynamique**\n",
    "* en remontant les espaces de nom"
   ]
  },
  {
   "cell_type": "markdown",
   "metadata": {
    "run_control": {
     "frozen": false,
     "read_only": false
    },
    "slideshow": {
     "slide_type": "slide"
    }
   },
   "source": [
    "# héritage"
   ]
  },
  {
   "cell_type": "markdown",
   "metadata": {
    "run_control": {
     "frozen": false,
     "read_only": false
    },
    "slideshow": {
     "slide_type": ""
    }
   },
   "source": [
    "* la résolution des attributs\n",
    "* fournit la mécanique de base\n",
    "* sur laquelle on a - très peu - élaboré\n",
    "* pour implémenter l'héritage\n",
    "* on verra ça en détails plus tard"
   ]
  },
  {
   "cell_type": "markdown",
   "metadata": {
    "run_control": {
     "frozen": false,
     "read_only": false
    },
    "slideshow": {
     "slide_type": "slide"
    }
   },
   "source": [
    "# ex: une classe et une instance"
   ]
  },
  {
   "cell_type": "code",
   "execution_count": null,
   "metadata": {
    "cell_style": "split",
    "run_control": {
     "frozen": false,
     "read_only": false
    }
   },
   "outputs": [],
   "source": [
    "# une classe sans heritage\n",
    "# et sans méthode\n",
    "class Point:\n",
    "    def __init__(self, x, y):\n",
    "        self.x = x\n",
    "        self.y = y"
   ]
  },
  {
   "cell_type": "code",
   "execution_count": null,
   "metadata": {
    "cell_style": "split",
    "run_control": {
     "frozen": false,
     "read_only": false
    }
   },
   "outputs": [],
   "source": [
    "point = Point(2, 3)\n",
    "point.x"
   ]
  },
  {
   "cell_type": "markdown",
   "metadata": {
    "run_control": {
     "frozen": false,
     "read_only": false
    },
    "slideshow": {
     "slide_type": "slide"
    }
   },
   "source": [
    "## à noter"
   ]
  },
  {
   "cell_type": "markdown",
   "metadata": {
    "run_control": {
     "frozen": false,
     "read_only": false
    },
    "slideshow": {
     "slide_type": ""
    }
   },
   "source": [
    "* comme tous les types, `Point` est une usine à objets\n",
    "  * cf. `list({1, 2, 3})`\n",
    "* donc pour créer une instance, on *appelle* cet objet *classe*\n",
    "* la méthode `__init__` nous permet de définir\n",
    "  * ce qui est fait lors de la construction de l'objet\n",
    "  * c'est-à-dire à l'appel de `Point(2, 3)`\n",
    "* remarquez le premier paramètre `self`"
   ]
  },
  {
   "cell_type": "markdown",
   "metadata": {
    "run_control": {
     "frozen": false,
     "read_only": false
    },
    "slideshow": {
     "slide_type": "slide"
    }
   },
   "source": [
    "## espaces de nommage"
   ]
  },
  {
   "cell_type": "markdown",
   "metadata": {
    "cell_style": "split",
    "run_control": {
     "frozen": false,
     "read_only": false
    }
   },
   "source": [
    "### à ce stade nous avons deux espaces de nom\n",
    "\n",
    "* la classe `Point`\n",
    "  * `Point.__init__` : la méthode\n",
    "* l'instance\n",
    "  * `point.x` : 2 pour cette instance\n",
    "  * `point.y`\n",
    "* [pythontutor](http://pythontutor.com/visualize.html#code=class%20Point%3A%0A%20%20%20%20def%20__init__%28self,%20x,%20y%29%3A%0A%20%20%20%20%20%20%20%20self.x%20%3D%20x%0A%20%20%20%20%20%20%20%20self.y%20%3D%20y%0A%20%20%20%20%20%20%20%20%0Apoint%20%3D%20Point%282,%203%29%0A&cumulative=false&curInstr=6&heapPrimitives=false&mode=display&origin=opt-frontend.js&py=2&rawInputLstJSON=%5B%5D&textReferences=false)"
   ]
  },
  {
   "cell_type": "code",
   "execution_count": null,
   "metadata": {
    "cell_style": "split"
   },
   "outputs": [],
   "source": [
    "%load_ext ipythontutor"
   ]
  },
  {
   "cell_type": "markdown",
   "metadata": {
    "slideshow": {
     "slide_type": "slide"
    }
   },
   "source": [
    "### la classe et l'instance: 2 espaces de nom"
   ]
  },
  {
   "cell_type": "code",
   "execution_count": null,
   "metadata": {},
   "outputs": [],
   "source": [
    "%%ipythontutor width=1000\n",
    "class Point:\n",
    "    def __init__(self, x, y):\n",
    "        self.x = x\n",
    "        self.y = y\n",
    "        \n",
    "point = Point(2, 3)"
   ]
  },
  {
   "cell_type": "code",
   "execution_count": null,
   "metadata": {
    "cell_style": "split",
    "run_control": {
     "frozen": false,
     "read_only": false
    },
    "slideshow": {
     "slide_type": "slide"
    }
   },
   "outputs": [],
   "source": [
    "# la classe possède \n",
    "# l'attribut '__init__' \n",
    "'__init__' in Point.__dict__"
   ]
  },
  {
   "cell_type": "code",
   "execution_count": null,
   "metadata": {
    "cell_style": "split",
    "run_control": {
     "frozen": false,
     "read_only": false
    }
   },
   "outputs": [],
   "source": [
    "# c'est la méthode \n",
    "# qu'on a définie\n",
    "type(Point.__init__)"
   ]
  },
  {
   "cell_type": "code",
   "execution_count": null,
   "metadata": {
    "cell_style": "split",
    "run_control": {
     "frozen": false,
     "read_only": false
    }
   },
   "outputs": [],
   "source": [
    "# par contre elle ne possède\n",
    "# pas d'attribut x\n",
    "'x' in Point.__dict__"
   ]
  },
  {
   "cell_type": "code",
   "execution_count": null,
   "metadata": {
    "cell_style": "split",
    "run_control": {
     "frozen": false,
     "read_only": false
    }
   },
   "outputs": [],
   "source": [
    "# l'attribut x se trouve\n",
    "# bien dans l'instance\n",
    "'x' in point.__dict__"
   ]
  },
  {
   "cell_type": "markdown",
   "metadata": {
    "run_control": {
     "frozen": false,
     "read_only": false
    },
    "slideshow": {
     "slide_type": "slide"
    }
   },
   "source": [
    "# ex. de résolution d'attribut"
   ]
  },
  {
   "cell_type": "code",
   "execution_count": null,
   "metadata": {
    "run_control": {
     "frozen": false,
     "read_only": false
    }
   },
   "outputs": [],
   "source": [
    "# cas simple sans héritage\n",
    "# appel d'une méthode\n",
    "import math\n",
    "\n",
    "class Vector:\n",
    "    def __init__(self, x, y):\n",
    "        self.x = x\n",
    "        self.y = y\n",
    "       \n",
    "    def length(self):\n",
    "        return math.sqrt(self.x**2 + self.y**2)"
   ]
  },
  {
   "cell_type": "code",
   "execution_count": null,
   "metadata": {
    "run_control": {
     "frozen": false,
     "read_only": false
    }
   },
   "outputs": [],
   "source": [
    "vector = Vector(3, 4)\n",
    "vector.length()"
   ]
  },
  {
   "cell_type": "markdown",
   "metadata": {
    "run_control": {
     "frozen": false,
     "read_only": false
    },
    "slideshow": {
     "slide_type": "slide"
    }
   },
   "source": [
    "## espaces de nom"
   ]
  },
  {
   "cell_type": "markdown",
   "metadata": {
    "cell_style": "split",
    "run_control": {
     "frozen": false,
     "read_only": false
    },
    "slideshow": {
     "slide_type": ""
    }
   },
   "source": [
    "* la classe `Vector` a les attributs\n",
    "  * `__init__`\n",
    "  * `length`"
   ]
  },
  {
   "cell_type": "markdown",
   "metadata": {
    "cell_style": "split",
    "run_control": {
     "frozen": false,
     "read_only": false
    },
    "slideshow": {
     "slide_type": ""
    }
   },
   "source": [
    "* l'objet `vector` a les attributs\n",
    "  * `x` et `y`,\n",
    "  * mais pas `length` !"
   ]
  },
  {
   "cell_type": "markdown",
   "metadata": {
    "run_control": {
     "frozen": false,
     "read_only": false
    },
    "slideshow": {
     "slide_type": "slide"
    }
   },
   "source": [
    "* et pourtant on peut écrire `vector.length()`"
   ]
  },
  {
   "cell_type": "markdown",
   "metadata": {
    "run_control": {
     "frozen": false,
     "read_only": false
    },
    "slideshow": {
     "slide_type": "slide"
    }
   },
   "source": [
    "* [pythontutor](http://pythontutor.com/visualize.html#code=class%20Vector%3A%0A%20%20%20def%20__init__%28self,%20x,%20y%29%3A%0A%20%20%20%20%20%20%20self.x%20%3D%20x%0A%20%20%20%20%20%20%20self.y%20%3D%20y%0A%20%20%20%20%20%20%20%0A%20%20%20def%20length%28self%29%3A%0A%20%20%20%20%20%20%20return%20math.sqrt%28self.x**2%20%2B%20self.y**2%29%0A%0Avector%20%3D%20Vector%283,%204%29%0A%0A&cumulative=false&curInstr=6&heapPrimitives=false&mode=display&origin=opt-frontend.js&py=2&rawInputLstJSON=%5B%5D&textReferences=false)"
   ]
  },
  {
   "cell_type": "code",
   "execution_count": null,
   "metadata": {
    "run_control": {
     "frozen": false,
     "read_only": false
    }
   },
   "outputs": [],
   "source": [
    "# les attributs 'intéressants' de Vector\n",
    "[att for att in Vector.__dict__ if '__' not in att or att == '__init__']"
   ]
  },
  {
   "cell_type": "code",
   "execution_count": null,
   "metadata": {
    "run_control": {
     "frozen": false,
     "read_only": false
    }
   },
   "outputs": [],
   "source": [
    "# par opposition à la liste complète\n",
    "list(vector.__dict__)"
   ]
  },
  {
   "cell_type": "code",
   "execution_count": null,
   "metadata": {
    "run_control": {
     "frozen": false,
     "read_only": false
    }
   },
   "outputs": [],
   "source": [
    "# NOTE: je n'utilise pas dir() ici car elle renvoie \n",
    "# un combinaison des espaces de nom\n",
    "[att for att in dir(vector) if '__' not in att or att == '__init__']"
   ]
  },
  {
   "cell_type": "markdown",
   "metadata": {
    "run_control": {
     "frozen": false,
     "read_only": false
    },
    "slideshow": {
     "slide_type": "slide"
    }
   },
   "source": [
    "## résolution d'attribut"
   ]
  },
  {
   "cell_type": "markdown",
   "metadata": {
    "run_control": {
     "frozen": false,
     "read_only": false
    },
    "slideshow": {
     "slide_type": "slide"
    }
   },
   "source": [
    "* pour évaluer `vector.length()`\n",
    "* on fait de la résolution d'attributs\n",
    "  * cherché dans l'instance: pas trouvé\n",
    "  * cherché dans la classe: oui, on prend ça\n",
    "* même si ce n'est pas de l'héritage *per se*\n",
    "  * puisque pour l'instant on n'a qu'une classe"
   ]
  },
  {
   "cell_type": "markdown",
   "metadata": {
    "run_control": {
     "frozen": false,
     "read_only": false
    },
    "slideshow": {
     "slide_type": "slide"
    }
   },
   "source": [
    "# exemple avec héritage"
   ]
  },
  {
   "cell_type": "code",
   "execution_count": null,
   "metadata": {
    "run_control": {
     "frozen": false,
     "read_only": false
    }
   },
   "outputs": [],
   "source": [
    "# une classe fille sans aucun contenu\n",
    "class SubVector(Vector): pass\n",
    "\n",
    "subvector = SubVector(6, 8)\n",
    "\n",
    "subvector.length()"
   ]
  },
  {
   "cell_type": "markdown",
   "metadata": {
    "run_control": {
     "frozen": false,
     "read_only": false
    }
   },
   "source": [
    "* [pythotutor](http://pythontutor.com/visualize.html#code=class%20Vector%3A%0A%20%20%20def%20__init__%28self,%20x,%20y%29%3A%0A%20%20%20%20%20%20%20self.x%20%3D%20x%0A%20%20%20%20%20%20%20self.y%20%3D%20y%0A%20%20%20%20%20%20%20%0A%20%20%20def%20length%28self%29%3A%0A%20%20%20%20%20%20%20return%20math.sqrt%28self.x**2%20%2B%20self.y**2%29%0A%0Aclass%20SubVector%28Vector%29%3A%20pass%0A%0Asubvector%20%3D%20SubVector%286,%208%29%0A%0Asubvector.length%28%29%0A%0A&cumulative=false&curInstr=12&heapPrimitives=false&mode=display&origin=opt-frontend.js&py=2&rawInputLstJSON=%5B%5D&textReferences=false)\n",
    "* c'est exactement le même mécanisme qui est à l'oeuvre:\n",
    "* on cherche `length`\n",
    "  * dans l'instance : non\n",
    "  * dans la classe : non\n",
    "  * dans la super-classe : ok, on prend ça"
   ]
  },
  {
   "cell_type": "markdown",
   "metadata": {
    "run_control": {
     "frozen": false,
     "read_only": false
    },
    "slideshow": {
     "slide_type": "slide"
    }
   },
   "source": [
    "## *Method Resolution Order*"
   ]
  },
  {
   "cell_type": "markdown",
   "metadata": {
    "run_control": {
     "frozen": false,
     "read_only": false
    }
   },
   "source": [
    "* l'héritage entre les classes\n",
    "* détermine l'ordre dans lequel sont cherchés les attributs\n",
    "* en sus de l'instance elle-même\n",
    "* en anglais *method resolution order*\n",
    "* ou `mro()` (une méthode de la classe)\n",
    "* concept surtout utile avec l'héritage multiple\n",
    "* mais qui me semble pertinent pour illustrer notre propos"
   ]
  },
  {
   "cell_type": "code",
   "execution_count": null,
   "metadata": {
    "run_control": {
     "frozen": false,
     "read_only": false
    }
   },
   "outputs": [],
   "source": [
    "SubVector.mro()"
   ]
  },
  {
   "cell_type": "markdown",
   "metadata": {
    "run_control": {
     "frozen": false,
     "read_only": false
    },
    "slideshow": {
     "slide_type": "slide"
    }
   },
   "source": [
    "### attributs non fonctionnels"
   ]
  },
  {
   "cell_type": "markdown",
   "metadata": {
    "run_control": {
     "frozen": false,
     "read_only": false
    }
   },
   "source": [
    "* on peut utiliser les même concepts\n",
    "* pour gérer des attributs de donnée (i.e. ≠ méthode)"
   ]
  },
  {
   "cell_type": "code",
   "execution_count": null,
   "metadata": {
    "run_control": {
     "frozen": false,
     "read_only": false
    },
    "slideshow": {
     "slide_type": "slide"
    }
   },
   "outputs": [],
   "source": [
    "class Factory:\n",
    "    # un compteur global à la classe\n",
    "    all_labels = []\n",
    "\n",
    "    def __init__(self, label):\n",
    "        self.label = label\n",
    "        # ici je pourrais aussi bien écrire \n",
    "        # Factory.all_labels.append(label)\n",
    "        self.all_labels.append(label)\n",
    "\n",
    "Factory.all_labels"
   ]
  },
  {
   "cell_type": "code",
   "execution_count": null,
   "metadata": {
    "cell_style": "split",
    "run_control": {
     "frozen": false,
     "read_only": false
    },
    "slideshow": {
     "slide_type": ""
    }
   },
   "outputs": [],
   "source": [
    "f1 = Factory('premier')\n",
    "f2 = Factory('second')\n",
    "\n",
    "Factory.all_labels"
   ]
  },
  {
   "cell_type": "markdown",
   "metadata": {
    "cell_style": "split",
    "run_control": {
     "frozen": false,
     "read_only": false
    }
   },
   "source": [
    "* [pythontutor](http://pythontutor.com/visualize.html#code=class%20Factory%3A%0A%20%20%20%20%23%20un%20compteur%20global%20%C3%A0%20la%20classe%0A%20%20%20%20all_labels%20%3D%20%5B%5D%0A%0A%20%20%20%20def%20__init__%28self,%20label%29%3A%0A%20%20%20%20%20%20%20%20self.label%20%3D%20label%0A%20%20%20%20%20%20%20%20self.all_labels.append%28label%29%0A%0Af1%20%3D%20Factory%28'premier'%29%0Af2%20%3D%20Factory%28'second'%29%0A&cumulative=false&curInstr=11&heapPrimitives=false&mode=display&origin=opt-frontend.js&py=2&rawInputLstJSON=%5B%5D&textReferences=false)"
   ]
  },
  {
   "cell_type": "markdown",
   "metadata": {
    "run_control": {
     "frozen": false,
     "read_only": false
    },
    "slideshow": {
     "slide_type": "slide"
    }
   },
   "source": [
    "## à noter - lecture"
   ]
  },
  {
   "cell_type": "markdown",
   "metadata": {
    "run_control": {
     "frozen": false,
     "read_only": false
    },
    "slideshow": {
     "slide_type": "slide"
    }
   },
   "source": [
    "* on peut **lire** l'attribut de la classe\n",
    "* à partir d'une instance\n",
    "* grâce à la résolution d'attributs\n",
    "* qui fonctionne comme pour les méthodes"
   ]
  },
  {
   "cell_type": "code",
   "execution_count": null,
   "metadata": {
    "cell_style": "split",
    "run_control": {
     "frozen": false,
     "read_only": false
    }
   },
   "outputs": [],
   "source": [
    "Factory.all_labels is f1.all_labels"
   ]
  },
  {
   "cell_type": "code",
   "execution_count": null,
   "metadata": {
    "cell_style": "split",
    "run_control": {
     "frozen": false,
     "read_only": false
    }
   },
   "outputs": [],
   "source": [
    "f1.all_labels"
   ]
  },
  {
   "cell_type": "markdown",
   "metadata": {
    "cell_style": "center",
    "run_control": {
     "frozen": false,
     "read_only": false
    },
    "slideshow": {
     "slide_type": "slide"
    }
   },
   "source": [
    "# à noter - écriture"
   ]
  },
  {
   "cell_type": "markdown",
   "metadata": {
    "cell_style": "center",
    "run_control": {
     "frozen": false,
     "read_only": false
    },
    "slideshow": {
     "slide_type": "slide"
    }
   },
   "source": [
    "* mais attention lorsqu'on **écrit**\n",
    "* si on part de l'instance `self`\n",
    "* l'attribut est **créé dans l'instance**\n",
    "* lire et écrire un attribut ne **sont pas symétriques**\n",
    "* ça se remarque rarement/jamais avec les méthodes"
   ]
  },
  {
   "cell_type": "code",
   "execution_count": null,
   "metadata": {
    "cell_style": "split",
    "run_control": {
     "frozen": false,
     "read_only": false
    }
   },
   "outputs": [],
   "source": [
    "# ici on va créer un nouvel attribut\n",
    "# directement dans l'instance\n",
    "f1.all_labels = 'overridden'\n",
    "f1.all_labels"
   ]
  },
  {
   "cell_type": "code",
   "execution_count": null,
   "metadata": {
    "cell_style": "split",
    "run_control": {
     "frozen": false,
     "read_only": false
    }
   },
   "outputs": [],
   "source": [
    "f2.all_labels"
   ]
  },
  {
   "cell_type": "code",
   "execution_count": null,
   "metadata": {
    "cell_style": "split",
    "run_control": {
     "frozen": false,
     "read_only": false
    }
   },
   "outputs": [],
   "source": [
    "f1.all_labels"
   ]
  },
  {
   "cell_type": "markdown",
   "metadata": {
    "cell_style": "split",
    "run_control": {
     "frozen": false,
     "read_only": false
    }
   },
   "source": [
    "* [pythontutor](http://pythontutor.com/visualize.html#code=class%20Factory%3A%0A%20%20%20%20%23%20un%20compteur%20global%20%C3%A0%20la%20classe%0A%20%20%20%20all_labels%20%3D%20%5B%5D%0A%0A%20%20%20%20def%20__init__%28self,%20label%29%3A%0A%20%20%20%20%20%20%20%20self.label%20%3D%20label%0A%20%20%20%20%20%20%20%20Factory.all_labels.append%28label%29%0A%0Af1%20%3D%20Factory%28'premier'%29%0Af2%20%3D%20Factory%28'second'%29%0A%0Af1.all_labels%20%3D%20'overridden'&cumulative=false&curInstr=11&heapPrimitives=false&mode=display&origin=opt-frontend.js&py=2&rawInputLstJSON=%5B%5D&textReferences=false)"
   ]
  },
  {
   "cell_type": "markdown",
   "metadata": {
    "run_control": {
     "frozen": false,
     "read_only": false
    },
    "slideshow": {
     "slide_type": "slide"
    }
   },
   "source": [
    "* un très lointain rapport\n",
    "* avec le scope lexical des variables\n",
    "* et le `UnboundLocalError`"
   ]
  },
  {
   "cell_type": "code",
   "execution_count": null,
   "metadata": {
    "cell_style": "split",
    "run_control": {
     "frozen": false,
     "read_only": false
    }
   },
   "outputs": [],
   "source": [
    "foo = 12\n",
    "\n",
    "def fun():\n",
    "    # on peut lire la variable\n",
    "    # de scope englobant\n",
    "    print(foo)\n",
    "fun()"
   ]
  },
  {
   "cell_type": "code",
   "execution_count": null,
   "metadata": {
    "cell_style": "split",
    "run_control": {
     "frozen": false,
     "read_only": false
    }
   },
   "outputs": [],
   "source": [
    "def bar():\n",
    "    # ou créer une variable\n",
    "    # dans ce scope\n",
    "    foo = 13\n",
    "bar()\n",
    "print(foo)"
   ]
  },
  {
   "cell_type": "code",
   "execution_count": null,
   "metadata": {
    "run_control": {
     "frozen": false,
     "read_only": false
    }
   },
   "outputs": [],
   "source": [
    "def tutu():\n",
    "    # mais pas les deux\n",
    "    try:\n",
    "        print(foo)\n",
    "        foo = 13\n",
    "    except UnboundLocalError as e:\n",
    "        print(\"OOPS\", e)\n",
    "tutu()"
   ]
  },
  {
   "cell_type": "markdown",
   "metadata": {
    "run_control": {
     "frozen": false,
     "read_only": false
    },
    "slideshow": {
     "slide_type": "slide"
    }
   },
   "source": [
    "# résumé"
   ]
  },
  {
   "cell_type": "markdown",
   "metadata": {
    "run_control": {
     "frozen": false,
     "read_only": false
    },
    "slideshow": {
     "slide_type": ""
    }
   },
   "source": [
    "* ces mécanimes constituent le coeur\n",
    "  * de ce qui est à l'oeuvre \n",
    "* lorsqu'on fait de la Programmation Objet\n",
    "  * on va le voir sur des exemples plus pratiques\n",
    "* avec comme avantages\n",
    "  * la modularité / encapsulation\n",
    "  * la factorisation de code / réutilisabilité"
   ]
  },
  {
   "cell_type": "markdown",
   "metadata": {
    "run_control": {
     "frozen": false,
     "read_only": false
    },
    "slideshow": {
     "slide_type": "slide"
    }
   },
   "source": [
    "# encapsulation"
   ]
  },
  {
   "cell_type": "markdown",
   "metadata": {
    "run_control": {
     "frozen": false,
     "read_only": false
    }
   },
   "source": [
    "* consiste à définir un ensemble d'opérations\n",
    "* à travers lesquelles on manipule les objets\n",
    "* en préservant de bonnes propriétés / invariants\n",
    "* (que idéalement on peut prouver)"
   ]
  },
  {
   "cell_type": "markdown",
   "metadata": {
    "run_control": {
     "frozen": false,
     "read_only": false
    },
    "slideshow": {
     "slide_type": "slide"
    }
   },
   "source": [
    "### dans d'autres langages\n",
    "\n",
    "* on trouve des mécanismes de protection\n",
    "* notamment attributs privés ou publics\n",
    "* visant à éviter les erreurs"
   ]
  },
  {
   "cell_type": "markdown",
   "metadata": {
    "run_control": {
     "frozen": false,
     "read_only": false
    },
    "slideshow": {
     "slide_type": ""
    }
   },
   "source": [
    "### moins le cas en python\n",
    "\n",
    "* tradition \"*we're all consenting adults here*\"\n",
    "* quelques mécanismes *best-effort*\n",
    "  * notamment noms commençant par `_`\n",
    "* l'idée reste néanmoins très utile\n",
    "* on peut arriver à un résultat convaincant"
   ]
  },
  {
   "cell_type": "markdown",
   "metadata": {
    "run_control": {
     "frozen": false,
     "read_only": false
    },
    "slideshow": {
     "slide_type": "slide"
    }
   },
   "source": [
    "### applications"
   ]
  },
  {
   "cell_type": "markdown",
   "metadata": {
    "run_control": {
     "frozen": false,
     "read_only": false
    },
    "slideshow": {
     "slide_type": ""
    }
   },
   "source": [
    "* par exemple `numpy.ndarray`\n",
    "  * qui enforce le type des différents composants\n",
    "* classe d'utilitaires réseau\n",
    "  * qui conservent l'état de la connexion\n",
    "  * pour faire ce qu'il faut au bon moment\n",
    "* ..."
   ]
  },
  {
   "cell_type": "markdown",
   "metadata": {
    "run_control": {
     "frozen": false,
     "read_only": false
    },
    "slideshow": {
     "slide_type": "slide"
    }
   },
   "source": [
    "### bénéfices"
   ]
  },
  {
   "cell_type": "markdown",
   "metadata": {
    "run_control": {
     "frozen": false,
     "read_only": false
    },
    "slideshow": {
     "slide_type": "slide"
    }
   },
   "source": [
    "* c'est un des premiers bénéfices de la POO\n",
    "  * que de pouvoir grouper les données\n",
    "  * avec les traitements\n",
    "  * dans une unité de programmation\n",
    "  * facilement réutilisable\n",
    "  * pas besoin d'héritage pour tout ça"
   ]
  },
  {
   "cell_type": "markdown",
   "metadata": {
    "run_control": {
     "frozen": false,
     "read_only": false
    },
    "slideshow": {
     "slide_type": "slide"
    }
   },
   "source": [
    "# code réel"
   ]
  },
  {
   "cell_type": "markdown",
   "metadata": {
    "run_control": {
     "frozen": false,
     "read_only": false
    },
    "slideshow": {
     "slide_type": ""
    }
   },
   "source": [
    "* très souvent, pas de protection particulière\n",
    "* \"we're all consenting adults here\""
   ]
  },
  {
   "cell_type": "code",
   "execution_count": null,
   "metadata": {
    "run_control": {
     "frozen": false,
     "read_only": false
    }
   },
   "outputs": [],
   "source": [
    "# totalement transparent\n",
    "# \n",
    "class Gauge:\n",
    "    def __init__(self, value):\n",
    "        self.value = value"
   ]
  },
  {
   "cell_type": "markdown",
   "metadata": {
    "run_control": {
     "frozen": false,
     "read_only": false
    },
    "slideshow": {
     "slide_type": "slide"
    }
   },
   "source": [
    "# mécanismes utiles"
   ]
  },
  {
   "cell_type": "markdown",
   "metadata": {
    "run_control": {
     "frozen": false,
     "read_only": false
    },
    "slideshow": {
     "slide_type": ""
    }
   },
   "source": [
    "* il existe toutefois des outils pour améliorer\n",
    "  * visibilité des attributs\n",
    "  * properties"
   ]
  },
  {
   "cell_type": "markdown",
   "metadata": {
    "run_control": {
     "frozen": false,
     "read_only": false
    }
   },
   "source": [
    "## visibilité des attributs"
   ]
  },
  {
   "cell_type": "markdown",
   "metadata": {
    "run_control": {
     "frozen": false,
     "read_only": false
    }
   },
   "source": [
    "* pas de vraie notion d'attributs privé/public \n",
    "* **toutefois** des conventions de nommage"
   ]
  },
  {
   "cell_type": "markdown",
   "metadata": {
    "run_control": {
     "frozen": false,
     "read_only": false
    },
    "slideshow": {
     "slide_type": "slide"
    }
   },
   "source": [
    "### PEP8\n",
    "\n",
    "* `_single_leading_underscore` : \n",
    "  * weak \"internal use\" indicator. E.g. `from M import *` does not import objects whose name starts with an underscore.\n",
    "  * correspond *en gros* aux champs protégés\n",
    "  * enforcé seulement pour les modules\n",
    "  * dans les classes, cela est juste une indication"
   ]
  },
  {
   "cell_type": "markdown",
   "metadata": {
    "run_control": {
     "frozen": false,
     "read_only": false
    },
    "slideshow": {
     "slide_type": "slide"
    }
   },
   "source": [
    "### PEP8\n",
    "\n",
    "* `__double_leading_underscore` : \n",
    "  * when naming a class attribute, invokes name mangling  \n",
    "    (inside class `FooBar`, `__boo` becomes `_FooBar__boo` ; see below).\n",
    "\n",
    "  * correspond *en gros* aux champs privés"
   ]
  },
  {
   "cell_type": "markdown",
   "metadata": {
    "run_control": {
     "frozen": false,
     "read_only": false
    },
    "slideshow": {
     "slide_type": "slide"
    }
   },
   "source": [
    "### PEP8 ...\n",
    "\n",
    "* `__double_leading_and_trailing_underscore__`\n",
    "  *  \"magic\" objects or attributes that live in user-controlled namespaces. E.g. `__init__` , `__import__` or `__file__` . \n",
    "  * **never invent such names**; only use them as documented.\n",
    "\n",
    "* `single_trailing_underscore_` : \n",
    "  * used by convention to avoid conflicts with Python keyword, e.g.\n",
    "  * `Tkinter.Toplevel(master, class_='ClassName')`"
   ]
  },
  {
   "cell_type": "code",
   "execution_count": null,
   "metadata": {
    "run_control": {
     "frozen": false,
     "read_only": false
    },
    "slideshow": {
     "slide_type": "slide"
    }
   },
   "outputs": [],
   "source": [
    "class Underscore:\n",
    "    def __init__(self, x): \n",
    "        self.x = x\n",
    "        self._x = x ** 2\n",
    "        self.__x = x ** 3\n",
    "u = Underscore(10)"
   ]
  },
  {
   "cell_type": "code",
   "execution_count": null,
   "metadata": {
    "run_control": {
     "frozen": false,
     "read_only": false
    }
   },
   "outputs": [],
   "source": [
    "# on peut lire et écrire x\n",
    "u.x = 2 * u.x\n",
    "\n",
    "# on peut lire et écrire _x !\n",
    "u._x = 2 * u._x"
   ]
  },
  {
   "cell_type": "code",
   "execution_count": null,
   "metadata": {
    "run_control": {
     "frozen": false,
     "read_only": false
    }
   },
   "outputs": [],
   "source": [
    "# mais pas __x\n",
    "try:       \n",
    "    u.__x\n",
    "except AttributeError as e:\n",
    "    print(f\"OOPS {type(e)}: {e}\")"
   ]
  },
  {
   "cell_type": "markdown",
   "metadata": {
    "run_control": {
     "frozen": false,
     "read_only": false
    },
    "slideshow": {
     "slide_type": "slide"
    }
   },
   "source": [
    "Underscores\n",
    "\n",
    "* le fait de préfixer les attributs d'une classe\n",
    "* avec un ou deux underscores\n",
    "* n'est donc pas très significatif pour le langage\n",
    "* mais fait passer aux humains\n",
    "* le message selon lequel\n",
    "* il vaut mieux ne pas y accéder directement"
   ]
  },
  {
   "cell_type": "markdown",
   "metadata": {
    "run_control": {
     "frozen": false,
     "read_only": false
    },
    "slideshow": {
     "slide_type": "slide"
    }
   },
   "source": [
    "## properties"
   ]
  },
  {
   "cell_type": "markdown",
   "metadata": {
    "run_control": {
     "frozen": false,
     "read_only": false
    },
    "slideshow": {
     "slide_type": ""
    }
   },
   "source": [
    "* dualité attribut/méthodes d'accès\n",
    "  * un attribut privé\n",
    "  * des méthodes pour lire/écrire\n",
    "* c'est le propos des properties"
   ]
  },
  {
   "cell_type": "markdown",
   "metadata": {
    "slideshow": {
     "slide_type": "slide"
    }
   },
   "source": [
    "### properties *vs* getter/setter"
   ]
  },
  {
   "cell_type": "markdown",
   "metadata": {},
   "source": [
    "dans un langage avec protection \"dure\" comme C++ ou Java:\n",
    "\n",
    "* on expose très souvent une API à base de `get/set` "
   ]
  },
  {
   "cell_type": "markdown",
   "metadata": {},
   "source": [
    "ce n'est pas du tout le cas en Python:\n",
    "\n",
    "* on commence avec un attribut 'nu'\n",
    "* lorsqu'il faut implémenter des contrôles  \n",
    "  on remplace l'attribut par une property\n",
    "\n",
    "* tout en préservant l'API"
   ]
  },
  {
   "cell_type": "code",
   "execution_count": null,
   "metadata": {
    "run_control": {
     "frozen": false,
     "read_only": false
    },
    "slideshow": {
     "slide_type": "slide"
    }
   },
   "outputs": [],
   "source": [
    "# une classe qui implémente une valeur\n",
    "# garantie de rester entre 0 et 1000\n",
    "\n",
    "class Constrained:\n",
    "    \"\"\"\n",
    "    Une jauge qui contraint sa valeur dans un intervalle\n",
    "    \"\"\"\n",
    "\n",
    "    def __init__(self, value):\n",
    "        # on appelle le setter déjà ici\n",
    "        self.value = value\n",
    "\n",
    "    # le getter\n",
    "    def _get_value(self):\n",
    "        return self._value\n",
    "\n",
    "    # le setter\n",
    "    def _set_value(self, value):\n",
    "        self._value = min(1000, max(0, value))\n",
    "        \n",
    "    value = property(fget=_get_value, fset=_set_value, \n",
    "                     doc=\"a constrained value between 0 and 1000\")"
   ]
  },
  {
   "cell_type": "code",
   "execution_count": null,
   "metadata": {
    "run_control": {
     "frozen": false,
     "read_only": false
    }
   },
   "outputs": [],
   "source": [
    "c1, c2, c3 = Constrained(-12), Constrained(500), Constrained(2000)\n",
    "c1.value, c2.value, c3.value"
   ]
  },
  {
   "cell_type": "code",
   "execution_count": null,
   "metadata": {
    "cell_style": "split",
    "run_control": {
     "frozen": false,
     "read_only": false
    }
   },
   "outputs": [],
   "source": [
    "# l'API ressemble toujours à une \n",
    "# simple utilisation d'attribut\n",
    "c2.value = 10**6\n",
    "c2.value"
   ]
  },
  {
   "cell_type": "code",
   "execution_count": null,
   "metadata": {
    "run_control": {
     "frozen": false,
     "read_only": false
    },
    "slideshow": {
     "slide_type": "slide"
    }
   },
   "outputs": [],
   "source": [
    "# pareil avec un décorateur - syntaxe moins agréable IMHO\n",
    "\n",
    "class ConstrainedDeco:\n",
    "    \"\"\"\n",
    "    Une jauge qui contraint sa valeur dans un intervalle\n",
    "    \"\"\"\n",
    "\n",
    "    def __init__(self, value):\n",
    "        # on appelle le setter déjà ici\n",
    "        self.value = value\n",
    "\n",
    "    # le getter - qui définit la property\n",
    "    @property\n",
    "    def value(self):\n",
    "        return self._value\n",
    "\n",
    "    # le setter\n",
    "    @value.setter\n",
    "    def value(self, value):\n",
    "        self._value = min(1000, max(0, value))"
   ]
  },
  {
   "cell_type": "code",
   "execution_count": null,
   "metadata": {
    "run_control": {
     "frozen": false,
     "read_only": false
    }
   },
   "outputs": [],
   "source": [
    "d1, d2, d3 = ConstrainedDeco(-12), ConstrainedDeco(500), ConstrainedDeco(2000)\n",
    "d1.value, d2.value, d3.value"
   ]
  },
  {
   "cell_type": "code",
   "execution_count": null,
   "metadata": {
    "run_control": {
     "frozen": false,
     "read_only": false
    }
   },
   "outputs": [],
   "source": [
    "d2.value = 10**6\n",
    "d2.value"
   ]
  },
  {
   "cell_type": "markdown",
   "metadata": {
    "run_control": {
     "frozen": false,
     "read_only": false
    },
    "slideshow": {
     "slide_type": "slide"
    }
   },
   "source": [
    "## résumé properties"
   ]
  },
  {
   "cell_type": "markdown",
   "metadata": {
    "run_control": {
     "frozen": false,
     "read_only": false
    },
    "slideshow": {
     "slide_type": ""
    }
   },
   "source": [
    "* exposer une API simple  \n",
    "  accès direct aux attributs  \n",
    "  sans imposer à l'appelant de vilaines périphrases\n",
    "\n",
    "* en se réservant la possibilité  \n",
    "  de créer des getters/setters (et deleters)  \n",
    "  ultérieurement si/lorsque nécessaire\n"
   ]
  },
  {
   "cell_type": "markdown",
   "metadata": {
    "run_control": {
     "frozen": false,
     "read_only": false
    },
    "slideshow": {
     "slide_type": "slide"
    }
   },
   "source": [
    "## exercice"
   ]
  },
  {
   "cell_type": "markdown",
   "metadata": {
    "run_control": {
     "frozen": false,
     "read_only": false
    },
    "slideshow": {
     "slide_type": ""
    }
   },
   "source": [
    "* écrire une variante de `Constrained` \n",
    "* avec des bornes variables\n",
    "* passées au constructeur\n",
    "\n",
    "```\n",
    ">>> ma_jauge = ConstrainedMinMax(500, min=100, max=200)\n",
    ">>> ma_jauge.value\n",
    "    200\n",
    "```"
   ]
  },
  {
   "cell_type": "markdown",
   "metadata": {
    "run_control": {
     "frozen": false,
     "read_only": false
    },
    "slideshow": {
     "slide_type": "slide"
    }
   },
   "source": [
    "# résumé encapsulation"
   ]
  },
  {
   "cell_type": "markdown",
   "metadata": {
    "run_control": {
     "frozen": false,
     "read_only": false
    },
    "slideshow": {
     "slide_type": ""
    }
   },
   "source": [
    "* deux techniques pour aider à l'encapsulation\n",
    "  * sous-titrer le rôle des attributs de données\n",
    "  * utiliser les properies pour contrôler les accès\n",
    "* sous-utilisées à mon avis\n",
    "  * notamment les properties  \n",
    "    (apparition relativement tardive, quoique ..)\n",
    "\n",
    "  * à utiliser davantage si nécessaire"
   ]
  }
 ],
 "metadata": {
  "celltoolbar": "Slideshow",
  "kernelspec": {
   "display_name": "Python 3",
   "language": "python",
   "name": "python3"
  },
  "language_info": {
   "codemirror_mode": {
    "name": "ipython",
    "version": 3
   },
   "file_extension": ".py",
   "mimetype": "text/x-python",
   "name": "python",
   "nbconvert_exporter": "python",
   "pygments_lexer": "ipython3",
   "version": "3.7.0"
  },
  "notebookname": "encapsulation",
  "toc": {
   "colors": {
    "hover_highlight": "#DAA520",
    "running_highlight": "#FF0000",
    "selected_highlight": "#FFD700"
   },
   "moveMenuLeft": true,
   "nav_menu": {
    "height": "513px",
    "width": "253px"
   },
   "navigate_menu": true,
   "number_sections": true,
   "sideBar": true,
   "threshold": "2",
   "toc_cell": false,
   "toc_section_display": "block",
   "toc_window_display": false,
   "widenNotebook": false
  },
  "version": "1.0"
 },
 "nbformat": 4,
 "nbformat_minor": 2
}
