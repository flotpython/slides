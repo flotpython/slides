{
 "cells": [
  {
   "cell_type": "markdown",
   "metadata": {
    "run_control": {
     "frozen": false,
     "read_only": false
    },
    "slideshow": {
     "slide_type": "slide"
    }
   },
   "source": [
    "<div class=\"licence\">\n",
    "<span>Licence CC BY-NC-ND</span>\n",
    "<span>Thierry Parmentelat &amp; Arnaud Legout</span>\n",
    "</div>"
   ]
  },
  {
   "cell_type": "code",
   "execution_count": null,
   "metadata": {},
   "outputs": [],
   "source": [
    "from plan import plan; plan(\"avancés\", \"méthodes statiques\")"
   ]
  },
  {
   "cell_type": "markdown",
   "metadata": {
    "run_control": {
     "frozen": false,
     "read_only": false
    },
    "slideshow": {
     "slide_type": "slide"
    }
   },
   "source": [
    "# méthodes statiques et de classe"
   ]
  },
  {
   "cell_type": "markdown",
   "metadata": {
    "run_control": {
     "frozen": false,
     "read_only": false
    },
    "slideshow": {
     "slide_type": "slide"
    }
   },
   "source": [
    "# à quoi ça sert"
   ]
  },
  {
   "cell_type": "markdown",
   "metadata": {
    "run_control": {
     "frozen": false,
     "read_only": false
    }
   },
   "source": [
    "* les méthodes statiques et de classe\n",
    "  * peuvent travailler sur les arguments d’une classe\n",
    "  * sans avoir besoin d’une instance\n",
    "* par exemple, pour compter le nombre d’instances d’une classe\n",
    "* ou pour fournir des utilitaires qui créent des instances"
   ]
  },
  {
   "cell_type": "markdown",
   "metadata": {
    "run_control": {
     "frozen": false,
     "read_only": false
    },
    "slideshow": {
     "slide_type": "slide"
    }
   },
   "source": [
    "# méthodes *unbound* et *bound*"
   ]
  },
  {
   "cell_type": "markdown",
   "metadata": {
    "run_control": {
     "frozen": false,
     "read_only": false
    }
   },
   "source": [
    "* une méthode *unbound* est une méthode appelée sur la classe\n",
    "  * l’instance n’est pas automatiquement passée comme premier argument\n",
    "  * c’est un objet fonction classique qui n’a pas besoin d’avoir une instance comme premier argument"
   ]
  },
  {
   "cell_type": "code",
   "execution_count": null,
   "metadata": {
    "run_control": {
     "frozen": false,
     "read_only": false
    }
   },
   "outputs": [],
   "source": [
    "class C:\n",
    "    def f(self):\n",
    "        print(\"demo\", self)\n",
    "C.f"
   ]
  },
  {
   "cell_type": "markdown",
   "metadata": {
    "run_control": {
     "frozen": false,
     "read_only": false
    },
    "slideshow": {
     "slide_type": "slide"
    }
   },
   "source": [
    "# méthodes *unbound* et *bound*"
   ]
  },
  {
   "cell_type": "code",
   "execution_count": null,
   "metadata": {
    "run_control": {
     "frozen": false,
     "read_only": false
    }
   },
   "outputs": [],
   "source": [
    "C.f(1)   # on peut passer n’importe quel objet"
   ]
  },
  {
   "cell_type": "code",
   "execution_count": null,
   "metadata": {
    "run_control": {
     "frozen": false,
     "read_only": false
    }
   },
   "outputs": [],
   "source": [
    "i = C()\n",
    "C.f(i)   # on peut évidemment passer une instance"
   ]
  },
  {
   "cell_type": "markdown",
   "metadata": {
    "run_control": {
     "frozen": false,
     "read_only": false
    },
    "slideshow": {
     "slide_type": "slide"
    }
   },
   "source": [
    "# méthodes *unbound* et *bound*"
   ]
  },
  {
   "cell_type": "markdown",
   "metadata": {
    "run_control": {
     "frozen": false,
     "read_only": false
    }
   },
   "source": [
    "* une méthode *bound* est une méthode appelée sur l’instance\n",
    "  * l’instance est automatiquement passée comme premier argument de la méthode\n",
    "  * c’est un objet *bound method*"
   ]
  },
  {
   "cell_type": "code",
   "execution_count": null,
   "metadata": {
    "run_control": {
     "frozen": false,
     "read_only": false
    }
   },
   "outputs": [],
   "source": [
    "class C:\n",
    "     def f(self):\n",
    "         print(self)\n",
    "i = C()\n",
    "i.f     # équivalent à C.f(i)"
   ]
  },
  {
   "cell_type": "markdown",
   "metadata": {
    "run_control": {
     "frozen": false,
     "read_only": false
    },
    "slideshow": {
     "slide_type": "slide"
    }
   },
   "source": [
    "# comment appeler une méthode sans instance ?\n",
    "(d’une classe ou d’un instance)"
   ]
  },
  {
   "cell_type": "markdown",
   "metadata": {
    "run_control": {
     "frozen": false,
     "read_only": false
    }
   },
   "source": [
    "* une méthode appelée sur une instance est *bound*, elle prend automatiquement comme premier argument l’instance (`self`)\n",
    "* par contre, une méthode appelée sur une classe est une fonction classique\n",
    "* comment appeler une méthode qui travaille sur les arguments de la classe indifféremment d’une classe ou d’une instance\n",
    "  * par exemple pour compter le nombre d’instances"
   ]
  },
  {
   "cell_type": "markdown",
   "metadata": {
    "run_control": {
     "frozen": false,
     "read_only": false
    },
    "slideshow": {
     "slide_type": "slide"
    }
   },
   "source": [
    "# cas 1 : méthode sans argument"
   ]
  },
  {
   "cell_type": "code",
   "execution_count": null,
   "metadata": {
    "cell_style": "split",
    "run_control": {
     "frozen": false,
     "read_only": false
    }
   },
   "outputs": [],
   "source": [
    "class C:\n",
    "    \n",
    "    numInstances = 0\n",
    "\n",
    "    def __init__(self):\n",
    "        C.numInstances += 1\n",
    "        \n",
    "    # méthode qui ne prend\n",
    "    # pas self en argument\n",
    "    def printNumInstances(): \n",
    "        print(\"Nombre d'instances : {}\"\n",
    "              .format((C.numInstances)))"
   ]
  },
  {
   "cell_type": "code",
   "execution_count": null,
   "metadata": {
    "cell_style": "split",
    "run_control": {
     "frozen": false,
     "read_only": false
    }
   },
   "outputs": [],
   "source": [
    "# je peux envoyer la méthode\n",
    "# à la classe elle-même\n",
    "C.printNumInstances() "
   ]
  },
  {
   "cell_type": "code",
   "execution_count": null,
   "metadata": {
    "cell_style": "split",
    "run_control": {
     "frozen": false,
     "read_only": false
    }
   },
   "outputs": [],
   "source": [
    "# mais pas sur une instance\n",
    "i = C()\n",
    "\n",
    "try:     \n",
    "    i.printNumInstances()\n",
    "except TypeError as e:\n",
    "    print(\"OOPS\", e)"
   ]
  },
  {
   "cell_type": "markdown",
   "metadata": {
    "run_control": {
     "frozen": false,
     "read_only": false
    },
    "slideshow": {
     "slide_type": "slide"
    }
   },
   "source": [
    "# cas 2 : méthode avec `self` comme argument"
   ]
  },
  {
   "cell_type": "code",
   "execution_count": null,
   "metadata": {
    "cell_style": "split",
    "run_control": {
     "frozen": false,
     "read_only": false
    }
   },
   "outputs": [],
   "source": [
    "class C:\n",
    "\n",
    "    numInstances = 0                         \n",
    "\n",
    "    def __init__(self):\n",
    "        C.numInstances += 1\n",
    "\n",
    "    # méthode habituelle avec self\n",
    "    def printNumInstances(self): \n",
    "        print(\"Nombre d'instances : {}\"\n",
    "              .format((C.numInstances)))"
   ]
  },
  {
   "cell_type": "code",
   "execution_count": null,
   "metadata": {
    "cell_style": "split",
    "run_control": {
     "frozen": false,
     "read_only": false
    },
    "slideshow": {
     "slide_type": ""
    }
   },
   "outputs": [],
   "source": [
    "# cette fois-ci c'est l'inverse, \n",
    "# je peux envoyer \n",
    "# la méthode à une instance\n",
    "i = C()\n",
    "i.printNumInstances() "
   ]
  },
  {
   "cell_type": "code",
   "execution_count": null,
   "metadata": {
    "cell_style": "split",
    "run_control": {
     "frozen": false,
     "read_only": false
    },
    "slideshow": {
     "slide_type": ""
    }
   },
   "outputs": [],
   "source": [
    "# mais pas sur la classe\n",
    "try:\n",
    "    C.printNumInstances()\n",
    "except TypeError as e:\n",
    "    print(\"OOPS\", e)    "
   ]
  },
  {
   "cell_type": "markdown",
   "metadata": {
    "run_control": {
     "frozen": false,
     "read_only": false
    },
    "slideshow": {
     "slide_type": "slide"
    }
   },
   "source": [
    "# en résumé"
   ]
  },
  {
   "cell_type": "markdown",
   "metadata": {
    "run_control": {
     "frozen": false,
     "read_only": false
    }
   },
   "source": [
    "* on ne peut pas appeler uniformément la même méthode depuis la classe et l’instance \n",
    "  * soit on peut l’appeler de l’instance, mais pas de la classe\n",
    "  * soit on peut l’appeler de la classe, mais pas de l’instance"
   ]
  },
  {
   "cell_type": "markdown",
   "metadata": {
    "run_control": {
     "frozen": false,
     "read_only": false
    },
    "slideshow": {
     "slide_type": "slide"
    }
   },
   "source": [
    "# utiliser une fonction"
   ]
  },
  {
   "cell_type": "markdown",
   "metadata": {
    "run_control": {
     "frozen": false,
     "read_only": false
    }
   },
   "source": [
    "* la solution naïve à ce problème\n",
    "  * sortir la méthode de la classe\n",
    "  * en faire en quelque sorte une \"une méthode de module\"\n",
    "  * mais ça n'est vraiment pas très élégant\n",
    "  * notamment ça casse l'encapsulation"
   ]
  },
  {
   "cell_type": "markdown",
   "metadata": {
    "run_control": {
     "frozen": false,
     "read_only": false
    },
    "slideshow": {
     "slide_type": "slide"
    }
   },
   "source": [
    "# méthode de module"
   ]
  },
  {
   "cell_type": "code",
   "execution_count": null,
   "metadata": {
    "run_control": {
     "frozen": false,
     "read_only": false
    }
   },
   "outputs": [],
   "source": [
    "def printNumInstances(): # méthode de module\n",
    "    print(\"Nombre d'instances : {} \"\n",
    "          .format((C.numInstances)))\n",
    "\n",
    "class C:\n",
    "    numInstances = 0\n",
    "    def __init__(self):\n",
    "        C.numInstances = C.numInstances + 1"
   ]
  },
  {
   "cell_type": "code",
   "execution_count": null,
   "metadata": {
    "run_control": {
     "frozen": false,
     "read_only": false
    }
   },
   "outputs": [],
   "source": [
    "printNumInstances()"
   ]
  },
  {
   "cell_type": "code",
   "execution_count": null,
   "metadata": {
    "run_control": {
     "frozen": false,
     "read_only": false
    }
   },
   "outputs": [],
   "source": [
    "a = C()\n",
    "printNumInstances()"
   ]
  },
  {
   "cell_type": "markdown",
   "metadata": {
    "run_control": {
     "frozen": false,
     "read_only": false
    },
    "slideshow": {
     "slide_type": "slide"
    }
   },
   "source": [
    "# problème avec les méthodes de module"
   ]
  },
  {
   "cell_type": "markdown",
   "metadata": {
    "run_control": {
     "frozen": false,
     "read_only": false
    }
   },
   "source": [
    "* le code travaillant sur la classe n’est pas lié à la classe\n",
    "  * maintenance difficile\n",
    "  * lecture du code difficile\n",
    "* pas de possibilité de customisation par héritage"
   ]
  },
  {
   "cell_type": "markdown",
   "metadata": {
    "run_control": {
     "frozen": false,
     "read_only": false
    },
    "slideshow": {
     "slide_type": "slide"
    }
   },
   "source": [
    "# méthodes statiques et de classe"
   ]
  },
  {
   "cell_type": "markdown",
   "metadata": {
    "run_control": {
     "frozen": false,
     "read_only": false
    }
   },
   "source": [
    "* pour appeler une méthode sans instance (d’une classe ou d’une instance), il y a deux possibilités\n",
    "* les méthodes statiques ne prennent pas l’instance en premier argument\n",
    "  * indépendante de l’instance\n",
    "  * créées avec `staticmethod`\n",
    "* les méthodes de classe prennent comme premier argument une classe (et non une instance)\n",
    "  * indépendante de l’instance\n",
    "  * créées avec `classmethod`"
   ]
  },
  {
   "cell_type": "markdown",
   "metadata": {
    "run_control": {
     "frozen": false,
     "read_only": false
    },
    "slideshow": {
     "slide_type": "slide"
    }
   },
   "source": [
    "# méthodes statiques"
   ]
  },
  {
   "cell_type": "code",
   "execution_count": null,
   "metadata": {
    "cell_style": "split",
    "run_control": {
     "frozen": false,
     "read_only": false
    }
   },
   "outputs": [],
   "source": [
    "class C:\n",
    "\n",
    "    numInstances = 0                         \n",
    "\n",
    "    def __init__(self):\n",
    "        C.numInstances += 1\n",
    "\n",
    "    def printNumInstances():\n",
    "        print(f\"Nombre d'instances : {C.numInstances}\")\n",
    "    \n",
    "    # en pratique ici on utilise\n",
    "    # un décorateur; mais on n'en\n",
    "    # a pas encore parlé ...\n",
    "    printNumInstances = staticmethod(\n",
    "        printNumInstances)"
   ]
  },
  {
   "cell_type": "code",
   "execution_count": null,
   "metadata": {
    "cell_style": "split",
    "run_control": {
     "frozen": false,
     "read_only": false
    }
   },
   "outputs": [],
   "source": [
    "# sur la classe\n",
    "C.printNumInstances()"
   ]
  },
  {
   "cell_type": "code",
   "execution_count": null,
   "metadata": {
    "cell_style": "split",
    "run_control": {
     "frozen": false,
     "read_only": false
    }
   },
   "outputs": [],
   "source": [
    "# ou sur l'instance\n",
    "i = C()\n",
    "i.printNumInstances()"
   ]
  },
  {
   "cell_type": "code",
   "execution_count": null,
   "metadata": {
    "cell_style": "split",
    "run_control": {
     "frozen": false,
     "read_only": false
    }
   },
   "outputs": [],
   "source": [
    "C().printNumInstances()"
   ]
  },
  {
   "cell_type": "markdown",
   "metadata": {
    "slideshow": {
     "slide_type": "slide"
    }
   },
   "source": [
    "### digression : décorateur"
   ]
  },
  {
   "cell_type": "markdown",
   "metadata": {},
   "source": [
    "pour anticiper un peu, en pratique on remplace\n",
    "\n",
    "```python\n",
    "def printNumInstances():\n",
    "    # blabla\n",
    "\n",
    "printNumInstances = staticmethod(printNumInstances)\n",
    "```\n",
    "\n",
    "par plus simplement\n",
    "\n",
    "```python\n",
    "@staticmethod\n",
    "def printNumInstances():\n",
    "    # blabla\n",
    "```\n"
   ]
  },
  {
   "cell_type": "markdown",
   "metadata": {
    "run_control": {
     "frozen": false,
     "read_only": false
    },
    "slideshow": {
     "slide_type": "slide"
    }
   },
   "source": [
    "# méthodes statiques"
   ]
  },
  {
   "cell_type": "markdown",
   "metadata": {
    "run_control": {
     "frozen": false,
     "read_only": false
    }
   },
   "source": [
    "* une méthode statique surchargée dans une sous classe doit être redéfinie comme statique dans la sous classe"
   ]
  },
  {
   "cell_type": "code",
   "execution_count": null,
   "metadata": {
    "run_control": {
     "frozen": false,
     "read_only": false
    }
   },
   "outputs": [],
   "source": [
    "class SousC(C):\n",
    "    \n",
    "    # on redéfinit la méthode dans la sous-classe\n",
    "    def printNumInstances():\n",
    "        print(\"depuis sousC\")\n",
    "        C.printNumInstances()\n",
    "\n",
    "    # il faudrait refaire la déclaration magique\n",
    "    # comme staticmethod, car voici ce qui se passe \n",
    "    # si on ne le fait pas\n",
    "    #printNumInstances = staticmethod(\n",
    "    #    printNumInstances)"
   ]
  },
  {
   "cell_type": "markdown",
   "metadata": {
    "run_control": {
     "frozen": false,
     "read_only": false
    },
    "slideshow": {
     "slide_type": "slide"
    }
   },
   "source": [
    "# méthodes statiques"
   ]
  },
  {
   "cell_type": "code",
   "execution_count": null,
   "metadata": {
    "run_control": {
     "frozen": false,
     "read_only": false
    }
   },
   "outputs": [],
   "source": [
    "# avec une sous-classe qui ne redéclare pas \n",
    "# sa méthode comme staticmethod\n",
    "# on se retrouve avec le problème initial\n",
    "i = SousC()"
   ]
  },
  {
   "cell_type": "code",
   "execution_count": null,
   "metadata": {
    "cell_style": "split",
    "run_control": {
     "frozen": false,
     "read_only": false
    }
   },
   "outputs": [],
   "source": [
    "# et du coup on ne peut pas\n",
    "# appeler la méthode sur une instance\n",
    "try:     \n",
    "    i.printNumInstances()\n",
    "except TypeError as e:\n",
    "    print(\"OOPS\", e)"
   ]
  },
  {
   "cell_type": "code",
   "execution_count": null,
   "metadata": {
    "cell_style": "split",
    "run_control": {
     "frozen": false,
     "read_only": false
    }
   },
   "outputs": [],
   "source": [
    "# ça marche avec les classes par contre\n",
    "SousC.printNumInstances()"
   ]
  },
  {
   "cell_type": "code",
   "execution_count": null,
   "metadata": {
    "cell_style": "split",
    "run_control": {
     "frozen": false,
     "read_only": false
    }
   },
   "outputs": [],
   "source": [
    "C.printNumInstances()"
   ]
  },
  {
   "cell_type": "markdown",
   "metadata": {
    "run_control": {
     "frozen": false,
     "read_only": false
    },
    "slideshow": {
     "slide_type": "slide"
    }
   },
   "source": [
    "# méthodes statiques"
   ]
  },
  {
   "cell_type": "code",
   "execution_count": null,
   "metadata": {
    "cell_style": "split",
    "run_control": {
     "frozen": false,
     "read_only": false
    }
   },
   "outputs": [],
   "source": [
    "# si au contraire je redéclare la méthode \n",
    "# de la sous-classe comme statique\n",
    "# en utilisant cette fois-ci un décorateur\n",
    "\n",
    "class SousC(C):\n",
    "\n",
    "    @staticmethod\n",
    "    def printNumInstances():\n",
    "        print(\"depuis SousC\")\n",
    "        C.printNumInstances()\n"
   ]
  },
  {
   "cell_type": "code",
   "execution_count": null,
   "metadata": {
    "cell_style": "split",
    "run_control": {
     "frozen": false,
     "read_only": false
    }
   },
   "outputs": [],
   "source": [
    "# maintenant ça marche \n",
    "# avec instances et classes\n",
    "i = SousC()            \n",
    "i.printNumInstances()  "
   ]
  },
  {
   "cell_type": "code",
   "execution_count": null,
   "metadata": {
    "cell_style": "split",
    "run_control": {
     "frozen": false,
     "read_only": false
    }
   },
   "outputs": [],
   "source": [
    "SousC.printNumInstances()"
   ]
  },
  {
   "cell_type": "markdown",
   "metadata": {
    "run_control": {
     "frozen": false,
     "read_only": false
    },
    "slideshow": {
     "slide_type": "slide"
    }
   },
   "source": [
    "# méthodes statiques"
   ]
  },
  {
   "cell_type": "code",
   "execution_count": null,
   "metadata": {
    "cell_style": "split",
    "run_control": {
     "frozen": false,
     "read_only": false
    }
   },
   "outputs": [],
   "source": [
    "# une autre sous-classe de C \n",
    "# qui ne redéfinit pas la méthode\n",
    "class AutreSousC(C):\n",
    "    pass"
   ]
  },
  {
   "cell_type": "code",
   "execution_count": null,
   "metadata": {
    "cell_style": "split",
    "run_control": {
     "frozen": false,
     "read_only": false
    }
   },
   "outputs": [],
   "source": [
    "AutreSousC.printNumInstances()"
   ]
  },
  {
   "cell_type": "code",
   "execution_count": null,
   "metadata": {
    "cell_style": "split",
    "run_control": {
     "frozen": false,
     "read_only": false
    }
   },
   "outputs": [],
   "source": [
    "j = AutreSousC()\n",
    "j.printNumInstances()"
   ]
  },
  {
   "cell_type": "markdown",
   "metadata": {
    "run_control": {
     "frozen": false,
     "read_only": false
    }
   },
   "source": [
    "* `AutreSousC()` appelle automatiquement le constructeur de la classe `C`, ce qui incrémente le compteur d’instances"
   ]
  },
  {
   "cell_type": "markdown",
   "metadata": {
    "run_control": {
     "frozen": false,
     "read_only": false
    },
    "slideshow": {
     "slide_type": "slide"
    }
   },
   "source": [
    "# méthodes de classe"
   ]
  },
  {
   "cell_type": "code",
   "execution_count": null,
   "metadata": {
    "cell_style": "split",
    "run_control": {
     "frozen": false,
     "read_only": false
    }
   },
   "outputs": [],
   "source": [
    "# imaginons maintenant qu'on veuille toujours\n",
    "# compter les instances mais classe par classe\n",
    "class C:\n",
    "\n",
    "    numInstances = 0                         \n",
    "\n",
    "    def __init__(self):\n",
    "        C.numInstances += 1\n",
    "\n",
    "    @classmethod\n",
    "    def printNumInstances(cls):\n",
    "        print(f\"nb. instances de {cls.__name__}=\"\n",
    "              f\"{cls.numInstances}\")"
   ]
  },
  {
   "cell_type": "code",
   "execution_count": null,
   "metadata": {
    "cell_style": "split",
    "run_control": {
     "frozen": false,
     "read_only": false
    }
   },
   "outputs": [],
   "source": [
    "c = C()\n",
    "\n",
    "# sur l'instance\n",
    "c.printNumInstances()"
   ]
  },
  {
   "cell_type": "code",
   "execution_count": null,
   "metadata": {
    "cell_style": "split",
    "run_control": {
     "frozen": false,
     "read_only": false
    }
   },
   "outputs": [],
   "source": [
    "# sur la classe\n",
    "C.printNumInstances()"
   ]
  },
  {
   "cell_type": "markdown",
   "metadata": {
    "run_control": {
     "frozen": false,
     "read_only": false
    },
    "slideshow": {
     "slide_type": "slide"
    }
   },
   "source": [
    "# méthode de classe"
   ]
  },
  {
   "cell_type": "markdown",
   "metadata": {
    "run_control": {
     "frozen": false,
     "read_only": false
    }
   },
   "source": [
    "* avec une méthode de classe, le premier paramètre \n",
    "  * correspond à **la classe de** l'objet sujet de la méthode\n",
    "  * du coup la convention est de l'appeler `cls` et non pas `self`"
   ]
  },
  {
   "cell_type": "code",
   "execution_count": null,
   "metadata": {
    "cell_style": "split",
    "run_control": {
     "frozen": false,
     "read_only": false
    }
   },
   "outputs": [],
   "source": [
    "class SousC(C):\n",
    "    pass"
   ]
  },
  {
   "cell_type": "code",
   "execution_count": null,
   "metadata": {
    "cell_style": "split",
    "run_control": {
     "frozen": false,
     "read_only": false
    }
   },
   "outputs": [],
   "source": [
    "# on crée un objet C et un SousC\n",
    "# -> 2 instances de plus comptabilisées\n",
    "c, sousC = C(), SousC()\n",
    "C.printNumInstances()"
   ]
  },
  {
   "cell_type": "code",
   "execution_count": null,
   "metadata": {
    "cell_style": "split",
    "run_control": {
     "frozen": false,
     "read_only": false
    }
   },
   "outputs": [],
   "source": [
    "SousC.printNumInstances()"
   ]
  },
  {
   "cell_type": "code",
   "execution_count": null,
   "metadata": {
    "cell_style": "split",
    "run_control": {
     "frozen": false,
     "read_only": false
    }
   },
   "outputs": [],
   "source": [
    "sousC.printNumInstances()"
   ]
  },
  {
   "cell_type": "markdown",
   "metadata": {
    "run_control": {
     "frozen": false,
     "read_only": false
    },
    "slideshow": {
     "slide_type": "slide"
    }
   },
   "source": [
    "# nombre d’instances par sous classe"
   ]
  },
  {
   "cell_type": "code",
   "execution_count": null,
   "metadata": {
    "cell_style": "split",
    "run_control": {
     "frozen": false,
     "read_only": false
    }
   },
   "outputs": [],
   "source": [
    "class C:\n",
    "    \n",
    "    numInstances= 0\n",
    "\n",
    "    def __init__(self):\n",
    "        self.count()\n",
    "\n",
    "    @classmethod\n",
    "    def count(cls):\n",
    "        print(f'incrementing {cls.__name__}')\n",
    "        cls.numInstances += 1\n",
    "\n",
    "    @classmethod\n",
    "    def printNumInstances(cls):\n",
    "        print(f\"nb. instances de {cls.__name__}=\"\n",
    "              f\"{cls.numInstances}\")\n",
    "\n",
    "        \n",
    "class SousC(C):\n",
    "    numInstances= 0\n"
   ]
  },
  {
   "cell_type": "code",
   "execution_count": null,
   "metadata": {
    "cell_style": "split",
    "run_control": {
     "frozen": false,
     "read_only": false
    },
    "slideshow": {
     "slide_type": "fragment"
    }
   },
   "outputs": [],
   "source": [
    "c = C()"
   ]
  },
  {
   "cell_type": "code",
   "execution_count": null,
   "metadata": {
    "cell_style": "split",
    "run_control": {
     "frozen": false,
     "read_only": false
    }
   },
   "outputs": [],
   "source": [
    "sous1, sous2 = SousC(), SousC()"
   ]
  },
  {
   "cell_type": "code",
   "execution_count": null,
   "metadata": {
    "cell_style": "split",
    "run_control": {
     "frozen": false,
     "read_only": false
    }
   },
   "outputs": [],
   "source": [
    "c.printNumInstances()\n",
    "sous1.printNumInstances()\n",
    "sous2.printNumInstances()"
   ]
  },
  {
   "cell_type": "markdown",
   "metadata": {
    "run_control": {
     "frozen": false,
     "read_only": false
    },
    "slideshow": {
     "slide_type": "slide"
    }
   },
   "source": [
    "# quand utiliser `staticmethod` ?"
   ]
  },
  {
   "cell_type": "markdown",
   "metadata": {
    "run_control": {
     "frozen": false,
     "read_only": false
    }
   },
   "source": [
    "* la méthode statique est adaptée \n",
    "  * lorsque l’on n'a pas d'instance sous la main\n",
    "  * e.g. une usine à objets\n",
    "* comme une fonction de module\n",
    "  * mais dans l'espace de nom de la classe"
   ]
  },
  {
   "cell_type": "markdown",
   "metadata": {
    "run_control": {
     "frozen": false,
     "read_only": false
    },
    "slideshow": {
     "slide_type": "slide"
    }
   },
   "source": [
    "# quand utiliser  `classmethod` ?"
   ]
  },
  {
   "cell_type": "markdown",
   "metadata": {
    "run_control": {
     "frozen": false,
     "read_only": false
    }
   },
   "source": [
    "* la méthode de classe (puisqu’elle reçoit la classe lors de l’appel) est adaptée si \n",
    "  * on a un comportement spécifique en fonction de la sous classe\n",
    "  * on veut travailler sur des attributs de la classe, mais on ne veut pas coder en dur son nom\n",
    "* voir [cet exemple intéressant sur SO](http://stackoverflow.com/questions/12179271/python-classmethod-and-staticmethod-for-beginner) d’utilisation de `staticmethod` et `classmethod`"
   ]
  }
 ],
 "metadata": {
  "jupytext": {
   "formats": "ipynb"
  },
  "kernelspec": {
   "display_name": "Python 3",
   "language": "python",
   "name": "python3"
  },
  "language_info": {
   "codemirror_mode": {
    "name": "ipython",
    "version": 3
   },
   "file_extension": ".py",
   "mimetype": "text/x-python",
   "name": "python",
   "nbconvert_exporter": "python",
   "pygments_lexer": "ipython3",
   "version": "3.7.0"
  },
  "notebookname": "méthodes statiques",
  "rise": {
   "autolaunch": true,
   "slideNumber": "c/t",
   "start_slideshow_at": "selected",
   "theme": "sky",
   "transition": "cube"
  },
  "version": "1.0"
 },
 "nbformat": 4,
 "nbformat_minor": 2
}
