{
 "cells": [
  {
   "cell_type": "markdown",
   "metadata": {
    "tags": [
     "raises-exception"
    ]
   },
   "source": [
    "<div class=\"licence\">\n",
    "<span>Licence CC BY-NC-ND</span>\n",
    "<span>Thierry Parmentelat &amp; Arnaud Legout</span>\n",
    "</div>"
   ]
  },
  {
   "cell_type": "code",
   "execution_count": null,
   "metadata": {
    "run_control": {
     "frozen": false,
     "read_only": false
    },
    "slideshow": {
     "slide_type": "slide"
    }
   },
   "outputs": [],
   "source": [
    "from plan import plan; plan(\"compléments\", \"exceptions\") "
   ]
  },
  {
   "cell_type": "markdown",
   "metadata": {
    "run_control": {
     "frozen": false,
     "read_only": false
    },
    "slideshow": {
     "slide_type": "slide"
    }
   },
   "source": [
    "# exceptions"
   ]
  },
  {
   "cell_type": "markdown",
   "metadata": {},
   "source": [
    "* mécanisme pour gérer les situations exceptionnelles"
   ]
  },
  {
   "cell_type": "code",
   "execution_count": null,
   "metadata": {
    "cell_style": "center",
    "tags": [
     "raises-exception"
    ]
   },
   "outputs": [],
   "source": [
    "1 / 0"
   ]
  },
  {
   "cell_type": "markdown",
   "metadata": {
    "slideshow": {
     "slide_type": "slide"
    }
   },
   "source": [
    "## l'instruction `try` .. `except`"
   ]
  },
  {
   "cell_type": "code",
   "execution_count": null,
   "metadata": {
    "run_control": {
     "frozen": false,
     "read_only": false
    }
   },
   "outputs": [],
   "source": [
    "# une instruction `try except`\n",
    "# permet de capturer une exception\n",
    "def divide(x, y):\n",
    "    try:\n",
    "        res  = x / y\n",
    "    except ZeroDivisionError:\n",
    "        print('division by zero! ')\n",
    "    print('continuing... ')"
   ]
  },
  {
   "cell_type": "code",
   "execution_count": null,
   "metadata": {
    "cell_style": "split",
    "run_control": {
     "frozen": false,
     "read_only": false
    }
   },
   "outputs": [],
   "source": [
    "divide(8, 3)"
   ]
  },
  {
   "cell_type": "code",
   "execution_count": null,
   "metadata": {
    "cell_style": "split",
    "run_control": {
     "frozen": false,
     "read_only": false
    }
   },
   "outputs": [],
   "source": [
    "divide(8, 0)"
   ]
  },
  {
   "cell_type": "markdown",
   "metadata": {
    "slideshow": {
     "slide_type": "slide"
    }
   },
   "source": [
    "## l'instruction `raise`"
   ]
  },
  {
   "cell_type": "markdown",
   "metadata": {},
   "source": [
    "pour signaler une condition exceptionnelle"
   ]
  },
  {
   "cell_type": "code",
   "execution_count": null,
   "metadata": {},
   "outputs": [],
   "source": [
    "def set_age(person, age):\n",
    "    if not isinstance(age, int):\n",
    "        raise ValueError(\"a person's age must be an integer\")\n",
    "    person['age'] = age"
   ]
  },
  {
   "cell_type": "code",
   "execution_count": null,
   "metadata": {
    "cell_style": "center",
    "tags": [
     "raises-exception"
    ]
   },
   "outputs": [],
   "source": [
    "person = dict()\n",
    "\n",
    "set_age(person, '10')"
   ]
  },
  {
   "cell_type": "markdown",
   "metadata": {
    "cell_style": "center",
    "slideshow": {
     "slide_type": "slide"
    }
   },
   "source": [
    "## exception et pile d'exécution"
   ]
  },
  {
   "cell_type": "markdown",
   "metadata": {},
   "source": [
    "* en général, le `raise` ne se produit pas dans le même bloc\n",
    "* mais peut avoir lieu dans une fonction\n",
    "* à n'importe quelle profondeur de la pile"
   ]
  },
  {
   "cell_type": "markdown",
   "metadata": {
    "slideshow": {
     "slide_type": "slide"
    }
   },
   "source": [
    "### exception et pile d'exécution"
   ]
  },
  {
   "cell_type": "code",
   "execution_count": null,
   "metadata": {
    "cell_style": "center"
   },
   "outputs": [],
   "source": [
    "# une fonction qui va faire raise\n",
    "# mais pas tout de suite\n",
    "def time_bomb(n):\n",
    "    if n > 0:\n",
    "        return time_bomb(n-1)\n",
    "    else:\n",
    "        raise OverflowError(\"BOOM\")"
   ]
  },
  {
   "cell_type": "code",
   "execution_count": null,
   "metadata": {
    "cell_style": "split",
    "slideshow": {
     "slide_type": "slide"
    },
    "tags": [
     "raises-exception"
    ]
   },
   "outputs": [],
   "source": [
    "def driver():\n",
    "    time_bomb(1)\n",
    "    print(\"will never pass here\")\n",
    "\n",
    "driver()     "
   ]
  },
  {
   "cell_type": "markdown",
   "metadata": {
    "cell_style": "split"
   },
   "source": [
    "![uncaught](pictures/except-stack-uncaught.png)"
   ]
  },
  {
   "cell_type": "code",
   "execution_count": null,
   "metadata": {
    "cell_style": "split",
    "slideshow": {
     "slide_type": "slide"
    }
   },
   "outputs": [],
   "source": [
    "def driver_try():\n",
    "    try:\n",
    "        time_bomb(2)\n",
    "    except Exception as exc:\n",
    "        print(f\"OOPS {type(exc)}, {exc}\")\n",
    "    print(\"will do this\")\n",
    "    \n",
    "driver_try()    "
   ]
  },
  {
   "cell_type": "markdown",
   "metadata": {
    "cell_style": "split"
   },
   "source": [
    "![try](pictures/except-stack-try.png)"
   ]
  },
  {
   "cell_type": "markdown",
   "metadata": {
    "run_control": {
     "frozen": false,
     "read_only": false
    },
    "slideshow": {
     "slide_type": "slide"
    }
   },
   "source": [
    "## clause `except`"
   ]
  },
  {
   "cell_type": "markdown",
   "metadata": {
    "cell_style": "center"
   },
   "source": [
    "* la clause `raise` doit fournir un objet idoine  \n",
    "  ne peut pas par exemple faire `raise 1`\n",
    "\n",
    "* doit être une instance de `BaseException`  \n",
    "  (ou de l'une de ses sous-classes)\n",
    "\n",
    "* la clause `except` permet de n'attraper  \n",
    "  qu'une partie des exceptions possibles\n"
   ]
  },
  {
   "cell_type": "markdown",
   "metadata": {
    "run_control": {
     "frozen": false,
     "read_only": false
    },
    "slideshow": {
     "slide_type": "slide"
    }
   },
   "source": [
    "![exceptions](pictures/except-list.png)"
   ]
  },
  {
   "cell_type": "markdown",
   "metadata": {
    "run_control": {
     "frozen": false,
     "read_only": false
    },
    "slideshow": {
     "slide_type": "slide"
    }
   },
   "source": [
    "### clause `except`"
   ]
  },
  {
   "cell_type": "markdown",
   "metadata": {
    "run_control": {
     "frozen": false,
     "read_only": false
    }
   },
   "source": [
    "#### forme générale\n",
    "\n",
    "* on peut mettre plusieurs `except` après un `try:`  \n",
    "  chacune attrape **une partie** seulement des classes\n",
    "\n",
    "* la **première** qui convient est la bonne  \n",
    "  retour à un régime non exceptionnel\n",
    "\n",
    "* si **aucune** ne convient:  \n",
    "  l'exception se propage dans la pile  \n",
    "  c'est comme si on n'avait pas mis le `try:` du tout"
   ]
  },
  {
   "cell_type": "markdown",
   "metadata": {
    "run_control": {
     "frozen": false,
     "read_only": false
    },
    "slideshow": {
     "slide_type": "slide"
    }
   },
   "source": [
    "#### clause `except`"
   ]
  },
  {
   "cell_type": "markdown",
   "metadata": {
    "run_control": {
     "frozen": false,
     "read_only": false
    }
   },
   "source": [
    "```python\n",
    "try:\n",
    "    bloc\n",
    "    de code\n",
    "except ExceptionClass:        # les instances de\n",
    "                              # ExceptionClass\n",
    "except (Class1, .. Classn):   # comme avec isinstance\n",
    "except Class as instance:     # donne un nom à l'objet \n",
    "                              # levé par raise\n",
    "except:                       # attrape-tout - déconseillé    \n",
    "```    "
   ]
  },
  {
   "cell_type": "markdown",
   "metadata": {
    "run_control": {
     "frozen": false,
     "read_only": false
    },
    "slideshow": {
     "slide_type": "slide"
    }
   },
   "source": [
    "### attrape-tout ?"
   ]
  },
  {
   "cell_type": "markdown",
   "metadata": {
    "run_control": {
     "frozen": false,
     "read_only": false
    }
   },
   "source": [
    "#### capturer **toutes** les exceptions avec `except:` ou `except Exception:` \n",
    "\n",
    "* est généralement une mauvaise idée\n",
    "* il vaut mieux comprendre ce que l’on capture\n",
    "* on risque de rendre silencieuses des exceptions non prévues\n",
    "* et d’avoir du mal à trouver les erreurs d’exécution\n",
    "* à réserver à une profondeur faible dans la pile\n",
    "  * pour éviter notamment une sortie brutale"
   ]
  },
  {
   "cell_type": "markdown",
   "metadata": {
    "slideshow": {
     "slide_type": "slide"
    }
   },
   "source": [
    "### le module `traceback`"
   ]
  },
  {
   "cell_type": "markdown",
   "metadata": {},
   "source": [
    "* en production\n",
    "  * pas d'attrape-tout\n",
    "* en développement\n",
    "  * ce n'est pas évident de tout envisager du premier coup\n",
    "  * forme répandue: attrape-tout avec instrumentation"
   ]
  },
  {
   "cell_type": "code",
   "execution_count": null,
   "metadata": {
    "slideshow": {
     "slide_type": "slide"
    }
   },
   "outputs": [],
   "source": [
    "import traceback\n",
    "\n",
    "try:\n",
    "    # un gros code; difficile de dire \n",
    "    # a priori toutes les exceptions\n",
    "    # qui peuvent se produire\n",
    "    pass\n",
    "except OSError as exc:\n",
    "    print(f\"pour celle-ci je sais quoi faire {exc}\")\n",
    "except KeyboardInterrupt:\n",
    "    print(\"pour celle-ci aussi\")\n",
    "except:\n",
    "    # je suis tout près du main(), je ne veux pas laisser \n",
    "    # passer l'exception car ça se terminerait mal\n",
    "    import traceback\n",
    "    traceback.print_exc()"
   ]
  },
  {
   "cell_type": "code",
   "execution_count": null,
   "metadata": {
    "slideshow": {
     "slide_type": "slide"
    }
   },
   "outputs": [],
   "source": [
    "# la même chose avec le module logging\n",
    "# en vrai on ne fait jamais print()\n",
    "import logging\n",
    "\n",
    "logging.basicConfig(level=logging.INFO)\n",
    "\n",
    "\n",
    "try:\n",
    "    # un gros code; difficile de dire \n",
    "    # a priori toutes les exceptions\n",
    "    # qui peuvent se produire\n",
    "    logging.info(\"in the code\")\n",
    "    1/ 0\n",
    "except OSError as exc:\n",
    "    logging.error(f\"pour celle-ci je sais quoi faire {exc}\")\n",
    "except KeyboardInterrupt:\n",
    "    logging.info(\"pour celle-ci aussi: bye\")\n",
    "except:\n",
    "    # je suis tout près du main(), je ne veux pas laisser \n",
    "    # passer l'exception car ça se terminerait mal\n",
    "    logging.exception(\"exception inattendue\")"
   ]
  },
  {
   "cell_type": "markdown",
   "metadata": {
    "run_control": {
     "frozen": false,
     "read_only": false
    },
    "slideshow": {
     "slide_type": "slide"
    }
   },
   "source": [
    "## `try` .. `else` "
   ]
  },
  {
   "cell_type": "markdown",
   "metadata": {
    "run_control": {
     "frozen": false,
     "read_only": false
    }
   },
   "source": [
    "* avec une instruction `try except`, comment exécuter du code seulement lorsqu’il n’y a pas eu d’exception ?\n",
    "  * on utilise une clause `else`\n",
    "  * exécutée uniquement s’il n’y a pas eu d’exception\n",
    "  * une exception dans la clause `else` n’est pas capturée par les `except` précédents\n",
    "* inspiré de `while` .. `else` et `for` .. `else`  "
   ]
  },
  {
   "cell_type": "markdown",
   "metadata": {
    "run_control": {
     "frozen": false,
     "read_only": false
    },
    "slideshow": {
     "slide_type": "slide"
    }
   },
   "source": [
    "### `try` .. `else` "
   ]
  },
  {
   "cell_type": "code",
   "execution_count": null,
   "metadata": {
    "run_control": {
     "frozen": false,
     "read_only": false
    }
   },
   "outputs": [],
   "source": [
    "def divide(x,y):\n",
    "    try:\n",
    "        res  = x / y\n",
    "    except ZeroDivisionError:\n",
    "        print('zero divide !')\n",
    "    else:\n",
    "        print('all right, result is', res)\n",
    "    print('continuing... ')"
   ]
  },
  {
   "cell_type": "code",
   "execution_count": null,
   "metadata": {
    "run_control": {
     "frozen": false,
     "read_only": false
    }
   },
   "outputs": [],
   "source": [
    "divide(8, 3)"
   ]
  },
  {
   "cell_type": "code",
   "execution_count": null,
   "metadata": {
    "run_control": {
     "frozen": false,
     "read_only": false
    }
   },
   "outputs": [],
   "source": [
    "divide(8, 0)"
   ]
  },
  {
   "cell_type": "markdown",
   "metadata": {
    "run_control": {
     "frozen": false,
     "read_only": false
    },
    "slideshow": {
     "slide_type": "slide"
    }
   },
   "source": [
    "## `except` .. `as`"
   ]
  },
  {
   "cell_type": "markdown",
   "metadata": {
    "run_control": {
     "frozen": false,
     "read_only": false
    }
   },
   "source": [
    "* la syntaxe `except Class as instance`\n",
    "* va réaliser une affectation de `instance`\n",
    "* vers l'objet qu'on a donné à `raise`\n",
    "* cette instance peut avoir des arguments stockés dans `instance.args` "
   ]
  },
  {
   "cell_type": "markdown",
   "metadata": {
    "run_control": {
     "frozen": false,
     "read_only": false
    },
    "slideshow": {
     "slide_type": "slide"
    }
   },
   "source": [
    "### `except` .. `as`"
   ]
  },
  {
   "cell_type": "markdown",
   "metadata": {
    "run_control": {
     "frozen": false,
     "read_only": false
    }
   },
   "source": [
    "* la présence et le type de `inst.args` \n",
    "  * va dépendre de l’exception\n",
    "  * ça peut être notamment une chaîne  \n",
    "    donnant des explications sur l’exception\n",
    "\n",
    "* dans tous les cas, cela donne des détails sur l’exception"
   ]
  },
  {
   "cell_type": "markdown",
   "metadata": {
    "run_control": {
     "frozen": false,
     "read_only": false
    },
    "slideshow": {
     "slide_type": "slide"
    }
   },
   "source": [
    "## instruction `raise`"
   ]
  },
  {
   "cell_type": "markdown",
   "metadata": {
    "run_control": {
     "frozen": false,
     "read_only": false
    }
   },
   "source": [
    "**formes possibles**\n",
    "\n",
    "* `raise instance`  \n",
    "  forme usuelle, pour **déclencher**  \n",
    "  instance doit être une instance de `BaseException`\n",
    "\n",
    "* `raise`  \n",
    "  forme usuelle pour **propager** depuis un `except`  \n",
    "  l'exception originale est intacte\n",
    "\n",
    "* `raise new_instance from original_exc`  \n",
    "  pour **propagation** avec modification"
   ]
  },
  {
   "cell_type": "markdown",
   "metadata": {
    "run_control": {
     "frozen": false,
     "read_only": false
    },
    "slideshow": {
     "slide_type": "slide"
    }
   },
   "source": [
    "## exemple de `as name`"
   ]
  },
  {
   "cell_type": "code",
   "execution_count": null,
   "metadata": {
    "run_control": {
     "frozen": false,
     "read_only": false
    }
   },
   "outputs": [],
   "source": [
    "# anticipons un peu: \n",
    "# je me définis ma propre classe d'exception\n",
    "class MyException(Exception):\n",
    "    def __str__(self):\n",
    "        return f\"<my-exception : {self.args}>\""
   ]
  },
  {
   "cell_type": "markdown",
   "metadata": {
    "run_control": {
     "frozen": false,
     "read_only": false
    },
    "slideshow": {
     "slide_type": "slide"
    }
   },
   "source": [
    "### exemple de `as value`"
   ]
  },
  {
   "cell_type": "code",
   "execution_count": null,
   "metadata": {
    "run_control": {
     "frozen": false,
     "read_only": false
    }
   },
   "outputs": [],
   "source": [
    "try:\n",
    "    raise MyException('spam', 'eggs')\n",
    "except MyException as exc:\n",
    "    # comme on a redéfini __str__\n",
    "    logging.info(exc) \n",
    "    # on peut extraire les données dans l'instance\n",
    "    x, y = exc.args\n",
    "    logging.info(f'x = {x}, y = {y}')"
   ]
  },
  {
   "cell_type": "markdown",
   "metadata": {
    "run_control": {
     "frozen": false,
     "read_only": false
    },
    "slideshow": {
     "slide_type": "slide"
    }
   },
   "source": [
    "## `try` .. `finally`"
   ]
  },
  {
   "cell_type": "markdown",
   "metadata": {
    "run_control": {
     "frozen": false,
     "read_only": false
    }
   },
   "source": [
    "**une instruction `try` peut avoir une clause `finally`**\n",
    "\n",
    "* cette clause est **toujours** exécutée\n",
    "  * si il n'y a aucune exception\n",
    "  * si il y a une exception attrapée\n",
    "  * si il y a une exception non attrapée\n",
    "  * et même s'il y a un `return` dans le code !\n",
    "* elle sert à faire du nettoyage après l’exécution du bloc try\n",
    "  * par exemple fermer un fichier"
   ]
  },
  {
   "cell_type": "markdown",
   "metadata": {
    "run_control": {
     "frozen": false,
     "read_only": false
    },
    "slideshow": {
     "slide_type": "slide"
    }
   },
   "source": [
    "### `try` .. `finally`"
   ]
  },
  {
   "cell_type": "code",
   "execution_count": null,
   "metadata": {},
   "outputs": [],
   "source": [
    "def finally_trumps_return(n):\n",
    "    try:\n",
    "        return n ** 2\n",
    "    finally:\n",
    "        logging.info(\"finally is invicible !\")"
   ]
  },
  {
   "cell_type": "code",
   "execution_count": null,
   "metadata": {},
   "outputs": [],
   "source": [
    "finally_trumps_return(10)"
   ]
  },
  {
   "cell_type": "markdown",
   "metadata": {
    "run_control": {
     "frozen": false,
     "read_only": false
    },
    "slideshow": {
     "slide_type": "slide"
    }
   },
   "source": [
    "## exemple de `try`"
   ]
  },
  {
   "cell_type": "code",
   "execution_count": null,
   "metadata": {
    "cell_style": "split",
    "run_control": {
     "frozen": false,
     "read_only": false
    }
   },
   "outputs": [],
   "source": [
    "def divide(x, y):\n",
    "    try:\n",
    "        res  = x / y\n",
    "    except ZeroDivisionError:\n",
    "        print('division by zero!')\n",
    "    else:\n",
    "        print('result is', res)\n",
    "    finally:\n",
    "        print('finally ..')\n",
    "    print('continuing...')"
   ]
  },
  {
   "cell_type": "code",
   "execution_count": null,
   "metadata": {
    "cell_style": "split",
    "run_control": {
     "frozen": false,
     "read_only": false
    }
   },
   "outputs": [],
   "source": [
    "# pas d'exception\n",
    "# try -> else \n",
    "#   -> finally -> continuing\n",
    "divide(3, 4) "
   ]
  },
  {
   "cell_type": "code",
   "execution_count": null,
   "metadata": {
    "cell_style": "split",
    "run_control": {
     "frozen": false,
     "read_only": false
    }
   },
   "outputs": [],
   "source": [
    "# une exception traitée\n",
    "# try -> except \n",
    "#   -> finally -> continuing\n",
    "divide(3, 0) "
   ]
  },
  {
   "cell_type": "code",
   "execution_count": null,
   "metadata": {
    "slideshow": {
     "slide_type": "slide"
    },
    "tags": [
     "raises-exception"
    ]
   },
   "outputs": [],
   "source": [
    "# une exception non traitée\n",
    "# try -> finally -> BOOM\n",
    "divide(3, 'a')"
   ]
  },
  {
   "cell_type": "markdown",
   "metadata": {
    "run_control": {
     "frozen": false,
     "read_only": false
    },
    "slideshow": {
     "slide_type": "slide"
    }
   },
   "source": [
    "## exception personnalisée"
   ]
  },
  {
   "cell_type": "markdown",
   "metadata": {
    "run_control": {
     "frozen": false,
     "read_only": false
    }
   },
   "source": [
    "* dans la majorité des cas, on a uniquement besoin\n",
    "  * d’un nom d’exception explicite finissant par `Error`\n",
    "  * d’un message d’erreur\n",
    "* une exception personnalisée doit toujours hériter de `Exception`\n",
    "  * par défaut, tous les arguments passés au constructeur  \n",
    "    sont mis dans un tuple `args`\n",
    "\n",
    "  * on peut hériter de n’importe quelle exception  \n",
    "    qui hérite de `Exception`"
   ]
  },
  {
   "cell_type": "code",
   "execution_count": null,
   "metadata": {
    "run_control": {
     "frozen": false,
     "read_only": false
    },
    "slideshow": {
     "slide_type": "slide"
    }
   },
   "outputs": [],
   "source": [
    "class SplitError(Exception):\n",
    "    pass\n",
    "\n",
    "x, y = 1, 'a'\n",
    "\n",
    "try:\n",
    "    raise SplitError('split error', x, y)\n",
    "except SplitError as exc:\n",
    "    print(exc.args)"
   ]
  },
  {
   "cell_type": "markdown",
   "metadata": {
    "run_control": {
     "frozen": false,
     "read_only": false
    },
    "slideshow": {
     "slide_type": "slide"
    }
   },
   "source": [
    "### conception d’exceptions"
   ]
  },
  {
   "cell_type": "markdown",
   "metadata": {
    "run_control": {
     "frozen": false,
     "read_only": false
    }
   },
   "source": [
    "* une exception est une vraie classe  \n",
    "  on peut donc surcharger le constructeur  \n",
    "  et ajouter des méthodes\n",
    "\n",
    "* on peut utiliser l'arbre d’héritage pour structurer les exceptions \n",
    "  * une clause `except MyException` capture  \n",
    "    les instance de `MyException`  \n",
    "    ou de ses sous-classes (cf `isinstance()`)\n",
    "\n",
    "  * maintenance plus facile"
   ]
  },
  {
   "cell_type": "markdown",
   "metadata": {
    "run_control": {
     "frozen": false,
     "read_only": false
    },
    "slideshow": {
     "slide_type": "slide"
    }
   },
   "source": [
    "## les exceptions sont très efficaces"
   ]
  },
  {
   "cell_type": "markdown",
   "metadata": {
    "run_control": {
     "frozen": false,
     "read_only": false
    }
   },
   "source": [
    "* voici la bonne manière d’ouvrir un fichier"
   ]
  },
  {
   "cell_type": "code",
   "execution_count": null,
   "metadata": {
    "run_control": {
     "frozen": false,
     "read_only": false
    }
   },
   "outputs": [],
   "source": [
    "try:\n",
    "    with open('fichier-inexistant', 'r') as feed:\n",
    "        for line in feed:\n",
    "            print(line)\n",
    "except OSError as err:\n",
    "    print(err)\n",
    "    print(err.args)\n",
    "    print(err.filename)"
   ]
  },
  {
   "cell_type": "markdown",
   "metadata": {
    "run_control": {
     "frozen": false,
     "read_only": false
    }
   },
   "source": [
    "beaucoup plus concis et efficace que de tester si le fichier existe,  \n",
    "si ça n’est pas un répertoire, si on a les droits d’écriture, etc."
   ]
  }
 ],
 "metadata": {
  "celltoolbar": "Edit Metadata",
  "jupytext": {
   "cell_metadata_filter": "all",
   "formats": "ipynb",
   "notebook_metadata_filter": "all,-language_info,-toc,-jupytext.text_representation.jupytext_version"
  },
  "kernelspec": {
   "display_name": "Python 3",
   "language": "python",
   "name": "python3"
  },
  "language_info": {
   "codemirror_mode": {
    "name": "ipython",
    "version": 3
   },
   "file_extension": ".py",
   "mimetype": "text/x-python",
   "name": "python",
   "nbconvert_exporter": "python",
   "pygments_lexer": "ipython3",
   "version": "3.7.4"
  },
  "notebookname": "exceptions",
  "rise": {
   "autolaunch": true,
   "slideNumber": "c/t",
   "start_slideshow_at": "selected",
   "theme": "sky",
   "transition": "cube"
  },
  "toc": {
   "base_numbering": 1,
   "nav_menu": {},
   "number_sections": true,
   "sideBar": true,
   "skip_h1_title": false,
   "title_cell": "Table of Contents",
   "title_sidebar": "Contents",
   "toc_cell": false,
   "toc_position": {
    "height": "calc(100% - 180px)",
    "left": "10px",
    "top": "150px",
    "width": "367px"
   },
   "toc_section_display": true,
   "toc_window_display": true
  },
  "version": "1.0"
 },
 "nbformat": 4,
 "nbformat_minor": 2
}
