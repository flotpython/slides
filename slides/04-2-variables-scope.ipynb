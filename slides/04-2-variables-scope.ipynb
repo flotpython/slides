{
 "cells": [
  {
   "cell_type": "markdown",
   "metadata": {},
   "source": [
    "<div class=\"licence\">\n",
    "<span>Licence CC BY-NC-ND</span>\n",
    "<span>Thierry Parmentelat &amp; Arnaud Legout</span>\n",
    "</div>"
   ]
  },
  {
   "cell_type": "code",
   "execution_count": null,
   "metadata": {
    "run_control": {
     "frozen": false,
     "read_only": false
    },
    "slideshow": {
     "slide_type": "slide"
    }
   },
   "outputs": [],
   "source": [
    "from plan import plan; plan(\"fonctions\", \"portée\")"
   ]
  },
  {
   "cell_type": "markdown",
   "metadata": {
    "run_control": {
     "frozen": false,
     "read_only": false
    },
    "slideshow": {
     "slide_type": "slide"
    }
   },
   "source": [
    "## portée d’une variable"
   ]
  },
  {
   "cell_type": "markdown",
   "metadata": {
    "run_control": {
     "frozen": false,
     "read_only": false
    }
   },
   "source": [
    "* la portée d’une variable (ou scope) consiste  \n",
    "  à répondre à deux questions\n",
    "\n",
    "  * quand je référence une variable X,  \n",
    "    à quelle variable je fais référence ?\n",
    "\n",
    "  * quand j’affecte (un objet) à une variable X,  \n",
    "    depuis quelles parties de mon code \n",
    "    je peux accéder à cette variable ?"
   ]
  },
  {
   "cell_type": "markdown",
   "metadata": {
    "run_control": {
     "frozen": false,
     "read_only": false
    },
    "slideshow": {
     "slide_type": "slide"
    }
   },
   "source": [
    "### portée d’une variable"
   ]
  },
  {
   "cell_type": "markdown",
   "metadata": {
    "run_control": {
     "frozen": false,
     "read_only": false
    }
   },
   "source": [
    "* python utilise la **portée lexicale**,  \n",
    "  c’est-à-dire que la portée des variables  \n",
    "  est déterminée exclusivement  \n",
    "  en fonction de leur place dans le code source"
   ]
  },
  {
   "cell_type": "markdown",
   "metadata": {
    "run_control": {
     "frozen": false,
     "read_only": false
    },
    "slideshow": {
     "slide_type": "slide"
    }
   },
   "source": [
    "# portée des variables : référence"
   ]
  },
  {
   "cell_type": "markdown",
   "metadata": {
    "run_control": {
     "frozen": false,
     "read_only": false
    }
   },
   "source": [
    "* python cherche les affectations des variables  \n",
    "  suivant la règle **LEGB** qui suis l’ordre \n",
    "\n",
    "  * **L**ocal\n",
    "  * fonctions **E**nglobantes\n",
    "  * **G**lobal\n",
    "  * **B**uilt-in"
   ]
  },
  {
   "cell_type": "markdown",
   "metadata": {
    "run_control": {
     "frozen": false,
     "read_only": false
    },
    "slideshow": {
     "slide_type": "slide"
    }
   },
   "source": [
    "# portée des variables : référence"
   ]
  },
  {
   "cell_type": "markdown",
   "metadata": {
    "run_control": {
     "frozen": false,
     "read_only": false
    }
   },
   "source": [
    "* **L**: local\n",
    "  * nom affecté localement à la fonction où il est référencé \n",
    "* **E**: fonctions englobantes\n",
    "  * nom affecté dans les fonctions englobant la fonction où il est référencé (de l’intérieur vers l’extérieur) \n",
    "* **G**: global \n",
    "  * nom affecté dans le fichier hors d’une fonction \n",
    "* **B**: built-in \n",
    "  * nom déclaré dans le module builtins "
   ]
  },
  {
   "cell_type": "markdown",
   "metadata": {
    "run_control": {
     "frozen": false,
     "read_only": false
    },
    "slideshow": {
     "slide_type": "slide"
    }
   },
   "source": [
    "# portée des variables : référence"
   ]
  },
  {
   "cell_type": "markdown",
   "metadata": {
    "run_control": {
     "frozen": false,
     "read_only": false
    }
   },
   "source": [
    "* on peut donc utiliser (lire) dans une fonction  \n",
    "  une variable définie au dehors / au dessus \n",
    "\n",
    "* mais on ne peut **pas la modifier** (écrire) \n",
    "  sauf si elle est déclarée avec les mots clefs  \n",
    "  `global` ou `nonlocal`"
   ]
  },
  {
   "cell_type": "markdown",
   "metadata": {
    "run_control": {
     "frozen": false,
     "read_only": false
    },
    "slideshow": {
     "slide_type": "slide"
    }
   },
   "source": [
    "# portée des variables : affectation"
   ]
  },
  {
   "cell_type": "markdown",
   "metadata": {
    "run_control": {
     "frozen": false,
     "read_only": false
    }
   },
   "source": [
    "* les arguments d’une fonction ainsi que toutes les variables affectées dans la fonction sont locaux à cette fonction\n",
    "* les variables locales sont créées à chaque appel\n",
    "* il y a deux exceptions:\n",
    "  * si la variable `X` est déclaré `global`, l’affectation va modifier la variable `X` du module\n",
    "  * si la variable `X` est déclarée `nonlocal`, l’affectation va modifier la variable `X` dans la fonction englobante la plus proche ayant déjà défini `X`"
   ]
  },
  {
   "cell_type": "markdown",
   "metadata": {
    "run_control": {
     "frozen": false,
     "read_only": false
    },
    "slideshow": {
     "slide_type": "slide"
    }
   },
   "source": [
    "# portée des variables : affectation"
   ]
  },
  {
   "cell_type": "markdown",
   "metadata": {
    "run_control": {
     "frozen": false,
     "read_only": false
    }
   },
   "source": [
    "* toutes les variables affectées à l’extérieur d’une classe ou fonction sont globales (*sous-entendu* au module)\n",
    "* leur portée est limitée au fichier dans lequel elles sont déclarées\n",
    "* on dira un **module** dans la suite"
   ]
  },
  {
   "cell_type": "markdown",
   "metadata": {
    "run_control": {
     "frozen": false,
     "read_only": false
    },
    "slideshow": {
     "slide_type": "slide"
    }
   },
   "source": [
    "# spécificités de `global`"
   ]
  },
  {
   "cell_type": "markdown",
   "metadata": {
    "run_control": {
     "frozen": false,
     "read_only": false
    }
   },
   "source": [
    "* la déclaration `global` \n",
    "  * doit apparaître avant l'utilisation\n",
    "  * c'est mieux de la mettre en premier dans le bloc\n",
    "* une variable déclarée `global`\n",
    "  * et assignée dans une fonction\n",
    "  * est automatiquement créée dans le module\n",
    "  * même si elle n’existait pas avant"
   ]
  },
  {
   "cell_type": "markdown",
   "metadata": {
    "run_control": {
     "frozen": false,
     "read_only": false
    },
    "slideshow": {
     "slide_type": "slide"
    }
   },
   "source": [
    "### spécificités de `global`"
   ]
  },
  {
   "cell_type": "code",
   "execution_count": null,
   "metadata": {
    "cell_style": "split",
    "run_control": {
     "frozen": false,
     "read_only": false
    }
   },
   "outputs": [],
   "source": [
    "# juste pour s'assurer que 'x' est indéfini\n",
    "try:      del x\n",
    "except:   pass\n",
    "\n",
    "y, z = 1, 2  # variables globales\n",
    "\n",
    "# déclare une variable globale x\n",
    "# y, z sont globales (en lecture)\n",
    "\n",
    "def f():\n",
    "    global x   \n",
    "    print(\"dans f\", y, z)\n",
    "    x = y + z       "
   ]
  },
  {
   "cell_type": "code",
   "execution_count": null,
   "metadata": {
    "cell_style": "split",
    "run_control": {
     "frozen": false,
     "read_only": false
    }
   },
   "outputs": [],
   "source": [
    "\n",
    "\n",
    "\n",
    "\n",
    "# à ce stade, f() n'a pas \n",
    "# encore été appelée \n",
    "# et x n’est pas\n",
    "# encore définie\n",
    "try: \n",
    "    print(x)\n",
    "except Exception as exc: \n",
    "    print(f\"{type(exc)}: {exc}\")"
   ]
  },
  {
   "cell_type": "code",
   "execution_count": null,
   "metadata": {
    "cell_style": "split",
    "run_control": {
     "frozen": false,
     "read_only": false
    }
   },
   "outputs": [],
   "source": [
    "f()"
   ]
  },
  {
   "cell_type": "code",
   "execution_count": null,
   "metadata": {
    "cell_style": "split",
    "run_control": {
     "frozen": false,
     "read_only": false
    }
   },
   "outputs": [],
   "source": [
    "# en appelant f(), on a défini la variable x\n",
    "print(x)"
   ]
  },
  {
   "cell_type": "markdown",
   "metadata": {
    "run_control": {
     "frozen": false,
     "read_only": false
    },
    "slideshow": {
     "slide_type": "slide"
    }
   },
   "source": [
    "# faut-il utiliser `global` ?"
   ]
  },
  {
   "cell_type": "markdown",
   "metadata": {
    "run_control": {
     "frozen": false,
     "read_only": false
    }
   },
   "source": [
    "* utiliser des variables globales est - presque toujours - une mauvaise idée\n",
    "* car cela crée les dépendances difficiles à détecter\n",
    "* la bonne manière est de\n",
    "  * ne pas utiliser de variable globale\n",
    "  * penser aux classes\n",
    "* exemple archi-classique\n",
    "  * la configuration d'une application\n",
    "  * est souvent implémentée comme un singleton"
   ]
  },
  {
   "cell_type": "markdown",
   "metadata": {
    "run_control": {
     "frozen": false,
     "read_only": false
    },
    "slideshow": {
     "slide_type": "slide"
    }
   },
   "source": [
    "### faut-il utiliser `global` ?"
   ]
  },
  {
   "cell_type": "code",
   "execution_count": null,
   "metadata": {
    "cell_style": "split",
    "run_control": {
     "frozen": false,
     "read_only": false
    }
   },
   "outputs": [],
   "source": [
    "# v1: utilisation de global \n",
    "\n",
    "x = 10\n",
    "\n",
    "def func():\n",
    "    global x\n",
    "    x = x + 10\n",
    "\n",
    "func()"
   ]
  },
  {
   "cell_type": "code",
   "execution_count": null,
   "metadata": {
    "cell_style": "split",
    "run_control": {
     "frozen": false,
     "read_only": false
    }
   },
   "outputs": [],
   "source": [
    "# v2: modification explicite\n",
    "x = 10\n",
    "\n",
    "def func():\n",
    "    return x + 10\n",
    "\n",
    "x = func()"
   ]
  },
  {
   "cell_type": "code",
   "execution_count": null,
   "metadata": {
    "run_control": {
     "frozen": false,
     "read_only": false
    }
   },
   "outputs": [],
   "source": [
    "# v3: Accès et modifications explicites\n",
    "x = 10\n",
    "\n",
    "def func(x):\n",
    "    return x + 10\n",
    "\n",
    "x = func(x)"
   ]
  },
  {
   "cell_type": "markdown",
   "metadata": {
    "run_control": {
     "frozen": false,
     "read_only": false
    },
    "slideshow": {
     "slide_type": "slide"
    }
   },
   "source": [
    "# spécificités de `nonlocal`"
   ]
  },
  {
   "cell_type": "markdown",
   "metadata": {
    "run_control": {
     "frozen": false,
     "read_only": false
    }
   },
   "source": [
    "* une variable `nonlocal` référence la variable locale  \n",
    "  de la fonction englobante la plus proche\n",
    "\n",
    "* une variable déclarée `nonlocal` \n",
    "  * doit obligatoirement avoir été affectée  \n",
    "    dans une fonction englobante\n",
    "\n",
    "  * en particulier, ne pourra être résolue dans le module  \n",
    "    au niveau global ou dans les built-ins\n",
    "\n",
    "  * si ça n’est pas le cas, erreur de syntaxe\n",
    "  * ne doit pas être un paramètre de la fonction"
   ]
  },
  {
   "cell_type": "markdown",
   "metadata": {
    "run_control": {
     "frozen": false,
     "read_only": false
    },
    "slideshow": {
     "slide_type": "slide"
    }
   },
   "source": [
    "### spécificités de `nonlocal`"
   ]
  },
  {
   "cell_type": "markdown",
   "metadata": {
    "run_control": {
     "frozen": false,
     "read_only": false
    },
    "tags": [
     "raises-exception"
    ]
   },
   "source": [
    "```python\n",
    "# ce code produit une erreur de syntaxe\n",
    "x = 1\n",
    "def f():\n",
    "    def g():\n",
    "        # il FAUT mettre 'global' ici\n",
    "        nonlocal x\n",
    "        x = x + 1\n",
    "        print(\"dans g\", x)\n",
    "    g()\n",
    "    print(\"dans f\", x)\n",
    "\n",
    "f()\n",
    "```"
   ]
  },
  {
   "cell_type": "markdown",
   "metadata": {
    "run_control": {
     "frozen": false,
     "read_only": false
    },
    "slideshow": {
     "slide_type": "slide"
    }
   },
   "source": [
    "# spécificités de `nonlocal`"
   ]
  },
  {
   "cell_type": "code",
   "execution_count": null,
   "metadata": {
    "run_control": {
     "frozen": false,
     "read_only": false
    }
   },
   "outputs": [],
   "source": [
    "# ici le code est correct\n",
    "x = 1\n",
    "def f():\n",
    "    x = 2\n",
    "    def g():\n",
    "        nonlocal x\n",
    "        x = x + 1\n",
    "        print(\"dans g\", x)\n",
    "    g()\n",
    "    print(\"dans f\", x)\n",
    "f()\n",
    "print(\"module:\", x)"
   ]
  },
  {
   "cell_type": "markdown",
   "metadata": {
    "run_control": {
     "frozen": false,
     "read_only": false
    },
    "slideshow": {
     "slide_type": "slide"
    }
   },
   "source": [
    "### spécificités de `nonlocal`"
   ]
  },
  {
   "cell_type": "markdown",
   "metadata": {
    "run_control": {
     "frozen": false,
     "read_only": false
    }
   },
   "source": [
    "```python\n",
    "# ce code produit une erreur de syntaxe\n",
    "x = 1\n",
    "def f():\n",
    "    x = 2\n",
    "    # le paramètre x empêche \n",
    "    # de référencer le nonlocal\n",
    "    def g(x):\n",
    "        nonlocal x\n",
    "        x = x + 1\n",
    "        print(\"dans g\", x)\n",
    "    g(x)\n",
    "    print(\"dans f\", x)\n",
    "f()\n",
    "```"
   ]
  },
  {
   "cell_type": "markdown",
   "metadata": {
    "run_control": {
     "frozen": false,
     "read_only": false
    },
    "slideshow": {
     "slide_type": "slide"
    }
   },
   "source": [
    "# faut-il utiliser `nonlocal` ?"
   ]
  },
  {
   "cell_type": "markdown",
   "metadata": {
    "run_control": {
     "frozen": false,
     "read_only": false
    }
   },
   "source": [
    "* c’est très utile lorsqu’on utilise la notion de clôture \n",
    "* c’est un concept de programmation avancé,  \n",
    "  on a parlera lorsqu’on verra les décorateurs"
   ]
  },
  {
   "cell_type": "code",
   "execution_count": null,
   "metadata": {},
   "outputs": [],
   "source": [
    "%load_ext ipythontutor"
   ]
  },
  {
   "cell_type": "code",
   "execution_count": null,
   "metadata": {
    "run_control": {
     "frozen": false,
     "read_only": false
    },
    "slideshow": {
     "slide_type": "slide"
    }
   },
   "outputs": [],
   "source": [
    "%%ipythontutor cumulative=false heapPrimitives=false\n",
    "L = [1, 2]\n",
    "def func():\n",
    "    L = [3, 4]\n",
    "    return L\n",
    "x = func()\n",
    "print(x)\n",
    "print(L)"
   ]
  },
  {
   "cell_type": "code",
   "execution_count": null,
   "metadata": {
    "run_control": {
     "frozen": false,
     "read_only": false
    },
    "slideshow": {
     "slide_type": "slide"
    }
   },
   "outputs": [],
   "source": [
    "%%ipythontutor cumulative=false heapPrimitives=false\n",
    "L = [1, 2]\n",
    "def func():\n",
    "    global L\n",
    "    L = [3, 4]\n",
    "    return L\n",
    "x = func()\n",
    "print(x)\n",
    "print(L)"
   ]
  },
  {
   "cell_type": "code",
   "execution_count": null,
   "metadata": {
    "run_control": {
     "frozen": false,
     "read_only": false
    },
    "slideshow": {
     "slide_type": "slide"
    }
   },
   "outputs": [],
   "source": [
    "%%ipythontutor cumulative=false heapPrimitives=false\n",
    "L = [1, 2]\n",
    "def f(L):\n",
    "    L.append(3) \n",
    "    L = 1\n",
    "f(L)\n",
    "print(L)"
   ]
  },
  {
   "cell_type": "markdown",
   "metadata": {
    "run_control": {
     "frozen": false,
     "read_only": false
    },
    "slideshow": {
     "slide_type": "slide"
    }
   },
   "source": [
    "# les noms de builtins"
   ]
  },
  {
   "cell_type": "markdown",
   "metadata": {
    "run_control": {
     "frozen": false,
     "read_only": false
    }
   },
   "source": [
    "* les  noms prédéfinis, comme `list` ou `enumerate` ou `OSError`\n",
    "* grâce à la règle LEGB, pas besoin de les importer\n",
    "* par contre, on peut redéfinir un nom de `builtins` dans son programme\n",
    "  * c’est une mauvaise idée et une source de bug\n",
    "  * python ne donne aucun warning dans ce cas\n",
    " * dans ce cas à nouveau, `pylint` est un outil très utile"
   ]
  },
  {
   "cell_type": "markdown",
   "metadata": {
    "run_control": {
     "frozen": false,
     "read_only": false
    },
    "slideshow": {
     "slide_type": "slide"
    }
   },
   "source": [
    "### les noms de builtins"
   ]
  },
  {
   "cell_type": "code",
   "execution_count": null,
   "metadata": {
    "cell_style": "split"
   },
   "outputs": [],
   "source": [
    "# on peut accéder à la variable `__builtins__` \n",
    "# qui est .. une variable *builtin* \n",
    "__builtins__"
   ]
  },
  {
   "cell_type": "code",
   "execution_count": null,
   "metadata": {
    "cell_style": "split",
    "run_control": {
     "frozen": false,
     "read_only": false
    }
   },
   "outputs": [],
   "source": [
    "# ou encore on peut\n",
    "# importer le module `builtins`\n",
    "import builtins"
   ]
  },
  {
   "cell_type": "code",
   "execution_count": null,
   "metadata": {
    "run_control": {
     "frozen": false,
     "read_only": false
    }
   },
   "outputs": [],
   "source": [
    "# je n'en montre que 5 pour garder de la place\n",
    "dir(builtins)[-5:]"
   ]
  },
  {
   "cell_type": "code",
   "execution_count": null,
   "metadata": {},
   "outputs": [],
   "source": [
    "len(dir(__builtins__))"
   ]
  },
  {
   "cell_type": "code",
   "execution_count": null,
   "metadata": {
    "slideshow": {
     "slide_type": "slide"
    }
   },
   "outputs": [],
   "source": [
    "errors = (x for x in dir(builtins) if 'Error' in x or 'Warning' in x)\n",
    "\n",
    "columns, width = 4, 18\n",
    "for i, error in enumerate(errors, 1):\n",
    "    print(f\"{error:^{width}}\", end=\" \")\n",
    "    if i % columns == 0:\n",
    "        print()"
   ]
  },
  {
   "cell_type": "code",
   "execution_count": null,
   "metadata": {
    "slideshow": {
     "slide_type": "slide"
    }
   },
   "outputs": [],
   "source": [
    "others = (x for x in dir(builtins) \n",
    "          if not ('Error' in x or 'Warning' in x or '__' in x))\n",
    "\n",
    "columns, width = 5, 12\n",
    "for i, other in enumerate(others, 1):\n",
    "    print(f\"{other:^{width}}\", end=\" \")\n",
    "    if i % columns == 0:\n",
    "        print()"
   ]
  }
 ],
 "metadata": {
  "celltoolbar": "Edit Metadata",
  "jupytext": {
   "cell_metadata_filter": "all",
   "formats": "ipynb",
   "notebook_metadata_filter": "all,-language_info,-toc,-jupytext.text_representation.jupytext_version"
  },
  "kernelspec": {
   "display_name": "Python 3",
   "language": "python",
   "name": "python3"
  },
  "language_info": {
   "codemirror_mode": {
    "name": "ipython",
    "version": 3
   },
   "file_extension": ".py",
   "mimetype": "text/x-python",
   "name": "python",
   "nbconvert_exporter": "python",
   "pygments_lexer": "ipython3",
   "version": "3.7.4"
  },
  "notebookname": "portée d’une variable",
  "rise": {
   "autolaunch": true,
   "slideNumber": "c/t",
   "start_slideshow_at": "selected",
   "theme": "sky",
   "transition": "cube"
  },
  "toc": {
   "base_numbering": 1,
   "nav_menu": {},
   "number_sections": true,
   "sideBar": true,
   "skip_h1_title": false,
   "title_cell": "Table of Contents",
   "title_sidebar": "Contents",
   "toc_cell": false,
   "toc_position": {},
   "toc_section_display": true,
   "toc_window_display": false
  },
  "version": "1.0"
 },
 "nbformat": 4,
 "nbformat_minor": 2
}
