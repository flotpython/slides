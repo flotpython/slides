{
 "cells": [
  {
   "cell_type": "markdown",
   "metadata": {
    "run_control": {
     "frozen": false,
     "read_only": false
    },
    "slideshow": {
     "slide_type": "slide"
    }
   },
   "source": [
    "<div class=\"licence\">\n",
    "<span>Licence CC BY-NC-ND</span>\n",
    "<span>Thierry Parmentelat &amp; Arnaud Legout</span>\n",
    "</div>"
   ]
  },
  {
   "cell_type": "code",
   "execution_count": null,
   "metadata": {},
   "outputs": [],
   "source": [
    "from plan import plan; plan(\"avancé\", \"attribut\")"
   ]
  },
  {
   "cell_type": "markdown",
   "metadata": {
    "run_control": {
     "frozen": false,
     "read_only": false
    },
    "slideshow": {
     "slide_type": "slide"
    }
   },
   "source": [
    "# pour quoi faire ?\n",
    "\n",
    "* ajouter une couche de logique\n",
    "* lorsqu'on accède, modifie ou efface un attribut\n"
   ]
  },
  {
   "cell_type": "markdown",
   "metadata": {
    "run_control": {
     "frozen": false,
     "read_only": false
    },
    "slideshow": {
     "slide_type": "slide"
    }
   },
   "source": [
    "# exemple\n",
    "\n",
    "* supposons que l'on veuille contrôler/intercepter\n",
    "* les accès à un ou des attributs"
   ]
  },
  {
   "cell_type": "code",
   "execution_count": null,
   "metadata": {
    "cell_style": "split",
    "run_control": {
     "frozen": false,
     "read_only": false
    }
   },
   "outputs": [],
   "source": [
    "class A: \n",
    "    pass\n",
    "\n",
    "a = A()"
   ]
  },
  {
   "cell_type": "code",
   "execution_count": null,
   "metadata": {
    "cell_style": "split",
    "run_control": {
     "frozen": false,
     "read_only": false
    }
   },
   "outputs": [],
   "source": [
    "# accès en écriture\n",
    "a.value = 10\n",
    "\n",
    "# accès en lecture\n",
    "print(a.value)\n",
    "\n",
    "# nettoyage\n",
    "del a.value"
   ]
  },
  {
   "cell_type": "markdown",
   "metadata": {
    "run_control": {
     "frozen": false,
     "read_only": false
    },
    "slideshow": {
     "slide_type": "slide"
    }
   },
   "source": [
    "# deux options\n",
    "\n",
    "* créer des méthodes (getters/setters)\n",
    "  * `getvalue()` et `setvalue()`\n",
    "  * implique de modifier tout le code\n",
    "  * pas satisfaisant\n",
    "  \n",
    "* modifier la façon\n",
    "  * dont python accède aux attributs"
   ]
  },
  {
   "cell_type": "markdown",
   "metadata": {
    "run_control": {
     "frozen": false,
     "read_only": false
    },
    "slideshow": {
     "slide_type": "slide"
    }
   },
   "source": [
    "# trois mécanismes\n",
    "\n",
    "* spécifiques à un attribut\n",
    "  * propriétés\n",
    "  * descripteurs\n",
    "\n",
    "* pour toute la classe\n",
    "  * méthodes `__getattr__`, `__getattribute__`\n",
    "  * (et apparentées)"
   ]
  },
  {
   "cell_type": "markdown",
   "metadata": {
    "run_control": {
     "frozen": false,
     "read_only": false
    },
    "slideshow": {
     "slide_type": "slide"
    }
   },
   "source": [
    "# propriétés"
   ]
  },
  {
   "cell_type": "code",
   "execution_count": null,
   "metadata": {
    "run_control": {
     "frozen": false,
     "read_only": false
    }
   },
   "outputs": [],
   "source": [
    "class Property:\n",
    "    def __init__(self):\n",
    "        self._x = None\n",
    "\n",
    "    def getx(self):       # getter appelé par c.x\n",
    "        print('get x')\n",
    "        return self._x\n",
    "\n",
    "    def setx(self, value):# setter appelé par c.x = value\n",
    "        print('set x to {}'.format(value))\n",
    "        self._x = value\n",
    "\n",
    "    def delx(self):       # deleter appelé par del c.x\n",
    "        print('deleting x')\n",
    "        del self._x\n",
    "\n",
    "    # ici on déclare que x est une propriété de Property\n",
    "    x = property(getx, setx, delx, \"doctring de 'x'.\")"
   ]
  },
  {
   "cell_type": "code",
   "execution_count": null,
   "metadata": {
    "run_control": {
     "frozen": false,
     "read_only": false
    },
    "slideshow": {
     "slide_type": "slide"
    }
   },
   "outputs": [],
   "source": [
    "# question pour voir ceux qui suivent:\n",
    "# pourquoi on n'appelle pas l'instance property ?\n",
    "\n",
    "prop = Property()\n",
    "prop.x = 10"
   ]
  },
  {
   "cell_type": "code",
   "execution_count": null,
   "metadata": {
    "cell_style": "split",
    "run_control": {
     "frozen": false,
     "read_only": false
    }
   },
   "outputs": [],
   "source": [
    "print(prop.x)"
   ]
  },
  {
   "cell_type": "code",
   "execution_count": null,
   "metadata": {
    "cell_style": "split",
    "run_control": {
     "frozen": false,
     "read_only": false
    }
   },
   "outputs": [],
   "source": [
    "del prop.x"
   ]
  },
  {
   "cell_type": "markdown",
   "metadata": {
    "run_control": {
     "frozen": false,
     "read_only": false
    },
    "slideshow": {
     "slide_type": "slide"
    }
   },
   "source": [
    "# les propriétés s'héritent\n",
    "\n",
    "* définies comme méthodes de la classe\n",
    "* sont donc héritées par les sous-classes"
   ]
  },
  {
   "cell_type": "code",
   "execution_count": null,
   "metadata": {
    "run_control": {
     "frozen": false,
     "read_only": false
    }
   },
   "outputs": [],
   "source": [
    "class SubProperty(Property): \n",
    "    pass\n",
    "\n",
    "subproperty = SubProperty()\n",
    "subproperty.x = 30"
   ]
  },
  {
   "cell_type": "markdown",
   "metadata": {
    "run_control": {
     "frozen": false,
     "read_only": false
    },
    "slideshow": {
     "slide_type": "slide"
    }
   },
   "source": [
    "### la [*builtin* `property`]"
   ]
  },
  {
   "cell_type": "markdown",
   "metadata": {
    "run_control": {
     "frozen": false,
     "read_only": false
    },
    "slideshow": {
     "slide_type": "slide"
    }
   },
   "source": [
    "* attend 4 arguments\n",
    "  * getter, setter, deleter, et doc\n",
    "* optionnels, lorsqu'un est manquant\n",
    "  * l'opération correspondante est interdite\n",
    "  \n",
    "voir (https://docs.python.org/3.5/library/functions.html#property)"
   ]
  },
  {
   "cell_type": "markdown",
   "metadata": {
    "run_control": {
     "frozen": false,
     "read_only": false
    },
    "slideshow": {
     "slide_type": "slide"
    }
   },
   "source": [
    "# le décorateur `property`\n",
    "\n",
    "* il existe une syntaxe alternative\n",
    "* avec un décorateur `@property` qui décore le getter\n",
    "* on doit alors appeler le getter d'après l'attribut (e.g. `value`)\n",
    "* on peut ensuite décorer le setter et le deleter\n",
    "  * avec `@value.setter` et `@value.deleter`\n",
    "* question de goût...  "
   ]
  },
  {
   "cell_type": "code",
   "execution_count": null,
   "metadata": {
    "cell_style": "split",
    "run_control": {
     "frozen": false,
     "read_only": false
    },
    "slideshow": {
     "slide_type": "slide"
    }
   },
   "outputs": [],
   "source": [
    "class DecoratedProperty:\n",
    "    def __init__(self):\n",
    "        self._value = None\n",
    "\n",
    "    @property\n",
    "    def value(self):            # getter\n",
    "        print('get value')\n",
    "        return self._value\n",
    "\n",
    "    @value.setter\n",
    "    def value(self, value):     # setter\n",
    "        print(f\"set value to {value}\")\n",
    "        self._value = value\n",
    "\n",
    "    @value.deleter\n",
    "    def value(self):            # deleter\n",
    "        print('del value')\n",
    "        del self._value"
   ]
  },
  {
   "cell_type": "code",
   "execution_count": null,
   "metadata": {
    "cell_style": "split",
    "run_control": {
     "frozen": false,
     "read_only": false
    },
    "slideshow": {
     "slide_type": ""
    }
   },
   "outputs": [],
   "source": [
    "decorated = DecoratedProperty()\n",
    "decorated.value = 10"
   ]
  },
  {
   "cell_type": "markdown",
   "metadata": {
    "run_control": {
     "frozen": false,
     "read_only": false
    },
    "slideshow": {
     "slide_type": "slide"
    }
   },
   "source": [
    "# descripteurs\n",
    "\n",
    "* un descripteur est une classe qui détermine le comportement\n",
    "* lors de l’accès, l’affectation et l’effacement d’un attribut\n",
    "* une classe avec au moins une des méthodes\n",
    "  * `__get__()`\n",
    "  * `__set__()`\n",
    "  * `__delete__()`\n",
    "  * est un descripteur\n",
    "  \n",
    "* commençons par voir une version erronée \n",
    "  * mais [qu'on trouve facilement sur internet](http://www.ibm.com/developerworks/library/os-pythondescriptors/))"
   ]
  },
  {
   "cell_type": "markdown",
   "metadata": {
    "run_control": {
     "frozen": false,
     "read_only": false
    },
    "slideshow": {
     "slide_type": "slide"
    }
   },
   "source": [
    "# descripteurs\n",
    "\n",
    "la caractéristique assez troublante des descripteurs est la suivante:\n",
    "\n",
    "* si pendant la recherche \"habituelle\" on trouve un attribut\n",
    "* **et que celui-ci est un descripteur**\n",
    "* **alors on l'évalue** (on l'appelle)\n",
    "* pour obtenir la valeur finale de l'attribut\n",
    "* ou pour écrire/détruire selon le contexte"
   ]
  },
  {
   "cell_type": "code",
   "execution_count": null,
   "metadata": {
    "run_control": {
     "frozen": false,
     "read_only": false
    },
    "slideshow": {
     "slide_type": "slide"
    }
   },
   "outputs": [],
   "source": [
    "# ! ATTENTION ! cette version n'est pas conseillée\n",
    "\n",
    "class DescriptorBroken:\n",
    " \n",
    "    def __init__(self):\n",
    "        self._name = ''\n",
    " \n",
    "    def __get__(self, instance, owner):\n",
    "        value = self._name\n",
    "        print(f\"getting: {value}\")\n",
    "        return value\n",
    " \n",
    "    def __set__(self, instance, name):\n",
    "        value = name.title()\n",
    "        print(f\"setting: {value}\")\n",
    "        self._name = value\n",
    " \n",
    "    def __delete__(self, instance):\n",
    "        print(f\"deleting: {self._name}\")\n",
    "        del self._name\n",
    " \n",
    "class PersonBroken:\n",
    "    name = DescriptorBroken()"
   ]
  },
  {
   "cell_type": "code",
   "execution_count": null,
   "metadata": {
    "run_control": {
     "frozen": false,
     "read_only": false
    },
    "slideshow": {
     "slide_type": "slide"
    }
   },
   "outputs": [],
   "source": [
    "user = PersonBroken()\n",
    "user.name = 'john smith'"
   ]
  },
  {
   "cell_type": "code",
   "execution_count": null,
   "metadata": {
    "cell_style": "split",
    "run_control": {
     "frozen": false,
     "read_only": false
    }
   },
   "outputs": [],
   "source": [
    "user.name"
   ]
  },
  {
   "cell_type": "code",
   "execution_count": null,
   "metadata": {
    "cell_style": "split",
    "run_control": {
     "frozen": false,
     "read_only": false
    }
   },
   "outputs": [],
   "source": [
    "del user.name"
   ]
  },
  {
   "cell_type": "markdown",
   "metadata": {
    "run_control": {
     "frozen": false,
     "read_only": false
    },
    "slideshow": {
     "slide_type": "slide"
    }
   },
   "source": [
    "# descripteurs\n",
    "\n",
    "* très puissant, utilisé pour implémenter \n",
    "  * les propriétés\n",
    "  * les méthodes statiques et de classe\n",
    "  * les méthodes bound et unbound\n",
    "  * `super()`\n",
    "  * ...\n",
    "* protocole de très bas niveau\n",
    "  * utiliser de préférence les properties"
   ]
  },
  {
   "cell_type": "markdown",
   "metadata": {
    "run_control": {
     "frozen": false,
     "read_only": false
    },
    "slideshow": {
     "slide_type": "slide"
    }
   },
   "source": [
    "# stockage des attributs\n",
    "\n",
    "* il y a une instance de descripteur par attribut de la classe\n",
    "  * cette instance de descripteur peut stocker ses propres attributs\n",
    "  * comme on vient de le faire\n",
    "  * ils seront partagés par toutes les instances\n",
    "* un descripteur peut accéder aux attributs des instances\n",
    "  * ainsi on peut modifier les attributs dans l'instance\n",
    "  \n",
    "C'est ce qui ne va pas avec notre premier essai..."
   ]
  },
  {
   "cell_type": "code",
   "execution_count": null,
   "metadata": {
    "cell_style": "split",
    "run_control": {
     "frozen": false,
     "read_only": false
    },
    "slideshow": {
     "slide_type": "slide"
    }
   },
   "outputs": [],
   "source": [
    "# ça ne va pas du tout, si je modifie pb\n",
    "# ça modifie **aussi** qb\n",
    "pb = PersonBroken()\n",
    "qb = PersonBroken()\n",
    "pb.name = 'John'"
   ]
  },
  {
   "cell_type": "code",
   "execution_count": null,
   "metadata": {
    "cell_style": "split",
    "run_control": {
     "frozen": false,
     "read_only": false
    }
   },
   "outputs": [],
   "source": [
    "qb.name"
   ]
  },
  {
   "cell_type": "code",
   "execution_count": null,
   "metadata": {
    "run_control": {
     "frozen": false,
     "read_only": false
    },
    "slideshow": {
     "slide_type": "slide"
    }
   },
   "outputs": [],
   "source": [
    "# il faut ranger la donnée dans l'instance\n",
    "# et non pas dans le descriptor\n",
    "\n",
    "class Descriptor:\n",
    " \n",
    "    def __init__(self):\n",
    "        # cet espace est partagé par toutes les instances\n",
    "        # ce n'est **pas** une bonne idée d'y ranger\n",
    "        # le nom des personnes, qui seront dans\n",
    "        # person._name\n",
    "        pass\n",
    " \n",
    "    def __get__(self, instance, owner):\n",
    "        # c'est ici que le paramètre instance est utile\n",
    "        value = instance._name\n",
    "        print(f\"getting: {value}\")\n",
    "        return value\n",
    " \n",
    "    def __set__(self, instance, name):\n",
    "        # attention à ne pas utiliser instance.name\n",
    "        # car on écraserait le descripteur !\n",
    "        value = name.title()\n",
    "        print(f\"setting: {value}\")\n",
    "        instance._name = value\n",
    " \n",
    "    def __delete__(self, instance):\n",
    "        print(f\"deleting: {instance._name}\")\n",
    "        del instance._name\n",
    " \n",
    "class Person:\n",
    "    name = Descriptor()"
   ]
  },
  {
   "cell_type": "code",
   "execution_count": null,
   "metadata": {
    "cell_style": "split",
    "run_control": {
     "frozen": false,
     "read_only": false
    },
    "slideshow": {
     "slide_type": "slide"
    }
   },
   "outputs": [],
   "source": [
    "# maintenant ça va mieux, \n",
    "# on peut toucher à p sans modifier q\n",
    "p = Person()\n",
    "q = Person()\n",
    "p.name = 'John'\n",
    "q.name = 'Bill'\n",
    "p.name"
   ]
  },
  {
   "cell_type": "code",
   "execution_count": null,
   "metadata": {
    "cell_style": "split",
    "run_control": {
     "frozen": false,
     "read_only": false
    }
   },
   "outputs": [],
   "source": [
    "q.name"
   ]
  },
  {
   "cell_type": "markdown",
   "metadata": {
    "run_control": {
     "frozen": false,
     "read_only": false
    },
    "slideshow": {
     "slide_type": "slide"
    }
   },
   "source": [
    "### où stocker les attributs"
   ]
  },
  {
   "cell_type": "markdown",
   "metadata": {
    "run_control": {
     "frozen": false,
     "read_only": false
    },
    "slideshow": {
     "slide_type": ""
    }
   },
   "source": [
    "* dans le descripteur\n",
    "  * si l'information est partagée \n",
    "  * par toutes les instances de la classe\n",
    "* dans chaque instance\n",
    "  * sinon"
   ]
  },
  {
   "cell_type": "markdown",
   "metadata": {
    "slideshow": {
     "slide_type": "slide"
    }
   },
   "source": [
    "### attention aux noms"
   ]
  },
  {
   "cell_type": "markdown",
   "metadata": {
    "run_control": {
     "frozen": false,
     "read_only": false
    },
    "slideshow": {
     "slide_type": ""
    }
   },
   "source": [
    "* que se passe-t-il si l’attribut de l’instance\n",
    " * a le même nom que le descripteur \n",
    " * i.e. l'attribut de la classe ?\n",
    "* le descripteur doit violer la règle de recherche des attributs\n",
    " * sinon il ne sera jamais appelé dans ce cas\n",
    " * puisque l’attribut d’instance est prioritaire sur l’attribut de classe"
   ]
  },
  {
   "cell_type": "code",
   "execution_count": null,
   "metadata": {
    "run_control": {
     "frozen": false,
     "read_only": false
    },
    "slideshow": {
     "slide_type": "slide"
    }
   },
   "outputs": [],
   "source": [
    "# cette version choisit maladroitement\n",
    "# d'utiliser instance.name pour stocker\n",
    "# la vraie valeur du nom, et provoque une récursion\n",
    "\n",
    "class DescriptorOverride:\n",
    " \n",
    "    def __get__(self, instance, owner):\n",
    "        # si on choisit d'utiliser instance.name\n",
    "        # on va rappeler le descripteur !\n",
    "        value = instance.name\n",
    "        print(f\"getting: {value}\")\n",
    "        return value\n",
    " \n",
    "    def __set__(self, instance, name):\n",
    "        value = name.title()\n",
    "        print(f\"setting: {value}\")\n",
    "        instance.name = value\n",
    " \n",
    "class PersonOverride:\n",
    "    name = DescriptorOverride()"
   ]
  },
  {
   "cell_type": "code",
   "execution_count": null,
   "metadata": {
    "run_control": {
     "frozen": false,
     "read_only": false
    },
    "slideshow": {
     "slide_type": "slide"
    }
   },
   "outputs": [],
   "source": [
    "po = PersonOverride()\n",
    "qo = PersonOverride()\n",
    "\n",
    "## je ne fais pas tourner cette version car elle\n",
    "# provoque un appel récursif infini..\n",
    "#po.name = 'John'"
   ]
  },
  {
   "cell_type": "markdown",
   "metadata": {
    "slideshow": {
     "slide_type": "slide"
    }
   },
   "source": [
    "### attention aux noms"
   ]
  },
  {
   "cell_type": "markdown",
   "metadata": {
    "run_control": {
     "frozen": false,
     "read_only": false
    },
    "slideshow": {
     "slide_type": "slide"
    }
   },
   "source": [
    "* attention donc à utiliser des noms différents\n",
    "* entre l'attribut de la classe\n",
    "  * qui référence le descripteur\n",
    "* et l'attibut de l'instance\n",
    "  * qui référence la vraie donnée\n",
    "* mais qui ne peuvent pas porter le même nom\n",
    "* préfixer avec  un `_` pour ranger la vraie donnée"
   ]
  },
  {
   "cell_type": "markdown",
   "metadata": {
    "run_control": {
     "frozen": false,
     "read_only": false
    },
    "slideshow": {
     "slide_type": "slide"
    }
   },
   "source": [
    "# descriptors *data* et *non-data*"
   ]
  },
  {
   "cell_type": "markdown",
   "metadata": {
    "run_control": {
     "frozen": false,
     "read_only": false
    },
    "slideshow": {
     "slide_type": ""
    }
   },
   "source": [
    "* un descriptor qui fournit `__get__` et `__set__`\n",
    "  * est dit un *data* descriptor\n",
    "  * il est **prioritaire** sur un attribut présent\n",
    "    dans `__dict__`\n",
    "\n",
    "* un descriptor qui ne fournit que `__get__`\n",
    "  * est dit *non-data*\n",
    "  * orienté pour les méthodes\n",
    "  * il n'**est pas prioritaire** sur `__dict__`"
   ]
  },
  {
   "cell_type": "code",
   "execution_count": null,
   "metadata": {
    "cell_style": "split",
    "run_control": {
     "frozen": false,
     "read_only": false
    },
    "slideshow": {
     "slide_type": "slide"
    }
   },
   "outputs": [],
   "source": [
    "class DescriptorData:\n",
    "\n",
    "    def __get__(self, instance, owner):\n",
    "        value = instance._name\n",
    "        print(f\"getting: {value}\")\n",
    "        return value\n",
    " \n",
    "    # en fournissant __set__\n",
    "    # on devient un *data* descriptor\n",
    "    def __set__(self, instance, name):\n",
    "        value = name.title()\n",
    "        print(\"setting: {value}\")\n",
    "        instance._name = value\n",
    "\n",
    "class PersonData:\n",
    "    def __init__(self):\n",
    "        self._name = None\n",
    "    name = DescriptorData()"
   ]
  },
  {
   "cell_type": "code",
   "execution_count": null,
   "metadata": {
    "cell_style": "split",
    "run_control": {
     "frozen": false,
     "read_only": false
    },
    "slideshow": {
     "slide_type": ""
    }
   },
   "outputs": [],
   "source": [
    "pd = PersonData()\n",
    "pd.name"
   ]
  },
  {
   "cell_type": "code",
   "execution_count": null,
   "metadata": {
    "cell_style": "split",
    "run_control": {
     "frozen": false,
     "read_only": false
    }
   },
   "outputs": [],
   "source": [
    "pd.name"
   ]
  },
  {
   "cell_type": "code",
   "execution_count": null,
   "metadata": {
    "cell_style": "split",
    "run_control": {
     "frozen": false,
     "read_only": false
    }
   },
   "outputs": [],
   "source": [
    "pd.name = 'john'\n",
    "pd.name"
   ]
  },
  {
   "cell_type": "code",
   "execution_count": null,
   "metadata": {
    "cell_style": "split",
    "run_control": {
     "frozen": false,
     "read_only": false
    },
    "slideshow": {
     "slide_type": "slide"
    }
   },
   "outputs": [],
   "source": [
    "class DescriptorNonData:\n",
    "\n",
    "    # sans __set__ on parle \n",
    "    # de *non-data* descriptor\n",
    "    def __get__(self, instance, owner):\n",
    "        value = instance._name\n",
    "        print(\"Getting: {}\".format(value))\n",
    "        return value\n",
    " \n",
    "class PersonNonData:\n",
    "    def __init__(self):\n",
    "        self._name = 'John Doe'\n",
    "    name = DescriptorNonData()"
   ]
  },
  {
   "cell_type": "code",
   "execution_count": null,
   "metadata": {
    "cell_style": "split",
    "run_control": {
     "frozen": false,
     "read_only": false
    },
    "slideshow": {
     "slide_type": ""
    }
   },
   "outputs": [],
   "source": [
    "pnd = PersonNonData()\n",
    "pnd.name = 'bill'\n",
    "pnd.name"
   ]
  },
  {
   "cell_type": "code",
   "execution_count": null,
   "metadata": {
    "cell_style": "split",
    "run_control": {
     "frozen": false,
     "read_only": false
    }
   },
   "outputs": [],
   "source": [
    "del pnd.name\n",
    "pnd.name"
   ]
  },
  {
   "cell_type": "markdown",
   "metadata": {
    "run_control": {
     "frozen": false,
     "read_only": false
    },
    "slideshow": {
     "slide_type": "slide"
    }
   },
   "source": [
    "### read-only descriptors"
   ]
  },
  {
   "cell_type": "markdown",
   "metadata": {
    "run_control": {
     "frozen": false,
     "read_only": false
    },
    "slideshow": {
     "slide_type": ""
    }
   },
   "source": [
    "* contrairement aux propriétés\n",
    "* l'absence de `__set__`\n",
    "* ne rend pas l'objet read-only\n",
    "* il faut que `__set__`\n",
    "  * lève l'exception `AttributeError`"
   ]
  },
  {
   "cell_type": "code",
   "execution_count": null,
   "metadata": {
    "cell_style": "split",
    "run_control": {
     "frozen": false,
     "read_only": false
    },
    "slideshow": {
     "slide_type": "slide"
    }
   },
   "outputs": [],
   "source": [
    "class DescriptorReadOnly:\n",
    "\n",
    "    def __get__(self, instance, owner):\n",
    "        value = instance._name\n",
    "        print(\"Getting: {}\".format(value))\n",
    "        return value\n",
    "\n",
    "    def __set__(self, instance, name):\n",
    "        raise AttributeError('read-only')\n",
    "\n",
    "class PersonReadOnly:\n",
    "    def __init__(self):\n",
    "        self._name = None\n",
    "    name = DescriptorReadOnly()"
   ]
  },
  {
   "cell_type": "code",
   "execution_count": null,
   "metadata": {
    "cell_style": "split",
    "run_control": {
     "frozen": false,
     "read_only": false
    },
    "slideshow": {
     "slide_type": ""
    }
   },
   "outputs": [],
   "source": [
    "pro = PersonReadOnly()\n",
    "try:\n",
    "    pro.name = 'john'\n",
    "except AttributeError as e:\n",
    "    print(\"OOPS\", e)"
   ]
  },
  {
   "cell_type": "markdown",
   "metadata": {
    "run_control": {
     "frozen": false,
     "read_only": false
    },
    "slideshow": {
     "slide_type": "slide"
    }
   },
   "source": [
    "### méthodes `__getattr__` et apparentées"
   ]
  },
  {
   "cell_type": "markdown",
   "metadata": {
    "run_control": {
     "frozen": false,
     "read_only": false
    },
    "slideshow": {
     "slide_type": ""
    }
   },
   "source": [
    "##### logique des accès en lecture:\n",
    "\n",
    "* appel à `__getattribute__`\n",
    "* qui par défaut (si pas surchargé)\n",
    "* fait la propagation \"normale\"\n",
    "  * i.e. chercher dans `__dict__` et remonter  \n",
    "* enfin en cas d'échec\n",
    "  on appelle `__getattr__`"
   ]
  },
  {
   "cell_type": "markdown",
   "metadata": {
    "run_control": {
     "frozen": false,
     "read_only": false
    },
    "slideshow": {
     "slide_type": "slide"
    }
   },
   "source": [
    "### accès en lecture"
   ]
  },
  {
   "cell_type": "markdown",
   "metadata": {
    "run_control": {
     "frozen": false,
     "read_only": false
    },
    "slideshow": {
     "slide_type": ""
    }
   },
   "source": [
    "* 1er niveau de customisation *light*\n",
    "  * en redéfinissant `__getattr__`\n",
    "  * on peut fournir un mécanisme de *fallback*\n",
    "\n",
    "* 2ème niveau de customisation *deep*\n",
    "  * redéfinir `__getattribute__`\n",
    "  * qui alors peut choisir\n",
    "  * d'appeler ou pas `__getattr__`\n",
    "  * et de contourner les descripteurs/properties"
   ]
  },
  {
   "cell_type": "markdown",
   "metadata": {
    "run_control": {
     "frozen": false,
     "read_only": false
    },
    "slideshow": {
     "slide_type": "slide"
    }
   },
   "source": [
    "### avertissement"
   ]
  },
  {
   "cell_type": "markdown",
   "metadata": {
    "run_control": {
     "frozen": false,
     "read_only": false
    },
    "slideshow": {
     "slide_type": ""
    }
   },
   "source": [
    "* si `__getattr__` est relativement inoffensif\n",
    "* par contre redéfinir `__getattribute__` \n",
    "* doit être utilisé avec parcimonie\n",
    "* et a vite fait de vous sauter à la figure !"
   ]
  },
  {
   "cell_type": "code",
   "execution_count": null,
   "metadata": {
    "run_control": {
     "frozen": false,
     "read_only": false
    },
    "slideshow": {
     "slide_type": "slide"
    }
   },
   "outputs": [],
   "source": [
    "class WithGetAttr:\n",
    "\n",
    "    # seulement pour les attributs\n",
    "    # non trouvés\n",
    "    def __getattr__(self, attrname):\n",
    "        print(\"getattr with name {}\".format(attrname))\n",
    "        return 10\n",
    "\n",
    "gwa = WithGetAttr()\n",
    "gwa.x"
   ]
  },
  {
   "cell_type": "code",
   "execution_count": null,
   "metadata": {
    "run_control": {
     "frozen": false,
     "read_only": false
    }
   },
   "outputs": [],
   "source": [
    "# ce qui n'empêche pas d'avoir aussi des attributs \"normaux\"\n",
    "gwa.y = 20\n",
    "print(gwa.y)"
   ]
  },
  {
   "cell_type": "code",
   "execution_count": null,
   "metadata": {
    "cell_style": "split",
    "run_control": {
     "frozen": false,
     "read_only": false
    },
    "slideshow": {
     "slide_type": "slide"
    }
   },
   "outputs": [],
   "source": [
    "# vous pouvez toujours écrire ce \n",
    "# que vous voulez dans __dict__ \n",
    "# ou autre, avec ce code\n",
    "# un attribut d'instance\n",
    "# renvoie toujours 100\n",
    "\n",
    "class WithGetAttribute:\n",
    "\n",
    "    # le point d'entrée pour la recherche\n",
    "    def __getattribute__(self, attrname):\n",
    "        return 100\n",
    "\n",
    "    # comme notre __getattribute__\n",
    "    # n'implémente pas la recherche\n",
    "    # des défauts via __getattr__,\n",
    "    # cette méthode en réalité\n",
    "    # est inutile ici\n",
    "    def __getattr__(self, attrname):\n",
    "        print(\"ne passera jamais par ici\")\n",
    "\n",
    "    # inutile d'essayer d'implémenter un\n",
    "    # descriptor ou une property...\n",
    "    # en exercice ..\n",
    "\n",
    "wgu = WithGetAttribute()\n",
    "wgu.foo"
   ]
  },
  {
   "cell_type": "code",
   "execution_count": null,
   "metadata": {
    "cell_style": "split",
    "run_control": {
     "frozen": false,
     "read_only": false
    }
   },
   "outputs": [],
   "source": [
    "# pas la peine d'essayer\n",
    "wgu.bar = 100\n",
    "wgu.bar"
   ]
  },
  {
   "cell_type": "markdown",
   "metadata": {
    "cell_style": "split",
    "run_control": {
     "frozen": false,
     "read_only": false
    },
    "slideshow": {
     "slide_type": ""
    }
   },
   "source": [
    "##### ça va très loin"
   ]
  },
  {
   "cell_type": "code",
   "execution_count": null,
   "metadata": {
    "cell_style": "split"
   },
   "outputs": [],
   "source": [
    "# même __dict__ !\n",
    "wgu.__dict__"
   ]
  },
  {
   "cell_type": "markdown",
   "metadata": {
    "run_control": {
     "frozen": false,
     "read_only": false
    },
    "slideshow": {
     "slide_type": "slide"
    }
   },
   "source": [
    "### subtilité de `__getattribute__`"
   ]
  },
  {
   "cell_type": "markdown",
   "metadata": {
    "run_control": {
     "frozen": false,
     "read_only": false
    }
   },
   "source": [
    "* n'est pas utilisée pour la recherche\n",
    "  * des méthodes spéciales en `__*__`\n",
    "  * exercice : pourquoi ?"
   ]
  },
  {
   "cell_type": "markdown",
   "metadata": {
    "run_control": {
     "frozen": false,
     "read_only": false
    },
    "slideshow": {
     "slide_type": "slide"
    }
   },
   "source": [
    "### accès en écriture"
   ]
  },
  {
   "cell_type": "markdown",
   "metadata": {
    "run_control": {
     "frozen": false,
     "read_only": false
    },
    "slideshow": {
     "slide_type": ""
    }
   },
   "source": [
    "* quand on écrit `inst.x = blabla`\n",
    "* le défaut cette fois est d'écrire dans `self.__dict__['x']`\n",
    "* et redéfinissant `__setattr__` on peut choisir une autre stratégie\n",
    "* pour faire appel à la stratégie par défaut\n",
    "  * `object.__setattr_`"
   ]
  },
  {
   "cell_type": "markdown",
   "metadata": {
    "run_control": {
     "frozen": false,
     "read_only": false
    },
    "slideshow": {
     "slide_type": "slide"
    }
   },
   "source": [
    "### écriture"
   ]
  },
  {
   "cell_type": "markdown",
   "metadata": {
    "run_control": {
     "frozen": false,
     "read_only": false
    },
    "slideshow": {
     "slide_type": ""
    }
   },
   "source": [
    "* évidemment `__setattr__` ne peut pas faire\n",
    "  * `instance.name = blabla`\n",
    "  * ni même `setattr(instance, 'name', blabla)`\n",
    "  * sous peine de récursion infinie"
   ]
  },
  {
   "cell_type": "code",
   "execution_count": null,
   "metadata": {
    "run_control": {
     "frozen": false,
     "read_only": false
    },
    "slideshow": {
     "slide_type": "slide"
    }
   },
   "outputs": [],
   "source": [
    "class WithSetAttr:\n",
    "\n",
    "    def __setattr__(self, attrname, value):\n",
    "        print(\"setting {} to {}\".format(attrname, value))\n",
    "        # appeler la façon par défaut\n",
    "        # de remplir un attribut\n",
    "        object.__setattr__(self, attrname, value)\n",
    "\n",
    "wsa = WithSetAttr()\n",
    "wsa.name = 'john'\n",
    "wsa.name"
   ]
  },
  {
   "cell_type": "markdown",
   "metadata": {
    "run_control": {
     "frozen": false,
     "read_only": false
    },
    "slideshow": {
     "slide_type": "slide"
    }
   },
   "source": [
    "# conclusion"
   ]
  },
  {
   "cell_type": "markdown",
   "metadata": {
    "run_control": {
     "frozen": false,
     "read_only": false
    },
    "slideshow": {
     "slide_type": ""
    }
   },
   "source": [
    "## lecture\n",
    "\n",
    "* point d'entrée `__getattribute__`\n",
    "  * pas utile dans les utilisations courantes\n",
    "* descriptors, mais surtout properties\n",
    "  * permettent de traiter un attribut à la fois\n",
    "* `__getattr__`, agit sur tous les attributs\n",
    "  * qui ne sont pas trouvés autrement"
   ]
  },
  {
   "cell_type": "markdown",
   "metadata": {
    "run_control": {
     "frozen": false,
     "read_only": false
    },
    "slideshow": {
     "slide_type": "slide"
    }
   },
   "source": [
    "# conclusion"
   ]
  },
  {
   "cell_type": "markdown",
   "metadata": {
    "run_control": {
     "frozen": false,
     "read_only": false
    },
    "slideshow": {
     "slide_type": ""
    }
   },
   "source": [
    "### écriture\n",
    "\n",
    "* point d'entrée unique `__setattr__`\n",
    "* la disymétrie est liée au fait\n",
    "* que l'écriture est plus simple \n",
    "  * on écrit toujours dans l'objet\n",
    "  * et pas dans la classe ou super-classes"
   ]
  },
  {
   "cell_type": "markdown",
   "metadata": {
    "run_control": {
     "frozen": false,
     "read_only": false
    },
    "slideshow": {
     "slide_type": "slide"
    }
   },
   "source": [
    "# exercice\n",
    "\n",
    "* `attr-dynamic-properties`"
   ]
  },
  {
   "cell_type": "markdown",
   "metadata": {
    "run_control": {
     "frozen": false,
     "read_only": false
    },
    "slideshow": {
     "slide_type": "slide"
    }
   },
   "source": [
    "# exercice\n",
    "\n",
    "* `attr-proxy`"
   ]
  },
  {
   "cell_type": "markdown",
   "metadata": {
    "run_control": {
     "frozen": false,
     "read_only": false
    },
    "slideshow": {
     "slide_type": "slide"
    }
   },
   "source": [
    "# pour en savoir plus\n",
    "\n",
    "* [un bon résumé de l'algorithme de résolution des attributs](https://blog.ionelmc.ro/2015/02/09/understanding-python-metaclasses/)\n",
    "\n",
    "* [la doc sur les descriptors](https://docs.python.org/3.5/howto/descriptor.html) (qui parle aussi des properties)\n",
    "  \n",
    "* pour les hard-core: [le code c derrière tout ça](https://github.com/python/cpython/blob/3.6/objects/typeobject.c)\n",
    "\n",
    "* http://sametmax.com/les-descripteurs-en-python/\n",
    "\n",
    "* [David Beazley: python 3 metaprogramming](http://www.dabeaz.com/py3meta/index.html)"
   ]
  }
 ],
 "metadata": {
  "celltoolbar": "Slideshow",
  "kernelspec": {
   "display_name": "Python 3",
   "language": "python",
   "name": "python3"
  },
  "language_info": {
   "codemirror_mode": {
    "name": "ipython",
    "version": 3
   },
   "file_extension": ".py",
   "mimetype": "text/x-python",
   "name": "python",
   "nbconvert_exporter": "python",
   "pygments_lexer": "ipython3",
   "version": "3.7.0"
  },
  "notebookname": "Gestion avancée des attributs",
  "toc": {
   "colors": {
    "hover_highlight": "#DAA520",
    "running_highlight": "#FF0000",
    "selected_highlight": "#FFD700"
   },
   "moveMenuLeft": true,
   "nav_menu": {
    "height": "512px",
    "width": "252px"
   },
   "navigate_menu": true,
   "number_sections": true,
   "sideBar": true,
   "threshold": "2",
   "toc_cell": false,
   "toc_section_display": "block",
   "toc_window_display": false,
   "widenNotebook": false
  },
  "version": "1.0"
 },
 "nbformat": 4,
 "nbformat_minor": 2
}
