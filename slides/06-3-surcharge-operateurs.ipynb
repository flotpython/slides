{
 "cells": [
  {
   "cell_type": "markdown",
   "metadata": {
    "slideshow": {
     "slide_type": "slide"
    }
   },
   "source": [
    "<div class=\"licence\">\n",
    "<span>Licence CC BY-NC-ND</span>\n",
    "<span>Thierry Parmentelat &amp; Arnaud Legout</span>\n",
    "</div>"
   ]
  },
  {
   "cell_type": "code",
   "execution_count": null,
   "metadata": {
    "slideshow": {
     "slide_type": "slide"
    }
   },
   "outputs": [],
   "source": [
    "from plan import plan; plan(\"classes\", \"surcharge\")"
   ]
  },
  {
   "cell_type": "markdown",
   "metadata": {
    "run_control": {
     "frozen": false,
     "read_only": false
    },
    "slideshow": {
     "slide_type": "slide"
    }
   },
   "source": [
    "### surcharge d’opérateurs"
   ]
  },
  {
   "cell_type": "markdown",
   "metadata": {
    "run_control": {
     "frozen": false,
     "read_only": false
    }
   },
   "source": [
    "* le langage offre de nombreux opérateurs, e.g.\n",
    "  * opérations arithmétiques : `+`, `-`, `*`, `\\`\n",
    "  * mais aussi : `x[i]`, `x()`, `x.attr`\n",
    "* des builtins comme &nbsp;&nbsp;&nbsp;`print()`, `len()`\n",
    "* des constructions syntaxiques &nbsp;&nbsp;&nbsp; `for i in x:`\n",
    "* qui sont conçues sur les types de base  \n",
    "  mais indéfinis, ou pauvres, sur les classes utilisateur"
   ]
  },
  {
   "cell_type": "markdown",
   "metadata": {
    "run_control": {
     "frozen": false,
     "read_only": false
    },
    "slideshow": {
     "slide_type": "slide"
    }
   },
   "source": [
    "### surcharge des opérateurs"
   ]
  },
  {
   "cell_type": "markdown",
   "metadata": {
    "run_control": {
     "frozen": false,
     "read_only": false
    }
   },
   "source": [
    "* ce dont il est question, c'est de donner les moyens  \n",
    "  à chaque classe de mieux s'intégrer dans le langage\n",
    "\n",
    "* comment ?  en redéfinissant des méthodes *spéciales:*\n",
    "  * qui s'appellent toujours `__X__`\n",
    "  * ou `X` est bien sûr en relation avec l'opération\n",
    "  * e.g. `__add__` a effet sur l'opérateur `+`"
   ]
  },
  {
   "cell_type": "markdown",
   "metadata": {
    "run_control": {
     "frozen": false,
     "read_only": false
    },
    "slideshow": {
     "slide_type": "slide"
    }
   },
   "source": [
    "### surcharge d’opérateurs"
   ]
  },
  {
   "cell_type": "markdown",
   "metadata": {
    "run_control": {
     "frozen": false,
     "read_only": false
    }
   },
   "source": [
    "* la surcharge d’opérateurs est optionnelle\n",
    "  * quoique: `__init__` et `__str__`\n",
    "* toutes les méthodes que l’on peut surcharger sont décrites dans  \n",
    "  https://docs.python.org/3/reference/datamodel.html#special-method-names\n",
    "\n",
    "* lire cette documentation au moins une fois pour savoir tout ce que l’on peut surcharger\n",
    "* **notamment** si vous êtes amenés à lire beaucoup de code"
   ]
  },
  {
   "cell_type": "markdown",
   "metadata": {
    "run_control": {
     "frozen": false,
     "read_only": false
    },
    "slideshow": {
     "slide_type": "slide"
    }
   },
   "source": [
    "### les plus communs"
   ]
  },
  {
   "cell_type": "markdown",
   "metadata": {
    "run_control": {
     "frozen": false,
     "read_only": false
    }
   },
   "source": [
    "* nous avons déjà vu `__init__`\n",
    "* il est très fréquent de redéfinir aussi\n",
    "  * `__repr__`: pour redéfinir `repr()`\n",
    "  * `__str__`: pour redéfinir `str(x)` et `print()`"
   ]
  },
  {
   "cell_type": "code",
   "execution_count": null,
   "metadata": {},
   "outputs": [],
   "source": [
    "# en l'absence de redéfinition \n",
    "# la présentation est aride\n",
    "\n",
    "class Dumb:\n",
    "    pass\n",
    "\n",
    "a = Dumb()"
   ]
  },
  {
   "cell_type": "code",
   "execution_count": null,
   "metadata": {
    "cell_style": "split",
    "run_control": {
     "frozen": false,
     "read_only": false
    }
   },
   "outputs": [],
   "source": [
    "a"
   ]
  },
  {
   "cell_type": "code",
   "execution_count": null,
   "metadata": {
    "cell_style": "split",
    "run_control": {
     "frozen": false,
     "read_only": false
    }
   },
   "outputs": [],
   "source": [
    "str(a)"
   ]
  },
  {
   "cell_type": "code",
   "execution_count": null,
   "metadata": {
    "cell_style": "split",
    "run_control": {
     "frozen": false,
     "read_only": false
    }
   },
   "outputs": [],
   "source": [
    "repr(a)"
   ]
  },
  {
   "cell_type": "code",
   "execution_count": null,
   "metadata": {
    "cell_style": "split",
    "run_control": {
     "frozen": false,
     "read_only": false
    }
   },
   "outputs": [],
   "source": [
    "print(a)"
   ]
  },
  {
   "cell_type": "markdown",
   "metadata": {
    "run_control": {
     "frozen": false,
     "read_only": false
    },
    "slideshow": {
     "slide_type": "slide"
    }
   },
   "source": [
    "### seulement `__repr__` (i.e. pas `__str__`)"
   ]
  },
  {
   "cell_type": "markdown",
   "metadata": {},
   "source": [
    "il est assez fréquent de ne redéfinir que `__repr__`"
   ]
  },
  {
   "cell_type": "code",
   "execution_count": null,
   "metadata": {
    "run_control": {
     "frozen": false,
     "read_only": false
    }
   },
   "outputs": [],
   "source": [
    "class R:\n",
    "    def __init__(self, atom):\n",
    "        self.atom = atom\n",
    "\n",
    "    def __repr__(self):\n",
    "        return \"[R {}]\".format(self.atom)\n",
    "\n",
    "a = R('seulement repr')"
   ]
  },
  {
   "cell_type": "code",
   "execution_count": null,
   "metadata": {
    "cell_style": "split",
    "run_control": {
     "frozen": false,
     "read_only": false
    }
   },
   "outputs": [],
   "source": [
    "a"
   ]
  },
  {
   "cell_type": "code",
   "execution_count": null,
   "metadata": {
    "cell_style": "split",
    "run_control": {
     "frozen": false,
     "read_only": false
    }
   },
   "outputs": [],
   "source": [
    "str(a)"
   ]
  },
  {
   "cell_type": "code",
   "execution_count": null,
   "metadata": {
    "cell_style": "split",
    "run_control": {
     "frozen": false,
     "read_only": false
    }
   },
   "outputs": [],
   "source": [
    "repr(a)"
   ]
  },
  {
   "cell_type": "code",
   "execution_count": null,
   "metadata": {
    "cell_style": "split",
    "run_control": {
     "frozen": false,
     "read_only": false
    }
   },
   "outputs": [],
   "source": [
    "print(a)"
   ]
  },
  {
   "cell_type": "markdown",
   "metadata": {
    "run_control": {
     "frozen": false,
     "read_only": false
    },
    "slideshow": {
     "slide_type": "slide"
    }
   },
   "source": [
    "# `__str__` et `__repr__`"
   ]
  },
  {
   "cell_type": "markdown",
   "metadata": {
    "run_control": {
     "frozen": false,
     "read_only": false
    }
   },
   "source": [
    "* il faut savoir que\n",
    "  * si `__repr__` est défini, et pas `__str__`\n",
    "  * alors on fait comme si `__str__ = __repr__`\n",
    "* et aussi que `__str__` sur les containers (list, ...)\n",
    "  * appelle en fait `__repr__` sur les contenus\n",
    "  * ceci pour éviter les récursions infinies..."
   ]
  },
  {
   "cell_type": "markdown",
   "metadata": {
    "run_control": {
     "frozen": false,
     "read_only": false
    }
   },
   "source": [
    "* dans l'esprit:\n",
    "  * `__repr__` est censé être non-ambigu\n",
    "  * et `__str__` est censé être joli\n",
    "* mais ce n'est pas toujours facile à suivre "
   ]
  },
  {
   "cell_type": "markdown",
   "metadata": {
    "run_control": {
     "frozen": false,
     "read_only": false
    },
    "slideshow": {
     "slide_type": "slide"
    }
   },
   "source": [
    "# `__str__` et `__repr__`"
   ]
  },
  {
   "cell_type": "code",
   "execution_count": null,
   "metadata": {
    "run_control": {
     "frozen": false,
     "read_only": false
    }
   },
   "outputs": [],
   "source": [
    "# si maintenant on définit aussi `__str__`\n",
    "class R:\n",
    "    def __init__(self, atom):\n",
    "        self.atom = atom\n",
    "    def __repr__(self):\n",
    "        return \"[R {}]\".format(self.atom)\n",
    "    def __str__(self):\n",
    "        return str(self.atom)\n",
    "\n",
    "b = R('les deux')"
   ]
  },
  {
   "cell_type": "code",
   "execution_count": null,
   "metadata": {
    "cell_style": "split",
    "run_control": {
     "frozen": false,
     "read_only": false
    }
   },
   "outputs": [],
   "source": [
    "b"
   ]
  },
  {
   "cell_type": "code",
   "execution_count": null,
   "metadata": {
    "cell_style": "split",
    "run_control": {
     "frozen": false,
     "read_only": false
    }
   },
   "outputs": [],
   "source": [
    "str(b)"
   ]
  },
  {
   "cell_type": "code",
   "execution_count": null,
   "metadata": {
    "cell_style": "split",
    "run_control": {
     "frozen": false,
     "read_only": false
    }
   },
   "outputs": [],
   "source": [
    "repr(b)"
   ]
  },
  {
   "cell_type": "code",
   "execution_count": null,
   "metadata": {
    "cell_style": "split",
    "run_control": {
     "frozen": false,
     "read_only": false
    }
   },
   "outputs": [],
   "source": [
    "print(b)"
   ]
  },
  {
   "cell_type": "markdown",
   "metadata": {
    "run_control": {
     "frozen": false,
     "read_only": false
    },
    "slideshow": {
     "slide_type": "slide"
    }
   },
   "source": [
    "### surcharge d’opérateurs numériques"
   ]
  },
  {
   "cell_type": "code",
   "execution_count": null,
   "metadata": {
    "run_control": {
     "frozen": false,
     "read_only": false
    }
   },
   "outputs": [],
   "source": [
    "# pour redéfinir l'addition, sans surprise on surcharge __add__ \n",
    "# ici on choisit un comportement folklorique\n",
    "# qui fait une espèce de concaténation\n",
    "class C():\n",
    "    def __init__(self, value):\n",
    "        self.value = value\n",
    "    def __add__(self, operand):\n",
    "        # l'addition crée un nouvel objet\n",
    "        return C(self.value + '-' + operand.value)"
   ]
  },
  {
   "cell_type": "code",
   "execution_count": null,
   "metadata": {
    "run_control": {
     "frozen": false,
     "read_only": false
    }
   },
   "outputs": [],
   "source": [
    "x, y, z = C('alice'), C('bob'), C('eve')\n",
    "s = x + y + z\n",
    "s.value"
   ]
  },
  {
   "cell_type": "markdown",
   "metadata": {
    "run_control": {
     "frozen": false,
     "read_only": false
    },
    "slideshow": {
     "slide_type": "slide"
    }
   },
   "source": [
    "##### c'est un début, mais"
   ]
  },
  {
   "cell_type": "code",
   "execution_count": null,
   "metadata": {
    "run_control": {
     "frozen": false,
     "read_only": false
    }
   },
   "outputs": [],
   "source": [
    "# on ne peut pas additionner C avec un str\n",
    "try:\n",
    "    C('abc') + 'def'\n",
    "except AttributeError as e:\n",
    "    print(\"OOOPS\", e)"
   ]
  },
  {
   "cell_type": "markdown",
   "metadata": {
    "run_control": {
     "frozen": false,
     "read_only": false
    }
   },
   "source": [
    "##### et aussi"
   ]
  },
  {
   "cell_type": "code",
   "execution_count": null,
   "metadata": {
    "run_control": {
     "frozen": false,
     "read_only": false
    }
   },
   "outputs": [],
   "source": [
    "# pas dans l'autre sens non plus\n",
    "try:\n",
    "    'abc' + C('abc')\n",
    "except TypeError as e:\n",
    "    print(\"OOOPS\", e)"
   ]
  },
  {
   "cell_type": "markdown",
   "metadata": {
    "run_control": {
     "frozen": false,
     "read_only": false
    },
    "slideshow": {
     "slide_type": "slide"
    }
   },
   "source": [
    "# opérateurs binaires"
   ]
  },
  {
   "cell_type": "markdown",
   "metadata": {
    "run_control": {
     "frozen": false,
     "read_only": false
    }
   },
   "source": [
    "pour faire proprement, il faut\n",
    "\n",
    "* envisager le mélange avec d'autre types\n",
    "  * polymorphe\n",
    "* envisager qu'un objet de notre classe peut être\n",
    "  * à gauche du `+`\n",
    "  * mais aussi à droite"
   ]
  },
  {
   "cell_type": "markdown",
   "metadata": {
    "run_control": {
     "frozen": false,
     "read_only": false
    },
    "slideshow": {
     "slide_type": "slide"
    }
   },
   "source": [
    "### polymorphe - v1"
   ]
  },
  {
   "cell_type": "markdown",
   "metadata": {
    "run_control": {
     "frozen": false,
     "read_only": false
    }
   },
   "source": [
    "##### une première version naïve"
   ]
  },
  {
   "cell_type": "code",
   "execution_count": null,
   "metadata": {
    "run_control": {
     "frozen": false,
     "read_only": false
    }
   },
   "outputs": [],
   "source": [
    "class C1():\n",
    "    # sans définir __str__\n",
    "    def __init__(self, value):\n",
    "        self.value = value\n",
    "    def __add__(self, operand):\n",
    "        # soyons plus subtils\n",
    "        if isinstance(operand, C):\n",
    "            ajout = operand.value\n",
    "        else:\n",
    "            ajout = str(operand)\n",
    "        # créons un nouvel objet pour le résultat\n",
    "        return C1(self.value + '-' + str(operand))"
   ]
  },
  {
   "cell_type": "code",
   "execution_count": null,
   "metadata": {
    "run_control": {
     "frozen": false,
     "read_only": false
    }
   },
   "outputs": [],
   "source": [
    "(C1('alice') + 'bob').value"
   ]
  },
  {
   "cell_type": "markdown",
   "metadata": {
    "run_control": {
     "frozen": false,
     "read_only": false
    },
    "slideshow": {
     "slide_type": "slide"
    }
   },
   "source": [
    "### polymorphe - v2"
   ]
  },
  {
   "cell_type": "markdown",
   "metadata": {
    "run_control": {
     "frozen": false,
     "read_only": false
    }
   },
   "source": [
    "##### c'est beaucoup plus simple si on redéfinit `str()`"
   ]
  },
  {
   "cell_type": "code",
   "execution_count": null,
   "metadata": {
    "run_control": {
     "frozen": false,
     "read_only": false
    }
   },
   "outputs": [],
   "source": [
    "class C2():\n",
    "    def __init__(self, value):\n",
    "        self.value = value\n",
    "    def __str__(self):\n",
    "        return str(self.value)\n",
    "    def __add__(self, operand):\n",
    "        # comme on a redéfini str, tout simplement:\n",
    "        return C2(self.value + '-' + str(operand))"
   ]
  },
  {
   "cell_type": "code",
   "execution_count": null,
   "metadata": {
    "run_control": {
     "frozen": false,
     "read_only": false
    }
   },
   "outputs": [],
   "source": [
    "(C2('alice') + 'bob').value"
   ]
  },
  {
   "cell_type": "code",
   "execution_count": null,
   "metadata": {
    "run_control": {
     "frozen": false,
     "read_only": false
    }
   },
   "outputs": [],
   "source": [
    "# mais\n",
    "C2('alice') + 'bob'"
   ]
  },
  {
   "cell_type": "markdown",
   "metadata": {
    "run_control": {
     "frozen": false,
     "read_only": false
    }
   },
   "source": [
    "##### vous voyez pourquoi on redéfinit souvent `__repr__`"
   ]
  },
  {
   "cell_type": "markdown",
   "metadata": {
    "slideshow": {
     "slide_type": "slide"
    }
   },
   "source": [
    "### polymorphisme - v2 "
   ]
  },
  {
   "cell_type": "code",
   "execution_count": null,
   "metadata": {
    "cell_style": "split"
   },
   "outputs": [],
   "source": [
    "# un autre souci avec cette approche\n",
    "# c'est dans le cas d'une sous-classe\n",
    "class Sub2(C2):\n",
    "    pass"
   ]
  },
  {
   "cell_type": "code",
   "execution_count": null,
   "metadata": {
    "cell_style": "split"
   },
   "outputs": [],
   "source": [
    "# si on additionne deux instances \n",
    "# de la sous-classe\n",
    "s2 = Sub2('alice') + Sub2('bob')"
   ]
  },
  {
   "cell_type": "code",
   "execution_count": null,
   "metadata": {},
   "outputs": [],
   "source": [
    "# on obtient un objet .. de la superclasse\n",
    "type(s2)"
   ]
  },
  {
   "cell_type": "markdown",
   "metadata": {
    "run_control": {
     "frozen": false,
     "read_only": false
    },
    "slideshow": {
     "slide_type": "slide"
    }
   },
   "source": [
    "### polymorphe - v3"
   ]
  },
  {
   "cell_type": "markdown",
   "metadata": {
    "run_control": {
     "frozen": false,
     "read_only": false
    }
   },
   "source": [
    "on peut améliorer encore un peu\n",
    "\n",
    "* définissons `__repr__` plutôt que `__str__`\n",
    "* et aussi créons un objet **de la même classe**\n",
    "  * plutôt que de câbler en dur le nom de notre classe\n",
    "  * comme ça nos sous-classes seront plus à l'aise"
   ]
  },
  {
   "cell_type": "code",
   "execution_count": null,
   "metadata": {
    "run_control": {
     "frozen": false,
     "read_only": false
    },
    "slideshow": {
     "slide_type": "slide"
    }
   },
   "outputs": [],
   "source": [
    "class C3():\n",
    "    def __init__(self, value):\n",
    "        self.value = value\n",
    "    # c'est plus simple de définir __repr__\n",
    "    def __repr__(self):\n",
    "        return str(self.value)\n",
    "    def __add__(self, operand):\n",
    "        # cette forme-là permet à une sous-classe\n",
    "        # de créer des instances à elle plutôt que\n",
    "        # forcément un C3\n",
    "        return self.__class__(self.value + '-' + str(operand))"
   ]
  },
  {
   "cell_type": "code",
   "execution_count": null,
   "metadata": {
    "run_control": {
     "frozen": false,
     "read_only": false
    }
   },
   "outputs": [],
   "source": [
    "(C3('alice') + 'bob').value"
   ]
  },
  {
   "cell_type": "code",
   "execution_count": null,
   "metadata": {
    "cell_style": "split",
    "run_control": {
     "frozen": false,
     "read_only": false
    }
   },
   "outputs": [],
   "source": [
    "# et cette fois\n",
    "s = C3('alice') + 'bob'\n",
    "s"
   ]
  },
  {
   "cell_type": "code",
   "execution_count": null,
   "metadata": {
    "cell_style": "split"
   },
   "outputs": [],
   "source": [
    "type(s)"
   ]
  },
  {
   "cell_type": "markdown",
   "metadata": {
    "run_control": {
     "frozen": false,
     "read_only": false
    },
    "slideshow": {
     "slide_type": "slide"
    }
   },
   "source": [
    "# opérateurs binaires : à droite"
   ]
  },
  {
   "cell_type": "markdown",
   "metadata": {
    "run_control": {
     "frozen": false,
     "read_only": false
    }
   },
   "source": [
    "* quand on fait `C('bob') + 'alice'\n",
    "  * c'est à l'opérande gauche\n",
    "  * qu'on envoie la méthode `__add__`\n",
    "* si on veut pouvoir ajouter dans l'autre sens\n",
    "  * c'est-à-dire `'bob' + C('alice')`\n",
    "* il suffit de redéfinir `__raddr__`\n",
    "  * le `r` voulant dire *right*\n",
    "  * pour quand le sujet de la méthode est à droite "
   ]
  },
  {
   "cell_type": "code",
   "execution_count": null,
   "metadata": {
    "run_control": {
     "frozen": false,
     "read_only": false
    },
    "slideshow": {
     "slide_type": "slide"
    }
   },
   "outputs": [],
   "source": [
    "# opérateurs à droite\n",
    "class CR():\n",
    "    def __init__(self, value):\n",
    "        self.value = value\n",
    "    def __repr__(self):\n",
    "        return str(self.value)\n",
    "    def __add__(self, rightop):\n",
    "        return self.__class__(self.value + '-' + str(rightop))\n",
    "    # dans le cas d'une algèbre commutative on peut juste faire\n",
    "    # __raddr__ = __addr__\n",
    "    # mais ici bien la concaténation n'est pas commutative\n",
    "    def __radd__(self, leftop):\n",
    "        return self.__class__(str(leftop) + '-' + self.value)"
   ]
  },
  {
   "cell_type": "code",
   "execution_count": null,
   "metadata": {
    "run_control": {
     "frozen": false,
     "read_only": false
    }
   },
   "outputs": [],
   "source": [
    "'bob' + CR('alice')"
   ]
  },
  {
   "cell_type": "markdown",
   "metadata": {
    "run_control": {
     "frozen": false,
     "read_only": false
    },
    "slideshow": {
     "slide_type": "slide"
    }
   },
   "source": [
    "### protocoles"
   ]
  },
  {
   "cell_type": "markdown",
   "metadata": {
    "run_control": {
     "frozen": false,
     "read_only": false
    },
    "slideshow": {
     "slide_type": ""
    }
   },
   "source": [
    "* certaines constructions du langage\n",
    "  * sont simples et n'utilisent qu'une spéciale\n",
    "  * ex. `__len__`\n",
    "* d'autres reposent sur plusieurs méthodes spéciales\n",
    "  * par exemple `x[]` utilise:  \n",
    "    `__getitem__()` pour les références  \n",
    "    `__setitem__()` pour les affectations  \n",
    "    `__delitem__()` pour `del x[]`  \n",
    "    `__missing__()` pour les défauts de clé\n",
    "\n",
    "* ou sur une parmi plusieurs\n",
    "  * par exemple `i in x` peut fonctionner avec  \n",
    "    `__contains__()` ou  \n",
    "    `__iter__()` ou  \n",
    "    `__getitems__()`"
   ]
  },
  {
   "cell_type": "markdown",
   "metadata": {
    "run_control": {
     "frozen": false,
     "read_only": false
    },
    "slideshow": {
     "slide_type": "slide"
    }
   },
   "source": [
    "### protocoles et vocabulaire"
   ]
  },
  {
   "cell_type": "markdown",
   "metadata": {
    "run_control": {
     "frozen": false,
     "read_only": false
    },
    "slideshow": {
     "slide_type": ""
    }
   },
   "source": [
    "* dans le cadre du *duck typing*\n",
    "* il est fréquent de faire référence \n",
    "  * à des grandes familles d'objet\n",
    "  * comme e.g. séquences, itérables, callables, ...\n",
    "* par exemple une *séquence*\n",
    "  * doit implémenter `x[i]` avec i entier\n",
    "  * et `len(x)`"
   ]
  },
  {
   "cell_type": "markdown",
   "metadata": {
    "run_control": {
     "frozen": false,
     "read_only": false
    },
    "slideshow": {
     "slide_type": "slide"
    }
   },
   "source": [
    "### le protocole itérable"
   ]
  },
  {
   "cell_type": "markdown",
   "metadata": {
    "run_control": {
     "frozen": false,
     "read_only": false
    },
    "slideshow": {
     "slide_type": ""
    }
   },
   "source": [
    "* un objet est itérable\n",
    "  * lorsque qu'on peut écrire `for i in x`\n",
    "* deux moyens\n",
    "  * une séquence\n",
    "  * implémenter `__iter__()`\n",
    "  * qui doit retourner un itérateur"
   ]
  },
  {
   "cell_type": "markdown",
   "metadata": {
    "run_control": {
     "frozen": false,
     "read_only": false
    },
    "slideshow": {
     "slide_type": "slide"
    }
   },
   "source": [
    "### le protocole iterator"
   ]
  },
  {
   "cell_type": "markdown",
   "metadata": {
    "run_control": {
     "frozen": false,
     "read_only": false
    }
   },
   "source": [
    "* un objet est un itérateur si\n",
    "  * il implémente `__next__()`\n",
    "  * qui retourne l'objet suivant\n",
    "  * ou lève l'exception `StopIteration`\n",
    "  * et il implémente `__iter__` qui renvoie `self`\n",
    "* un itérateur est donc toujours itérable\n",
    "* une fonction génératrice renvoie un itérateur"
   ]
  },
  {
   "cell_type": "markdown",
   "metadata": {
    "run_control": {
     "frozen": false,
     "read_only": false
    },
    "slideshow": {
     "slide_type": "slide"
    }
   },
   "source": [
    "### itérable avec générateur"
   ]
  },
  {
   "cell_type": "code",
   "execution_count": null,
   "metadata": {
    "run_control": {
     "frozen": false,
     "read_only": false
    }
   },
   "outputs": [],
   "source": [
    "from itertools import count\n",
    "\n",
    "class Iterable:\n",
    "    \"\"\"itérer les carrés <= n\"\"\"\n",
    "    def __init__(self, n):\n",
    "        self.n = n\n",
    "\n",
    "    # il est pratique d'utiliser un générateur\n",
    "    # pour implémenter __iter__\n",
    "    def __iter__(self):\n",
    "        for i in count():\n",
    "            next = i ** 2\n",
    "            if next <= self.n:\n",
    "                yield next\n",
    "            else:\n",
    "                return"
   ]
  },
  {
   "cell_type": "code",
   "execution_count": null,
   "metadata": {
    "run_control": {
     "frozen": false,
     "read_only": false
    }
   },
   "outputs": [],
   "source": [
    "for i in Iterable(20):\n",
    "    print(i)"
   ]
  },
  {
   "cell_type": "markdown",
   "metadata": {
    "run_control": {
     "frozen": false,
     "read_only": false
    },
    "slideshow": {
     "slide_type": "slide"
    }
   },
   "source": [
    "### callables"
   ]
  },
  {
   "cell_type": "markdown",
   "metadata": {
    "run_control": {
     "frozen": false,
     "read_only": false
    }
   },
   "source": [
    "* un objet est callable si on peut évaluer `x()`\n",
    "* pas réservé aux fonctions et aux classes\n",
    "* les instances d'une classe \n",
    "  * qui implémente `__call__`\n",
    "  * sont callables également\n",
    "* confusion fréquente\n",
    "  * appeler la classe `c = C()` : utilise `__init__`\n",
    "  * appeler l'instance `c()` : utilise `__call__`"
   ]
  },
  {
   "cell_type": "markdown",
   "metadata": {
    "run_control": {
     "frozen": false,
     "read_only": false
    },
    "slideshow": {
     "slide_type": "slide"
    }
   },
   "source": [
    "### callables"
   ]
  },
  {
   "cell_type": "code",
   "execution_count": null,
   "metadata": {
    "run_control": {
     "frozen": false,
     "read_only": false
    }
   },
   "outputs": [],
   "source": [
    "class SumOffset:\n",
    "    \"\"\"\"\n",
    "    chaque instance possède un offset\n",
    "    lorsque l'instance est appelée elle fait la \n",
    "    somme de ses arguments plus l'offset\n",
    "    \"\"\"\n",
    "    def __init__(self, offset):\n",
    "        print(\"init\")\n",
    "        self.offset = offset\n",
    "    def __call__(self, *args):\n",
    "        print(\"calling..\")\n",
    "        return sum(args) + self.offset"
   ]
  },
  {
   "cell_type": "code",
   "execution_count": null,
   "metadata": {
    "run_control": {
     "frozen": false,
     "read_only": false
    }
   },
   "outputs": [],
   "source": [
    "# cette instance est un callable\n",
    "# elle se comporte comme une fonction\n",
    "# qui rend 100 + sigma(args)\n",
    "additionneur100 = SumOffset(100)"
   ]
  },
  {
   "cell_type": "code",
   "execution_count": null,
   "metadata": {
    "cell_style": "split",
    "run_control": {
     "frozen": false,
     "read_only": false
    }
   },
   "outputs": [],
   "source": [
    "# quand on l'appelle\n",
    "additionneur100(1, 2, 3)"
   ]
  },
  {
   "cell_type": "code",
   "execution_count": null,
   "metadata": {
    "cell_style": "split"
   },
   "outputs": [],
   "source": [
    "additionneur100(1000, 2000)"
   ]
  },
  {
   "cell_type": "markdown",
   "metadata": {
    "run_control": {
     "frozen": false,
     "read_only": false
    },
    "slideshow": {
     "slide_type": "slide"
    }
   },
   "source": [
    "### exemple d’autres surcharges d’opérateurs"
   ]
  },
  {
   "cell_type": "markdown",
   "metadata": {
    "run_control": {
     "frozen": false,
     "read_only": false
    }
   },
   "source": [
    "* `__lt__`, `__gt__`, `__le__`, `__ge__`, `__eq__`, `__ne__`  \n",
    "  *resp.* &nbsp; `A<B`, &nbsp; `A>B`, &nbsp; `A<=B`, &nbsp; `A>=B`, &nbsp; `A==B`, &nbsp; `A!=B`\n",
    "\n",
    "* `__bool__` : appelé pour tester si un objet est vrai ou faux\n",
    "* `__len__`: redéfinir `len(x)` \n",
    "* `__getattr__`, `__slot__`, `__getattribute__`  \n",
    "  impliqués dans le protocole de recherche d'attributs\n",
    "\n",
    "* ... liste très très complète"
   ]
  },
  {
   "cell_type": "markdown",
   "metadata": {
    "run_control": {
     "frozen": false,
     "read_only": false
    },
    "slideshow": {
     "slide_type": "slide"
    }
   },
   "source": [
    "### surcharges d’opérateurs et fallbacks"
   ]
  },
  {
   "cell_type": "markdown",
   "metadata": {
    "run_control": {
     "frozen": false,
     "read_only": false
    }
   },
   "source": [
    "* lorsqu’un opérateur n’est pas trouvé, Python peut automatiquement en utiliser un autre qui joue un rôle équivalent\n",
    "* itération : `__iter__` puis `__getitem__`\n",
    "* `in` :  `__contains__` puis `__iter__` puis `__getitem__`\n",
    "* test vrai/faux : `__bool__` puis `__len__`  \n",
    "  (faux si `__len__` retourne 0)\n",
    "\n",
    "* `print` : `__str__` puis `__repr__`"
   ]
  },
  {
   "cell_type": "markdown",
   "metadata": {
    "run_control": {
     "frozen": false,
     "read_only": false
    },
    "slideshow": {
     "slide_type": "slide"
    }
   },
   "source": [
    "### utiliser un opérateur ou la méthode `__x__` ?"
   ]
  },
  {
   "cell_type": "markdown",
   "metadata": {
    "run_control": {
     "frozen": false,
     "read_only": false
    }
   },
   "source": [
    "* en version courte: **utilisez les opérateurs**\n",
    "* résultat est équivalent parce que le même code est utilisé, mais la durée d’exécution peut différer à cause d’optimisations de l’interpréteur\n",
    "* l’interpréteur va optimiser l’appel à la fonction lors de utilisation des opérateurs, mais pas lors de l’appel direct à la méthode `__x__`\n",
    "  * spécifique à CPython, il faut donc tester ce comportement pour les autres implémentations de Python"
   ]
  },
  {
   "cell_type": "markdown",
   "metadata": {
    "run_control": {
     "frozen": false,
     "read_only": false
    },
    "slideshow": {
     "slide_type": "slide"
    }
   },
   "source": [
    "### un peu de profiling"
   ]
  },
  {
   "cell_type": "markdown",
   "metadata": {
    "run_control": {
     "frozen": false,
     "read_only": false
    }
   },
   "source": [
    "* voyez le module `timeit`\n",
    "  * https://docs.python.org/3/library/timeit.html"
   ]
  },
  {
   "cell_type": "code",
   "execution_count": null,
   "metadata": {
    "run_control": {
     "frozen": false,
     "read_only": false
    }
   },
   "outputs": [],
   "source": [
    "from timeit import timeit"
   ]
  },
  {
   "cell_type": "markdown",
   "metadata": {
    "run_control": {
     "frozen": false,
     "read_only": false
    },
    "slideshow": {
     "slide_type": "slide"
    }
   },
   "source": [
    "### utiliser un opérateur ou la méthode `__x__` ?"
   ]
  },
  {
   "cell_type": "code",
   "execution_count": null,
   "metadata": {
    "run_control": {
     "frozen": false,
     "read_only": false
    }
   },
   "outputs": [],
   "source": [
    "timeit(setup = \"L = range(1000)\", number = 100000, stmt = \"1000 in L\")"
   ]
  },
  {
   "cell_type": "code",
   "execution_count": null,
   "metadata": {
    "run_control": {
     "frozen": false,
     "read_only": false
    }
   },
   "outputs": [],
   "source": [
    "timeit(setup = \"L = range(1000)\", number = 100000,\n",
    "       stmt = \"L.__contains__(1000)\")"
   ]
  },
  {
   "cell_type": "markdown",
   "metadata": {
    "run_control": {
     "frozen": false,
     "read_only": false
    }
   },
   "source": [
    "```\n",
    "timeit(setup = \"L = range(1000)\", number = 100000000, stmt = \"0 in L\")\n",
    "9.534808637050446\n",
    "timeit(setup = \"L = range(1000)\", number = 100000000, stmt = \"L.__contains__(0)\")\n",
    "19.80092801299179\n",
    "```"
   ]
  },
  {
   "cell_type": "markdown",
   "metadata": {
    "slideshow": {
     "slide_type": "slide"
    }
   },
   "source": [
    "### profiling et notebooks"
   ]
  },
  {
   "cell_type": "markdown",
   "metadata": {},
   "source": [
    "beaucoup de [fonctionnalités très intéressantes dans les *magic* IPython](https://ipython.readthedocs.io/en/stable/interactive/magics.html), comme `%timeit`"
   ]
  },
  {
   "cell_type": "code",
   "execution_count": null,
   "metadata": {},
   "outputs": [],
   "source": [
    "L = range(1000)\n",
    "%timeit -n 100000 0 in L"
   ]
  },
  {
   "cell_type": "code",
   "execution_count": null,
   "metadata": {},
   "outputs": [],
   "source": [
    "L = range(1000)\n",
    "%timeit -n 100000 L.__contains__(0)"
   ]
  },
  {
   "cell_type": "markdown",
   "metadata": {
    "run_control": {
     "frozen": false,
     "read_only": false
    },
    "slideshow": {
     "slide_type": "slide"
    }
   },
   "source": [
    "# attributs privés"
   ]
  },
  {
   "cell_type": "markdown",
   "metadata": {
    "run_control": {
     "frozen": false,
     "read_only": false
    }
   },
   "source": [
    "##### Rappels\n",
    "\n",
    "* pas de notion d'attributs protégé / privé en Python\n",
    "  * on peut accéder à n’importe quels attributs d’une classe\n",
    "* on représente un attribut privé avec une simple convention de nommage \n",
    "  * les attributs qui commencent par `_` sont considérés comme privés"
   ]
  },
  {
   "cell_type": "markdown",
   "metadata": {
    "run_control": {
     "frozen": false,
     "read_only": false
    },
    "slideshow": {
     "slide_type": "slide"
    }
   },
   "source": [
    "### trois types d’attributs privés réservés"
   ]
  },
  {
   "cell_type": "markdown",
   "metadata": {
    "run_control": {
     "frozen": false,
     "read_only": false
    }
   },
   "source": [
    "* les attributs `_*` ne sont pas importés par `from module import *`\n",
    "* les attributs `__*__` sont les attributs privés définis par Python. On ne doit pas nommer nos propres attributs privés avec cette convention\n",
    "* les attributs `__*` (sans `__` à la fin) définis dans une classe sont automatiquement renommés à la compilation (`__spam` dans la classe Ham devient `_Ham__spam`). On appelle cela *name mangling*"
   ]
  },
  {
   "cell_type": "markdown",
   "metadata": {
    "run_control": {
     "frozen": false,
     "read_only": false
    },
    "slideshow": {
     "slide_type": "slide"
    }
   },
   "source": [
    "### name mangling"
   ]
  },
  {
   "cell_type": "code",
   "execution_count": null,
   "metadata": {
    "cell_style": "split",
    "run_control": {
     "frozen": false,
     "read_only": false
    }
   },
   "outputs": [],
   "source": [
    "# utiliser le name mangling pour \n",
    "# un attribut privé qui\n",
    "# ne doit pas être modifié\n",
    "# par une sous-classe par accident\n",
    "class A():\n",
    "    def __init__(self):\n",
    "        self.__a = \"dans A\"\n",
    "    def __str__(self):\n",
    "        return self.__a\n",
    "\n",
    "class B(A):\n",
    "    def __init__(self):\n",
    "        A.__init__(self)\n",
    "        # on est sûr de n'interférer avec personne\n",
    "        self.__a = \"dans B\" "
   ]
  },
  {
   "cell_type": "code",
   "execution_count": null,
   "metadata": {
    "cell_style": "split",
    "run_control": {
     "frozen": false,
     "read_only": false
    }
   },
   "outputs": [],
   "source": [
    "b = B()\n",
    "print(b)"
   ]
  },
  {
   "cell_type": "code",
   "execution_count": null,
   "metadata": {
    "cell_style": "split",
    "run_control": {
     "frozen": false,
     "read_only": false
    }
   },
   "outputs": [],
   "source": [
    "print(b.__dict__)"
   ]
  },
  {
   "cell_type": "code",
   "execution_count": null,
   "metadata": {
    "cell_style": "split"
   },
   "outputs": [],
   "source": [
    "try:\n",
    "    b.__a\n",
    "except Exception as exc:\n",
    "    print(f\"OOPS {type(exc)} {exc}\")"
   ]
  },
  {
   "cell_type": "markdown",
   "metadata": {
    "run_control": {
     "frozen": false,
     "read_only": false
    },
    "slideshow": {
     "slide_type": "slide"
    }
   },
   "source": [
    "# classes imbriquées"
   ]
  },
  {
   "cell_type": "markdown",
   "metadata": {
    "run_control": {
     "frozen": false,
     "read_only": false
    }
   },
   "source": [
    "* si une classe `A` définit une autre classe `B`,\n",
    "  * on peut créer des instances de `B`\n",
    "  * par la classe `A` avec `A.B()`\n",
    "  * ou par une de ses instances `A().B()`\n",
    "* en effet, on peut y accéder aussi bien\n",
    "  * directement par la classe `A`, ou\n",
    "  * par une instance grâce à l’héritage"
   ]
  },
  {
   "cell_type": "code",
   "execution_count": null,
   "metadata": {
    "run_control": {
     "frozen": false,
     "read_only": false
    },
    "slideshow": {
     "slide_type": "slide"
    }
   },
   "outputs": [],
   "source": [
    "class A:\n",
    "    class B:\n",
    "        pass"
   ]
  },
  {
   "cell_type": "code",
   "execution_count": null,
   "metadata": {
    "run_control": {
     "frozen": false,
     "read_only": false
    }
   },
   "outputs": [],
   "source": [
    "A.B()"
   ]
  },
  {
   "cell_type": "code",
   "execution_count": null,
   "metadata": {
    "run_control": {
     "frozen": false,
     "read_only": false
    }
   },
   "outputs": [],
   "source": [
    "A().B()"
   ]
  },
  {
   "cell_type": "markdown",
   "metadata": {
    "run_control": {
     "frozen": false,
     "read_only": false
    },
    "slideshow": {
     "slide_type": "slide"
    }
   },
   "source": [
    "# quand utiliser la POO en Python ?"
   ]
  },
  {
   "cell_type": "markdown",
   "metadata": {
    "run_control": {
     "frozen": false,
     "read_only": false
    }
   },
   "source": [
    "* utilisation de base\n",
    "  * sans héritage mais avec encapsulation\n",
    "  * bénéfice de grouper le code et les données\n",
    "  * dans des espaces de noms étanches\n",
    "* héritage\n",
    "  * demande en général un peu de conception en amont\n",
    "  * ce n'est **pas forcément le plus gros bénéfice**\n",
    "  * sauf à mon humble avis pour la surcharge des opérateurs\n",
    "  * qui s'avère vite utile - homéopatiquement\n",
    "  * une fois qu'on a passé le barrage d'entrée"
   ]
  },
  {
   "cell_type": "markdown",
   "metadata": {
    "run_control": {
     "frozen": false,
     "read_only": false
    },
    "slideshow": {
     "slide_type": "slide"
    }
   },
   "source": [
    "# modules ou classes ?"
   ]
  },
  {
   "cell_type": "markdown",
   "metadata": {
    "run_control": {
     "frozen": false,
     "read_only": false
    }
   },
   "source": [
    "* utiliser une classe dès qu'on a besoin\n",
    "  * de créer des instances multiples\n",
    "  * d'exploiter la notion d’héritage\n",
    "* se contenter d'un module si on veut simplement\n",
    "  * isoler des espaces de nommages\n",
    "  * créer des méthodes statiques\n",
    "  * factoriser du code\n",
    "* opinion personnelle\n",
    "  * ne me souviens pas d'avoir écrit un module sans classe\n",
    "  * ou alors pour grouper quelques helpers → `utils.py` \n",
    "  * ce qui ne veut pas dire qu'un module ne contient jamais de fonction"
   ]
  },
  {
   "cell_type": "markdown",
   "metadata": {
    "run_control": {
     "frozen": false,
     "read_only": false
    },
    "slideshow": {
     "slide_type": "slide"
    }
   },
   "source": [
    "# pour réutiliser du code en python"
   ]
  },
  {
   "cell_type": "markdown",
   "metadata": {
    "run_control": {
     "frozen": false,
     "read_only": false
    }
   },
   "source": [
    "* fonctions\n",
    "  * pas d'état après exécution\n",
    "* modules\n",
    "  * garde l'état\n",
    "  * une seule instance par programme\n",
    "* **classes**\n",
    "  * **instances multiples**\n",
    "  * **chacune garde l'état**\n",
    "  * **héritage**"
   ]
  },
  {
   "cell_type": "markdown",
   "metadata": {
    "run_control": {
     "frozen": false,
     "read_only": false
    },
    "slideshow": {
     "slide_type": "slide"
    }
   },
   "source": [
    "# pour conclure"
   ]
  },
  {
   "cell_type": "markdown",
   "metadata": {
    "run_control": {
     "frozen": false,
     "read_only": false
    }
   },
   "source": [
    "* *design patterns*\n",
    "  * quelques idées assez génériques éprouvées\n",
    "  * pas de magie ou de théorie complexe dans les design patterns\n",
    "  * liste de recettes empiriques des auteurs\n",
    "  * propices à l'exploitation de l'héritage\n",
    "\n",
    "![design patterns](pictures/book-design-patterns.png)"
   ]
  }
 ],
 "metadata": {
  "kernelspec": {
   "display_name": "Python 3",
   "language": "python",
   "name": "python3"
  },
  "language_info": {
   "codemirror_mode": {
    "name": "ipython",
    "version": 3
   },
   "file_extension": ".py",
   "mimetype": "text/x-python",
   "name": "python",
   "nbconvert_exporter": "python",
   "pygments_lexer": "ipython3",
   "version": "3.7.0"
  },
  "notebookname": "surcharge d’opérateurs",
  "rise": {
   "autolaunch": true,
   "slideNumber": "c/t",
   "start_slideshow_at": "selected",
   "theme": "sky",
   "transition": "cube"
  },
  "version": "1.0"
 },
 "nbformat": 4,
 "nbformat_minor": 2
}
