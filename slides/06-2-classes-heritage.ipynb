{
 "cells": [
  {
   "cell_type": "markdown",
   "metadata": {
    "slideshow": {
     "slide_type": "slide"
    }
   },
   "source": [
    "<div class=\"licence\">\n",
    "<span>Licence CC BY-NC-ND</span>\n",
    "<span>Thierry Parmentelat &amp; Arnaud Legout</span>\n",
    "</div>"
   ]
  },
  {
   "cell_type": "code",
   "execution_count": null,
   "metadata": {
    "slideshow": {
     "slide_type": "slide"
    }
   },
   "outputs": [],
   "source": [
    "from plan import plan; plan(\"classes\", \"héritage\")"
   ]
  },
  {
   "cell_type": "markdown",
   "metadata": {
    "slideshow": {
     "slide_type": "slide"
    }
   },
   "source": [
    "# héritage"
   ]
  },
  {
   "cell_type": "markdown",
   "metadata": {},
   "source": [
    "* l'autre aspect de la POO\n",
    "* en sus de l'encapsulation"
   ]
  },
  {
   "cell_type": "markdown",
   "metadata": {
    "run_control": {
     "frozen": false,
     "read_only": false
    },
    "slideshow": {
     "slide_type": "slide"
    }
   },
   "source": [
    "## héritage *vs* composition "
   ]
  },
  {
   "cell_type": "markdown",
   "metadata": {},
   "source": [
    "### exemples de conception avec héritage"
   ]
  },
  {
   "cell_type": "markdown",
   "metadata": {
    "run_control": {
     "frozen": false,
     "read_only": false
    }
   },
   "source": [
    "**gestion de ressources humaines**\n",
    "\n",
    "* classe de base : `Salarié`\n",
    "* chaque catégorie de personnel  \n",
    "  donne lieu à une sous-classe\n",
    "\n",
    "* correspond à la notion   \n",
    "  d'inclusion dans les ensembles"
   ]
  },
  {
   "cell_type": "markdown",
   "metadata": {
    "run_control": {
     "frozen": false,
     "read_only": false
    },
    "slideshow": {
     "slide_type": "slide"
    }
   },
   "source": [
    "**chaque sous-classe peut**\n",
    "\n",
    "* hériter une méthode telle quelle\n",
    "  * il suffit de ne pas la redéfinir\n",
    "  * ex. `imprimer_paie()`\n",
    "* (re)définir complètement une méthode\n",
    "  * ex. `evolution_carriere()`\n",
    "* amender le comportement générique\n",
    "  * redéfissant sa propre méthode\n",
    "  * qui appelle la méthode de `Salarié`\n",
    "  * ex. `calcul_revenu()`\n",
    "  * peut ajouter un appel à `bonus()` "
   ]
  },
  {
   "cell_type": "markdown",
   "metadata": {
    "run_control": {
     "frozen": false,
     "read_only": false
    },
    "slideshow": {
     "slide_type": "slide"
    }
   },
   "source": [
    "### exemples de conception avec composition"
   ]
  },
  {
   "cell_type": "markdown",
   "metadata": {
    "run_control": {
     "frozen": false,
     "read_only": false
    }
   },
   "source": [
    "**les interfaces graphiques**\n",
    "\n",
    "* classes de base\n",
    "  * ascenseur de défilement\n",
    "  * cadre\n",
    "  * titre\n",
    "* une fenêtre va être composée des trois classes de base\n",
    "* une interface graphique va être composée de fenêtres"
   ]
  },
  {
   "cell_type": "markdown",
   "metadata": {
    "run_control": {
     "frozen": false,
     "read_only": false
    },
    "slideshow": {
     "slide_type": "slide"
    }
   },
   "source": [
    "### héritage *vs* composition"
   ]
  },
  {
   "cell_type": "markdown",
   "metadata": {
    "cell_style": "center",
    "run_control": {
     "frozen": false,
     "read_only": false
    }
   },
   "source": [
    "* héritage: \n",
    "\n",
    "```python\n",
    "class Circle(Graphic): \n",
    "    def __init__(self, graphic_context = None):\n",
    "        Graphic.__init__(self, graphic_context)\n",
    "```"
   ]
  },
  {
   "cell_type": "markdown",
   "metadata": {
    "cell_style": "center",
    "run_control": {
     "frozen": false,
     "read_only": false
    }
   },
   "source": [
    "* composition:\n",
    "\n",
    "```python\n",
    "class Truck:\n",
    "   def __init__(self, wheel_diameter):\n",
    "       self.wheel = Wheel(wheel_diameter)\n",
    "```"
   ]
  },
  {
   "cell_type": "markdown",
   "metadata": {
    "run_control": {
     "frozen": false,
     "read_only": false
    },
    "slideshow": {
     "slide_type": "slide"
    }
   },
   "source": [
    "#### héritage *vs* composition - suite\n",
    "\n",
    "* ce n'est pas parce que un `Truck` a exactement un `Wheel`\n",
    "* qu'un camion est un volant\n",
    "* en cas de doute, posez vous la question\n",
    "  * est-ce que l'objet X **est** un objet Y\n",
    "  * ou est-ce qu'il **possède** ou **contient** un objet Y"
   ]
  },
  {
   "cell_type": "markdown",
   "metadata": {
    "run_control": {
     "frozen": false,
     "read_only": false
    },
    "slideshow": {
     "slide_type": "slide"
    }
   },
   "source": [
    "## héritage - discussion"
   ]
  },
  {
   "cell_type": "markdown",
   "metadata": {
    "run_control": {
     "frozen": false,
     "read_only": false
    },
    "slideshow": {
     "slide_type": ""
    }
   },
   "source": [
    "* imaginez que vous avez une classe `Vecteur2D`\n",
    "* vous avez besoin d'une classe `Vecteur3D`\n",
    "* on pourrait se dire\n",
    "  * `Vecteur3D` hérite de `Vecteur2D`\n",
    "  * et lui ajoute un champ `z`\n",
    "* c'est une très mauvaise idée\n",
    "  * l'ensemble des vecteurs 3D\n",
    "  * n'est pas inclus dans l'ensemble des vecteurs 2D\n",
    "  * c'est exactement  le contraire !"
   ]
  },
  {
   "cell_type": "markdown",
   "metadata": {
    "run_control": {
     "frozen": false,
     "read_only": false
    },
    "slideshow": {
     "slide_type": "slide"
    }
   },
   "source": [
    "## classes et instances"
   ]
  },
  {
   "cell_type": "markdown",
   "metadata": {
    "run_control": {
     "frozen": false,
     "read_only": false
    }
   },
   "source": [
    "* les classes et les instances sont des **objets mutables**\n",
    "  * on peut donc les modifier après création\n",
    "  * même par exemple ajouter des méthodes ! \n",
    "  * **sauf** pour les classes **`builtin`** !\n",
    "* chaque classe et chaque instance\n",
    "  * constitue un espace de nommage\n",
    "* les classes et les instances : objets presque identiques\n",
    "  * par rapport à 'espace de nommage'\n",
    "  * et 'résolution des attributs'"
   ]
  },
  {
   "cell_type": "markdown",
   "metadata": {
    "run_control": {
     "frozen": false,
     "read_only": false
    },
    "slideshow": {
     "slide_type": "slide"
    }
   },
   "source": [
    "### l'instruction `class`"
   ]
  },
  {
   "cell_type": "markdown",
   "metadata": {
    "run_control": {
     "frozen": false,
     "read_only": false
    }
   },
   "source": [
    "* une classe est définie par le mot clef `class` \n",
    "  * une classe définit des attributs\n",
    "  * création à l'évaluation de l'instruction `class`"
   ]
  },
  {
   "cell_type": "code",
   "execution_count": null,
   "metadata": {
    "run_control": {
     "frozen": false,
     "read_only": false
    }
   },
   "outputs": [],
   "source": [
    "# je définis une classe\n",
    "class Foo:\n",
    "    def x(self): \n",
    "        pass"
   ]
  },
  {
   "cell_type": "code",
   "execution_count": null,
   "metadata": {
    "run_control": {
     "frozen": false,
     "read_only": false
    }
   },
   "outputs": [],
   "source": [
    "# ce qui définit la variable Foo\n",
    "Foo"
   ]
  },
  {
   "cell_type": "code",
   "execution_count": null,
   "metadata": {
    "run_control": {
     "frozen": false,
     "read_only": false
    }
   },
   "outputs": [],
   "source": [
    "# et dans cet objet on trouve un attribut\n",
    "# qui est une fonction (méthode)\n",
    "Foo.x"
   ]
  },
  {
   "cell_type": "markdown",
   "metadata": {
    "run_control": {
     "frozen": false,
     "read_only": false
    },
    "slideshow": {
     "slide_type": "slide"
    }
   },
   "source": [
    "### constructeur"
   ]
  },
  {
   "cell_type": "markdown",
   "metadata": {
    "run_control": {
     "frozen": false,
     "read_only": false
    }
   },
   "source": [
    "* une instance (l’objet) est créée lorsqu’une classe est appelée\n",
    "* l’instance hérite de tous les attributs de la classe qui l’a créé"
   ]
  },
  {
   "cell_type": "code",
   "execution_count": null,
   "metadata": {
    "run_control": {
     "frozen": false,
     "read_only": false
    }
   },
   "outputs": [],
   "source": [
    "# la classe est une usine à instance\n",
    "# dit autrement, c'est une fonction\n",
    "# qu'on peut appeler et qui retourne une instance\n",
    "foo = Foo()\n",
    "foo"
   ]
  },
  {
   "cell_type": "code",
   "execution_count": null,
   "metadata": {
    "run_control": {
     "frozen": false,
     "read_only": false
    }
   },
   "outputs": [],
   "source": [
    "# comme on l'a déjà vu, l'instance\n",
    "# hérite ses attributs de la classe\n",
    "foo.x"
   ]
  },
  {
   "cell_type": "markdown",
   "metadata": {
    "run_control": {
     "frozen": false,
     "read_only": false
    },
    "slideshow": {
     "slide_type": "slide"
    }
   },
   "source": [
    "### classe = usine à objets"
   ]
  },
  {
   "cell_type": "markdown",
   "metadata": {
    "run_control": {
     "frozen": false,
     "read_only": false
    },
    "slideshow": {
     "slide_type": ""
    }
   },
   "source": [
    "* une classe est une usine à instance\n",
    "* peut créer **plusieurs instances** d’une même classe\n",
    "* en cela une classe est **différente d’un module**"
   ]
  },
  {
   "cell_type": "markdown",
   "metadata": {
    "run_control": {
     "frozen": false,
     "read_only": false
    },
    "slideshow": {
     "slide_type": "slide"
    }
   },
   "source": [
    "## héritage"
   ]
  },
  {
   "cell_type": "markdown",
   "metadata": {
    "run_control": {
     "frozen": false,
     "read_only": false
    },
    "slideshow": {
     "slide_type": ""
    }
   },
   "source": [
    "* une classe peut hériter d’une (ou plusieurs) autre classes\n",
    "* si A hérite de B\n",
    "  * on dit que A est la sous-classe de B\n",
    "  * et B est la super-classe de A\n",
    "* la sous-classe hérite des attributs de sa super-classe\n",
    "* l’instance hérite de la classe qui la crée"
   ]
  },
  {
   "cell_type": "markdown",
   "metadata": {
    "run_control": {
     "frozen": false,
     "read_only": false
    },
    "slideshow": {
     "slide_type": "slide"
    }
   },
   "source": [
    "### graphe d'héritage\n",
    "\n",
    "* on peut donc construire un graphe d’héritage\n",
    "* allant des super-classes aux instances"
   ]
  },
  {
   "cell_type": "markdown",
   "metadata": {
    "cell_style": "split",
    "run_control": {
     "frozen": false,
     "read_only": false
    }
   },
   "source": [
    "![arbre de classes](pictures/classes.png)"
   ]
  },
  {
   "cell_type": "code",
   "execution_count": null,
   "metadata": {
    "cell_style": "split",
    "run_control": {
     "frozen": false,
     "read_only": false
    }
   },
   "outputs": [],
   "source": [
    "class C1: \n",
    "    pass\n",
    "class C2: \n",
    "    pass\n",
    "class C(C1, C2):\n",
    "    def func(self, x):\n",
    "        self.x = 10\n",
    "o1 = C()\n",
    "o2 = C()"
   ]
  },
  {
   "cell_type": "markdown",
   "metadata": {
    "run_control": {
     "frozen": false,
     "read_only": false
    },
    "slideshow": {
     "slide_type": "slide"
    }
   },
   "source": [
    "## référencer un attribut"
   ]
  },
  {
   "cell_type": "markdown",
   "metadata": {
    "run_control": {
     "frozen": false,
     "read_only": false
    }
   },
   "source": [
    "* tous les objets ne peuvent pas avoir des attributs\n",
    "  * oui pour : packages, modules, classes et instances\n",
    "  * mais **pas les (instances de) types de base**\n",
    "* pour chercher un attribut dans un objet, deux méthodes\n",
    "  * `object.attribut` \n",
    "  * `getattr()`"
   ]
  },
  {
   "cell_type": "markdown",
   "metadata": {
    "run_control": {
     "frozen": false,
     "read_only": false
    },
    "slideshow": {
     "slide_type": "slide"
    }
   },
   "source": [
    "### `getattr()`\n",
    "\n",
    "* il s'agit d'une fonction **builtin**"
   ]
  },
  {
   "cell_type": "code",
   "execution_count": null,
   "metadata": {
    "run_control": {
     "frozen": false,
     "read_only": false
    }
   },
   "outputs": [],
   "source": [
    "class Bar: \n",
    "    x = 10\n",
    "bar = Bar()"
   ]
  },
  {
   "cell_type": "code",
   "execution_count": null,
   "metadata": {
    "run_control": {
     "frozen": false,
     "read_only": false
    }
   },
   "outputs": [],
   "source": [
    "# là il faut que je connaisse le nom de l'attribut \n",
    "# au moment où j'écris le code\n",
    "bar.x"
   ]
  },
  {
   "cell_type": "code",
   "execution_count": null,
   "metadata": {
    "cell_style": "split",
    "run_control": {
     "frozen": false,
     "read_only": false
    }
   },
   "outputs": [],
   "source": [
    "# ici par contre je passe une chaine\n",
    "getattr(bar, 'x')"
   ]
  },
  {
   "cell_type": "code",
   "execution_count": null,
   "metadata": {
    "cell_style": "split"
   },
   "outputs": [],
   "source": [
    "# que je pourrais donc **calculer**\n",
    "attribut = chr(120)\n",
    "getattr(bar, attribut)"
   ]
  },
  {
   "cell_type": "markdown",
   "metadata": {
    "run_control": {
     "frozen": false,
     "read_only": false
    },
    "slideshow": {
     "slide_type": "slide"
    }
   },
   "source": [
    "### `getattr()`/`setattr()`"
   ]
  },
  {
   "cell_type": "markdown",
   "metadata": {
    "run_control": {
     "frozen": false,
     "read_only": false
    },
    "slideshow": {
     "slide_type": ""
    }
   },
   "source": [
    "* avec `getattr` le nom de l'attribut est un `str`\n",
    "* pas restreint par la syntaxe des identifieurs\n",
    "* de plus on peut le **calculer**\n",
    "* la fonction *builtin* `setattr`\n",
    "  * fait ce que vous croyez.."
   ]
  },
  {
   "cell_type": "code",
   "execution_count": null,
   "metadata": {
    "cell_style": "split",
    "run_control": {
     "frozen": false,
     "read_only": false
    }
   },
   "outputs": [],
   "source": [
    "# un nom d'attribut folklorique\n",
    "attribut = 'x->y'\n",
    "setattr(bar, attribut, 42)"
   ]
  },
  {
   "cell_type": "code",
   "execution_count": null,
   "metadata": {
    "cell_style": "split",
    "run_control": {
     "frozen": false,
     "read_only": false
    }
   },
   "outputs": [],
   "source": [
    "# on ne peut pas écrire bar.x->y\n",
    "# mais par contre\n",
    "getattr(bar, attribut)"
   ]
  },
  {
   "cell_type": "markdown",
   "metadata": {
    "run_control": {
     "frozen": false,
     "read_only": false
    },
    "slideshow": {
     "slide_type": "slide"
    }
   },
   "source": [
    "### résumé - accès aux attributs "
   ]
  },
  {
   "cell_type": "markdown",
   "metadata": {
    "run_control": {
     "frozen": false,
     "read_only": false
    }
   },
   "source": [
    "**en résumé**\n",
    "\n",
    "* `obj.name` ⇔ `getattr(obj, 'name')`\n",
    "* `obj.name = value` ⇔ `setattr(obj, 'name', value)`\n",
    "\n",
    "**et rappelez-vous également que**\n",
    "\n",
    "* la lecture fait une **recherche**  \n",
    "  de l'instance aux super-classes\n",
    "\n",
    "* l'écriture (présence d'une affectation)  \n",
    "  **écrit directement dans l'objet**\n"
   ]
  },
  {
   "cell_type": "markdown",
   "metadata": {
    "run_control": {
     "frozen": false,
     "read_only": false
    },
    "slideshow": {
     "slide_type": "slide"
    }
   },
   "source": [
    "### lecture *vs* écriture"
   ]
  },
  {
   "cell_type": "markdown",
   "metadata": {
    "cell_style": "split"
   },
   "source": [
    "* il y a écriture si  \n",
    "  et seulement si il y a **affectation**\n",
    "* dans 1. il y a \n",
    "  * **lecture** de l'attribut `liste`\n",
    "  * même si on modifie l'objet \n",
    "* dans 2. il y a\n",
    "  * **écriture de l'attribut** \n",
    "  * donc écrit dans `obj`"
   ]
  },
  {
   "cell_type": "markdown",
   "metadata": {
    "cell_style": "split"
   },
   "source": [
    "* 1. lecture ! \n",
    "```python\n",
    "obj.liste.append('foo')\n",
    "```\n",
    "\n",
    "* 2. écriture\n",
    "```python\n",
    "obj.liste += ['foo']\n",
    "```\n",
    "                 "
   ]
  },
  {
   "cell_type": "markdown",
   "metadata": {
    "run_control": {
     "frozen": false,
     "read_only": false
    },
    "slideshow": {
     "slide_type": "slide"
    }
   },
   "source": [
    "### remarque"
   ]
  },
  {
   "cell_type": "markdown",
   "metadata": {
    "cell_style": "center",
    "run_control": {
     "frozen": false,
     "read_only": false
    },
    "slideshow": {
     "slide_type": ""
    }
   },
   "source": [
    "**comme tous les traits du langage**\n",
    "\n",
    "* le comportement de `.` \n",
    "* est redéfinissable pour une classe\n",
    "* par surcharge des méthodes spéciales\n",
    "* on en reparlera..."
   ]
  },
  {
   "cell_type": "markdown",
   "metadata": {
    "run_control": {
     "frozen": false,
     "read_only": false
    },
    "slideshow": {
     "slide_type": "slide"
    }
   },
   "source": [
    "## espace de nommage de l’instance"
   ]
  },
  {
   "cell_type": "markdown",
   "metadata": {
    "run_control": {
     "frozen": false,
     "read_only": false
    }
   },
   "source": [
    "* à l'appel de `__init__`:\n",
    "  * l’espace de nommage de l’instance est vide\n"
   ]
  },
  {
   "cell_type": "code",
   "execution_count": null,
   "metadata": {
    "cell_style": "split",
    "run_control": {
     "frozen": false,
     "read_only": false
    }
   },
   "outputs": [],
   "source": [
    "class MaClasse:\n",
    "    pass"
   ]
  },
  {
   "cell_type": "code",
   "execution_count": null,
   "metadata": {
    "cell_style": "split",
    "run_control": {
     "frozen": false,
     "read_only": false
    }
   },
   "outputs": [],
   "source": [
    "x = MaClasse() \n",
    "\n",
    "# l'espace de nommage de x est vide\n",
    "x.__dict__"
   ]
  },
  {
   "cell_type": "code",
   "execution_count": null,
   "metadata": {
    "run_control": {
     "frozen": false,
     "read_only": false
    }
   },
   "outputs": [],
   "source": [
    "# créer un attribut dans l'instance revient \n",
    "# à ajouter une clé dans l'espace de nommage de l'instance\n",
    "x.value = 18\n",
    "x.__dict__"
   ]
  },
  {
   "cell_type": "markdown",
   "metadata": {
    "run_control": {
     "frozen": false,
     "read_only": false
    },
    "slideshow": {
     "slide_type": "slide"
    }
   },
   "source": [
    "### attributs `__dict__`, `__class__`, `__bases__`"
   ]
  },
  {
   "cell_type": "markdown",
   "metadata": {
    "run_control": {
     "frozen": false,
     "read_only": false
    }
   },
   "source": [
    "* valide pour **classes et instances** :\n",
    "  * l’attribut `__dict__` est un dictionnaire\n",
    "  * qui matérialise les attributs propres à cet objet\n",
    "* valide pour **instances seulement** :\n",
    "  * l’attribut `__class__`\n",
    "  * référence la classe qui a construit l’instance\n",
    "* valide pour **classes seulement** :\n",
    "  * l’attribut `__bases__` est un tuple\n",
    "  * qui contient les super-classes de la classe"
   ]
  },
  {
   "cell_type": "code",
   "execution_count": null,
   "metadata": {
    "cell_style": "split",
    "run_control": {
     "frozen": false,
     "read_only": false
    },
    "slideshow": {
     "slide_type": "slide"
    }
   },
   "outputs": [],
   "source": [
    "class SuperClasse:\n",
    "    pass\n",
    "class Classe(SuperClasse): \n",
    "    pass\n",
    "o = Classe()\n",
    "o.__dict__"
   ]
  },
  {
   "cell_type": "code",
   "execution_count": null,
   "metadata": {
    "cell_style": "split",
    "run_control": {
     "frozen": false,
     "read_only": false
    }
   },
   "outputs": [],
   "source": [
    "o.value = 12\n",
    "o.__dict__"
   ]
  },
  {
   "cell_type": "code",
   "execution_count": null,
   "metadata": {
    "cell_style": "split",
    "run_control": {
     "frozen": false,
     "read_only": false
    }
   },
   "outputs": [],
   "source": [
    "o.__class__"
   ]
  },
  {
   "cell_type": "code",
   "execution_count": null,
   "metadata": {
    "run_control": {
     "frozen": false,
     "read_only": false
    }
   },
   "outputs": [],
   "source": [
    "Classe.__bases__"
   ]
  },
  {
   "cell_type": "code",
   "execution_count": null,
   "metadata": {
    "run_control": {
     "frozen": false,
     "read_only": false
    }
   },
   "outputs": [],
   "source": [
    "o.__class__.__bases__"
   ]
  },
  {
   "cell_type": "markdown",
   "metadata": {
    "run_control": {
     "frozen": false,
     "read_only": false
    },
    "slideshow": {
     "slide_type": "slide"
    }
   },
   "source": [
    "## méthode"
   ]
  },
  {
   "cell_type": "markdown",
   "metadata": {
    "run_control": {
     "frozen": false,
     "read_only": false
    }
   },
   "source": [
    "* une méthode est une fonction rangée dans un attribut de la classe\n",
    "* la seule différence avec une fonction classique est que\n",
    "  * lors de l’appel de la méthode par une instance\n",
    "  * Python passe automatiquement une référence vers l’instance\n",
    "* cette référence s'appelle traditionnellement `self`\n",
    "  * ainsi une méthode peut accéder à l'instance,  \n",
    "    et *a fortiori* aux attributs de l'instance\n",
    "  * `self` n'est pas un mot-clé, mais consacré par l'usage"
   ]
  },
  {
   "cell_type": "markdown",
   "metadata": {
    "run_control": {
     "frozen": false,
     "read_only": false
    },
    "slideshow": {
     "slide_type": "slide"
    }
   },
   "source": [
    "### déclaration, `self`"
   ]
  },
  {
   "cell_type": "markdown",
   "metadata": {
    "run_control": {
     "frozen": false,
     "read_only": false
    }
   },
   "source": [
    "* lors de la déclaration de la méthode\n",
    "  * il faut prévoir un premier argument\n",
    "  * qui correspond au sujet de la méthode\n",
    "  * et qui s'appelle traditionnellement `self`\n",
    "* ainsi les opérations sur `self` peuvent modifier l’instance"
   ]
  },
  {
   "cell_type": "code",
   "execution_count": null,
   "metadata": {
    "run_control": {
     "frozen": false,
     "read_only": false
    }
   },
   "outputs": [],
   "source": [
    "class MaClasse:                # une classe\n",
    "    def setdata(self, value):  # une méthode\n",
    "        self.value = value     # crée l'attribut 'value' dans\n",
    "                               # l'espace de nommage de l'instance (self)"
   ]
  },
  {
   "cell_type": "markdown",
   "metadata": {
    "run_control": {
     "frozen": false,
     "read_only": false
    },
    "slideshow": {
     "slide_type": "slide"
    }
   },
   "source": [
    "### appel"
   ]
  },
  {
   "cell_type": "markdown",
   "metadata": {
    "run_control": {
     "frozen": false,
     "read_only": false
    }
   },
   "source": [
    "* lorsqu'on appelle une méthode\n",
    "  * on dit aussi qu'on *envoie* une méthode à un objet `x`\n",
    "* pas besoin de passer `self`\n",
    "* python le passe automatiquement"
   ]
  },
  {
   "cell_type": "code",
   "execution_count": null,
   "metadata": {
    "cell_style": "split",
    "run_control": {
     "frozen": false,
     "read_only": false
    }
   },
   "outputs": [],
   "source": [
    "class MaClasse:                \n",
    "    def setdata(self, value): \n",
    "        self.value = value\n",
    "        \n",
    "# on crée 1 instance\n",
    "x = MaClasse()        "
   ]
  },
  {
   "cell_type": "code",
   "execution_count": null,
   "metadata": {
    "cell_style": "split",
    "run_control": {
     "frozen": false,
     "read_only": false
    }
   },
   "outputs": [],
   "source": [
    "# x est automatiquement passé\n",
    "# comme 1er argument - donc lié à self\n",
    "x.setdata(\"alice\")\n",
    "x.value"
   ]
  },
  {
   "cell_type": "code",
   "execution_count": null,
   "metadata": {
    "cell_style": "split",
    "run_control": {
     "frozen": false,
     "read_only": false
    }
   },
   "outputs": [],
   "source": [
    "# l’appel est équivalent à \n",
    "MaClasse.setdata(x, \"bob\")\n",
    "\n",
    "x.value"
   ]
  },
  {
   "cell_type": "markdown",
   "metadata": {
    "run_control": {
     "frozen": false,
     "read_only": false
    },
    "slideshow": {
     "slide_type": "slide"
    }
   },
   "source": [
    "## un exemple de classe"
   ]
  },
  {
   "cell_type": "code",
   "execution_count": null,
   "metadata": {
    "run_control": {
     "frozen": false,
     "read_only": false
    }
   },
   "outputs": [],
   "source": [
    "class MaClasse:                # définit la classe MaClasse\n",
    "    def __init__(self, value): # definit une méthode\n",
    "        self.value = value     # self est l’instance\n",
    "    def display(self):\n",
    "        return(3 * self.value) # self.value: par instance"
   ]
  },
  {
   "cell_type": "code",
   "execution_count": null,
   "metadata": {
    "run_control": {
     "frozen": false,
     "read_only": false
    }
   },
   "outputs": [],
   "source": [
    "x = MaClasse(10)               # on crée 2 instances\n",
    "y = MaClasse(1000)             # chaque instance a son\n",
    "                               # propre espace de nommage"
   ]
  },
  {
   "cell_type": "code",
   "execution_count": null,
   "metadata": {
    "cell_style": "split",
    "run_control": {
     "frozen": false,
     "read_only": false
    }
   },
   "outputs": [],
   "source": [
    "# MaClasse.display(x)\n",
    "x.display()"
   ]
  },
  {
   "cell_type": "code",
   "execution_count": null,
   "metadata": {
    "cell_style": "split",
    "run_control": {
     "frozen": false,
     "read_only": false
    }
   },
   "outputs": [],
   "source": [
    "# MaClasse.display(y)\n",
    "y.display()"
   ]
  },
  {
   "cell_type": "code",
   "execution_count": null,
   "metadata": {
    "cell_style": "split",
    "run_control": {
     "frozen": false,
     "read_only": false
    }
   },
   "outputs": [],
   "source": [
    "x.__dict__"
   ]
  },
  {
   "cell_type": "code",
   "execution_count": null,
   "metadata": {
    "cell_style": "split",
    "run_control": {
     "frozen": false,
     "read_only": false
    }
   },
   "outputs": [],
   "source": [
    "y.__dict__"
   ]
  },
  {
   "cell_type": "code",
   "execution_count": null,
   "metadata": {
    "run_control": {
     "frozen": false,
     "read_only": false
    },
    "slideshow": {
     "slide_type": "slide"
    }
   },
   "outputs": [],
   "source": [
    "x.value = \"bob\"      # on peut directement changer les\n",
    "                     # attributs sans passer par les \n",
    "                     # méthodes de la classe\n",
    "x.display()"
   ]
  },
  {
   "cell_type": "code",
   "execution_count": null,
   "metadata": {
    "run_control": {
     "frozen": false,
     "read_only": false
    }
   },
   "outputs": [],
   "source": [
    "x.autre = 15         # on peut également définir de \n",
    "                     # nouveaux attributs pour\n",
    "                     # l’instance directement\n",
    "x.__dict__"
   ]
  },
  {
   "cell_type": "code",
   "execution_count": null,
   "metadata": {
    "cell_style": "split",
    "run_control": {
     "frozen": false,
     "read_only": false
    }
   },
   "outputs": [],
   "source": [
    "# pour rappel\n",
    "x.__class__"
   ]
  },
  {
   "cell_type": "code",
   "execution_count": null,
   "metadata": {
    "cell_style": "split",
    "run_control": {
     "frozen": false,
     "read_only": false
    }
   },
   "outputs": [],
   "source": [
    "# uniquement object \n",
    "# comme super-classe\n",
    "MaClasse.__bases__"
   ]
  },
  {
   "cell_type": "markdown",
   "metadata": {
    "run_control": {
     "frozen": false,
     "read_only": false
    },
    "slideshow": {
     "slide_type": "slide"
    }
   },
   "source": [
    "### un exemple d’héritage de classes"
   ]
  },
  {
   "cell_type": "code",
   "execution_count": null,
   "metadata": {
    "cell_style": "split"
   },
   "outputs": [],
   "source": [
    "class MaClasse:\n",
    "    def __init__(self, value):\n",
    "        self.value = value\n",
    "    def square(self):\n",
    "        return self.value ** 2\n",
    "    # pour anticiper un peu\n",
    "    def __repr__(self):\n",
    "        return f\"[MC:{self.value}]\"\n",
    "    \n",
    "# avec __repr__ on a modifié\n",
    "# la façon de montrer un objet\n",
    "top = MaClasse(10)\n",
    "top"
   ]
  },
  {
   "cell_type": "code",
   "execution_count": null,
   "metadata": {
    "cell_style": "split",
    "run_control": {
     "frozen": false,
     "read_only": false
    }
   },
   "outputs": [],
   "source": [
    "# voici comment on hérite\n",
    "class MaSousClasse(MaClasse):\n",
    "    # ici je redéfinis une méthode\n",
    "    def __repr__(self):\n",
    "        return f\"[custom: {self.value*2}]\"\n",
    "    \n",
    "# et pour tout le reste, on peut manipuler\n",
    "# un objet MaSousClasse exactement \n",
    "# comme un objet MaClasse"
   ]
  },
  {
   "cell_type": "code",
   "execution_count": null,
   "metadata": {
    "cell_style": "center",
    "run_control": {
     "frozen": false,
     "read_only": false
    }
   },
   "outputs": [],
   "source": [
    "# création\n",
    "bottom = MaSousClasse(100)\n",
    "\n",
    "# affichage : customisé par la redéfinition\n",
    "bottom"
   ]
  },
  {
   "cell_type": "code",
   "execution_count": null,
   "metadata": {
    "cell_style": "split",
    "run_control": {
     "frozen": false,
     "read_only": false
    }
   },
   "outputs": [],
   "source": [
    "# on accède à son attribut \n",
    "# (toujours dans l'instance)\n",
    "bottom.value"
   ]
  },
  {
   "cell_type": "code",
   "execution_count": null,
   "metadata": {
    "cell_style": "split",
    "run_control": {
     "frozen": false,
     "read_only": false
    }
   },
   "outputs": [],
   "source": [
    "# pas besoin de redéfinir: héritée\n",
    "bottom.square()"
   ]
  },
  {
   "cell_type": "markdown",
   "metadata": {
    "run_control": {
     "frozen": false,
     "read_only": false
    },
    "slideshow": {
     "slide_type": "slide"
    }
   },
   "source": [
    "#### un exemple d’héritage de classes"
   ]
  },
  {
   "cell_type": "markdown",
   "metadata": {
    "cell_style": "split",
    "run_control": {
     "frozen": false,
     "read_only": false
    }
   },
   "source": [
    "**espace de nommage dans cet exemple**\n",
    "\n",
    "* `bottom.__repr__` est dans `MaSousClasse`\n",
    "* `bottom.square` est dans `MaClasse`\n",
    "* `bottom.value` est dans l’instance `bottom`"
   ]
  },
  {
   "cell_type": "code",
   "execution_count": null,
   "metadata": {
    "cell_style": "split"
   },
   "outputs": [],
   "source": [
    "list(MaSousClasse.__dict__.keys())"
   ]
  },
  {
   "cell_type": "code",
   "execution_count": null,
   "metadata": {
    "cell_style": "split"
   },
   "outputs": [],
   "source": [
    "list(bottom.__dict__.keys())"
   ]
  },
  {
   "cell_type": "code",
   "execution_count": null,
   "metadata": {
    "cell_style": "split"
   },
   "outputs": [],
   "source": [
    "list(MaClasse.__dict__.keys())"
   ]
  },
  {
   "cell_type": "code",
   "execution_count": null,
   "metadata": {
    "cell_style": "split"
   },
   "outputs": [],
   "source": [
    "MaSousClasse.__bases__"
   ]
  },
  {
   "cell_type": "markdown",
   "metadata": {
    "run_control": {
     "frozen": false,
     "read_only": false
    },
    "slideshow": {
     "slide_type": "slide"
    }
   },
   "source": [
    "## `isinstance()` et `issubclass()`"
   ]
  },
  {
   "cell_type": "markdown",
   "metadata": {
    "run_control": {
     "frozen": false,
     "read_only": false
    }
   },
   "source": [
    "* `isinstance(x, class1)` retourne `True` si `x` est une instance de `class1` ou d’une super classe\n",
    "* `issubclass(class1, class2)` retoune `True` si `class1` est une sous-classe de `class2`\n",
    "* ces fonctions *builtin* sont à privilégier à l'utilisation de `type()`"
   ]
  },
  {
   "cell_type": "code",
   "execution_count": null,
   "metadata": {
    "cell_style": "split",
    "run_control": {
     "frozen": false,
     "read_only": false
    },
    "slideshow": {
     "slide_type": ""
    }
   },
   "outputs": [],
   "source": [
    "isinstance(top, MaClasse)"
   ]
  },
  {
   "cell_type": "code",
   "execution_count": null,
   "metadata": {
    "cell_style": "split",
    "run_control": {
     "frozen": false,
     "read_only": false
    }
   },
   "outputs": [],
   "source": [
    "isinstance(top, MaSousClasse)"
   ]
  },
  {
   "cell_type": "code",
   "execution_count": null,
   "metadata": {
    "cell_style": "split",
    "run_control": {
     "frozen": false,
     "read_only": false
    }
   },
   "outputs": [],
   "source": [
    "isinstance(bottom, MaSousClasse)"
   ]
  },
  {
   "cell_type": "code",
   "execution_count": null,
   "metadata": {
    "cell_style": "split",
    "run_control": {
     "frozen": false,
     "read_only": false
    }
   },
   "outputs": [],
   "source": [
    "isinstance(bottom, MaClasse)"
   ]
  },
  {
   "cell_type": "code",
   "execution_count": null,
   "metadata": {},
   "outputs": [],
   "source": [
    "type(bottom) is MaClasse"
   ]
  },
  {
   "cell_type": "code",
   "execution_count": null,
   "metadata": {
    "cell_style": "split",
    "run_control": {
     "frozen": false,
     "read_only": false
    }
   },
   "outputs": [],
   "source": [
    "issubclass(MaSousClasse, MaClasse)"
   ]
  },
  {
   "cell_type": "code",
   "execution_count": null,
   "metadata": {
    "cell_style": "split",
    "run_control": {
     "frozen": false,
     "read_only": false
    }
   },
   "outputs": [],
   "source": [
    "isinstance(MaSousClasse, MaClasse)"
   ]
  },
  {
   "cell_type": "markdown",
   "metadata": {
    "run_control": {
     "frozen": false,
     "read_only": false
    },
    "slideshow": {
     "slide_type": "slide"
    }
   },
   "source": [
    "### les classes sont des attributs de modules"
   ]
  },
  {
   "cell_type": "markdown",
   "metadata": {
    "cell_style": "center",
    "run_control": {
     "frozen": false,
     "read_only": false
    }
   },
   "source": [
    "* on peut avoir une ou plusieurs classes dans un module\n",
    "* on ne peut importer qu'un module\n",
    "* la classe est un attribut du module (comme n’importe quel attribut)\n",
    "* en général\n",
    "  * modules en `minuscule`\n",
    "  * classe en `ChasseMixte`\n",
    "* assez souvent, l'un est dérivé de l'autre"
   ]
  },
  {
   "cell_type": "code",
   "execution_count": null,
   "metadata": {
    "cell_style": "split",
    "run_control": {
     "frozen": false,
     "read_only": false
    }
   },
   "outputs": [],
   "source": [
    "# exemple issu de \n",
    "# la librairie standard\n",
    "import argparse\n",
    "argparse.ArgumentParser"
   ]
  },
  {
   "cell_type": "code",
   "execution_count": null,
   "metadata": {
    "cell_style": "split"
   },
   "outputs": [],
   "source": [
    "# un module très utile pour  \n",
    "# l'introspection\n",
    "import inspect\n",
    "inspect.ismodule(argparse)"
   ]
  },
  {
   "cell_type": "code",
   "execution_count": null,
   "metadata": {
    "cell_style": "split"
   },
   "outputs": [],
   "source": [
    "inspect.isclass(argparse.ArgumentParser)"
   ]
  },
  {
   "cell_type": "markdown",
   "metadata": {
    "run_control": {
     "frozen": false,
     "read_only": false
    },
    "slideshow": {
     "slide_type": "slide"
    }
   },
   "source": [
    "#### les classes sont des attributs de modules"
   ]
  },
  {
   "cell_type": "markdown",
   "metadata": {},
   "source": [
    "les mécanismes d'importation s'appliquent normalement"
   ]
  },
  {
   "cell_type": "code",
   "execution_count": null,
   "metadata": {
    "cell_style": "split",
    "run_control": {
     "frozen": false,
     "read_only": false
    }
   },
   "outputs": [],
   "source": [
    "# première forme\n",
    "import argparse\n",
    "\n",
    "class MyParser(argparse.ArgumentParser):\n",
    "    # redéfinissons 'parse'\n",
    "    def parse(self):\n",
    "        pass"
   ]
  },
  {
   "cell_type": "code",
   "execution_count": null,
   "metadata": {
    "cell_style": "split",
    "run_control": {
     "frozen": false,
     "read_only": false
    }
   },
   "outputs": [],
   "source": [
    "# ou de manière équivalente\n",
    "from argparse import ArgumentParser\n",
    "\n",
    "class MyParser(ArgumentParser):\n",
    "    # redéfinissons 'parse'\n",
    "    def parse(self):\n",
    "        pass"
   ]
  },
  {
   "cell_type": "markdown",
   "metadata": {
    "run_control": {
     "frozen": false,
     "read_only": false
    },
    "slideshow": {
     "slide_type": "slide"
    }
   },
   "source": [
    "### les classes sont des objets mutables"
   ]
  },
  {
   "cell_type": "markdown",
   "metadata": {
    "run_control": {
     "frozen": false,
     "read_only": false
    }
   },
   "source": [
    "* créons une classe vide"
   ]
  },
  {
   "cell_type": "code",
   "execution_count": null,
   "metadata": {
    "run_control": {
     "frozen": false,
     "read_only": false
    }
   },
   "outputs": [],
   "source": [
    "class Dummy: \n",
    "    pass # classe vide, espace de nommage vide"
   ]
  },
  {
   "cell_type": "code",
   "execution_count": null,
   "metadata": {
    "run_control": {
     "frozen": false,
     "read_only": false
    }
   },
   "outputs": [],
   "source": [
    "list(Dummy.__dict__)"
   ]
  },
  {
   "cell_type": "markdown",
   "metadata": {
    "run_control": {
     "frozen": false,
     "read_only": false
    },
    "slideshow": {
     "slide_type": "slide"
    }
   },
   "source": [
    "#### les classes sont des objets mutables"
   ]
  },
  {
   "cell_type": "code",
   "execution_count": null,
   "metadata": {
    "cell_style": "split",
    "run_control": {
     "frozen": false,
     "read_only": false
    }
   },
   "outputs": [],
   "source": [
    "# créons deux instances\n",
    "x = Dummy() \n",
    "y = Dummy()"
   ]
  },
  {
   "cell_type": "code",
   "execution_count": null,
   "metadata": {
    "cell_style": "split",
    "run_control": {
     "frozen": false,
     "read_only": false
    }
   },
   "outputs": [],
   "source": [
    "\n",
    "# on peut ajouter dynamiquement \n",
    "# un attribut à une classe\n",
    "Dummy.name = 'Bob' "
   ]
  },
  {
   "cell_type": "code",
   "execution_count": null,
   "metadata": {
    "cell_style": "split",
    "run_control": {
     "frozen": false,
     "read_only": false
    }
   },
   "outputs": [],
   "source": [
    "# dès lors on trouve cet attribut \n",
    "# même en partant de la classe\n",
    "Dummy.name"
   ]
  },
  {
   "cell_type": "code",
   "execution_count": null,
   "metadata": {
    "cell_style": "split"
   },
   "outputs": [],
   "source": [
    "# et donc a fortiori en partant d'une instance\n",
    "x.name, y.name"
   ]
  },
  {
   "cell_type": "markdown",
   "metadata": {
    "run_control": {
     "frozen": false,
     "read_only": false
    }
   },
   "source": [
    "* `name` est créé après les instances  \n",
    "  mais les instances trouvent `name` dans la classe\n",
    "\n",
    "* la résolution de nom a lieu *à runtime*   \n",
    "  le long de l’arbre d’héritage"
   ]
  },
  {
   "cell_type": "code",
   "execution_count": null,
   "metadata": {
    "run_control": {
     "frozen": false,
     "read_only": false
    },
    "slideshow": {
     "slide_type": "slide"
    }
   },
   "outputs": [],
   "source": [
    "list(x.__dict__)     # l’espace de nommage de x est vide"
   ]
  },
  {
   "cell_type": "code",
   "execution_count": null,
   "metadata": {
    "run_control": {
     "frozen": false,
     "read_only": false
    }
   },
   "outputs": [],
   "source": [
    "x.name = 'Sue'       # on assigne name à x maintenant\n",
    "\n",
    "Dummy.name, x.name, y.name"
   ]
  },
  {
   "cell_type": "code",
   "execution_count": null,
   "metadata": {
    "run_control": {
     "frozen": false,
     "read_only": false
    }
   },
   "outputs": [],
   "source": [
    "# en résumé, voici les espaces de nommage de `Dummy`, `x`, `y`, \n",
    "list(Dummy.__dict__)"
   ]
  },
  {
   "cell_type": "code",
   "execution_count": null,
   "metadata": {
    "cell_style": "split",
    "run_control": {
     "frozen": false,
     "read_only": false
    }
   },
   "outputs": [],
   "source": [
    "list(x.__dict__)"
   ]
  },
  {
   "cell_type": "code",
   "execution_count": null,
   "metadata": {
    "cell_style": "split",
    "run_control": {
     "frozen": false,
     "read_only": false
    }
   },
   "outputs": [],
   "source": [
    "list(y.__dict__)"
   ]
  },
  {
   "cell_type": "markdown",
   "metadata": {
    "run_control": {
     "frozen": false,
     "read_only": false
    },
    "slideshow": {
     "slide_type": "slide"
    }
   },
   "source": [
    "#### les classes sont des objets mutables"
   ]
  },
  {
   "cell_type": "markdown",
   "metadata": {
    "run_control": {
     "frozen": false,
     "read_only": false
    }
   },
   "source": [
    "* comme une méthode est un objet, on peut créer et assigner une méthode à une classe après la création de la classe\n",
    "* comme la résolution de nom est **faite à chaque appel**, chaque instance verra la nouvelle méthode"
   ]
  },
  {
   "cell_type": "code",
   "execution_count": null,
   "metadata": {
    "cell_style": "split",
    "run_control": {
     "frozen": false,
     "read_only": false
    }
   },
   "outputs": [],
   "source": [
    "# on *peut* ajouter des méthodes \n",
    "# en dehors d'une instruction 'class:'\n",
    "\n",
    "# on passe self comme pour une méthode\n",
    "# définie dans une 'class:'\n",
    "def upperName(self):\n",
    "    return self.name.upper()  \n",
    "\n",
    "Dummy.upperName = upperName"
   ]
  },
  {
   "cell_type": "code",
   "execution_count": null,
   "metadata": {
    "cell_style": "split",
    "run_control": {
     "frozen": false,
     "read_only": false
    }
   },
   "outputs": [],
   "source": [
    "x.upperName() "
   ]
  },
  {
   "cell_type": "code",
   "execution_count": null,
   "metadata": {
    "cell_style": "split",
    "run_control": {
     "frozen": false,
     "read_only": false
    }
   },
   "outputs": [],
   "source": [
    "y.upperName() "
   ]
  },
  {
   "cell_type": "markdown",
   "metadata": {
    "run_control": {
     "frozen": false,
     "read_only": false
    },
    "slideshow": {
     "slide_type": "slide"
    }
   },
   "source": [
    "#### les classes sont des objets mutables"
   ]
  },
  {
   "cell_type": "markdown",
   "metadata": {
    "run_control": {
     "frozen": false,
     "read_only": false
    },
    "slideshow": {
     "slide_type": ""
    }
   },
   "source": [
    "pas de différence avec les méthodes usuelles"
   ]
  },
  {
   "cell_type": "code",
   "execution_count": null,
   "metadata": {
    "cell_style": "split",
    "run_control": {
     "frozen": false,
     "read_only": false
    }
   },
   "outputs": [],
   "source": [
    "x.upperName()"
   ]
  },
  {
   "cell_type": "code",
   "execution_count": null,
   "metadata": {
    "cell_style": "split",
    "run_control": {
     "frozen": false,
     "read_only": false
    }
   },
   "outputs": [],
   "source": [
    "# qui est donc équivalent à \n",
    "Dummy.upperName(x) "
   ]
  },
  {
   "cell_type": "code",
   "execution_count": null,
   "metadata": {
    "cell_style": "split"
   },
   "outputs": [],
   "source": [
    "# est-ce valable ?\n",
    "try:\n",
    "    print(Dummy.upperName())\n",
    "except Exception as exc:\n",
    "    print(f\"OOPS {exc}\")"
   ]
  },
  {
   "cell_type": "code",
   "execution_count": null,
   "metadata": {
    "cell_style": "split"
   },
   "outputs": [],
   "source": [
    "# est-ce valable ?\n",
    "try:\n",
    "    print(Dummy.upperName(Dummy))\n",
    "except Exception as exc:\n",
    "    print(f\"OOPS {exc}\")"
   ]
  },
  {
   "cell_type": "markdown",
   "metadata": {
    "run_control": {
     "frozen": false,
     "read_only": false
    },
    "slideshow": {
     "slide_type": "slide"
    }
   },
   "source": [
    "### seules les classes built-in sont immutables"
   ]
  },
  {
   "cell_type": "markdown",
   "metadata": {
    "run_control": {
     "frozen": false,
     "read_only": false
    }
   },
   "source": [
    "* l’impact d’une modification d’une classe built-in  \n",
    "  serait trop important et pourrait même  \n",
    "  casser le fonctionnement de l’interpréteur"
   ]
  },
  {
   "cell_type": "code",
   "execution_count": null,
   "metadata": {
    "run_control": {
     "frozen": false,
     "read_only": false
    }
   },
   "outputs": [],
   "source": [
    "try:\n",
    "    int.__pow__ = False\n",
    "except Exception as e:\n",
    "    import traceback; traceback.print_exc()"
   ]
  },
  {
   "cell_type": "markdown",
   "metadata": {
    "run_control": {
     "frozen": false,
     "read_only": false
    },
    "slideshow": {
     "slide_type": "slide"
    }
   },
   "source": [
    "#### seules les classes built-in sont immutables"
   ]
  },
  {
   "cell_type": "markdown",
   "metadata": {
    "run_control": {
     "frozen": false,
     "read_only": false
    }
   },
   "source": [
    "* le `__dict__` d’un built-in est en lecture seule"
   ]
  },
  {
   "cell_type": "code",
   "execution_count": null,
   "metadata": {
    "run_control": {
     "frozen": false,
     "read_only": false
    }
   },
   "outputs": [],
   "source": [
    "try:\n",
    "    int.__dict__[\"__pow__\"] = False\n",
    "except Exception as e:\n",
    "    import traceback; traceback.print_exc()"
   ]
  },
  {
   "cell_type": "markdown",
   "metadata": {
    "run_control": {
     "frozen": false,
     "read_only": false
    },
    "slideshow": {
     "slide_type": "slide"
    }
   },
   "source": [
    "#### seules les classes built-in sont immutables"
   ]
  },
  {
   "cell_type": "markdown",
   "metadata": {
    "run_control": {
     "frozen": false,
     "read_only": false
    }
   },
   "source": [
    "* un `mappingproxy` est un objet qui joue le rôle de proxy  \n",
    "  pour un `dict` de manière à le rendre en lecture seule\n",
    "\n",
    "* les classes sont des objets mutables, mais   \n",
    "  elles utilisent comme dictionnaire   \n",
    "  pour l’espace de nommage un `mappingproxy`  \n",
    "  de manière à protéger l’espace de nommage"
   ]
  },
  {
   "cell_type": "markdown",
   "metadata": {
    "run_control": {
     "frozen": false,
     "read_only": false
    },
    "slideshow": {
     "slide_type": "slide"
    }
   },
   "source": [
    "#### seules les classes built-in sont immutables"
   ]
  },
  {
   "cell_type": "code",
   "execution_count": null,
   "metadata": {
    "run_control": {
     "frozen": false,
     "read_only": false
    }
   },
   "outputs": [],
   "source": [
    "class C:\n",
    "    pass\n",
    "\n",
    "# en ajoutant un attribut on modifie le __dict__\n",
    "C.test = 10\n",
    "list(C.__dict__)"
   ]
  },
  {
   "cell_type": "code",
   "execution_count": null,
   "metadata": {
    "run_control": {
     "frozen": false,
     "read_only": false
    }
   },
   "outputs": [],
   "source": [
    "# mais on ne peut pas modifier le __dict__ directement\n",
    "try:\n",
    "    C.__dict__['spam'] = 100\n",
    "except Exception as e:\n",
    "    import traceback; traceback.print_exc()"
   ]
  },
  {
   "cell_type": "markdown",
   "metadata": {
    "run_control": {
     "frozen": false,
     "read_only": false
    },
    "slideshow": {
     "slide_type": "slide"
    }
   },
   "source": [
    "## recherche dans l’arbre d’héritage"
   ]
  },
  {
   "cell_type": "markdown",
   "metadata": {
    "run_control": {
     "frozen": false,
     "read_only": false
    }
   },
   "source": [
    "* MRO : method resolution order\n",
    "* l’algorithme est le suivant\n",
    "  * liste toutes les super-classes en utilisant  \n",
    "    un algorithme DFLR (depth first, left to right)\n",
    "\n",
    "  * si classe dupliquée,   \n",
    "    **ne garder que la dernière** occurrence\n",
    "\n",
    "* chaque classe possède\n",
    "  * un attribut `__mro__` (tuple)\n",
    "  * et la fonction `mro()` (liste)"
   ]
  },
  {
   "cell_type": "markdown",
   "metadata": {
    "cell_style": "split",
    "run_control": {
     "frozen": false,
     "read_only": false
    },
    "slideshow": {
     "slide_type": "slide"
    }
   },
   "source": [
    "![MRO](pictures/mro.png)"
   ]
  },
  {
   "cell_type": "code",
   "execution_count": null,
   "metadata": {
    "cell_style": "split",
    "run_control": {
     "frozen": false,
     "read_only": false
    }
   },
   "outputs": [],
   "source": [
    "class A: pass\n",
    "class B(A): pass\n",
    "class C(A): pass\n",
    "class D(B, C): pass"
   ]
  },
  {
   "cell_type": "markdown",
   "metadata": {
    "run_control": {
     "frozen": false,
     "read_only": false
    }
   },
   "source": [
    "* parcours DFLR: `D`, `B`, `A`, `object`, `C`, `A`, `object`\n",
    "* suppressions : `D`, `B`, ~~`A`~~, ~~`object`~~, `C`, `A`, `object`"
   ]
  },
  {
   "cell_type": "code",
   "execution_count": null,
   "metadata": {
    "cell_style": "split",
    "run_control": {
     "frozen": false,
     "read_only": false
    }
   },
   "outputs": [],
   "source": [
    "D.__mro__"
   ]
  },
  {
   "cell_type": "code",
   "execution_count": null,
   "metadata": {
    "cell_style": "split",
    "run_control": {
     "frozen": false,
     "read_only": false
    }
   },
   "outputs": [],
   "source": [
    "C.mro()"
   ]
  },
  {
   "cell_type": "markdown",
   "metadata": {
    "run_control": {
     "frozen": false,
     "read_only": false
    },
    "slideshow": {
     "slide_type": "slide"
    }
   },
   "source": [
    "### pour aller plus loin"
   ]
  },
  {
   "cell_type": "markdown",
   "metadata": {
    "run_control": {
     "frozen": false,
     "read_only": false
    }
   },
   "source": [
    "* https://www.python.org/download/releases/2.3/mro/\n",
    "* Python utilise l’algorithme C3 qui est légèrement plus compliqué que ce que j’ai expliqué (la différence n’apparaitra que dans des cas très particuliers)\n",
    "* https://en.wikipedia.org/wiki/C3_linearization"
   ]
  },
  {
   "cell_type": "markdown",
   "metadata": {
    "run_control": {
     "frozen": false,
     "read_only": false
    },
    "slideshow": {
     "slide_type": "slide"
    }
   },
   "source": [
    "## appel méthode de super-classe"
   ]
  },
  {
   "cell_type": "markdown",
   "metadata": {
    "run_control": {
     "frozen": false,
     "read_only": false
    }
   },
   "source": [
    "* nécessaire lorsque la spécialisation  \n",
    "  consiste à ajouter ou modifier  \n",
    "  par rapport à la méthode héritée\n",
    "\n",
    "* le cas typique est d'ailleurs le constructeur  \n",
    "  dès qu'on ajoute un attribut de donnée"
   ]
  },
  {
   "cell_type": "code",
   "execution_count": null,
   "metadata": {
    "cell_style": "split",
    "run_control": {
     "frozen": false,
     "read_only": false
    },
    "slideshow": {
     "slide_type": "slide"
    }
   },
   "outputs": [],
   "source": [
    "class C:\n",
    "    def __init__(self, x):\n",
    "        print(\"init x par superclasse\")\n",
    "        self.x = x\n",
    "\n",
    "class D(C):\n",
    "\n",
    "    # comme D hérite de C\n",
    "    # il faut initialiser C correctement        \n",
    "    def __init__(self, x, y):\n",
    "        # par exemple\n",
    "        C.__init__(self, x)\n",
    "        print(\"init y par classe\")\n",
    "        self.y = y\n"
   ]
  },
  {
   "cell_type": "code",
   "execution_count": null,
   "metadata": {
    "cell_style": "split",
    "run_control": {
     "frozen": false,
     "read_only": false
    }
   },
   "outputs": [],
   "source": [
    "c = C(10)"
   ]
  },
  {
   "cell_type": "code",
   "execution_count": null,
   "metadata": {
    "cell_style": "split",
    "run_control": {
     "frozen": false,
     "read_only": false
    }
   },
   "outputs": [],
   "source": [
    "d = D(100, 200)"
   ]
  },
  {
   "cell_type": "markdown",
   "metadata": {
    "run_control": {
     "frozen": false,
     "read_only": false
    },
    "slideshow": {
     "slide_type": "slide"
    }
   },
   "source": [
    "### deux écoles"
   ]
  },
  {
   "cell_type": "markdown",
   "metadata": {
    "run_control": {
     "frozen": false,
     "read_only": false
    }
   },
   "source": [
    "* on peut être **explicite**  \n",
    "  dans notre cas la classe `D` sait exactement  \n",
    "  (statiquement) qu'elle hérite de `C`  \n",
    "  `D.__init__()` appelle `C.__init__()` explicitement\n",
    "\n",
    "* il est cependant des cas  \n",
    "  où on n'a pas forcément cette information\n",
    "\n",
    "* selon que les super-classes sont  \n",
    "  dans la même librairie  \n",
    "  ou dans une librairie tierce - qui peut changer"
   ]
  },
  {
   "cell_type": "markdown",
   "metadata": {
    "run_control": {
     "frozen": false,
     "read_only": false
    },
    "slideshow": {
     "slide_type": "slide"
    }
   },
   "source": [
    "### `super()`"
   ]
  },
  {
   "cell_type": "markdown",
   "metadata": {
    "run_control": {
     "frozen": false,
     "read_only": false
    }
   },
   "source": [
    "* la méthode `super()` permet d'adresser ce problème\n",
    "* et d’appeler une méthode dans *une* super classe\n",
    "* sans avoir à spécifier laquelle\n",
    "* c'est l'héritage qui joue"
   ]
  },
  {
   "cell_type": "code",
   "execution_count": null,
   "metadata": {
    "cell_style": "split",
    "run_control": {
     "frozen": false,
     "read_only": false
    },
    "slideshow": {
     "slide_type": "slide"
    }
   },
   "outputs": [],
   "source": [
    "# super() est souvent rencontrée \n",
    "# dans __init__ mais s'applique \n",
    "# partout\n",
    "class C:\n",
    "    def f(self):\n",
    "        print('spam')        "
   ]
  },
  {
   "cell_type": "code",
   "execution_count": null,
   "metadata": {
    "cell_style": "split",
    "run_control": {
     "frozen": false,
     "read_only": false
    },
    "slideshow": {
     "slide_type": ""
    }
   },
   "outputs": [],
   "source": [
    "class D(C):\n",
    "    def f(self):\n",
    "        # remarquez l'absence \n",
    "        # de self !\n",
    "        super().f()\n",
    "        print('beans')"
   ]
  },
  {
   "cell_type": "code",
   "execution_count": null,
   "metadata": {
    "cell_style": "split",
    "run_control": {
     "frozen": false,
     "read_only": false
    }
   },
   "outputs": [],
   "source": [
    "c = C(); c.f()"
   ]
  },
  {
   "cell_type": "code",
   "execution_count": null,
   "metadata": {
    "cell_style": "split",
    "run_control": {
     "frozen": false,
     "read_only": false
    }
   },
   "outputs": [],
   "source": [
    "d = D(); d.f()"
   ]
  },
  {
   "cell_type": "markdown",
   "metadata": {
    "run_control": {
     "frozen": false,
     "read_only": false
    },
    "slideshow": {
     "slide_type": "slide"
    }
   },
   "source": [
    "### `super()` a ses limites"
   ]
  },
  {
   "cell_type": "markdown",
   "metadata": {
    "run_control": {
     "frozen": false,
     "read_only": false
    }
   },
   "source": [
    "* ça semble très pratique, mais potentiellement dangereux  \n",
    "  puisque la résolution est implicite et non explicite\n",
    "\n",
    "* `super()` suit l’ordre donné par la MRO et risque donc d’appeler une méthode d’une classe sœur\n",
    "* `super()` renvoie un objet sur lequel envoyer la méthode  \n",
    "  du coup pas besoin de référence à `self` (erreur fréquente au début)"
   ]
  },
  {
   "cell_type": "markdown",
   "metadata": {
    "run_control": {
     "frozen": false,
     "read_only": false
    },
    "slideshow": {
     "slide_type": "slide"
    }
   },
   "source": [
    "#### `super()` "
   ]
  },
  {
   "cell_type": "markdown",
   "metadata": {
    "cell_style": "split",
    "run_control": {
     "frozen": false,
     "read_only": false
    },
    "slideshow": {
     "slide_type": ""
    }
   },
   "source": [
    "* `super()` présente l'intérêt marginal de ne pas avoir à répéter la super-classe\n",
    "\n",
    "* sinon `super()` n’est utile que dans des cas très spécifiques\n",
    "  * on change à l’exécution l’arbre d’héritage (donc on ne peut pas spécifier en dur la super classe)\n",
    "  * on a des méthodes de même nom dans des super classes (héritage multiple) dans un schéma en losange"
   ]
  },
  {
   "cell_type": "code",
   "execution_count": null,
   "metadata": {
    "cell_style": "split",
    "run_control": {
     "frozen": false,
     "read_only": false
    },
    "slideshow": {
     "slide_type": ""
    }
   },
   "outputs": [],
   "source": [
    "class A:\n",
    "    def f(self):\n",
    "        print('A')\n",
    "class B:\n",
    "    def f(self):\n",
    "        print('B')"
   ]
  },
  {
   "cell_type": "code",
   "execution_count": null,
   "metadata": {
    "cell_style": "split",
    "run_control": {
     "frozen": false,
     "read_only": false
    }
   },
   "outputs": [],
   "source": [
    "# comme A apparait en premier\n",
    "# c'est A.f() qui est appelé \n",
    "# par super().f()\n",
    "\n",
    "class C(A, B):\n",
    "    def f(self):\n",
    "        super().f()\n",
    "        print('C')"
   ]
  },
  {
   "cell_type": "code",
   "execution_count": null,
   "metadata": {
    "cell_style": "split",
    "run_control": {
     "frozen": false,
     "read_only": false
    }
   },
   "outputs": [],
   "source": [
    "c = C()\n",
    "c.f()"
   ]
  },
  {
   "cell_type": "markdown",
   "metadata": {
    "cell_style": "center",
    "run_control": {
     "frozen": false,
     "read_only": false
    }
   },
   "source": [
    "* `super()` n’appelle **que la première** méthode  \n",
    "  trouvée sur le chemin de la MRO,  \n",
    "  et **non les deux** comme on pourrait le croire ou le vouloir"
   ]
  },
  {
   "cell_type": "code",
   "execution_count": null,
   "metadata": {
    "cell_style": "split",
    "run_control": {
     "frozen": false,
     "read_only": false
    },
    "slideshow": {
     "slide_type": "slide"
    }
   },
   "outputs": [],
   "source": [
    "class A:\n",
    "    def f(self):\n",
    "        print('A')\n",
    "        \n",
    "class B:\n",
    "    def f(self):\n",
    "        print('B')"
   ]
  },
  {
   "cell_type": "code",
   "execution_count": null,
   "metadata": {
    "cell_style": "split",
    "run_control": {
     "frozen": false,
     "read_only": false
    },
    "slideshow": {
     "slide_type": ""
    }
   },
   "outputs": [],
   "source": [
    "# si on les échange\n",
    "# on change aussi le sens\n",
    "# de super().f()\n",
    "class C(B, A):\n",
    "    def f(self):\n",
    "        super().f()\n",
    "        print('C')"
   ]
  },
  {
   "cell_type": "code",
   "execution_count": null,
   "metadata": {
    "run_control": {
     "frozen": false,
     "read_only": false
    }
   },
   "outputs": [],
   "source": [
    "C().f()"
   ]
  }
 ],
 "metadata": {
  "celltoolbar": "Slideshow",
  "jupytext": {
   "cell_metadata_filter": "all",
   "formats": "ipynb",
   "notebook_metadata_filter": "all,-language_info"
  },
  "kernelspec": {
   "display_name": "Python 3",
   "language": "python",
   "name": "python3"
  },
  "language_info": {
   "codemirror_mode": {
    "name": "ipython",
    "version": 3
   },
   "file_extension": ".py",
   "mimetype": "text/x-python",
   "name": "python",
   "nbconvert_exporter": "python",
   "pygments_lexer": "ipython3",
   "version": "3.7.4"
  },
  "notebookname": "héritage",
  "rise": {
   "autolaunch": true,
   "slideNumber": "c/t",
   "start_slideshow_at": "selected",
   "theme": "sky",
   "transition": "cube"
  },
  "toc": {
   "base_numbering": 1,
   "nav_menu": {},
   "number_sections": true,
   "sideBar": true,
   "skip_h1_title": false,
   "title_cell": "Table of Contents",
   "title_sidebar": "Contents",
   "toc_cell": false,
   "toc_position": {
    "height": "calc(100% - 180px)",
    "left": "10px",
    "top": "150px",
    "width": "376.594px"
   },
   "toc_section_display": true,
   "toc_window_display": true
  },
  "version": "1.0"
 },
 "nbformat": 4,
 "nbformat_minor": 2
}
