{
 "cells": [
  {
   "cell_type": "markdown",
   "metadata": {},
   "source": [
    "<div class=\"licence\">\n",
    "<span>Licence CC BY-NC-ND</span>\n",
    "<span>Thierry Parmentelat &amp; Arnaud Legout</span>\n",
    "</div>"
   ]
  },
  {
   "cell_type": "code",
   "execution_count": null,
   "metadata": {},
   "outputs": [],
   "source": [
    "from plan import plan; plan(\"types\", \"regexps\")"
   ]
  },
  {
   "cell_type": "markdown",
   "metadata": {
    "slideshow": {
     "slide_type": "slide"
    }
   },
   "source": [
    "### expressions régulières"
   ]
  },
  {
   "cell_type": "markdown",
   "metadata": {},
   "source": [
    "* notion transverse aux langages de programmation\n",
    "* présente dans la plupart d'entre eux\n",
    "* en particulier historiquement Perl  \n",
    "  qui en avait fait un *first-class citizen* "
   ]
  },
  {
   "cell_type": "markdown",
   "metadata": {
    "slideshow": {
     "slide_type": "slide"
    }
   },
   "source": [
    "### exemples\n",
    "\n",
    "* `a*` pour reconnaître tous les mots composés de 0 ou plusieurs `a`\n",
    "  * `''`, `'a'`, `'aa'`, … sont les mots qui *matchent*\n",
    "* `(ab)+` : toutes les suites de au moins 1 occurrence de `ab`  \n",
    "  * `'ab'`, `'abab'`, `'ababab'`, … sont les mots qui *matchent*"
   ]
  },
  {
   "cell_type": "markdown",
   "metadata": {
    "slideshow": {
     "slide_type": "slide"
    }
   },
   "source": [
    "### le module `re`"
   ]
  },
  {
   "cell_type": "markdown",
   "metadata": {},
   "source": [
    "en Python, les expressions régulières sont accessibles au travers du module `re`"
   ]
  },
  {
   "cell_type": "code",
   "execution_count": null,
   "metadata": {},
   "outputs": [],
   "source": [
    "import re\n",
    "\n",
    "# en anglais on dit pattern\n",
    "# en français on dit filtre, \n",
    "# ou encore parfois motif\n",
    "pattern = \"a*\"\n",
    "\n",
    "# la fonction `match` \n",
    "re.match(pattern, '')"
   ]
  },
  {
   "cell_type": "code",
   "execution_count": null,
   "metadata": {
    "cell_style": "split"
   },
   "outputs": [],
   "source": [
    "re.match(pattern, 'a')"
   ]
  },
  {
   "cell_type": "code",
   "execution_count": null,
   "metadata": {
    "cell_style": "split"
   },
   "outputs": [],
   "source": [
    "re.match(pattern, 'aa')"
   ]
  },
  {
   "cell_type": "code",
   "execution_count": null,
   "metadata": {
    "cell_style": "split"
   },
   "outputs": [],
   "source": [
    "re.match('(ab)+', 'ab')"
   ]
  },
  {
   "cell_type": "code",
   "execution_count": null,
   "metadata": {
    "cell_style": "split"
   },
   "outputs": [],
   "source": [
    "# retourne None\n",
    "re.match('(ab)+', 'ba')"
   ]
  },
  {
   "cell_type": "markdown",
   "metadata": {
    "slideshow": {
     "slide_type": "slide"
    }
   },
   "source": [
    "### `re.match()` \n",
    "\n",
    "* **ATTENTION** car `re.match()` vérifie si l'expression régulière peut être trouvée **au début** de la chaine"
   ]
  },
  {
   "cell_type": "code",
   "execution_count": null,
   "metadata": {
    "cell_style": "center"
   },
   "outputs": [],
   "source": [
    "match = re.match('(ab)+', 'ababzzz')\n",
    "match"
   ]
  },
  {
   "cell_type": "code",
   "execution_count": null,
   "metadata": {
    "cell_style": "split"
   },
   "outputs": [],
   "source": [
    "match.start()"
   ]
  },
  {
   "cell_type": "code",
   "execution_count": null,
   "metadata": {
    "cell_style": "split"
   },
   "outputs": [],
   "source": [
    "match.end()"
   ]
  },
  {
   "cell_type": "markdown",
   "metadata": {
    "slideshow": {
     "slide_type": "slide"
    }
   },
   "source": [
    "### les objets `Match` \n",
    "\n",
    "* le résultat de `re.match()` est de type `Match` \n",
    "* pour les détails de ce qui a été trouvé\n",
    "* par exemple quelle partie de la chaine\n",
    "* et aussi les sous-chaines correspondant aux groupes  \n",
    "  (on en reparlera)\n"
   ]
  },
  {
   "cell_type": "markdown",
   "metadata": {
    "slideshow": {
     "slide_type": "slide"
    }
   },
   "source": [
    "### variantes \n",
    "\n",
    "* `re.search()` pour chercher le pattern n'importe où dans la chaine\n",
    "* `re.findall()` et `re.finditer()` pour trouver toutes les occurences du filtre dans la chaine\n",
    "* `re.sub()` pour remplacer …\n",
    "\n",
    "**notre sujet**\n",
    "\n",
    "* ici nous nous intéressons surtout à la façon de **construire les regexps**\n",
    "* se reporter à la documentation du module pour ces variantes"
   ]
  },
  {
   "cell_type": "markdown",
   "metadata": {
    "slideshow": {
     "slide_type": "slide"
    }
   },
   "source": [
    "### pour visualiser"
   ]
  },
  {
   "cell_type": "code",
   "execution_count": null,
   "metadata": {},
   "outputs": [],
   "source": [
    "# digression : un utilitaire pour montrer\n",
    "# le comportement d'un pattern / filtre\n",
    "\n",
    "def match_all(pattern, strings):\n",
    "    \"\"\"\n",
    "    match a pattern agains a set of strings and shows result\n",
    "    \"\"\"\n",
    "    margin = max(len(x) for x in strings) + 2 # for the quotes\n",
    "    for string in strings:\n",
    "        print(f\"`{pattern}` ⇆ {'`'+string+'`':>{margin}} → \", end=\"\")\n",
    "        match = re.match(pattern, string)\n",
    "        if not match:\n",
    "            print(\"NO\")\n",
    "        elif not (match.start() == 0 and match.end() == len(string)):\n",
    "            # start() is always 0\n",
    "            print(f\"NO (yes until {match.end()})\")\n",
    "        else:\n",
    "            print(\"YES\")"
   ]
  },
  {
   "cell_type": "code",
   "execution_count": null,
   "metadata": {
    "cell_style": "center"
   },
   "outputs": [],
   "source": [
    "match_all('(ab)+', ['ab', 'abab', 'ababzzz', ''])"
   ]
  },
  {
   "cell_type": "markdown",
   "metadata": {
    "slideshow": {
     "slide_type": "slide"
    }
   },
   "source": [
    "### filtrer **un seul** caractère : `[..]`\n",
    "\n",
    "* avec les `[]` on peut désigner un **ensemble** de caractères :\n",
    "* `[a-z]` les lettres minuscules\n",
    "* `[a-zA-Z0-9_]` les lettres et chiffres et underscore"
   ]
  },
  {
   "cell_type": "code",
   "execution_count": null,
   "metadata": {
    "cell_style": "split"
   },
   "outputs": [],
   "source": [
    "match_all('[a-z]', ['a', '', '0'])"
   ]
  },
  {
   "cell_type": "code",
   "execution_count": null,
   "metadata": {
    "cell_style": "split"
   },
   "outputs": [],
   "source": [
    "match_all('[a-z0-9]', ['a', '9', '-'])"
   ]
  },
  {
   "cell_type": "code",
   "execution_count": null,
   "metadata": {
    "cell_style": "center"
   },
   "outputs": [],
   "source": [
    "# poubn insérer un '-', le mettre à la fin\n",
    "match_all('[0-9+-]', ['0', '+', '-', 'A'])"
   ]
  },
  {
   "cell_type": "markdown",
   "metadata": {
    "slideshow": {
     "slide_type": "slide"
    }
   },
   "source": [
    "### n'importe quel caractère : `.`"
   ]
  },
  {
   "cell_type": "code",
   "execution_count": null,
   "metadata": {},
   "outputs": [],
   "source": [
    "match_all('.', ['', 'a', '.', 'Θ', 'ab'])"
   ]
  },
  {
   "cell_type": "markdown",
   "metadata": {
    "cell_style": "split"
   },
   "source": [
    "### idem mais à l'envers : `[^..]`\n",
    "\n",
    "* si l'ensemble de caractères entre `[]` commence par un `^`\n",
    "* cela désigne le **complémentaire** dans l'espace des caractères"
   ]
  },
  {
   "cell_type": "code",
   "execution_count": null,
   "metadata": {
    "cell_style": "split"
   },
   "outputs": [],
   "source": [
    "# complémentaires\n",
    "match_all('[^a-z]', ['a', '0', '↑', 'Θ'])"
   ]
  },
  {
   "cell_type": "code",
   "execution_count": null,
   "metadata": {
    "cell_style": "split"
   },
   "outputs": [],
   "source": [
    "match_all('[^a-z0-9]', ['a', '9', '-'])"
   ]
  },
  {
   "cell_type": "markdown",
   "metadata": {
    "slideshow": {
     "slide_type": "slide"
    }
   },
   "source": [
    "### 0 ou plusieurs occurrences : `..*`"
   ]
  },
  {
   "cell_type": "code",
   "execution_count": null,
   "metadata": {
    "cell_style": "split"
   },
   "outputs": [],
   "source": [
    "match_all('[a-z]*', ['', 'cba', 'xyz9'])"
   ]
  },
  {
   "cell_type": "code",
   "execution_count": null,
   "metadata": {
    "cell_style": "split"
   },
   "outputs": [],
   "source": [
    "match_all('(ab)*', ['', 'ab', 'abab'])"
   ]
  },
  {
   "cell_type": "markdown",
   "metadata": {
    "slideshow": {
     "slide_type": "slide"
    }
   },
   "source": [
    "### 1 ou plusieurs occurrences : `..+`"
   ]
  },
  {
   "cell_type": "code",
   "execution_count": null,
   "metadata": {
    "cell_style": "split"
   },
   "outputs": [],
   "source": [
    "match_all('[a-z]+', ['', 'cba', 'xyz9'])"
   ]
  },
  {
   "cell_type": "code",
   "execution_count": null,
   "metadata": {
    "cell_style": "split"
   },
   "outputs": [],
   "source": [
    "match_all('(ab)+', ['', 'ab', 'abab'])"
   ]
  },
  {
   "cell_type": "markdown",
   "metadata": {
    "slideshow": {
     "slide_type": "slide"
    }
   },
   "source": [
    "### concaténation\n",
    "\n",
    "quand on concatène deux filtres, la chaine doit matcher l'un puis l'autre"
   ]
  },
  {
   "cell_type": "code",
   "execution_count": null,
   "metadata": {
    "cell_style": "split"
   },
   "outputs": [],
   "source": [
    "# c'est le seul mot qui matche\n",
    "match_all('ABC', ['ABC']) "
   ]
  },
  {
   "cell_type": "code",
   "execution_count": null,
   "metadata": {
    "cell_style": "split"
   },
   "outputs": [],
   "source": [
    "match_all('A*B', ['B', 'AB', 'AAB', 'AAAB']) "
   ]
  },
  {
   "cell_type": "markdown",
   "metadata": {
    "slideshow": {
     "slide_type": "slide"
    }
   },
   "source": [
    "### groupement : `(..)`"
   ]
  },
  {
   "cell_type": "markdown",
   "metadata": {},
   "source": [
    "* comme déjà vu avec `(ab)+`\n",
    "  * permet d'appliquer un opérateur sur une regexp\n",
    "* cela définit un **groupe** qui peut être retrouvé dans le match\n",
    "  * grâce à la méthode `groups()` "
   ]
  },
  {
   "cell_type": "code",
   "execution_count": null,
   "metadata": {
    "cell_style": "split"
   },
   "outputs": [],
   "source": [
    "# groupes anonymes\n",
    "pattern = \"([a-z]+)=([a-z0-9]+)\"\n",
    "\n",
    "string = \"foo=barbar99\"\n",
    "\n",
    "match = re.match(pattern, string)\n",
    "match"
   ]
  },
  {
   "cell_type": "code",
   "execution_count": null,
   "metadata": {
    "cell_style": "split"
   },
   "outputs": [],
   "source": [
    "# dans l'ordre où ils apparaissent\n",
    "match.groups()"
   ]
  },
  {
   "cell_type": "markdown",
   "metadata": {},
   "source": [
    "### alternative : `..|..`"
   ]
  },
  {
   "cell_type": "markdown",
   "metadata": {},
   "source": [
    "pour filtrer avec une regexp **ou** une autre :"
   ]
  },
  {
   "cell_type": "code",
   "execution_count": null,
   "metadata": {
    "cell_style": "split"
   },
   "outputs": [],
   "source": [
    "match_all('ab|cd', ['ab', 'cd', 'abcd'])"
   ]
  },
  {
   "cell_type": "code",
   "execution_count": null,
   "metadata": {
    "cell_style": "split"
   },
   "outputs": [],
   "source": [
    "match_all('ab|cd*', ['ab', 'c', 'cd', 'cdd'])"
   ]
  },
  {
   "cell_type": "code",
   "execution_count": null,
   "metadata": {
    "cell_style": "split"
   },
   "outputs": [],
   "source": [
    "match_all('ab|(cd)*', ['ab', 'c', 'cd', 'cdd'])"
   ]
  },
  {
   "cell_type": "code",
   "execution_count": null,
   "metadata": {
    "cell_style": "split"
   },
   "outputs": [],
   "source": [
    "match_all('(ab|cd)*', ['ab', 'c', 'cd', 'cdd', 'abcd'])"
   ]
  },
  {
   "cell_type": "markdown",
   "metadata": {
    "slideshow": {
     "slide_type": "slide"
    }
   },
   "source": [
    "### 0 ou 1 occurrences : `..?`"
   ]
  },
  {
   "cell_type": "code",
   "execution_count": null,
   "metadata": {
    "cell_style": "split"
   },
   "outputs": [],
   "source": [
    "match_all('[a-z]?', ['', 'b', 'xy'])"
   ]
  },
  {
   "cell_type": "markdown",
   "metadata": {
    "slideshow": {
     "slide_type": "slide"
    }
   },
   "source": [
    "### nombre d'occurrences dans un intervalle : `..{n,m}`"
   ]
  },
  {
   "cell_type": "markdown",
   "metadata": {},
   "source": [
    "* `a{3}` : exactement 3 occurrences de `a`\n",
    "* `a{3,}` : au moins 3 occurrences\n",
    "* `a{3,6}` : entre 3 et 6 occurrences"
   ]
  },
  {
   "cell_type": "code",
   "execution_count": null,
   "metadata": {
    "cell_style": "split"
   },
   "outputs": [],
   "source": [
    "match_all('(ab){1,3}', ['', 'ab', 'abab', 'ababab', 'ababababababab'])"
   ]
  },
  {
   "cell_type": "markdown",
   "metadata": {
    "slideshow": {
     "slide_type": "slide"
    }
   },
   "source": [
    "### classes de caractères\n",
    "\n",
    "raccourcis qui filtrent **un caractère** dans une classe  \n",
    "définis en fonction de la configuration de l'OS en termes de langue\n",
    "\n",
    "* `\\s` (pour Space) : exactement un caractère de séparation (typiquement Espace, Tabulation, Newline)\n",
    "* `\\w` (pour Word) : exactement un caractère alphabétique ou numérique\n",
    "* `\\d` (pour Digit) : un chiffre\n",
    "* `\\S`, `\\W` et `\\D` : les complémentaires"
   ]
  },
  {
   "cell_type": "code",
   "execution_count": null,
   "metadata": {
    "cell_style": "split"
   },
   "outputs": [],
   "source": [
    "match_all('\\w+', ['eFç0', 'été', ' ta98'])"
   ]
  },
  {
   "cell_type": "code",
   "execution_count": null,
   "metadata": {
    "cell_style": "split"
   },
   "outputs": [],
   "source": [
    "match_all('\\s?\\w+', ['eFç0', 'été', ' ta98'])"
   ]
  },
  {
   "cell_type": "markdown",
   "metadata": {
    "slideshow": {
     "slide_type": "slide"
    }
   },
   "source": [
    "### groupe nommé : `(?P<name>..)`\n",
    "\n",
    "* le même effet que les groupes anonymes,\n",
    "* mais on peut retrouver le contenu depuis le nom du groupe\n",
    "* plutôt que le rang du groupe\n",
    "* qui peut rapidement devenir une notion fragile / peu maintenable"
   ]
  },
  {
   "cell_type": "code",
   "execution_count": null,
   "metadata": {
    "cell_style": "center"
   },
   "outputs": [],
   "source": [
    "# groupes nommés\n",
    "pattern = \"(?P<variable>[a-z]+)=(?P<valeur>[a-z0-9]+)\"\n",
    "\n",
    "string = \"foo=barbar99\"\n",
    "\n",
    "match = re.match(pattern, string)\n",
    "match"
   ]
  },
  {
   "cell_type": "code",
   "execution_count": null,
   "metadata": {
    "cell_style": "split"
   },
   "outputs": [],
   "source": [
    "match.group('variable')"
   ]
  },
  {
   "cell_type": "code",
   "execution_count": null,
   "metadata": {
    "cell_style": "split"
   },
   "outputs": [],
   "source": [
    "match.group('valeur')"
   ]
  },
  {
   "cell_type": "markdown",
   "metadata": {
    "slideshow": {
     "slide_type": "slide"
    }
   },
   "source": [
    "### plusieurs occurrences d'un groupe : `(?P=name)`\n",
    "\n",
    "on peut spécifier qu'un groupe apparaisse plusieurs fois"
   ]
  },
  {
   "cell_type": "code",
   "execution_count": null,
   "metadata": {},
   "outputs": [],
   "source": [
    "# la deuxième occurrence de <nom> doit être la même que la première\n",
    "pattern = '(?P<nom>\\w+).*(?P=nom)'\n",
    "\n",
    "string1 = 'Jean again Jean'\n",
    "string2 = 'Jean nope Pierre'\n",
    "\n",
    "match_all(pattern, [string1, string2])"
   ]
  },
  {
   "cell_type": "markdown",
   "metadata": {
    "slideshow": {
     "slide_type": "slide"
    }
   },
   "source": [
    "### pour aller plus loin\n",
    "\n",
    "* testeurs en ligne  \n",
    "  <https://pythex.org>  \n",
    "  <https://regex101.com/> (bien choisir Python)\n",
    "\n",
    "* un peu de détente, avec ce jeu de mots croisés basé sur les regexps \n",
    "  <https://regexcrossword.com>\n",
    "\n",
    "* tour complet de la syntaxe des regexps  \n",
    "  <https://docs.python.org/3/library/re.html#regular-expression-syntax>"
   ]
  }
 ],
 "metadata": {
  "celltoolbar": "Slideshow",
  "kernelspec": {
   "display_name": "Python 3",
   "language": "python",
   "name": "python3"
  },
  "language_info": {
   "codemirror_mode": {
    "name": "ipython",
    "version": 3
   },
   "file_extension": ".py",
   "mimetype": "text/x-python",
   "name": "python",
   "nbconvert_exporter": "python",
   "pygments_lexer": "ipython3",
   "version": "3.7.4"
  },
  "notebookname": "regexps",
  "rise": {
   "autolaunch": true,
   "slideNumber": "c/t",
   "start_slideshow_at": "selected",
   "theme": "sky",
   "transition": "cube"
  },
  "version": "1.0"
 },
 "nbformat": 4,
 "nbformat_minor": 2
}
