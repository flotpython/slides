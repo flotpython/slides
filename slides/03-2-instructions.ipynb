{
 "cells": [
  {
   "cell_type": "markdown",
   "metadata": {},
   "source": [
    "<div class=\"licence\">\n",
    "<span>Licence CC BY-NC-ND</span>\n",
    "<span>Thierry Parmentelat &amp; Arnaud Legout</span>\n",
    "</div>"
   ]
  },
  {
   "cell_type": "code",
   "execution_count": null,
   "metadata": {
    "slideshow": {
     "slide_type": "slide"
    }
   },
   "outputs": [],
   "source": [
    "from plan import plan; plan(\"syntaxe\", \"instructions\")"
   ]
  },
  {
   "cell_type": "markdown",
   "metadata": {
    "run_control": {
     "frozen": false,
     "read_only": false
    },
    "slideshow": {
     "slide_type": "slide"
    }
   },
   "source": [
    "# boucle `while`"
   ]
  },
  {
   "cell_type": "markdown",
   "metadata": {
    "run_control": {
     "frozen": false,
     "read_only": false
    }
   },
   "source": [
    "```python\n",
    "while <test>:\n",
    "    bloc d_instructions\n",
    "    alignés comme on l_a vu\n",
    "else:\n",
    "    bloc     # exécuté lorsque <test> est \n",
    "    aligné   # faux s’il n’y a pas de break\n",
    "```"
   ]
  },
  {
   "cell_type": "markdown",
   "metadata": {
    "run_control": {
     "frozen": false,
     "read_only": false
    },
    "slideshow": {
     "slide_type": "slide"
    }
   },
   "source": [
    "# `break`, `continue`"
   ]
  },
  {
   "cell_type": "markdown",
   "metadata": {},
   "source": [
    "deux instructions particulières:\n",
    "\n",
    "* `continue`: abandonner ce tour de boucle, passer au suivant\n",
    "* `break`: sortir complètement de la boucle courante"
   ]
  },
  {
   "cell_type": "code",
   "execution_count": null,
   "metadata": {
    "cell_style": "split"
   },
   "outputs": [],
   "source": [
    "counter = 0\n",
    "while counter <= 5:\n",
    "    counter += 1 \n",
    "    if counter % 2 == 0:\n",
    "        continue\n",
    "    print(f\"counter={counter}\")"
   ]
  },
  {
   "cell_type": "code",
   "execution_count": null,
   "metadata": {
    "cell_style": "split"
   },
   "outputs": [],
   "source": [
    "counter = 0\n",
    "while counter <= 100:\n",
    "    counter += 1 \n",
    "    if counter %3 == 0:\n",
    "        break\n",
    "    print(f\"counter={counter}\")\n"
   ]
  },
  {
   "cell_type": "markdown",
   "metadata": {
    "run_control": {
     "frozen": false,
     "read_only": false
    },
    "slideshow": {
     "slide_type": "slide"
    }
   },
   "source": [
    "### `break`, `continue`"
   ]
  },
  {
   "cell_type": "markdown",
   "metadata": {
    "run_control": {
     "frozen": false,
     "read_only": false
    }
   },
   "source": [
    "* `break` et `continue` peuvent  être n’importe où dans une boucle\n",
    "* ils ne s’appliquent qu’à la boucle dans laquelle ils sont, \n",
    "  * mais **pas aux boucles supérieures**\n",
    "\n",
    "```python\n",
    "while <test1>:\n",
    "    while <test2>:\n",
    "        break  # sort de ‘while <test2>’, mais\n",
    "               # pas de ‘while <test1>’\n",
    "```"
   ]
  },
  {
   "cell_type": "markdown",
   "metadata": {
    "run_control": {
     "frozen": false,
     "read_only": false
    },
    "slideshow": {
     "slide_type": "slide"
    }
   },
   "source": [
    "# instruction `pass`"
   ]
  },
  {
   "cell_type": "markdown",
   "metadata": {
    "run_control": {
     "frozen": false,
     "read_only": false
    }
   },
   "source": [
    "* `pass` ne fait rien\n",
    "* il est en général utilisé lorsque la syntaxe demande une instruction, mais qu’on ne l’a pas encore implémentée"
   ]
  },
  {
   "cell_type": "code",
   "execution_count": null,
   "metadata": {
    "cell_style": "split",
    "run_control": {
     "frozen": false,
     "read_only": false
    }
   },
   "outputs": [],
   "source": [
    "def ma_fonction():\n",
    "    pass"
   ]
  },
  {
   "cell_type": "code",
   "execution_count": null,
   "metadata": {
    "cell_style": "split",
    "run_control": {
     "frozen": false,
     "read_only": false
    }
   },
   "outputs": [],
   "source": [
    "class Foo:\n",
    "    pass"
   ]
  },
  {
   "cell_type": "markdown",
   "metadata": {
    "run_control": {
     "frozen": false,
     "read_only": false
    },
    "slideshow": {
     "slide_type": "slide"
    }
   },
   "source": [
    "# les 3 formes d'affectation"
   ]
  },
  {
   "cell_type": "markdown",
   "metadata": {
    "run_control": {
     "frozen": false,
     "read_only": false
    }
   },
   "source": [
    "* (I) affectation simple"
   ]
  },
  {
   "cell_type": "code",
   "execution_count": null,
   "metadata": {
    "run_control": {
     "frozen": false,
     "read_only": false
    }
   },
   "outputs": [],
   "source": [
    "a = 'alice'\n",
    "print(a)"
   ]
  },
  {
   "cell_type": "markdown",
   "metadata": {
    "run_control": {
     "frozen": false,
     "read_only": false
    }
   },
   "source": [
    "* affectation se dit en anglais *assignment*"
   ]
  },
  {
   "cell_type": "markdown",
   "metadata": {
    "run_control": {
     "frozen": false,
     "read_only": false
    },
    "slideshow": {
     "slide_type": "slide"
    }
   },
   "source": [
    "# digression : noms de variable"
   ]
  },
  {
   "cell_type": "markdown",
   "metadata": {
    "run_control": {
     "frozen": false,
     "read_only": false
    }
   },
   "source": [
    "* suite illimitée de lettres, chiffres, underscores\n",
    "* doit commencer par une lettre ou un underscore\n",
    "* sensible à la casse\n",
    "  * `Spam` différent de `spam`\n",
    "* exemples\n",
    "  * `Spam_38`\n",
    "  * `_ma_variable`\n",
    "* en python3 on peut utiliser des caractères Unicode\n",
    "  * une pratique à utiliser avec la plus grande modération !"
   ]
  },
  {
   "cell_type": "code",
   "execution_count": null,
   "metadata": {
    "run_control": {
     "frozen": false,
     "read_only": false
    }
   },
   "outputs": [],
   "source": [
    "\"σ\" == \"𝜎\""
   ]
  },
  {
   "cell_type": "markdown",
   "metadata": {
    "run_control": {
     "frozen": false,
     "read_only": false
    },
    "slideshow": {
     "slide_type": "slide"
    }
   },
   "source": [
    "# les 3 formes d'affectation"
   ]
  },
  {
   "cell_type": "markdown",
   "metadata": {
    "run_control": {
     "frozen": false,
     "read_only": false
    }
   },
   "source": [
    "* (II) affectation multiple\n",
    "  * les variables pointent vers le même objet !\n",
    "  * on crée donc une référence partagée"
   ]
  },
  {
   "cell_type": "code",
   "execution_count": null,
   "metadata": {
    "run_control": {
     "frozen": false,
     "read_only": false
    }
   },
   "outputs": [],
   "source": [
    "a = b = c = [1, 2, 3]\n",
    "a is b"
   ]
  },
  {
   "cell_type": "code",
   "execution_count": null,
   "metadata": {
    "run_control": {
     "frozen": false,
     "read_only": false
    }
   },
   "outputs": [],
   "source": [
    "a = [1, 2, 3]\n",
    "A = [1, 2, 3]\n",
    "a is A"
   ]
  },
  {
   "cell_type": "markdown",
   "metadata": {
    "run_control": {
     "frozen": false,
     "read_only": false
    },
    "slideshow": {
     "slide_type": "slide"
    }
   },
   "source": [
    "# les 3 formes d'affectation"
   ]
  },
  {
   "cell_type": "markdown",
   "metadata": {
    "run_control": {
     "frozen": false,
     "read_only": false
    }
   },
   "source": [
    "* (III) *unpacking*"
   ]
  },
  {
   "cell_type": "code",
   "execution_count": null,
   "metadata": {
    "run_control": {
     "frozen": false,
     "read_only": false
    }
   },
   "outputs": [],
   "source": [
    "a, b, c = 'alice', 'bob', 'charlie'\n",
    "print(b)"
   ]
  },
  {
   "cell_type": "markdown",
   "metadata": {},
   "source": [
    "  * il faut la même forme à grauche et à droite\n",
    "  * mais les types sont indifférents"
   ]
  },
  {
   "cell_type": "markdown",
   "metadata": {
    "run_control": {
     "frozen": false,
     "read_only": false
    },
    "slideshow": {
     "slide_type": "slide"
    }
   },
   "source": [
    "### *unpacking*"
   ]
  },
  {
   "cell_type": "code",
   "execution_count": null,
   "metadata": {
    "cell_style": "split",
    "run_control": {
     "frozen": false,
     "read_only": false
    }
   },
   "outputs": [],
   "source": [
    "# on peut utiliser:\n",
    "# à droite un tuple, ou une liste\n",
    "a, b, c = [1, 2, 3]\n",
    "b"
   ]
  },
  {
   "cell_type": "code",
   "execution_count": null,
   "metadata": {
    "cell_style": "split",
    "run_control": {
     "frozen": false,
     "read_only": false
    }
   },
   "outputs": [],
   "source": [
    "# et même une chaîne\n",
    "# tant que c'est un type ordonné\n",
    "a, b, c = '123'\n",
    "c"
   ]
  },
  {
   "cell_type": "code",
   "execution_count": null,
   "metadata": {
    "run_control": {
     "frozen": false,
     "read_only": false
    }
   },
   "outputs": [],
   "source": [
    "# mais il faut le bon nombre de variables\n",
    "try:\n",
    "    a, b, c = 'xy'\n",
    "except Exception as e:\n",
    "    print(\"exception :\", e)"
   ]
  },
  {
   "cell_type": "markdown",
   "metadata": {
    "run_control": {
     "frozen": false,
     "read_only": false
    },
    "slideshow": {
     "slide_type": "slide"
    }
   },
   "source": [
    "### *unpacking* - permutation de variables"
   ]
  },
  {
   "cell_type": "markdown",
   "metadata": {
    "run_control": {
     "frozen": false,
     "read_only": false
    }
   },
   "source": [
    "* pour permuter deux variables, on peut simplement utiliser\n",
    "  * `a, b = b, a`\n",
    "* ça marche parce que Python va\n",
    "  * créer un tuple temporaire \n",
    "  * avec les valeurs des variables de droite `(b, a)`\n",
    "  * et **ensuite** faire pointer les variables de gauche\n",
    "  * sur les valeurs du tuple"
   ]
  },
  {
   "cell_type": "markdown",
   "metadata": {
    "run_control": {
     "frozen": false,
     "read_only": false
    },
    "slideshow": {
     "slide_type": "slide"
    }
   },
   "source": [
    "### *unpacking* - ignorer des valeurs avec `_`"
   ]
  },
  {
   "cell_type": "markdown",
   "metadata": {
    "run_control": {
     "frozen": false,
     "read_only": false
    }
   },
   "source": [
    "* lorsqu’on n'est pas intéressé par certaines valeurs\n",
    "* il est d'usage d'utiliser comme nom de variable `_`"
   ]
  },
  {
   "cell_type": "code",
   "execution_count": null,
   "metadata": {
    "run_control": {
     "frozen": false,
     "read_only": false
    }
   },
   "outputs": [],
   "source": [
    "# je ne garde pas les valeurs à la 2e et 4e position\n",
    "debut, _, milieu, _, fin = [1, 2, 3, 4, 5] \n",
    "print(debut, fin)"
   ]
  },
  {
   "cell_type": "code",
   "execution_count": null,
   "metadata": {},
   "outputs": [],
   "source": [
    "* juste un usage (`_` est un nom de variable valide)\n",
    "* certains vont mettre `ignore`\n",
    "* ne pas penser que ça induit une égalité entre la 2ème et la 4ème valeur"
   ]
  },
  {
   "cell_type": "markdown",
   "metadata": {
    "run_control": {
     "frozen": false,
     "read_only": false
    },
    "slideshow": {
     "slide_type": "slide"
    }
   },
   "source": [
    "### *unpacking*"
   ]
  },
  {
   "cell_type": "markdown",
   "metadata": {
    "run_control": {
     "frozen": false,
     "read_only": false
    }
   },
   "source": [
    "* Le terme de gauche peut être imbriqué autant que nécessaire\n",
    "* Il faut que les deux termes aient la même *forme* (pattern-matching)\n",
    "* on peut utiliser indifféremment un tuple ou une liste\n",
    "* en général un tuple, sauf si un seul élément car `[a]` est plus lisible que `(a,)`"
   ]
  },
  {
   "cell_type": "code",
   "execution_count": null,
   "metadata": {
    "cell_style": "split",
    "run_control": {
     "frozen": false,
     "read_only": false
    }
   },
   "outputs": [],
   "source": [
    "# je ne peux pas aligner le `a` avec le `1`\n",
    "obj = \\\n",
    "1, ( (2, 3), (4, [5, 6])), 6\n",
    "a, ( _,      [b, c     ]), d = obj\n",
    "print(c)"
   ]
  },
  {
   "cell_type": "code",
   "execution_count": null,
   "metadata": {
    "cell_style": "split"
   },
   "outputs": [],
   "source": [
    "_"
   ]
  },
  {
   "cell_type": "code",
   "execution_count": null,
   "metadata": {
    "cell_style": "split"
   },
   "outputs": [],
   "source": [
    "b"
   ]
  },
  {
   "cell_type": "markdown",
   "metadata": {
    "run_control": {
     "frozen": false,
     "read_only": false
    },
    "slideshow": {
     "slide_type": "slide"
    }
   },
   "source": [
    "## *extended unpacking*"
   ]
  },
  {
   "cell_type": "markdown",
   "metadata": {
    "run_control": {
     "frozen": false,
     "read_only": false
    }
   },
   "source": [
    "* on peut utiliser une notation `*` devant une (seule) variable\n",
    "* cette variable va référencer une *liste* qui regroupe  \n",
    "  tout ce qui n’est pas *unpacké* dans les autres variables\n",
    "\n",
    "* il ne peut y avoir qu’une seule variable de ce type (sinon plusieurs solutions possibles)"
   ]
  },
  {
   "cell_type": "code",
   "execution_count": null,
   "metadata": {
    "cell_style": "split",
    "run_control": {
     "frozen": false,
     "read_only": false
    },
    "slideshow": {
     "slide_type": "slide"
    }
   },
   "outputs": [],
   "source": [
    "l = [1, 2, 3, 4, 5]\n",
    "a, *b, c = l\n",
    "print(a, \"-\",  b, \"-\",  c)"
   ]
  },
  {
   "cell_type": "code",
   "execution_count": null,
   "metadata": {
    "cell_style": "split",
    "run_control": {
     "frozen": false,
     "read_only": false
    },
    "slideshow": {
     "slide_type": "fragment"
    }
   },
   "outputs": [],
   "source": [
    "\n",
    "a, *b = l\n",
    "print(a, \"-\",  b)"
   ]
  },
  {
   "cell_type": "code",
   "execution_count": null,
   "metadata": {
    "cell_style": "split",
    "run_control": {
     "frozen": false,
     "read_only": false
    },
    "slideshow": {
     "slide_type": "fragment"
    }
   },
   "outputs": [],
   "source": [
    "*a, b = l\n",
    "print(a, \"-\",  b)"
   ]
  },
  {
   "cell_type": "code",
   "execution_count": null,
   "metadata": {
    "cell_style": "split",
    "run_control": {
     "frozen": false,
     "read_only": false
    },
    "slideshow": {
     "slide_type": "fragment"
    }
   },
   "outputs": [],
   "source": [
    "a, b, c, d, e, *f = l\n",
    "print(a, \"-\",  b, \"--\",  e, \"-\",  f)"
   ]
  },
  {
   "cell_type": "markdown",
   "metadata": {
    "slideshow": {
     "slide_type": "slide"
    }
   },
   "source": [
    "### affectation et boucle `for`"
   ]
  },
  {
   "cell_type": "markdown",
   "metadata": {},
   "source": [
    "* pour anticiper un peu sur les boucles `for`\n",
    "* l'affectation a lieu aussi à chaque itération de boucle"
   ]
  },
  {
   "cell_type": "code",
   "execution_count": null,
   "metadata": {
    "cell_style": "split"
   },
   "outputs": [],
   "source": [
    "liste = [1, 10, 100]\n",
    "for item in liste:\n",
    "    print(item, end=\" \")"
   ]
  },
  {
   "cell_type": "code",
   "execution_count": null,
   "metadata": {
    "cell_style": "split"
   },
   "outputs": [],
   "source": [
    "liste = ([1, 2], [10, 20], [100, 200])\n",
    "for a, b in liste:\n",
    "    print(f\"{a}x{b}\", end=\" \")"
   ]
  },
  {
   "cell_type": "code",
   "execution_count": null,
   "metadata": {
    "run_control": {
     "frozen": false,
     "read_only": false
    },
    "slideshow": {
     "slide_type": ""
    }
   },
   "outputs": [],
   "source": [
    "liste = [(1, 2), ('a', 'b', 'c', 'd')]\n",
    "for a, *b in liste:\n",
    "    print(a, \"-\",  b)"
   ]
  },
  {
   "cell_type": "markdown",
   "metadata": {
    "slideshow": {
     "slide_type": "slide"
    }
   },
   "source": [
    "# expression d'affectation"
   ]
  },
  {
   "cell_type": "markdown",
   "metadata": {
    "cell_style": "center"
   },
   "source": [
    "* disponible dans la 3.8 seulement\n",
    "* une **expression** d'affectation\n",
    "* https://www.python.org/dev/peps/pep-0572/"
   ]
  },
  {
   "cell_type": "markdown",
   "metadata": {
    "cell_style": "center"
   },
   "source": [
    "* `variable := expression`\n",
    "* beaucoup plus limitée que la forme **instruction**\n",
    "  * pas de *unpacking*\n",
    "  * pas de `seq[i] := expression`\n",
    "  * ni de `var.attribut := expression`\n"
   ]
  },
  {
   "cell_type": "markdown",
   "metadata": {
    "slideshow": {
     "slide_type": "slide"
    }
   },
   "source": [
    "### expression d'affectation"
   ]
  },
  {
   "cell_type": "code",
   "execution_count": null,
   "metadata": {
    "cell_style": "center"
   },
   "outputs": [],
   "source": [
    "CHUNK = 20 * 1024\n",
    "with open(\"../data/hamlet.txt\") as feed:\n",
    "    chunk = feed.read(CHUNK)\n",
    "    while chunk:\n",
    "        print(\".\", end='')\n",
    "        chunk = feed.read(CHUNK)"
   ]
  },
  {
   "cell_type": "markdown",
   "metadata": {
    "cell_style": "center"
   },
   "source": [
    "je n'ai pas 3.8 encore..\n",
    "\n",
    "```python\n",
    "CHUNK = 20 * 1024\n",
    "with open(\"../data/hamlet.txt\") as feed:\n",
    "    while chunk := feed.read(CHUNK)\n",
    "        print(\".\", end='')\n",
    "```"
   ]
  },
  {
   "cell_type": "markdown",
   "metadata": {
    "run_control": {
     "frozen": false,
     "read_only": false
    },
    "slideshow": {
     "slide_type": "slide"
    }
   },
   "source": [
    "# libération de variables"
   ]
  },
  {
   "cell_type": "markdown",
   "metadata": {
    "run_control": {
     "frozen": false,
     "read_only": false
    }
   },
   "source": [
    "* `del a` \n",
    "  * instruction qui libère la variable `a` (en la supprimant de l’espace de nommage)\n",
    "  * et décrémente le compteur de références de l’objet vers lequel pointe `a`\n",
    "* `del` fonctionne aussi sur\n",
    "  * un slicing de séquence: `del L[i:j:k]`\n",
    "  * un dictionnaire: `del D[clef]`"
   ]
  },
  {
   "cell_type": "markdown",
   "metadata": {
    "slideshow": {
     "slide_type": "slide"
    }
   },
   "source": [
    "### `del` "
   ]
  },
  {
   "cell_type": "code",
   "execution_count": null,
   "metadata": {
    "cell_style": "split"
   },
   "outputs": [],
   "source": [
    "print(liste)"
   ]
  },
  {
   "cell_type": "code",
   "execution_count": null,
   "metadata": {
    "cell_style": "split"
   },
   "outputs": [],
   "source": [
    "del liste"
   ]
  },
  {
   "cell_type": "code",
   "execution_count": null,
   "metadata": {},
   "outputs": [],
   "source": [
    "try:\n",
    "    print(liste)\n",
    "except Exception as exc:\n",
    "    print(f\"OOPS - {type(exc)}\")"
   ]
  },
  {
   "cell_type": "markdown",
   "metadata": {
    "slideshow": {
     "slide_type": "slide"
    }
   },
   "source": [
    "### `del` "
   ]
  },
  {
   "cell_type": "code",
   "execution_count": null,
   "metadata": {
    "cell_style": "split"
   },
   "outputs": [],
   "source": [
    "liste = list(range(5))\n",
    "print(liste)"
   ]
  },
  {
   "cell_type": "code",
   "execution_count": null,
   "metadata": {
    "cell_style": "split"
   },
   "outputs": [],
   "source": [
    "del liste[1:3]"
   ]
  },
  {
   "cell_type": "code",
   "execution_count": null,
   "metadata": {},
   "outputs": [],
   "source": [
    "liste"
   ]
  },
  {
   "cell_type": "markdown",
   "metadata": {
    "slideshow": {
     "slide_type": "slide"
    }
   },
   "source": [
    "# entrées - sorties"
   ]
  },
  {
   "cell_type": "markdown",
   "metadata": {
    "run_control": {
     "frozen": false,
     "read_only": false
    },
    "slideshow": {
     "slide_type": "slide"
    }
   },
   "source": [
    "# entrées au terminal"
   ]
  },
  {
   "cell_type": "markdown",
   "metadata": {
    "run_control": {
     "frozen": false,
     "read_only": false
    }
   },
   "source": [
    "* `input()` affiche une question et retourne tout le texte tapé au clavier jusqu’à un retour chariot."
   ]
  },
  {
   "cell_type": "code",
   "execution_count": null,
   "metadata": {
    "run_control": {
     "frozen": false,
     "read_only": false
    }
   },
   "outputs": [],
   "source": [
    "chaine = input('Entrez une chaine : ')\n",
    "print(\"résultat : \", chaine)"
   ]
  },
  {
   "cell_type": "markdown",
   "metadata": {
    "run_control": {
     "frozen": false,
     "read_only": false
    },
    "slideshow": {
     "slide_type": "slide"
    }
   },
   "source": [
    "# autres entrées"
   ]
  },
  {
   "cell_type": "markdown",
   "metadata": {
    "run_control": {
     "frozen": false,
     "read_only": false
    },
    "slideshow": {
     "slide_type": "slide"
    }
   },
   "source": [
    "* `input` est d'un usage assez rare toutefois:\n",
    "  * données entrées par fichier\n",
    "  * ou dans une GUI\n",
    "  * ou sur la ligne de commandes"
   ]
  },
  {
   "cell_type": "markdown",
   "metadata": {
    "run_control": {
     "frozen": false,
     "read_only": false
    },
    "slideshow": {
     "slide_type": "slide"
    }
   },
   "source": [
    "# arguments en ligne de commande"
   ]
  },
  {
   "cell_type": "markdown",
   "metadata": {
    "run_control": {
     "frozen": false,
     "read_only": false
    }
   },
   "source": [
    "* méthode la plus basique: `sys.argv`"
   ]
  },
  {
   "cell_type": "code",
   "execution_count": null,
   "metadata": {
    "cell_style": "center",
    "run_control": {
     "frozen": false,
     "read_only": false
    }
   },
   "outputs": [],
   "source": [
    "# un code source\n",
    "\n",
    "%cat samples/command_line_args1.py"
   ]
  },
  {
   "cell_type": "code",
   "execution_count": null,
   "metadata": {
    "cell_style": "center",
    "run_control": {
     "frozen": false,
     "read_only": false
    }
   },
   "outputs": [],
   "source": [
    "#  quand on le lance\n",
    "\n",
    "! python3 samples/command_line_args1.py --les arguments du shell"
   ]
  },
  {
   "cell_type": "markdown",
   "metadata": {
    "run_control": {
     "frozen": false,
     "read_only": false
    },
    "slideshow": {
     "slide_type": "slide"
    }
   },
   "source": [
    "### arguments en ligne de commande"
   ]
  },
  {
   "cell_type": "markdown",
   "metadata": {
    "run_control": {
     "frozen": false,
     "read_only": false
    }
   },
   "source": [
    "* parseur de `sys.argv`\n",
    "  * module `argparse` : la solution préconisée"
   ]
  },
  {
   "cell_type": "markdown",
   "metadata": {
    "run_control": {
     "frozen": false,
     "read_only": false
    },
    "slideshow": {
     "slide_type": "slide"
    }
   },
   "source": [
    "# exemple avec `argparse`"
   ]
  },
  {
   "cell_type": "code",
   "execution_count": null,
   "metadata": {
    "run_control": {
     "frozen": false,
     "read_only": false
    }
   },
   "outputs": [],
   "source": [
    "!cat samples/command_line_args2.py"
   ]
  },
  {
   "cell_type": "markdown",
   "metadata": {
    "run_control": {
     "frozen": false,
     "read_only": false
    },
    "slideshow": {
     "slide_type": "slide"
    }
   },
   "source": [
    "# `argparse` - suite"
   ]
  },
  {
   "cell_type": "code",
   "execution_count": null,
   "metadata": {
    "run_control": {
     "frozen": false,
     "read_only": false
    }
   },
   "outputs": [],
   "source": [
    "# sans argument, ça coince\n",
    "!python3 samples/command_line_args2.py"
   ]
  },
  {
   "cell_type": "code",
   "execution_count": null,
   "metadata": {
    "run_control": {
     "frozen": false,
     "read_only": false
    }
   },
   "outputs": [],
   "source": [
    "# si on l'utilise correctement\n",
    "!python3 samples/command_line_args2.py fic1"
   ]
  },
  {
   "cell_type": "code",
   "execution_count": null,
   "metadata": {
    "run_control": {
     "frozen": false,
     "read_only": false
    }
   },
   "outputs": [],
   "source": [
    "# ou comme ça\n",
    "!python3 samples/command_line_args2.py -v fic1 fic2"
   ]
  },
  {
   "cell_type": "markdown",
   "metadata": {
    "run_control": {
     "frozen": false,
     "read_only": false
    },
    "slideshow": {
     "slide_type": "slide"
    }
   },
   "source": [
    "# sorties"
   ]
  },
  {
   "cell_type": "markdown",
   "metadata": {
    "run_control": {
     "frozen": false,
     "read_only": false
    },
    "slideshow": {
     "slide_type": "slide"
    }
   },
   "source": [
    "# la fonction `print()`"
   ]
  },
  {
   "cell_type": "markdown",
   "metadata": {
    "run_control": {
     "frozen": false,
     "read_only": false
    }
   },
   "source": [
    "```\n",
    "print(obj1, .., objn, sep=' ', end='\\n',\n",
    "      file=sys.stdout, flush=False)\n",
    "```\n",
    "\n",
    "* affiche les objets *obj*  convertis en chaînes de caractères\n",
    "* séparés par `sep` (un espace par défaut)\n",
    "* dans le fichier `file` (`sys.stdout` par défaut)  \n",
    "* la ligne se termine par `end` (un retour chariot par défaut)"
   ]
  },
  {
   "cell_type": "markdown",
   "metadata": {
    "run_control": {
     "frozen": false,
     "read_only": false
    },
    "slideshow": {
     "slide_type": "slide"
    }
   },
   "source": [
    "### la fonction print()"
   ]
  },
  {
   "cell_type": "markdown",
   "metadata": {
    "run_control": {
     "frozen": false,
     "read_only": false
    }
   },
   "source": [
    "* suppression du retour chariot"
   ]
  },
  {
   "cell_type": "code",
   "execution_count": null,
   "metadata": {
    "run_control": {
     "frozen": false,
     "read_only": false
    }
   },
   "outputs": [],
   "source": [
    "for i in range(10):\n",
    "    print(i, end='')"
   ]
  },
  {
   "cell_type": "markdown",
   "metadata": {
    "run_control": {
     "frozen": false,
     "read_only": false
    }
   },
   "source": [
    "* redirection dans un fichier"
   ]
  },
  {
   "cell_type": "code",
   "execution_count": null,
   "metadata": {
    "cell_style": "split",
    "run_control": {
     "frozen": false,
     "read_only": false
    }
   },
   "outputs": [],
   "source": [
    "with open('test.txt', 'w') as channel:\n",
    "    L = list(range(10))\n",
    "    for item in L:\n",
    "        print(item, file=channel, end=' + ')\n",
    "    print(\"\\n\", file=channel)"
   ]
  },
  {
   "cell_type": "code",
   "execution_count": null,
   "metadata": {
    "cell_style": "split"
   },
   "outputs": [],
   "source": [
    "!cat test.txt"
   ]
  },
  {
   "cell_type": "markdown",
   "metadata": {
    "run_control": {
     "frozen": false,
     "read_only": false
    },
    "slideshow": {
     "slide_type": "slide"
    }
   },
   "source": [
    "### la fonction print()"
   ]
  },
  {
   "cell_type": "code",
   "execution_count": null,
   "metadata": {
    "cell_style": "split",
    "run_control": {
     "frozen": false,
     "read_only": false
    }
   },
   "outputs": [],
   "source": [
    "print(1, 'x', True)"
   ]
  },
  {
   "cell_type": "code",
   "execution_count": null,
   "metadata": {
    "cell_style": "split",
    "run_control": {
     "frozen": false,
     "read_only": false
    }
   },
   "outputs": [],
   "source": [
    "print(1, 'x', True, sep='_')"
   ]
  },
  {
   "cell_type": "code",
   "execution_count": null,
   "metadata": {
    "run_control": {
     "frozen": false,
     "read_only": false
    }
   },
   "outputs": [],
   "source": [
    "# dans un notebook ce n'est pas très parlant\n",
    "# mais ici on n'obtiendrait PAS de retour à la ligne\n",
    "print(1, 'x', True, sep='_', end='FIN')"
   ]
  },
  {
   "cell_type": "code",
   "execution_count": null,
   "metadata": {
    "run_control": {
     "frozen": false,
     "read_only": false
    }
   },
   "outputs": [],
   "source": [
    "# et ici on en obtiendrait deux (soit une ligne blanche)\n",
    "print(1, 'x', True, sep='_', end='\\n\\n')"
   ]
  },
  {
   "cell_type": "markdown",
   "metadata": {
    "run_control": {
     "frozen": false,
     "read_only": false
    },
    "slideshow": {
     "slide_type": "slide"
    }
   },
   "source": [
    "# module logging"
   ]
  },
  {
   "cell_type": "markdown",
   "metadata": {
    "run_control": {
     "frozen": false,
     "read_only": false
    }
   },
   "source": [
    "* pour le logging plus évolué qu’un simple print redirigé dans un fichier, on peut utiliser le module de la librairie standard logging\n",
    "* documentation du module \n",
    "  * https://docs.python.org/3.5/library/logging.html\n",
    "* tutorial \n",
    "  * https://docs.python.org/3.5/howto/logging.html#logging-basic-tutorial"
   ]
  },
  {
   "cell_type": "markdown",
   "metadata": {
    "run_control": {
     "frozen": false,
     "read_only": false
    },
    "slideshow": {
     "slide_type": "slide"
    }
   },
   "source": [
    "# le debugger Python : pdb"
   ]
  },
  {
   "cell_type": "markdown",
   "metadata": {
    "run_control": {
     "frozen": false,
     "read_only": false
    }
   },
   "source": [
    "* le module pdb permet de debugger facilement un programme Python\n",
    "```python\n",
    "import pdb \n",
    "import mymodule \n",
    "pdb.run('mymodule.test()') \n",
    "```\n",
    "\n",
    "* lance le debugger depuis la console sur la fonction `test()`"
   ]
  },
  {
   "cell_type": "markdown",
   "metadata": {
    "run_control": {
     "frozen": false,
     "read_only": false
    },
    "slideshow": {
     "slide_type": "slide"
    }
   },
   "source": [
    "# le debugger Python : pdb"
   ]
  },
  {
   "cell_type": "markdown",
   "metadata": {
    "run_control": {
     "frozen": false,
     "read_only": false
    }
   },
   "source": [
    "```python\n",
    "import pdb \n",
    "import mymodule \n",
    "mymodule.test() \n",
    "Traceback (most recent call last): \n",
    "\tFile \"<stdin>\", line 1, in ? \n",
    "\tFile \"./mymodule.py\", line 4, in test \n",
    "\t\ttest2() \n",
    "\t…\n",
    "pdb.pm()\n",
    "```\n",
    "\n",
    "* lance le debugger en post-mortem"
   ]
  },
  {
   "cell_type": "markdown",
   "metadata": {
    "run_control": {
     "frozen": false,
     "read_only": false
    },
    "slideshow": {
     "slide_type": "slide"
    }
   },
   "source": [
    "# le debugger Python : pdb"
   ]
  },
  {
   "cell_type": "markdown",
   "metadata": {
    "run_control": {
     "frozen": false,
     "read_only": false
    }
   },
   "source": [
    "* pour mettre un *breakpoint* dans votre code\n",
    "  * `import pdb; pdb.set_trace()`\n",
    "* à partir de python-3.7:\n",
    "  * `breakpoint()` \n",
    " \n",
    "---\n",
    "\n",
    "* documentation de pdb:\n",
    "  * https://docs.python.org/3/library/pdb.html\n",
    "  \n"
   ]
  },
  {
   "cell_type": "markdown",
   "metadata": {
    "slideshow": {
     "slide_type": "slide"
    }
   },
   "source": [
    "# sous IPython"
   ]
  },
  {
   "cell_type": "code",
   "execution_count": null,
   "metadata": {},
   "outputs": [],
   "source": [
    "def foo():\n",
    "    y = x"
   ]
  },
  {
   "cell_type": "code",
   "execution_count": null,
   "metadata": {},
   "outputs": [],
   "source": [
    "%%debug\n",
    "foo()"
   ]
  },
  {
   "cell_type": "markdown",
   "metadata": {
    "run_control": {
     "frozen": false,
     "read_only": false
    },
    "slideshow": {
     "slide_type": "slide"
    }
   },
   "source": [
    "# comment debugger alors ?"
   ]
  },
  {
   "cell_type": "markdown",
   "metadata": {
    "run_control": {
     "frozen": false,
     "read_only": false
    }
   },
   "source": [
    "* `print` est le plus simple, mais le moins puissant\n",
    "  * il faut deviner les bonnes variables à afficher\n",
    "  * le terminal peut vite devenir encombré\n",
    "* `logging` proche de `print` dans la philosophie, mais plus puissant\n",
    "  * différents niveaux de logging possible \n",
    "  * écriture facile dans un fichier, ou autre (*syslog*)\n",
    "  * on peut laisser les instructions de debug \n",
    "    avec un niveau qui ne se voit pas en production"
   ]
  },
  {
   "cell_type": "markdown",
   "metadata": {
    "run_control": {
     "frozen": false,
     "read_only": false
    },
    "slideshow": {
     "slide_type": "slide"
    }
   },
   "source": [
    "### comment debugger alors ?"
   ]
  },
  {
   "cell_type": "markdown",
   "metadata": {
    "run_control": {
     "frozen": false,
     "read_only": false
    }
   },
   "source": [
    "* `pdb` est un vrai debuggeur qui permet \n",
    "  * de travailler dans le contexte d’une exception \n",
    "  * ou d’une portion de code\n",
    "* plus difficile à maitriser, mais très puissant"
   ]
  },
  {
   "cell_type": "markdown",
   "metadata": {
    "run_control": {
     "frozen": false,
     "read_only": false
    },
    "slideshow": {
     "slide_type": "slide"
    }
   },
   "source": [
    "# évaluer du code"
   ]
  },
  {
   "cell_type": "markdown",
   "metadata": {
    "run_control": {
     "frozen": false,
     "read_only": false
    },
    "slideshow": {
     "slide_type": "slide"
    }
   },
   "source": [
    "# `exec()` et `eval()`"
   ]
  },
  {
   "cell_type": "markdown",
   "metadata": {
    "run_control": {
     "frozen": false,
     "read_only": false
    }
   },
   "source": [
    "* comment exécuter du code dans une chaîne de caractères ?\n",
    "* `exec()` est une fonction qui permet l’exécution dynamique de code python\n",
    "  * retourne toujours None\n",
    "* `eval()` est une fonction qui évalue une **expression** (mais **pas** une instruction)\n",
    "  * et retourne le résultat de cette évaluation\n",
    "* le code est bien sûr passé dans un `str`"
   ]
  },
  {
   "cell_type": "markdown",
   "metadata": {
    "run_control": {
     "frozen": false,
     "read_only": false
    },
    "slideshow": {
     "slide_type": "slide"
    }
   },
   "source": [
    "### `exec()` et `eval()`"
   ]
  },
  {
   "cell_type": "code",
   "execution_count": null,
   "metadata": {
    "cell_style": "split",
    "run_control": {
     "frozen": false,
     "read_only": false
    }
   },
   "outputs": [],
   "source": [
    "# instructions\n",
    "i1 = \"\"\"def fact(n):\n",
    "    return 1 if n <= 1 else n * fact(n-1)\"\"\"\n",
    "i2 = \"\"\"if fact(2) > 1:\n",
    "    print('OUI')\"\"\""
   ]
  },
  {
   "cell_type": "code",
   "execution_count": null,
   "metadata": {
    "cell_style": "split",
    "run_control": {
     "frozen": false,
     "read_only": false
    }
   },
   "outputs": [],
   "source": [
    "# on peut les exécuter\n",
    "# ceci ne fait rien que de définir une fonction\n",
    "print(exec(i1))"
   ]
  },
  {
   "cell_type": "code",
   "execution_count": null,
   "metadata": {
    "cell_style": "center",
    "run_control": {
     "frozen": false,
     "read_only": false
    }
   },
   "outputs": [],
   "source": [
    "fact"
   ]
  },
  {
   "cell_type": "code",
   "execution_count": null,
   "metadata": {
    "cell_style": "split",
    "run_control": {
     "frozen": false,
     "read_only": false
    }
   },
   "outputs": [],
   "source": [
    "# qu'on peut maintenant utiliser au travers de i2\n",
    "# l'impression ici est faire dans le code de i2\n",
    "# et puis None est le retour de exec\n",
    "print(exec(i2))"
   ]
  },
  {
   "cell_type": "code",
   "execution_count": null,
   "metadata": {
    "cell_style": "split"
   },
   "outputs": [],
   "source": [
    "# par contre exec() ne renvoie rien d'utile\n",
    "print(exec(\"fact(3)\"))"
   ]
  },
  {
   "cell_type": "markdown",
   "metadata": {
    "run_control": {
     "frozen": false,
     "read_only": false
    },
    "slideshow": {
     "slide_type": "slide"
    }
   },
   "source": [
    "### `exec()` et `eval()`"
   ]
  },
  {
   "cell_type": "code",
   "execution_count": null,
   "metadata": {
    "run_control": {
     "frozen": false,
     "read_only": false
    }
   },
   "outputs": [],
   "source": [
    "# expressions\n",
    "e1 = '(2+3)/2.0'\n",
    "e2 = \"{'alice' : 35, 'bob' : 8}\""
   ]
  },
  {
   "cell_type": "code",
   "execution_count": null,
   "metadata": {
    "run_control": {
     "frozen": false,
     "read_only": false
    }
   },
   "outputs": [],
   "source": [
    "# on peut aussi les exécuter (une expression est une instruction)\n",
    "# mais le retour est None ce qui perd de son intérêt\n",
    "print(exec(e1))"
   ]
  },
  {
   "cell_type": "code",
   "execution_count": null,
   "metadata": {
    "cell_style": "split",
    "run_control": {
     "frozen": false,
     "read_only": false
    }
   },
   "outputs": [],
   "source": [
    "# c'est mieux de les évaluer\n",
    "print(eval(e1))"
   ]
  },
  {
   "cell_type": "code",
   "execution_count": null,
   "metadata": {
    "cell_style": "split",
    "run_control": {
     "frozen": false,
     "read_only": false
    }
   },
   "outputs": [],
   "source": [
    "print(eval(e2)['alice'])"
   ]
  },
  {
   "cell_type": "markdown",
   "metadata": {
    "run_control": {
     "frozen": false,
     "read_only": false
    },
    "slideshow": {
     "slide_type": "slide"
    }
   },
   "source": [
    "### `exec()` et `eval()`"
   ]
  },
  {
   "cell_type": "code",
   "execution_count": null,
   "metadata": {
    "run_control": {
     "frozen": false,
     "read_only": false
    }
   },
   "outputs": [],
   "source": [
    "# par contre on ne peut pas évaluer une instruction\n",
    "try:\n",
    "    res = eval(i1)      # i1 est une instruction\n",
    "except Exception as e:\n",
    "    print(\"Exception {} - {}\".format(type(e), e))\n",
    "    import traceback\n",
    "    traceback.print_exc()"
   ]
  },
  {
   "cell_type": "markdown",
   "metadata": {
    "run_control": {
     "frozen": false,
     "read_only": false
    },
    "slideshow": {
     "slide_type": "slide"
    }
   },
   "source": [
    "### `exec()` et `eval()`"
   ]
  },
  {
   "cell_type": "markdown",
   "metadata": {},
   "source": [
    "* je recommande de n'utiliser ces deux fonctions\n",
    "* que de manière spartiate\n",
    "* souvent pas réllement utile\n",
    "* **gros trou de sécurité**"
   ]
  }
 ],
 "metadata": {
  "kernelspec": {
   "display_name": "Python 3",
   "language": "python",
   "name": "python3"
  },
  "language_info": {
   "codemirror_mode": {
    "name": "ipython",
    "version": 3
   },
   "file_extension": ".py",
   "mimetype": "text/x-python",
   "name": "python",
   "nbconvert_exporter": "python",
   "pygments_lexer": "ipython3",
   "version": "3.7.0"
  },
  "notebookname": "instructions",
  "rise": {
   "autolaunch": true,
   "slideNumber": "c/t",
   "start_slideshow_at": "selected",
   "theme": "sky",
   "transition": "cube"
  },
  "toc": {
   "colors": {
    "hover_highlight": "#DAA520",
    "running_highlight": "#FF0000",
    "selected_highlight": "#FFD700"
   },
   "moveMenuLeft": true,
   "nav_menu": {
    "height": "512px",
    "width": "252px"
   },
   "navigate_menu": true,
   "number_sections": true,
   "sideBar": true,
   "threshold": "2",
   "toc_cell": false,
   "toc_section_display": "block",
   "toc_window_display": false,
   "widenNotebook": false
  },
  "version": "1.0"
 },
 "nbformat": 4,
 "nbformat_minor": 2
}
