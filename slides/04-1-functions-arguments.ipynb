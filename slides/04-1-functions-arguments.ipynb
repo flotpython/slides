{
 "cells": [
  {
   "cell_type": "markdown",
   "metadata": {
    "run_control": {
     "frozen": false,
     "read_only": false
    },
    "slideshow": {
     "slide_type": "slide"
    }
   },
   "source": [
    "<div class=\"licence\">\n",
    "<span>Licence CC BY-NC-ND</span>\n",
    "<span>Thierry Parmentelat &amp; Arnaud Legout</span>\n",
    "</div>"
   ]
  },
  {
   "cell_type": "code",
   "execution_count": null,
   "metadata": {
    "run_control": {
     "frozen": false,
     "read_only": false
    },
    "slideshow": {
     "slide_type": "slide"
    }
   },
   "outputs": [],
   "source": [
    "from plan import plan; plan(\"fonctions\", \"déclaration\")"
   ]
  },
  {
   "cell_type": "markdown",
   "metadata": {
    "slideshow": {
     "slide_type": "slide"
    }
   },
   "source": [
    "# déclaration et passage de paramètres"
   ]
  },
  {
   "cell_type": "markdown",
   "metadata": {
    "run_control": {
     "frozen": false,
     "read_only": false
    },
    "slideshow": {
     "slide_type": "slide"
    }
   },
   "source": [
    "## pour réutiliser du code en Python"
   ]
  },
  {
   "cell_type": "markdown",
   "metadata": {
    "run_control": {
     "frozen": false,
     "read_only": false
    }
   },
   "source": [
    "* **fonctions**\n",
    "  * **pas d'état après exécution**\n",
    "* modules\n",
    "  * garde l'état\n",
    "  * une seule instance par programme\n",
    "* classes\n",
    "  * instances multiples\n",
    "  * chacune garde l'état\n",
    "  * héritage"
   ]
  },
  {
   "cell_type": "markdown",
   "metadata": {
    "run_control": {
     "frozen": false,
     "read_only": false
    },
    "slideshow": {
     "slide_type": "slide"
    }
   },
   "source": [
    "## comment définir une fonction ?"
   ]
  },
  {
   "cell_type": "markdown",
   "metadata": {
    "run_control": {
     "frozen": false,
     "read_only": false
    }
   },
   "source": [
    "```\n",
    "def name(arg1, arg2, .. argN):\n",
    "    <statement>\n",
    "    return <value>   # peut apparaitre n’importe où\n",
    "```\n",
    "\n",
    "* `def` crée un objet fonction, l'assigne dans la variable `name`\n",
    "  * tout est objet en Python\n",
    "  * assimilable à une simple affectation `name = ..`\n",
    "* les arguments sont passés **par référence**\n",
    "  * donc crée des **références partagées**\n",
    "  * attention aux types mutables\n",
    "  * on en reparlera"
   ]
  },
  {
   "cell_type": "markdown",
   "metadata": {
    "run_control": {
     "frozen": false,
     "read_only": false
    },
    "slideshow": {
     "slide_type": "slide"
    }
   },
   "source": [
    "### comment définir une fonction ?"
   ]
  },
  {
   "cell_type": "markdown",
   "metadata": {
    "run_control": {
     "frozen": false,
     "read_only": false
    }
   },
   "source": [
    "* une fonction dans Python est un **objet fonctionnel**\n",
    "  * auquel on donne un nom\n",
    "* un `def` peut apparaitre n’importe où\n",
    "  * et se comporte donc **comme une affectation**\n",
    "* le code n’est évalué que quand la fonction est appelée \n",
    "\n",
    "```\n",
    "# on peut parfaitement écrire ceci\n",
    "if test:\n",
    "    def func():\n",
    "        ...\n",
    "else:\n",
    "    def func():\n",
    "        ...\n",
    "func() # exécute une version qui dépend du test\n",
    "```"
   ]
  },
  {
   "cell_type": "markdown",
   "metadata": {
    "run_control": {
     "frozen": false,
     "read_only": false
    },
    "slideshow": {
     "slide_type": "slide"
    }
   },
   "source": [
    "#### comment définir une fonction ?"
   ]
  },
  {
   "cell_type": "code",
   "execution_count": null,
   "metadata": {
    "cell_style": "split",
    "run_control": {
     "frozen": false,
     "read_only": false
    }
   },
   "outputs": [],
   "source": [
    "# pas de typage statique en Python\n",
    "# on ne sait pas de quel type \n",
    "# doivent être x et y\n",
    "# tant que ça fait du sens,\n",
    "# le code est correct\n",
    "def times(x, y):\n",
    "    return x * y"
   ]
  },
  {
   "cell_type": "code",
   "execution_count": null,
   "metadata": {
    "cell_style": "split",
    "run_control": {
     "frozen": false,
     "read_only": false
    }
   },
   "outputs": [],
   "source": [
    "# deux entiers\n",
    "times(2, 3)         "
   ]
  },
  {
   "cell_type": "code",
   "execution_count": null,
   "metadata": {
    "cell_style": "split",
    "run_control": {
     "frozen": false,
     "read_only": false
    }
   },
   "outputs": [],
   "source": [
    "# deux floats\n",
    "times(1.6, 9)       "
   ]
  },
  {
   "cell_type": "code",
   "execution_count": null,
   "metadata": {
    "cell_style": "center",
    "run_control": {
     "frozen": false,
     "read_only": false
    }
   },
   "outputs": [],
   "source": [
    "# la magie du duck typing\n",
    "times('-spam-', 4)"
   ]
  },
  {
   "cell_type": "code",
   "execution_count": null,
   "metadata": {
    "cell_style": "split",
    "run_control": {
     "frozen": false,
     "read_only": false
    },
    "slideshow": {
     "slide_type": "slide"
    }
   },
   "outputs": [],
   "source": [
    "# la fonction est un objet \n",
    "times   "
   ]
  },
  {
   "cell_type": "code",
   "execution_count": null,
   "metadata": {
    "cell_style": "split",
    "run_control": {
     "frozen": false,
     "read_only": false
    }
   },
   "outputs": [],
   "source": [
    "# pas forcément recommandé mais:\n",
    "# on peut affecter cet objet à\n",
    "# une autre variable\n",
    "foo = times  \n",
    "foo(3, 14)"
   ]
  },
  {
   "cell_type": "code",
   "execution_count": null,
   "metadata": {
    "cell_style": "split",
    "run_control": {
     "frozen": false,
     "read_only": false
    }
   },
   "outputs": [],
   "source": [
    "# et redéfinir `times` pour faire\n",
    "# + à la place de * !\n",
    "def times(x, y):\n",
    "    # ne vraiment pas faire ça en vrai !!\n",
    "    return x + y"
   ]
  },
  {
   "cell_type": "code",
   "execution_count": null,
   "metadata": {
    "cell_style": "split",
    "run_control": {
     "frozen": false,
     "read_only": false
    }
   },
   "outputs": [],
   "source": [
    "# maintenant times fait une addition !\n",
    "times(3, 4)"
   ]
  },
  {
   "cell_type": "code",
   "execution_count": null,
   "metadata": {
    "run_control": {
     "frozen": false,
     "read_only": false
    }
   },
   "outputs": [],
   "source": [
    "# et foo fait bien la multiplication\n",
    "foo(3, 4)"
   ]
  },
  {
   "cell_type": "markdown",
   "metadata": {},
   "source": [
    "bref : les noms de fonction sont des variables normales"
   ]
  },
  {
   "cell_type": "markdown",
   "metadata": {
    "run_control": {
     "frozen": false,
     "read_only": false
    },
    "slideshow": {
     "slide_type": "slide"
    }
   },
   "source": [
    "## digression : docstrings"
   ]
  },
  {
   "cell_type": "markdown",
   "metadata": {
    "run_control": {
     "frozen": false,
     "read_only": false
    }
   },
   "source": [
    "##### fonctionnalité de documentation automatique (*docstring*) \n",
    "\n",
    "* si dans un objet de type fonction, classe ou module\n",
    "* la première instruction est une chaîne de caractères\n",
    "* c'est le ***docstring*** de cet objet\n",
    "* qui constitue la documentation de l’objet"
   ]
  },
  {
   "cell_type": "code",
   "execution_count": null,
   "metadata": {
    "run_control": {
     "frozen": false,
     "read_only": false
    }
   },
   "outputs": [],
   "source": [
    "def hyperbolic(x, y):\n",
    "    \"\"\"\n",
    "    computes xˆ2 - y^2\n",
    "    \"\"\"\n",
    "    return x**2 - y**2"
   ]
  },
  {
   "cell_type": "markdown",
   "metadata": {
    "run_control": {
     "frozen": false,
     "read_only": false
    },
    "slideshow": {
     "slide_type": "slide"
    }
   },
   "source": [
    "* les docstrings sont retournés par `help(objet)`\n",
    "* ils sont rangés dans `objet.__doc__`"
   ]
  },
  {
   "cell_type": "code",
   "execution_count": null,
   "metadata": {
    "run_control": {
     "frozen": false,
     "read_only": false
    }
   },
   "outputs": [],
   "source": [
    "help(hyperbolic)"
   ]
  },
  {
   "cell_type": "code",
   "execution_count": null,
   "metadata": {
    "run_control": {
     "frozen": false,
     "read_only": false
    }
   },
   "outputs": [],
   "source": [
    "# le doctring est rangé dans un attribut spécial\n",
    "hyperbolic.__doc__"
   ]
  },
  {
   "cell_type": "markdown",
   "metadata": {
    "run_control": {
     "frozen": false,
     "read_only": false
    },
    "slideshow": {
     "slide_type": "slide"
    }
   },
   "source": [
    "### un peu de documentation"
   ]
  },
  {
   "cell_type": "markdown",
   "metadata": {
    "run_control": {
     "frozen": false,
     "read_only": false
    }
   },
   "source": [
    "* c’est une bonne habitude de toujours documenter\n",
    "* on peut utiliser une simple chaîne,  \n",
    "  ou le plus souvent multiligne (avec `\"\"\"`)"
   ]
  },
  {
   "cell_type": "markdown",
   "metadata": {
    "run_control": {
     "frozen": false,
     "read_only": false
    }
   },
   "source": [
    "* pas utile de répéter le nom de l’objet,  \n",
    "  qui est extrait automatiquement (DRY) \n",
    "* la première ligne décrit brièvement ce que fait l’objet\n",
    "* la deuxième ligne est vide\n",
    "* les lignes suivantes décrivent l’objet avec plus de détails"
   ]
  },
  {
   "cell_type": "markdown",
   "metadata": {
    "slideshow": {
     "slide_type": "slide"
    }
   },
   "source": [
    "### format des *docstrings*"
   ]
  },
  {
   "cell_type": "markdown",
   "metadata": {
    "run_control": {
     "frozen": false,
     "read_only": false
    }
   },
   "source": [
    "* historiquement basé sur ReST, mais jugé peu lisible\n",
    "* il y a plusieurs conventions pour le contenu du docstring\n",
    "* voir principalement `sphinx` pour l'extraction automatique et la mise en forme\n",
    "* recommande personnellement:\n",
    "  * styles `google` et/ou `numpy` [voir doc ici](https://www.sphinx-doc.org/en/master/usage/extensions/napoleon.html)\n",
    "  * exemples slide suivant\n",
    "  "
   ]
  },
  {
   "cell_type": "markdown",
   "metadata": {
    "slideshow": {
     "slide_type": "slide"
    }
   },
   "source": [
    "### exemple de *docstrings*"
   ]
  },
  {
   "cell_type": "markdown",
   "metadata": {},
   "source": [
    "##### exemple\n",
    "\n",
    "* tel que publié https://asynciojobs.readthedocs.io/en/latest/API.html#asynciojobs.scheduler.Scheduler\n",
    "* source https://github.com/parmentelat/asynciojobs/blob/master/asynciojobs/scheduler.py"
   ]
  },
  {
   "cell_type": "markdown",
   "metadata": {
    "run_control": {
     "frozen": false,
     "read_only": false
    },
    "slideshow": {
     "slide_type": "slide"
    }
   },
   "source": [
    "## digression : conventions de style"
   ]
  },
  {
   "cell_type": "markdown",
   "metadata": {
    "run_control": {
     "frozen": false,
     "read_only": false
    }
   },
   "source": [
    "* d'après PEP8\n",
    "* utiliser une (ou plusieurs) ligne(s) vide(s)  \n",
    "  pour séparer les fonctions, classes  \n",
    "  et les grands blocs d’instructions\n",
    "* espace autour des opérateurs et après les virgules\n",
    "\n",
    "```python\n",
    "a = f(1, 2) + g(3, 4)\n",
    "```\n",
    "\n",
    "* des espaces autour de l'`=`, et **pas** après la fonction  \n",
    "  ~~`f (1, 2)`~~ un espace en trop `f(1, 2)`  \n",
    "  ~~`a=f(1, 2)`~~ manque des espaces `a = f(1, 2)`\n"
   ]
  },
  {
   "cell_type": "markdown",
   "metadata": {
    "run_control": {
     "frozen": false,
     "read_only": false
    },
    "slideshow": {
     "slide_type": "slide"
    }
   },
   "source": [
    "### chasses de caractères"
   ]
  },
  {
   "cell_type": "markdown",
   "metadata": {
    "run_control": {
     "frozen": false,
     "read_only": false
    }
   },
   "source": [
    "* chasses de caractères \n",
    "  * une classe s'écrira `MaClasse`\n",
    "  * une instance s'écrira `ma_classe` ou `maclasse`\n",
    "  * une fonction ou méthode ressemblera à `ma_fonction()`\n",
    "  * les packages et modules sont aussi en minuscules\n",
    "  * une globale à un module devrait être `EN_MAJUSCULES`"
   ]
  },
  {
   "cell_type": "code",
   "execution_count": null,
   "metadata": {
    "run_control": {
     "frozen": false,
     "read_only": false
    }
   },
   "outputs": [],
   "source": [
    "# module en minuscule, classe en chasse mixte\n",
    "from argparse import ArgumentParser"
   ]
  },
  {
   "cell_type": "code",
   "execution_count": null,
   "metadata": {
    "run_control": {
     "frozen": false,
     "read_only": false
    }
   },
   "outputs": [],
   "source": [
    "# un contrexemple\n",
    "# bien que ceci appartienne à la librairie standard\n",
    "# ici le premier 'datetime' est un nom de classe\n",
    "# et devrait s'appeler 'DateTime'\n",
    "# trop tard pour rectifier !\n",
    "from datetime import datetime"
   ]
  },
  {
   "cell_type": "markdown",
   "metadata": {
    "run_control": {
     "frozen": false,
     "read_only": false
    },
    "slideshow": {
     "slide_type": "slide"
    }
   },
   "source": [
    "## reprenons : l'instuction `return`"
   ]
  },
  {
   "cell_type": "markdown",
   "metadata": {},
   "source": [
    "* un appel de fonction est **une expression**\n",
    "* le **résultat** de cette expression est spécifié  \n",
    "  dans le corps de la fonction par l'instruction `return`\n",
    "\n",
    "* qui provoque **la fin** de l'exécution de la fonction\n",
    "* si la fonction se termine sans rencontrer un `return`\n",
    "  * on retourne `None`\n",
    "  * `None` est un mot-clé de Python,  \n",
    "    qui désigne un objet unique (singleton)"
   ]
  },
  {
   "cell_type": "markdown",
   "metadata": {
    "run_control": {
     "frozen": false,
     "read_only": false
    },
    "slideshow": {
     "slide_type": "slide"
    }
   },
   "source": [
    "### `return` et `finally``"
   ]
  },
  {
   "cell_type": "markdown",
   "metadata": {
    "run_control": {
     "frozen": false,
     "read_only": false
    }
   },
   "source": [
    "* si l’expression `return` est définie  \n",
    "  dans une déclaration `try` avec une clause `finally`\n",
    "\n",
    "  * la clause `finally` est exécutée avant de quitter la fonction\n",
    "  * voir la section sur les exceptions \n",
    "    pour comprendre la sémantique de l'instruction `try .. finally`"
   ]
  },
  {
   "cell_type": "markdown",
   "metadata": {
    "run_control": {
     "frozen": false,
     "read_only": false
    },
    "slideshow": {
     "slide_type": "slide"
    }
   },
   "source": [
    "## passage d’arguments et références partagées"
   ]
  },
  {
   "cell_type": "markdown",
   "metadata": {},
   "source": [
    "* le passage de paramètres se fait par référence\n",
    "* ce qui crée donc des références partagées"
   ]
  },
  {
   "cell_type": "code",
   "execution_count": null,
   "metadata": {
    "slideshow": {
     "slide_type": "slide"
    }
   },
   "outputs": [],
   "source": [
    "# nous allons illustrer ce mécanisme de \n",
    "# références partagées grâce à pythontutor.com\n",
    "\n",
    "%load_ext ipythontutor"
   ]
  },
  {
   "cell_type": "code",
   "execution_count": null,
   "metadata": {
    "slideshow": {
     "slide_type": "slide"
    }
   },
   "outputs": [],
   "source": [
    "%%ipythontutor curInstr=2 width=1000 height=400\n",
    "\n",
    "# les arguments d'une fonction sont toujours passés par référence\n",
    "liste = [1, 2, 3]\n",
    "\n",
    "def mess_with(reference):\n",
    "    reference[1] = 100\n",
    "    \n",
    "mess_with(liste)\n",
    "    \n",
    "print(liste)"
   ]
  },
  {
   "cell_type": "code",
   "execution_count": null,
   "metadata": {
    "run_control": {
     "frozen": false,
     "read_only": false
    },
    "slideshow": {
     "slide_type": "slide"
    }
   },
   "outputs": [],
   "source": [
    "%%ipythontutor width=800 height=450 heapPrimitives=true\n",
    "def mess_with2(a, b):\n",
    "    a = 3 \n",
    "    b[0] = 'spam'\n",
    "\n",
    "X = 1      # immutable ne peut pas être modifiée\n",
    "L = [1, 2] # mutable, l'objet liste est modifié par\n",
    "           # changer() par une modification in-place\n",
    "mess_with2(X, L)\n",
    "print(X)\n",
    "print(L)"
   ]
  },
  {
   "cell_type": "markdown",
   "metadata": {
    "slideshow": {
     "slide_type": "slide"
    }
   },
   "source": [
    "## paramètres multiples"
   ]
  },
  {
   "cell_type": "markdown",
   "metadata": {},
   "source": [
    "pour **définir** aussi bien que pour **appeler** une fonction,  \n",
    "Python propose une large gamme de mécanismes pour le passage de paramètres\n",
    "\n",
    "chacun de ces mécanismes est assez simple pris individuellement,\n",
    "mais un peu de soin est nécessaire pour bien expliquer le mécanisme général"
   ]
  },
  {
   "cell_type": "markdown",
   "metadata": {
    "slideshow": {
     "slide_type": "slide"
    }
   },
   "source": [
    "### paramètres multiples : use case"
   ]
  },
  {
   "cell_type": "markdown",
   "metadata": {},
   "source": [
    "* écrire un wrapper autour de `print()`\n",
    "* c'est-à-dire une fonction `myprint()`\n",
    "* qui ajoute `HELLO` au début de chaque impression\n",
    "* mais sinon l'interface de `myprint()`  \n",
    "  est exactement celle de `print()`, i.e.  \n",
    "  * nb. variable de paramètres\n",
    "  * réglages inchangés - e.g. `myprint(..., file=f)`\n",
    "  \n",
    "```python\n",
    ">>> myprint(1, 2, 3, sep='+')\n",
    "HELLO 1+2+3\n",
    "```"
   ]
  },
  {
   "cell_type": "markdown",
   "metadata": {
    "slideshow": {
     "slide_type": "slide"
    }
   },
   "source": [
    "### *use case : variante* \n",
    "\n",
    "* dans une variante de `myprint`, \n",
    "* on veut imposer un premier argument obligatoire pour remplacer `HELLO`,…\n",
    "\n",
    "```python\n",
    ">>> myprint2('HEY', 1, 2, 3, sep='==')\n",
    "HEY 1==2==3\n",
    "```"
   ]
  },
  {
   "cell_type": "markdown",
   "metadata": {
    "slideshow": {
     "slide_type": "slide"
    }
   },
   "source": [
    "nous allons expliquer tout ceci, mais pour l'instant voyons comment se comporterait une fonction `myprint()`idéale :"
   ]
  },
  {
   "cell_type": "code",
   "execution_count": null,
   "metadata": {
    "cell_style": "split",
    "slideshow": {
     "slide_type": ""
    }
   },
   "outputs": [],
   "source": [
    "# la première variante\n",
    "def myprint(*args, **kwds):\n",
    "    print(\"HELLO\", end=\" \")\n",
    "    print(*args, **kwds)"
   ]
  },
  {
   "cell_type": "code",
   "execution_count": null,
   "metadata": {
    "cell_style": "split"
   },
   "outputs": [],
   "source": [
    "# ajout automatique de 'HELLO'\n",
    "# et on peut utiliser tous\n",
    "# les paramètres spéciaux \n",
    "# de print()\n",
    "myprint(1, 2, 3, sep='+')"
   ]
  },
  {
   "cell_type": "code",
   "execution_count": null,
   "metadata": {
    "cell_style": "split"
   },
   "outputs": [],
   "source": [
    "# la seconde avec le premier\n",
    "# paramètre obligatoire\n",
    "def myprint2(obligatoire, \n",
    "             *args, **kwds):\n",
    "    print(obligatoire, end=\" \")\n",
    "    print(*args, **kwds)    "
   ]
  },
  {
   "cell_type": "code",
   "execution_count": null,
   "metadata": {
    "cell_style": "split"
   },
   "outputs": [],
   "source": [
    "# le premier paramètre\n",
    "# sert à remplacer 'HELLO'\n",
    "myprint2('HEY', 1, 2, 3, sep='==')"
   ]
  },
  {
   "cell_type": "markdown",
   "metadata": {
    "run_control": {
     "frozen": false,
     "read_only": false
    },
    "slideshow": {
     "slide_type": "slide"
    }
   },
   "source": [
    "## paramètres et arguments"
   ]
  },
  {
   "cell_type": "markdown",
   "metadata": {
    "run_control": {
     "frozen": false,
     "read_only": false
    }
   },
   "source": [
    "précisons le vocabulaire  \n",
    "lorsqu'il peut y avoir ambiguïté :\n",
    "\n",
    "* `paramètre`: le nom qui apparaît dans le `def`\n",
    "* `argument`: l'objet réellement passé à la fonction"
   ]
  },
  {
   "cell_type": "code",
   "execution_count": null,
   "metadata": {
    "cell_style": "split",
    "run_control": {
     "frozen": false,
     "read_only": false
    },
    "slideshow": {}
   },
   "outputs": [],
   "source": [
    "# ici x est un PARAMÈTRE\n",
    "def foo(x):\n",
    "    print(x)"
   ]
  },
  {
   "cell_type": "code",
   "execution_count": null,
   "metadata": {
    "cell_style": "split",
    "run_control": {
     "frozen": false,
     "read_only": false
    }
   },
   "outputs": [],
   "source": [
    "# et ici a est un ARGUMENT\n",
    "a = 134 + 245\n",
    "foo(a)"
   ]
  },
  {
   "cell_type": "markdown",
   "metadata": {
    "run_control": {
     "frozen": false,
     "read_only": false
    },
    "slideshow": {
     "slide_type": "slide"
    }
   },
   "source": [
    "### typologie"
   ]
  },
  {
   "cell_type": "markdown",
   "metadata": {
    "run_control": {
     "frozen": false,
     "read_only": false
    }
   },
   "source": [
    "* il y a 4 manières de déclarer des paramètres \n",
    "* et 4 manières d’appeler une fonction avec des arguments\n",
    "* les deux familles se ressemblent un peu\n",
    "* mais il y a tout de même des différences\n",
    "\n",
    "* le sujet que nous abordons ici est celui qui consiste  \n",
    "  à **lier les arguments à des paramètres**\n",
    "* de façon à ce que tous les arguments soient exposés à la fonction"
   ]
  },
  {
   "cell_type": "markdown",
   "metadata": {
    "run_control": {
     "frozen": false,
     "read_only": false
    },
    "slideshow": {
     "slide_type": "slide"
    }
   },
   "source": [
    "## déclaration des paramètres"
   ]
  },
  {
   "cell_type": "markdown",
   "metadata": {
    "run_control": {
     "frozen": false,
     "read_only": false
    },
    "slideshow": {
     "slide_type": "slide"
    }
   },
   "source": [
    "* paramètre positionnel ou ordonné ou usuel/normal\n",
    " * `def foo(x):`\n",
    "* paramètre nommé ou avec valeur par défaut\n",
    "  * `def foo(x=10):`\n",
    "* paramètre de liste ou de forme `*args`\n",
    "  * `def foo(*args):`\n",
    "* paramètre de dictionnaires ou de forme `**kwds`\n",
    "  * `def foo(**kwds):`"
   ]
  },
  {
   "cell_type": "markdown",
   "metadata": {
    "run_control": {
     "frozen": false,
     "read_only": false
    },
    "slideshow": {
     "slide_type": "slide"
    }
   },
   "source": [
    "### (I) paramètres positionnels"
   ]
  },
  {
   "cell_type": "markdown",
   "metadata": {
    "run_control": {
     "frozen": false,
     "read_only": false
    }
   },
   "source": [
    "* obtiennent un rang de gauche à droite\n",
    "* le mécanisme le plus simple et le plus répandu"
   ]
  },
  {
   "cell_type": "code",
   "execution_count": null,
   "metadata": {
    "run_control": {
     "frozen": false,
     "read_only": false
    }
   },
   "outputs": [],
   "source": [
    "# on s'intéresse ici à la déclaration des paramètres\n",
    "def agenda(nom, prenom, tel, age, job):\n",
    "    # pour afficher quel argument est attaché\n",
    "    # à quel paramètre\n",
    "    D = dict(nom=nom, prenom=prenom, tel=tel,\n",
    "             age=age, job=job)\n",
    "    print(D)"
   ]
  },
  {
   "cell_type": "markdown",
   "metadata": {
    "run_control": {
     "frozen": false,
     "read_only": false
    },
    "slideshow": {
     "slide_type": "slide"
    }
   },
   "source": [
    "#### (I) paramètres positionnels"
   ]
  },
  {
   "cell_type": "markdown",
   "metadata": {
    "run_control": {
     "frozen": false,
     "read_only": false
    }
   },
   "source": [
    "* pour appeler la fonction"
   ]
  },
  {
   "cell_type": "code",
   "execution_count": null,
   "metadata": {
    "run_control": {
     "frozen": false,
     "read_only": false
    }
   },
   "outputs": [],
   "source": [
    "# appel usuel, sans nommage\n",
    "# c'est l'ordre des arguments qui compte\n",
    "agenda('doe', 'alice', '0404040404', 35, 'medecin')"
   ]
  },
  {
   "cell_type": "code",
   "execution_count": null,
   "metadata": {
    "run_control": {
     "frozen": false,
     "read_only": false
    }
   },
   "outputs": [],
   "source": [
    "# par contre en nommant les arguments lors de l’appel\n",
    "# on peut les mettre dans n’importe quel ordre\n",
    "agenda(prenom = 'alice', nom = 'doe', age = 35,\n",
    "       tel = '0404040404', job = 'medecin')"
   ]
  },
  {
   "cell_type": "markdown",
   "metadata": {
    "run_control": {
     "frozen": false,
     "read_only": false
    },
    "slideshow": {
     "slide_type": "slide"
    }
   },
   "source": [
    "### (II) paramètres nommés / avec valeur par défaut"
   ]
  },
  {
   "cell_type": "code",
   "execution_count": null,
   "metadata": {
    "run_control": {
     "frozen": false,
     "read_only": false
    }
   },
   "outputs": [],
   "source": [
    "# ici les 3 premiers paramètres sont obligatoires\n",
    "# et les deux suivants optionnels (ils ont une valeur par défaut)\n",
    "def agenda(nom , prenom, tel,\n",
    "           age = 35, job = 'medecin'):\n",
    "    # comme tout à l'heure, pour afficher \n",
    "    # ce qui correspond aux paramètres\n",
    "    D = dict(nom=nom, prenom=prenom, tel=tel,\n",
    "             age=age, job=job)\n",
    "    print(D)"
   ]
  },
  {
   "cell_type": "markdown",
   "metadata": {
    "run_control": {
     "frozen": false,
     "read_only": false
    },
    "slideshow": {
     "slide_type": "slide"
    }
   },
   "source": [
    "#### déclaration des paramètres - (II) paramètres nommés"
   ]
  },
  {
   "cell_type": "markdown",
   "metadata": {
    "run_control": {
     "frozen": false,
     "read_only": false
    }
   },
   "source": [
    "* pour appeler la fonction"
   ]
  },
  {
   "cell_type": "code",
   "execution_count": null,
   "metadata": {
    "run_control": {
     "frozen": false,
     "read_only": false
    }
   },
   "outputs": [],
   "source": [
    "# appel en suivant la signature\n",
    "# il manque deux arguments, on utilise les valeurs par défaut\n",
    "agenda('Dupont', 'Jean', '123456789')"
   ]
  },
  {
   "cell_type": "code",
   "execution_count": null,
   "metadata": {
    "run_control": {
     "frozen": false,
     "read_only": false
    }
   },
   "outputs": [],
   "source": [
    "# on peut aussi nommer les arguments, et à nouveau \n",
    "# ça permet de mélanger l'ordre des paramètres imposés\n",
    "# ici aussi job est manquant, on utilise la valeur par défaut\n",
    "agenda(prenom = 'alice', nom = 'doe',\n",
    "       age = 25, tel = '0404040404')"
   ]
  },
  {
   "cell_type": "code",
   "execution_count": null,
   "metadata": {
    "run_control": {
     "frozen": false,
     "read_only": false
    }
   },
   "outputs": [],
   "source": [
    "# on peut mixer les deux approches\n",
    "# ici les trois premiers sont liés dans l'ordre\n",
    "agenda('Dupont', 'Jean', '123456789', age = 25, job = 'avocat')"
   ]
  },
  {
   "cell_type": "markdown",
   "metadata": {
    "run_control": {
     "frozen": false,
     "read_only": false
    },
    "slideshow": {
     "slide_type": "slide"
    }
   },
   "source": [
    "#### déclaration des paramètres - (II) paramètres nommés"
   ]
  },
  {
   "cell_type": "markdown",
   "metadata": {
    "run_control": {
     "frozen": false,
     "read_only": false
    }
   },
   "source": [
    "* **attention** à ne pas confondre la forme `name=value` dans une entête de fonction et lors d’un appel\n",
    "* dans un entête c’est une déclaration de paramètre par défaut\n",
    "* lors d’un appel\n",
    "  * c’est une désignation explicite d’arguments par nom (et non par ordre de déclaration)\n",
    "  * l'argument nommé est affecté au paramètre de même nom"
   ]
  },
  {
   "cell_type": "markdown",
   "metadata": {
    "run_control": {
     "frozen": false,
     "read_only": false
    },
    "slideshow": {
     "slide_type": "slide"
    }
   },
   "source": [
    "### (III) nombre variable d'arguments, forme `*args`"
   ]
  },
  {
   "cell_type": "markdown",
   "metadata": {
    "run_control": {
     "frozen": false,
     "read_only": false
    }
   },
   "source": [
    "* Python collecte tous les arguments non nommés restants \n",
    "  (non liés à un paramètre) sous forme d’un tuple\n",
    "* et assigne le paramètre `args` à ce tuple\n",
    "* du coup avec cette forme, la fonction peut être appelée \n",
    "  * avec un nombre variable d'arguments"
   ]
  },
  {
   "cell_type": "markdown",
   "metadata": {
    "run_control": {
     "frozen": false,
     "read_only": false
    },
    "slideshow": {
     "slide_type": "slide"
    }
   },
   "source": [
    "#### (III) nombre variable d'arguments, forme `*args`"
   ]
  },
  {
   "cell_type": "code",
   "execution_count": null,
   "metadata": {
    "cell_style": "split",
    "run_control": {
     "frozen": false,
     "read_only": false
    }
   },
   "outputs": [],
   "source": [
    "# définition\n",
    "def variable(*args):\n",
    "    print(f\"args={args}\")\n",
    "\n",
    "# utilisation\n",
    "variable()"
   ]
  },
  {
   "cell_type": "code",
   "execution_count": null,
   "metadata": {
    "cell_style": "split",
    "run_control": {
     "frozen": false,
     "read_only": false
    }
   },
   "outputs": [],
   "source": [
    "# appel\n",
    "variable(1)"
   ]
  },
  {
   "cell_type": "code",
   "execution_count": null,
   "metadata": {
    "cell_style": "split",
    "run_control": {
     "frozen": false,
     "read_only": false
    }
   },
   "outputs": [],
   "source": [
    "variable(1, 2, 3, 4, 5, [2,3])"
   ]
  },
  {
   "cell_type": "markdown",
   "metadata": {},
   "source": [
    "****"
   ]
  },
  {
   "cell_type": "code",
   "execution_count": null,
   "metadata": {
    "cell_style": "split",
    "run_control": {
     "frozen": false,
     "read_only": false
    }
   },
   "outputs": [],
   "source": [
    "# définition\n",
    "def variable2(one, two, *args):\n",
    "    print(f\"one={one}, two={two}, args={args}\")\n",
    "\n",
    "# utilisation\n",
    "variable2(1, 2)"
   ]
  },
  {
   "cell_type": "code",
   "execution_count": null,
   "metadata": {
    "cell_style": "split",
    "run_control": {
     "frozen": false,
     "read_only": false
    }
   },
   "outputs": [],
   "source": [
    "# appel\n",
    "variable2(1, 2, 3)"
   ]
  },
  {
   "cell_type": "code",
   "execution_count": null,
   "metadata": {
    "cell_style": "split",
    "run_control": {
     "frozen": false,
     "read_only": false
    }
   },
   "outputs": [],
   "source": [
    "variable2(1, 2, 3, 4, 5, [2,3])"
   ]
  },
  {
   "cell_type": "markdown",
   "metadata": {
    "run_control": {
     "frozen": false,
     "read_only": false
    },
    "slideshow": {
     "slide_type": "slide"
    }
   },
   "source": [
    "#### (III) nombre variable d'arguments, forme `*args`"
   ]
  },
  {
   "cell_type": "markdown",
   "metadata": {
    "run_control": {
     "frozen": false,
     "read_only": false
    }
   },
   "source": [
    "  \n",
    "* `args` est un nom de paramètre quelconque,  \n",
    "  même si c'est souvent `args` (comme `self` est souvent appelé `self`)  \n",
    "  lorsqu'on se contente de passer cela à une autre fonction\n",
    "* `*args` **ne peut apparaître qu'une fois**   \n",
    "  bien sûr, car sinon il y aurait ambiguïté\n",
    "  \n",
    "```python\n",
    "def variable(*args1, *args2):\n",
    "    pass\n",
    "# où finit args1 et où commence args2 ?\n",
    "variable(1, 2, 3, 4)\n",
    "```"
   ]
  },
  {
   "cell_type": "markdown",
   "metadata": {
    "run_control": {
     "frozen": false,
     "read_only": false
    },
    "slideshow": {
     "slide_type": "slide"
    }
   },
   "source": [
    "### (IV) plusieurs arguments nommés, forme `**kwds`"
   ]
  },
  {
   "cell_type": "markdown",
   "metadata": {
    "run_control": {
     "frozen": false,
     "read_only": false
    }
   },
   "source": [
    "* python collecte tous les arguments nommés restants  \n",
    "  i.e. non liés à un paramètre\n",
    "* et les met dans **un dictionnaire**\n",
    "* dont les clés sont les noms et les valeurs les arguments\n",
    "* qui est affecté au paramètre `kwds`\n",
    "* ici encore le nombre d’arguments peut être quelconque\n",
    "* c'est le même mécanisme d'*attrape-tout* que pour `*args`  \n",
    "  mais avec les arguments nommés"
   ]
  },
  {
   "cell_type": "markdown",
   "metadata": {
    "run_control": {
     "frozen": false,
     "read_only": false
    },
    "slideshow": {
     "slide_type": "slide"
    }
   },
   "source": [
    "#### (IV) plusieurs arguments nommés, forme `**kwds`"
   ]
  },
  {
   "cell_type": "code",
   "execution_count": null,
   "metadata": {
    "cell_style": "split",
    "run_control": {
     "frozen": false,
     "read_only": false
    },
    "slideshow": {
     "slide_type": ""
    }
   },
   "outputs": [],
   "source": [
    "# définition\n",
    "def named_args(**kwds):\n",
    "    print(f\"kwds={kwds}\")\n",
    "    \n",
    "# var_named\n",
    "named_args()"
   ]
  },
  {
   "cell_type": "code",
   "execution_count": null,
   "metadata": {
    "cell_style": "split"
   },
   "outputs": [],
   "source": [
    "named_args(a = 1)"
   ]
  },
  {
   "cell_type": "code",
   "execution_count": null,
   "metadata": {
    "cell_style": "split"
   },
   "outputs": [],
   "source": [
    "named_args(a = 1, b = 2)"
   ]
  },
  {
   "cell_type": "markdown",
   "metadata": {},
   "source": [
    "****\n"
   ]
  },
  {
   "cell_type": "code",
   "execution_count": null,
   "metadata": {
    "cell_style": "split",
    "run_control": {
     "frozen": false,
     "read_only": false
    },
    "slideshow": {
     "slide_type": ""
    }
   },
   "outputs": [],
   "source": [
    "# définition\n",
    "def named_args1(a=0, **kwds):\n",
    "    print(f\"a={a} kwds={kwds}\")\n",
    "    \n",
    "# var_named\n",
    "named_args1(a=1)"
   ]
  },
  {
   "cell_type": "code",
   "execution_count": null,
   "metadata": {
    "cell_style": "split"
   },
   "outputs": [],
   "source": [
    "named_args1(1, b=2)"
   ]
  },
  {
   "cell_type": "code",
   "execution_count": null,
   "metadata": {
    "cell_style": "split"
   },
   "outputs": [],
   "source": [
    "named_args1(a = 1, b = 2)"
   ]
  },
  {
   "cell_type": "markdown",
   "metadata": {
    "run_control": {
     "frozen": false,
     "read_only": false
    },
    "slideshow": {
     "slide_type": "slide"
    }
   },
   "source": [
    "#### (IV) plusieurs arguments nommés, forme `**kwds`"
   ]
  },
  {
   "cell_type": "markdown",
   "metadata": {
    "run_control": {
     "frozen": false,
     "read_only": false
    }
   },
   "source": [
    "* ici encore cette forme de paramètre **ne peut apparaître qu'une fois**\n",
    "* car sinon, comme avec `*args`, la liaison serait ambigüe"
   ]
  },
  {
   "cell_type": "markdown",
   "metadata": {
    "run_control": {
     "frozen": false,
     "read_only": false
    },
    "slideshow": {
     "slide_type": "slide"
    }
   },
   "source": [
    "## *unpacking* des arguments"
   ]
  },
  {
   "cell_type": "markdown",
   "metadata": {
    "run_control": {
     "frozen": false,
     "read_only": false
    }
   },
   "source": [
    "### **dans l'autre sens**"
   ]
  },
  {
   "cell_type": "markdown",
   "metadata": {
    "run_control": {
     "frozen": false,
     "read_only": false
    }
   },
   "source": [
    "* c'est-à-dire à l'**appel** d'une fonction\n",
    "* nous avons déjà vu deux formes d'appel\n",
    "  * `func(x)`\n",
    "  * `func(x=10)`\n",
    "* python propose également deux formes spéciales\n",
    "  * `func(*x)`\n",
    "  * `func(**x)`"
   ]
  },
  {
   "cell_type": "markdown",
   "metadata": {
    "run_control": {
     "frozen": false,
     "read_only": false
    },
    "slideshow": {
     "slide_type": "slide"
    }
   },
   "source": [
    "### (III) appel avec la forme `*x`"
   ]
  },
  {
   "cell_type": "markdown",
   "metadata": {
    "run_control": {
     "frozen": false,
     "read_only": false
    },
    "slideshow": {
     "slide_type": ""
    }
   },
   "source": [
    "* on peut utiliser un paramètre de la forme `*x`\n",
    "* où `x` désigne un itérable\n",
    "* Python va transformer `*x` en une suite de paramètres à passer à la fonction\n",
    "* dans ce sens par contre on peut utiliser la forme `*x` plusieurs fois dans un appel"
   ]
  },
  {
   "cell_type": "code",
   "execution_count": null,
   "metadata": {
    "cell_style": "split",
    "run_control": {
     "frozen": false,
     "read_only": false
    },
    "slideshow": {
     "slide_type": "slide"
    }
   },
   "outputs": [],
   "source": [
    "# une définition classique\n",
    "def f4(a, b, c, d):\n",
    "    print(a, b, c, d)"
   ]
  },
  {
   "cell_type": "code",
   "execution_count": null,
   "metadata": {
    "cell_style": "split",
    "run_control": {
     "frozen": false,
     "read_only": false
    }
   },
   "outputs": [],
   "source": [
    "# appel avec la forme *x\n",
    "L = [1, 2, 3, 4]\n",
    "f4(*L)"
   ]
  },
  {
   "cell_type": "code",
   "execution_count": null,
   "metadata": {
    "cell_style": "split",
    "run_control": {
     "frozen": false,
     "read_only": false
    }
   },
   "outputs": [],
   "source": [
    "# n'importe quel itérable\n",
    "f4(*\"abcd\")"
   ]
  },
  {
   "cell_type": "code",
   "execution_count": null,
   "metadata": {
    "cell_style": "split"
   },
   "outputs": [],
   "source": [
    "L1, L2 = (1, 2), (3, 4)\n",
    "\n",
    "# 2 *params dans le même appel\n",
    "# ne posent pas problème\n",
    "f4(*L1, *L2)"
   ]
  },
  {
   "cell_type": "code",
   "execution_count": null,
   "metadata": {
    "cell_style": "split"
   },
   "outputs": [],
   "source": [
    "# on peut utiliser * avec une expression\n",
    "f4(*range(1, 3), *range(10, 12))\n"
   ]
  },
  {
   "cell_type": "markdown",
   "metadata": {
    "run_control": {
     "frozen": false,
     "read_only": false
    },
    "slideshow": {
     "slide_type": "slide"
    }
   },
   "source": [
    "### (IV) appel avec la forme `**x`"
   ]
  },
  {
   "cell_type": "markdown",
   "metadata": {
    "run_control": {
     "frozen": false,
     "read_only": false
    }
   },
   "source": [
    "* cette fois `x` est supposé être un dictionnaire\n",
    "* python va transformer ce dictionnaire en une suite de paramètres nommés"
   ]
  },
  {
   "cell_type": "code",
   "execution_count": null,
   "metadata": {
    "run_control": {
     "frozen": false,
     "read_only": false
    }
   },
   "outputs": [],
   "source": [
    "def f3(a, b, c):\n",
    "    print(a, b, c)\n",
    "\n",
    "D = {'a':1, 'c':3, 'b':2}\n",
    "\n",
    "# équivalent à func(a=1, b=2, c=3)\n",
    "f3(**D)"
   ]
  },
  {
   "cell_type": "markdown",
   "metadata": {
    "run_control": {
     "frozen": false,
     "read_only": false
    },
    "slideshow": {
     "slide_type": "slide"
    }
   },
   "source": [
    "## piège fréquent avec les arguments par défaut"
   ]
  },
  {
   "cell_type": "markdown",
   "metadata": {
    "run_control": {
     "frozen": false,
     "read_only": false
    }
   },
   "source": [
    "* les valeurs par défaut sont évaluées à l’endroit de la déclaration de la fonction"
   ]
  },
  {
   "cell_type": "code",
   "execution_count": null,
   "metadata": {
    "run_control": {
     "frozen": false,
     "read_only": false
    }
   },
   "outputs": [],
   "source": [
    "i = 5\n",
    "def f(arg = i):  # i vaut 5 au moment de la déclaration\n",
    "    print(arg)\n",
    "i = 6            # i est mis à 6 après la déclaration, ça\n",
    "                 # n’est pas pris en compte\n",
    "f()"
   ]
  },
  {
   "cell_type": "markdown",
   "metadata": {
    "run_control": {
     "frozen": false,
     "read_only": false
    },
    "slideshow": {
     "slide_type": "slide"
    }
   },
   "source": [
    "#### piège fréquent avec les arguments par défaut"
   ]
  },
  {
   "cell_type": "markdown",
   "metadata": {
    "run_control": {
     "frozen": false,
     "read_only": false
    }
   },
   "source": [
    "* les valeurs par défaut de f ne sont évaluées **qu’une fois** à la création de l’objet fonction et mises dans **f.__defaults__**\n",
    "  * si la **valeur par défaut est mutable**  \n",
    "    elle pourra être modifiée dans la fonction\n",
    "  * et dans ce cas, la valeur par défaut  \n",
    "    **est modifiée pour l'appel suivant**\n",
    "\n",
    "du coup\n",
    "* ➔ **ne jamais utiliser un mutable comme valeur par défaut !!!**"
   ]
  },
  {
   "cell_type": "markdown",
   "metadata": {
    "run_control": {
     "frozen": false,
     "read_only": false
    },
    "slideshow": {
     "slide_type": "slide"
    }
   },
   "source": [
    "#### piège fréquent avec les arguments par défaut"
   ]
  },
  {
   "cell_type": "code",
   "execution_count": null,
   "metadata": {
    "cell_style": "split",
    "run_control": {
     "frozen": false,
     "read_only": false
    }
   },
   "outputs": [],
   "source": [
    "# on pourrait penser en lisant ceci \n",
    "# que sans préciser L on devrait \n",
    "# toujours retourner une liste [a]\n",
    "def f(a, L = []):\n",
    "    L.append(a)\n",
    "    return L"
   ]
  },
  {
   "cell_type": "code",
   "execution_count": null,
   "metadata": {
    "cell_style": "split",
    "run_control": {
     "frozen": false,
     "read_only": false
    }
   },
   "outputs": [],
   "source": [
    "# la valeur par défaut est\n",
    "# évaluée par l'instruction def:\n",
    "f.__defaults__\n",
    "\n"
   ]
  },
  {
   "cell_type": "code",
   "execution_count": null,
   "metadata": {
    "cell_style": "split",
    "run_control": {
     "frozen": false,
     "read_only": false
    }
   },
   "outputs": [],
   "source": [
    "# OK ici ça fait ce qu'on attend\n",
    "f(1)"
   ]
  },
  {
   "cell_type": "code",
   "execution_count": null,
   "metadata": {
    "cell_style": "split",
    "run_control": {
     "frozen": false,
     "read_only": false
    }
   },
   "outputs": [],
   "source": [
    "# sauf que ATTENTION\n",
    "# on a modifié ceci\n",
    "f.__defaults__"
   ]
  },
  {
   "cell_type": "code",
   "execution_count": null,
   "metadata": {
    "run_control": {
     "frozen": false,
     "read_only": false
    }
   },
   "outputs": [],
   "source": [
    "# si bien qu'à l'appel suivant il se passe ceci !\n",
    "f(2)"
   ]
  },
  {
   "cell_type": "markdown",
   "metadata": {
    "run_control": {
     "frozen": false,
     "read_only": false
    },
    "slideshow": {
     "slide_type": "slide"
    }
   },
   "source": [
    "#### piège fréquent avec les arguments par défaut"
   ]
  },
  {
   "cell_type": "markdown",
   "metadata": {
    "run_control": {
     "frozen": false,
     "read_only": false
    }
   },
   "source": [
    "* solution "
   ]
  },
  {
   "cell_type": "code",
   "execution_count": null,
   "metadata": {
    "cell_style": "split",
    "run_control": {
     "frozen": false,
     "read_only": false
    }
   },
   "outputs": [],
   "source": [
    "def f(a, L=None):\n",
    "    if L is None:\n",
    "        L = []\n",
    "    L.append(a)\n",
    "    print(L)\n",
    "f(1)\n",
    "f(2)\n",
    "f(3)"
   ]
  },
  {
   "cell_type": "code",
   "execution_count": null,
   "metadata": {
    "cell_style": "split",
    "run_control": {
     "frozen": false,
     "read_only": false
    }
   },
   "outputs": [],
   "source": [
    "# ou si on préfère\n",
    "def f(a, L=None):\n",
    "    L = L if L is not None else []\n",
    "    L.append(a)\n",
    "    print(L)\n",
    "f(1)\n",
    "f(2)\n",
    "f(3)"
   ]
  },
  {
   "cell_type": "markdown",
   "metadata": {
    "run_control": {
     "frozen": false,
     "read_only": false
    },
    "slideshow": {
     "slide_type": "slide"
    }
   },
   "source": [
    "## fonctions *wrapper*"
   ]
  },
  {
   "cell_type": "markdown",
   "metadata": {
    "run_control": {
     "frozen": false,
     "read_only": false
    }
   },
   "source": [
    "* l’utilisation classique de `*args` et `**kwds` est  \n",
    "  principalement pour créer un *wrapper* (*emballage*)  \n",
    "* c'est quoi un *wrapper* ?  \n",
    "  on a une fonction f  \n",
    "  on veut en créer une autre, g  \n",
    "  qui se comporte **presque** comme f  \n",
    "  sauf pour un détail\n",
    "* exemples :  \n",
    "  g affiche un message avant et après l'exécution de f\n",
    "  rappelez-vous aussi `myprint` ci-dessus  "
   ]
  },
  {
   "cell_type": "markdown",
   "metadata": {
    "slideshow": {
     "slide_type": "slide"
    }
   },
   "source": [
    "### fonctions wrapper et paramètres"
   ]
  },
  {
   "cell_type": "markdown",
   "metadata": {
    "run_control": {
     "frozen": false,
     "read_only": false
    }
   },
   "source": [
    "* il faut donc que g accepte les mêmes arguments que f\n",
    "* pour écrire le code de g à partir de f\n",
    "* on ne veut pas avoir **à mentionner les paramètres** de f  \n",
    "* i.e. ça doit pouvoir marcher avec e.g.\n",
    "  * `fact` qui attend exactement un argument, aussi bien que\n",
    "  * `print` qui attend *n* arguments positionnels et nommés  "
   ]
  },
  {
   "cell_type": "markdown",
   "metadata": {
    "run_control": {
     "frozen": false,
     "read_only": false
    },
    "slideshow": {
     "slide_type": "slide"
    }
   },
   "source": [
    "### wrapper - exemple 1\n",
    "\n",
    "* si on devait construire un wrapper \"à la main\""
   ]
  },
  {
   "cell_type": "code",
   "execution_count": null,
   "metadata": {
    "cell_style": "split",
    "run_control": {
     "frozen": false,
     "read_only": false
    },
    "slideshow": {
     "slide_type": ""
    }
   },
   "outputs": [],
   "source": [
    "def double(x):\n",
    "   return 2 * x\n",
    "\n",
    "def wrapped_double(x):\n",
    "    print(\"entering double\")\n",
    "    result = double(x)\n",
    "    print(f\"exiting double with {result}\")\n",
    "    return result  "
   ]
  },
  {
   "cell_type": "code",
   "execution_count": null,
   "metadata": {
    "cell_style": "split"
   },
   "outputs": [],
   "source": [
    "y = wrapped_double(10); y"
   ]
  },
  {
   "cell_type": "markdown",
   "metadata": {
    "run_control": {
     "frozen": false,
     "read_only": false
    },
    "slideshow": {
     "slide_type": "slide"
    }
   },
   "source": [
    "### wrapper - exemple 2\n",
    "\n",
    "* pareil mais autour de `print()`\n",
    "* on ne peut plus faire aussi simplement"
   ]
  },
  {
   "cell_type": "code",
   "execution_count": null,
   "metadata": {
    "cell_style": "split",
    "run_control": {
     "frozen": false,
     "read_only": false
    },
    "slideshow": {
     "slide_type": ""
    }
   },
   "outputs": [],
   "source": [
    "# on peut appeler print()\n",
    "# de plein de façons, i.e.\n",
    "# avec plusieurs paramètres \n",
    "# positionnels ou nommés\n",
    "\n",
    "def wrapped_print(*args, **kwds):\n",
    "    print(\"entering print\")\n",
    "    result = print(*args, **kwds)\n",
    "    print(f\"exiting double with {result}\")\n",
    "    return result  "
   ]
  },
  {
   "cell_type": "code",
   "execution_count": null,
   "metadata": {
    "cell_style": "split"
   },
   "outputs": [],
   "source": [
    "wrapped_print(10, 20, sep='+++')"
   ]
  },
  {
   "cell_type": "markdown",
   "metadata": {
    "slideshow": {
     "slide_type": "slide"
    }
   },
   "source": [
    "### wrapper - exemple 3 (avancé)"
   ]
  },
  {
   "cell_type": "markdown",
   "metadata": {},
   "source": [
    "* les deux exemples précédents font \"la même chose\"\n",
    "* sauriez-vous factoriser ?\n",
    "* intro aux décorateurs"
   ]
  },
  {
   "cell_type": "code",
   "execution_count": null,
   "metadata": {
    "cell_style": "center",
    "slideshow": {
     "slide_type": "fragment"
    }
   },
   "outputs": [],
   "source": [
    "def print_in_out(function):\n",
    "    def wrapped(*args, **kwds):\n",
    "        print(f\"entering {function.__name__}\")\n",
    "        result = function(*args, **kwds)\n",
    "        print(f\"exiting {function.__name__} \"\n",
    "              f\"with {result}\")\n",
    "        return result\n",
    "    return wrapped"
   ]
  },
  {
   "cell_type": "code",
   "execution_count": null,
   "metadata": {
    "cell_style": "center"
   },
   "outputs": [],
   "source": [
    "deco_double = print_in_out(double)\n",
    "deco_print = print_in_out(print)"
   ]
  },
  {
   "cell_type": "code",
   "execution_count": null,
   "metadata": {
    "cell_style": "split"
   },
   "outputs": [],
   "source": [
    "deco_double(10)"
   ]
  },
  {
   "cell_type": "code",
   "execution_count": null,
   "metadata": {
    "cell_style": "split"
   },
   "outputs": [],
   "source": [
    "deco_print(10, 20, sep='///')"
   ]
  },
  {
   "cell_type": "markdown",
   "metadata": {
    "run_control": {
     "frozen": false,
     "read_only": false
    },
    "slideshow": {
     "slide_type": "slide"
    }
   },
   "source": [
    "## ordre des paramètres et arguments"
   ]
  },
  {
   "cell_type": "markdown",
   "metadata": {
    "run_control": {
     "frozen": false,
     "read_only": false
    },
    "slideshow": {
     "slide_type": ""
    }
   },
   "source": [
    "### paramètres"
   ]
  },
  {
   "cell_type": "markdown",
   "metadata": {
    "cell_style": "split",
    "run_control": {
     "frozen": false,
     "read_only": false
    }
   },
   "source": [
    "* dans un `def` \n",
    "  * on peut combiner les différentes  \n",
    "    formes de déclarations de paramètres\n",
    "  * tous les ordres ne sont pas autorisés\n",
    "  * on recommande *l’ordre suivant*  \n",
    "    (voir aussi plus loin…)"
   ]
  },
  {
   "cell_type": "markdown",
   "metadata": {
    "cell_style": "split",
    "run_control": {
     "frozen": false,
     "read_only": false
    }
   },
   "source": [
    "1. paramètres positionnels (`name`),\n",
    "1. paramètres par défaut (`name=value`),\n",
    "1. forme `*name` (une au maximum)\n",
    "1. forme `**name` (une au maximum)"
   ]
  },
  {
   "cell_type": "markdown",
   "metadata": {
    "run_control": {
     "frozen": false,
     "read_only": false
    },
    "slideshow": {
     "slide_type": "slide"
    }
   },
   "source": [
    "### arguments"
   ]
  },
  {
   "cell_type": "markdown",
   "metadata": {
    "cell_style": "split",
    "run_control": {
     "frozen": false,
     "read_only": false
    }
   },
   "source": [
    "* dans un appel de fonction\n",
    "  * on recommande l’ordre suivant"
   ]
  },
  {
   "cell_type": "markdown",
   "metadata": {
    "cell_style": "split",
    "run_control": {
     "frozen": false,
     "read_only": false
    }
   },
   "source": [
    "1. arguments positionnels (`name`), \n",
    "1. forme(s) `*name`,\n",
    "1. arguments nommés (`name=value`),\n",
    "1. forme(s) `**name`"
   ]
  },
  {
   "cell_type": "markdown",
   "metadata": {
    "cell_style": "split"
   },
   "source": [
    "**remarque**\n",
    "\n",
    "matérialise deux groupes d'arguments  \n",
    "groupe 1 et 2: positionnels  \n",
    "groupe 3 et 4: nommés"
   ]
  },
  {
   "cell_type": "markdown",
   "metadata": {
    "cell_style": "split",
    "run_control": {
     "frozen": false,
     "read_only": false
    },
    "slideshow": {
     "slide_type": ""
    }
   },
   "source": [
    "* contrairement aux paramètres \n",
    "  * on peut mentionner plusieurs `*` ou `**` \n",
    "  * mais dans le bon ordre\n",
    "  * et sans conflits dans les noms des dictionnaires"
   ]
  },
  {
   "cell_type": "markdown",
   "metadata": {
    "run_control": {
     "frozen": false,
     "read_only": false
    },
    "slideshow": {
     "slide_type": "slide"
    }
   },
   "source": [
    "### exemples"
   ]
  },
  {
   "cell_type": "code",
   "execution_count": null,
   "metadata": {
    "slideshow": {
     "slide_type": ""
    }
   },
   "outputs": [],
   "source": [
    "# une fonction passe-partout qui affiche juste ses paramètres \n",
    "# pour nous permettre d'illustrer les appels \n",
    "\n",
    "\n",
    "# pour rappel également\n",
    "# dans la définition de la fonction\n",
    "# on ne peut pas mentionner plusieurs * ou **\n",
    "def show_any_args(*args, **kwds):\n",
    "    print(f\"args={args} - kwds={kwds}\")"
   ]
  },
  {
   "cell_type": "code",
   "execution_count": null,
   "metadata": {
    "cell_style": "split"
   },
   "outputs": [],
   "source": [
    "show_any_args(1)"
   ]
  },
  {
   "cell_type": "code",
   "execution_count": null,
   "metadata": {
    "cell_style": "split"
   },
   "outputs": [],
   "source": [
    "show_any_args(x=1)"
   ]
  },
  {
   "cell_type": "code",
   "execution_count": null,
   "metadata": {
    "run_control": {
     "frozen": false,
     "read_only": false
    },
    "slideshow": {
     "slide_type": "slide"
    }
   },
   "outputs": [],
   "source": [
    "# exemple 1\n",
    "# on recommande de mettre les arguments non-nommés en premier\n",
    "show_any_args(1, 4, 5, 3, x = 1, y = 2)"
   ]
  },
  {
   "cell_type": "code",
   "execution_count": null,
   "metadata": {
    "run_control": {
     "frozen": false,
     "read_only": false
    },
    "slideshow": {
     "slide_type": ""
    }
   },
   "outputs": [],
   "source": [
    "# exemple 1 (suite)\n",
    "# car ceci est illégal et déclenche une SyntaxError\n",
    "# foo(1, x=1, 4, 5, 3, y = 2)"
   ]
  },
  {
   "cell_type": "code",
   "execution_count": null,
   "metadata": {
    "run_control": {
     "frozen": false,
     "read_only": false
    }
   },
   "outputs": [],
   "source": [
    "# exemple 2\n",
    "l1 = [1, 2]\n",
    "l2 = [3, 4]\n",
    "d1 = {'a': 1, 'b': 2}\n",
    "d2 = {'c': 3, 'd': 4}\n",
    "\n",
    "# on peut appeler avec plusieurs * et **\n",
    "show_any_args(*l1, *l2, **d1, **d2)"
   ]
  },
  {
   "cell_type": "markdown",
   "metadata": {
    "run_control": {
     "frozen": false,
     "read_only": false
    },
    "slideshow": {
     "slide_type": ""
    }
   },
   "source": [
    "* attention aux mélanges, ça devient vite incompréhensible\n",
    "  * en cas de doute\n",
    "  * n'hésitez pas à tout nommer \n",
    "  * ou en tous cas plus que nécessaire\n",
    "* dans le reste de cette section\n",
    "  * tenter de voir le cas général"
   ]
  },
  {
   "cell_type": "markdown",
   "metadata": {
    "run_control": {
     "frozen": false,
     "read_only": false
    },
    "slideshow": {
     "slide_type": "slide"
    }
   },
   "source": [
    "## associer arguments et paramètres (avancé)"
   ]
  },
  {
   "cell_type": "markdown",
   "metadata": {
    "run_control": {
     "frozen": false,
     "read_only": false
    }
   },
   "source": [
    "* dans le cas général\n",
    "  * où les paramètres et les arguments sont complexes\n",
    "* il faut un mécanisme \n",
    "  * pour associer paramètres et arguments\n",
    "* si on reste raisonnamble\n",
    "  * cela fonctionne de bon sens\n",
    "* mais attention aux mélanges trop hardis\n",
    "  * cela devient vite inextricable"
   ]
  },
  {
   "cell_type": "markdown",
   "metadata": {
    "slideshow": {
     "slide_type": "slide"
    }
   },
   "source": [
    "### 2 groupes : positionnels et nommés"
   ]
  },
  {
   "cell_type": "markdown",
   "metadata": {
    "run_control": {
     "frozen": false,
     "read_only": false
    },
    "slideshow": {
     "slide_type": ""
    }
   },
   "source": [
    "* **attention**\n",
    "* les arguments ne sont pas pris dans l’ordre de l’appel !\n",
    "  * en premier on résoud les arguments positionnels et `*args`\n",
    "  * puis les arguments nommés et `**kwds`\n",
    "* ce qui est assez logique si on se souvient que\n",
    "  * `*args` concerne les arguments non nommés  \n",
    "    qui vont dans un tuple\n",
    "  * et `**kwds` concerne les arguments nommés  \n",
    "    qui vont dans un dictionnaire\n",
    "* voyons ça sur un exemple"
   ]
  },
  {
   "cell_type": "markdown",
   "metadata": {
    "run_control": {
     "frozen": false,
     "read_only": false
    },
    "slideshow": {
     "slide_type": "slide"
    }
   },
   "source": [
    "#### associer les arguments aux paramètres"
   ]
  },
  {
   "cell_type": "code",
   "execution_count": null,
   "metadata": {
    "cell_style": "split",
    "run_control": {
     "frozen": false,
     "read_only": false
    }
   },
   "outputs": [],
   "source": [
    "def show_abcd(a, b, c, d):\n",
    "    print(dict(a=a, b=b, c=c, d=d))\n",
    "\n",
    "# pas de souci ici\n",
    "show_abcd(1, c = 3, *(2,), **{'d':4})"
   ]
  },
  {
   "cell_type": "code",
   "execution_count": null,
   "metadata": {
    "cell_style": "split",
    "run_control": {
     "frozen": false,
     "read_only": false
    }
   },
   "outputs": [],
   "source": [
    "# par contre ici on dit en fait \n",
    "# b=2 mais aussi b=3 \n",
    "# à cause du *(3,)\n",
    "try:\n",
    "    show_abcd(1, b = 2, *(3,), \n",
    "              **{'d':4})\n",
    "except TypeError as exc:\n",
    "    print(\"OOPS\", exc)"
   ]
  },
  {
   "cell_type": "markdown",
   "metadata": {
    "run_control": {
     "frozen": false,
     "read_only": false
    }
   },
   "source": [
    "* l’argument nommé `b` est mis à `2`,  \n",
    "  mais le tuple `*(3,)` assigne également `3` à `b`\n",
    "* pour comprendre, regardons l’exemple suivant"
   ]
  },
  {
   "cell_type": "markdown",
   "metadata": {
    "run_control": {
     "frozen": false,
     "read_only": false
    },
    "slideshow": {
     "slide_type": "slide"
    }
   },
   "source": [
    "#### associer les arguments aux paramètres"
   ]
  },
  {
   "cell_type": "code",
   "execution_count": null,
   "metadata": {
    "run_control": {
     "frozen": false,
     "read_only": false
    }
   },
   "outputs": [],
   "source": [
    "show_any_args(1, b = 3, *(2,), **{'d':4})"
   ]
  },
  {
   "cell_type": "markdown",
   "metadata": {
    "run_control": {
     "frozen": false,
     "read_only": false
    }
   },
   "source": [
    "* l’intérêt des arguments nommés est de ne pas avoir à se souvenir de l’ordre de la déclaration\n",
    "* combiner des arguments nommés et une forme `*args` supprime ce bénéfice \n",
    "* puisqu’il faut se souvenir de l’ordre pour éviter des collisions\n",
    "* comme dans l’exemple précédent; **c’est à éviter !**"
   ]
  },
  {
   "cell_type": "markdown",
   "metadata": {
    "slideshow": {
     "slide_type": "slide"
    }
   },
   "source": [
    "### arguments *keyword-only*"
   ]
  },
  {
   "cell_type": "markdown",
   "metadata": {},
   "source": [
    "**rappel** les 4 familles de paramètres qu'on peut déclarer dans une fonction :\n",
    "\n",
    "1. paramètres positionnels (usuels)\n",
    "1. paramètres nommés (forme *name=default*)\n",
    "1. paramètre **args* qui attrape dans un tuple le reliquat des arguments positionnels \n",
    "1. paramètre ***kwds* qui attrape dans un dictionnaire le reliquat des arguments nommés\n"
   ]
  },
  {
   "cell_type": "code",
   "execution_count": null,
   "metadata": {
    "slideshow": {
     "slide_type": "slide"
    }
   },
   "outputs": [],
   "source": [
    "# une fonction qui combine les différents \n",
    "# types de paramètres\n",
    "def ab_etc(a, b=100, *args, **kwds):\n",
    "    print(f\"a={a}, b={b}, args={args}, kwds={kwds}\")"
   ]
  },
  {
   "cell_type": "code",
   "execution_count": null,
   "metadata": {
    "cell_style": "split"
   },
   "outputs": [],
   "source": [
    "ab_etc(1)"
   ]
  },
  {
   "cell_type": "code",
   "execution_count": null,
   "metadata": {
    "cell_style": "split"
   },
   "outputs": [],
   "source": [
    "ab_etc(1, 2)"
   ]
  },
  {
   "cell_type": "code",
   "execution_count": null,
   "metadata": {
    "cell_style": "split"
   },
   "outputs": [],
   "source": [
    "ab_etc(1, 2, 3)"
   ]
  },
  {
   "cell_type": "code",
   "execution_count": null,
   "metadata": {
    "cell_style": "split"
   },
   "outputs": [],
   "source": [
    "ab_etc(1, 2, 3, bar=1000)"
   ]
  },
  {
   "cell_type": "code",
   "execution_count": null,
   "metadata": {},
   "outputs": [],
   "source": [
    "ab_etc(1, 2, 3, bar=1000)"
   ]
  },
  {
   "cell_type": "markdown",
   "metadata": {
    "slideshow": {
     "slide_type": "slide"
    }
   },
   "source": [
    "#### ordre des déclarations"
   ]
  },
  {
   "cell_type": "markdown",
   "metadata": {},
   "source": [
    "* l'ordre dans lequel sont déclarés les différents types de paramètres est imposé par le langage\n",
    "* historiquement à l'origine, on **devait déclarer dans cet ordre** :\n",
    "\n",
    "> positionnels, nommés, forme `*`, forme `**`\n"
   ]
  },
  {
   "cell_type": "markdown",
   "metadata": {
    "slideshow": {
     "slide_type": ""
    }
   },
   "source": [
    "* ça reste une bonne approximation\n",
    "* mais en Python-3 on a introduit [les paramètres *keyword-only*](https://www.python.org/dev/peps/pep-3102/)\n",
    "* on peut ainsi définir un paramètre qu'il **faut impérativement** nommer lors de l'appel\n",
    "* et également en 3.8 [les paramètres *positional-only*](https://docs.python.org/3/whatsnew/3.8.html#positional-only-parameters)\n",
    "* qui introduit des paramètres usuels qu'on **ne peut pas nommer** lors de l'appel"
   ]
  },
  {
   "cell_type": "code",
   "execution_count": null,
   "metadata": {
    "slideshow": {
     "slide_type": "slide"
    }
   },
   "outputs": [],
   "source": [
    "# on peut déclarer un paramètre nommé **après** l'attrape-tout *args\n",
    "# du coup ici le paramètre nommé `b` devient un *keyword-only* parametter\n",
    "def a_etc_b(a, *args, b=100, **kwds):\n",
    "    print(f\"a={a}, b={b}, args={args}, kwds={kwds}\")"
   ]
  },
  {
   "cell_type": "markdown",
   "metadata": {},
   "source": [
    "avec cette déclaration, je **dois nommer** le paramètre `b`"
   ]
  },
  {
   "cell_type": "code",
   "execution_count": null,
   "metadata": {
    "cell_style": "split"
   },
   "outputs": [],
   "source": [
    "# je peux toujours faire ceci\n",
    "a_etc_b(1)"
   ]
  },
  {
   "cell_type": "code",
   "execution_count": null,
   "metadata": {
    "cell_style": "split"
   },
   "outputs": [],
   "source": [
    "# mais si je fais ceci l'argument 2 \n",
    "# va aller dans args\n",
    "a_etc_b(1, 2)"
   ]
  },
  {
   "cell_type": "code",
   "execution_count": null,
   "metadata": {},
   "outputs": [],
   "source": [
    "# pour passer b=2, je **dois** nommer mon argument\n",
    "a_etc_b(1, b=2)"
   ]
  },
  {
   "cell_type": "markdown",
   "metadata": {
    "slideshow": {
     "slide_type": "slide"
    }
   },
   "source": [
    "### arguments *positional-only*"
   ]
  },
  {
   "cell_type": "code",
   "execution_count": null,
   "metadata": {
    "cell_style": "split",
    "slideshow": {
     "slide_type": "slide"
    }
   },
   "outputs": [],
   "source": [
    "# en général on peut toujours nommer\n",
    "# des arguments même si le paramètre \n",
    "# est positionnel\n",
    "def f(a, b, c, d):\n",
    "    print(dict(a=a, b=b, c=c, d=d))\n",
    "    \n",
    "f(a=1, b=2, c=3, d=4)"
   ]
  },
  {
   "cell_type": "markdown",
   "metadata": {
    "cell_style": "split",
    "slideshow": {
     "slide_type": ""
    }
   },
   "source": [
    "```python\n",
    "# un exemple de paramètre *positional-only* \n",
    "# introduit dans Python-3.8\n",
    "def f(a, b, /, c, d):\n",
    "    print(a, b, c, d, e, f)\n",
    "\n",
    "# ceci cause un exception \n",
    "# car on ne PEUT PAS nommer a ni b\n",
    "f(a=1, b=2, c=3, d=4)\n",
    "```"
   ]
  },
  {
   "cell_type": "markdown",
   "metadata": {
    "slideshow": {
     "slide_type": "slide"
    }
   },
   "source": [
    "### retombées sur la syntaxe de base"
   ]
  },
  {
   "cell_type": "markdown",
   "metadata": {},
   "source": [
    "sachez qu'on peut également faire ceci  \n",
    "(indépendamment des appels de fonction):"
   ]
  },
  {
   "cell_type": "code",
   "execution_count": null,
   "metadata": {},
   "outputs": [],
   "source": [
    "# le extended-unpacking consiste à extraire un morceau\n",
    "# de taille inconnue dans un itérable\n",
    "# on ne peut mettre qu'une seule fois * à un étage de l'affectation\n",
    "\n",
    "a, *b, c = [1, 2, 3, 4, 5, 6]\n",
    "print(dict(a=a, b=b, c=c))"
   ]
  },
  {
   "cell_type": "code",
   "execution_count": null,
   "metadata": {
    "cell_style": "split"
   },
   "outputs": [],
   "source": [
    "# construire une liste avec *args\n",
    "l1 = [3, 4]\n",
    "l2 = [5, 6]\n",
    "[1, 2, *l1, *l2]"
   ]
  },
  {
   "cell_type": "code",
   "execution_count": null,
   "metadata": {
    "cell_style": "split"
   },
   "outputs": [],
   "source": [
    "# pareil avec un dictionnaire\n",
    "d1 = {3: 'c', 4: 'd'}\n",
    "d2 = {5: 'e', 6: 'f'}\n",
    "{1: 'a', 2: 'b', **d1, **d2}"
   ]
  }
 ],
 "metadata": {
  "celltoolbar": "Slideshow",
  "jupytext": {
   "cell_metadata_filter": "all",
   "encoding": "# -*- coding: utf-8 -*-",
   "formats": "ipynb",
   "notebook_metadata_filter": "all,-language_info"
  },
  "kernelspec": {
   "display_name": "Python 3",
   "language": "python",
   "name": "python3"
  },
  "language_info": {
   "codemirror_mode": {
    "name": "ipython",
    "version": 3
   },
   "file_extension": ".py",
   "mimetype": "text/x-python",
   "name": "python",
   "nbconvert_exporter": "python",
   "pygments_lexer": "ipython3",
   "version": "3.7.4"
  },
  "notebookname": "fonctions",
  "rise": {
   "autolaunch": true,
   "slideNumber": "c/t",
   "start_slideshow_at": "selected",
   "theme": "sky",
   "transition": "cube"
  },
  "toc": {
   "base_numbering": 1,
   "nav_menu": {},
   "number_sections": true,
   "sideBar": false,
   "skip_h1_title": false,
   "title_cell": "Table of Contents",
   "title_sidebar": "Contents",
   "toc_cell": false,
   "toc_position": {
    "height": "927px",
    "left": "1842.41px",
    "top": "0px",
    "width": "393.594px"
   },
   "toc_section_display": true,
   "toc_window_display": true
  },
  "version": "1.0"
 },
 "nbformat": 4,
 "nbformat_minor": 2
}
