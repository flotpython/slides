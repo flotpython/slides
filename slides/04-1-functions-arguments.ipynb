{
 "cells": [
  {
   "cell_type": "markdown",
   "metadata": {
    "run_control": {
     "frozen": false,
     "read_only": false
    },
    "slideshow": {
     "slide_type": "slide"
    }
   },
   "source": [
    "<div class=\"licence\">\n",
    "<span>Licence CC BY-NC-ND</span>\n",
    "<span>Thierry Parmentelat &amp; Arnaud Legout</span>\n",
    "</div>"
   ]
  },
  {
   "cell_type": "code",
   "execution_count": null,
   "metadata": {
    "run_control": {
     "frozen": false,
     "read_only": false
    },
    "slideshow": {
     "slide_type": "slide"
    }
   },
   "outputs": [],
   "source": [
    "from plan import plan; plan(\"fonctions\", \"déclaration\")"
   ]
  },
  {
   "cell_type": "markdown",
   "metadata": {
    "run_control": {
     "frozen": false,
     "read_only": false
    },
    "slideshow": {
     "slide_type": "slide"
    }
   },
   "source": [
    "# pour réutiliser du code en Python"
   ]
  },
  {
   "cell_type": "markdown",
   "metadata": {
    "run_control": {
     "frozen": false,
     "read_only": false
    }
   },
   "source": [
    "* **fonctions**\n",
    "  * **pas d'état après exécution**\n",
    "* modules\n",
    "  * garde l'état\n",
    "  * une seule instance par programme\n",
    "* classes\n",
    "  * instances multiples\n",
    "  * chacune garde l'état\n",
    "  * héritage"
   ]
  },
  {
   "cell_type": "markdown",
   "metadata": {
    "run_control": {
     "frozen": false,
     "read_only": false
    },
    "slideshow": {
     "slide_type": "slide"
    }
   },
   "source": [
    "# comment définir une fonction ?"
   ]
  },
  {
   "cell_type": "markdown",
   "metadata": {
    "run_control": {
     "frozen": false,
     "read_only": false
    }
   },
   "source": [
    "```\n",
    "def name(arg1, arg2, .. argN):\n",
    "    <statement>\n",
    "    return <value>   # peut apparaitre n’importe où\n",
    "```\n",
    "\n",
    "* `def` crée un objet fonction, l'assigne dans la variable `name`\n",
    "  * tout est objet en Python\n",
    "  * assimilable à une simple affectation `name = ..`\n",
    "* les arguments sont passés **par référence**\n",
    "  * donc crée des **références partagées**\n",
    "  * attention aux types mutables"
   ]
  },
  {
   "cell_type": "code",
   "execution_count": null,
   "metadata": {
    "slideshow": {
     "slide_type": "slide"
    }
   },
   "outputs": [],
   "source": [
    "%load_ext ipythontutor"
   ]
  },
  {
   "cell_type": "code",
   "execution_count": null,
   "metadata": {},
   "outputs": [],
   "source": [
    "%%ipythontutor curInstr=2\n",
    "liste = [1, 2, 3]\n",
    "\n",
    "def foo(reference):\n",
    "    reference[1] = 100\n",
    "    \n",
    "foo(liste)\n",
    "    \n",
    "print(liste)"
   ]
  },
  {
   "cell_type": "markdown",
   "metadata": {
    "run_control": {
     "frozen": false,
     "read_only": false
    },
    "slideshow": {
     "slide_type": "slide"
    }
   },
   "source": [
    "### comment définir une fonction ?"
   ]
  },
  {
   "cell_type": "markdown",
   "metadata": {
    "run_control": {
     "frozen": false,
     "read_only": false
    }
   },
   "source": [
    "* une fonction dans Python est un **objet fonctionnel**\n",
    "  * auquel on donne un nom\n",
    "* un `def` peut apparaitre n’importe où\n",
    "* le code n’est évalué que quand la fonction est appelée \n",
    "\n",
    "```\n",
    "if test:\n",
    "    def func():\n",
    "        ...\n",
    "else:\n",
    "    def func():\n",
    "        ...\n",
    "func() # exécute une version qui dépend du test\n",
    "```"
   ]
  },
  {
   "cell_type": "markdown",
   "metadata": {
    "run_control": {
     "frozen": false,
     "read_only": false
    },
    "slideshow": {
     "slide_type": "slide"
    }
   },
   "source": [
    "### comment définir une fonction ?"
   ]
  },
  {
   "cell_type": "code",
   "execution_count": null,
   "metadata": {
    "cell_style": "split",
    "run_control": {
     "frozen": false,
     "read_only": false
    }
   },
   "outputs": [],
   "source": [
    "# pas de typage statique en Python\n",
    "# on ne sait pas de quel type \n",
    "# doivent être x et y\n",
    "# tant que ça fait du sens,\n",
    "# le code est correct\n",
    "def times(x, y):\n",
    "    return x * y"
   ]
  },
  {
   "cell_type": "code",
   "execution_count": null,
   "metadata": {
    "cell_style": "split",
    "run_control": {
     "frozen": false,
     "read_only": false
    }
   },
   "outputs": [],
   "source": [
    "# deux entiers\n",
    "times(2, 3)         "
   ]
  },
  {
   "cell_type": "code",
   "execution_count": null,
   "metadata": {
    "cell_style": "split",
    "run_control": {
     "frozen": false,
     "read_only": false
    }
   },
   "outputs": [],
   "source": [
    "# deux floats\n",
    "times(1.6, 9)       "
   ]
  },
  {
   "cell_type": "code",
   "execution_count": null,
   "metadata": {
    "cell_style": "center",
    "run_control": {
     "frozen": false,
     "read_only": false
    }
   },
   "outputs": [],
   "source": [
    "# la magie du duck typing\n",
    "times('-spam-', 4)"
   ]
  },
  {
   "cell_type": "code",
   "execution_count": null,
   "metadata": {
    "cell_style": "split",
    "run_control": {
     "frozen": false,
     "read_only": false
    },
    "slideshow": {
     "slide_type": "slide"
    }
   },
   "outputs": [],
   "source": [
    "# la fonction est un objet \n",
    "times   "
   ]
  },
  {
   "cell_type": "code",
   "execution_count": null,
   "metadata": {
    "cell_style": "split",
    "run_control": {
     "frozen": false,
     "read_only": false
    }
   },
   "outputs": [],
   "source": [
    "# pas forcément recommandé mais:\n",
    "# on peut affecter cet objet à\n",
    "# une autre variable\n",
    "foo = times  \n",
    "foo(3, 14)"
   ]
  },
  {
   "cell_type": "code",
   "execution_count": null,
   "metadata": {
    "cell_style": "split",
    "run_control": {
     "frozen": false,
     "read_only": false
    }
   },
   "outputs": [],
   "source": [
    "# et redéfinir `times` pour faire plus à la place !\n",
    "def times(x, y):\n",
    "    # ne vraiment pas faire ça en vrai !!\n",
    "    return x + y"
   ]
  },
  {
   "cell_type": "code",
   "execution_count": null,
   "metadata": {
    "cell_style": "split",
    "run_control": {
     "frozen": false,
     "read_only": false
    }
   },
   "outputs": [],
   "source": [
    "# maintenant times fait une addition !\n",
    "times(3, 4)"
   ]
  },
  {
   "cell_type": "code",
   "execution_count": null,
   "metadata": {
    "run_control": {
     "frozen": false,
     "read_only": false
    }
   },
   "outputs": [],
   "source": [
    "# et foo fait bien la multiplication\n",
    "foo(3, 4)"
   ]
  },
  {
   "cell_type": "markdown",
   "metadata": {
    "run_control": {
     "frozen": false,
     "read_only": false
    },
    "slideshow": {
     "slide_type": "slide"
    }
   },
   "source": [
    "# un peu de documentation"
   ]
  },
  {
   "cell_type": "markdown",
   "metadata": {
    "run_control": {
     "frozen": false,
     "read_only": false
    }
   },
   "source": [
    "##### fonctionnalité de documentation automatique (*docstring*) \n",
    "\n",
    "* si dans un objet de type fonction, classe ou module\n",
    "* la première instruction est une chaîne de caractères\n",
    "* elle est considérée comme la documentation de l’objet"
   ]
  },
  {
   "cell_type": "code",
   "execution_count": null,
   "metadata": {
    "run_control": {
     "frozen": false,
     "read_only": false
    }
   },
   "outputs": [],
   "source": [
    "def func(a, b, c, d):\n",
    "    \"\"\"\n",
    "    Cette fonction imprime 4 paramètres à la suite\n",
    "    \"\"\"\n",
    "    print(a, b, c, d)"
   ]
  },
  {
   "cell_type": "markdown",
   "metadata": {
    "run_control": {
     "frozen": false,
     "read_only": false
    },
    "slideshow": {
     "slide_type": "slide"
    }
   },
   "source": [
    "* elles sont retournées avec un appel `help(objet)`\n",
    "* elles sont rangées dans `objet.__doc__`"
   ]
  },
  {
   "cell_type": "code",
   "execution_count": null,
   "metadata": {
    "run_control": {
     "frozen": false,
     "read_only": false
    }
   },
   "outputs": [],
   "source": [
    "help(func)"
   ]
  },
  {
   "cell_type": "code",
   "execution_count": null,
   "metadata": {
    "run_control": {
     "frozen": false,
     "read_only": false
    }
   },
   "outputs": [],
   "source": [
    "func.__doc__"
   ]
  },
  {
   "cell_type": "markdown",
   "metadata": {
    "run_control": {
     "frozen": false,
     "read_only": false
    },
    "slideshow": {
     "slide_type": "slide"
    }
   },
   "source": [
    "### un peu de documentation"
   ]
  },
  {
   "cell_type": "markdown",
   "metadata": {
    "run_control": {
     "frozen": false,
     "read_only": false
    }
   },
   "source": [
    "* c’est une bonne habitude de toujours documenter\n",
    "* on peut utiliser une simple chaîne, ou le plus souvent multiligne (avec `\"\"\"`)"
   ]
  },
  {
   "cell_type": "markdown",
   "metadata": {
    "run_control": {
     "frozen": false,
     "read_only": false
    }
   },
   "source": [
    "* pas utile de donner le nom de l’objet, extrait automatiquement (DRY) \n",
    "* la première ligne décrit brièvement ce que fait l’objet\n",
    "* la deuxième ligne est vide\n",
    "* les lignes suivantes décrivent l’objet avec plus de détails"
   ]
  },
  {
   "cell_type": "markdown",
   "metadata": {
    "slideshow": {
     "slide_type": "slide"
    }
   },
   "source": [
    "### format des *docstrings*"
   ]
  },
  {
   "cell_type": "markdown",
   "metadata": {
    "run_control": {
     "frozen": false,
     "read_only": false
    }
   },
   "source": [
    "* historiquement basé sur ReST, mais jugé peu lisible\n",
    "* il y a plusieurs conventions pour le contenu du docstring\n",
    "* voir principalement `sphinx` pour l'extraction automatique et la mise en forme\n",
    "* recommande personnellement:\n",
    "  * styles `google` et/ou `numpy`\n",
    "  * https://www.sphinx-doc.org/en/master/usage/extensions/napoleon.html\n",
    "  "
   ]
  },
  {
   "cell_type": "markdown",
   "metadata": {
    "slideshow": {
     "slide_type": "slide"
    }
   },
   "source": [
    "### format des *docstrings*"
   ]
  },
  {
   "cell_type": "markdown",
   "metadata": {},
   "source": [
    "##### exemple\n",
    "\n",
    "* tel que publié https://asynciojobs.readthedocs.io/en/latest/API.html#asynciojobs.scheduler.Scheduler\n",
    "* source https://github.com/parmentelat/asynciojobs/blob/master/asynciojobs/scheduler.py"
   ]
  },
  {
   "cell_type": "markdown",
   "metadata": {
    "run_control": {
     "frozen": false,
     "read_only": false
    },
    "slideshow": {
     "slide_type": "slide"
    }
   },
   "source": [
    "# conventions de style"
   ]
  },
  {
   "cell_type": "markdown",
   "metadata": {
    "run_control": {
     "frozen": false,
     "read_only": false
    }
   },
   "source": [
    "* utiliser des retours de ligne pour séparer les fonctions, classes et les grands blocs d’instructions\n",
    "* espace autour des opérateurs et après les virgules\n",
    "\n",
    "```\n",
    "a = f(1, 2) + g(3, 4)\n",
    "```"
   ]
  },
  {
   "cell_type": "markdown",
   "metadata": {
    "run_control": {
     "frozen": false,
     "read_only": false
    },
    "slideshow": {
     "slide_type": "slide"
    }
   },
   "source": [
    "# chasses de caractères"
   ]
  },
  {
   "cell_type": "markdown",
   "metadata": {
    "run_control": {
     "frozen": false,
     "read_only": false
    }
   },
   "source": [
    "* chasses de caractères \n",
    "  * une classe s'écrira `MaClasse`\n",
    "  * une instance s'écrira `ma_classe` ou `maclasse`\n",
    "  * une fonction ou méthode ressemblera à `ma_fonction()`\n",
    "  * les packages et modules sont aussi en minuscules\n",
    "  * une globale à un module devrait être `EN_MAJUSCULES`"
   ]
  },
  {
   "cell_type": "code",
   "execution_count": null,
   "metadata": {
    "run_control": {
     "frozen": false,
     "read_only": false
    }
   },
   "outputs": [],
   "source": [
    "# module en minuscule, classe en chasse mixte\n",
    "from argparse import ArgumentParser"
   ]
  },
  {
   "cell_type": "code",
   "execution_count": null,
   "metadata": {
    "run_control": {
     "frozen": false,
     "read_only": false
    }
   },
   "outputs": [],
   "source": [
    "# un contrexemple : trop tard pour rectifier !\n",
    "from datetime import datetime"
   ]
  },
  {
   "cell_type": "markdown",
   "metadata": {
    "run_control": {
     "frozen": false,
     "read_only": false
    },
    "slideshow": {
     "slide_type": "slide"
    }
   },
   "source": [
    "# PEP 8: *Style Guide for Python Code*"
   ]
  },
  {
   "cell_type": "markdown",
   "metadata": {
    "run_control": {
     "frozen": false,
     "read_only": false
    }
   },
   "source": [
    "* convention de style pour la distribution de Python et les librairies standards \n",
    "* http://www.python.org/dev/peps/pep-0008/\n",
    "* outils automatiques de vérification et même rectification\n",
    "  * `pip3 install pep8`\n",
    "  * `pip3 install autopep8`"
   ]
  },
  {
   "cell_type": "markdown",
   "metadata": {
    "run_control": {
     "frozen": false,
     "read_only": false
    },
    "slideshow": {
     "slide_type": "slide"
    }
   },
   "source": [
    "# `return`"
   ]
  },
  {
   "cell_type": "markdown",
   "metadata": {},
   "source": [
    "* un appel de fonction est **une expression**\n",
    "* le **résultat** de cette expression est spécifié  \n",
    "  dans le corps de la fonction par l'instruction `return`\n",
    "\n",
    "* qui provoque **la fin** de l'exécution de la fonction\n",
    "* si la fonction se termine sans rencontrer un `return`\n",
    "  * on retourne `None`\n",
    "  * qui est mot-clé de Python et désigne un objet unique (singleton)"
   ]
  },
  {
   "cell_type": "markdown",
   "metadata": {
    "run_control": {
     "frozen": false,
     "read_only": false
    },
    "slideshow": {
     "slide_type": "slide"
    }
   },
   "source": [
    "# `return`"
   ]
  },
  {
   "cell_type": "markdown",
   "metadata": {
    "run_control": {
     "frozen": false,
     "read_only": false
    }
   },
   "source": [
    "* si l’expression `return` est définie  \n",
    "  dans une déclaration `try` avec une clause `finally`\n",
    "\n",
    "  * la clause `finally` est exécutée avant de quitter la fonction\n",
    "  * voir la section sur les exceptions \n",
    "    pour comprendre la sémantique de l'instruction `try .. finally`"
   ]
  },
  {
   "cell_type": "markdown",
   "metadata": {
    "run_control": {
     "frozen": false,
     "read_only": false
    },
    "slideshow": {
     "slide_type": "slide"
    }
   },
   "source": [
    "### passage d’arguments et références partagées"
   ]
  },
  {
   "cell_type": "markdown",
   "metadata": {},
   "source": [
    "* le passage de paramètres se fait par référence\n",
    "* ce qui crée donc des références partagées"
   ]
  },
  {
   "cell_type": "code",
   "execution_count": null,
   "metadata": {
    "run_control": {
     "frozen": false,
     "read_only": false
    }
   },
   "outputs": [],
   "source": [
    "%load_ext ipythontutor"
   ]
  },
  {
   "cell_type": "code",
   "execution_count": null,
   "metadata": {
    "run_control": {
     "frozen": false,
     "read_only": false
    },
    "slideshow": {
     "slide_type": "slide"
    }
   },
   "outputs": [],
   "source": [
    "%%ipythontutor width=800 height=450 heapPrimitives=true\n",
    "def changer(a, b):\n",
    "    a = 2 \n",
    "    b[0] = 'spam'\n",
    "\n",
    "X = 1      # immutable ne peut pas être modifiée\n",
    "L = [1, 2] # mutable, l'objet liste est modifié par\n",
    "           # changer() par une modification in-place\n",
    "changer(X, L)\n",
    "print(X)\n",
    "print(L)"
   ]
  },
  {
   "cell_type": "markdown",
   "metadata": {
    "slideshow": {
     "slide_type": "slide"
    }
   },
   "source": [
    "# passage de paramètres"
   ]
  },
  {
   "cell_type": "markdown",
   "metadata": {},
   "source": [
    "exemple d'application:\n",
    "\n",
    "* écrire un wrapper autour de `print()`\n",
    "* qui ajoute `HELLO` au début de chaque appel\n",
    "* sinon l'interface de `print()` reste complètement inchangé\n",
    "  * variante: imposer un premier argument obligatoire pour remplacer `HELLO`, ..."
   ]
  },
  {
   "cell_type": "code",
   "execution_count": null,
   "metadata": {
    "cell_style": "split",
    "slideshow": {
     "slide_type": "slide"
    }
   },
   "outputs": [],
   "source": [
    "def myprint(*args, **kwds):\n",
    "    print(\"HELLO\", end=\" \")\n",
    "    print(*args, **kwds)"
   ]
  },
  {
   "cell_type": "code",
   "execution_count": null,
   "metadata": {
    "cell_style": "split"
   },
   "outputs": [],
   "source": [
    "\n",
    "\n",
    "myprint(1, 2, 3, sep='+')"
   ]
  },
  {
   "cell_type": "code",
   "execution_count": null,
   "metadata": {
    "cell_style": "split"
   },
   "outputs": [],
   "source": [
    "def myprint2(obligatoire, *args, **kwds):\n",
    "    print(obligatoire, end=\" \")\n",
    "    print(*args, **kwds)    "
   ]
  },
  {
   "cell_type": "code",
   "execution_count": null,
   "metadata": {
    "cell_style": "split"
   },
   "outputs": [],
   "source": [
    "myprint2('HEY', 1, 2, 3, sep='==')"
   ]
  },
  {
   "cell_type": "markdown",
   "metadata": {
    "run_control": {
     "frozen": false,
     "read_only": false
    },
    "slideshow": {
     "slide_type": "slide"
    }
   },
   "source": [
    "# paramètres et arguments"
   ]
  },
  {
   "cell_type": "markdown",
   "metadata": {
    "run_control": {
     "frozen": false,
     "read_only": false
    }
   },
   "source": [
    "lorsqu'il peut y avoir ambiguïté:\n",
    "\n",
    "* `paramètre`: le nom qui apparaît dans le `def`\n",
    "* `argument`: l'objet réellement passé à la fonction"
   ]
  },
  {
   "cell_type": "code",
   "execution_count": null,
   "metadata": {
    "cell_style": "split",
    "run_control": {
     "frozen": false,
     "read_only": false
    },
    "slideshow": {}
   },
   "outputs": [],
   "source": [
    "# ici x est un paramètre\n",
    "def foo(x):\n",
    "    print(x)"
   ]
  },
  {
   "cell_type": "code",
   "execution_count": null,
   "metadata": {
    "cell_style": "split",
    "run_control": {
     "frozen": false,
     "read_only": false
    }
   },
   "outputs": [],
   "source": [
    "# et a est un argument\n",
    "a = 134 + 245\n",
    "foo(a)"
   ]
  },
  {
   "cell_type": "markdown",
   "metadata": {
    "run_control": {
     "frozen": false,
     "read_only": false
    },
    "slideshow": {
     "slide_type": "slide"
    }
   },
   "source": [
    "### paramètres et arguments"
   ]
  },
  {
   "cell_type": "markdown",
   "metadata": {
    "run_control": {
     "frozen": false,
     "read_only": false
    }
   },
   "source": [
    "* il y a 4 manières de déclarer des paramètres \n",
    "* et 4 manières d’appeler une fonction avec des arguments\n",
    "* les deux familles se ressemblent un peu\n",
    "* mais il y a tout de même des différences"
   ]
  },
  {
   "cell_type": "markdown",
   "metadata": {
    "run_control": {
     "frozen": false,
     "read_only": false
    },
    "slideshow": {
     "slide_type": "slide"
    }
   },
   "source": [
    "# déclaration des paramètres"
   ]
  },
  {
   "cell_type": "markdown",
   "metadata": {
    "run_control": {
     "frozen": false,
     "read_only": false
    },
    "slideshow": {
     "slide_type": "slide"
    }
   },
   "source": [
    "* paramètre ordonné ou usuel/normal\n",
    " * `def foo(x):`\n",
    "* paramètre nommé ou avec valeur par défaut\n",
    "  * `def foo(x=10):`\n",
    "* paramètre de liste ou de forme `*args`\n",
    "  * `def foo(*args):`\n",
    "* paramètre de dictionnaires ou de forme `**kwds`\n",
    "  * `def foo(**kwds):`"
   ]
  },
  {
   "cell_type": "markdown",
   "metadata": {
    "run_control": {
     "frozen": false,
     "read_only": false
    },
    "slideshow": {
     "slide_type": "slide"
    }
   },
   "source": [
    "### déclaration des paramètres"
   ]
  },
  {
   "cell_type": "markdown",
   "metadata": {
    "run_control": {
     "frozen": false,
     "read_only": false
    }
   },
   "source": [
    "### (I) paramètres ordonnés"
   ]
  },
  {
   "cell_type": "markdown",
   "metadata": {
    "run_control": {
     "frozen": false,
     "read_only": false
    }
   },
   "source": [
    "* obtiennent un rang de gauche à droite\n",
    "* le mécanisme le plus simple et le plus répandu"
   ]
  },
  {
   "cell_type": "code",
   "execution_count": null,
   "metadata": {
    "run_control": {
     "frozen": false,
     "read_only": false
    }
   },
   "outputs": [],
   "source": [
    "# on s'intéresse ici à la déclaration des paramètres\n",
    "def agenda(nom, prenom, tel, age, job):\n",
    "    # on va voir bientôt comment fonctionne cet appel-là\n",
    "    D = dict(nom=nom, prenom=prenom, tel=tel,\n",
    "             age=age, job=job)\n",
    "    print(D)"
   ]
  },
  {
   "cell_type": "markdown",
   "metadata": {
    "run_control": {
     "frozen": false,
     "read_only": false
    },
    "slideshow": {
     "slide_type": "slide"
    }
   },
   "source": [
    "### déclaration des paramètres"
   ]
  },
  {
   "cell_type": "markdown",
   "metadata": {
    "run_control": {
     "frozen": false,
     "read_only": false
    }
   },
   "source": [
    "* pour appeler la fonction"
   ]
  },
  {
   "cell_type": "code",
   "execution_count": null,
   "metadata": {
    "run_control": {
     "frozen": false,
     "read_only": false
    }
   },
   "outputs": [],
   "source": [
    "# appel usuel, sans nommage\n",
    "agenda('doe', 'alice', '0404040404', 35, 'medecin')"
   ]
  },
  {
   "cell_type": "code",
   "execution_count": null,
   "metadata": {
    "run_control": {
     "frozen": false,
     "read_only": false
    }
   },
   "outputs": [],
   "source": [
    "# en nommant les arguments lors de l’appel\n",
    "# on peut les mettre dans n’importe quel ordre\n",
    "agenda(prenom = 'alice', nom = 'doe', age = 35,\n",
    "       tel = '0404040404', job = 'medecin')"
   ]
  },
  {
   "cell_type": "markdown",
   "metadata": {
    "run_control": {
     "frozen": false,
     "read_only": false
    },
    "slideshow": {
     "slide_type": "slide"
    }
   },
   "source": [
    "### déclaration des paramètres"
   ]
  },
  {
   "cell_type": "markdown",
   "metadata": {
    "run_control": {
     "frozen": false,
     "read_only": false
    }
   },
   "source": [
    "### (II) déclaration de paramètres par défaut"
   ]
  },
  {
   "cell_type": "code",
   "execution_count": null,
   "metadata": {
    "run_control": {
     "frozen": false,
     "read_only": false
    }
   },
   "outputs": [],
   "source": [
    "# ici les 3 premiers paramètres sont obligatoires\n",
    "# et les deux suivants optionnels (ils ont une valeur par défaut)\n",
    "def agenda(nom , prenom, tel,\n",
    "           age = 35, job = 'medecin'):\n",
    "    D = dict(nom=nom, prenom=prenom, tel=tel,\n",
    "             age=age, job=job)\n",
    "    print(D)"
   ]
  },
  {
   "cell_type": "markdown",
   "metadata": {
    "run_control": {
     "frozen": false,
     "read_only": false
    },
    "slideshow": {
     "slide_type": "slide"
    }
   },
   "source": [
    "### déclaration des paramètres"
   ]
  },
  {
   "cell_type": "markdown",
   "metadata": {
    "run_control": {
     "frozen": false,
     "read_only": false
    }
   },
   "source": [
    "* pour appeler la fonction"
   ]
  },
  {
   "cell_type": "code",
   "execution_count": null,
   "metadata": {
    "run_control": {
     "frozen": false,
     "read_only": false
    }
   },
   "outputs": [],
   "source": [
    "# appel en suivant la signature\n",
    "agenda('Dupont', 'Jean', '123456789')"
   ]
  },
  {
   "cell_type": "code",
   "execution_count": null,
   "metadata": {
    "run_control": {
     "frozen": false,
     "read_only": false
    }
   },
   "outputs": [],
   "source": [
    "# on peut aussi nommer les arguments, et à nouveau \n",
    "# ça permet de mélanger l'ordre des paramètres imposés\n",
    "agenda(prenom = 'alice', nom = 'doe',\n",
    "       age = 25, tel = '0404040404')"
   ]
  },
  {
   "cell_type": "code",
   "execution_count": null,
   "metadata": {
    "run_control": {
     "frozen": false,
     "read_only": false
    }
   },
   "outputs": [],
   "source": [
    "# on peut mixer les deux approches\n",
    "agenda('Dupont', 'Jean', '123456789', age = 25, job = '0404040404')"
   ]
  },
  {
   "cell_type": "markdown",
   "metadata": {
    "run_control": {
     "frozen": false,
     "read_only": false
    },
    "slideshow": {
     "slide_type": "slide"
    }
   },
   "source": [
    "### déclaration des paramètres"
   ]
  },
  {
   "cell_type": "markdown",
   "metadata": {
    "run_control": {
     "frozen": false,
     "read_only": false
    }
   },
   "source": [
    "* **attention** à ne pas confondre la forme `name=value` dans une entête de fonction et lors d’un appel\n",
    "* dans un entête c’est une déclaration de paramètre par défaut\n",
    "* lors d’un appel\n",
    "  * c’est une désignation explicite d’arguments par nom (et non par ordre de déclaration)\n",
    "  * l'argument nommé est affecté au paramètre de même nom"
   ]
  },
  {
   "cell_type": "markdown",
   "metadata": {
    "run_control": {
     "frozen": false,
     "read_only": false
    },
    "slideshow": {
     "slide_type": "slide"
    }
   },
   "source": [
    "### déclaration des paramètres"
   ]
  },
  {
   "cell_type": "markdown",
   "metadata": {
    "run_control": {
     "frozen": false,
     "read_only": false
    }
   },
   "source": [
    "### (III) plusieurs arguments, forme `*args`"
   ]
  },
  {
   "cell_type": "markdown",
   "metadata": {
    "run_control": {
     "frozen": false,
     "read_only": false
    }
   },
   "source": [
    "* ne peut apparaître qu'une fois\n",
    "* `args` est un nom de variable quelconque\n",
    "* python collecte tous les arguments sous forme d’un tuple\n",
    "  * et assigne le paramètre `args` à ce tuple\n",
    "* avec cette forme la fonction peut être appelée \n",
    "  * avec un nombre quelconque d'arguments"
   ]
  },
  {
   "cell_type": "markdown",
   "metadata": {
    "run_control": {
     "frozen": false,
     "read_only": false
    },
    "slideshow": {
     "slide_type": "slide"
    }
   },
   "source": [
    "### déclaration des paramètres"
   ]
  },
  {
   "cell_type": "code",
   "execution_count": null,
   "metadata": {
    "run_control": {
     "frozen": false,
     "read_only": false
    }
   },
   "outputs": [],
   "source": [
    "# définition\n",
    "def func(*args):\n",
    "    print(f\"args={args}\")\n",
    "\n",
    "# utilisation\n",
    "func()"
   ]
  },
  {
   "cell_type": "code",
   "execution_count": null,
   "metadata": {
    "run_control": {
     "frozen": false,
     "read_only": false
    }
   },
   "outputs": [],
   "source": [
    "# appel\n",
    "func(1)"
   ]
  },
  {
   "cell_type": "code",
   "execution_count": null,
   "metadata": {
    "run_control": {
     "frozen": false,
     "read_only": false
    }
   },
   "outputs": [],
   "source": [
    "func(1, 2, 3, 4, 5, [2,3])"
   ]
  },
  {
   "cell_type": "markdown",
   "metadata": {
    "run_control": {
     "frozen": false,
     "read_only": false
    },
    "slideshow": {
     "slide_type": "slide"
    }
   },
   "source": [
    "### déclaration des paramètres"
   ]
  },
  {
   "cell_type": "markdown",
   "metadata": {
    "run_control": {
     "frozen": false,
     "read_only": false
    }
   },
   "source": [
    "### (IV) plusieurs arguments nommés, forme `**kwds`"
   ]
  },
  {
   "cell_type": "markdown",
   "metadata": {
    "run_control": {
     "frozen": false,
     "read_only": false
    }
   },
   "source": [
    "* ne peut apparaître qu'une fois\n",
    "* python collecte tous les arguments nommés\n",
    "  * et les met dans un dictionnaire\n",
    "  * qui est affecté au paramètre `kwds`\n",
    "* ici encore le nombre d’arguments peut être quelconque"
   ]
  },
  {
   "cell_type": "code",
   "execution_count": null,
   "metadata": {
    "run_control": {
     "frozen": false,
     "read_only": false
    }
   },
   "outputs": [],
   "source": [
    "# définition\n",
    "def func(**kwds):\n",
    "    print(kwds)\n",
    "    \n",
    "# utilisation\n",
    "func(a = 1, b = 5, c = 'alice')"
   ]
  },
  {
   "cell_type": "markdown",
   "metadata": {
    "run_control": {
     "frozen": false,
     "read_only": false
    },
    "slideshow": {
     "slide_type": "slide"
    }
   },
   "source": [
    "# *unpacking* des arguments"
   ]
  },
  {
   "cell_type": "markdown",
   "metadata": {
    "run_control": {
     "frozen": false,
     "read_only": false
    }
   },
   "source": [
    "### **Dans l'autre sens**"
   ]
  },
  {
   "cell_type": "markdown",
   "metadata": {
    "run_control": {
     "frozen": false,
     "read_only": false
    }
   },
   "source": [
    "* c'est-à-dire à l'**appel** d'une fonction\n",
    "* nous avons déjà vu deux formes d'appel\n",
    "  * `func(x)`\n",
    "  * `func(x=10)`\n",
    "* python propose également deux formes spéciales\n",
    "  * `func(*x)`\n",
    "  * `func(**x)`"
   ]
  },
  {
   "cell_type": "markdown",
   "metadata": {
    "run_control": {
     "frozen": false,
     "read_only": false
    },
    "slideshow": {
     "slide_type": "slide"
    }
   },
   "source": [
    "### (III) appel avec la forme `*x`"
   ]
  },
  {
   "cell_type": "markdown",
   "metadata": {
    "run_control": {
     "frozen": false,
     "read_only": false
    },
    "slideshow": {
     "slide_type": "slide"
    }
   },
   "source": [
    "* on peut utiliser un paramètre de la forme `*x`\n",
    "* python va transformer (l'itérable) `x` en une liste de paramètres à passer à la fonction"
   ]
  },
  {
   "cell_type": "code",
   "execution_count": null,
   "metadata": {
    "cell_style": "split",
    "run_control": {
     "frozen": false,
     "read_only": false
    }
   },
   "outputs": [],
   "source": [
    "# une définition classique\n",
    "def func(a, b, c):\n",
    "    print(a, b, c)\n",
    "\n",
    "# appel avec la forme *x\n",
    "L = [1, 2, 3]\n",
    "func(*L)"
   ]
  },
  {
   "cell_type": "code",
   "execution_count": null,
   "metadata": {
    "cell_style": "split",
    "run_control": {
     "frozen": false,
     "read_only": false
    }
   },
   "outputs": [],
   "source": [
    "func(*\"abc\")"
   ]
  },
  {
   "cell_type": "markdown",
   "metadata": {
    "run_control": {
     "frozen": false,
     "read_only": false
    },
    "slideshow": {
     "slide_type": "slide"
    }
   },
   "source": [
    "### *unpacking* des arguments"
   ]
  },
  {
   "cell_type": "markdown",
   "metadata": {
    "run_control": {
     "frozen": false,
     "read_only": false
    }
   },
   "source": [
    "### (IV) appel avec la forme `**x`"
   ]
  },
  {
   "cell_type": "markdown",
   "metadata": {
    "run_control": {
     "frozen": false,
     "read_only": false
    }
   },
   "source": [
    "* cette fois `x` est supposé être un dictionnaire\n",
    "* python va transformer ce dictionnaire en une liste de paramètres nommés"
   ]
  },
  {
   "cell_type": "code",
   "execution_count": null,
   "metadata": {
    "run_control": {
     "frozen": false,
     "read_only": false
    }
   },
   "outputs": [],
   "source": [
    "def func(a, b, c):\n",
    "    print(a, b, c)\n",
    "\n",
    "D = {'a':1, 'c':3, 'b':2}\n",
    "# équivalent à func(a=1, b=2, c=3)\n",
    "func(**D)"
   ]
  },
  {
   "cell_type": "markdown",
   "metadata": {
    "run_control": {
     "frozen": false,
     "read_only": false
    },
    "slideshow": {
     "slide_type": "slide"
    }
   },
   "source": [
    "# combinaisons des mécanismes"
   ]
  },
  {
   "cell_type": "markdown",
   "metadata": {
    "run_control": {
     "frozen": false,
     "read_only": false
    }
   },
   "source": [
    "### paramètres"
   ]
  },
  {
   "cell_type": "markdown",
   "metadata": {
    "run_control": {
     "frozen": false,
     "read_only": false
    }
   },
   "source": [
    "* dans un `def` \n",
    "  * on peut combiner les différentes déclarations de paramètres\n",
    "  * mais ils doivent être *dans l’ordre suivant* \n",
    "***\n",
    "\n",
    "  * paramètres ordonnés (`name`),\n",
    "  * paramètres par défaut (`name=value`),\n",
    "  * forme `*name` (une au maximum)\n",
    "  * forme `**name` (une au maximum)"
   ]
  },
  {
   "cell_type": "markdown",
   "metadata": {
    "run_control": {
     "frozen": false,
     "read_only": false
    },
    "slideshow": {
     "slide_type": "slide"
    }
   },
   "source": [
    "### combinaisons des mécanismes"
   ]
  },
  {
   "cell_type": "markdown",
   "metadata": {
    "run_control": {
     "frozen": false,
     "read_only": false
    }
   },
   "source": [
    "### arguments"
   ]
  },
  {
   "cell_type": "markdown",
   "metadata": {
    "run_control": {
     "frozen": false,
     "read_only": false
    }
   },
   "source": [
    "* dans un appel de fonction\n",
    "  * les arguments doivent être dans l’ordre suivant\n",
    "***  \n",
    "\n",
    "  * arguments ordonnés (`name`), \n",
    "  * arguments nommés (`name=value`),\n",
    "  * forme(s) `*name`, possiblement \n",
    "  * forme(s) `**name`"
   ]
  },
  {
   "cell_type": "markdown",
   "metadata": {
    "run_control": {
     "frozen": false,
     "read_only": false
    },
    "slideshow": {
     "slide_type": "slide"
    }
   },
   "source": [
    "* contrairement aux paramètres \n",
    "  * on peut mentionner plusieurs `*` ou `**` \n",
    "  * mais dans le bon ordre\n",
    "  * et sans conflits dans les noms des dictionnaires"
   ]
  },
  {
   "cell_type": "code",
   "execution_count": null,
   "metadata": {
    "run_control": {
     "frozen": false,
     "read_only": false
    }
   },
   "outputs": [],
   "source": [
    "# on ne peut pas mentionner plusieurs * ou **\n",
    "def foo(*args, **kwds):\n",
    "    print(\"args\", args, \"kwds\", kwds)\n",
    "l1 = [1, 2]\n",
    "l2 = [3, 4]\n",
    "d1 = {'a' : 1, 'b': 12}\n",
    "d2 = {'c' : -1, 'd': -4}\n",
    "# on peut appeler avec plusieurs * et **\n",
    "foo(*l1, *l2, **d2, **d1)"
   ]
  },
  {
   "cell_type": "markdown",
   "metadata": {
    "run_control": {
     "frozen": false,
     "read_only": false
    },
    "slideshow": {
     "slide_type": "slide"
    }
   },
   "source": [
    "# fonctions *wrapper*"
   ]
  },
  {
   "cell_type": "markdown",
   "metadata": {
    "run_control": {
     "frozen": false,
     "read_only": false
    }
   },
   "source": [
    "* l’utilisation classique de `*args` et `**kwds` est pour créer un *wrapper* autour de f\n",
    "* i.e. une fonction qui accepte les mêmes arguments que f \n",
    "* sauf pour un détail\n",
    "* mais on ne veut pas avoir à mentionner les paramètres de f"
   ]
  },
  {
   "cell_type": "code",
   "execution_count": null,
   "metadata": {
    "run_control": {
     "frozen": false,
     "read_only": false
    }
   },
   "outputs": [],
   "source": [
    "# on veut juste doubler le premier argument de func\n",
    "# quelle que soit sa signature\n",
    "def wrapper(first, *args, **kwds):\n",
    "    func(2 * first, *args, **kwds)\n",
    "\n",
    "wrapper(10, 100, 1000)"
   ]
  },
  {
   "cell_type": "markdown",
   "metadata": {
    "run_control": {
     "frozen": false,
     "read_only": false
    },
    "slideshow": {
     "slide_type": "slide"
    }
   },
   "source": [
    "# exemples de paramètres et arguments"
   ]
  },
  {
   "cell_type": "code",
   "execution_count": null,
   "metadata": {
    "run_control": {
     "frozen": false,
     "read_only": false
    }
   },
   "outputs": [],
   "source": [
    "def func(a, *args, **kwds):\n",
    "    print(a, args, kwds)\n",
    "func(1, 4, 5, 3, x = 1, y = 2)"
   ]
  },
  {
   "cell_type": "markdown",
   "metadata": {
    "run_control": {
     "frozen": false,
     "read_only": false
    }
   },
   "source": [
    "* attention aux mélanges, ça devient vite incompréhensible\n",
    "  * n'hésitez pas à tout nommer \n",
    "  * ou en tous cas plus que nécessaire\n",
    "  * en cas de doute"
   ]
  },
  {
   "cell_type": "markdown",
   "metadata": {
    "run_control": {
     "frozen": false,
     "read_only": false
    },
    "slideshow": {
     "slide_type": "slide"
    }
   },
   "source": [
    "### exemples de paramètres et arguments"
   ]
  },
  {
   "cell_type": "code",
   "execution_count": null,
   "metadata": {
    "run_control": {
     "frozen": false,
     "read_only": false
    }
   },
   "outputs": [],
   "source": [
    "# cette fonction prend en argument une fonction\n",
    "# et va l'appeler\n",
    "def caller(func):\n",
    "    def wrapper(*args, **kwds):\n",
    "        print('calling function {}'.format(func.__name__))\n",
    "        return func(*args, **kwds)\n",
    "    return wrapper"
   ]
  },
  {
   "cell_type": "code",
   "execution_count": null,
   "metadata": {
    "run_control": {
     "frozen": false,
     "read_only": false
    }
   },
   "outputs": [],
   "source": [
    "def f():\n",
    "    print('in f()')\n",
    "\n",
    "def g(a, b):\n",
    "    print('in g()', a, b)"
   ]
  },
  {
   "cell_type": "code",
   "execution_count": null,
   "metadata": {
    "cell_style": "split"
   },
   "outputs": [],
   "source": [
    "caller(f)"
   ]
  },
  {
   "cell_type": "code",
   "execution_count": null,
   "metadata": {
    "cell_style": "split",
    "run_control": {
     "frozen": false,
     "read_only": false
    }
   },
   "outputs": [],
   "source": [
    "caller(f)()"
   ]
  },
  {
   "cell_type": "code",
   "execution_count": null,
   "metadata": {
    "cell_style": "split",
    "run_control": {
     "frozen": false,
     "read_only": false
    }
   },
   "outputs": [],
   "source": [
    "caller(g)(1, 2)"
   ]
  },
  {
   "cell_type": "code",
   "execution_count": null,
   "metadata": {
    "cell_style": "split",
    "run_control": {
     "frozen": false,
     "read_only": false
    }
   },
   "outputs": [],
   "source": [
    "caller(g)(b = 2, a = 1)"
   ]
  },
  {
   "cell_type": "markdown",
   "metadata": {
    "run_control": {
     "frozen": false,
     "read_only": false
    },
    "slideshow": {
     "slide_type": "slide"
    }
   },
   "source": [
    "### associer les arguments aux paramètres"
   ]
  },
  {
   "cell_type": "markdown",
   "metadata": {
    "run_control": {
     "frozen": false,
     "read_only": false
    }
   },
   "source": [
    "* dans le cas général\n",
    "  * où les paramètres et les arguments sont complexes\n",
    "* il faut un mécanisme \n",
    "  * pour associer paramètres et arguments\n",
    "* si on reste raisonnamble\n",
    "  * cela fonctionne de bon sens\n",
    "* mais attention aux mélanges trop hardis\n",
    "  * cela devient vite inextricable"
   ]
  },
  {
   "cell_type": "markdown",
   "metadata": {
    "run_control": {
     "frozen": false,
     "read_only": false
    },
    "slideshow": {
     "slide_type": "slide"
    }
   },
   "source": [
    "* **attention**\n",
    "* les arguments ne sont pas pris dans l’ordre de l’appel !\n",
    "  * en premier on résoud les arguments ordonnés et `*args`\n",
    "  * puis les arguments nommés et `**kwds`\n",
    "* voyons ça sur un exemple"
   ]
  },
  {
   "cell_type": "markdown",
   "metadata": {
    "run_control": {
     "frozen": false,
     "read_only": false
    },
    "slideshow": {
     "slide_type": "slide"
    }
   },
   "source": [
    "### associer les arguments aux paramètres"
   ]
  },
  {
   "cell_type": "code",
   "execution_count": null,
   "metadata": {
    "cell_style": "split",
    "run_control": {
     "frozen": false,
     "read_only": false
    }
   },
   "outputs": [],
   "source": [
    "def func(a, b, c, d):\n",
    "    print(a, b, c, d)\n",
    "\n",
    "func(1, c = 3, *(2,), **{'d':4})"
   ]
  },
  {
   "cell_type": "code",
   "execution_count": null,
   "metadata": {
    "cell_style": "split",
    "run_control": {
     "frozen": false,
     "read_only": false
    }
   },
   "outputs": [],
   "source": [
    "try:\n",
    "    func(1, b = 2, *(3,), \n",
    "         **{'d':4})\n",
    "except TypeError as exc:\n",
    "    print(\"OOPS\", exc)"
   ]
  },
  {
   "cell_type": "markdown",
   "metadata": {
    "run_control": {
     "frozen": false,
     "read_only": false
    }
   },
   "source": [
    "* l’argument nommé `b` est mis à `3`, mais le tuple `*(2,)` assigne également `2` à `b`\n",
    "* pour comprendre, regardons l’exemple suivant"
   ]
  },
  {
   "cell_type": "markdown",
   "metadata": {
    "run_control": {
     "frozen": false,
     "read_only": false
    },
    "slideshow": {
     "slide_type": "slide"
    }
   },
   "source": [
    "### associer les arguments aux paramètres"
   ]
  },
  {
   "cell_type": "code",
   "execution_count": null,
   "metadata": {
    "run_control": {
     "frozen": false,
     "read_only": false
    }
   },
   "outputs": [],
   "source": [
    "def func(*args, **kw):\n",
    "    print(args, kw)\n",
    "func(1, b = 3, *(2,), **{'d':4})"
   ]
  },
  {
   "cell_type": "markdown",
   "metadata": {
    "run_control": {
     "frozen": false,
     "read_only": false
    }
   },
   "source": [
    "* l’intérêt des arguments nommés est de ne pas avoir à se souvenir de l’ordre de la déclaration\n",
    "* combiner des arguments nommés et une forme *args supprime ce bénéfice \n",
    "* puisqu’il faut se souvenir de l’ordre pour éviter des collisions\n",
    "* comme dans l’exemple précédent; **c’est à éviter !**"
   ]
  },
  {
   "cell_type": "markdown",
   "metadata": {
    "run_control": {
     "frozen": false,
     "read_only": false
    },
    "slideshow": {
     "slide_type": "slide"
    }
   },
   "source": [
    "### pièges fréquents avec les arguments par défaut"
   ]
  },
  {
   "cell_type": "markdown",
   "metadata": {
    "run_control": {
     "frozen": false,
     "read_only": false
    }
   },
   "source": [
    "* les valeurs par défaut sont évaluées à l’endroit de la déclaration de la fonction"
   ]
  },
  {
   "cell_type": "code",
   "execution_count": null,
   "metadata": {
    "run_control": {
     "frozen": false,
     "read_only": false
    }
   },
   "outputs": [],
   "source": [
    "i = 5\n",
    "def f(arg = i):  # i vaut 5 au moment de la déclaration\n",
    "    print(arg)\n",
    "i = 6            # i est mis à 6 après la déclaration, ça\n",
    "                 # n’est pas pris en compte\n",
    "f()"
   ]
  },
  {
   "cell_type": "markdown",
   "metadata": {
    "run_control": {
     "frozen": false,
     "read_only": false
    },
    "slideshow": {
     "slide_type": "slide"
    }
   },
   "source": [
    "### pièges fréquents avec les arguments par défaut"
   ]
  },
  {
   "cell_type": "markdown",
   "metadata": {
    "run_control": {
     "frozen": false,
     "read_only": false
    }
   },
   "source": [
    "* les valeurs par défaut de f ne sont évaluées **qu’une fois** à la création de l’objet fonction et mises dans **f.__defaults__**\n",
    "  * si la valeur par défaut est mutable elle pourra être modifiée dans la fonction\n",
    "  * dans ce cas, la valeur par défaut ne sera plus celle déclarée dans l’entête de la fonction\n",
    "* ➔ **Ne jamais utiliser un mutable comme valeur par défaut**"
   ]
  },
  {
   "cell_type": "markdown",
   "metadata": {
    "run_control": {
     "frozen": false,
     "read_only": false
    },
    "slideshow": {
     "slide_type": "slide"
    }
   },
   "source": [
    "### pièges fréquents avec les arguments par défaut"
   ]
  },
  {
   "cell_type": "code",
   "execution_count": null,
   "metadata": {
    "run_control": {
     "frozen": false,
     "read_only": false
    }
   },
   "outputs": [],
   "source": [
    "def f(a, L = []):\n",
    "    L.append(a)\n",
    "    print(L)"
   ]
  },
  {
   "cell_type": "code",
   "execution_count": null,
   "metadata": {
    "run_control": {
     "frozen": false,
     "read_only": false
    }
   },
   "outputs": [],
   "source": [
    "print(f.__defaults__)\n",
    "f(1)"
   ]
  },
  {
   "cell_type": "code",
   "execution_count": null,
   "metadata": {
    "run_control": {
     "frozen": false,
     "read_only": false
    }
   },
   "outputs": [],
   "source": [
    "print(f.__defaults__)\n",
    "f(2)"
   ]
  },
  {
   "cell_type": "markdown",
   "metadata": {
    "run_control": {
     "frozen": false,
     "read_only": false
    },
    "slideshow": {
     "slide_type": "slide"
    }
   },
   "source": [
    "### pièges fréquents avec les arguments par défaut"
   ]
  },
  {
   "cell_type": "markdown",
   "metadata": {
    "run_control": {
     "frozen": false,
     "read_only": false
    }
   },
   "source": [
    "* Solution "
   ]
  },
  {
   "cell_type": "code",
   "execution_count": null,
   "metadata": {
    "cell_style": "split",
    "run_control": {
     "frozen": false,
     "read_only": false
    }
   },
   "outputs": [],
   "source": [
    "def f(a, L=None):\n",
    "    if L is None:\n",
    "        L = []\n",
    "    L.append(a)\n",
    "    print(L)\n",
    "f(1)\n",
    "f(2)\n",
    "f(3)"
   ]
  },
  {
   "cell_type": "code",
   "execution_count": null,
   "metadata": {
    "cell_style": "split",
    "run_control": {
     "frozen": false,
     "read_only": false
    }
   },
   "outputs": [],
   "source": [
    "# ou si on préfère\n",
    "def f(a, L=None):\n",
    "    L = L if L is not None else []\n",
    "    L.append(a)\n",
    "    print(L)\n",
    "f(1)\n",
    "f(2)\n",
    "f(3)"
   ]
  },
  {
   "cell_type": "markdown",
   "metadata": {
    "slideshow": {
     "slide_type": "slide"
    }
   },
   "source": [
    "### arguments *keyword-only*"
   ]
  },
  {
   "cell_type": "markdown",
   "metadata": {},
   "source": [
    "### rappel"
   ]
  },
  {
   "cell_type": "markdown",
   "metadata": {},
   "source": [
    "les 4 familles de paramètres qu'on peut déclarer dans une fonction :\n",
    "\n",
    "1. paramètres positionnels (usuels)\n",
    "1. paramètres nommés (forme *name=default*)\n",
    "1. paramètres **args* qui attrape dans un tuple le reliquat des arguments positionnels \n",
    "1. paramètres ***kwds* qui attrape dans un dictionnaire le reliquat des arguments nommés\n"
   ]
  },
  {
   "cell_type": "code",
   "execution_count": null,
   "metadata": {
    "slideshow": {
     "slide_type": "slide"
    }
   },
   "outputs": [],
   "source": [
    "# une fonction qui combine les différents \n",
    "# types de paramètres\n",
    "def foo(a, b=100, *args, **kwds):\n",
    "    print(f\"a={a}, b={b}, args={args}, kwds={kwds}\")"
   ]
  },
  {
   "cell_type": "code",
   "execution_count": null,
   "metadata": {
    "cell_style": "split"
   },
   "outputs": [],
   "source": [
    "foo(1)"
   ]
  },
  {
   "cell_type": "code",
   "execution_count": null,
   "metadata": {
    "cell_style": "split"
   },
   "outputs": [],
   "source": [
    "foo(1, 2)"
   ]
  },
  {
   "cell_type": "code",
   "execution_count": null,
   "metadata": {
    "cell_style": "split"
   },
   "outputs": [],
   "source": [
    "foo(1, 2, 3)"
   ]
  },
  {
   "cell_type": "code",
   "execution_count": null,
   "metadata": {
    "cell_style": "split"
   },
   "outputs": [],
   "source": [
    "foo(1, 2, 3, bar=1000)"
   ]
  },
  {
   "cell_type": "markdown",
   "metadata": {
    "slideshow": {
     "slide_type": "slide"
    }
   },
   "source": [
    "### un seul paramètre attrape-tout"
   ]
  },
  {
   "cell_type": "markdown",
   "metadata": {},
   "source": [
    "* de bon sens, on ne peut déclarer qu'un seul paramètre de chacune des formes d'attrape-tout\n",
    "* on ne peut pas par exemple déclarer\n",
    "\n",
    "```python\n",
    "# c'est illégal de faire ceci\n",
    "def foo(*args1, *args2):\n",
    "    pass\n",
    "```\n",
    "\n",
    "car évidemment on ne saurait pas décider de ce qui va dans `args1` et ce qui va dans `args2`."
   ]
  },
  {
   "cell_type": "markdown",
   "metadata": {
    "slideshow": {
     "slide_type": "slide"
    }
   },
   "source": [
    "### ordre des déclarations"
   ]
  },
  {
   "cell_type": "markdown",
   "metadata": {},
   "source": [
    "* l'ordre dans lequel sont déclarés les différents types de paramètres est imposé par le langage\n",
    "* historiquement on devait en Python-2 déclarer:\n",
    "\n",
    "> positionnels, nommés, forme `*`, forme `**`\n",
    "\n",
    "comme dans notre fonction `foo`."
   ]
  },
  {
   "cell_type": "markdown",
   "metadata": {
    "slideshow": {
     "slide_type": "slide"
    }
   },
   "source": [
    "* ça reste une bonne approximation\n",
    "* mais en Python-3 on a introduit [les paramètres *keyword-only*](https://www.python.org/dev/peps/pep-3102/)\n",
    "* on peut ainsi définir un paramètre qu'il **faut impérativement** nommer lors de l'appel"
   ]
  },
  {
   "cell_type": "markdown",
   "metadata": {},
   "source": [
    "en version courte, il est maintenant possible de déclarer des **paramètres nommés après la forme `*`**\n",
    "\n",
    "voyons cela sur un exemple"
   ]
  },
  {
   "cell_type": "code",
   "execution_count": null,
   "metadata": {
    "slideshow": {
     "slide_type": "slide"
    }
   },
   "outputs": [],
   "source": [
    "# on peut déclarer un paramètre nommé **après** l'attrape-tout *args\n",
    "def bar(a, *args, b=100, **kwds):\n",
    "        print(f\"a={a}, b={b}, args={args}, kwds={kwds}\")"
   ]
  },
  {
   "cell_type": "markdown",
   "metadata": {},
   "source": [
    "avec cette déclaration, je **dois nommer** le paramètre `b`"
   ]
  },
  {
   "cell_type": "code",
   "execution_count": null,
   "metadata": {
    "cell_style": "split"
   },
   "outputs": [],
   "source": [
    "# je peux toujours faire ceci\n",
    "bar(1)"
   ]
  },
  {
   "cell_type": "code",
   "execution_count": null,
   "metadata": {
    "cell_style": "split"
   },
   "outputs": [],
   "source": [
    "# mais si je fais ceci l'argument 2 \n",
    "# va aller dans args\n",
    "bar(1, 2)"
   ]
  },
  {
   "cell_type": "code",
   "execution_count": null,
   "metadata": {},
   "outputs": [],
   "source": [
    "# pour passer b=2, je **dois** nommer mon argument\n",
    "bar(1, b=2)"
   ]
  }
 ],
 "metadata": {
  "celltoolbar": "Slideshow",
  "kernelspec": {
   "display_name": "Python 3",
   "language": "python",
   "name": "python3"
  },
  "language_info": {
   "codemirror_mode": {
    "name": "ipython",
    "version": 3
   },
   "file_extension": ".py",
   "mimetype": "text/x-python",
   "name": "python",
   "nbconvert_exporter": "python",
   "pygments_lexer": "ipython3",
   "version": "3.7.0"
  },
  "notebookname": "fonctions",
  "version": "1.0"
 },
 "nbformat": 4,
 "nbformat_minor": 2
}
