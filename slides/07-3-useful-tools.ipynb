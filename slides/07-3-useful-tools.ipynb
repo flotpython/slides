{
 "cells": [
  {
   "cell_type": "markdown",
   "metadata": {
    "slideshow": {
     "slide_type": "slide"
    }
   },
   "source": [
    "<div class=\"licence\">\n",
    "<span>Licence CC BY-NC-ND</span>\n",
    "<span>Thierry Parmentelat &amp; Arnaud Legout</span>\n",
    "</div>"
   ]
  },
  {
   "cell_type": "code",
   "execution_count": null,
   "metadata": {
    "slideshow": {
     "slide_type": "slide"
    }
   },
   "outputs": [],
   "source": [
    "from plan import plan; plan(\"compléments\", \"outils\")"
   ]
  },
  {
   "cell_type": "markdown",
   "metadata": {
    "run_control": {
     "frozen": false,
     "read_only": false
    },
    "slideshow": {
     "slide_type": "slide"
    }
   },
   "source": [
    "# outils externes utiles"
   ]
  },
  {
   "cell_type": "markdown",
   "metadata": {
    "run_control": {
     "frozen": false,
     "read_only": false
    },
    "slideshow": {
     "slide_type": "slide"
    }
   },
   "source": [
    "### vérification: `pylint`"
   ]
  },
  {
   "cell_type": "markdown",
   "metadata": {
    "run_control": {
     "frozen": false,
     "read_only": false
    },
    "slideshow": {
     "slide_type": ""
    }
   },
   "source": [
    "* [https://www.pylint.org/](https://www.pylint.org/)\n",
    "* permet de vérifier **un très grand nombre** de bonnes propriétés\n",
    "* **super utile**:\n",
    "  * *pylint saves the day*\n",
    "  * https://codewithoutrules.com/2016/10/19/pylint/\n",
    "* demande un investissement initial\n",
    "  * mais ROI très court !"
   ]
  },
  {
   "cell_type": "code",
   "execution_count": null,
   "metadata": {
    "run_control": {
     "frozen": false,
     "read_only": false
    }
   },
   "outputs": [],
   "source": [
    "!pip3 install pylint"
   ]
  },
  {
   "cell_type": "markdown",
   "metadata": {
    "run_control": {
     "frozen": false,
     "read_only": false
    },
    "slideshow": {
     "slide_type": "slide"
    }
   },
   "source": [
    "###  `pylint`"
   ]
  },
  {
   "cell_type": "markdown",
   "metadata": {
    "run_control": {
     "frozen": false,
     "read_only": false
    },
    "slideshow": {
     "slide_type": ""
    }
   },
   "source": [
    "* problème principal: trop de features : **beaucoup de bruit**\n",
    "* déterminer avec l'expérience les traits importants\n",
    "* commencer avec la liste complète, et **éliminer le bruit**\n",
    "* constituer un `pylintrc` pour le projet\n",
    "  * https://docs.pylint.org/en/1.6.0/run.html#command-line-options\n",
    "* création d'un squelette avec `pylint --generate-rcfile`\n",
    "* `disable=c0111` (aussi par nom, catégories, ...)\n",
    "* peut se faire fichier / fichier, ou même ligne / ligne"
   ]
  },
  {
   "cell_type": "markdown",
   "metadata": {
    "run_control": {
     "frozen": false,
     "read_only": false
    },
    "slideshow": {
     "slide_type": "slide"
    }
   },
   "source": [
    "### `pylint`"
   ]
  },
  {
   "cell_type": "markdown",
   "metadata": {
    "run_control": {
     "frozen": false,
     "read_only": false
    },
    "slideshow": {
     "slide_type": "slide"
    }
   },
   "source": [
    "* idéalement branché sur éditeur en *mode continu* \n",
    "* pylint lancé à chaque sauvegarde\n",
    "* https://pylint.readthedocs.io/en/latest/user_guide/ide-integration.html\n",
    "* perso: j'utilise atom https://atom.io/"
   ]
  },
  {
   "cell_type": "markdown",
   "metadata": {
    "run_control": {
     "frozen": false,
     "read_only": false
    },
    "slideshow": {
     "slide_type": "slide"
    }
   },
   "source": [
    "### exercice pylint"
   ]
  },
  {
   "cell_type": "markdown",
   "metadata": {
    "run_control": {
     "frozen": false,
     "read_only": false
    },
    "slideshow": {
     "slide_type": ""
    }
   },
   "source": [
    "* lancer pylint sur dummysim - ou sur un projet à vous\n",
    "* affiner un `pylintrc` commun au projet pour enlever le bruit\n",
    "* modifier le code pour éliminer les messages considérés comme pertinents"
   ]
  },
  {
   "cell_type": "markdown",
   "metadata": {
    "slideshow": {
     "slide_type": "slide"
    }
   },
   "source": [
    "# `virtualenv`"
   ]
  },
  {
   "cell_type": "markdown",
   "metadata": {},
   "source": [
    "* si vous travaillez fréquemment sur plusieurs projets\n",
    "* chacun a ses contraintes de librairies tierces et de version\n",
    "* une unique installation Python sur votre machine ne suffit plus"
   ]
  },
  {
   "cell_type": "markdown",
   "metadata": {
    "slideshow": {
     "slide_type": "slide"
    }
   },
   "source": [
    "### `virtualenv`"
   ]
  },
  {
   "cell_type": "markdown",
   "metadata": {},
   "source": [
    "* permet de créer dans un répertoire une installation python autonome\n",
    "* typiquement un virtualenv par projet"
   ]
  },
  {
   "cell_type": "markdown",
   "metadata": {
    "slideshow": {
     "slide_type": "slide"
    }
   },
   "source": [
    "### mon approche personnelle"
   ]
  },
  {
   "cell_type": "markdown",
   "metadata": {},
   "source": [
    "* tous mes virtualenv sont dans un répertoire `venv`\n",
    "* de cette façon je peux instrumenter mon environnement `bash`\n",
    "* pour changer de virtualenv en même temps que je fais `cd`\n",
    "* en remontant dans le file-system jusqu'à trouver un `venv`\n",
    "\n"
   ]
  },
  {
   "cell_type": "markdown",
   "metadata": {
    "slideshow": {
     "slide_type": "slide"
    }
   },
   "source": [
    "### *hands-on*"
   ]
  },
  {
   "cell_type": "markdown",
   "metadata": {},
   "source": [
    "* on crée un *virtualenv* avec `virtualenv le/chemin/venv`\n",
    "* on y entre dans un avec `source le/chemin/venv/bin/activate`\n",
    "* on y sort avec juste `deactivate`"
   ]
  },
  {
   "cell_type": "markdown",
   "metadata": {
    "slideshow": {
     "slide_type": "slide"
    }
   },
   "source": [
    "```bash\n",
    "tparment /tmp $ virtualenv venv\n",
    "Using base prefix '/usr/local/Cellar/python/3.7.0/Frameworks/Python.framework/Versions/3.7'\n",
    "New python executable in /private/tmp/venv/bin/python3.7\n",
    "Also creating executable in /private/tmp/venv/bin/python\n",
    "Installing setuptools, pip, wheel...\n",
    "done.\n",
    "\n",
    "tparment /tmp $ ls venv/bin/activate\n",
    "venv/bin/activate\n",
    "tparment /tmp $ source venv/bin/activate\n",
    "\n",
    "[venv @ tmp] tparment /tmp $ pip3 freeze\n",
    "[venv @ tmp] tparment /tmp $ python3 -c 'import numpy'\n",
    "Traceback (most recent call last):\n",
    "  File \"<string>\", line 1, in <module>\n",
    "ModuleNotFoundError: No module named 'numpy'\n",
    "\n",
    "[venv @ tmp] tparment /tmp $ deactivate\n",
    "tparment /tmp $\n",
    "```"
   ]
  },
  {
   "cell_type": "markdown",
   "metadata": {
    "run_control": {
     "frozen": false,
     "read_only": false
    },
    "slideshow": {
     "slide_type": "slide"
    }
   },
   "source": [
    "### Présentation du code et la `PEP008`\n",
    "\n",
    "* à partir des conventions de [PEP8](https://www.python.org/dev/peps/pep-0008/)\n",
    "* de (très / trop) nombreux outils sont disponibles"
   ]
  },
  {
   "cell_type": "code",
   "execution_count": null,
   "metadata": {
    "run_control": {
     "frozen": false,
     "read_only": false
    }
   },
   "outputs": [],
   "source": [
    "!pip3 install pep8"
   ]
  },
  {
   "cell_type": "code",
   "execution_count": null,
   "metadata": {
    "run_control": {
     "frozen": false,
     "read_only": false
    },
    "slideshow": {
     "slide_type": "slide"
    }
   },
   "outputs": [],
   "source": [
    "!cat samples/presentation.py"
   ]
  },
  {
   "cell_type": "code",
   "execution_count": null,
   "metadata": {
    "run_control": {
     "frozen": false,
     "read_only": false
    }
   },
   "outputs": [],
   "source": [
    "!pep8 samples/presentation.py"
   ]
  },
  {
   "cell_type": "markdown",
   "metadata": {
    "run_control": {
     "frozen": false,
     "read_only": false
    },
    "slideshow": {
     "slide_type": "slide"
    }
   },
   "source": [
    "### Présentation du code\n",
    "\n",
    "* pour ce qui est de la vérification quotidienne: \n",
    "  * déjà fait par `pylint`\n",
    "* pour les gros refactoring\n",
    "  * opter pour un outil qui sait faire les modifications automatiquement\n",
    "  * `autopep8`\n",
    "  * `flake8`\n",
    "  * `etc`"
   ]
  },
  {
   "cell_type": "code",
   "execution_count": null,
   "metadata": {
    "run_control": {
     "frozen": false,
     "read_only": false
    }
   },
   "outputs": [],
   "source": [
    "!pip3 install autopep8"
   ]
  },
  {
   "cell_type": "code",
   "execution_count": null,
   "metadata": {
    "run_control": {
     "frozen": false,
     "read_only": false
    }
   },
   "outputs": [],
   "source": [
    "# on copie pour pouvoir voir les différences\n",
    "!cp samples/presentation.py samples/reparation.py"
   ]
  },
  {
   "cell_type": "code",
   "execution_count": null,
   "metadata": {
    "run_control": {
     "frozen": false,
     "read_only": false
    }
   },
   "outputs": [],
   "source": [
    "# allons-y\n",
    "!autopep8 --in-place samples/reparation.py"
   ]
  },
  {
   "cell_type": "code",
   "execution_count": null,
   "metadata": {
    "run_control": {
     "frozen": false,
     "read_only": false
    }
   },
   "outputs": [],
   "source": [
    "!diff -c samples/presentation.py samples/reparation.py"
   ]
  },
  {
   "cell_type": "markdown",
   "metadata": {
    "run_control": {
     "frozen": false,
     "read_only": false
    },
    "slideshow": {
     "slide_type": "slide"
    }
   },
   "source": [
    "# détaillés plus loin\n",
    "\n",
    "* `numpy` pour le calcul scientifique\n",
    "* `asyncio` pour la programmation asynchrone\n",
    "* `unittest` et autres `pytest` pour les tests et l'intégration continue\n",
    "* `sphinx` et `readthedocs.io` pour la documentation\n",
    "* et bien sûr `git` pour tout\n",
    "* et enfin `jupyter` pour écrire des notebooks"
   ]
  },
  {
   "cell_type": "markdown",
   "metadata": {
    "run_control": {
     "frozen": false,
     "read_only": false
    },
    "slideshow": {
     "slide_type": "slide"
    }
   },
   "source": [
    "# online python tutor"
   ]
  },
  {
   "cell_type": "markdown",
   "metadata": {
    "run_control": {
     "frozen": false,
     "read_only": false
    }
   },
   "source": [
    "* un outil en ligne pour visualiser l’exécution de code Python ligne par ligne\n",
    "* utile pour l'apprentissage du langage\n",
    "* que nous utilisons copieusement ici même\n",
    "* http://pythontutor.com/ "
   ]
  },
  {
   "cell_type": "markdown",
   "metadata": {
    "run_control": {
     "frozen": false,
     "read_only": false
    },
    "slideshow": {
     "slide_type": "slide"
    }
   },
   "source": [
    "# pour aller plus loin"
   ]
  },
  {
   "cell_type": "markdown",
   "metadata": {
    "run_control": {
     "frozen": false,
     "read_only": false
    }
   },
   "source": [
    "* Écrire du code et tester\n",
    "  * http://www.rmi.net/~lutz/LP4E-examples.zip\n",
    "* Programming Python, 4th Edition\n",
    "![programming-python](pics/book-programming-python.png)"
   ]
  },
  {
   "cell_type": "markdown",
   "metadata": {
    "run_control": {
     "frozen": false,
     "read_only": false
    },
    "slideshow": {
     "slide_type": "slide"
    }
   },
   "source": [
    "# pour aller plus loin"
   ]
  },
  {
   "cell_type": "markdown",
   "metadata": {
    "run_control": {
     "frozen": false,
     "read_only": false
    }
   },
   "source": [
    "* Design Patterns: Elements of Reusable Object-Oriented Software\n",
    "![design-patterns](pics/book-design-patterns.png)"
   ]
  },
  {
   "cell_type": "markdown",
   "metadata": {
    "run_control": {
     "frozen": false,
     "read_only": false
    },
    "slideshow": {
     "slide_type": "slide"
    }
   },
   "source": [
    "# Pour aller plus loin"
   ]
  },
  {
   "cell_type": "markdown",
   "metadata": {
    "run_control": {
     "frozen": false,
     "read_only": false
    }
   },
   "source": [
    "* Une revue et correction de code publique très instructive faite par sametmax\n",
    "  * http://sametmax.com/revue-de-code-publique/"
   ]
  }
 ],
 "metadata": {
  "celltoolbar": "Slideshow",
  "kernelspec": {
   "display_name": "Python 3",
   "language": "python",
   "name": "python3"
  },
  "language_info": {
   "codemirror_mode": {
    "name": "ipython",
    "version": 3
   },
   "file_extension": ".py",
   "mimetype": "text/x-python",
   "name": "python",
   "nbconvert_exporter": "python",
   "pygments_lexer": "ipython3",
   "version": "3.7.0"
  },
  "notebookname": "Outils externes utiles",
  "version": "1.0"
 },
 "nbformat": 4,
 "nbformat_minor": 2
}
