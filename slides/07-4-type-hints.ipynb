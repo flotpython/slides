{
 "cells": [
  {
   "cell_type": "markdown",
   "metadata": {
    "run_control": {
     "frozen": false,
     "read_only": false
    },
    "slideshow": {
     "slide_type": "slide"
    }
   },
   "source": [
    "<div class=\"licence\">\n",
    "<span>Licence CC BY-NC-ND</span>\n",
    "<span>Thierry Parmentelat &amp; Arnaud Legout</span>\n",
    "</div>"
   ]
  },
  {
   "cell_type": "code",
   "execution_count": null,
   "metadata": {
    "slideshow": {
     "slide_type": "slide"
    }
   },
   "outputs": [],
   "source": [
    "# from plan import plan; plan(\"compléments\", \"type hints\")"
   ]
  },
  {
   "cell_type": "markdown",
   "metadata": {
    "run_control": {
     "frozen": false,
     "read_only": false
    },
    "slideshow": {
     "slide_type": "slide"
    }
   },
   "source": [
    "# type hints\n",
    "\n",
    "* **suggestions** de typage"
   ]
  },
  {
   "cell_type": "markdown",
   "metadata": {
    "run_control": {
     "frozen": false,
     "read_only": false
    }
   },
   "source": [
    "### motivations\n",
    "\n",
    "* *duck typing* : pratique mais a des limitations\n",
    "* introduire un mécanisme **optionnel** pour améliorer la situation\n",
    "  * meilleure documentation / abaisser barrière d'entrée\n",
    "  * analyse statique: trouver les bugs plus tôt\n",
    "  * (performances)"
   ]
  },
  {
   "cell_type": "markdown",
   "metadata": {
    "run_control": {
     "frozen": false,
     "read_only": false
    },
    "slideshow": {
     "slide_type": "slide"
    }
   },
   "source": [
    "# histoire"
   ]
  },
  {
   "cell_type": "markdown",
   "metadata": {
    "run_control": {
     "frozen": false,
     "read_only": false
    },
    "slideshow": {
     "slide_type": ""
    }
   },
   "source": [
    "* commencé au travers du projet [mypy](http://mypy.readthedocs.io/en/latest/index.html), par Jukka Lehtosalo\n",
    "* PEPs en vigueur\n",
    "  * [PEP-484](https://www.python.org/dev/peps/pep-0484/) \"Type hints\"\n",
    "  * [PEP-483](https://www.python.org/dev/peps/pep-0483/) \"The theory of type hints\"\n",
    "* progressivement intégré à python\n",
    "* module `typing` disponible depuis 3.5"
   ]
  },
  {
   "cell_type": "markdown",
   "metadata": {
    "run_control": {
     "frozen": false,
     "read_only": false
    },
    "slideshow": {
     "slide_type": "slide"
    }
   },
   "source": [
    "# un exemple"
   ]
  },
  {
   "cell_type": "markdown",
   "metadata": {
    "run_control": {
     "frozen": false,
     "read_only": false
    }
   },
   "source": [
    "pour insister sur le caractère **optionnel**:"
   ]
  },
  {
   "cell_type": "code",
   "execution_count": null,
   "metadata": {
    "run_control": {
     "frozen": false,
     "read_only": false
    }
   },
   "outputs": [],
   "source": [
    "# on ajoute des annotations à l'objet 'ajouter'\n",
    "def ajouter(x: int, y:int) -> int:\n",
    "    return x + y"
   ]
  },
  {
   "cell_type": "code",
   "execution_count": null,
   "metadata": {
    "run_control": {
     "frozen": false,
     "read_only": false
    }
   },
   "outputs": [],
   "source": [
    "# mais à run-time celles-ci sont ignorées !\n",
    "ajouter('abc', 'def')"
   ]
  },
  {
   "cell_type": "markdown",
   "metadata": {
    "run_control": {
     "frozen": false,
     "read_only": false
    },
    "slideshow": {
     "slide_type": "slide"
    }
   },
   "source": [
    "# à quoi ça sert alors ?"
   ]
  },
  {
   "cell_type": "markdown",
   "metadata": {
    "run_control": {
     "frozen": false,
     "read_only": false
    }
   },
   "source": [
    "## utiliser un outil externe à la *pylint*"
   ]
  },
  {
   "cell_type": "code",
   "execution_count": null,
   "metadata": {
    "run_control": {
     "frozen": false,
     "read_only": false
    }
   },
   "outputs": [],
   "source": [
    "!cat samples/types01.py"
   ]
  },
  {
   "cell_type": "code",
   "execution_count": null,
   "metadata": {
    "run_control": {
     "frozen": false,
     "read_only": false
    }
   },
   "outputs": [],
   "source": [
    "!mypy samples/types01.py"
   ]
  },
  {
   "cell_type": "markdown",
   "metadata": {
    "run_control": {
     "frozen": false,
     "read_only": false
    },
    "slideshow": {
     "slide_type": "slide"
    }
   },
   "source": [
    "# à quoi ça sert alors ?"
   ]
  },
  {
   "cell_type": "markdown",
   "metadata": {
    "run_control": {
     "frozen": false,
     "read_only": false
    }
   },
   "source": [
    "### meilleure documentation !\n",
    "\n",
    "* moins de temps perdu à deviner les présupposés sur les arguments"
   ]
  },
  {
   "cell_type": "markdown",
   "metadata": {
    "run_control": {
     "frozen": false,
     "read_only": false
    },
    "slideshow": {
     "slide_type": "slide"
    }
   },
   "source": [
    "### comment définir un type"
   ]
  },
  {
   "cell_type": "markdown",
   "metadata": {
    "run_control": {
     "frozen": false,
     "read_only": false
    }
   },
   "source": [
    "* les classes builtin `str`, `dict` etc..\n",
    "* le module `typing` introduit des concepts additionnels\n",
    "  * qui servent à étendre le spectre\n",
    "  * comme `Iterable`, `Callable`, ...\n",
    "  * mais aussi la notion de type abstrait avec `Generic` et `TypeVar`\n",
    "  * nous allons voir tout ceci sur quelques exemples"
   ]
  },
  {
   "cell_type": "markdown",
   "metadata": {
    "run_control": {
     "frozen": false,
     "read_only": false
    },
    "slideshow": {
     "slide_type": "slide"
    }
   },
   "source": [
    "## aliases"
   ]
  },
  {
   "cell_type": "code",
   "execution_count": null,
   "metadata": {
    "run_control": {
     "frozen": false,
     "read_only": false
    }
   },
   "outputs": [],
   "source": [
    "# pour définir un alias pour une classe native\n",
    "# une affectation suffit\n",
    "\n",
    "Url = str\n",
    "\n",
    "def retrieve_url(url: Url, count: int) -> bool:\n",
    "    #\n",
    "    return True"
   ]
  },
  {
   "cell_type": "markdown",
   "metadata": {
    "run_control": {
     "frozen": false,
     "read_only": false
    },
    "slideshow": {
     "slide_type": "slide"
    }
   },
   "source": [
    "## classes\n",
    "\n",
    "* un objet classe défini avec `class`\n",
    "* peut être utilisé bien évidemment aussi"
   ]
  },
  {
   "cell_type": "code",
   "execution_count": null,
   "metadata": {
    "run_control": {
     "frozen": false,
     "read_only": false
    }
   },
   "outputs": [],
   "source": [
    "class Foo: \n",
    "    pass\n",
    "\n",
    "def link_foos(foo1: Foo, foo2: Foo) -> None:\n",
    "    pass"
   ]
  },
  {
   "cell_type": "markdown",
   "metadata": {
    "run_control": {
     "frozen": false,
     "read_only": false
    },
    "slideshow": {
     "slide_type": "slide"
    }
   },
   "source": [
    "## le module `typing`"
   ]
  },
  {
   "cell_type": "markdown",
   "metadata": {
    "run_control": {
     "frozen": false,
     "read_only": false
    }
   },
   "source": [
    "* des **constructeurs de type**\n",
    "* permettent de fabriquer des types plus élaborés\n",
    "* ils sont définis **dans le module `typing`**\n",
    "* et ont un nom en `FonteMixte`"
   ]
  },
  {
   "cell_type": "markdown",
   "metadata": {
    "run_control": {
     "frozen": false,
     "read_only": false
    },
    "slideshow": {
     "slide_type": "slide"
    }
   },
   "source": [
    "## `List` et `Tuple`\n",
    "\n",
    "* pour commencer: `List` (et `Tuple`)\n",
    "* qui permettent de décrire le type des composants d'une liste\n",
    "* remarquer l'usage des `[]` pour la composition de types"
   ]
  },
  {
   "cell_type": "code",
   "execution_count": null,
   "metadata": {
    "run_control": {
     "frozen": false,
     "read_only": false
    }
   },
   "outputs": [],
   "source": [
    "from typing import List, Tuple\n",
    "\n",
    "# une liste ayant un nombre quelconque d'éléments\n",
    "# on décrit un objet `List` avec un seul type\n",
    "\n",
    "# ce type décrit une liste d'objets tous de type str\n",
    "Labels = List[str]"
   ]
  },
  {
   "cell_type": "code",
   "execution_count": null,
   "metadata": {
    "run_control": {
     "frozen": false,
     "read_only": false
    },
    "slideshow": {
     "slide_type": "slide"
    }
   },
   "outputs": [],
   "source": [
    "# un tuple est non mutable, il semble logique de dire\n",
    "# combien il doit avoir de composants et de quels types\n",
    "\n",
    "# ce type décrit un tuple qui contient un entier et un flottant\n",
    "Name = str\n",
    "Age = int\n",
    "Phone = str\n",
    "\n",
    "Employee = Tuple[Name, Age, Phone]"
   ]
  },
  {
   "cell_type": "code",
   "execution_count": null,
   "metadata": {
    "cell_style": "split"
   },
   "outputs": [],
   "source": [
    "# Employee peut être mentionné \n",
    "# dans les type hints \n",
    "type(Employee)"
   ]
  },
  {
   "cell_type": "code",
   "execution_count": null,
   "metadata": {
    "cell_style": "split"
   },
   "outputs": [],
   "source": [
    "# mais ce n'est pas \n",
    "# une usine à objets\n",
    "try: \n",
    "    Employee()\n",
    "except Exception as exc:\n",
    "    print(f\"OOPS - {type(exc)}\")"
   ]
  },
  {
   "cell_type": "code",
   "execution_count": null,
   "metadata": {
    "run_control": {
     "frozen": false,
     "read_only": false
    },
    "slideshow": {
     "slide_type": ""
    }
   },
   "outputs": [],
   "source": [
    "# de manière similaire\n",
    "# ne pas confondre tuple et Tuple !\n",
    "Tuple is tuple"
   ]
  },
  {
   "cell_type": "markdown",
   "metadata": {
    "run_control": {
     "frozen": false,
     "read_only": false
    },
    "slideshow": {
     "slide_type": "slide"
    }
   },
   "source": [
    "## `Dict` et `Set`"
   ]
  },
  {
   "cell_type": "code",
   "execution_count": null,
   "metadata": {
    "run_control": {
     "frozen": false,
     "read_only": false
    },
    "slideshow": {
     "slide_type": ""
    }
   },
   "outputs": [],
   "source": [
    "# c'est pareil avec `Dict` et `Set`\n",
    "from typing import Dict, Set\n",
    "\n",
    "# Dict est construit avec deux types\n",
    "NameHash = Dict[Name, Employee]\n",
    "\n",
    "# et Set avec un seul\n",
    "PhoneSet = Set[Phone]"
   ]
  },
  {
   "cell_type": "code",
   "execution_count": null,
   "metadata": {
    "run_control": {
     "frozen": false,
     "read_only": false
    },
    "slideshow": {
     "slide_type": "slide"
    }
   },
   "outputs": [],
   "source": [
    "!cat samples/types02.py"
   ]
  },
  {
   "cell_type": "code",
   "execution_count": null,
   "metadata": {
    "run_control": {
     "frozen": false,
     "read_only": false
    }
   },
   "outputs": [],
   "source": [
    "!mypy samples/types02.py"
   ]
  },
  {
   "cell_type": "markdown",
   "metadata": {
    "run_control": {
     "frozen": false,
     "read_only": false
    },
    "slideshow": {
     "slide_type": "slide"
    }
   },
   "source": [
    "## `Iterable`, `Iterator`, `Sequence`\n",
    "\n",
    "* ça devient intéressant de **formaliser**\n",
    "* le vocabulaire qui est souvent un peu approximatif\n",
    "* par exemple:"
   ]
  },
  {
   "cell_type": "code",
   "execution_count": null,
   "metadata": {
    "run_control": {
     "frozen": false,
     "read_only": false
    }
   },
   "outputs": [],
   "source": [
    "from typing import Iterable, Iterator, Sequence\n",
    "\n",
    "Iterable[int]\n",
    "Iterator[Tuple[int, float, str]]\n",
    "Sequence[List[float]]"
   ]
  },
  {
   "cell_type": "markdown",
   "metadata": {
    "run_control": {
     "frozen": false,
     "read_only": false
    },
    "slideshow": {
     "slide_type": "slide"
    }
   },
   "source": [
    "## `NewType`\n",
    "\n",
    "* Une méthode plus propre pour définir un alias"
   ]
  },
  {
   "cell_type": "code",
   "execution_count": null,
   "metadata": {
    "run_control": {
     "frozen": false,
     "read_only": false
    }
   },
   "outputs": [],
   "source": [
    "from typing import NewType\n",
    "\n",
    "UserId = NewType('UserId', int)\n",
    "some_id = UserId(524313)"
   ]
  },
  {
   "cell_type": "markdown",
   "metadata": {
    "run_control": {
     "frozen": false,
     "read_only": false
    }
   },
   "source": [
    "de cette façon on peut être plus strict"
   ]
  },
  {
   "cell_type": "code",
   "execution_count": null,
   "metadata": {
    "run_control": {
     "frozen": false,
     "read_only": false
    }
   },
   "outputs": [],
   "source": [
    "def get_user_name(user_id: UserId) -> str:\n",
    "    ...\n",
    "\n",
    "# typecheck OK\n",
    "user_a = get_user_name(UserId(42351))\n",
    "\n",
    "# typecheck KO; un entier n'est pas un UserId\n",
    "user_b = get_user_name(-1)"
   ]
  },
  {
   "cell_type": "markdown",
   "metadata": {
    "run_control": {
     "frozen": false,
     "read_only": false
    },
    "slideshow": {
     "slide_type": "slide"
    }
   },
   "source": [
    "## autres constructeurs en vrac"
   ]
  },
  {
   "cell_type": "markdown",
   "metadata": {
    "run_control": {
     "frozen": false,
     "read_only": false
    },
    "slideshow": {
     "slide_type": ""
    }
   },
   "source": [
    "* `Any` peut être n'importe quoi\n",
    "* `Union` lorsqu'on accepte plusieurs types\n",
    "* `Callable` pour les objets, ahem, callables\n",
    "* `Hashable` ce qui peut être utilisé comme clé d'un dictionnaire\n",
    "* `TypeVar` pour manipuler des types génériques (à la template C++)\n",
    "  * grâce auxquelles on peut implémenter des classes génériques"
   ]
  },
  {
   "cell_type": "markdown",
   "metadata": {
    "run_control": {
     "frozen": false,
     "read_only": false
    },
    "slideshow": {
     "slide_type": "slide"
    }
   },
   "source": [
    "# conclusion"
   ]
  },
  {
   "cell_type": "markdown",
   "metadata": {
    "run_control": {
     "frozen": false,
     "read_only": false
    },
    "slideshow": {
     "slide_type": ""
    }
   },
   "source": [
    "* peut-être pas totalement stable encore\n",
    "  * mais gagne petit à petit en popularité\n",
    "  * il faut au moins savoir le lire !\n",
    "* surtout en termes d'usage\n",
    "  * tendance à aller vers un **type-checker *runtime* optionnel**\n",
    "  * mais de nombreux points restent incertains \n",
    "* **par contre** c'est clairement la voie à suivre \n",
    "  * langage de type complet\n",
    "  * pour enrichir la documentation et l'utilisabilité du code\n",
    "  * notamment intégré dans les outils de doc (e.g. sphinx)"
   ]
  },
  {
   "cell_type": "markdown",
   "metadata": {
    "slideshow": {
     "slide_type": "slide"
    }
   },
   "source": [
    "# partie optionnelle"
   ]
  },
  {
   "cell_type": "markdown",
   "metadata": {
    "run_control": {
     "frozen": false,
     "read_only": false
    },
    "slideshow": {
     "slide_type": "slide"
    }
   },
   "source": [
    "## ATTENTION avec `isinstance`"
   ]
  },
  {
   "cell_type": "markdown",
   "metadata": {
    "run_control": {
     "frozen": false,
     "read_only": false
    },
    "slideshow": {
     "slide_type": ""
    }
   },
   "source": [
    "* on serait tenté d'utiliser `isinstance`/`issubclass` avec les types\n",
    "* il **ne faut pas le faire**\n",
    "* je vous renvoie [à ce post](https://github.com/python/typing/issues/136) \n",
    "* il est suggéré de disposer d'une **autre** builtin que `isinstance`\n",
    "  * pour vérifier si une variable est *acceptable* pour un **type**\n",
    "  * alors que `isinstance` se base uniquement sur l'héritage de **classes**"
   ]
  },
  {
   "cell_type": "code",
   "execution_count": null,
   "metadata": {
    "run_control": {
     "frozen": false,
     "read_only": false
    },
    "slideshow": {
     "slide_type": "slide"
    }
   },
   "outputs": [],
   "source": [
    "# ceci déclenche un TypeError\n",
    "try:\n",
    "    isinstance( {'0123456789', 98765432}, PhoneSet)\n",
    "except Exception as exc:\n",
    "    print(f\"{type(exc)} {exc}\")"
   ]
  }
 ],
 "metadata": {
  "celltoolbar": "Slideshow",
  "jupytext": {
   "cell_metadata_filter": "all",
   "notebook_metadata_filter": "all,-language_info"
  },
  "kernelspec": {
   "display_name": "Python 3",
   "language": "python",
   "name": "python3"
  },
  "language_info": {
   "codemirror_mode": {
    "name": "ipython",
    "version": 3
   },
   "file_extension": ".py",
   "mimetype": "text/x-python",
   "name": "python",
   "nbconvert_exporter": "python",
   "pygments_lexer": "ipython3",
   "version": "3.7.4"
  },
  "notebookname": "type hints",
  "rise": {
   "autolaunch": true,
   "slideNumber": "c/t",
   "start_slideshow_at": "selected",
   "theme": "sky",
   "transition": "cube"
  },
  "toc": {
   "colors": {
    "hover_highlight": "#DAA520",
    "running_highlight": "#FF0000",
    "selected_highlight": "#FFD700"
   },
   "moveMenuLeft": true,
   "nav_menu": {
    "height": "12px",
    "width": "252px"
   },
   "navigate_menu": true,
   "number_sections": true,
   "sideBar": true,
   "threshold": "2",
   "toc_cell": false,
   "toc_section_display": "block",
   "toc_window_display": false,
   "widenNotebook": false
  },
  "version": "1.0"
 },
 "nbformat": 4,
 "nbformat_minor": 2
}
