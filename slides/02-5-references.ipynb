{
 "cells": [
  {
   "cell_type": "markdown",
   "metadata": {
    "run_control": {
     "frozen": false,
     "read_only": false
    },
    "slideshow": {
     "slide_type": "slide"
    }
   },
   "source": [
    "<div class=\"licence\">\n",
    "<span>Licence CC BY-NC-ND</span>\n",
    "<span>Thierry Parmentelat &amp; Arnaud Legout</span>\n",
    "</div>"
   ]
  },
  {
   "cell_type": "code",
   "execution_count": null,
   "metadata": {},
   "outputs": [],
   "source": [
    "from plan import plan; plan(\"types\", \"références\")"
   ]
  },
  {
   "cell_type": "markdown",
   "metadata": {
    "run_control": {
     "frozen": false,
     "read_only": false
    },
    "slideshow": {
     "slide_type": "slide"
    }
   },
   "source": [
    "### références partagées, l’histoire complète"
   ]
  },
  {
   "cell_type": "code",
   "execution_count": null,
   "metadata": {},
   "outputs": [],
   "source": [
    "%load_ext ipythontutor"
   ]
  },
  {
   "cell_type": "markdown",
   "metadata": {
    "run_control": {
     "frozen": false,
     "read_only": false
    },
    "slideshow": {
     "slide_type": "slide"
    }
   },
   "source": [
    "# composition des types de base"
   ]
  },
  {
   "cell_type": "markdown",
   "metadata": {
    "run_control": {
     "frozen": false,
     "read_only": false
    }
   },
   "source": [
    "* tous ces containers peuvent être imbriqués\n",
    "* ils peuvent être composés sans limite\n",
    "* uniquement votre faculté à vous y retrouver"
   ]
  },
  {
   "cell_type": "code",
   "execution_count": null,
   "metadata": {
    "run_control": {
     "frozen": false,
     "read_only": false
    },
    "slideshow": {
     "slide_type": "slide"
    }
   },
   "outputs": [],
   "source": [
    "%%ipythontutor heapPrimitives=true curInstr=1 width=1200 height=800\n",
    "# une liste avec une sous-liste qui contient un dict et un tuple\n",
    "L = ['abc', [ { (1, 2) : 1}, ([3], 4)], 5]"
   ]
  },
  {
   "cell_type": "markdown",
   "metadata": {
    "run_control": {
     "frozen": false,
     "read_only": false
    },
    "slideshow": {
     "slide_type": "slide"
    }
   },
   "source": [
    "# typage dynamique"
   ]
  },
  {
   "cell_type": "markdown",
   "metadata": {
    "run_control": {
     "frozen": false,
     "read_only": false
    }
   },
   "source": [
    "* si on exécute `a = 3`\n",
    "* Python va\n",
    "  * créer un objet représentant 3\n",
    "  * créer une variable `a` si elle n’existe pas encore  \n",
    "    (une entrée dans une table)\n",
    "\n",
    "  * faire de `a` une référence de l’objet"
   ]
  },
  {
   "cell_type": "code",
   "execution_count": null,
   "metadata": {
    "slideshow": {
     "slide_type": "slide"
    }
   },
   "outputs": [],
   "source": [
    "%%ipythontutor heapPrimitives=true width=800 curInstr=1\n",
    "a = 3 "
   ]
  },
  {
   "cell_type": "markdown",
   "metadata": {
    "run_control": {
     "frozen": false,
     "read_only": false
    },
    "slideshow": {
     "slide_type": "slide"
    }
   },
   "source": [
    "# références partagées"
   ]
  },
  {
   "cell_type": "code",
   "execution_count": null,
   "metadata": {
    "run_control": {
     "frozen": false,
     "read_only": false
    },
    "slideshow": {
     "slide_type": "slide"
    }
   },
   "outputs": [],
   "source": [
    "%%ipythontutor heapPrimitives=true width=800 curInstr=1\n",
    "a = 3\n",
    "b = a\n",
    "a = a + 2"
   ]
  },
  {
   "cell_type": "markdown",
   "metadata": {
    "run_control": {
     "frozen": false,
     "read_only": false
    },
    "slideshow": {
     "slide_type": "slide"
    }
   },
   "source": [
    "# rappel : mutable *vs* immutable"
   ]
  },
  {
   "cell_type": "markdown",
   "metadata": {
    "run_control": {
     "frozen": false,
     "read_only": false
    }
   },
   "source": [
    "* les entiers, les chaines, les tuples sont `immutables`\n",
    "  * ils ne **peuvent pas** être modifiés\n",
    "  * il n’y a **pas d’effet de bord** possible  \n",
    "    sur un objet immutable\n",
    "\n",
    "  * il est impossible qu’une modification sur `b` affecte `a`    "
   ]
  },
  {
   "cell_type": "markdown",
   "metadata": {
    "run_control": {
     "frozen": false,
     "read_only": false
    }
   },
   "source": [
    "* que se passe-t-il si l’objet est mutable ?\n",
    "  * il peut être changé \n",
    "* impact sur **toutes** les références vers cet objet  \n",
    "  * depuis une variable \n",
    "  * ou depuis l'intérieur d'un autre objet"
   ]
  },
  {
   "cell_type": "markdown",
   "metadata": {
    "run_control": {
     "frozen": false,
     "read_only": false
    },
    "slideshow": {
     "slide_type": "slide"
    }
   },
   "source": [
    "### mutable / immutable"
   ]
  },
  {
   "cell_type": "code",
   "execution_count": null,
   "metadata": {
    "cell_style": "center",
    "run_control": {
     "frozen": false,
     "read_only": false
    },
    "slideshow": {
     "slide_type": "-"
    }
   },
   "outputs": [],
   "source": [
    "%%ipythontutor heapPrimitives=true width=800 curInstr=1\n",
    "a = [1, 2]\n",
    "b = a\n",
    "a[0] = 'spam'\n",
    "print(b)"
   ]
  },
  {
   "cell_type": "markdown",
   "metadata": {
    "run_control": {
     "frozen": false,
     "read_only": false
    },
    "slideshow": {
     "slide_type": "slide"
    }
   },
   "source": [
    "# références partagées"
   ]
  },
  {
   "cell_type": "markdown",
   "metadata": {
    "run_control": {
     "frozen": false,
     "read_only": false
    }
   },
   "source": [
    "* pour ne pas modifier `b`, faire une **copie** de `a`\n",
    "* il y a deux types de copies en Python\n",
    "* la *shallow copy* (superficielle)\n",
    "  * pour les toutes les séquences, utiliser simplement `a[:]`\n",
    "  * pour les dictionnaires utiliser `D.copy()`\n",
    "  * sinon, utiliser le module `copy.copy()`\n",
    "* la *deep copy* (profonde)\n",
    "  * `copy.deepcopy()` pour tout copier de manière récursive"
   ]
  },
  {
   "cell_type": "markdown",
   "metadata": {
    "run_control": {
     "frozen": false,
     "read_only": false
    },
    "slideshow": {
     "slide_type": "slide"
    }
   },
   "source": [
    "# références partagées"
   ]
  },
  {
   "cell_type": "markdown",
   "metadata": {
    "run_control": {
     "frozen": false,
     "read_only": false
    }
   },
   "source": [
    "* la différence entre *shallow* et *deep* copy n’existe que pour les  \n",
    "  objets composites (les objets qui contiennent d’autres objets)\n",
    "\n",
    "* shallow copy\n",
    "  * crée un nouvel objet composite et y insère  \n",
    "    les **références** vers les objets contenus dans l’original\n",
    "\n",
    "* deep copy\n",
    "  * crée un nouvel objet et insère de **manière récursive**  \n",
    "    une copie des objets trouvés dans l’original\n",
    "\n",
    "  * évite les boucles infinies"
   ]
  },
  {
   "cell_type": "code",
   "execution_count": null,
   "metadata": {
    "cell_style": "center",
    "run_control": {
     "frozen": false,
     "read_only": false
    },
    "slideshow": {
     "slide_type": "slide"
    }
   },
   "outputs": [],
   "source": [
    "%%ipythontutor heapPrimitives=true height=400 width=800 curInstr=1\n",
    "a = [1, 2]\n",
    "# cette fois-ci on (shallow) copie d'abord\n",
    "b = a[:] \n",
    "a[0] = 'spam'"
   ]
  },
  {
   "cell_type": "markdown",
   "metadata": {
    "run_control": {
     "frozen": false,
     "read_only": false
    },
    "slideshow": {
     "slide_type": "slide"
    }
   },
   "source": [
    "# mutable / immutable"
   ]
  },
  {
   "cell_type": "markdown",
   "metadata": {
    "run_control": {
     "frozen": false,
     "read_only": false
    },
    "slideshow": {
     "slide_type": ""
    }
   },
   "source": [
    "| type  | mutable ? |\n",
    "|-------|-----------|\n",
    "| *int* et autres nombres | immutable       |\n",
    "| *list* | **mutable**       |\n",
    "| *tuple* | immutable       |\n",
    "| *dict* | **mutable**       |\n",
    "| *set* | **mutable**       |\n",
    "| *frozenset* | immutable       |"
   ]
  },
  {
   "cell_type": "markdown",
   "metadata": {
    "run_control": {
     "frozen": false,
     "read_only": false
    },
    "slideshow": {
     "slide_type": ""
    }
   },
   "source": [
    "les types `tuple` et `frozenset` permettent notamment  \n",
    "de construire des **clés** pour les dictionnaires et autres ensembles"
   ]
  },
  {
   "cell_type": "markdown",
   "metadata": {
    "run_control": {
     "frozen": false,
     "read_only": false
    },
    "slideshow": {
     "slide_type": "slide"
    }
   },
   "source": [
    "# `is` et `==`"
   ]
  },
  {
   "cell_type": "markdown",
   "metadata": {
    "run_control": {
     "frozen": false,
     "read_only": false
    }
   },
   "source": [
    "* `obj1 is obj2`\n",
    "  * ssi obj1 et obj2 sont **le même objet**\n",
    "  * forme inverse: `obj1 is not obj2`"
   ]
  },
  {
   "cell_type": "markdown",
   "metadata": {
    "run_control": {
     "frozen": false,
     "read_only": false
    }
   },
   "source": [
    "* `obj1 == obj2`\n",
    "  * ssi **les valeurs des objets sont égales**\n",
    "  * forme inverse `obj1 != obj2`"
   ]
  },
  {
   "cell_type": "markdown",
   "metadata": {
    "run_control": {
     "frozen": false,
     "read_only": false
    },
    "slideshow": {
     "slide_type": "slide"
    }
   },
   "source": [
    "### `is` et `==`"
   ]
  },
  {
   "cell_type": "code",
   "execution_count": null,
   "metadata": {
    "cell_style": "split",
    "run_control": {
     "frozen": false,
     "read_only": false
    },
    "slideshow": {
     "slide_type": ""
    }
   },
   "outputs": [],
   "source": [
    "a = [0, 1, 2]\n",
    "b = a[:]\n",
    "a is b"
   ]
  },
  {
   "cell_type": "code",
   "execution_count": null,
   "metadata": {
    "cell_style": "split",
    "run_control": {
     "frozen": false,
     "read_only": false
    }
   },
   "outputs": [],
   "source": [
    "\n",
    "\n",
    "\n",
    "a == b"
   ]
  },
  {
   "cell_type": "code",
   "execution_count": null,
   "metadata": {
    "cell_style": "split",
    "run_control": {
     "frozen": false,
     "read_only": false
    }
   },
   "outputs": [],
   "source": [
    "c = d = [0, 1, 2]\n",
    "c is d"
   ]
  },
  {
   "cell_type": "code",
   "execution_count": null,
   "metadata": {
    "cell_style": "split",
    "run_control": {
     "frozen": false,
     "read_only": false
    }
   },
   "outputs": [],
   "source": [
    "c == a"
   ]
  },
  {
   "cell_type": "markdown",
   "metadata": {
    "run_control": {
     "frozen": false,
     "read_only": false
    },
    "slideshow": {
     "slide_type": "slide"
    }
   },
   "source": [
    "### copie profonde nécessaire ?"
   ]
  },
  {
   "cell_type": "code",
   "execution_count": null,
   "metadata": {
    "cell_style": "center",
    "run_control": {
     "frozen": false,
     "read_only": false
    },
    "slideshow": {
     "slide_type": "-"
    }
   },
   "outputs": [],
   "source": [
    "%%ipythontutor heapPrimitives=true height=600 width=800 curInstr=1\n",
    "a = [1, [2]]\n",
    "# on ne fait qu'une copie 'shallow'\n",
    "b = a[:]\n",
    "a[1][0] = 'spam'\n",
    "print(a)\n",
    "print(b)"
   ]
  },
  {
   "cell_type": "markdown",
   "metadata": {
    "run_control": {
     "frozen": false,
     "read_only": false
    },
    "slideshow": {
     "slide_type": "slide"
    }
   },
   "source": [
    "### avec une copie profonde"
   ]
  },
  {
   "cell_type": "code",
   "execution_count": null,
   "metadata": {
    "cell_style": "center",
    "run_control": {
     "frozen": false,
     "read_only": false
    },
    "slideshow": {}
   },
   "outputs": [],
   "source": [
    "%%ipythontutor heapPrimitives=true height=600 width=900 curInstr=2\n",
    "import copy\n",
    "a = [1, [2]]\n",
    "# avec une copie profonde on n'a plus de souci\n",
    "b = copy.deepcopy(a)\n",
    "a[1][0] = 'spam'\n",
    "print(a)\n",
    "print(b)"
   ]
  },
  {
   "cell_type": "markdown",
   "metadata": {
    "run_control": {
     "frozen": false,
     "read_only": false
    },
    "slideshow": {
     "slide_type": "slide"
    }
   },
   "source": [
    "### références partagées"
   ]
  },
  {
   "cell_type": "markdown",
   "metadata": {
    "cell_style": "center",
    "run_control": {
     "frozen": false,
     "read_only": false
    }
   },
   "source": [
    "un cas pathologique"
   ]
  },
  {
   "cell_type": "code",
   "execution_count": null,
   "metadata": {
    "cell_style": "center",
    "run_control": {
     "frozen": false,
     "read_only": false
    }
   },
   "outputs": [],
   "source": [
    "%%ipythontutor heapPrimitives=true height=400 width=900 curInstr=1\n",
    "\n",
    "repete = 4 * [[0]]\n",
    "print(f\"repete avant {repete}\")\n",
    "\n",
    "repete[0][0] = 1\n",
    "print(f\"repete après {repete}\")"
   ]
  },
  {
   "cell_type": "markdown",
   "metadata": {
    "run_control": {
     "frozen": false,
     "read_only": false
    },
    "slideshow": {
     "slide_type": "slide"
    }
   },
   "source": [
    "# gestion de la mémoire"
   ]
  },
  {
   "cell_type": "markdown",
   "metadata": {
    "run_control": {
     "frozen": false,
     "read_only": false
    }
   },
   "source": [
    "* Python sait réutiliser les objets  \n",
    "  *e.g.* les petits entiers - slide suivant\n",
    "\n",
    "* Python sait libérer les objets non utilisés (garbage collector)\n",
    "  * un objet sans référence est libéré\n",
    "  * contrôle via le module `gc`\n",
    "* chaque objet contient deux champs dans l’entête\n",
    "  * un champ désignant le typage - cf `type(obj)`\n",
    "  * un champ contenant un compteur de références  \n",
    "    voir `sys.getrefcount(obj)`      "
   ]
  },
  {
   "cell_type": "markdown",
   "metadata": {
    "run_control": {
     "frozen": false,
     "read_only": false
    },
    "slideshow": {
     "slide_type": "slide"
    }
   },
   "source": [
    "### optimisation interne à Python"
   ]
  },
  {
   "cell_type": "code",
   "execution_count": null,
   "metadata": {
    "cell_style": "split",
    "run_control": {
     "frozen": false,
     "read_only": false
    }
   },
   "outputs": [],
   "source": [
    "# avec cette forme \n",
    "# on crée deux objets liste\n",
    "L = [1, 2]\n",
    "M = [1, 2] # nouvel objet liste\n",
    "L is M"
   ]
  },
  {
   "cell_type": "code",
   "execution_count": null,
   "metadata": {
    "cell_style": "split",
    "run_control": {
     "frozen": false,
     "read_only": false
    }
   },
   "outputs": [],
   "source": [
    "# ici aussi on pourrait penser\n",
    "# créer deux objets int\n",
    "I = 18\n",
    "J = 18   # nouvel objet entier ?\n",
    "I is J   # non: partage\n",
    "         # (optimisation)"
   ]
  },
  {
   "cell_type": "markdown",
   "metadata": {},
   "source": [
    "* est-ce que ça pose un problème ?\n",
    "  * non ! l’optimisation n’est que pour des types **immutables**"
   ]
  },
  {
   "cell_type": "markdown",
   "metadata": {
    "run_control": {
     "frozen": false,
     "read_only": false
    },
    "slideshow": {
     "slide_type": "slide"
    }
   },
   "source": [
    "### exercice\n",
    "\n",
    "[filterlist](exos/references-filterlist.ipynb)"
   ]
  }
 ],
 "metadata": {
  "kernelspec": {
   "display_name": "Python 3",
   "language": "python",
   "name": "python3"
  },
  "language_info": {
   "codemirror_mode": {
    "name": "ipython",
    "version": 3
   },
   "file_extension": ".py",
   "mimetype": "text/x-python",
   "name": "python",
   "nbconvert_exporter": "python",
   "pygments_lexer": "ipython3",
   "version": "3.7.0"
  },
  "notebookname": "références partagées",
  "rise": {
   "autolaunch": true,
   "slideNumber": "c/t",
   "start_slideshow_at": "selected",
   "theme": "sky",
   "transition": "cube"
  },
  "toc": {
   "colors": {
    "hover_highlight": "#DAA520",
    "running_highlight": "#FF0000",
    "selected_highlight": "#FFD700"
   },
   "moveMenuLeft": true,
   "nav_menu": {
    "height": "297px",
    "width": "252px"
   },
   "navigate_menu": true,
   "number_sections": true,
   "sideBar": true,
   "threshold": "2",
   "toc_cell": false,
   "toc_section_display": "block",
   "toc_window_display": false,
   "widenNotebook": false
  },
  "version": "1.0"
 },
 "nbformat": 4,
 "nbformat_minor": 2
}
