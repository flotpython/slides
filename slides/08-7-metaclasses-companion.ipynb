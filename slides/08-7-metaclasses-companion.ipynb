{
 "cells": [
  {
   "cell_type": "markdown",
   "metadata": {
    "run_control": {
     "frozen": false,
     "read_only": false
    }
   },
   "source": [
    "<div class=\"licence\">\n",
    "<span>Licence CC BY-NC-ND</span>\n",
    "<span>Thierry Parmentelat &amp; Arnaud Legout</span>\n",
    "</div>"
   ]
  },
  {
   "cell_type": "code",
   "execution_count": null,
   "metadata": {},
   "outputs": [],
   "source": [
    "from plan import plan; plan(\"avancé\", \"métaclasse\")"
   ]
  },
  {
   "cell_type": "markdown",
   "metadata": {
    "slideshow": {
     "slide_type": "slide"
    }
   },
   "source": [
    "# avertissement"
   ]
  },
  {
   "cell_type": "markdown",
   "metadata": {},
   "source": [
    "ce notebook ne contient que des exemples, le corps de la présentation est pour l'instant resté [au format PowerPoint](15-metaclasses.pptx)"
   ]
  },
  {
   "cell_type": "markdown",
   "metadata": {
    "run_control": {
     "frozen": false,
     "read_only": false
    },
    "slideshow": {
     "slide_type": "slide"
    }
   },
   "source": [
    "# Exemple 1"
   ]
  },
  {
   "cell_type": "code",
   "execution_count": null,
   "metadata": {
    "run_control": {
     "frozen": false,
     "read_only": false
    }
   },
   "outputs": [],
   "source": [
    "class MaMetaClasse(type):\n",
    "    def __new__(meta, name, bases, classdict):\n",
    "        print(\"Avant la creation de l'objet classe\", name)\n",
    "        print(\"metaclasse :\", meta)\n",
    "        print(\"bases :\", bases)\n",
    "        print(\"dict :\", classdict)\n",
    "        return type.__new__(meta, name, bases, classdict)\n",
    "\n",
    "    def __init__(classe, name, bases, classdict):\n",
    "        type.__init__(classe, name, bases, classdict)\n",
    "        print(\"Apres la creation de la classe\", name)\n",
    "        print(\"classe :\", classe)\n",
    "        print(\"bases :\", bases)\n",
    "        print(\"dict :\", classdict)\n",
    "\n",
    "class C(metaclass=MaMetaClasse):\n",
    "    x = 1"
   ]
  },
  {
   "cell_type": "markdown",
   "metadata": {
    "run_control": {
     "frozen": false,
     "read_only": false
    },
    "slideshow": {
     "slide_type": "slide"
    }
   },
   "source": [
    "# Exemple 2"
   ]
  },
  {
   "cell_type": "code",
   "execution_count": null,
   "metadata": {
    "run_control": {
     "frozen": false,
     "read_only": false
    }
   },
   "outputs": [],
   "source": [
    "class UpperAttrMetaclass(type):\n",
    "    def __new__(cls, clsname, bases, dct):\n",
    "\n",
    "        uppercase_attr = {}\n",
    "        # on met les noms des attributs non spéciaux\n",
    "        # en minuscule (aussi)\n",
    "        for name, val in dct.items():\n",
    "            if not name.startswith('__'):\n",
    "                uppercase_attr[name.lower()] = val\n",
    "            uppercase_attr[name] = val\n",
    "        # on spécifie une super-classe\n",
    "        # on aurait pu aussi l'ajouter...\n",
    "        bases = (BaseOfAll,)\n",
    "        return type.__new__(cls, clsname, bases, uppercase_attr)\n",
    "\n",
    "class BaseOfAll:\n",
    "    def common_func(self):\n",
    "        return \"in common_func\"\n",
    "\n",
    "class C(metaclass=UpperAttrMetaclass):\n",
    "    def funC_bAd_CAP(self):\n",
    "        pass"
   ]
  },
  {
   "cell_type": "code",
   "execution_count": null,
   "metadata": {
    "run_control": {
     "frozen": false,
     "read_only": false
    },
    "slideshow": {
     "slide_type": "slide"
    }
   },
   "outputs": [],
   "source": [
    "c = C()\n",
    "# une instance a la méthode common_func\n",
    "# parce qu'on a fait hériter C de BaseOfAll\n",
    "'common_func' in dir(c)"
   ]
  },
  {
   "cell_type": "code",
   "execution_count": null,
   "metadata": {
    "run_control": {
     "frozen": false,
     "read_only": false
    }
   },
   "outputs": [],
   "source": [
    "# elle a aussi la méthode 'func_bad_cap'\n",
    "'func_bad_cap' in dir(c)"
   ]
  },
  {
   "cell_type": "code",
   "execution_count": null,
   "metadata": {
    "run_control": {
     "frozen": false,
     "read_only": false
    }
   },
   "outputs": [],
   "source": [
    "# qu'on retrouve dans la classe\n",
    "print(C.__dict__.keys())"
   ]
  },
  {
   "cell_type": "code",
   "execution_count": null,
   "metadata": {
    "run_control": {
     "frozen": false,
     "read_only": false
    }
   },
   "outputs": [],
   "source": [
    "# et la super classe de C est bien BaseOfAll\n",
    "# heureusement pour nous BaseOfAll hérite de object\n",
    "print(C.__bases__)"
   ]
  },
  {
   "cell_type": "code",
   "execution_count": null,
   "metadata": {
    "run_control": {
     "frozen": false,
     "read_only": false
    }
   },
   "outputs": [],
   "source": [
    "print(c.common_func())"
   ]
  },
  {
   "cell_type": "markdown",
   "metadata": {
    "run_control": {
     "frozen": false,
     "read_only": false
    },
    "slideshow": {
     "slide_type": "slide"
    }
   },
   "source": [
    "# Exemple 3"
   ]
  },
  {
   "cell_type": "code",
   "execution_count": null,
   "metadata": {
    "run_control": {
     "frozen": false,
     "read_only": false
    }
   },
   "outputs": [],
   "source": [
    "class meta(type):\n",
    "    def __new__(meta, name, bases, classdict):\n",
    "        return type.__new__(meta, name, bases, classdict)\n",
    "\n",
    "class A(metaclass=meta):\n",
    "    pass\n",
    "\n",
    "class B(A):\n",
    "    pass\n",
    "\n",
    "print(type(A))\n",
    "print(type(A()))"
   ]
  },
  {
   "cell_type": "code",
   "execution_count": null,
   "metadata": {
    "run_control": {
     "frozen": false,
     "read_only": false
    }
   },
   "outputs": [],
   "source": [
    "print(type(B))\n",
    "print(type(B()))"
   ]
  },
  {
   "cell_type": "code",
   "execution_count": null,
   "metadata": {
    "run_control": {
     "frozen": false,
     "read_only": false
    }
   },
   "outputs": [],
   "source": [
    "# et bien sûr\n",
    "type(meta)"
   ]
  },
  {
   "cell_type": "markdown",
   "metadata": {
    "run_control": {
     "frozen": false,
     "read_only": false
    },
    "slideshow": {
     "slide_type": "slide"
    }
   },
   "source": [
    "# Exemple 4"
   ]
  },
  {
   "cell_type": "code",
   "execution_count": null,
   "metadata": {
    "run_control": {
     "frozen": false,
     "read_only": false
    }
   },
   "outputs": [],
   "source": [
    "class meta(type):\n",
    "    x = y = z = \"meta\"\n",
    "    def __new__(meta, name, bases, classdict):\n",
    "        return type.__new__(meta, name, bases, classdict)\n",
    "\n",
    "class A(metaclass=meta):\n",
    "    x = y = \"A\"\n",
    "    pass\n",
    "\n",
    "class B(A):\n",
    "    x = \"B\"\n",
    "    pass\n",
    "\n",
    "b = B()\n",
    "\n",
    "# sur la classe\n",
    "print(\"B.x: {}\\nB.y: {}\\nB.z: {}\\n\".format(B.x, B.y, B.z))"
   ]
  },
  {
   "cell_type": "code",
   "execution_count": null,
   "metadata": {
    "run_control": {
     "frozen": false,
     "read_only": false
    }
   },
   "outputs": [],
   "source": [
    "# sur l'instance: x et y trouvés \n",
    "print(\"B().x: {}\\nB().y: {}\".format(B().x, B().y))"
   ]
  },
  {
   "cell_type": "code",
   "execution_count": null,
   "metadata": {
    "run_control": {
     "frozen": false,
     "read_only": false
    }
   },
   "outputs": [],
   "source": [
    "# mais pas z qui n'est que dans la métaclasse\n",
    "try: \n",
    "    print(\"B().z: {}\\n\".format(B().z)) # AttributeError\n",
    "except AttributeError as e:\n",
    "    print(\"OOPS\", e)"
   ]
  }
 ],
 "metadata": {
  "kernelspec": {
   "display_name": "Python 3",
   "language": "python",
   "name": "python3"
  },
  "language_info": {
   "codemirror_mode": {
    "name": "ipython",
    "version": 3
   },
   "file_extension": ".py",
   "mimetype": "text/x-python",
   "name": "python",
   "nbconvert_exporter": "python",
   "pygments_lexer": "ipython3",
   "version": "3.7.0"
  },
  "notebookname": "Exemple 1",
  "rise": {
   "autolaunch": true,
   "backimage": "media/nologo.png",
   "slideNumber": "c/t",
   "start_slideshow_at": "selected",
   "theme": "sky",
   "transition": "cube"
  },
  "toc": {
   "colors": {
    "hover_highlight": "#DAA520",
    "running_highlight": "#FF0000",
    "selected_highlight": "#FFD700"
   },
   "moveMenuLeft": true,
   "nav_menu": {
    "height": "66px",
    "width": "252px"
   },
   "navigate_menu": true,
   "number_sections": true,
   "sideBar": true,
   "threshold": "2",
   "toc_cell": false,
   "toc_section_display": "block",
   "toc_window_display": false,
   "widenNotebook": false
  },
  "version": "1.0"
 },
 "nbformat": 4,
 "nbformat_minor": 2
}
